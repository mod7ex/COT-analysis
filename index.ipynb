{
 "cells": [
  {
   "cell_type": "code",
   "execution_count": 1,
   "id": "a003575d",
   "metadata": {},
   "outputs": [],
   "source": [
    "import pandas as pd\n",
    "from index import cot_all"
   ]
  },
  {
   "cell_type": "code",
   "execution_count": 2,
   "id": "e416a14a",
   "metadata": {},
   "outputs": [
    {
     "name": "stdout",
     "output_type": "stream",
     "text": [
      "Selected: COT Legacy report. Futures only.\n",
      "Downloaded & Stored the extracted file FUT86_16.txt in the directory data\n",
      "Selected: legacy_fut\n",
      "Loading single year data from: 2017\n",
      "Downloaded & Stored the extracted file annual.txt in the directory data\n",
      "Selected: legacy_fut\n",
      "Loading single year data from: 2018\n",
      "Downloaded & Stored the extracted file annual.txt in the directory data\n",
      "Selected: legacy_fut\n",
      "Loading single year data from: 2019\n",
      "Downloaded & Stored the extracted file annual.txt in the directory data\n",
      "Selected: legacy_fut\n",
      "Loading single year data from: 2020\n",
      "Downloaded & Stored the extracted file annual.txt in the directory data\n",
      "Selected: legacy_fut\n",
      "Loading single year data from: 2021\n",
      "Downloaded & Stored the extracted file annual.txt in the directory data\n",
      "Selected: legacy_fut\n",
      "Loading single year data from: 2022\n",
      "Downloaded & Stored the extracted file annual.txt in the directory data\n",
      "Selected: legacy_fut\n",
      "Loading single year data from: 2023\n",
      "Downloaded & Stored the extracted file annual.txt in the directory data\n",
      "Selected: legacy_fut\n",
      "Loading single year data from: 2024\n",
      "Downloaded & Stored the extracted file annual.txt in the directory data\n",
      "Selected: legacy_fut\n",
      "Loading single year data from: 2025\n",
      "Downloaded & Stored the extracted file annual.txt in the directory data\n",
      "data cached in the file legacy_fut.csv under the directory: /home/mod7ex/cot-py/data\n"
     ]
    }
   ],
   "source": [
    "df = cot_all()"
   ]
  },
  {
   "cell_type": "markdown",
   "id": "b76602fe",
   "metadata": {},
   "source": [
    "> pick the asset you want"
   ]
  },
  {
   "cell_type": "code",
   "execution_count": 3,
   "id": "51675da5",
   "metadata": {},
   "outputs": [],
   "source": [
    "ASSET_CODE = '088691'\n",
    "\n",
    "# df[(df['Open Interest (Other)']!= 0) & (df['CFTC Contract Market Code'] == ASSET_CODE)]\n",
    "\n",
    "df = df[df['CFTC Contract Market Code'] == ASSET_CODE]"
   ]
  },
  {
   "cell_type": "code",
   "execution_count": 4,
   "id": "620834c3",
   "metadata": {},
   "outputs": [
    {
     "data": {
      "text/html": [
       "<div>\n",
       "<style scoped>\n",
       "    .dataframe tbody tr th:only-of-type {\n",
       "        vertical-align: middle;\n",
       "    }\n",
       "\n",
       "    .dataframe tbody tr th {\n",
       "        vertical-align: top;\n",
       "    }\n",
       "\n",
       "    .dataframe thead th {\n",
       "        text-align: right;\n",
       "    }\n",
       "</style>\n",
       "<table border=\"1\" class=\"dataframe\">\n",
       "  <thead>\n",
       "    <tr style=\"text-align: right;\">\n",
       "      <th></th>\n",
       "      <th>Market and Exchange Names</th>\n",
       "      <th>As of Date in Form YYMMDD</th>\n",
       "      <th>CFTC Contract Market Code</th>\n",
       "      <th>CFTC Market Code in Initials</th>\n",
       "      <th>CFTC Region Code</th>\n",
       "      <th>CFTC Commodity Code</th>\n",
       "      <th>Open Interest (All)</th>\n",
       "      <th>Noncommercial Positions-Long (All)</th>\n",
       "      <th>Noncommercial Positions-Short (All)</th>\n",
       "      <th>Noncommercial Positions-Spreading (All)</th>\n",
       "      <th>...</th>\n",
       "      <th>Concentration-Gross LT =8 TDR-Long (Other)</th>\n",
       "      <th>Concentration-Gross LT =8 TDR-Short(Other)</th>\n",
       "      <th>Concentration-Net LT =4 TDR-Long (Other)</th>\n",
       "      <th>Concentration-Net LT =4 TDR-Short (Other)</th>\n",
       "      <th>Concentration-Net LT =8 TDR-Long (Other)</th>\n",
       "      <th>Concentration-Net LT =8 TDR-Short (Other)</th>\n",
       "      <th>Contract Units</th>\n",
       "      <th>CFTC Contract Market Code (Quotes)</th>\n",
       "      <th>CFTC Market Code in Initials (Quotes)</th>\n",
       "      <th>CFTC Commodity Code (Quotes)</th>\n",
       "    </tr>\n",
       "    <tr>\n",
       "      <th>Date</th>\n",
       "      <th></th>\n",
       "      <th></th>\n",
       "      <th></th>\n",
       "      <th></th>\n",
       "      <th></th>\n",
       "      <th></th>\n",
       "      <th></th>\n",
       "      <th></th>\n",
       "      <th></th>\n",
       "      <th></th>\n",
       "      <th></th>\n",
       "      <th></th>\n",
       "      <th></th>\n",
       "      <th></th>\n",
       "      <th></th>\n",
       "      <th></th>\n",
       "      <th></th>\n",
       "      <th></th>\n",
       "      <th></th>\n",
       "      <th></th>\n",
       "      <th></th>\n",
       "    </tr>\n",
       "  </thead>\n",
       "  <tbody>\n",
       "    <tr>\n",
       "      <th>1986-01-15</th>\n",
       "      <td>GOLD - COMMODITY EXCHANGE INC.</td>\n",
       "      <td>860115</td>\n",
       "      <td>088691</td>\n",
       "      <td>CMX</td>\n",
       "      <td>1</td>\n",
       "      <td>88</td>\n",
       "      <td>148186</td>\n",
       "      <td>18589</td>\n",
       "      <td>7706</td>\n",
       "      <td>12038</td>\n",
       "      <td>...</td>\n",
       "      <td>83.6</td>\n",
       "      <td>73.6</td>\n",
       "      <td>21.5</td>\n",
       "      <td>17.8</td>\n",
       "      <td>25.4</td>\n",
       "      <td>23.1</td>\n",
       "      <td>(CONTRACTS OF 100 TROY OUNCES)</td>\n",
       "      <td>088691</td>\n",
       "      <td>CMX</td>\n",
       "      <td>88</td>\n",
       "    </tr>\n",
       "    <tr>\n",
       "      <th>1986-01-31</th>\n",
       "      <td>GOLD - COMMODITY EXCHANGE INC.</td>\n",
       "      <td>860131</td>\n",
       "      <td>088691</td>\n",
       "      <td>CMX</td>\n",
       "      <td>1</td>\n",
       "      <td>88</td>\n",
       "      <td>144149</td>\n",
       "      <td>15364</td>\n",
       "      <td>9303</td>\n",
       "      <td>10088</td>\n",
       "      <td>...</td>\n",
       "      <td>75.7</td>\n",
       "      <td>73.7</td>\n",
       "      <td>21.9</td>\n",
       "      <td>25.7</td>\n",
       "      <td>28.8</td>\n",
       "      <td>30.3</td>\n",
       "      <td>(CONTRACTS OF 100 TROY OUNCES)</td>\n",
       "      <td>088691</td>\n",
       "      <td>CMX</td>\n",
       "      <td>88</td>\n",
       "    </tr>\n",
       "    <tr>\n",
       "      <th>1986-02-14</th>\n",
       "      <td>GOLD - COMMODITY EXCHANGE INC.</td>\n",
       "      <td>860214</td>\n",
       "      <td>088691</td>\n",
       "      <td>CMX</td>\n",
       "      <td>1</td>\n",
       "      <td>88</td>\n",
       "      <td>139995</td>\n",
       "      <td>5457</td>\n",
       "      <td>12229</td>\n",
       "      <td>10330</td>\n",
       "      <td>...</td>\n",
       "      <td>75.7</td>\n",
       "      <td>77.0</td>\n",
       "      <td>19.6</td>\n",
       "      <td>25.9</td>\n",
       "      <td>26.3</td>\n",
       "      <td>30.1</td>\n",
       "      <td>(CONTRACTS OF 100 TROY OUNCES)</td>\n",
       "      <td>088691</td>\n",
       "      <td>CMX</td>\n",
       "      <td>88</td>\n",
       "    </tr>\n",
       "    <tr>\n",
       "      <th>1986-02-28</th>\n",
       "      <td>GOLD - COMMODITY EXCHANGE INC.</td>\n",
       "      <td>860228</td>\n",
       "      <td>088691</td>\n",
       "      <td>CMX</td>\n",
       "      <td>1</td>\n",
       "      <td>88</td>\n",
       "      <td>143752</td>\n",
       "      <td>7991</td>\n",
       "      <td>12222</td>\n",
       "      <td>13205</td>\n",
       "      <td>...</td>\n",
       "      <td>76.1</td>\n",
       "      <td>77.6</td>\n",
       "      <td>19.4</td>\n",
       "      <td>26.5</td>\n",
       "      <td>26.0</td>\n",
       "      <td>29.5</td>\n",
       "      <td>(CONTRACTS OF 100 TROY OUNCES)</td>\n",
       "      <td>088691</td>\n",
       "      <td>CMX</td>\n",
       "      <td>88</td>\n",
       "    </tr>\n",
       "    <tr>\n",
       "      <th>1986-03-14</th>\n",
       "      <td>GOLD - COMMODITY EXCHANGE INC.</td>\n",
       "      <td>860314</td>\n",
       "      <td>088691</td>\n",
       "      <td>CMX</td>\n",
       "      <td>1</td>\n",
       "      <td>88</td>\n",
       "      <td>142868</td>\n",
       "      <td>12637</td>\n",
       "      <td>11015</td>\n",
       "      <td>11390</td>\n",
       "      <td>...</td>\n",
       "      <td>76.8</td>\n",
       "      <td>77.0</td>\n",
       "      <td>20.4</td>\n",
       "      <td>25.9</td>\n",
       "      <td>27.7</td>\n",
       "      <td>27.4</td>\n",
       "      <td>(CONTRACTS OF 100 TROY OUNCES)</td>\n",
       "      <td>088691</td>\n",
       "      <td>CMX</td>\n",
       "      <td>88</td>\n",
       "    </tr>\n",
       "  </tbody>\n",
       "</table>\n",
       "<p>5 rows × 128 columns</p>\n",
       "</div>"
      ],
      "text/plain": [
       "                 Market and Exchange Names  As of Date in Form YYMMDD  \\\n",
       "Date                                                                    \n",
       "1986-01-15  GOLD - COMMODITY EXCHANGE INC.                     860115   \n",
       "1986-01-31  GOLD - COMMODITY EXCHANGE INC.                     860131   \n",
       "1986-02-14  GOLD - COMMODITY EXCHANGE INC.                     860214   \n",
       "1986-02-28  GOLD - COMMODITY EXCHANGE INC.                     860228   \n",
       "1986-03-14  GOLD - COMMODITY EXCHANGE INC.                     860314   \n",
       "\n",
       "           CFTC Contract Market Code CFTC Market Code in Initials  \\\n",
       "Date                                                                \n",
       "1986-01-15                    088691                          CMX   \n",
       "1986-01-31                    088691                          CMX   \n",
       "1986-02-14                    088691                          CMX   \n",
       "1986-02-28                    088691                          CMX   \n",
       "1986-03-14                    088691                          CMX   \n",
       "\n",
       "            CFTC Region Code  CFTC Commodity Code  Open Interest (All)  \\\n",
       "Date                                                                     \n",
       "1986-01-15                 1                   88               148186   \n",
       "1986-01-31                 1                   88               144149   \n",
       "1986-02-14                 1                   88               139995   \n",
       "1986-02-28                 1                   88               143752   \n",
       "1986-03-14                 1                   88               142868   \n",
       "\n",
       "            Noncommercial Positions-Long (All)  \\\n",
       "Date                                             \n",
       "1986-01-15                               18589   \n",
       "1986-01-31                               15364   \n",
       "1986-02-14                                5457   \n",
       "1986-02-28                                7991   \n",
       "1986-03-14                               12637   \n",
       "\n",
       "            Noncommercial Positions-Short (All)  \\\n",
       "Date                                              \n",
       "1986-01-15                                 7706   \n",
       "1986-01-31                                 9303   \n",
       "1986-02-14                                12229   \n",
       "1986-02-28                                12222   \n",
       "1986-03-14                                11015   \n",
       "\n",
       "            Noncommercial Positions-Spreading (All)  ...  \\\n",
       "Date                                                 ...   \n",
       "1986-01-15                                    12038  ...   \n",
       "1986-01-31                                    10088  ...   \n",
       "1986-02-14                                    10330  ...   \n",
       "1986-02-28                                    13205  ...   \n",
       "1986-03-14                                    11390  ...   \n",
       "\n",
       "            Concentration-Gross LT =8 TDR-Long (Other)  \\\n",
       "Date                                                     \n",
       "1986-01-15                                        83.6   \n",
       "1986-01-31                                        75.7   \n",
       "1986-02-14                                        75.7   \n",
       "1986-02-28                                        76.1   \n",
       "1986-03-14                                        76.8   \n",
       "\n",
       "            Concentration-Gross LT =8 TDR-Short(Other)  \\\n",
       "Date                                                     \n",
       "1986-01-15                                        73.6   \n",
       "1986-01-31                                        73.7   \n",
       "1986-02-14                                        77.0   \n",
       "1986-02-28                                        77.6   \n",
       "1986-03-14                                        77.0   \n",
       "\n",
       "            Concentration-Net LT =4 TDR-Long (Other)  \\\n",
       "Date                                                   \n",
       "1986-01-15                                      21.5   \n",
       "1986-01-31                                      21.9   \n",
       "1986-02-14                                      19.6   \n",
       "1986-02-28                                      19.4   \n",
       "1986-03-14                                      20.4   \n",
       "\n",
       "            Concentration-Net LT =4 TDR-Short (Other)  \\\n",
       "Date                                                    \n",
       "1986-01-15                                       17.8   \n",
       "1986-01-31                                       25.7   \n",
       "1986-02-14                                       25.9   \n",
       "1986-02-28                                       26.5   \n",
       "1986-03-14                                       25.9   \n",
       "\n",
       "            Concentration-Net LT =8 TDR-Long (Other)  \\\n",
       "Date                                                   \n",
       "1986-01-15                                      25.4   \n",
       "1986-01-31                                      28.8   \n",
       "1986-02-14                                      26.3   \n",
       "1986-02-28                                      26.0   \n",
       "1986-03-14                                      27.7   \n",
       "\n",
       "            Concentration-Net LT =8 TDR-Short (Other)  \\\n",
       "Date                                                    \n",
       "1986-01-15                                       23.1   \n",
       "1986-01-31                                       30.3   \n",
       "1986-02-14                                       30.1   \n",
       "1986-02-28                                       29.5   \n",
       "1986-03-14                                       27.4   \n",
       "\n",
       "                            Contract Units  \\\n",
       "Date                                         \n",
       "1986-01-15  (CONTRACTS OF 100 TROY OUNCES)   \n",
       "1986-01-31  (CONTRACTS OF 100 TROY OUNCES)   \n",
       "1986-02-14  (CONTRACTS OF 100 TROY OUNCES)   \n",
       "1986-02-28  (CONTRACTS OF 100 TROY OUNCES)   \n",
       "1986-03-14  (CONTRACTS OF 100 TROY OUNCES)   \n",
       "\n",
       "            CFTC Contract Market Code (Quotes)  \\\n",
       "Date                                             \n",
       "1986-01-15                              088691   \n",
       "1986-01-31                              088691   \n",
       "1986-02-14                              088691   \n",
       "1986-02-28                              088691   \n",
       "1986-03-14                              088691   \n",
       "\n",
       "            CFTC Market Code in Initials (Quotes)  \\\n",
       "Date                                                \n",
       "1986-01-15                                    CMX   \n",
       "1986-01-31                                    CMX   \n",
       "1986-02-14                                    CMX   \n",
       "1986-02-28                                    CMX   \n",
       "1986-03-14                                    CMX   \n",
       "\n",
       "            CFTC Commodity Code (Quotes)  \n",
       "Date                                      \n",
       "1986-01-15                            88  \n",
       "1986-01-31                            88  \n",
       "1986-02-14                            88  \n",
       "1986-02-28                            88  \n",
       "1986-03-14                            88  \n",
       "\n",
       "[5 rows x 128 columns]"
      ]
     },
     "execution_count": 4,
     "metadata": {},
     "output_type": "execute_result"
    }
   ],
   "source": [
    "df = df.rename(columns={'As of Date in Form YYYY-MM-DD': 'Date'})\n",
    "\n",
    "df['Date'] = pd.to_datetime(df['Date'])\n",
    "\n",
    "df.set_index('Date', inplace=True)\n",
    "\n",
    "df.sort_index(inplace=True)\n",
    "\n",
    "df.head()"
   ]
  },
  {
   "cell_type": "markdown",
   "id": "80de0677",
   "metadata": {},
   "source": [
    "## Net Positions"
   ]
  },
  {
   "cell_type": "markdown",
   "id": "53c63bb3",
   "metadata": {},
   "source": [
    "---\n",
    "\n",
    "> Commercial (Long) = Producer/Merchant/Processor/User(Long) + Swap Dealers(Long) + Swap Dealers(Spreading)\n",
    "\n",
    "> Commercial (Short) = Producer/Merchant/Processor/User(Short) + Swap Dealers(Short) + Swap Dealers(Spreading)\n",
    "\n",
    "> Non-Commercial (Long) = Managed Money(Long) + Other Reportables(Long) \n",
    "\n",
    "> Non-Commercial (Short) = Managed Money(Short) + Other Reportables(Short) \n",
    "\n",
    "> Non-Commercial (Spreading) = Managed Money(Spreading) + Other Reportables(Spreading) "
   ]
  },
  {
   "cell_type": "code",
   "execution_count": 5,
   "id": "6e3287ef",
   "metadata": {},
   "outputs": [
    {
     "data": {
      "text/html": [
       "<div>\n",
       "<style scoped>\n",
       "    .dataframe tbody tr th:only-of-type {\n",
       "        vertical-align: middle;\n",
       "    }\n",
       "\n",
       "    .dataframe tbody tr th {\n",
       "        vertical-align: top;\n",
       "    }\n",
       "\n",
       "    .dataframe thead th {\n",
       "        text-align: right;\n",
       "    }\n",
       "</style>\n",
       "<table border=\"1\" class=\"dataframe\">\n",
       "  <thead>\n",
       "    <tr style=\"text-align: right;\">\n",
       "      <th></th>\n",
       "      <th>Commercial_Net_Position</th>\n",
       "      <th>Large_Speculators_Net_Position</th>\n",
       "      <th>Small_Traders_Net_Position</th>\n",
       "    </tr>\n",
       "    <tr>\n",
       "      <th>Date</th>\n",
       "      <th></th>\n",
       "      <th></th>\n",
       "      <th></th>\n",
       "    </tr>\n",
       "  </thead>\n",
       "  <tbody>\n",
       "    <tr>\n",
       "      <th>1986-01-15</th>\n",
       "      <td>-9028</td>\n",
       "      <td>10883</td>\n",
       "      <td>-1855</td>\n",
       "    </tr>\n",
       "    <tr>\n",
       "      <th>1986-01-31</th>\n",
       "      <td>-2988</td>\n",
       "      <td>6061</td>\n",
       "      <td>-3073</td>\n",
       "    </tr>\n",
       "    <tr>\n",
       "      <th>1986-02-14</th>\n",
       "      <td>18095</td>\n",
       "      <td>-6772</td>\n",
       "      <td>-11323</td>\n",
       "    </tr>\n",
       "    <tr>\n",
       "      <th>1986-02-28</th>\n",
       "      <td>17926</td>\n",
       "      <td>-4231</td>\n",
       "      <td>-13695</td>\n",
       "    </tr>\n",
       "    <tr>\n",
       "      <th>1986-03-14</th>\n",
       "      <td>7272</td>\n",
       "      <td>1622</td>\n",
       "      <td>-8894</td>\n",
       "    </tr>\n",
       "  </tbody>\n",
       "</table>\n",
       "</div>"
      ],
      "text/plain": [
       "            Commercial_Net_Position  Large_Speculators_Net_Position  \\\n",
       "Date                                                                  \n",
       "1986-01-15                    -9028                           10883   \n",
       "1986-01-31                    -2988                            6061   \n",
       "1986-02-14                    18095                           -6772   \n",
       "1986-02-28                    17926                           -4231   \n",
       "1986-03-14                     7272                            1622   \n",
       "\n",
       "            Small_Traders_Net_Position  \n",
       "Date                                    \n",
       "1986-01-15                       -1855  \n",
       "1986-01-31                       -3073  \n",
       "1986-02-14                      -11323  \n",
       "1986-02-28                      -13695  \n",
       "1986-03-14                       -8894  "
      ]
     },
     "execution_count": 5,
     "metadata": {},
     "output_type": "execute_result"
    }
   ],
   "source": [
    "df['Commercial_Net_Position'] = df['Commercial Positions-Long (All)'] - df['Commercial Positions-Short (All)']\n",
    "df['Large_Speculators_Net_Position'] = df['Noncommercial Positions-Long (All)'] - df['Noncommercial Positions-Short (All)']\n",
    "df['Small_Traders_Net_Position'] = df['Nonreportable Positions-Long (All)'] - df['Nonreportable Positions-Short (All)']\n",
    "\n",
    "df[['Commercial_Net_Position', 'Large_Speculators_Net_Position', 'Small_Traders_Net_Position']].head()"
   ]
  },
  {
   "cell_type": "markdown",
   "id": "3618a300",
   "metadata": {},
   "source": [
    "## COT Index"
   ]
  },
  {
   "cell_type": "markdown",
   "id": "940b68cb",
   "metadata": {},
   "source": [
    "The Commitments of Traders (COT) Index is calculated as:\n",
    "\n",
    "$$\n",
    "\\text{COT Index} = \\left( \\frac{P_{\\text{current}} - P_{\\min}}{P_{\\max} - P_{\\min}} \\right) \\times 100\n",
    "$$\n",
    "\n",
    "Where:\n",
    "\n",
    "$ P_{\\text{current}} $: Current Net Position <br>\n",
    "$ P_{\\min} $: Lowest Net Position in the past  N  period <br>\n",
    "$ P_{\\max} $: Highest Net Position in the past  N  periods <br>\n",
    "$ N $: Number of periods used in the lookback window\n",
    "\n",
    "\n",
    "| Strategy                         | Recommended COT Index Period (N) | Notes                                                           |\n",
    "| -------------------------------- | -------------------------------- | --------------------------------------------------------------- |\n",
    "| **Swing Trading**                | **26 weeks** (6 months)          | Most popular. Balances short-term moves and sentiment extremes. |\n",
    "| **Position Trading / Long-Term** | **52 weeks** (1 year)            | Captures major sentiment extremes and long-term reversals.      |\n",
    "| **Short-Term Trading**           | **13 weeks** (3 months)          | More sensitive to recent changes, but can be noisy.             |\n",
    "| **Contrarian Approach**          | Use 26–52 weeks                  | To spot positioning at sentiment extremes (close to 0 or 100).  |"
   ]
  },
  {
   "cell_type": "code",
   "execution_count": 6,
   "id": "52e7f441",
   "metadata": {},
   "outputs": [
    {
     "data": {
      "text/html": [
       "<div>\n",
       "<style scoped>\n",
       "    .dataframe tbody tr th:only-of-type {\n",
       "        vertical-align: middle;\n",
       "    }\n",
       "\n",
       "    .dataframe tbody tr th {\n",
       "        vertical-align: top;\n",
       "    }\n",
       "\n",
       "    .dataframe thead th {\n",
       "        text-align: right;\n",
       "    }\n",
       "</style>\n",
       "<table border=\"1\" class=\"dataframe\">\n",
       "  <thead>\n",
       "    <tr style=\"text-align: right;\">\n",
       "      <th></th>\n",
       "      <th>Commercial_Net_Position</th>\n",
       "      <th>Large_Speculators_Net_Position</th>\n",
       "      <th>Small_Traders_Net_Position</th>\n",
       "      <th>COT_Index</th>\n",
       "    </tr>\n",
       "    <tr>\n",
       "      <th>Date</th>\n",
       "      <th></th>\n",
       "      <th></th>\n",
       "      <th></th>\n",
       "      <th></th>\n",
       "    </tr>\n",
       "  </thead>\n",
       "  <tbody>\n",
       "    <tr>\n",
       "      <th>2025-06-17</th>\n",
       "      <td>-237727</td>\n",
       "      <td>200648</td>\n",
       "      <td>37079</td>\n",
       "      <td>65.821532</td>\n",
       "    </tr>\n",
       "    <tr>\n",
       "      <th>2025-06-24</th>\n",
       "      <td>-230560</td>\n",
       "      <td>195004</td>\n",
       "      <td>35556</td>\n",
       "      <td>71.037158</td>\n",
       "    </tr>\n",
       "    <tr>\n",
       "      <th>2025-07-01</th>\n",
       "      <td>-236069</td>\n",
       "      <td>201980</td>\n",
       "      <td>34089</td>\n",
       "      <td>67.028105</td>\n",
       "    </tr>\n",
       "    <tr>\n",
       "      <th>2025-07-08</th>\n",
       "      <td>-238354</td>\n",
       "      <td>202968</td>\n",
       "      <td>35386</td>\n",
       "      <td>65.365247</td>\n",
       "    </tr>\n",
       "    <tr>\n",
       "      <th>2025-07-15</th>\n",
       "      <td>-250688</td>\n",
       "      <td>213115</td>\n",
       "      <td>37573</td>\n",
       "      <td>56.389451</td>\n",
       "    </tr>\n",
       "  </tbody>\n",
       "</table>\n",
       "</div>"
      ],
      "text/plain": [
       "            Commercial_Net_Position  Large_Speculators_Net_Position  \\\n",
       "Date                                                                  \n",
       "2025-06-17                  -237727                          200648   \n",
       "2025-06-24                  -230560                          195004   \n",
       "2025-07-01                  -236069                          201980   \n",
       "2025-07-08                  -238354                          202968   \n",
       "2025-07-15                  -250688                          213115   \n",
       "\n",
       "            Small_Traders_Net_Position  COT_Index  \n",
       "Date                                               \n",
       "2025-06-17                       37079  65.821532  \n",
       "2025-06-24                       35556  71.037158  \n",
       "2025-07-01                       34089  67.028105  \n",
       "2025-07-08                       35386  65.365247  \n",
       "2025-07-15                       37573  56.389451  "
      ]
     },
     "execution_count": 6,
     "metadata": {},
     "output_type": "execute_result"
    }
   ],
   "source": [
    "window = 26 # Rolling window for the last N weeks\n",
    "\n",
    "df['Max_Net_Position_Last_N'] = df['Commercial_Net_Position'].rolling(window=window).max()\n",
    "\n",
    "df['Min_Net_Position_Last_N'] = df['Commercial_Net_Position'].rolling(window=window).min()\n",
    "\n",
    "# df.dropna(inplace=True)\n",
    "\n",
    "df['COT_Index'] = 100 * (df['Commercial_Net_Position'] - df['Min_Net_Position_Last_N'])/(df['Max_Net_Position_Last_N'] - df['Min_Net_Position_Last_N'])\n",
    "\n",
    "df[['Commercial_Net_Position', 'Large_Speculators_Net_Position', 'Small_Traders_Net_Position', 'COT_Index']].tail()"
   ]
  },
  {
   "cell_type": "markdown",
   "id": "d31be841",
   "metadata": {},
   "source": [
    "## Filter by time"
   ]
  },
  {
   "cell_type": "code",
   "execution_count": 7,
   "id": "4bddd284",
   "metadata": {},
   "outputs": [
    {
     "data": {
      "text/html": [
       "<div>\n",
       "<style scoped>\n",
       "    .dataframe tbody tr th:only-of-type {\n",
       "        vertical-align: middle;\n",
       "    }\n",
       "\n",
       "    .dataframe tbody tr th {\n",
       "        vertical-align: top;\n",
       "    }\n",
       "\n",
       "    .dataframe thead th {\n",
       "        text-align: right;\n",
       "    }\n",
       "</style>\n",
       "<table border=\"1\" class=\"dataframe\">\n",
       "  <thead>\n",
       "    <tr style=\"text-align: right;\">\n",
       "      <th></th>\n",
       "      <th>Commercial_Net_Position</th>\n",
       "      <th>Large_Speculators_Net_Position</th>\n",
       "      <th>Small_Traders_Net_Position</th>\n",
       "      <th>COT_Index</th>\n",
       "      <th>OI</th>\n",
       "    </tr>\n",
       "    <tr>\n",
       "      <th>Date</th>\n",
       "      <th></th>\n",
       "      <th></th>\n",
       "      <th></th>\n",
       "      <th></th>\n",
       "      <th></th>\n",
       "    </tr>\n",
       "  </thead>\n",
       "  <tbody>\n",
       "    <tr>\n",
       "      <th>2020-01-07</th>\n",
       "      <td>-356081</td>\n",
       "      <td>322291</td>\n",
       "      <td>33790</td>\n",
       "      <td>11.685731</td>\n",
       "      <td>785857</td>\n",
       "    </tr>\n",
       "    <tr>\n",
       "      <th>2020-01-14</th>\n",
       "      <td>-349819</td>\n",
       "      <td>319235</td>\n",
       "      <td>30584</td>\n",
       "      <td>21.197172</td>\n",
       "      <td>796883</td>\n",
       "    </tr>\n",
       "    <tr>\n",
       "      <th>2020-01-21</th>\n",
       "      <td>-351903</td>\n",
       "      <td>317695</td>\n",
       "      <td>34208</td>\n",
       "      <td>18.577760</td>\n",
       "      <td>793829</td>\n",
       "    </tr>\n",
       "    <tr>\n",
       "      <th>2020-01-28</th>\n",
       "      <td>-360814</td>\n",
       "      <td>330092</td>\n",
       "      <td>30722</td>\n",
       "      <td>7.258106</td>\n",
       "      <td>715539</td>\n",
       "    </tr>\n",
       "    <tr>\n",
       "      <th>2020-02-04</th>\n",
       "      <td>-331687</td>\n",
       "      <td>299806</td>\n",
       "      <td>31881</td>\n",
       "      <td>44.497290</td>\n",
       "      <td>654572</td>\n",
       "    </tr>\n",
       "  </tbody>\n",
       "</table>\n",
       "</div>"
      ],
      "text/plain": [
       "            Commercial_Net_Position  Large_Speculators_Net_Position  \\\n",
       "Date                                                                  \n",
       "2020-01-07                  -356081                          322291   \n",
       "2020-01-14                  -349819                          319235   \n",
       "2020-01-21                  -351903                          317695   \n",
       "2020-01-28                  -360814                          330092   \n",
       "2020-02-04                  -331687                          299806   \n",
       "\n",
       "            Small_Traders_Net_Position  COT_Index      OI  \n",
       "Date                                                       \n",
       "2020-01-07                       33790  11.685731  785857  \n",
       "2020-01-14                       30584  21.197172  796883  \n",
       "2020-01-21                       34208  18.577760  793829  \n",
       "2020-01-28                       30722   7.258106  715539  \n",
       "2020-02-04                       31881  44.497290  654572  "
      ]
     },
     "execution_count": 7,
     "metadata": {},
     "output_type": "execute_result"
    }
   ],
   "source": [
    "df = df[['Commercial_Net_Position', 'Large_Speculators_Net_Position', 'Small_Traders_Net_Position', 'COT_Index', 'Open Interest (All)']]\n",
    "df = df.rename(columns={'Open Interest (All)': 'OI'})\n",
    "df = df[df.index > '2020']\n",
    "\n",
    "df.head()"
   ]
  },
  {
   "cell_type": "markdown",
   "id": "d117c587",
   "metadata": {},
   "source": [
    "## Plotting"
   ]
  },
  {
   "cell_type": "code",
   "execution_count": 8,
   "id": "eb2e0405",
   "metadata": {},
   "outputs": [],
   "source": [
    "import plotly.express as px\n",
    "import plotly.graph_objects as go\n",
    "from plotly.subplots import make_subplots"
   ]
  },
  {
   "cell_type": "markdown",
   "id": "0b379280",
   "metadata": {},
   "source": [
    "### COT index"
   ]
  },
  {
   "cell_type": "code",
   "execution_count": 9,
   "id": "2a890404",
   "metadata": {},
   "outputs": [
    {
     "data": {
      "application/vnd.plotly.v1+json": {
       "config": {
        "plotlyServerURL": "https://plot.ly"
       },
       "data": [
        {
         "hovertemplate": "Date=%{x}<br>COT_Index=%{y}<extra></extra>",
         "legendgroup": "",
         "line": {
          "color": "#636efa",
          "dash": "solid"
         },
         "marker": {
          "symbol": "circle"
         },
         "mode": "lines+markers",
         "name": "",
         "orientation": "v",
         "showlegend": false,
         "type": "scatter",
         "x": [
          "2020-01-07T00:00:00.000000000",
          "2020-01-14T00:00:00.000000000",
          "2020-01-21T00:00:00.000000000",
          "2020-01-28T00:00:00.000000000",
          "2020-02-04T00:00:00.000000000",
          "2020-02-11T00:00:00.000000000",
          "2020-02-18T00:00:00.000000000",
          "2020-02-25T00:00:00.000000000",
          "2020-03-03T00:00:00.000000000",
          "2020-03-10T00:00:00.000000000",
          "2020-03-17T00:00:00.000000000",
          "2020-03-24T00:00:00.000000000",
          "2020-03-31T00:00:00.000000000",
          "2020-04-07T00:00:00.000000000",
          "2020-04-14T00:00:00.000000000",
          "2020-04-21T00:00:00.000000000",
          "2020-04-28T00:00:00.000000000",
          "2020-05-05T00:00:00.000000000",
          "2020-05-12T00:00:00.000000000",
          "2020-05-19T00:00:00.000000000",
          "2020-05-26T00:00:00.000000000",
          "2020-06-02T00:00:00.000000000",
          "2020-06-09T00:00:00.000000000",
          "2020-06-16T00:00:00.000000000",
          "2020-06-23T00:00:00.000000000",
          "2020-06-30T00:00:00.000000000",
          "2020-07-07T00:00:00.000000000",
          "2020-07-14T00:00:00.000000000",
          "2020-07-21T00:00:00.000000000",
          "2020-07-28T00:00:00.000000000",
          "2020-08-04T00:00:00.000000000",
          "2020-08-11T00:00:00.000000000",
          "2020-08-18T00:00:00.000000000",
          "2020-08-25T00:00:00.000000000",
          "2020-09-01T00:00:00.000000000",
          "2020-09-08T00:00:00.000000000",
          "2020-09-15T00:00:00.000000000",
          "2020-09-22T00:00:00.000000000",
          "2020-09-29T00:00:00.000000000",
          "2020-10-06T00:00:00.000000000",
          "2020-10-13T00:00:00.000000000",
          "2020-10-20T00:00:00.000000000",
          "2020-10-27T00:00:00.000000000",
          "2020-11-03T00:00:00.000000000",
          "2020-11-10T00:00:00.000000000",
          "2020-11-17T00:00:00.000000000",
          "2020-11-24T00:00:00.000000000",
          "2020-12-01T00:00:00.000000000",
          "2020-12-08T00:00:00.000000000",
          "2020-12-15T00:00:00.000000000",
          "2020-12-21T00:00:00.000000000",
          "2020-12-29T00:00:00.000000000",
          "2021-01-05T00:00:00.000000000",
          "2021-01-12T00:00:00.000000000",
          "2021-01-19T00:00:00.000000000",
          "2021-01-26T00:00:00.000000000",
          "2021-02-02T00:00:00.000000000",
          "2021-02-09T00:00:00.000000000",
          "2021-02-16T00:00:00.000000000",
          "2021-02-23T00:00:00.000000000",
          "2021-03-02T00:00:00.000000000",
          "2021-03-09T00:00:00.000000000",
          "2021-03-16T00:00:00.000000000",
          "2021-03-23T00:00:00.000000000",
          "2021-03-30T00:00:00.000000000",
          "2021-04-06T00:00:00.000000000",
          "2021-04-13T00:00:00.000000000",
          "2021-04-20T00:00:00.000000000",
          "2021-04-27T00:00:00.000000000",
          "2021-05-04T00:00:00.000000000",
          "2021-05-11T00:00:00.000000000",
          "2021-05-18T00:00:00.000000000",
          "2021-05-25T00:00:00.000000000",
          "2021-06-01T00:00:00.000000000",
          "2021-06-08T00:00:00.000000000",
          "2021-06-15T00:00:00.000000000",
          "2021-06-22T00:00:00.000000000",
          "2021-06-29T00:00:00.000000000",
          "2021-07-06T00:00:00.000000000",
          "2021-07-13T00:00:00.000000000",
          "2021-07-20T00:00:00.000000000",
          "2021-07-27T00:00:00.000000000",
          "2021-08-03T00:00:00.000000000",
          "2021-08-10T00:00:00.000000000",
          "2021-08-17T00:00:00.000000000",
          "2021-08-24T00:00:00.000000000",
          "2021-08-31T00:00:00.000000000",
          "2021-09-07T00:00:00.000000000",
          "2021-09-14T00:00:00.000000000",
          "2021-09-21T00:00:00.000000000",
          "2021-09-28T00:00:00.000000000",
          "2021-10-05T00:00:00.000000000",
          "2021-10-12T00:00:00.000000000",
          "2021-10-19T00:00:00.000000000",
          "2021-10-26T00:00:00.000000000",
          "2021-11-02T00:00:00.000000000",
          "2021-11-09T00:00:00.000000000",
          "2021-11-16T00:00:00.000000000",
          "2021-11-23T00:00:00.000000000",
          "2021-11-30T00:00:00.000000000",
          "2021-12-07T00:00:00.000000000",
          "2021-12-14T00:00:00.000000000",
          "2021-12-21T00:00:00.000000000",
          "2021-12-28T00:00:00.000000000",
          "2022-01-04T00:00:00.000000000",
          "2022-01-11T00:00:00.000000000",
          "2022-01-18T00:00:00.000000000",
          "2022-01-25T00:00:00.000000000",
          "2022-02-01T00:00:00.000000000",
          "2022-02-08T00:00:00.000000000",
          "2022-02-15T00:00:00.000000000",
          "2022-02-22T00:00:00.000000000",
          "2022-03-01T00:00:00.000000000",
          "2022-03-08T00:00:00.000000000",
          "2022-03-15T00:00:00.000000000",
          "2022-03-22T00:00:00.000000000",
          "2022-03-29T00:00:00.000000000",
          "2022-04-05T00:00:00.000000000",
          "2022-04-12T00:00:00.000000000",
          "2022-04-19T00:00:00.000000000",
          "2022-04-26T00:00:00.000000000",
          "2022-05-03T00:00:00.000000000",
          "2022-05-10T00:00:00.000000000",
          "2022-05-17T00:00:00.000000000",
          "2022-05-24T00:00:00.000000000",
          "2022-05-31T00:00:00.000000000",
          "2022-06-07T00:00:00.000000000",
          "2022-06-14T00:00:00.000000000",
          "2022-06-21T00:00:00.000000000",
          "2022-06-28T00:00:00.000000000",
          "2022-07-05T00:00:00.000000000",
          "2022-07-12T00:00:00.000000000",
          "2022-07-19T00:00:00.000000000",
          "2022-07-26T00:00:00.000000000",
          "2022-08-02T00:00:00.000000000",
          "2022-08-09T00:00:00.000000000",
          "2022-08-16T00:00:00.000000000",
          "2022-08-23T00:00:00.000000000",
          "2022-08-30T00:00:00.000000000",
          "2022-09-06T00:00:00.000000000",
          "2022-09-13T00:00:00.000000000",
          "2022-09-20T00:00:00.000000000",
          "2022-09-27T00:00:00.000000000",
          "2022-10-04T00:00:00.000000000",
          "2022-10-11T00:00:00.000000000",
          "2022-10-18T00:00:00.000000000",
          "2022-10-25T00:00:00.000000000",
          "2022-11-01T00:00:00.000000000",
          "2022-11-08T00:00:00.000000000",
          "2022-11-15T00:00:00.000000000",
          "2022-11-22T00:00:00.000000000",
          "2022-11-29T00:00:00.000000000",
          "2022-12-06T00:00:00.000000000",
          "2022-12-13T00:00:00.000000000",
          "2022-12-20T00:00:00.000000000",
          "2022-12-27T00:00:00.000000000",
          "2023-01-03T00:00:00.000000000",
          "2023-01-10T00:00:00.000000000",
          "2023-01-17T00:00:00.000000000",
          "2023-01-24T00:00:00.000000000",
          "2023-01-31T00:00:00.000000000",
          "2023-02-07T00:00:00.000000000",
          "2023-02-14T00:00:00.000000000",
          "2023-02-21T00:00:00.000000000",
          "2023-02-28T00:00:00.000000000",
          "2023-03-07T00:00:00.000000000",
          "2023-03-14T00:00:00.000000000",
          "2023-03-21T00:00:00.000000000",
          "2023-03-28T00:00:00.000000000",
          "2023-04-04T00:00:00.000000000",
          "2023-04-11T00:00:00.000000000",
          "2023-04-18T00:00:00.000000000",
          "2023-04-25T00:00:00.000000000",
          "2023-05-02T00:00:00.000000000",
          "2023-05-09T00:00:00.000000000",
          "2023-05-16T00:00:00.000000000",
          "2023-05-23T00:00:00.000000000",
          "2023-05-30T00:00:00.000000000",
          "2023-06-06T00:00:00.000000000",
          "2023-06-13T00:00:00.000000000",
          "2023-06-20T00:00:00.000000000",
          "2023-06-27T00:00:00.000000000",
          "2023-07-03T00:00:00.000000000",
          "2023-07-11T00:00:00.000000000",
          "2023-07-18T00:00:00.000000000",
          "2023-07-25T00:00:00.000000000",
          "2023-08-01T00:00:00.000000000",
          "2023-08-08T00:00:00.000000000",
          "2023-08-15T00:00:00.000000000",
          "2023-08-22T00:00:00.000000000",
          "2023-08-29T00:00:00.000000000",
          "2023-09-05T00:00:00.000000000",
          "2023-09-12T00:00:00.000000000",
          "2023-09-19T00:00:00.000000000",
          "2023-09-26T00:00:00.000000000",
          "2023-10-03T00:00:00.000000000",
          "2023-10-10T00:00:00.000000000",
          "2023-10-17T00:00:00.000000000",
          "2023-10-24T00:00:00.000000000",
          "2023-10-31T00:00:00.000000000",
          "2023-11-07T00:00:00.000000000",
          "2023-11-14T00:00:00.000000000",
          "2023-11-21T00:00:00.000000000",
          "2023-11-28T00:00:00.000000000",
          "2023-12-05T00:00:00.000000000",
          "2023-12-12T00:00:00.000000000",
          "2023-12-19T00:00:00.000000000",
          "2023-12-26T00:00:00.000000000",
          "2024-01-02T00:00:00.000000000",
          "2024-01-09T00:00:00.000000000",
          "2024-01-16T00:00:00.000000000",
          "2024-01-23T00:00:00.000000000",
          "2024-01-30T00:00:00.000000000",
          "2024-02-06T00:00:00.000000000",
          "2024-02-13T00:00:00.000000000",
          "2024-02-20T00:00:00.000000000",
          "2024-02-27T00:00:00.000000000",
          "2024-03-05T00:00:00.000000000",
          "2024-03-12T00:00:00.000000000",
          "2024-03-19T00:00:00.000000000",
          "2024-03-26T00:00:00.000000000",
          "2024-04-02T00:00:00.000000000",
          "2024-04-09T00:00:00.000000000",
          "2024-04-16T00:00:00.000000000",
          "2024-04-23T00:00:00.000000000",
          "2024-04-30T00:00:00.000000000",
          "2024-05-07T00:00:00.000000000",
          "2024-05-14T00:00:00.000000000",
          "2024-05-21T00:00:00.000000000",
          "2024-05-28T00:00:00.000000000",
          "2024-06-04T00:00:00.000000000",
          "2024-06-11T00:00:00.000000000",
          "2024-06-18T00:00:00.000000000",
          "2024-06-25T00:00:00.000000000",
          "2024-07-02T00:00:00.000000000",
          "2024-07-09T00:00:00.000000000",
          "2024-07-16T00:00:00.000000000",
          "2024-07-23T00:00:00.000000000",
          "2024-07-30T00:00:00.000000000",
          "2024-08-06T00:00:00.000000000",
          "2024-08-13T00:00:00.000000000",
          "2024-08-20T00:00:00.000000000",
          "2024-08-27T00:00:00.000000000",
          "2024-09-03T00:00:00.000000000",
          "2024-09-10T00:00:00.000000000",
          "2024-09-17T00:00:00.000000000",
          "2024-09-24T00:00:00.000000000",
          "2024-10-01T00:00:00.000000000",
          "2024-10-08T00:00:00.000000000",
          "2024-10-15T00:00:00.000000000",
          "2024-10-22T00:00:00.000000000",
          "2024-10-29T00:00:00.000000000",
          "2024-11-05T00:00:00.000000000",
          "2024-11-12T00:00:00.000000000",
          "2024-11-19T00:00:00.000000000",
          "2024-11-26T00:00:00.000000000",
          "2024-12-03T00:00:00.000000000",
          "2024-12-10T00:00:00.000000000",
          "2024-12-17T00:00:00.000000000",
          "2024-12-24T00:00:00.000000000",
          "2024-12-31T00:00:00.000000000",
          "2025-01-07T00:00:00.000000000",
          "2025-01-14T00:00:00.000000000",
          "2025-01-21T00:00:00.000000000",
          "2025-01-28T00:00:00.000000000",
          "2025-02-04T00:00:00.000000000",
          "2025-02-11T00:00:00.000000000",
          "2025-02-18T00:00:00.000000000",
          "2025-02-25T00:00:00.000000000",
          "2025-03-04T00:00:00.000000000",
          "2025-03-11T00:00:00.000000000",
          "2025-03-18T00:00:00.000000000",
          "2025-03-25T00:00:00.000000000",
          "2025-04-01T00:00:00.000000000",
          "2025-04-08T00:00:00.000000000",
          "2025-04-15T00:00:00.000000000",
          "2025-04-22T00:00:00.000000000",
          "2025-04-29T00:00:00.000000000",
          "2025-05-06T00:00:00.000000000",
          "2025-05-13T00:00:00.000000000",
          "2025-05-20T00:00:00.000000000",
          "2025-05-27T00:00:00.000000000",
          "2025-06-03T00:00:00.000000000",
          "2025-06-10T00:00:00.000000000",
          "2025-06-17T00:00:00.000000000",
          "2025-06-24T00:00:00.000000000",
          "2025-07-01T00:00:00.000000000",
          "2025-07-08T00:00:00.000000000",
          "2025-07-15T00:00:00.000000000"
         ],
         "xaxis": "x",
         "y": {
          "bdata": "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",
          "dtype": "f8"
         },
         "yaxis": "y"
        }
       ],
       "layout": {
        "legend": {
         "tracegroupgap": 0
        },
        "shapes": [
         {
          "fillcolor": "green",
          "layer": "below",
          "line": {
           "width": 0
          },
          "opacity": 0.2,
          "type": "rect",
          "x0": 0,
          "x1": 1,
          "xref": "paper",
          "y0": 80,
          "y1": 100,
          "yref": "y"
         },
         {
          "fillcolor": "red",
          "layer": "below",
          "line": {
           "width": 0
          },
          "opacity": 0.2,
          "type": "rect",
          "x0": 0,
          "x1": 1,
          "xref": "paper",
          "y0": 0,
          "y1": 20,
          "yref": "y"
         }
        ],
        "template": {
         "data": {
          "bar": [
           {
            "error_x": {
             "color": "#f2f5fa"
            },
            "error_y": {
             "color": "#f2f5fa"
            },
            "marker": {
             "line": {
              "color": "rgb(17,17,17)",
              "width": 0.5
             },
             "pattern": {
              "fillmode": "overlay",
              "size": 10,
              "solidity": 0.2
             }
            },
            "type": "bar"
           }
          ],
          "barpolar": [
           {
            "marker": {
             "line": {
              "color": "rgb(17,17,17)",
              "width": 0.5
             },
             "pattern": {
              "fillmode": "overlay",
              "size": 10,
              "solidity": 0.2
             }
            },
            "type": "barpolar"
           }
          ],
          "carpet": [
           {
            "aaxis": {
             "endlinecolor": "#A2B1C6",
             "gridcolor": "#506784",
             "linecolor": "#506784",
             "minorgridcolor": "#506784",
             "startlinecolor": "#A2B1C6"
            },
            "baxis": {
             "endlinecolor": "#A2B1C6",
             "gridcolor": "#506784",
             "linecolor": "#506784",
             "minorgridcolor": "#506784",
             "startlinecolor": "#A2B1C6"
            },
            "type": "carpet"
           }
          ],
          "choropleth": [
           {
            "colorbar": {
             "outlinewidth": 0,
             "ticks": ""
            },
            "type": "choropleth"
           }
          ],
          "contour": [
           {
            "colorbar": {
             "outlinewidth": 0,
             "ticks": ""
            },
            "colorscale": [
             [
              0,
              "#0d0887"
             ],
             [
              0.1111111111111111,
              "#46039f"
             ],
             [
              0.2222222222222222,
              "#7201a8"
             ],
             [
              0.3333333333333333,
              "#9c179e"
             ],
             [
              0.4444444444444444,
              "#bd3786"
             ],
             [
              0.5555555555555556,
              "#d8576b"
             ],
             [
              0.6666666666666666,
              "#ed7953"
             ],
             [
              0.7777777777777778,
              "#fb9f3a"
             ],
             [
              0.8888888888888888,
              "#fdca26"
             ],
             [
              1,
              "#f0f921"
             ]
            ],
            "type": "contour"
           }
          ],
          "contourcarpet": [
           {
            "colorbar": {
             "outlinewidth": 0,
             "ticks": ""
            },
            "type": "contourcarpet"
           }
          ],
          "heatmap": [
           {
            "colorbar": {
             "outlinewidth": 0,
             "ticks": ""
            },
            "colorscale": [
             [
              0,
              "#0d0887"
             ],
             [
              0.1111111111111111,
              "#46039f"
             ],
             [
              0.2222222222222222,
              "#7201a8"
             ],
             [
              0.3333333333333333,
              "#9c179e"
             ],
             [
              0.4444444444444444,
              "#bd3786"
             ],
             [
              0.5555555555555556,
              "#d8576b"
             ],
             [
              0.6666666666666666,
              "#ed7953"
             ],
             [
              0.7777777777777778,
              "#fb9f3a"
             ],
             [
              0.8888888888888888,
              "#fdca26"
             ],
             [
              1,
              "#f0f921"
             ]
            ],
            "type": "heatmap"
           }
          ],
          "histogram": [
           {
            "marker": {
             "pattern": {
              "fillmode": "overlay",
              "size": 10,
              "solidity": 0.2
             }
            },
            "type": "histogram"
           }
          ],
          "histogram2d": [
           {
            "colorbar": {
             "outlinewidth": 0,
             "ticks": ""
            },
            "colorscale": [
             [
              0,
              "#0d0887"
             ],
             [
              0.1111111111111111,
              "#46039f"
             ],
             [
              0.2222222222222222,
              "#7201a8"
             ],
             [
              0.3333333333333333,
              "#9c179e"
             ],
             [
              0.4444444444444444,
              "#bd3786"
             ],
             [
              0.5555555555555556,
              "#d8576b"
             ],
             [
              0.6666666666666666,
              "#ed7953"
             ],
             [
              0.7777777777777778,
              "#fb9f3a"
             ],
             [
              0.8888888888888888,
              "#fdca26"
             ],
             [
              1,
              "#f0f921"
             ]
            ],
            "type": "histogram2d"
           }
          ],
          "histogram2dcontour": [
           {
            "colorbar": {
             "outlinewidth": 0,
             "ticks": ""
            },
            "colorscale": [
             [
              0,
              "#0d0887"
             ],
             [
              0.1111111111111111,
              "#46039f"
             ],
             [
              0.2222222222222222,
              "#7201a8"
             ],
             [
              0.3333333333333333,
              "#9c179e"
             ],
             [
              0.4444444444444444,
              "#bd3786"
             ],
             [
              0.5555555555555556,
              "#d8576b"
             ],
             [
              0.6666666666666666,
              "#ed7953"
             ],
             [
              0.7777777777777778,
              "#fb9f3a"
             ],
             [
              0.8888888888888888,
              "#fdca26"
             ],
             [
              1,
              "#f0f921"
             ]
            ],
            "type": "histogram2dcontour"
           }
          ],
          "mesh3d": [
           {
            "colorbar": {
             "outlinewidth": 0,
             "ticks": ""
            },
            "type": "mesh3d"
           }
          ],
          "parcoords": [
           {
            "line": {
             "colorbar": {
              "outlinewidth": 0,
              "ticks": ""
             }
            },
            "type": "parcoords"
           }
          ],
          "pie": [
           {
            "automargin": true,
            "type": "pie"
           }
          ],
          "scatter": [
           {
            "marker": {
             "line": {
              "color": "#283442"
             }
            },
            "type": "scatter"
           }
          ],
          "scatter3d": [
           {
            "line": {
             "colorbar": {
              "outlinewidth": 0,
              "ticks": ""
             }
            },
            "marker": {
             "colorbar": {
              "outlinewidth": 0,
              "ticks": ""
             }
            },
            "type": "scatter3d"
           }
          ],
          "scattercarpet": [
           {
            "marker": {
             "colorbar": {
              "outlinewidth": 0,
              "ticks": ""
             }
            },
            "type": "scattercarpet"
           }
          ],
          "scattergeo": [
           {
            "marker": {
             "colorbar": {
              "outlinewidth": 0,
              "ticks": ""
             }
            },
            "type": "scattergeo"
           }
          ],
          "scattergl": [
           {
            "marker": {
             "line": {
              "color": "#283442"
             }
            },
            "type": "scattergl"
           }
          ],
          "scattermap": [
           {
            "marker": {
             "colorbar": {
              "outlinewidth": 0,
              "ticks": ""
             }
            },
            "type": "scattermap"
           }
          ],
          "scattermapbox": [
           {
            "marker": {
             "colorbar": {
              "outlinewidth": 0,
              "ticks": ""
             }
            },
            "type": "scattermapbox"
           }
          ],
          "scatterpolar": [
           {
            "marker": {
             "colorbar": {
              "outlinewidth": 0,
              "ticks": ""
             }
            },
            "type": "scatterpolar"
           }
          ],
          "scatterpolargl": [
           {
            "marker": {
             "colorbar": {
              "outlinewidth": 0,
              "ticks": ""
             }
            },
            "type": "scatterpolargl"
           }
          ],
          "scatterternary": [
           {
            "marker": {
             "colorbar": {
              "outlinewidth": 0,
              "ticks": ""
             }
            },
            "type": "scatterternary"
           }
          ],
          "surface": [
           {
            "colorbar": {
             "outlinewidth": 0,
             "ticks": ""
            },
            "colorscale": [
             [
              0,
              "#0d0887"
             ],
             [
              0.1111111111111111,
              "#46039f"
             ],
             [
              0.2222222222222222,
              "#7201a8"
             ],
             [
              0.3333333333333333,
              "#9c179e"
             ],
             [
              0.4444444444444444,
              "#bd3786"
             ],
             [
              0.5555555555555556,
              "#d8576b"
             ],
             [
              0.6666666666666666,
              "#ed7953"
             ],
             [
              0.7777777777777778,
              "#fb9f3a"
             ],
             [
              0.8888888888888888,
              "#fdca26"
             ],
             [
              1,
              "#f0f921"
             ]
            ],
            "type": "surface"
           }
          ],
          "table": [
           {
            "cells": {
             "fill": {
              "color": "#506784"
             },
             "line": {
              "color": "rgb(17,17,17)"
             }
            },
            "header": {
             "fill": {
              "color": "#2a3f5f"
             },
             "line": {
              "color": "rgb(17,17,17)"
             }
            },
            "type": "table"
           }
          ]
         },
         "layout": {
          "annotationdefaults": {
           "arrowcolor": "#f2f5fa",
           "arrowhead": 0,
           "arrowwidth": 1
          },
          "autotypenumbers": "strict",
          "coloraxis": {
           "colorbar": {
            "outlinewidth": 0,
            "ticks": ""
           }
          },
          "colorscale": {
           "diverging": [
            [
             0,
             "#8e0152"
            ],
            [
             0.1,
             "#c51b7d"
            ],
            [
             0.2,
             "#de77ae"
            ],
            [
             0.3,
             "#f1b6da"
            ],
            [
             0.4,
             "#fde0ef"
            ],
            [
             0.5,
             "#f7f7f7"
            ],
            [
             0.6,
             "#e6f5d0"
            ],
            [
             0.7,
             "#b8e186"
            ],
            [
             0.8,
             "#7fbc41"
            ],
            [
             0.9,
             "#4d9221"
            ],
            [
             1,
             "#276419"
            ]
           ],
           "sequential": [
            [
             0,
             "#0d0887"
            ],
            [
             0.1111111111111111,
             "#46039f"
            ],
            [
             0.2222222222222222,
             "#7201a8"
            ],
            [
             0.3333333333333333,
             "#9c179e"
            ],
            [
             0.4444444444444444,
             "#bd3786"
            ],
            [
             0.5555555555555556,
             "#d8576b"
            ],
            [
             0.6666666666666666,
             "#ed7953"
            ],
            [
             0.7777777777777778,
             "#fb9f3a"
            ],
            [
             0.8888888888888888,
             "#fdca26"
            ],
            [
             1,
             "#f0f921"
            ]
           ],
           "sequentialminus": [
            [
             0,
             "#0d0887"
            ],
            [
             0.1111111111111111,
             "#46039f"
            ],
            [
             0.2222222222222222,
             "#7201a8"
            ],
            [
             0.3333333333333333,
             "#9c179e"
            ],
            [
             0.4444444444444444,
             "#bd3786"
            ],
            [
             0.5555555555555556,
             "#d8576b"
            ],
            [
             0.6666666666666666,
             "#ed7953"
            ],
            [
             0.7777777777777778,
             "#fb9f3a"
            ],
            [
             0.8888888888888888,
             "#fdca26"
            ],
            [
             1,
             "#f0f921"
            ]
           ]
          },
          "colorway": [
           "#636efa",
           "#EF553B",
           "#00cc96",
           "#ab63fa",
           "#FFA15A",
           "#19d3f3",
           "#FF6692",
           "#B6E880",
           "#FF97FF",
           "#FECB52"
          ],
          "font": {
           "color": "#f2f5fa"
          },
          "geo": {
           "bgcolor": "rgb(17,17,17)",
           "lakecolor": "rgb(17,17,17)",
           "landcolor": "rgb(17,17,17)",
           "showlakes": true,
           "showland": true,
           "subunitcolor": "#506784"
          },
          "hoverlabel": {
           "align": "left"
          },
          "hovermode": "closest",
          "mapbox": {
           "style": "dark"
          },
          "paper_bgcolor": "rgb(17,17,17)",
          "plot_bgcolor": "rgb(17,17,17)",
          "polar": {
           "angularaxis": {
            "gridcolor": "#506784",
            "linecolor": "#506784",
            "ticks": ""
           },
           "bgcolor": "rgb(17,17,17)",
           "radialaxis": {
            "gridcolor": "#506784",
            "linecolor": "#506784",
            "ticks": ""
           }
          },
          "scene": {
           "xaxis": {
            "backgroundcolor": "rgb(17,17,17)",
            "gridcolor": "#506784",
            "gridwidth": 2,
            "linecolor": "#506784",
            "showbackground": true,
            "ticks": "",
            "zerolinecolor": "#C8D4E3"
           },
           "yaxis": {
            "backgroundcolor": "rgb(17,17,17)",
            "gridcolor": "#506784",
            "gridwidth": 2,
            "linecolor": "#506784",
            "showbackground": true,
            "ticks": "",
            "zerolinecolor": "#C8D4E3"
           },
           "zaxis": {
            "backgroundcolor": "rgb(17,17,17)",
            "gridcolor": "#506784",
            "gridwidth": 2,
            "linecolor": "#506784",
            "showbackground": true,
            "ticks": "",
            "zerolinecolor": "#C8D4E3"
           }
          },
          "shapedefaults": {
           "line": {
            "color": "#f2f5fa"
           }
          },
          "sliderdefaults": {
           "bgcolor": "#C8D4E3",
           "bordercolor": "rgb(17,17,17)",
           "borderwidth": 1,
           "tickwidth": 0
          },
          "ternary": {
           "aaxis": {
            "gridcolor": "#506784",
            "linecolor": "#506784",
            "ticks": ""
           },
           "baxis": {
            "gridcolor": "#506784",
            "linecolor": "#506784",
            "ticks": ""
           },
           "bgcolor": "rgb(17,17,17)",
           "caxis": {
            "gridcolor": "#506784",
            "linecolor": "#506784",
            "ticks": ""
           }
          },
          "title": {
           "x": 0.05
          },
          "updatemenudefaults": {
           "bgcolor": "#506784",
           "borderwidth": 0
          },
          "xaxis": {
           "automargin": true,
           "gridcolor": "#283442",
           "linecolor": "#506784",
           "ticks": "",
           "title": {
            "standoff": 15
           },
           "zerolinecolor": "#283442",
           "zerolinewidth": 2
          },
          "yaxis": {
           "automargin": true,
           "gridcolor": "#283442",
           "linecolor": "#506784",
           "ticks": "",
           "title": {
            "standoff": 15
           },
           "zerolinecolor": "#283442",
           "zerolinewidth": 2
          }
         }
        },
        "title": {
         "text": "COT index"
        },
        "xaxis": {
         "anchor": "y",
         "domain": [
          0,
          1
         ],
         "title": {
          "text": "Date"
         }
        },
        "yaxis": {
         "anchor": "x",
         "domain": [
          0,
          1
         ],
         "title": {
          "text": "COT_Index"
         }
        }
       }
      }
     },
     "metadata": {},
     "output_type": "display_data"
    }
   ],
   "source": [
    "fig = px.line(df.reset_index(), x='Date', y='COT_Index', title='COT index', markers=True, template='plotly_dark')\n",
    "\n",
    "# Add green shaded area (e.g. for high index range)\n",
    "fig.add_shape(\n",
    "    type='rect',\n",
    "    xref='paper',  # entire x-axis\n",
    "    yref='y',\n",
    "    x0=0,\n",
    "    x1=1,\n",
    "    y0=80,\n",
    "    y1=100,\n",
    "    fillcolor='green',\n",
    "    opacity=0.2,\n",
    "    line_width=0,\n",
    "    layer='below'\n",
    ")\n",
    "\n",
    "# Add red shaded area (e.g. for low index range)\n",
    "fig.add_shape(\n",
    "    type='rect',\n",
    "    xref='paper',\n",
    "    yref='y',\n",
    "    x0=0,\n",
    "    x1=1,\n",
    "    y0=0,\n",
    "    y1=20,\n",
    "    fillcolor='red',\n",
    "    opacity=0.2,\n",
    "    line_width=0,\n",
    "    layer='below'\n",
    ")\n",
    "\n",
    "fig.write_html(\"plots/cot_index.html\")\n",
    "\n",
    "fig.show()\n"
   ]
  },
  {
   "cell_type": "markdown",
   "id": "ad5b7225",
   "metadata": {},
   "source": [
    "### Open Interest"
   ]
  },
  {
   "cell_type": "code",
   "execution_count": 10,
   "id": "04457523",
   "metadata": {},
   "outputs": [
    {
     "data": {
      "application/vnd.plotly.v1+json": {
       "config": {
        "plotlyServerURL": "https://plot.ly"
       },
       "data": [
        {
         "hovertemplate": "Date=%{x}<br>OI=%{y}<extra></extra>",
         "legendgroup": "",
         "line": {
          "color": "#636efa",
          "dash": "solid"
         },
         "marker": {
          "symbol": "circle"
         },
         "mode": "lines+markers",
         "name": "",
         "orientation": "v",
         "showlegend": false,
         "type": "scatter",
         "x": [
          "2020-01-07T00:00:00.000000000",
          "2020-01-14T00:00:00.000000000",
          "2020-01-21T00:00:00.000000000",
          "2020-01-28T00:00:00.000000000",
          "2020-02-04T00:00:00.000000000",
          "2020-02-11T00:00:00.000000000",
          "2020-02-18T00:00:00.000000000",
          "2020-02-25T00:00:00.000000000",
          "2020-03-03T00:00:00.000000000",
          "2020-03-10T00:00:00.000000000",
          "2020-03-17T00:00:00.000000000",
          "2020-03-24T00:00:00.000000000",
          "2020-03-31T00:00:00.000000000",
          "2020-04-07T00:00:00.000000000",
          "2020-04-14T00:00:00.000000000",
          "2020-04-21T00:00:00.000000000",
          "2020-04-28T00:00:00.000000000",
          "2020-05-05T00:00:00.000000000",
          "2020-05-12T00:00:00.000000000",
          "2020-05-19T00:00:00.000000000",
          "2020-05-26T00:00:00.000000000",
          "2020-06-02T00:00:00.000000000",
          "2020-06-09T00:00:00.000000000",
          "2020-06-16T00:00:00.000000000",
          "2020-06-23T00:00:00.000000000",
          "2020-06-30T00:00:00.000000000",
          "2020-07-07T00:00:00.000000000",
          "2020-07-14T00:00:00.000000000",
          "2020-07-21T00:00:00.000000000",
          "2020-07-28T00:00:00.000000000",
          "2020-08-04T00:00:00.000000000",
          "2020-08-11T00:00:00.000000000",
          "2020-08-18T00:00:00.000000000",
          "2020-08-25T00:00:00.000000000",
          "2020-09-01T00:00:00.000000000",
          "2020-09-08T00:00:00.000000000",
          "2020-09-15T00:00:00.000000000",
          "2020-09-22T00:00:00.000000000",
          "2020-09-29T00:00:00.000000000",
          "2020-10-06T00:00:00.000000000",
          "2020-10-13T00:00:00.000000000",
          "2020-10-20T00:00:00.000000000",
          "2020-10-27T00:00:00.000000000",
          "2020-11-03T00:00:00.000000000",
          "2020-11-10T00:00:00.000000000",
          "2020-11-17T00:00:00.000000000",
          "2020-11-24T00:00:00.000000000",
          "2020-12-01T00:00:00.000000000",
          "2020-12-08T00:00:00.000000000",
          "2020-12-15T00:00:00.000000000",
          "2020-12-21T00:00:00.000000000",
          "2020-12-29T00:00:00.000000000",
          "2021-01-05T00:00:00.000000000",
          "2021-01-12T00:00:00.000000000",
          "2021-01-19T00:00:00.000000000",
          "2021-01-26T00:00:00.000000000",
          "2021-02-02T00:00:00.000000000",
          "2021-02-09T00:00:00.000000000",
          "2021-02-16T00:00:00.000000000",
          "2021-02-23T00:00:00.000000000",
          "2021-03-02T00:00:00.000000000",
          "2021-03-09T00:00:00.000000000",
          "2021-03-16T00:00:00.000000000",
          "2021-03-23T00:00:00.000000000",
          "2021-03-30T00:00:00.000000000",
          "2021-04-06T00:00:00.000000000",
          "2021-04-13T00:00:00.000000000",
          "2021-04-20T00:00:00.000000000",
          "2021-04-27T00:00:00.000000000",
          "2021-05-04T00:00:00.000000000",
          "2021-05-11T00:00:00.000000000",
          "2021-05-18T00:00:00.000000000",
          "2021-05-25T00:00:00.000000000",
          "2021-06-01T00:00:00.000000000",
          "2021-06-08T00:00:00.000000000",
          "2021-06-15T00:00:00.000000000",
          "2021-06-22T00:00:00.000000000",
          "2021-06-29T00:00:00.000000000",
          "2021-07-06T00:00:00.000000000",
          "2021-07-13T00:00:00.000000000",
          "2021-07-20T00:00:00.000000000",
          "2021-07-27T00:00:00.000000000",
          "2021-08-03T00:00:00.000000000",
          "2021-08-10T00:00:00.000000000",
          "2021-08-17T00:00:00.000000000",
          "2021-08-24T00:00:00.000000000",
          "2021-08-31T00:00:00.000000000",
          "2021-09-07T00:00:00.000000000",
          "2021-09-14T00:00:00.000000000",
          "2021-09-21T00:00:00.000000000",
          "2021-09-28T00:00:00.000000000",
          "2021-10-05T00:00:00.000000000",
          "2021-10-12T00:00:00.000000000",
          "2021-10-19T00:00:00.000000000",
          "2021-10-26T00:00:00.000000000",
          "2021-11-02T00:00:00.000000000",
          "2021-11-09T00:00:00.000000000",
          "2021-11-16T00:00:00.000000000",
          "2021-11-23T00:00:00.000000000",
          "2021-11-30T00:00:00.000000000",
          "2021-12-07T00:00:00.000000000",
          "2021-12-14T00:00:00.000000000",
          "2021-12-21T00:00:00.000000000",
          "2021-12-28T00:00:00.000000000",
          "2022-01-04T00:00:00.000000000",
          "2022-01-11T00:00:00.000000000",
          "2022-01-18T00:00:00.000000000",
          "2022-01-25T00:00:00.000000000",
          "2022-02-01T00:00:00.000000000",
          "2022-02-08T00:00:00.000000000",
          "2022-02-15T00:00:00.000000000",
          "2022-02-22T00:00:00.000000000",
          "2022-03-01T00:00:00.000000000",
          "2022-03-08T00:00:00.000000000",
          "2022-03-15T00:00:00.000000000",
          "2022-03-22T00:00:00.000000000",
          "2022-03-29T00:00:00.000000000",
          "2022-04-05T00:00:00.000000000",
          "2022-04-12T00:00:00.000000000",
          "2022-04-19T00:00:00.000000000",
          "2022-04-26T00:00:00.000000000",
          "2022-05-03T00:00:00.000000000",
          "2022-05-10T00:00:00.000000000",
          "2022-05-17T00:00:00.000000000",
          "2022-05-24T00:00:00.000000000",
          "2022-05-31T00:00:00.000000000",
          "2022-06-07T00:00:00.000000000",
          "2022-06-14T00:00:00.000000000",
          "2022-06-21T00:00:00.000000000",
          "2022-06-28T00:00:00.000000000",
          "2022-07-05T00:00:00.000000000",
          "2022-07-12T00:00:00.000000000",
          "2022-07-19T00:00:00.000000000",
          "2022-07-26T00:00:00.000000000",
          "2022-08-02T00:00:00.000000000",
          "2022-08-09T00:00:00.000000000",
          "2022-08-16T00:00:00.000000000",
          "2022-08-23T00:00:00.000000000",
          "2022-08-30T00:00:00.000000000",
          "2022-09-06T00:00:00.000000000",
          "2022-09-13T00:00:00.000000000",
          "2022-09-20T00:00:00.000000000",
          "2022-09-27T00:00:00.000000000",
          "2022-10-04T00:00:00.000000000",
          "2022-10-11T00:00:00.000000000",
          "2022-10-18T00:00:00.000000000",
          "2022-10-25T00:00:00.000000000",
          "2022-11-01T00:00:00.000000000",
          "2022-11-08T00:00:00.000000000",
          "2022-11-15T00:00:00.000000000",
          "2022-11-22T00:00:00.000000000",
          "2022-11-29T00:00:00.000000000",
          "2022-12-06T00:00:00.000000000",
          "2022-12-13T00:00:00.000000000",
          "2022-12-20T00:00:00.000000000",
          "2022-12-27T00:00:00.000000000",
          "2023-01-03T00:00:00.000000000",
          "2023-01-10T00:00:00.000000000",
          "2023-01-17T00:00:00.000000000",
          "2023-01-24T00:00:00.000000000",
          "2023-01-31T00:00:00.000000000",
          "2023-02-07T00:00:00.000000000",
          "2023-02-14T00:00:00.000000000",
          "2023-02-21T00:00:00.000000000",
          "2023-02-28T00:00:00.000000000",
          "2023-03-07T00:00:00.000000000",
          "2023-03-14T00:00:00.000000000",
          "2023-03-21T00:00:00.000000000",
          "2023-03-28T00:00:00.000000000",
          "2023-04-04T00:00:00.000000000",
          "2023-04-11T00:00:00.000000000",
          "2023-04-18T00:00:00.000000000",
          "2023-04-25T00:00:00.000000000",
          "2023-05-02T00:00:00.000000000",
          "2023-05-09T00:00:00.000000000",
          "2023-05-16T00:00:00.000000000",
          "2023-05-23T00:00:00.000000000",
          "2023-05-30T00:00:00.000000000",
          "2023-06-06T00:00:00.000000000",
          "2023-06-13T00:00:00.000000000",
          "2023-06-20T00:00:00.000000000",
          "2023-06-27T00:00:00.000000000",
          "2023-07-03T00:00:00.000000000",
          "2023-07-11T00:00:00.000000000",
          "2023-07-18T00:00:00.000000000",
          "2023-07-25T00:00:00.000000000",
          "2023-08-01T00:00:00.000000000",
          "2023-08-08T00:00:00.000000000",
          "2023-08-15T00:00:00.000000000",
          "2023-08-22T00:00:00.000000000",
          "2023-08-29T00:00:00.000000000",
          "2023-09-05T00:00:00.000000000",
          "2023-09-12T00:00:00.000000000",
          "2023-09-19T00:00:00.000000000",
          "2023-09-26T00:00:00.000000000",
          "2023-10-03T00:00:00.000000000",
          "2023-10-10T00:00:00.000000000",
          "2023-10-17T00:00:00.000000000",
          "2023-10-24T00:00:00.000000000",
          "2023-10-31T00:00:00.000000000",
          "2023-11-07T00:00:00.000000000",
          "2023-11-14T00:00:00.000000000",
          "2023-11-21T00:00:00.000000000",
          "2023-11-28T00:00:00.000000000",
          "2023-12-05T00:00:00.000000000",
          "2023-12-12T00:00:00.000000000",
          "2023-12-19T00:00:00.000000000",
          "2023-12-26T00:00:00.000000000",
          "2024-01-02T00:00:00.000000000",
          "2024-01-09T00:00:00.000000000",
          "2024-01-16T00:00:00.000000000",
          "2024-01-23T00:00:00.000000000",
          "2024-01-30T00:00:00.000000000",
          "2024-02-06T00:00:00.000000000",
          "2024-02-13T00:00:00.000000000",
          "2024-02-20T00:00:00.000000000",
          "2024-02-27T00:00:00.000000000",
          "2024-03-05T00:00:00.000000000",
          "2024-03-12T00:00:00.000000000",
          "2024-03-19T00:00:00.000000000",
          "2024-03-26T00:00:00.000000000",
          "2024-04-02T00:00:00.000000000",
          "2024-04-09T00:00:00.000000000",
          "2024-04-16T00:00:00.000000000",
          "2024-04-23T00:00:00.000000000",
          "2024-04-30T00:00:00.000000000",
          "2024-05-07T00:00:00.000000000",
          "2024-05-14T00:00:00.000000000",
          "2024-05-21T00:00:00.000000000",
          "2024-05-28T00:00:00.000000000",
          "2024-06-04T00:00:00.000000000",
          "2024-06-11T00:00:00.000000000",
          "2024-06-18T00:00:00.000000000",
          "2024-06-25T00:00:00.000000000",
          "2024-07-02T00:00:00.000000000",
          "2024-07-09T00:00:00.000000000",
          "2024-07-16T00:00:00.000000000",
          "2024-07-23T00:00:00.000000000",
          "2024-07-30T00:00:00.000000000",
          "2024-08-06T00:00:00.000000000",
          "2024-08-13T00:00:00.000000000",
          "2024-08-20T00:00:00.000000000",
          "2024-08-27T00:00:00.000000000",
          "2024-09-03T00:00:00.000000000",
          "2024-09-10T00:00:00.000000000",
          "2024-09-17T00:00:00.000000000",
          "2024-09-24T00:00:00.000000000",
          "2024-10-01T00:00:00.000000000",
          "2024-10-08T00:00:00.000000000",
          "2024-10-15T00:00:00.000000000",
          "2024-10-22T00:00:00.000000000",
          "2024-10-29T00:00:00.000000000",
          "2024-11-05T00:00:00.000000000",
          "2024-11-12T00:00:00.000000000",
          "2024-11-19T00:00:00.000000000",
          "2024-11-26T00:00:00.000000000",
          "2024-12-03T00:00:00.000000000",
          "2024-12-10T00:00:00.000000000",
          "2024-12-17T00:00:00.000000000",
          "2024-12-24T00:00:00.000000000",
          "2024-12-31T00:00:00.000000000",
          "2025-01-07T00:00:00.000000000",
          "2025-01-14T00:00:00.000000000",
          "2025-01-21T00:00:00.000000000",
          "2025-01-28T00:00:00.000000000",
          "2025-02-04T00:00:00.000000000",
          "2025-02-11T00:00:00.000000000",
          "2025-02-18T00:00:00.000000000",
          "2025-02-25T00:00:00.000000000",
          "2025-03-04T00:00:00.000000000",
          "2025-03-11T00:00:00.000000000",
          "2025-03-18T00:00:00.000000000",
          "2025-03-25T00:00:00.000000000",
          "2025-04-01T00:00:00.000000000",
          "2025-04-08T00:00:00.000000000",
          "2025-04-15T00:00:00.000000000",
          "2025-04-22T00:00:00.000000000",
          "2025-04-29T00:00:00.000000000",
          "2025-05-06T00:00:00.000000000",
          "2025-05-13T00:00:00.000000000",
          "2025-05-20T00:00:00.000000000",
          "2025-05-27T00:00:00.000000000",
          "2025-06-03T00:00:00.000000000",
          "2025-06-10T00:00:00.000000000",
          "2025-06-17T00:00:00.000000000",
          "2025-06-24T00:00:00.000000000",
          "2025-07-01T00:00:00.000000000",
          "2025-07-08T00:00:00.000000000",
          "2025-07-15T00:00:00.000000000"
         ],
         "xaxis": "x",
         "y": {
          "bdata": "wf0LANMoDADlHAwAE+sKAOz8CQBoCgoANeoKAPUuCwARjwoAfqoJAOXBCAAGWggAJJAHADJTBwDteQcAZoYHAFCkBwBnewcAY5QHAE0PCADO7AcAYUIHAA1CBwBbeAcAhR4IANyRCABovQgAT9oIAAI0CQBlIgkArZIIAIFxCAAKTQgAomEIAHhbCACRgQgAbdUIAIXJCADclAgAI3oIAO1wCAAxlwgABI8IAAZQCAB5WggA3YEIAPV4CAC6NQgAkGIIAN5lCACBjggAfn0IADiuCAASeggAkkIIAC4oCABL7wcAdbsHAOisBwBlVwcAQCAHAA87BwAzRQcAUWgHAHkhBwD5EQcAvQcHALoyBwDZOAcARS0HAAWcBwDa8AcA1MgHAO52BwBSgQcAf1MHADTtBgDw6gYAkxsHALaQBwAYfAcA26EHAB9pBwAwSAcAbWgHAJ+zBwDpvAcAlLsHAPS5BwDdhAcAan0HAM1hBwAeZAcAVmoHAGLHBwDgvgcAkbYIAARZCQDPiggAnB0IAGueBwCdrwcAbqQHAPDDBwC9qwcA1FYIAEQ6CACuuggAA90HAErTBwA1hggAoFQJALBkCQAmvgkAhWwJAAc8CQA5xAgAGo4IAGfQCADixggA2YIIADmNCAA3uAgA7HoIALIWCAC61gcAMooHADCXBwA0ogcAbZUHACKaBwAdRwgA8gEIAFtwBwCBAwcApOsGAEjtBgAi/AYAnQEHAPQbBwA6EwcAkykHAGX5BgBJqwYAI5UGAA2iBgCI9QYATCEHABd0BwBDjgcABtwGAP2dBgDUcAYAMKsGAK2pBgDotgYAcdsGAO9YBwAqgQcA16AHAFoyBwDLtQYAhIAGAPhyBgCKgwYA6v4GADgBBwByKwcAk00HALBFBwCXRQcAzlsHAHk4BwDsiAcAJ+sHAGj2BwBoTwcA69sGAE2oBgACmwYAFa8GAPWWBgA/1gYAYl8HADhbBwAQRAcAV7QGAO+GBgDLnQYAn5AGALbBBgCQsQYAhbsGAD6vBgCkpQYAepQGABOpBgAdtQYAdBIHAKBCBwD7YwcA6mwHAA3CBwA6twcALXAHALMrBwCzVwcAT38HAIyiBwB5eQcAdncHANAbBwD4kAYAMWUGAMxrBgAXNgYAO0YGAEAyBwDZ3wcAByoIAFqvBwBNoQcAfrUHAEnkBwCZ4AcAb+4HAKsVCADI+gcAnxgIADZoBwAA1AYAeaoGALnHBgBe5gYASvAGAOTgBwAW2QgAkrsIAMLLBwCFVQcAELgHAIMhCAAf9gcAoMwHAA3OBwAbNAgAoJ0IAHMiCAB88AcAMEIIAEDBCACM1wgA0oMIAK0tCACorAcAVDYHANgMBwASYAcAix4HAPbvBgBY/wYAc0cHAIMICAD7twgA4c8IADRFCABPEQgAWvgHALPQBwA2dwcALM0HAD4kCAD6zQcAOpwHABzMBgC09wYAxxkHABzlBgA+5wYACroGAADWBgAirQYAxVgGAHddBgB+uwYADqMGAJ6tBgAIwwYAE9gGAA==",
          "dtype": "i4"
         },
         "yaxis": "y"
        }
       ],
       "layout": {
        "legend": {
         "tracegroupgap": 0
        },
        "template": {
         "data": {
          "bar": [
           {
            "error_x": {
             "color": "#f2f5fa"
            },
            "error_y": {
             "color": "#f2f5fa"
            },
            "marker": {
             "line": {
              "color": "rgb(17,17,17)",
              "width": 0.5
             },
             "pattern": {
              "fillmode": "overlay",
              "size": 10,
              "solidity": 0.2
             }
            },
            "type": "bar"
           }
          ],
          "barpolar": [
           {
            "marker": {
             "line": {
              "color": "rgb(17,17,17)",
              "width": 0.5
             },
             "pattern": {
              "fillmode": "overlay",
              "size": 10,
              "solidity": 0.2
             }
            },
            "type": "barpolar"
           }
          ],
          "carpet": [
           {
            "aaxis": {
             "endlinecolor": "#A2B1C6",
             "gridcolor": "#506784",
             "linecolor": "#506784",
             "minorgridcolor": "#506784",
             "startlinecolor": "#A2B1C6"
            },
            "baxis": {
             "endlinecolor": "#A2B1C6",
             "gridcolor": "#506784",
             "linecolor": "#506784",
             "minorgridcolor": "#506784",
             "startlinecolor": "#A2B1C6"
            },
            "type": "carpet"
           }
          ],
          "choropleth": [
           {
            "colorbar": {
             "outlinewidth": 0,
             "ticks": ""
            },
            "type": "choropleth"
           }
          ],
          "contour": [
           {
            "colorbar": {
             "outlinewidth": 0,
             "ticks": ""
            },
            "colorscale": [
             [
              0,
              "#0d0887"
             ],
             [
              0.1111111111111111,
              "#46039f"
             ],
             [
              0.2222222222222222,
              "#7201a8"
             ],
             [
              0.3333333333333333,
              "#9c179e"
             ],
             [
              0.4444444444444444,
              "#bd3786"
             ],
             [
              0.5555555555555556,
              "#d8576b"
             ],
             [
              0.6666666666666666,
              "#ed7953"
             ],
             [
              0.7777777777777778,
              "#fb9f3a"
             ],
             [
              0.8888888888888888,
              "#fdca26"
             ],
             [
              1,
              "#f0f921"
             ]
            ],
            "type": "contour"
           }
          ],
          "contourcarpet": [
           {
            "colorbar": {
             "outlinewidth": 0,
             "ticks": ""
            },
            "type": "contourcarpet"
           }
          ],
          "heatmap": [
           {
            "colorbar": {
             "outlinewidth": 0,
             "ticks": ""
            },
            "colorscale": [
             [
              0,
              "#0d0887"
             ],
             [
              0.1111111111111111,
              "#46039f"
             ],
             [
              0.2222222222222222,
              "#7201a8"
             ],
             [
              0.3333333333333333,
              "#9c179e"
             ],
             [
              0.4444444444444444,
              "#bd3786"
             ],
             [
              0.5555555555555556,
              "#d8576b"
             ],
             [
              0.6666666666666666,
              "#ed7953"
             ],
             [
              0.7777777777777778,
              "#fb9f3a"
             ],
             [
              0.8888888888888888,
              "#fdca26"
             ],
             [
              1,
              "#f0f921"
             ]
            ],
            "type": "heatmap"
           }
          ],
          "histogram": [
           {
            "marker": {
             "pattern": {
              "fillmode": "overlay",
              "size": 10,
              "solidity": 0.2
             }
            },
            "type": "histogram"
           }
          ],
          "histogram2d": [
           {
            "colorbar": {
             "outlinewidth": 0,
             "ticks": ""
            },
            "colorscale": [
             [
              0,
              "#0d0887"
             ],
             [
              0.1111111111111111,
              "#46039f"
             ],
             [
              0.2222222222222222,
              "#7201a8"
             ],
             [
              0.3333333333333333,
              "#9c179e"
             ],
             [
              0.4444444444444444,
              "#bd3786"
             ],
             [
              0.5555555555555556,
              "#d8576b"
             ],
             [
              0.6666666666666666,
              "#ed7953"
             ],
             [
              0.7777777777777778,
              "#fb9f3a"
             ],
             [
              0.8888888888888888,
              "#fdca26"
             ],
             [
              1,
              "#f0f921"
             ]
            ],
            "type": "histogram2d"
           }
          ],
          "histogram2dcontour": [
           {
            "colorbar": {
             "outlinewidth": 0,
             "ticks": ""
            },
            "colorscale": [
             [
              0,
              "#0d0887"
             ],
             [
              0.1111111111111111,
              "#46039f"
             ],
             [
              0.2222222222222222,
              "#7201a8"
             ],
             [
              0.3333333333333333,
              "#9c179e"
             ],
             [
              0.4444444444444444,
              "#bd3786"
             ],
             [
              0.5555555555555556,
              "#d8576b"
             ],
             [
              0.6666666666666666,
              "#ed7953"
             ],
             [
              0.7777777777777778,
              "#fb9f3a"
             ],
             [
              0.8888888888888888,
              "#fdca26"
             ],
             [
              1,
              "#f0f921"
             ]
            ],
            "type": "histogram2dcontour"
           }
          ],
          "mesh3d": [
           {
            "colorbar": {
             "outlinewidth": 0,
             "ticks": ""
            },
            "type": "mesh3d"
           }
          ],
          "parcoords": [
           {
            "line": {
             "colorbar": {
              "outlinewidth": 0,
              "ticks": ""
             }
            },
            "type": "parcoords"
           }
          ],
          "pie": [
           {
            "automargin": true,
            "type": "pie"
           }
          ],
          "scatter": [
           {
            "marker": {
             "line": {
              "color": "#283442"
             }
            },
            "type": "scatter"
           }
          ],
          "scatter3d": [
           {
            "line": {
             "colorbar": {
              "outlinewidth": 0,
              "ticks": ""
             }
            },
            "marker": {
             "colorbar": {
              "outlinewidth": 0,
              "ticks": ""
             }
            },
            "type": "scatter3d"
           }
          ],
          "scattercarpet": [
           {
            "marker": {
             "colorbar": {
              "outlinewidth": 0,
              "ticks": ""
             }
            },
            "type": "scattercarpet"
           }
          ],
          "scattergeo": [
           {
            "marker": {
             "colorbar": {
              "outlinewidth": 0,
              "ticks": ""
             }
            },
            "type": "scattergeo"
           }
          ],
          "scattergl": [
           {
            "marker": {
             "line": {
              "color": "#283442"
             }
            },
            "type": "scattergl"
           }
          ],
          "scattermap": [
           {
            "marker": {
             "colorbar": {
              "outlinewidth": 0,
              "ticks": ""
             }
            },
            "type": "scattermap"
           }
          ],
          "scattermapbox": [
           {
            "marker": {
             "colorbar": {
              "outlinewidth": 0,
              "ticks": ""
             }
            },
            "type": "scattermapbox"
           }
          ],
          "scatterpolar": [
           {
            "marker": {
             "colorbar": {
              "outlinewidth": 0,
              "ticks": ""
             }
            },
            "type": "scatterpolar"
           }
          ],
          "scatterpolargl": [
           {
            "marker": {
             "colorbar": {
              "outlinewidth": 0,
              "ticks": ""
             }
            },
            "type": "scatterpolargl"
           }
          ],
          "scatterternary": [
           {
            "marker": {
             "colorbar": {
              "outlinewidth": 0,
              "ticks": ""
             }
            },
            "type": "scatterternary"
           }
          ],
          "surface": [
           {
            "colorbar": {
             "outlinewidth": 0,
             "ticks": ""
            },
            "colorscale": [
             [
              0,
              "#0d0887"
             ],
             [
              0.1111111111111111,
              "#46039f"
             ],
             [
              0.2222222222222222,
              "#7201a8"
             ],
             [
              0.3333333333333333,
              "#9c179e"
             ],
             [
              0.4444444444444444,
              "#bd3786"
             ],
             [
              0.5555555555555556,
              "#d8576b"
             ],
             [
              0.6666666666666666,
              "#ed7953"
             ],
             [
              0.7777777777777778,
              "#fb9f3a"
             ],
             [
              0.8888888888888888,
              "#fdca26"
             ],
             [
              1,
              "#f0f921"
             ]
            ],
            "type": "surface"
           }
          ],
          "table": [
           {
            "cells": {
             "fill": {
              "color": "#506784"
             },
             "line": {
              "color": "rgb(17,17,17)"
             }
            },
            "header": {
             "fill": {
              "color": "#2a3f5f"
             },
             "line": {
              "color": "rgb(17,17,17)"
             }
            },
            "type": "table"
           }
          ]
         },
         "layout": {
          "annotationdefaults": {
           "arrowcolor": "#f2f5fa",
           "arrowhead": 0,
           "arrowwidth": 1
          },
          "autotypenumbers": "strict",
          "coloraxis": {
           "colorbar": {
            "outlinewidth": 0,
            "ticks": ""
           }
          },
          "colorscale": {
           "diverging": [
            [
             0,
             "#8e0152"
            ],
            [
             0.1,
             "#c51b7d"
            ],
            [
             0.2,
             "#de77ae"
            ],
            [
             0.3,
             "#f1b6da"
            ],
            [
             0.4,
             "#fde0ef"
            ],
            [
             0.5,
             "#f7f7f7"
            ],
            [
             0.6,
             "#e6f5d0"
            ],
            [
             0.7,
             "#b8e186"
            ],
            [
             0.8,
             "#7fbc41"
            ],
            [
             0.9,
             "#4d9221"
            ],
            [
             1,
             "#276419"
            ]
           ],
           "sequential": [
            [
             0,
             "#0d0887"
            ],
            [
             0.1111111111111111,
             "#46039f"
            ],
            [
             0.2222222222222222,
             "#7201a8"
            ],
            [
             0.3333333333333333,
             "#9c179e"
            ],
            [
             0.4444444444444444,
             "#bd3786"
            ],
            [
             0.5555555555555556,
             "#d8576b"
            ],
            [
             0.6666666666666666,
             "#ed7953"
            ],
            [
             0.7777777777777778,
             "#fb9f3a"
            ],
            [
             0.8888888888888888,
             "#fdca26"
            ],
            [
             1,
             "#f0f921"
            ]
           ],
           "sequentialminus": [
            [
             0,
             "#0d0887"
            ],
            [
             0.1111111111111111,
             "#46039f"
            ],
            [
             0.2222222222222222,
             "#7201a8"
            ],
            [
             0.3333333333333333,
             "#9c179e"
            ],
            [
             0.4444444444444444,
             "#bd3786"
            ],
            [
             0.5555555555555556,
             "#d8576b"
            ],
            [
             0.6666666666666666,
             "#ed7953"
            ],
            [
             0.7777777777777778,
             "#fb9f3a"
            ],
            [
             0.8888888888888888,
             "#fdca26"
            ],
            [
             1,
             "#f0f921"
            ]
           ]
          },
          "colorway": [
           "#636efa",
           "#EF553B",
           "#00cc96",
           "#ab63fa",
           "#FFA15A",
           "#19d3f3",
           "#FF6692",
           "#B6E880",
           "#FF97FF",
           "#FECB52"
          ],
          "font": {
           "color": "#f2f5fa"
          },
          "geo": {
           "bgcolor": "rgb(17,17,17)",
           "lakecolor": "rgb(17,17,17)",
           "landcolor": "rgb(17,17,17)",
           "showlakes": true,
           "showland": true,
           "subunitcolor": "#506784"
          },
          "hoverlabel": {
           "align": "left"
          },
          "hovermode": "closest",
          "mapbox": {
           "style": "dark"
          },
          "paper_bgcolor": "rgb(17,17,17)",
          "plot_bgcolor": "rgb(17,17,17)",
          "polar": {
           "angularaxis": {
            "gridcolor": "#506784",
            "linecolor": "#506784",
            "ticks": ""
           },
           "bgcolor": "rgb(17,17,17)",
           "radialaxis": {
            "gridcolor": "#506784",
            "linecolor": "#506784",
            "ticks": ""
           }
          },
          "scene": {
           "xaxis": {
            "backgroundcolor": "rgb(17,17,17)",
            "gridcolor": "#506784",
            "gridwidth": 2,
            "linecolor": "#506784",
            "showbackground": true,
            "ticks": "",
            "zerolinecolor": "#C8D4E3"
           },
           "yaxis": {
            "backgroundcolor": "rgb(17,17,17)",
            "gridcolor": "#506784",
            "gridwidth": 2,
            "linecolor": "#506784",
            "showbackground": true,
            "ticks": "",
            "zerolinecolor": "#C8D4E3"
           },
           "zaxis": {
            "backgroundcolor": "rgb(17,17,17)",
            "gridcolor": "#506784",
            "gridwidth": 2,
            "linecolor": "#506784",
            "showbackground": true,
            "ticks": "",
            "zerolinecolor": "#C8D4E3"
           }
          },
          "shapedefaults": {
           "line": {
            "color": "#f2f5fa"
           }
          },
          "sliderdefaults": {
           "bgcolor": "#C8D4E3",
           "bordercolor": "rgb(17,17,17)",
           "borderwidth": 1,
           "tickwidth": 0
          },
          "ternary": {
           "aaxis": {
            "gridcolor": "#506784",
            "linecolor": "#506784",
            "ticks": ""
           },
           "baxis": {
            "gridcolor": "#506784",
            "linecolor": "#506784",
            "ticks": ""
           },
           "bgcolor": "rgb(17,17,17)",
           "caxis": {
            "gridcolor": "#506784",
            "linecolor": "#506784",
            "ticks": ""
           }
          },
          "title": {
           "x": 0.05
          },
          "updatemenudefaults": {
           "bgcolor": "#506784",
           "borderwidth": 0
          },
          "xaxis": {
           "automargin": true,
           "gridcolor": "#283442",
           "linecolor": "#506784",
           "ticks": "",
           "title": {
            "standoff": 15
           },
           "zerolinecolor": "#283442",
           "zerolinewidth": 2
          },
          "yaxis": {
           "automargin": true,
           "gridcolor": "#283442",
           "linecolor": "#506784",
           "ticks": "",
           "title": {
            "standoff": 15
           },
           "zerolinecolor": "#283442",
           "zerolinewidth": 2
          }
         }
        },
        "title": {
         "text": "Open Interest"
        },
        "xaxis": {
         "anchor": "y",
         "domain": [
          0,
          1
         ],
         "title": {
          "text": "Date"
         }
        },
        "yaxis": {
         "anchor": "x",
         "domain": [
          0,
          1
         ],
         "title": {
          "text": "OI"
         }
        }
       }
      }
     },
     "metadata": {},
     "output_type": "display_data"
    }
   ],
   "source": [
    "fig = px.line(df.reset_index(), x='Date', y='OI', title='Open Interest', markers=True, template='plotly_dark')\n",
    "\n",
    "fig.write_html(\"plots/open_interest.html\")\n",
    "\n",
    "fig.show()"
   ]
  },
  {
   "cell_type": "markdown",
   "id": "93045a2e",
   "metadata": {},
   "source": [
    "### Net positions"
   ]
  },
  {
   "cell_type": "code",
   "execution_count": 11,
   "id": "a6c2bf67",
   "metadata": {},
   "outputs": [
    {
     "data": {
      "application/vnd.plotly.v1+json": {
       "config": {
        "plotlyServerURL": "https://plot.ly"
       },
       "data": [
        {
         "line": {
          "width": 2
         },
         "mode": "lines",
         "name": "Commercial",
         "type": "scatter",
         "x": [
          "2020-01-07T00:00:00.000000000",
          "2020-01-14T00:00:00.000000000",
          "2020-01-21T00:00:00.000000000",
          "2020-01-28T00:00:00.000000000",
          "2020-02-04T00:00:00.000000000",
          "2020-02-11T00:00:00.000000000",
          "2020-02-18T00:00:00.000000000",
          "2020-02-25T00:00:00.000000000",
          "2020-03-03T00:00:00.000000000",
          "2020-03-10T00:00:00.000000000",
          "2020-03-17T00:00:00.000000000",
          "2020-03-24T00:00:00.000000000",
          "2020-03-31T00:00:00.000000000",
          "2020-04-07T00:00:00.000000000",
          "2020-04-14T00:00:00.000000000",
          "2020-04-21T00:00:00.000000000",
          "2020-04-28T00:00:00.000000000",
          "2020-05-05T00:00:00.000000000",
          "2020-05-12T00:00:00.000000000",
          "2020-05-19T00:00:00.000000000",
          "2020-05-26T00:00:00.000000000",
          "2020-06-02T00:00:00.000000000",
          "2020-06-09T00:00:00.000000000",
          "2020-06-16T00:00:00.000000000",
          "2020-06-23T00:00:00.000000000",
          "2020-06-30T00:00:00.000000000",
          "2020-07-07T00:00:00.000000000",
          "2020-07-14T00:00:00.000000000",
          "2020-07-21T00:00:00.000000000",
          "2020-07-28T00:00:00.000000000",
          "2020-08-04T00:00:00.000000000",
          "2020-08-11T00:00:00.000000000",
          "2020-08-18T00:00:00.000000000",
          "2020-08-25T00:00:00.000000000",
          "2020-09-01T00:00:00.000000000",
          "2020-09-08T00:00:00.000000000",
          "2020-09-15T00:00:00.000000000",
          "2020-09-22T00:00:00.000000000",
          "2020-09-29T00:00:00.000000000",
          "2020-10-06T00:00:00.000000000",
          "2020-10-13T00:00:00.000000000",
          "2020-10-20T00:00:00.000000000",
          "2020-10-27T00:00:00.000000000",
          "2020-11-03T00:00:00.000000000",
          "2020-11-10T00:00:00.000000000",
          "2020-11-17T00:00:00.000000000",
          "2020-11-24T00:00:00.000000000",
          "2020-12-01T00:00:00.000000000",
          "2020-12-08T00:00:00.000000000",
          "2020-12-15T00:00:00.000000000",
          "2020-12-21T00:00:00.000000000",
          "2020-12-29T00:00:00.000000000",
          "2021-01-05T00:00:00.000000000",
          "2021-01-12T00:00:00.000000000",
          "2021-01-19T00:00:00.000000000",
          "2021-01-26T00:00:00.000000000",
          "2021-02-02T00:00:00.000000000",
          "2021-02-09T00:00:00.000000000",
          "2021-02-16T00:00:00.000000000",
          "2021-02-23T00:00:00.000000000",
          "2021-03-02T00:00:00.000000000",
          "2021-03-09T00:00:00.000000000",
          "2021-03-16T00:00:00.000000000",
          "2021-03-23T00:00:00.000000000",
          "2021-03-30T00:00:00.000000000",
          "2021-04-06T00:00:00.000000000",
          "2021-04-13T00:00:00.000000000",
          "2021-04-20T00:00:00.000000000",
          "2021-04-27T00:00:00.000000000",
          "2021-05-04T00:00:00.000000000",
          "2021-05-11T00:00:00.000000000",
          "2021-05-18T00:00:00.000000000",
          "2021-05-25T00:00:00.000000000",
          "2021-06-01T00:00:00.000000000",
          "2021-06-08T00:00:00.000000000",
          "2021-06-15T00:00:00.000000000",
          "2021-06-22T00:00:00.000000000",
          "2021-06-29T00:00:00.000000000",
          "2021-07-06T00:00:00.000000000",
          "2021-07-13T00:00:00.000000000",
          "2021-07-20T00:00:00.000000000",
          "2021-07-27T00:00:00.000000000",
          "2021-08-03T00:00:00.000000000",
          "2021-08-10T00:00:00.000000000",
          "2021-08-17T00:00:00.000000000",
          "2021-08-24T00:00:00.000000000",
          "2021-08-31T00:00:00.000000000",
          "2021-09-07T00:00:00.000000000",
          "2021-09-14T00:00:00.000000000",
          "2021-09-21T00:00:00.000000000",
          "2021-09-28T00:00:00.000000000",
          "2021-10-05T00:00:00.000000000",
          "2021-10-12T00:00:00.000000000",
          "2021-10-19T00:00:00.000000000",
          "2021-10-26T00:00:00.000000000",
          "2021-11-02T00:00:00.000000000",
          "2021-11-09T00:00:00.000000000",
          "2021-11-16T00:00:00.000000000",
          "2021-11-23T00:00:00.000000000",
          "2021-11-30T00:00:00.000000000",
          "2021-12-07T00:00:00.000000000",
          "2021-12-14T00:00:00.000000000",
          "2021-12-21T00:00:00.000000000",
          "2021-12-28T00:00:00.000000000",
          "2022-01-04T00:00:00.000000000",
          "2022-01-11T00:00:00.000000000",
          "2022-01-18T00:00:00.000000000",
          "2022-01-25T00:00:00.000000000",
          "2022-02-01T00:00:00.000000000",
          "2022-02-08T00:00:00.000000000",
          "2022-02-15T00:00:00.000000000",
          "2022-02-22T00:00:00.000000000",
          "2022-03-01T00:00:00.000000000",
          "2022-03-08T00:00:00.000000000",
          "2022-03-15T00:00:00.000000000",
          "2022-03-22T00:00:00.000000000",
          "2022-03-29T00:00:00.000000000",
          "2022-04-05T00:00:00.000000000",
          "2022-04-12T00:00:00.000000000",
          "2022-04-19T00:00:00.000000000",
          "2022-04-26T00:00:00.000000000",
          "2022-05-03T00:00:00.000000000",
          "2022-05-10T00:00:00.000000000",
          "2022-05-17T00:00:00.000000000",
          "2022-05-24T00:00:00.000000000",
          "2022-05-31T00:00:00.000000000",
          "2022-06-07T00:00:00.000000000",
          "2022-06-14T00:00:00.000000000",
          "2022-06-21T00:00:00.000000000",
          "2022-06-28T00:00:00.000000000",
          "2022-07-05T00:00:00.000000000",
          "2022-07-12T00:00:00.000000000",
          "2022-07-19T00:00:00.000000000",
          "2022-07-26T00:00:00.000000000",
          "2022-08-02T00:00:00.000000000",
          "2022-08-09T00:00:00.000000000",
          "2022-08-16T00:00:00.000000000",
          "2022-08-23T00:00:00.000000000",
          "2022-08-30T00:00:00.000000000",
          "2022-09-06T00:00:00.000000000",
          "2022-09-13T00:00:00.000000000",
          "2022-09-20T00:00:00.000000000",
          "2022-09-27T00:00:00.000000000",
          "2022-10-04T00:00:00.000000000",
          "2022-10-11T00:00:00.000000000",
          "2022-10-18T00:00:00.000000000",
          "2022-10-25T00:00:00.000000000",
          "2022-11-01T00:00:00.000000000",
          "2022-11-08T00:00:00.000000000",
          "2022-11-15T00:00:00.000000000",
          "2022-11-22T00:00:00.000000000",
          "2022-11-29T00:00:00.000000000",
          "2022-12-06T00:00:00.000000000",
          "2022-12-13T00:00:00.000000000",
          "2022-12-20T00:00:00.000000000",
          "2022-12-27T00:00:00.000000000",
          "2023-01-03T00:00:00.000000000",
          "2023-01-10T00:00:00.000000000",
          "2023-01-17T00:00:00.000000000",
          "2023-01-24T00:00:00.000000000",
          "2023-01-31T00:00:00.000000000",
          "2023-02-07T00:00:00.000000000",
          "2023-02-14T00:00:00.000000000",
          "2023-02-21T00:00:00.000000000",
          "2023-02-28T00:00:00.000000000",
          "2023-03-07T00:00:00.000000000",
          "2023-03-14T00:00:00.000000000",
          "2023-03-21T00:00:00.000000000",
          "2023-03-28T00:00:00.000000000",
          "2023-04-04T00:00:00.000000000",
          "2023-04-11T00:00:00.000000000",
          "2023-04-18T00:00:00.000000000",
          "2023-04-25T00:00:00.000000000",
          "2023-05-02T00:00:00.000000000",
          "2023-05-09T00:00:00.000000000",
          "2023-05-16T00:00:00.000000000",
          "2023-05-23T00:00:00.000000000",
          "2023-05-30T00:00:00.000000000",
          "2023-06-06T00:00:00.000000000",
          "2023-06-13T00:00:00.000000000",
          "2023-06-20T00:00:00.000000000",
          "2023-06-27T00:00:00.000000000",
          "2023-07-03T00:00:00.000000000",
          "2023-07-11T00:00:00.000000000",
          "2023-07-18T00:00:00.000000000",
          "2023-07-25T00:00:00.000000000",
          "2023-08-01T00:00:00.000000000",
          "2023-08-08T00:00:00.000000000",
          "2023-08-15T00:00:00.000000000",
          "2023-08-22T00:00:00.000000000",
          "2023-08-29T00:00:00.000000000",
          "2023-09-05T00:00:00.000000000",
          "2023-09-12T00:00:00.000000000",
          "2023-09-19T00:00:00.000000000",
          "2023-09-26T00:00:00.000000000",
          "2023-10-03T00:00:00.000000000",
          "2023-10-10T00:00:00.000000000",
          "2023-10-17T00:00:00.000000000",
          "2023-10-24T00:00:00.000000000",
          "2023-10-31T00:00:00.000000000",
          "2023-11-07T00:00:00.000000000",
          "2023-11-14T00:00:00.000000000",
          "2023-11-21T00:00:00.000000000",
          "2023-11-28T00:00:00.000000000",
          "2023-12-05T00:00:00.000000000",
          "2023-12-12T00:00:00.000000000",
          "2023-12-19T00:00:00.000000000",
          "2023-12-26T00:00:00.000000000",
          "2024-01-02T00:00:00.000000000",
          "2024-01-09T00:00:00.000000000",
          "2024-01-16T00:00:00.000000000",
          "2024-01-23T00:00:00.000000000",
          "2024-01-30T00:00:00.000000000",
          "2024-02-06T00:00:00.000000000",
          "2024-02-13T00:00:00.000000000",
          "2024-02-20T00:00:00.000000000",
          "2024-02-27T00:00:00.000000000",
          "2024-03-05T00:00:00.000000000",
          "2024-03-12T00:00:00.000000000",
          "2024-03-19T00:00:00.000000000",
          "2024-03-26T00:00:00.000000000",
          "2024-04-02T00:00:00.000000000",
          "2024-04-09T00:00:00.000000000",
          "2024-04-16T00:00:00.000000000",
          "2024-04-23T00:00:00.000000000",
          "2024-04-30T00:00:00.000000000",
          "2024-05-07T00:00:00.000000000",
          "2024-05-14T00:00:00.000000000",
          "2024-05-21T00:00:00.000000000",
          "2024-05-28T00:00:00.000000000",
          "2024-06-04T00:00:00.000000000",
          "2024-06-11T00:00:00.000000000",
          "2024-06-18T00:00:00.000000000",
          "2024-06-25T00:00:00.000000000",
          "2024-07-02T00:00:00.000000000",
          "2024-07-09T00:00:00.000000000",
          "2024-07-16T00:00:00.000000000",
          "2024-07-23T00:00:00.000000000",
          "2024-07-30T00:00:00.000000000",
          "2024-08-06T00:00:00.000000000",
          "2024-08-13T00:00:00.000000000",
          "2024-08-20T00:00:00.000000000",
          "2024-08-27T00:00:00.000000000",
          "2024-09-03T00:00:00.000000000",
          "2024-09-10T00:00:00.000000000",
          "2024-09-17T00:00:00.000000000",
          "2024-09-24T00:00:00.000000000",
          "2024-10-01T00:00:00.000000000",
          "2024-10-08T00:00:00.000000000",
          "2024-10-15T00:00:00.000000000",
          "2024-10-22T00:00:00.000000000",
          "2024-10-29T00:00:00.000000000",
          "2024-11-05T00:00:00.000000000",
          "2024-11-12T00:00:00.000000000",
          "2024-11-19T00:00:00.000000000",
          "2024-11-26T00:00:00.000000000",
          "2024-12-03T00:00:00.000000000",
          "2024-12-10T00:00:00.000000000",
          "2024-12-17T00:00:00.000000000",
          "2024-12-24T00:00:00.000000000",
          "2024-12-31T00:00:00.000000000",
          "2025-01-07T00:00:00.000000000",
          "2025-01-14T00:00:00.000000000",
          "2025-01-21T00:00:00.000000000",
          "2025-01-28T00:00:00.000000000",
          "2025-02-04T00:00:00.000000000",
          "2025-02-11T00:00:00.000000000",
          "2025-02-18T00:00:00.000000000",
          "2025-02-25T00:00:00.000000000",
          "2025-03-04T00:00:00.000000000",
          "2025-03-11T00:00:00.000000000",
          "2025-03-18T00:00:00.000000000",
          "2025-03-25T00:00:00.000000000",
          "2025-04-01T00:00:00.000000000",
          "2025-04-08T00:00:00.000000000",
          "2025-04-15T00:00:00.000000000",
          "2025-04-22T00:00:00.000000000",
          "2025-04-29T00:00:00.000000000",
          "2025-05-06T00:00:00.000000000",
          "2025-05-13T00:00:00.000000000",
          "2025-05-20T00:00:00.000000000",
          "2025-05-27T00:00:00.000000000",
          "2025-06-03T00:00:00.000000000",
          "2025-06-10T00:00:00.000000000",
          "2025-06-17T00:00:00.000000000",
          "2025-06-24T00:00:00.000000000",
          "2025-07-01T00:00:00.000000000",
          "2025-07-08T00:00:00.000000000",
          "2025-07-15T00:00:00.000000000"
         ],
         "y": {
          "bdata": "D5H6/4Wp+v9hofr/kn76/1nw+v+B2Pr/tB36/7tE+v/dpPr/kP36/3Nl+//xPfv/yar7/2XL+/+ouPv/97n7/wOF+//cs/v/+7/7/4KS+/9u0Pv/kRX8//9I/P8cEPz/xJ37/2lm+/8AYvv/PmT7/w1d+/+XwPv/h8j7/9Xn+/8F6vv/M+/7/2LE+/8wtvv//qX7/1jv+/8eovv/LJn7/xGo+/8Ug/v/8nn7/8aV+//hrPv/VIH7/2On+/9xhvv/TWn7/1pT+/8lMfv/yk/7/2Ua+/8Dkvv/FZ37/zxw+/8bdPv/nYr7/3rN+/+vKPz/BZz8//jT/P+9zfz/tev8/0IL/f/xuPz/bND8/ze//P+31vz/Pev8//SI/P87cvz/Cyz8/5E2/P+6Q/z/xnj8/3Lp/P/QBf3/Orn8/5yg/P88g/z/MoL8/4x4/P/HA/3/ELz8/0pr/P+AVPz/4Gb8//Vs/P9cwfz/ORn9/0rk/P8C1fz/yqf8/9pX/P/7Vvz/38v7/82c+//G6fv/1Q38/4lA/P8NePz/A2b8/2BA/P9uYPz/z5D8/3Sg/P9uMPz/gu38/xbG/P/lWvz/ZuL7/4+j+//+UPv/H3b7/wW0+/8Po/v/Gr/7/6Oa+/+7y/v/MjL8/1R2/P9Uhvz/4df8/xXE/P+I8vz/MvP8/3dG/f/PJf3/CTn9/y95/f/E5f3/ekn+/3pY/v9z7v3/RqT9/5On/f+o5P3/cQX+/3BC/v+mTv7/XNn+/0YN///chv7/0Gr+/1Kg/v+rxv7/4tv+//ib/v9c8/3/8AP+/z8u/v/hA/7/3+L9/07T/f9Qp/3/Go/9/0Je/f/XUP3/tj79/9g+/f96qv3/0Af+/7UG/v8BDv7/eC/+/9Cg/f/wMv3/3Oz8/3ar/P8csvz/l7L8/yjE/P8Qrvz/zZr8/5vF/P9xJf3/yxn9/9X5/P8yKf3/Vyf9/xlT/f9zLv3/myL9/y29/P+++fz/Iyb9/35x/f+W1f3/NCf+/87a/f/hlf3/Vsr9/5yq/f9M8f3/kkr+/8Se/v8BDP7/D3j9/002/f8VKf3/hUz9/+UY/f8gqvz/f4n8/7jA/P8Oifz/Z3T8/ypo/P+brfz/xNX8/6MR/f/qZf3/7z/9/2yq/f9Nkf3/cJX9/zjY/P9fq/z/Rq78/xyr/P9Ojvz/upL8/9qZ/P/Iifz/Vof8/z6I/P9Sdfz/mQ38/6oE/P818fv/YQb8/y7q+/+A2/v/ofX7/8u3+//IR/v/g2j7/yfW+/8W5fv/aon7/6Yr+//xFPv/sT37/y1R+//p4vr/BtH6/5wA+/+YXPv/rjr7/6ML+//JXfv/Ta77/5Ly+/9O//v/eNf7/72h+/9ZePv/z6X7/0jU+/9A3Pv/ir/7/4xi+/8wBPv/dg/7/xH++v+ARfv/eXv7/5ya+//13Pv/HPT7/xCm+/+6v/v/m/T7/wl1/P8Ydvz/5On8/9cW/f+ZEf3/GRX9//D7/P8d1fz/ZqH8/wKa/P9hX/z/YHv8/9tl/P/uXPz/wCz8/w==",
          "dtype": "i4"
         }
        },
        {
         "line": {
          "width": 2
         },
         "mode": "lines",
         "name": "Large Speculators",
         "type": "scatter",
         "x": [
          "2020-01-07T00:00:00.000000000",
          "2020-01-14T00:00:00.000000000",
          "2020-01-21T00:00:00.000000000",
          "2020-01-28T00:00:00.000000000",
          "2020-02-04T00:00:00.000000000",
          "2020-02-11T00:00:00.000000000",
          "2020-02-18T00:00:00.000000000",
          "2020-02-25T00:00:00.000000000",
          "2020-03-03T00:00:00.000000000",
          "2020-03-10T00:00:00.000000000",
          "2020-03-17T00:00:00.000000000",
          "2020-03-24T00:00:00.000000000",
          "2020-03-31T00:00:00.000000000",
          "2020-04-07T00:00:00.000000000",
          "2020-04-14T00:00:00.000000000",
          "2020-04-21T00:00:00.000000000",
          "2020-04-28T00:00:00.000000000",
          "2020-05-05T00:00:00.000000000",
          "2020-05-12T00:00:00.000000000",
          "2020-05-19T00:00:00.000000000",
          "2020-05-26T00:00:00.000000000",
          "2020-06-02T00:00:00.000000000",
          "2020-06-09T00:00:00.000000000",
          "2020-06-16T00:00:00.000000000",
          "2020-06-23T00:00:00.000000000",
          "2020-06-30T00:00:00.000000000",
          "2020-07-07T00:00:00.000000000",
          "2020-07-14T00:00:00.000000000",
          "2020-07-21T00:00:00.000000000",
          "2020-07-28T00:00:00.000000000",
          "2020-08-04T00:00:00.000000000",
          "2020-08-11T00:00:00.000000000",
          "2020-08-18T00:00:00.000000000",
          "2020-08-25T00:00:00.000000000",
          "2020-09-01T00:00:00.000000000",
          "2020-09-08T00:00:00.000000000",
          "2020-09-15T00:00:00.000000000",
          "2020-09-22T00:00:00.000000000",
          "2020-09-29T00:00:00.000000000",
          "2020-10-06T00:00:00.000000000",
          "2020-10-13T00:00:00.000000000",
          "2020-10-20T00:00:00.000000000",
          "2020-10-27T00:00:00.000000000",
          "2020-11-03T00:00:00.000000000",
          "2020-11-10T00:00:00.000000000",
          "2020-11-17T00:00:00.000000000",
          "2020-11-24T00:00:00.000000000",
          "2020-12-01T00:00:00.000000000",
          "2020-12-08T00:00:00.000000000",
          "2020-12-15T00:00:00.000000000",
          "2020-12-21T00:00:00.000000000",
          "2020-12-29T00:00:00.000000000",
          "2021-01-05T00:00:00.000000000",
          "2021-01-12T00:00:00.000000000",
          "2021-01-19T00:00:00.000000000",
          "2021-01-26T00:00:00.000000000",
          "2021-02-02T00:00:00.000000000",
          "2021-02-09T00:00:00.000000000",
          "2021-02-16T00:00:00.000000000",
          "2021-02-23T00:00:00.000000000",
          "2021-03-02T00:00:00.000000000",
          "2021-03-09T00:00:00.000000000",
          "2021-03-16T00:00:00.000000000",
          "2021-03-23T00:00:00.000000000",
          "2021-03-30T00:00:00.000000000",
          "2021-04-06T00:00:00.000000000",
          "2021-04-13T00:00:00.000000000",
          "2021-04-20T00:00:00.000000000",
          "2021-04-27T00:00:00.000000000",
          "2021-05-04T00:00:00.000000000",
          "2021-05-11T00:00:00.000000000",
          "2021-05-18T00:00:00.000000000",
          "2021-05-25T00:00:00.000000000",
          "2021-06-01T00:00:00.000000000",
          "2021-06-08T00:00:00.000000000",
          "2021-06-15T00:00:00.000000000",
          "2021-06-22T00:00:00.000000000",
          "2021-06-29T00:00:00.000000000",
          "2021-07-06T00:00:00.000000000",
          "2021-07-13T00:00:00.000000000",
          "2021-07-20T00:00:00.000000000",
          "2021-07-27T00:00:00.000000000",
          "2021-08-03T00:00:00.000000000",
          "2021-08-10T00:00:00.000000000",
          "2021-08-17T00:00:00.000000000",
          "2021-08-24T00:00:00.000000000",
          "2021-08-31T00:00:00.000000000",
          "2021-09-07T00:00:00.000000000",
          "2021-09-14T00:00:00.000000000",
          "2021-09-21T00:00:00.000000000",
          "2021-09-28T00:00:00.000000000",
          "2021-10-05T00:00:00.000000000",
          "2021-10-12T00:00:00.000000000",
          "2021-10-19T00:00:00.000000000",
          "2021-10-26T00:00:00.000000000",
          "2021-11-02T00:00:00.000000000",
          "2021-11-09T00:00:00.000000000",
          "2021-11-16T00:00:00.000000000",
          "2021-11-23T00:00:00.000000000",
          "2021-11-30T00:00:00.000000000",
          "2021-12-07T00:00:00.000000000",
          "2021-12-14T00:00:00.000000000",
          "2021-12-21T00:00:00.000000000",
          "2021-12-28T00:00:00.000000000",
          "2022-01-04T00:00:00.000000000",
          "2022-01-11T00:00:00.000000000",
          "2022-01-18T00:00:00.000000000",
          "2022-01-25T00:00:00.000000000",
          "2022-02-01T00:00:00.000000000",
          "2022-02-08T00:00:00.000000000",
          "2022-02-15T00:00:00.000000000",
          "2022-02-22T00:00:00.000000000",
          "2022-03-01T00:00:00.000000000",
          "2022-03-08T00:00:00.000000000",
          "2022-03-15T00:00:00.000000000",
          "2022-03-22T00:00:00.000000000",
          "2022-03-29T00:00:00.000000000",
          "2022-04-05T00:00:00.000000000",
          "2022-04-12T00:00:00.000000000",
          "2022-04-19T00:00:00.000000000",
          "2022-04-26T00:00:00.000000000",
          "2022-05-03T00:00:00.000000000",
          "2022-05-10T00:00:00.000000000",
          "2022-05-17T00:00:00.000000000",
          "2022-05-24T00:00:00.000000000",
          "2022-05-31T00:00:00.000000000",
          "2022-06-07T00:00:00.000000000",
          "2022-06-14T00:00:00.000000000",
          "2022-06-21T00:00:00.000000000",
          "2022-06-28T00:00:00.000000000",
          "2022-07-05T00:00:00.000000000",
          "2022-07-12T00:00:00.000000000",
          "2022-07-19T00:00:00.000000000",
          "2022-07-26T00:00:00.000000000",
          "2022-08-02T00:00:00.000000000",
          "2022-08-09T00:00:00.000000000",
          "2022-08-16T00:00:00.000000000",
          "2022-08-23T00:00:00.000000000",
          "2022-08-30T00:00:00.000000000",
          "2022-09-06T00:00:00.000000000",
          "2022-09-13T00:00:00.000000000",
          "2022-09-20T00:00:00.000000000",
          "2022-09-27T00:00:00.000000000",
          "2022-10-04T00:00:00.000000000",
          "2022-10-11T00:00:00.000000000",
          "2022-10-18T00:00:00.000000000",
          "2022-10-25T00:00:00.000000000",
          "2022-11-01T00:00:00.000000000",
          "2022-11-08T00:00:00.000000000",
          "2022-11-15T00:00:00.000000000",
          "2022-11-22T00:00:00.000000000",
          "2022-11-29T00:00:00.000000000",
          "2022-12-06T00:00:00.000000000",
          "2022-12-13T00:00:00.000000000",
          "2022-12-20T00:00:00.000000000",
          "2022-12-27T00:00:00.000000000",
          "2023-01-03T00:00:00.000000000",
          "2023-01-10T00:00:00.000000000",
          "2023-01-17T00:00:00.000000000",
          "2023-01-24T00:00:00.000000000",
          "2023-01-31T00:00:00.000000000",
          "2023-02-07T00:00:00.000000000",
          "2023-02-14T00:00:00.000000000",
          "2023-02-21T00:00:00.000000000",
          "2023-02-28T00:00:00.000000000",
          "2023-03-07T00:00:00.000000000",
          "2023-03-14T00:00:00.000000000",
          "2023-03-21T00:00:00.000000000",
          "2023-03-28T00:00:00.000000000",
          "2023-04-04T00:00:00.000000000",
          "2023-04-11T00:00:00.000000000",
          "2023-04-18T00:00:00.000000000",
          "2023-04-25T00:00:00.000000000",
          "2023-05-02T00:00:00.000000000",
          "2023-05-09T00:00:00.000000000",
          "2023-05-16T00:00:00.000000000",
          "2023-05-23T00:00:00.000000000",
          "2023-05-30T00:00:00.000000000",
          "2023-06-06T00:00:00.000000000",
          "2023-06-13T00:00:00.000000000",
          "2023-06-20T00:00:00.000000000",
          "2023-06-27T00:00:00.000000000",
          "2023-07-03T00:00:00.000000000",
          "2023-07-11T00:00:00.000000000",
          "2023-07-18T00:00:00.000000000",
          "2023-07-25T00:00:00.000000000",
          "2023-08-01T00:00:00.000000000",
          "2023-08-08T00:00:00.000000000",
          "2023-08-15T00:00:00.000000000",
          "2023-08-22T00:00:00.000000000",
          "2023-08-29T00:00:00.000000000",
          "2023-09-05T00:00:00.000000000",
          "2023-09-12T00:00:00.000000000",
          "2023-09-19T00:00:00.000000000",
          "2023-09-26T00:00:00.000000000",
          "2023-10-03T00:00:00.000000000",
          "2023-10-10T00:00:00.000000000",
          "2023-10-17T00:00:00.000000000",
          "2023-10-24T00:00:00.000000000",
          "2023-10-31T00:00:00.000000000",
          "2023-11-07T00:00:00.000000000",
          "2023-11-14T00:00:00.000000000",
          "2023-11-21T00:00:00.000000000",
          "2023-11-28T00:00:00.000000000",
          "2023-12-05T00:00:00.000000000",
          "2023-12-12T00:00:00.000000000",
          "2023-12-19T00:00:00.000000000",
          "2023-12-26T00:00:00.000000000",
          "2024-01-02T00:00:00.000000000",
          "2024-01-09T00:00:00.000000000",
          "2024-01-16T00:00:00.000000000",
          "2024-01-23T00:00:00.000000000",
          "2024-01-30T00:00:00.000000000",
          "2024-02-06T00:00:00.000000000",
          "2024-02-13T00:00:00.000000000",
          "2024-02-20T00:00:00.000000000",
          "2024-02-27T00:00:00.000000000",
          "2024-03-05T00:00:00.000000000",
          "2024-03-12T00:00:00.000000000",
          "2024-03-19T00:00:00.000000000",
          "2024-03-26T00:00:00.000000000",
          "2024-04-02T00:00:00.000000000",
          "2024-04-09T00:00:00.000000000",
          "2024-04-16T00:00:00.000000000",
          "2024-04-23T00:00:00.000000000",
          "2024-04-30T00:00:00.000000000",
          "2024-05-07T00:00:00.000000000",
          "2024-05-14T00:00:00.000000000",
          "2024-05-21T00:00:00.000000000",
          "2024-05-28T00:00:00.000000000",
          "2024-06-04T00:00:00.000000000",
          "2024-06-11T00:00:00.000000000",
          "2024-06-18T00:00:00.000000000",
          "2024-06-25T00:00:00.000000000",
          "2024-07-02T00:00:00.000000000",
          "2024-07-09T00:00:00.000000000",
          "2024-07-16T00:00:00.000000000",
          "2024-07-23T00:00:00.000000000",
          "2024-07-30T00:00:00.000000000",
          "2024-08-06T00:00:00.000000000",
          "2024-08-13T00:00:00.000000000",
          "2024-08-20T00:00:00.000000000",
          "2024-08-27T00:00:00.000000000",
          "2024-09-03T00:00:00.000000000",
          "2024-09-10T00:00:00.000000000",
          "2024-09-17T00:00:00.000000000",
          "2024-09-24T00:00:00.000000000",
          "2024-10-01T00:00:00.000000000",
          "2024-10-08T00:00:00.000000000",
          "2024-10-15T00:00:00.000000000",
          "2024-10-22T00:00:00.000000000",
          "2024-10-29T00:00:00.000000000",
          "2024-11-05T00:00:00.000000000",
          "2024-11-12T00:00:00.000000000",
          "2024-11-19T00:00:00.000000000",
          "2024-11-26T00:00:00.000000000",
          "2024-12-03T00:00:00.000000000",
          "2024-12-10T00:00:00.000000000",
          "2024-12-17T00:00:00.000000000",
          "2024-12-24T00:00:00.000000000",
          "2024-12-31T00:00:00.000000000",
          "2025-01-07T00:00:00.000000000",
          "2025-01-14T00:00:00.000000000",
          "2025-01-21T00:00:00.000000000",
          "2025-01-28T00:00:00.000000000",
          "2025-02-04T00:00:00.000000000",
          "2025-02-11T00:00:00.000000000",
          "2025-02-18T00:00:00.000000000",
          "2025-02-25T00:00:00.000000000",
          "2025-03-04T00:00:00.000000000",
          "2025-03-11T00:00:00.000000000",
          "2025-03-18T00:00:00.000000000",
          "2025-03-25T00:00:00.000000000",
          "2025-04-01T00:00:00.000000000",
          "2025-04-08T00:00:00.000000000",
          "2025-04-15T00:00:00.000000000",
          "2025-04-22T00:00:00.000000000",
          "2025-04-29T00:00:00.000000000",
          "2025-05-06T00:00:00.000000000",
          "2025-05-13T00:00:00.000000000",
          "2025-05-20T00:00:00.000000000",
          "2025-05-27T00:00:00.000000000",
          "2025-06-03T00:00:00.000000000",
          "2025-06-10T00:00:00.000000000",
          "2025-06-17T00:00:00.000000000",
          "2025-06-24T00:00:00.000000000",
          "2025-07-01T00:00:00.000000000",
          "2025-07-08T00:00:00.000000000",
          "2025-07-15T00:00:00.000000000"
         ],
         "y": {
          "bdata": "8+oEAAPfBAD/2AQAbAkFAB6TBAAGswQAcWUFAPkfBQD14AQAC5IEADxNBABuZgQAIfMDAG7MAwBV2gMA484DAEkCBACU0AMAjLQDAIzXAwBaoQMAmlcDAOUuAwBcbAMANdgDAK4RBABeFAQAHAEEAMQQBAABnQMAmqQDADVrAwAeaQMAbl8DAIyFAwC5mwMAUa0DALRXAwDLtwMAC8sDAB+sAwAEzwMAOssDAN20AwB4qAMAhtUDAL64AwDa+AMApBsEAOAkBAC0PgQASBoEABZDBADTwQMAbsMDAAruAwBm7AMAD9YDANmVAwC1SgMAxuQCADusAgDkvwIA86cCAGiOAgBF5AIAisICAPrEAgB7mgIA9ZoCAP/uAgDpCAMAckYDAMVCAwDrMQMAJO4CAEaJAgCyeQIAJcoCAHTpAgCE/QIA3AoDAO/+AgDWkQIANuwCAN02AwDmTQMA1yQDAJArAwD/3AIAz5ECADbJAgDD1AIARfMCACBGAwBZSAMARdEDAMT2AwCrkwMARHIDAGFQAwChFgMA8yMDAKRAAwCbOQMAOQwDAJ/2AgD3WwMAbqACAFLZAgBtQgMAzLUDAFbuAwDULwQAnP4DAODIAwA87gMAJb8DAE/hAwCNqAMAqFMDAAAKAwAj8wIAAK0CAAXOAgAtogIApKwCAOZbAgDXfQIA/WcCAPw4AgBpzQEA63IBABJqAQCm5QEAAy4CAGwnAgCX6wEA5ssBALGVAQBAfAEAugABAHHLAABBWQEA1HABAJwsAQDACQEAb/wAAKJBAQA97QEAkcUBALOtAQC1wQEA0eoBAFD3AQCwFgIAYikCAAdMAgCYVgIA6WcCABlyAgAv9wEAOZwBAF2iAQAxqAEAqoABACskAgCNawIAfsUCAJD6AgDp8AIAxeUCALDTAgDv+wIA5vwCAGa+AgDccwIAZJUCABmuAgDRcQIAn3wCAGZRAgAZfQIAeocCAETzAgBHpgIAPIQCAIkuAgAw2QEAOo4BAIjhAQAWGwIA2OMBAPsPAgBnxAEAWmQBAAkXAQBiuAEAiUcCAGF+AgBIiQIA8F4CALmeAgCUDQMAGBsDAEnfAgB7EgMAZisDACErAwDG4AIAtb4CAAKWAgBPQQIAyncCAGAAAgDmIwIARCkCAD3rAgCCEwMAghMDAH4KAwCSKQMAsxYDAMMUAwCLGAMAsh0DAI8LAwDQHgMAroEDACmcAwD2ngMAxpEDAIy1AwDVwQMAh68DADfjAwBgWQQAsioEAEnDAwCdpAMAABQEALVxBAAtfgQARmMEAIVPBAAyuwQA/s8EAJuTBACkPgQA4l4EAAyFBAB9QAQAYeUDAKObAwB/kwMA4tEDAJj2AwCCNAQAmf8DAE3HAwDvxQMAv+MDAENDBADwlgQAkZEEAKydBABYVwQAghkEAPn9AwA9tgMARJoDAIzvAwDEzwMAYqMDAAsQAwDiFQMAEq0CAPZ9AgDBegIAuXUCAI2AAgBoqAIAAd4CAFncAgDIDwMAvPkCAPwUAwDYGAMAe0ADAA==",
          "dtype": "i4"
         }
        },
        {
         "line": {
          "width": 2
         },
         "mode": "lines",
         "name": "Small Traders",
         "type": "scatter",
         "x": [
          "2020-01-07T00:00:00.000000000",
          "2020-01-14T00:00:00.000000000",
          "2020-01-21T00:00:00.000000000",
          "2020-01-28T00:00:00.000000000",
          "2020-02-04T00:00:00.000000000",
          "2020-02-11T00:00:00.000000000",
          "2020-02-18T00:00:00.000000000",
          "2020-02-25T00:00:00.000000000",
          "2020-03-03T00:00:00.000000000",
          "2020-03-10T00:00:00.000000000",
          "2020-03-17T00:00:00.000000000",
          "2020-03-24T00:00:00.000000000",
          "2020-03-31T00:00:00.000000000",
          "2020-04-07T00:00:00.000000000",
          "2020-04-14T00:00:00.000000000",
          "2020-04-21T00:00:00.000000000",
          "2020-04-28T00:00:00.000000000",
          "2020-05-05T00:00:00.000000000",
          "2020-05-12T00:00:00.000000000",
          "2020-05-19T00:00:00.000000000",
          "2020-05-26T00:00:00.000000000",
          "2020-06-02T00:00:00.000000000",
          "2020-06-09T00:00:00.000000000",
          "2020-06-16T00:00:00.000000000",
          "2020-06-23T00:00:00.000000000",
          "2020-06-30T00:00:00.000000000",
          "2020-07-07T00:00:00.000000000",
          "2020-07-14T00:00:00.000000000",
          "2020-07-21T00:00:00.000000000",
          "2020-07-28T00:00:00.000000000",
          "2020-08-04T00:00:00.000000000",
          "2020-08-11T00:00:00.000000000",
          "2020-08-18T00:00:00.000000000",
          "2020-08-25T00:00:00.000000000",
          "2020-09-01T00:00:00.000000000",
          "2020-09-08T00:00:00.000000000",
          "2020-09-15T00:00:00.000000000",
          "2020-09-22T00:00:00.000000000",
          "2020-09-29T00:00:00.000000000",
          "2020-10-06T00:00:00.000000000",
          "2020-10-13T00:00:00.000000000",
          "2020-10-20T00:00:00.000000000",
          "2020-10-27T00:00:00.000000000",
          "2020-11-03T00:00:00.000000000",
          "2020-11-10T00:00:00.000000000",
          "2020-11-17T00:00:00.000000000",
          "2020-11-24T00:00:00.000000000",
          "2020-12-01T00:00:00.000000000",
          "2020-12-08T00:00:00.000000000",
          "2020-12-15T00:00:00.000000000",
          "2020-12-21T00:00:00.000000000",
          "2020-12-29T00:00:00.000000000",
          "2021-01-05T00:00:00.000000000",
          "2021-01-12T00:00:00.000000000",
          "2021-01-19T00:00:00.000000000",
          "2021-01-26T00:00:00.000000000",
          "2021-02-02T00:00:00.000000000",
          "2021-02-09T00:00:00.000000000",
          "2021-02-16T00:00:00.000000000",
          "2021-02-23T00:00:00.000000000",
          "2021-03-02T00:00:00.000000000",
          "2021-03-09T00:00:00.000000000",
          "2021-03-16T00:00:00.000000000",
          "2021-03-23T00:00:00.000000000",
          "2021-03-30T00:00:00.000000000",
          "2021-04-06T00:00:00.000000000",
          "2021-04-13T00:00:00.000000000",
          "2021-04-20T00:00:00.000000000",
          "2021-04-27T00:00:00.000000000",
          "2021-05-04T00:00:00.000000000",
          "2021-05-11T00:00:00.000000000",
          "2021-05-18T00:00:00.000000000",
          "2021-05-25T00:00:00.000000000",
          "2021-06-01T00:00:00.000000000",
          "2021-06-08T00:00:00.000000000",
          "2021-06-15T00:00:00.000000000",
          "2021-06-22T00:00:00.000000000",
          "2021-06-29T00:00:00.000000000",
          "2021-07-06T00:00:00.000000000",
          "2021-07-13T00:00:00.000000000",
          "2021-07-20T00:00:00.000000000",
          "2021-07-27T00:00:00.000000000",
          "2021-08-03T00:00:00.000000000",
          "2021-08-10T00:00:00.000000000",
          "2021-08-17T00:00:00.000000000",
          "2021-08-24T00:00:00.000000000",
          "2021-08-31T00:00:00.000000000",
          "2021-09-07T00:00:00.000000000",
          "2021-09-14T00:00:00.000000000",
          "2021-09-21T00:00:00.000000000",
          "2021-09-28T00:00:00.000000000",
          "2021-10-05T00:00:00.000000000",
          "2021-10-12T00:00:00.000000000",
          "2021-10-19T00:00:00.000000000",
          "2021-10-26T00:00:00.000000000",
          "2021-11-02T00:00:00.000000000",
          "2021-11-09T00:00:00.000000000",
          "2021-11-16T00:00:00.000000000",
          "2021-11-23T00:00:00.000000000",
          "2021-11-30T00:00:00.000000000",
          "2021-12-07T00:00:00.000000000",
          "2021-12-14T00:00:00.000000000",
          "2021-12-21T00:00:00.000000000",
          "2021-12-28T00:00:00.000000000",
          "2022-01-04T00:00:00.000000000",
          "2022-01-11T00:00:00.000000000",
          "2022-01-18T00:00:00.000000000",
          "2022-01-25T00:00:00.000000000",
          "2022-02-01T00:00:00.000000000",
          "2022-02-08T00:00:00.000000000",
          "2022-02-15T00:00:00.000000000",
          "2022-02-22T00:00:00.000000000",
          "2022-03-01T00:00:00.000000000",
          "2022-03-08T00:00:00.000000000",
          "2022-03-15T00:00:00.000000000",
          "2022-03-22T00:00:00.000000000",
          "2022-03-29T00:00:00.000000000",
          "2022-04-05T00:00:00.000000000",
          "2022-04-12T00:00:00.000000000",
          "2022-04-19T00:00:00.000000000",
          "2022-04-26T00:00:00.000000000",
          "2022-05-03T00:00:00.000000000",
          "2022-05-10T00:00:00.000000000",
          "2022-05-17T00:00:00.000000000",
          "2022-05-24T00:00:00.000000000",
          "2022-05-31T00:00:00.000000000",
          "2022-06-07T00:00:00.000000000",
          "2022-06-14T00:00:00.000000000",
          "2022-06-21T00:00:00.000000000",
          "2022-06-28T00:00:00.000000000",
          "2022-07-05T00:00:00.000000000",
          "2022-07-12T00:00:00.000000000",
          "2022-07-19T00:00:00.000000000",
          "2022-07-26T00:00:00.000000000",
          "2022-08-02T00:00:00.000000000",
          "2022-08-09T00:00:00.000000000",
          "2022-08-16T00:00:00.000000000",
          "2022-08-23T00:00:00.000000000",
          "2022-08-30T00:00:00.000000000",
          "2022-09-06T00:00:00.000000000",
          "2022-09-13T00:00:00.000000000",
          "2022-09-20T00:00:00.000000000",
          "2022-09-27T00:00:00.000000000",
          "2022-10-04T00:00:00.000000000",
          "2022-10-11T00:00:00.000000000",
          "2022-10-18T00:00:00.000000000",
          "2022-10-25T00:00:00.000000000",
          "2022-11-01T00:00:00.000000000",
          "2022-11-08T00:00:00.000000000",
          "2022-11-15T00:00:00.000000000",
          "2022-11-22T00:00:00.000000000",
          "2022-11-29T00:00:00.000000000",
          "2022-12-06T00:00:00.000000000",
          "2022-12-13T00:00:00.000000000",
          "2022-12-20T00:00:00.000000000",
          "2022-12-27T00:00:00.000000000",
          "2023-01-03T00:00:00.000000000",
          "2023-01-10T00:00:00.000000000",
          "2023-01-17T00:00:00.000000000",
          "2023-01-24T00:00:00.000000000",
          "2023-01-31T00:00:00.000000000",
          "2023-02-07T00:00:00.000000000",
          "2023-02-14T00:00:00.000000000",
          "2023-02-21T00:00:00.000000000",
          "2023-02-28T00:00:00.000000000",
          "2023-03-07T00:00:00.000000000",
          "2023-03-14T00:00:00.000000000",
          "2023-03-21T00:00:00.000000000",
          "2023-03-28T00:00:00.000000000",
          "2023-04-04T00:00:00.000000000",
          "2023-04-11T00:00:00.000000000",
          "2023-04-18T00:00:00.000000000",
          "2023-04-25T00:00:00.000000000",
          "2023-05-02T00:00:00.000000000",
          "2023-05-09T00:00:00.000000000",
          "2023-05-16T00:00:00.000000000",
          "2023-05-23T00:00:00.000000000",
          "2023-05-30T00:00:00.000000000",
          "2023-06-06T00:00:00.000000000",
          "2023-06-13T00:00:00.000000000",
          "2023-06-20T00:00:00.000000000",
          "2023-06-27T00:00:00.000000000",
          "2023-07-03T00:00:00.000000000",
          "2023-07-11T00:00:00.000000000",
          "2023-07-18T00:00:00.000000000",
          "2023-07-25T00:00:00.000000000",
          "2023-08-01T00:00:00.000000000",
          "2023-08-08T00:00:00.000000000",
          "2023-08-15T00:00:00.000000000",
          "2023-08-22T00:00:00.000000000",
          "2023-08-29T00:00:00.000000000",
          "2023-09-05T00:00:00.000000000",
          "2023-09-12T00:00:00.000000000",
          "2023-09-19T00:00:00.000000000",
          "2023-09-26T00:00:00.000000000",
          "2023-10-03T00:00:00.000000000",
          "2023-10-10T00:00:00.000000000",
          "2023-10-17T00:00:00.000000000",
          "2023-10-24T00:00:00.000000000",
          "2023-10-31T00:00:00.000000000",
          "2023-11-07T00:00:00.000000000",
          "2023-11-14T00:00:00.000000000",
          "2023-11-21T00:00:00.000000000",
          "2023-11-28T00:00:00.000000000",
          "2023-12-05T00:00:00.000000000",
          "2023-12-12T00:00:00.000000000",
          "2023-12-19T00:00:00.000000000",
          "2023-12-26T00:00:00.000000000",
          "2024-01-02T00:00:00.000000000",
          "2024-01-09T00:00:00.000000000",
          "2024-01-16T00:00:00.000000000",
          "2024-01-23T00:00:00.000000000",
          "2024-01-30T00:00:00.000000000",
          "2024-02-06T00:00:00.000000000",
          "2024-02-13T00:00:00.000000000",
          "2024-02-20T00:00:00.000000000",
          "2024-02-27T00:00:00.000000000",
          "2024-03-05T00:00:00.000000000",
          "2024-03-12T00:00:00.000000000",
          "2024-03-19T00:00:00.000000000",
          "2024-03-26T00:00:00.000000000",
          "2024-04-02T00:00:00.000000000",
          "2024-04-09T00:00:00.000000000",
          "2024-04-16T00:00:00.000000000",
          "2024-04-23T00:00:00.000000000",
          "2024-04-30T00:00:00.000000000",
          "2024-05-07T00:00:00.000000000",
          "2024-05-14T00:00:00.000000000",
          "2024-05-21T00:00:00.000000000",
          "2024-05-28T00:00:00.000000000",
          "2024-06-04T00:00:00.000000000",
          "2024-06-11T00:00:00.000000000",
          "2024-06-18T00:00:00.000000000",
          "2024-06-25T00:00:00.000000000",
          "2024-07-02T00:00:00.000000000",
          "2024-07-09T00:00:00.000000000",
          "2024-07-16T00:00:00.000000000",
          "2024-07-23T00:00:00.000000000",
          "2024-07-30T00:00:00.000000000",
          "2024-08-06T00:00:00.000000000",
          "2024-08-13T00:00:00.000000000",
          "2024-08-20T00:00:00.000000000",
          "2024-08-27T00:00:00.000000000",
          "2024-09-03T00:00:00.000000000",
          "2024-09-10T00:00:00.000000000",
          "2024-09-17T00:00:00.000000000",
          "2024-09-24T00:00:00.000000000",
          "2024-10-01T00:00:00.000000000",
          "2024-10-08T00:00:00.000000000",
          "2024-10-15T00:00:00.000000000",
          "2024-10-22T00:00:00.000000000",
          "2024-10-29T00:00:00.000000000",
          "2024-11-05T00:00:00.000000000",
          "2024-11-12T00:00:00.000000000",
          "2024-11-19T00:00:00.000000000",
          "2024-11-26T00:00:00.000000000",
          "2024-12-03T00:00:00.000000000",
          "2024-12-10T00:00:00.000000000",
          "2024-12-17T00:00:00.000000000",
          "2024-12-24T00:00:00.000000000",
          "2024-12-31T00:00:00.000000000",
          "2025-01-07T00:00:00.000000000",
          "2025-01-14T00:00:00.000000000",
          "2025-01-21T00:00:00.000000000",
          "2025-01-28T00:00:00.000000000",
          "2025-02-04T00:00:00.000000000",
          "2025-02-11T00:00:00.000000000",
          "2025-02-18T00:00:00.000000000",
          "2025-02-25T00:00:00.000000000",
          "2025-03-04T00:00:00.000000000",
          "2025-03-11T00:00:00.000000000",
          "2025-03-18T00:00:00.000000000",
          "2025-03-25T00:00:00.000000000",
          "2025-04-01T00:00:00.000000000",
          "2025-04-08T00:00:00.000000000",
          "2025-04-15T00:00:00.000000000",
          "2025-04-22T00:00:00.000000000",
          "2025-04-29T00:00:00.000000000",
          "2025-05-06T00:00:00.000000000",
          "2025-05-13T00:00:00.000000000",
          "2025-05-20T00:00:00.000000000",
          "2025-05-27T00:00:00.000000000",
          "2025-06-03T00:00:00.000000000",
          "2025-06-10T00:00:00.000000000",
          "2025-06-17T00:00:00.000000000",
          "2025-06-24T00:00:00.000000000",
          "2025-07-01T00:00:00.000000000",
          "2025-07-08T00:00:00.000000000",
          "2025-07-15T00:00:00.000000000"
         ],
         "y": {
          "bdata": "/oMAAHh3AACghQAAAngAAIl8AAB5dAAA23wAAEybAAAuegAAZXAAAFFNAAChWwAAFmIAAC1oAAADbQAAJncAALR4AACQewAAeYsAAPKVAAA4jgAA1ZIAAByIAACIgwAAB4oAAOmHAACiiQAAppoAAC+SAABoogAA35IAAPasAADdrAAAX7EAABK2AAAXrgAAsawAAPS4AAAXpgAAyZsAANCrAADorQAA1LoAAF21AACnqgAAJqkAAN+fAAC1gAAAD3sAAMaHAAAnkAAA7pUAAIWiAAAqrAAAfZ8AALqhAAB/nwAAVJ8AAK2cAACcjAAANX8AAM1/AABfcgAAWGwAAFZmAADKYgAACm0AAM97AADOjgAAznkAAA2IAADchAAAg40AAKqGAABbigAAFpkAAEiNAAB+gAAAoXwAAPB1AABAfwAA8nIAAIWIAABjagAAulcAANldAACaXQAASXQAAHtnAAClYQAA+FQAAIBSAAA7VgAA8WQAAAZiAACsYAAA3GIAAG9sAACPggAA538AABZvAABScQAACnYAAPx+AAD3ZQAA+GIAAO1oAACbcwAAEHIAAJhgAACuYgAAzmcAABtuAAAufwAARYsAABuDAAC1bgAAwYEAAA6EAAC4iwAAJnoAAKx/AACJhgAAH3sAAOZtAABLawAAKmAAAKNdAABaXAAA+l4AANVNAADTTAAAm0MAAHQ9AADnKwAAty0AAAExAADBLwAAqS4AAN8nAAAaNQAA6iUAAEknAADjHwAAXCQAABIzAACVLwAArycAAGYiAABnHwAAfzYAAA4kAABqOgAAUDIAAGI1AAAAQgAAhEcAALdVAACRWAAAYVkAAA9PAABXXgAA91sAAO5WAADOSQAA3k8AAAU7AACDYQAApk0AAPpZAAD7XAAApGcAAChoAAABVgAATWgAAP97AACzZgAA0VAAABJYAAD9ZAAAClwAAIFbAAB0VAAA61UAAI9PAAD7XwAAoVUAAPlfAAA6UQAAkkoAAKpDAAAJTwAA0lEAAGlFAABNSgAAFFEAADNKAACdOwAAaEAAAFJLAACjTQAAi1QAAGJIAABMSAAAaVsAAP9fAAB3ZAAAM2AAALVsAACfcQAAh2sAAFtYAADHWAAAR0gAADRVAADNSgAATEEAAIs8AAAfQQAAOD4AAGZKAAAgSAAAk1YAAGNRAACtXQAA+FoAADNsAADeawAAuXAAAC1fAADVbwAA2WcAAEZgAACrYgAA2FoAAP5kAADYXgAAy2wAAJBmAABNdgAAlmIAAKViAADibAAACV8AAE5fAADlYQAA/F4AAMlrAADEZAAAcGYAAFFvAAC6YQAAUmwAAMtxAAAzbQAAplYAAKtnAAAlUwAAmFoAAGtkAADRXQAAt1wAADFaAADgZAAA+V4AAENkAAAoYwAABWsAAGtnAADObAAAoHEAAGRqAACCcAAAA2gAAOx6AAAGdAAACmkAADNrAACmcwAALnUAAIODAAB7ggAAmYAAAKWJAADXkAAA5IoAACmFAAA6igAAxZIAAA==",
          "dtype": "i4"
         }
        }
       ],
       "layout": {
        "height": 600,
        "template": {
         "data": {
          "bar": [
           {
            "error_x": {
             "color": "#f2f5fa"
            },
            "error_y": {
             "color": "#f2f5fa"
            },
            "marker": {
             "line": {
              "color": "rgb(17,17,17)",
              "width": 0.5
             },
             "pattern": {
              "fillmode": "overlay",
              "size": 10,
              "solidity": 0.2
             }
            },
            "type": "bar"
           }
          ],
          "barpolar": [
           {
            "marker": {
             "line": {
              "color": "rgb(17,17,17)",
              "width": 0.5
             },
             "pattern": {
              "fillmode": "overlay",
              "size": 10,
              "solidity": 0.2
             }
            },
            "type": "barpolar"
           }
          ],
          "carpet": [
           {
            "aaxis": {
             "endlinecolor": "#A2B1C6",
             "gridcolor": "#506784",
             "linecolor": "#506784",
             "minorgridcolor": "#506784",
             "startlinecolor": "#A2B1C6"
            },
            "baxis": {
             "endlinecolor": "#A2B1C6",
             "gridcolor": "#506784",
             "linecolor": "#506784",
             "minorgridcolor": "#506784",
             "startlinecolor": "#A2B1C6"
            },
            "type": "carpet"
           }
          ],
          "choropleth": [
           {
            "colorbar": {
             "outlinewidth": 0,
             "ticks": ""
            },
            "type": "choropleth"
           }
          ],
          "contour": [
           {
            "colorbar": {
             "outlinewidth": 0,
             "ticks": ""
            },
            "colorscale": [
             [
              0,
              "#0d0887"
             ],
             [
              0.1111111111111111,
              "#46039f"
             ],
             [
              0.2222222222222222,
              "#7201a8"
             ],
             [
              0.3333333333333333,
              "#9c179e"
             ],
             [
              0.4444444444444444,
              "#bd3786"
             ],
             [
              0.5555555555555556,
              "#d8576b"
             ],
             [
              0.6666666666666666,
              "#ed7953"
             ],
             [
              0.7777777777777778,
              "#fb9f3a"
             ],
             [
              0.8888888888888888,
              "#fdca26"
             ],
             [
              1,
              "#f0f921"
             ]
            ],
            "type": "contour"
           }
          ],
          "contourcarpet": [
           {
            "colorbar": {
             "outlinewidth": 0,
             "ticks": ""
            },
            "type": "contourcarpet"
           }
          ],
          "heatmap": [
           {
            "colorbar": {
             "outlinewidth": 0,
             "ticks": ""
            },
            "colorscale": [
             [
              0,
              "#0d0887"
             ],
             [
              0.1111111111111111,
              "#46039f"
             ],
             [
              0.2222222222222222,
              "#7201a8"
             ],
             [
              0.3333333333333333,
              "#9c179e"
             ],
             [
              0.4444444444444444,
              "#bd3786"
             ],
             [
              0.5555555555555556,
              "#d8576b"
             ],
             [
              0.6666666666666666,
              "#ed7953"
             ],
             [
              0.7777777777777778,
              "#fb9f3a"
             ],
             [
              0.8888888888888888,
              "#fdca26"
             ],
             [
              1,
              "#f0f921"
             ]
            ],
            "type": "heatmap"
           }
          ],
          "histogram": [
           {
            "marker": {
             "pattern": {
              "fillmode": "overlay",
              "size": 10,
              "solidity": 0.2
             }
            },
            "type": "histogram"
           }
          ],
          "histogram2d": [
           {
            "colorbar": {
             "outlinewidth": 0,
             "ticks": ""
            },
            "colorscale": [
             [
              0,
              "#0d0887"
             ],
             [
              0.1111111111111111,
              "#46039f"
             ],
             [
              0.2222222222222222,
              "#7201a8"
             ],
             [
              0.3333333333333333,
              "#9c179e"
             ],
             [
              0.4444444444444444,
              "#bd3786"
             ],
             [
              0.5555555555555556,
              "#d8576b"
             ],
             [
              0.6666666666666666,
              "#ed7953"
             ],
             [
              0.7777777777777778,
              "#fb9f3a"
             ],
             [
              0.8888888888888888,
              "#fdca26"
             ],
             [
              1,
              "#f0f921"
             ]
            ],
            "type": "histogram2d"
           }
          ],
          "histogram2dcontour": [
           {
            "colorbar": {
             "outlinewidth": 0,
             "ticks": ""
            },
            "colorscale": [
             [
              0,
              "#0d0887"
             ],
             [
              0.1111111111111111,
              "#46039f"
             ],
             [
              0.2222222222222222,
              "#7201a8"
             ],
             [
              0.3333333333333333,
              "#9c179e"
             ],
             [
              0.4444444444444444,
              "#bd3786"
             ],
             [
              0.5555555555555556,
              "#d8576b"
             ],
             [
              0.6666666666666666,
              "#ed7953"
             ],
             [
              0.7777777777777778,
              "#fb9f3a"
             ],
             [
              0.8888888888888888,
              "#fdca26"
             ],
             [
              1,
              "#f0f921"
             ]
            ],
            "type": "histogram2dcontour"
           }
          ],
          "mesh3d": [
           {
            "colorbar": {
             "outlinewidth": 0,
             "ticks": ""
            },
            "type": "mesh3d"
           }
          ],
          "parcoords": [
           {
            "line": {
             "colorbar": {
              "outlinewidth": 0,
              "ticks": ""
             }
            },
            "type": "parcoords"
           }
          ],
          "pie": [
           {
            "automargin": true,
            "type": "pie"
           }
          ],
          "scatter": [
           {
            "marker": {
             "line": {
              "color": "#283442"
             }
            },
            "type": "scatter"
           }
          ],
          "scatter3d": [
           {
            "line": {
             "colorbar": {
              "outlinewidth": 0,
              "ticks": ""
             }
            },
            "marker": {
             "colorbar": {
              "outlinewidth": 0,
              "ticks": ""
             }
            },
            "type": "scatter3d"
           }
          ],
          "scattercarpet": [
           {
            "marker": {
             "colorbar": {
              "outlinewidth": 0,
              "ticks": ""
             }
            },
            "type": "scattercarpet"
           }
          ],
          "scattergeo": [
           {
            "marker": {
             "colorbar": {
              "outlinewidth": 0,
              "ticks": ""
             }
            },
            "type": "scattergeo"
           }
          ],
          "scattergl": [
           {
            "marker": {
             "line": {
              "color": "#283442"
             }
            },
            "type": "scattergl"
           }
          ],
          "scattermap": [
           {
            "marker": {
             "colorbar": {
              "outlinewidth": 0,
              "ticks": ""
             }
            },
            "type": "scattermap"
           }
          ],
          "scattermapbox": [
           {
            "marker": {
             "colorbar": {
              "outlinewidth": 0,
              "ticks": ""
             }
            },
            "type": "scattermapbox"
           }
          ],
          "scatterpolar": [
           {
            "marker": {
             "colorbar": {
              "outlinewidth": 0,
              "ticks": ""
             }
            },
            "type": "scatterpolar"
           }
          ],
          "scatterpolargl": [
           {
            "marker": {
             "colorbar": {
              "outlinewidth": 0,
              "ticks": ""
             }
            },
            "type": "scatterpolargl"
           }
          ],
          "scatterternary": [
           {
            "marker": {
             "colorbar": {
              "outlinewidth": 0,
              "ticks": ""
             }
            },
            "type": "scatterternary"
           }
          ],
          "surface": [
           {
            "colorbar": {
             "outlinewidth": 0,
             "ticks": ""
            },
            "colorscale": [
             [
              0,
              "#0d0887"
             ],
             [
              0.1111111111111111,
              "#46039f"
             ],
             [
              0.2222222222222222,
              "#7201a8"
             ],
             [
              0.3333333333333333,
              "#9c179e"
             ],
             [
              0.4444444444444444,
              "#bd3786"
             ],
             [
              0.5555555555555556,
              "#d8576b"
             ],
             [
              0.6666666666666666,
              "#ed7953"
             ],
             [
              0.7777777777777778,
              "#fb9f3a"
             ],
             [
              0.8888888888888888,
              "#fdca26"
             ],
             [
              1,
              "#f0f921"
             ]
            ],
            "type": "surface"
           }
          ],
          "table": [
           {
            "cells": {
             "fill": {
              "color": "#506784"
             },
             "line": {
              "color": "rgb(17,17,17)"
             }
            },
            "header": {
             "fill": {
              "color": "#2a3f5f"
             },
             "line": {
              "color": "rgb(17,17,17)"
             }
            },
            "type": "table"
           }
          ]
         },
         "layout": {
          "annotationdefaults": {
           "arrowcolor": "#f2f5fa",
           "arrowhead": 0,
           "arrowwidth": 1
          },
          "autotypenumbers": "strict",
          "coloraxis": {
           "colorbar": {
            "outlinewidth": 0,
            "ticks": ""
           }
          },
          "colorscale": {
           "diverging": [
            [
             0,
             "#8e0152"
            ],
            [
             0.1,
             "#c51b7d"
            ],
            [
             0.2,
             "#de77ae"
            ],
            [
             0.3,
             "#f1b6da"
            ],
            [
             0.4,
             "#fde0ef"
            ],
            [
             0.5,
             "#f7f7f7"
            ],
            [
             0.6,
             "#e6f5d0"
            ],
            [
             0.7,
             "#b8e186"
            ],
            [
             0.8,
             "#7fbc41"
            ],
            [
             0.9,
             "#4d9221"
            ],
            [
             1,
             "#276419"
            ]
           ],
           "sequential": [
            [
             0,
             "#0d0887"
            ],
            [
             0.1111111111111111,
             "#46039f"
            ],
            [
             0.2222222222222222,
             "#7201a8"
            ],
            [
             0.3333333333333333,
             "#9c179e"
            ],
            [
             0.4444444444444444,
             "#bd3786"
            ],
            [
             0.5555555555555556,
             "#d8576b"
            ],
            [
             0.6666666666666666,
             "#ed7953"
            ],
            [
             0.7777777777777778,
             "#fb9f3a"
            ],
            [
             0.8888888888888888,
             "#fdca26"
            ],
            [
             1,
             "#f0f921"
            ]
           ],
           "sequentialminus": [
            [
             0,
             "#0d0887"
            ],
            [
             0.1111111111111111,
             "#46039f"
            ],
            [
             0.2222222222222222,
             "#7201a8"
            ],
            [
             0.3333333333333333,
             "#9c179e"
            ],
            [
             0.4444444444444444,
             "#bd3786"
            ],
            [
             0.5555555555555556,
             "#d8576b"
            ],
            [
             0.6666666666666666,
             "#ed7953"
            ],
            [
             0.7777777777777778,
             "#fb9f3a"
            ],
            [
             0.8888888888888888,
             "#fdca26"
            ],
            [
             1,
             "#f0f921"
            ]
           ]
          },
          "colorway": [
           "#636efa",
           "#EF553B",
           "#00cc96",
           "#ab63fa",
           "#FFA15A",
           "#19d3f3",
           "#FF6692",
           "#B6E880",
           "#FF97FF",
           "#FECB52"
          ],
          "font": {
           "color": "#f2f5fa"
          },
          "geo": {
           "bgcolor": "rgb(17,17,17)",
           "lakecolor": "rgb(17,17,17)",
           "landcolor": "rgb(17,17,17)",
           "showlakes": true,
           "showland": true,
           "subunitcolor": "#506784"
          },
          "hoverlabel": {
           "align": "left"
          },
          "hovermode": "closest",
          "mapbox": {
           "style": "dark"
          },
          "paper_bgcolor": "rgb(17,17,17)",
          "plot_bgcolor": "rgb(17,17,17)",
          "polar": {
           "angularaxis": {
            "gridcolor": "#506784",
            "linecolor": "#506784",
            "ticks": ""
           },
           "bgcolor": "rgb(17,17,17)",
           "radialaxis": {
            "gridcolor": "#506784",
            "linecolor": "#506784",
            "ticks": ""
           }
          },
          "scene": {
           "xaxis": {
            "backgroundcolor": "rgb(17,17,17)",
            "gridcolor": "#506784",
            "gridwidth": 2,
            "linecolor": "#506784",
            "showbackground": true,
            "ticks": "",
            "zerolinecolor": "#C8D4E3"
           },
           "yaxis": {
            "backgroundcolor": "rgb(17,17,17)",
            "gridcolor": "#506784",
            "gridwidth": 2,
            "linecolor": "#506784",
            "showbackground": true,
            "ticks": "",
            "zerolinecolor": "#C8D4E3"
           },
           "zaxis": {
            "backgroundcolor": "rgb(17,17,17)",
            "gridcolor": "#506784",
            "gridwidth": 2,
            "linecolor": "#506784",
            "showbackground": true,
            "ticks": "",
            "zerolinecolor": "#C8D4E3"
           }
          },
          "shapedefaults": {
           "line": {
            "color": "#f2f5fa"
           }
          },
          "sliderdefaults": {
           "bgcolor": "#C8D4E3",
           "bordercolor": "rgb(17,17,17)",
           "borderwidth": 1,
           "tickwidth": 0
          },
          "ternary": {
           "aaxis": {
            "gridcolor": "#506784",
            "linecolor": "#506784",
            "ticks": ""
           },
           "baxis": {
            "gridcolor": "#506784",
            "linecolor": "#506784",
            "ticks": ""
           },
           "bgcolor": "rgb(17,17,17)",
           "caxis": {
            "gridcolor": "#506784",
            "linecolor": "#506784",
            "ticks": ""
           }
          },
          "title": {
           "x": 0.05
          },
          "updatemenudefaults": {
           "bgcolor": "#506784",
           "borderwidth": 0
          },
          "xaxis": {
           "automargin": true,
           "gridcolor": "#283442",
           "linecolor": "#506784",
           "ticks": "",
           "title": {
            "standoff": 15
           },
           "zerolinecolor": "#283442",
           "zerolinewidth": 2
          },
          "yaxis": {
           "automargin": true,
           "gridcolor": "#283442",
           "linecolor": "#506784",
           "ticks": "",
           "title": {
            "standoff": 15
           },
           "zerolinecolor": "#283442",
           "zerolinewidth": 2
          }
         }
        },
        "title": {
         "text": "Net positions"
        },
        "width": 1500,
        "xaxis": {
         "title": {
          "text": "Date"
         }
        },
        "yaxis": {
         "title": {
          "text": "Contratcs"
         }
        }
       }
      }
     },
     "metadata": {},
     "output_type": "display_data"
    }
   ],
   "source": [
    "fig = go.Figure()\n",
    "\n",
    "for col in ['Commercial_Net_Position', 'Large_Speculators_Net_Position', 'Small_Traders_Net_Position']:\n",
    "    fig.add_trace(go.Scatter(x=df.index, y=df[col], mode='lines', name=col.replace('_Net_Position', '').replace('_', ' ').title(), line=dict(width=2)))\n",
    "\n",
    "fig.update_layout(\n",
    "        title='Net positions',\n",
    "        xaxis_title='Date',\n",
    "        yaxis_title='Contratcs',\n",
    "        template='plotly_dark',\n",
    "        height=600,\n",
    "        width=1500,\n",
    "    )\n",
    "\n",
    "fig.write_html(\"plots/net_positions.html\")\n",
    "fig.show()"
   ]
  },
  {
   "cell_type": "markdown",
   "id": "962e6a11",
   "metadata": {},
   "source": [
    "### Plotting all charts\n"
   ]
  },
  {
   "cell_type": "code",
   "execution_count": 12,
   "id": "00aabca4",
   "metadata": {},
   "outputs": [
    {
     "data": {
      "application/vnd.plotly.v1+json": {
       "config": {
        "plotlyServerURL": "https://plot.ly"
       },
       "data": [
        {
         "name": "COT Index",
         "type": "scatter",
         "x": [
          "2020-01-07T00:00:00.000000000",
          "2020-01-14T00:00:00.000000000",
          "2020-01-21T00:00:00.000000000",
          "2020-01-28T00:00:00.000000000",
          "2020-02-04T00:00:00.000000000",
          "2020-02-11T00:00:00.000000000",
          "2020-02-18T00:00:00.000000000",
          "2020-02-25T00:00:00.000000000",
          "2020-03-03T00:00:00.000000000",
          "2020-03-10T00:00:00.000000000",
          "2020-03-17T00:00:00.000000000",
          "2020-03-24T00:00:00.000000000",
          "2020-03-31T00:00:00.000000000",
          "2020-04-07T00:00:00.000000000",
          "2020-04-14T00:00:00.000000000",
          "2020-04-21T00:00:00.000000000",
          "2020-04-28T00:00:00.000000000",
          "2020-05-05T00:00:00.000000000",
          "2020-05-12T00:00:00.000000000",
          "2020-05-19T00:00:00.000000000",
          "2020-05-26T00:00:00.000000000",
          "2020-06-02T00:00:00.000000000",
          "2020-06-09T00:00:00.000000000",
          "2020-06-16T00:00:00.000000000",
          "2020-06-23T00:00:00.000000000",
          "2020-06-30T00:00:00.000000000",
          "2020-07-07T00:00:00.000000000",
          "2020-07-14T00:00:00.000000000",
          "2020-07-21T00:00:00.000000000",
          "2020-07-28T00:00:00.000000000",
          "2020-08-04T00:00:00.000000000",
          "2020-08-11T00:00:00.000000000",
          "2020-08-18T00:00:00.000000000",
          "2020-08-25T00:00:00.000000000",
          "2020-09-01T00:00:00.000000000",
          "2020-09-08T00:00:00.000000000",
          "2020-09-15T00:00:00.000000000",
          "2020-09-22T00:00:00.000000000",
          "2020-09-29T00:00:00.000000000",
          "2020-10-06T00:00:00.000000000",
          "2020-10-13T00:00:00.000000000",
          "2020-10-20T00:00:00.000000000",
          "2020-10-27T00:00:00.000000000",
          "2020-11-03T00:00:00.000000000",
          "2020-11-10T00:00:00.000000000",
          "2020-11-17T00:00:00.000000000",
          "2020-11-24T00:00:00.000000000",
          "2020-12-01T00:00:00.000000000",
          "2020-12-08T00:00:00.000000000",
          "2020-12-15T00:00:00.000000000",
          "2020-12-21T00:00:00.000000000",
          "2020-12-29T00:00:00.000000000",
          "2021-01-05T00:00:00.000000000",
          "2021-01-12T00:00:00.000000000",
          "2021-01-19T00:00:00.000000000",
          "2021-01-26T00:00:00.000000000",
          "2021-02-02T00:00:00.000000000",
          "2021-02-09T00:00:00.000000000",
          "2021-02-16T00:00:00.000000000",
          "2021-02-23T00:00:00.000000000",
          "2021-03-02T00:00:00.000000000",
          "2021-03-09T00:00:00.000000000",
          "2021-03-16T00:00:00.000000000",
          "2021-03-23T00:00:00.000000000",
          "2021-03-30T00:00:00.000000000",
          "2021-04-06T00:00:00.000000000",
          "2021-04-13T00:00:00.000000000",
          "2021-04-20T00:00:00.000000000",
          "2021-04-27T00:00:00.000000000",
          "2021-05-04T00:00:00.000000000",
          "2021-05-11T00:00:00.000000000",
          "2021-05-18T00:00:00.000000000",
          "2021-05-25T00:00:00.000000000",
          "2021-06-01T00:00:00.000000000",
          "2021-06-08T00:00:00.000000000",
          "2021-06-15T00:00:00.000000000",
          "2021-06-22T00:00:00.000000000",
          "2021-06-29T00:00:00.000000000",
          "2021-07-06T00:00:00.000000000",
          "2021-07-13T00:00:00.000000000",
          "2021-07-20T00:00:00.000000000",
          "2021-07-27T00:00:00.000000000",
          "2021-08-03T00:00:00.000000000",
          "2021-08-10T00:00:00.000000000",
          "2021-08-17T00:00:00.000000000",
          "2021-08-24T00:00:00.000000000",
          "2021-08-31T00:00:00.000000000",
          "2021-09-07T00:00:00.000000000",
          "2021-09-14T00:00:00.000000000",
          "2021-09-21T00:00:00.000000000",
          "2021-09-28T00:00:00.000000000",
          "2021-10-05T00:00:00.000000000",
          "2021-10-12T00:00:00.000000000",
          "2021-10-19T00:00:00.000000000",
          "2021-10-26T00:00:00.000000000",
          "2021-11-02T00:00:00.000000000",
          "2021-11-09T00:00:00.000000000",
          "2021-11-16T00:00:00.000000000",
          "2021-11-23T00:00:00.000000000",
          "2021-11-30T00:00:00.000000000",
          "2021-12-07T00:00:00.000000000",
          "2021-12-14T00:00:00.000000000",
          "2021-12-21T00:00:00.000000000",
          "2021-12-28T00:00:00.000000000",
          "2022-01-04T00:00:00.000000000",
          "2022-01-11T00:00:00.000000000",
          "2022-01-18T00:00:00.000000000",
          "2022-01-25T00:00:00.000000000",
          "2022-02-01T00:00:00.000000000",
          "2022-02-08T00:00:00.000000000",
          "2022-02-15T00:00:00.000000000",
          "2022-02-22T00:00:00.000000000",
          "2022-03-01T00:00:00.000000000",
          "2022-03-08T00:00:00.000000000",
          "2022-03-15T00:00:00.000000000",
          "2022-03-22T00:00:00.000000000",
          "2022-03-29T00:00:00.000000000",
          "2022-04-05T00:00:00.000000000",
          "2022-04-12T00:00:00.000000000",
          "2022-04-19T00:00:00.000000000",
          "2022-04-26T00:00:00.000000000",
          "2022-05-03T00:00:00.000000000",
          "2022-05-10T00:00:00.000000000",
          "2022-05-17T00:00:00.000000000",
          "2022-05-24T00:00:00.000000000",
          "2022-05-31T00:00:00.000000000",
          "2022-06-07T00:00:00.000000000",
          "2022-06-14T00:00:00.000000000",
          "2022-06-21T00:00:00.000000000",
          "2022-06-28T00:00:00.000000000",
          "2022-07-05T00:00:00.000000000",
          "2022-07-12T00:00:00.000000000",
          "2022-07-19T00:00:00.000000000",
          "2022-07-26T00:00:00.000000000",
          "2022-08-02T00:00:00.000000000",
          "2022-08-09T00:00:00.000000000",
          "2022-08-16T00:00:00.000000000",
          "2022-08-23T00:00:00.000000000",
          "2022-08-30T00:00:00.000000000",
          "2022-09-06T00:00:00.000000000",
          "2022-09-13T00:00:00.000000000",
          "2022-09-20T00:00:00.000000000",
          "2022-09-27T00:00:00.000000000",
          "2022-10-04T00:00:00.000000000",
          "2022-10-11T00:00:00.000000000",
          "2022-10-18T00:00:00.000000000",
          "2022-10-25T00:00:00.000000000",
          "2022-11-01T00:00:00.000000000",
          "2022-11-08T00:00:00.000000000",
          "2022-11-15T00:00:00.000000000",
          "2022-11-22T00:00:00.000000000",
          "2022-11-29T00:00:00.000000000",
          "2022-12-06T00:00:00.000000000",
          "2022-12-13T00:00:00.000000000",
          "2022-12-20T00:00:00.000000000",
          "2022-12-27T00:00:00.000000000",
          "2023-01-03T00:00:00.000000000",
          "2023-01-10T00:00:00.000000000",
          "2023-01-17T00:00:00.000000000",
          "2023-01-24T00:00:00.000000000",
          "2023-01-31T00:00:00.000000000",
          "2023-02-07T00:00:00.000000000",
          "2023-02-14T00:00:00.000000000",
          "2023-02-21T00:00:00.000000000",
          "2023-02-28T00:00:00.000000000",
          "2023-03-07T00:00:00.000000000",
          "2023-03-14T00:00:00.000000000",
          "2023-03-21T00:00:00.000000000",
          "2023-03-28T00:00:00.000000000",
          "2023-04-04T00:00:00.000000000",
          "2023-04-11T00:00:00.000000000",
          "2023-04-18T00:00:00.000000000",
          "2023-04-25T00:00:00.000000000",
          "2023-05-02T00:00:00.000000000",
          "2023-05-09T00:00:00.000000000",
          "2023-05-16T00:00:00.000000000",
          "2023-05-23T00:00:00.000000000",
          "2023-05-30T00:00:00.000000000",
          "2023-06-06T00:00:00.000000000",
          "2023-06-13T00:00:00.000000000",
          "2023-06-20T00:00:00.000000000",
          "2023-06-27T00:00:00.000000000",
          "2023-07-03T00:00:00.000000000",
          "2023-07-11T00:00:00.000000000",
          "2023-07-18T00:00:00.000000000",
          "2023-07-25T00:00:00.000000000",
          "2023-08-01T00:00:00.000000000",
          "2023-08-08T00:00:00.000000000",
          "2023-08-15T00:00:00.000000000",
          "2023-08-22T00:00:00.000000000",
          "2023-08-29T00:00:00.000000000",
          "2023-09-05T00:00:00.000000000",
          "2023-09-12T00:00:00.000000000",
          "2023-09-19T00:00:00.000000000",
          "2023-09-26T00:00:00.000000000",
          "2023-10-03T00:00:00.000000000",
          "2023-10-10T00:00:00.000000000",
          "2023-10-17T00:00:00.000000000",
          "2023-10-24T00:00:00.000000000",
          "2023-10-31T00:00:00.000000000",
          "2023-11-07T00:00:00.000000000",
          "2023-11-14T00:00:00.000000000",
          "2023-11-21T00:00:00.000000000",
          "2023-11-28T00:00:00.000000000",
          "2023-12-05T00:00:00.000000000",
          "2023-12-12T00:00:00.000000000",
          "2023-12-19T00:00:00.000000000",
          "2023-12-26T00:00:00.000000000",
          "2024-01-02T00:00:00.000000000",
          "2024-01-09T00:00:00.000000000",
          "2024-01-16T00:00:00.000000000",
          "2024-01-23T00:00:00.000000000",
          "2024-01-30T00:00:00.000000000",
          "2024-02-06T00:00:00.000000000",
          "2024-02-13T00:00:00.000000000",
          "2024-02-20T00:00:00.000000000",
          "2024-02-27T00:00:00.000000000",
          "2024-03-05T00:00:00.000000000",
          "2024-03-12T00:00:00.000000000",
          "2024-03-19T00:00:00.000000000",
          "2024-03-26T00:00:00.000000000",
          "2024-04-02T00:00:00.000000000",
          "2024-04-09T00:00:00.000000000",
          "2024-04-16T00:00:00.000000000",
          "2024-04-23T00:00:00.000000000",
          "2024-04-30T00:00:00.000000000",
          "2024-05-07T00:00:00.000000000",
          "2024-05-14T00:00:00.000000000",
          "2024-05-21T00:00:00.000000000",
          "2024-05-28T00:00:00.000000000",
          "2024-06-04T00:00:00.000000000",
          "2024-06-11T00:00:00.000000000",
          "2024-06-18T00:00:00.000000000",
          "2024-06-25T00:00:00.000000000",
          "2024-07-02T00:00:00.000000000",
          "2024-07-09T00:00:00.000000000",
          "2024-07-16T00:00:00.000000000",
          "2024-07-23T00:00:00.000000000",
          "2024-07-30T00:00:00.000000000",
          "2024-08-06T00:00:00.000000000",
          "2024-08-13T00:00:00.000000000",
          "2024-08-20T00:00:00.000000000",
          "2024-08-27T00:00:00.000000000",
          "2024-09-03T00:00:00.000000000",
          "2024-09-10T00:00:00.000000000",
          "2024-09-17T00:00:00.000000000",
          "2024-09-24T00:00:00.000000000",
          "2024-10-01T00:00:00.000000000",
          "2024-10-08T00:00:00.000000000",
          "2024-10-15T00:00:00.000000000",
          "2024-10-22T00:00:00.000000000",
          "2024-10-29T00:00:00.000000000",
          "2024-11-05T00:00:00.000000000",
          "2024-11-12T00:00:00.000000000",
          "2024-11-19T00:00:00.000000000",
          "2024-11-26T00:00:00.000000000",
          "2024-12-03T00:00:00.000000000",
          "2024-12-10T00:00:00.000000000",
          "2024-12-17T00:00:00.000000000",
          "2024-12-24T00:00:00.000000000",
          "2024-12-31T00:00:00.000000000",
          "2025-01-07T00:00:00.000000000",
          "2025-01-14T00:00:00.000000000",
          "2025-01-21T00:00:00.000000000",
          "2025-01-28T00:00:00.000000000",
          "2025-02-04T00:00:00.000000000",
          "2025-02-11T00:00:00.000000000",
          "2025-02-18T00:00:00.000000000",
          "2025-02-25T00:00:00.000000000",
          "2025-03-04T00:00:00.000000000",
          "2025-03-11T00:00:00.000000000",
          "2025-03-18T00:00:00.000000000",
          "2025-03-25T00:00:00.000000000",
          "2025-04-01T00:00:00.000000000",
          "2025-04-08T00:00:00.000000000",
          "2025-04-15T00:00:00.000000000",
          "2025-04-22T00:00:00.000000000",
          "2025-04-29T00:00:00.000000000",
          "2025-05-06T00:00:00.000000000",
          "2025-05-13T00:00:00.000000000",
          "2025-05-20T00:00:00.000000000",
          "2025-05-27T00:00:00.000000000",
          "2025-06-03T00:00:00.000000000",
          "2025-06-10T00:00:00.000000000",
          "2025-06-17T00:00:00.000000000",
          "2025-06-24T00:00:00.000000000",
          "2025-07-01T00:00:00.000000000",
          "2025-07-08T00:00:00.000000000",
          "2025-07-15T00:00:00.000000000"
         ],
         "xaxis": "x",
         "y": {
          "bdata": "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",
          "dtype": "f8"
         },
         "yaxis": "y"
        },
        {
         "line": {
          "width": 2
         },
         "name": "Commercial",
         "type": "scatter",
         "x": [
          "2020-01-07T00:00:00.000000000",
          "2020-01-14T00:00:00.000000000",
          "2020-01-21T00:00:00.000000000",
          "2020-01-28T00:00:00.000000000",
          "2020-02-04T00:00:00.000000000",
          "2020-02-11T00:00:00.000000000",
          "2020-02-18T00:00:00.000000000",
          "2020-02-25T00:00:00.000000000",
          "2020-03-03T00:00:00.000000000",
          "2020-03-10T00:00:00.000000000",
          "2020-03-17T00:00:00.000000000",
          "2020-03-24T00:00:00.000000000",
          "2020-03-31T00:00:00.000000000",
          "2020-04-07T00:00:00.000000000",
          "2020-04-14T00:00:00.000000000",
          "2020-04-21T00:00:00.000000000",
          "2020-04-28T00:00:00.000000000",
          "2020-05-05T00:00:00.000000000",
          "2020-05-12T00:00:00.000000000",
          "2020-05-19T00:00:00.000000000",
          "2020-05-26T00:00:00.000000000",
          "2020-06-02T00:00:00.000000000",
          "2020-06-09T00:00:00.000000000",
          "2020-06-16T00:00:00.000000000",
          "2020-06-23T00:00:00.000000000",
          "2020-06-30T00:00:00.000000000",
          "2020-07-07T00:00:00.000000000",
          "2020-07-14T00:00:00.000000000",
          "2020-07-21T00:00:00.000000000",
          "2020-07-28T00:00:00.000000000",
          "2020-08-04T00:00:00.000000000",
          "2020-08-11T00:00:00.000000000",
          "2020-08-18T00:00:00.000000000",
          "2020-08-25T00:00:00.000000000",
          "2020-09-01T00:00:00.000000000",
          "2020-09-08T00:00:00.000000000",
          "2020-09-15T00:00:00.000000000",
          "2020-09-22T00:00:00.000000000",
          "2020-09-29T00:00:00.000000000",
          "2020-10-06T00:00:00.000000000",
          "2020-10-13T00:00:00.000000000",
          "2020-10-20T00:00:00.000000000",
          "2020-10-27T00:00:00.000000000",
          "2020-11-03T00:00:00.000000000",
          "2020-11-10T00:00:00.000000000",
          "2020-11-17T00:00:00.000000000",
          "2020-11-24T00:00:00.000000000",
          "2020-12-01T00:00:00.000000000",
          "2020-12-08T00:00:00.000000000",
          "2020-12-15T00:00:00.000000000",
          "2020-12-21T00:00:00.000000000",
          "2020-12-29T00:00:00.000000000",
          "2021-01-05T00:00:00.000000000",
          "2021-01-12T00:00:00.000000000",
          "2021-01-19T00:00:00.000000000",
          "2021-01-26T00:00:00.000000000",
          "2021-02-02T00:00:00.000000000",
          "2021-02-09T00:00:00.000000000",
          "2021-02-16T00:00:00.000000000",
          "2021-02-23T00:00:00.000000000",
          "2021-03-02T00:00:00.000000000",
          "2021-03-09T00:00:00.000000000",
          "2021-03-16T00:00:00.000000000",
          "2021-03-23T00:00:00.000000000",
          "2021-03-30T00:00:00.000000000",
          "2021-04-06T00:00:00.000000000",
          "2021-04-13T00:00:00.000000000",
          "2021-04-20T00:00:00.000000000",
          "2021-04-27T00:00:00.000000000",
          "2021-05-04T00:00:00.000000000",
          "2021-05-11T00:00:00.000000000",
          "2021-05-18T00:00:00.000000000",
          "2021-05-25T00:00:00.000000000",
          "2021-06-01T00:00:00.000000000",
          "2021-06-08T00:00:00.000000000",
          "2021-06-15T00:00:00.000000000",
          "2021-06-22T00:00:00.000000000",
          "2021-06-29T00:00:00.000000000",
          "2021-07-06T00:00:00.000000000",
          "2021-07-13T00:00:00.000000000",
          "2021-07-20T00:00:00.000000000",
          "2021-07-27T00:00:00.000000000",
          "2021-08-03T00:00:00.000000000",
          "2021-08-10T00:00:00.000000000",
          "2021-08-17T00:00:00.000000000",
          "2021-08-24T00:00:00.000000000",
          "2021-08-31T00:00:00.000000000",
          "2021-09-07T00:00:00.000000000",
          "2021-09-14T00:00:00.000000000",
          "2021-09-21T00:00:00.000000000",
          "2021-09-28T00:00:00.000000000",
          "2021-10-05T00:00:00.000000000",
          "2021-10-12T00:00:00.000000000",
          "2021-10-19T00:00:00.000000000",
          "2021-10-26T00:00:00.000000000",
          "2021-11-02T00:00:00.000000000",
          "2021-11-09T00:00:00.000000000",
          "2021-11-16T00:00:00.000000000",
          "2021-11-23T00:00:00.000000000",
          "2021-11-30T00:00:00.000000000",
          "2021-12-07T00:00:00.000000000",
          "2021-12-14T00:00:00.000000000",
          "2021-12-21T00:00:00.000000000",
          "2021-12-28T00:00:00.000000000",
          "2022-01-04T00:00:00.000000000",
          "2022-01-11T00:00:00.000000000",
          "2022-01-18T00:00:00.000000000",
          "2022-01-25T00:00:00.000000000",
          "2022-02-01T00:00:00.000000000",
          "2022-02-08T00:00:00.000000000",
          "2022-02-15T00:00:00.000000000",
          "2022-02-22T00:00:00.000000000",
          "2022-03-01T00:00:00.000000000",
          "2022-03-08T00:00:00.000000000",
          "2022-03-15T00:00:00.000000000",
          "2022-03-22T00:00:00.000000000",
          "2022-03-29T00:00:00.000000000",
          "2022-04-05T00:00:00.000000000",
          "2022-04-12T00:00:00.000000000",
          "2022-04-19T00:00:00.000000000",
          "2022-04-26T00:00:00.000000000",
          "2022-05-03T00:00:00.000000000",
          "2022-05-10T00:00:00.000000000",
          "2022-05-17T00:00:00.000000000",
          "2022-05-24T00:00:00.000000000",
          "2022-05-31T00:00:00.000000000",
          "2022-06-07T00:00:00.000000000",
          "2022-06-14T00:00:00.000000000",
          "2022-06-21T00:00:00.000000000",
          "2022-06-28T00:00:00.000000000",
          "2022-07-05T00:00:00.000000000",
          "2022-07-12T00:00:00.000000000",
          "2022-07-19T00:00:00.000000000",
          "2022-07-26T00:00:00.000000000",
          "2022-08-02T00:00:00.000000000",
          "2022-08-09T00:00:00.000000000",
          "2022-08-16T00:00:00.000000000",
          "2022-08-23T00:00:00.000000000",
          "2022-08-30T00:00:00.000000000",
          "2022-09-06T00:00:00.000000000",
          "2022-09-13T00:00:00.000000000",
          "2022-09-20T00:00:00.000000000",
          "2022-09-27T00:00:00.000000000",
          "2022-10-04T00:00:00.000000000",
          "2022-10-11T00:00:00.000000000",
          "2022-10-18T00:00:00.000000000",
          "2022-10-25T00:00:00.000000000",
          "2022-11-01T00:00:00.000000000",
          "2022-11-08T00:00:00.000000000",
          "2022-11-15T00:00:00.000000000",
          "2022-11-22T00:00:00.000000000",
          "2022-11-29T00:00:00.000000000",
          "2022-12-06T00:00:00.000000000",
          "2022-12-13T00:00:00.000000000",
          "2022-12-20T00:00:00.000000000",
          "2022-12-27T00:00:00.000000000",
          "2023-01-03T00:00:00.000000000",
          "2023-01-10T00:00:00.000000000",
          "2023-01-17T00:00:00.000000000",
          "2023-01-24T00:00:00.000000000",
          "2023-01-31T00:00:00.000000000",
          "2023-02-07T00:00:00.000000000",
          "2023-02-14T00:00:00.000000000",
          "2023-02-21T00:00:00.000000000",
          "2023-02-28T00:00:00.000000000",
          "2023-03-07T00:00:00.000000000",
          "2023-03-14T00:00:00.000000000",
          "2023-03-21T00:00:00.000000000",
          "2023-03-28T00:00:00.000000000",
          "2023-04-04T00:00:00.000000000",
          "2023-04-11T00:00:00.000000000",
          "2023-04-18T00:00:00.000000000",
          "2023-04-25T00:00:00.000000000",
          "2023-05-02T00:00:00.000000000",
          "2023-05-09T00:00:00.000000000",
          "2023-05-16T00:00:00.000000000",
          "2023-05-23T00:00:00.000000000",
          "2023-05-30T00:00:00.000000000",
          "2023-06-06T00:00:00.000000000",
          "2023-06-13T00:00:00.000000000",
          "2023-06-20T00:00:00.000000000",
          "2023-06-27T00:00:00.000000000",
          "2023-07-03T00:00:00.000000000",
          "2023-07-11T00:00:00.000000000",
          "2023-07-18T00:00:00.000000000",
          "2023-07-25T00:00:00.000000000",
          "2023-08-01T00:00:00.000000000",
          "2023-08-08T00:00:00.000000000",
          "2023-08-15T00:00:00.000000000",
          "2023-08-22T00:00:00.000000000",
          "2023-08-29T00:00:00.000000000",
          "2023-09-05T00:00:00.000000000",
          "2023-09-12T00:00:00.000000000",
          "2023-09-19T00:00:00.000000000",
          "2023-09-26T00:00:00.000000000",
          "2023-10-03T00:00:00.000000000",
          "2023-10-10T00:00:00.000000000",
          "2023-10-17T00:00:00.000000000",
          "2023-10-24T00:00:00.000000000",
          "2023-10-31T00:00:00.000000000",
          "2023-11-07T00:00:00.000000000",
          "2023-11-14T00:00:00.000000000",
          "2023-11-21T00:00:00.000000000",
          "2023-11-28T00:00:00.000000000",
          "2023-12-05T00:00:00.000000000",
          "2023-12-12T00:00:00.000000000",
          "2023-12-19T00:00:00.000000000",
          "2023-12-26T00:00:00.000000000",
          "2024-01-02T00:00:00.000000000",
          "2024-01-09T00:00:00.000000000",
          "2024-01-16T00:00:00.000000000",
          "2024-01-23T00:00:00.000000000",
          "2024-01-30T00:00:00.000000000",
          "2024-02-06T00:00:00.000000000",
          "2024-02-13T00:00:00.000000000",
          "2024-02-20T00:00:00.000000000",
          "2024-02-27T00:00:00.000000000",
          "2024-03-05T00:00:00.000000000",
          "2024-03-12T00:00:00.000000000",
          "2024-03-19T00:00:00.000000000",
          "2024-03-26T00:00:00.000000000",
          "2024-04-02T00:00:00.000000000",
          "2024-04-09T00:00:00.000000000",
          "2024-04-16T00:00:00.000000000",
          "2024-04-23T00:00:00.000000000",
          "2024-04-30T00:00:00.000000000",
          "2024-05-07T00:00:00.000000000",
          "2024-05-14T00:00:00.000000000",
          "2024-05-21T00:00:00.000000000",
          "2024-05-28T00:00:00.000000000",
          "2024-06-04T00:00:00.000000000",
          "2024-06-11T00:00:00.000000000",
          "2024-06-18T00:00:00.000000000",
          "2024-06-25T00:00:00.000000000",
          "2024-07-02T00:00:00.000000000",
          "2024-07-09T00:00:00.000000000",
          "2024-07-16T00:00:00.000000000",
          "2024-07-23T00:00:00.000000000",
          "2024-07-30T00:00:00.000000000",
          "2024-08-06T00:00:00.000000000",
          "2024-08-13T00:00:00.000000000",
          "2024-08-20T00:00:00.000000000",
          "2024-08-27T00:00:00.000000000",
          "2024-09-03T00:00:00.000000000",
          "2024-09-10T00:00:00.000000000",
          "2024-09-17T00:00:00.000000000",
          "2024-09-24T00:00:00.000000000",
          "2024-10-01T00:00:00.000000000",
          "2024-10-08T00:00:00.000000000",
          "2024-10-15T00:00:00.000000000",
          "2024-10-22T00:00:00.000000000",
          "2024-10-29T00:00:00.000000000",
          "2024-11-05T00:00:00.000000000",
          "2024-11-12T00:00:00.000000000",
          "2024-11-19T00:00:00.000000000",
          "2024-11-26T00:00:00.000000000",
          "2024-12-03T00:00:00.000000000",
          "2024-12-10T00:00:00.000000000",
          "2024-12-17T00:00:00.000000000",
          "2024-12-24T00:00:00.000000000",
          "2024-12-31T00:00:00.000000000",
          "2025-01-07T00:00:00.000000000",
          "2025-01-14T00:00:00.000000000",
          "2025-01-21T00:00:00.000000000",
          "2025-01-28T00:00:00.000000000",
          "2025-02-04T00:00:00.000000000",
          "2025-02-11T00:00:00.000000000",
          "2025-02-18T00:00:00.000000000",
          "2025-02-25T00:00:00.000000000",
          "2025-03-04T00:00:00.000000000",
          "2025-03-11T00:00:00.000000000",
          "2025-03-18T00:00:00.000000000",
          "2025-03-25T00:00:00.000000000",
          "2025-04-01T00:00:00.000000000",
          "2025-04-08T00:00:00.000000000",
          "2025-04-15T00:00:00.000000000",
          "2025-04-22T00:00:00.000000000",
          "2025-04-29T00:00:00.000000000",
          "2025-05-06T00:00:00.000000000",
          "2025-05-13T00:00:00.000000000",
          "2025-05-20T00:00:00.000000000",
          "2025-05-27T00:00:00.000000000",
          "2025-06-03T00:00:00.000000000",
          "2025-06-10T00:00:00.000000000",
          "2025-06-17T00:00:00.000000000",
          "2025-06-24T00:00:00.000000000",
          "2025-07-01T00:00:00.000000000",
          "2025-07-08T00:00:00.000000000",
          "2025-07-15T00:00:00.000000000"
         ],
         "xaxis": "x2",
         "y": {
          "bdata": "D5H6/4Wp+v9hofr/kn76/1nw+v+B2Pr/tB36/7tE+v/dpPr/kP36/3Nl+//xPfv/yar7/2XL+/+ouPv/97n7/wOF+//cs/v/+7/7/4KS+/9u0Pv/kRX8//9I/P8cEPz/xJ37/2lm+/8AYvv/PmT7/w1d+/+XwPv/h8j7/9Xn+/8F6vv/M+/7/2LE+/8wtvv//qX7/1jv+/8eovv/LJn7/xGo+/8Ug/v/8nn7/8aV+//hrPv/VIH7/2On+/9xhvv/TWn7/1pT+/8lMfv/yk/7/2Ua+/8Dkvv/FZ37/zxw+/8bdPv/nYr7/3rN+/+vKPz/BZz8//jT/P+9zfz/tev8/0IL/f/xuPz/bND8/ze//P+31vz/Pev8//SI/P87cvz/Cyz8/5E2/P+6Q/z/xnj8/3Lp/P/QBf3/Orn8/5yg/P88g/z/MoL8/4x4/P/HA/3/ELz8/0pr/P+AVPz/4Gb8//Vs/P9cwfz/ORn9/0rk/P8C1fz/yqf8/9pX/P/7Vvz/38v7/82c+//G6fv/1Q38/4lA/P8NePz/A2b8/2BA/P9uYPz/z5D8/3Sg/P9uMPz/gu38/xbG/P/lWvz/ZuL7/4+j+//+UPv/H3b7/wW0+/8Po/v/Gr/7/6Oa+/+7y/v/MjL8/1R2/P9Uhvz/4df8/xXE/P+I8vz/MvP8/3dG/f/PJf3/CTn9/y95/f/E5f3/ekn+/3pY/v9z7v3/RqT9/5On/f+o5P3/cQX+/3BC/v+mTv7/XNn+/0YN///chv7/0Gr+/1Kg/v+rxv7/4tv+//ib/v9c8/3/8AP+/z8u/v/hA/7/3+L9/07T/f9Qp/3/Go/9/0Je/f/XUP3/tj79/9g+/f96qv3/0Af+/7UG/v8BDv7/eC/+/9Cg/f/wMv3/3Oz8/3ar/P8csvz/l7L8/yjE/P8Qrvz/zZr8/5vF/P9xJf3/yxn9/9X5/P8yKf3/Vyf9/xlT/f9zLv3/myL9/y29/P+++fz/Iyb9/35x/f+W1f3/NCf+/87a/f/hlf3/Vsr9/5yq/f9M8f3/kkr+/8Se/v8BDP7/D3j9/002/f8VKf3/hUz9/+UY/f8gqvz/f4n8/7jA/P8Oifz/Z3T8/ypo/P+brfz/xNX8/6MR/f/qZf3/7z/9/2yq/f9Nkf3/cJX9/zjY/P9fq/z/Rq78/xyr/P9Ojvz/upL8/9qZ/P/Iifz/Vof8/z6I/P9Sdfz/mQ38/6oE/P818fv/YQb8/y7q+/+A2/v/ofX7/8u3+//IR/v/g2j7/yfW+/8W5fv/aon7/6Yr+//xFPv/sT37/y1R+//p4vr/BtH6/5wA+/+YXPv/rjr7/6ML+//JXfv/Ta77/5Ly+/9O//v/eNf7/72h+/9ZePv/z6X7/0jU+/9A3Pv/ir/7/4xi+/8wBPv/dg/7/xH++v+ARfv/eXv7/5ya+//13Pv/HPT7/xCm+/+6v/v/m/T7/wl1/P8Ydvz/5On8/9cW/f+ZEf3/GRX9//D7/P8d1fz/ZqH8/wKa/P9hX/z/YHv8/9tl/P/uXPz/wCz8/w==",
          "dtype": "i4"
         },
         "yaxis": "y2"
        },
        {
         "line": {
          "width": 2
         },
         "name": "Large Speculators",
         "type": "scatter",
         "x": [
          "2020-01-07T00:00:00.000000000",
          "2020-01-14T00:00:00.000000000",
          "2020-01-21T00:00:00.000000000",
          "2020-01-28T00:00:00.000000000",
          "2020-02-04T00:00:00.000000000",
          "2020-02-11T00:00:00.000000000",
          "2020-02-18T00:00:00.000000000",
          "2020-02-25T00:00:00.000000000",
          "2020-03-03T00:00:00.000000000",
          "2020-03-10T00:00:00.000000000",
          "2020-03-17T00:00:00.000000000",
          "2020-03-24T00:00:00.000000000",
          "2020-03-31T00:00:00.000000000",
          "2020-04-07T00:00:00.000000000",
          "2020-04-14T00:00:00.000000000",
          "2020-04-21T00:00:00.000000000",
          "2020-04-28T00:00:00.000000000",
          "2020-05-05T00:00:00.000000000",
          "2020-05-12T00:00:00.000000000",
          "2020-05-19T00:00:00.000000000",
          "2020-05-26T00:00:00.000000000",
          "2020-06-02T00:00:00.000000000",
          "2020-06-09T00:00:00.000000000",
          "2020-06-16T00:00:00.000000000",
          "2020-06-23T00:00:00.000000000",
          "2020-06-30T00:00:00.000000000",
          "2020-07-07T00:00:00.000000000",
          "2020-07-14T00:00:00.000000000",
          "2020-07-21T00:00:00.000000000",
          "2020-07-28T00:00:00.000000000",
          "2020-08-04T00:00:00.000000000",
          "2020-08-11T00:00:00.000000000",
          "2020-08-18T00:00:00.000000000",
          "2020-08-25T00:00:00.000000000",
          "2020-09-01T00:00:00.000000000",
          "2020-09-08T00:00:00.000000000",
          "2020-09-15T00:00:00.000000000",
          "2020-09-22T00:00:00.000000000",
          "2020-09-29T00:00:00.000000000",
          "2020-10-06T00:00:00.000000000",
          "2020-10-13T00:00:00.000000000",
          "2020-10-20T00:00:00.000000000",
          "2020-10-27T00:00:00.000000000",
          "2020-11-03T00:00:00.000000000",
          "2020-11-10T00:00:00.000000000",
          "2020-11-17T00:00:00.000000000",
          "2020-11-24T00:00:00.000000000",
          "2020-12-01T00:00:00.000000000",
          "2020-12-08T00:00:00.000000000",
          "2020-12-15T00:00:00.000000000",
          "2020-12-21T00:00:00.000000000",
          "2020-12-29T00:00:00.000000000",
          "2021-01-05T00:00:00.000000000",
          "2021-01-12T00:00:00.000000000",
          "2021-01-19T00:00:00.000000000",
          "2021-01-26T00:00:00.000000000",
          "2021-02-02T00:00:00.000000000",
          "2021-02-09T00:00:00.000000000",
          "2021-02-16T00:00:00.000000000",
          "2021-02-23T00:00:00.000000000",
          "2021-03-02T00:00:00.000000000",
          "2021-03-09T00:00:00.000000000",
          "2021-03-16T00:00:00.000000000",
          "2021-03-23T00:00:00.000000000",
          "2021-03-30T00:00:00.000000000",
          "2021-04-06T00:00:00.000000000",
          "2021-04-13T00:00:00.000000000",
          "2021-04-20T00:00:00.000000000",
          "2021-04-27T00:00:00.000000000",
          "2021-05-04T00:00:00.000000000",
          "2021-05-11T00:00:00.000000000",
          "2021-05-18T00:00:00.000000000",
          "2021-05-25T00:00:00.000000000",
          "2021-06-01T00:00:00.000000000",
          "2021-06-08T00:00:00.000000000",
          "2021-06-15T00:00:00.000000000",
          "2021-06-22T00:00:00.000000000",
          "2021-06-29T00:00:00.000000000",
          "2021-07-06T00:00:00.000000000",
          "2021-07-13T00:00:00.000000000",
          "2021-07-20T00:00:00.000000000",
          "2021-07-27T00:00:00.000000000",
          "2021-08-03T00:00:00.000000000",
          "2021-08-10T00:00:00.000000000",
          "2021-08-17T00:00:00.000000000",
          "2021-08-24T00:00:00.000000000",
          "2021-08-31T00:00:00.000000000",
          "2021-09-07T00:00:00.000000000",
          "2021-09-14T00:00:00.000000000",
          "2021-09-21T00:00:00.000000000",
          "2021-09-28T00:00:00.000000000",
          "2021-10-05T00:00:00.000000000",
          "2021-10-12T00:00:00.000000000",
          "2021-10-19T00:00:00.000000000",
          "2021-10-26T00:00:00.000000000",
          "2021-11-02T00:00:00.000000000",
          "2021-11-09T00:00:00.000000000",
          "2021-11-16T00:00:00.000000000",
          "2021-11-23T00:00:00.000000000",
          "2021-11-30T00:00:00.000000000",
          "2021-12-07T00:00:00.000000000",
          "2021-12-14T00:00:00.000000000",
          "2021-12-21T00:00:00.000000000",
          "2021-12-28T00:00:00.000000000",
          "2022-01-04T00:00:00.000000000",
          "2022-01-11T00:00:00.000000000",
          "2022-01-18T00:00:00.000000000",
          "2022-01-25T00:00:00.000000000",
          "2022-02-01T00:00:00.000000000",
          "2022-02-08T00:00:00.000000000",
          "2022-02-15T00:00:00.000000000",
          "2022-02-22T00:00:00.000000000",
          "2022-03-01T00:00:00.000000000",
          "2022-03-08T00:00:00.000000000",
          "2022-03-15T00:00:00.000000000",
          "2022-03-22T00:00:00.000000000",
          "2022-03-29T00:00:00.000000000",
          "2022-04-05T00:00:00.000000000",
          "2022-04-12T00:00:00.000000000",
          "2022-04-19T00:00:00.000000000",
          "2022-04-26T00:00:00.000000000",
          "2022-05-03T00:00:00.000000000",
          "2022-05-10T00:00:00.000000000",
          "2022-05-17T00:00:00.000000000",
          "2022-05-24T00:00:00.000000000",
          "2022-05-31T00:00:00.000000000",
          "2022-06-07T00:00:00.000000000",
          "2022-06-14T00:00:00.000000000",
          "2022-06-21T00:00:00.000000000",
          "2022-06-28T00:00:00.000000000",
          "2022-07-05T00:00:00.000000000",
          "2022-07-12T00:00:00.000000000",
          "2022-07-19T00:00:00.000000000",
          "2022-07-26T00:00:00.000000000",
          "2022-08-02T00:00:00.000000000",
          "2022-08-09T00:00:00.000000000",
          "2022-08-16T00:00:00.000000000",
          "2022-08-23T00:00:00.000000000",
          "2022-08-30T00:00:00.000000000",
          "2022-09-06T00:00:00.000000000",
          "2022-09-13T00:00:00.000000000",
          "2022-09-20T00:00:00.000000000",
          "2022-09-27T00:00:00.000000000",
          "2022-10-04T00:00:00.000000000",
          "2022-10-11T00:00:00.000000000",
          "2022-10-18T00:00:00.000000000",
          "2022-10-25T00:00:00.000000000",
          "2022-11-01T00:00:00.000000000",
          "2022-11-08T00:00:00.000000000",
          "2022-11-15T00:00:00.000000000",
          "2022-11-22T00:00:00.000000000",
          "2022-11-29T00:00:00.000000000",
          "2022-12-06T00:00:00.000000000",
          "2022-12-13T00:00:00.000000000",
          "2022-12-20T00:00:00.000000000",
          "2022-12-27T00:00:00.000000000",
          "2023-01-03T00:00:00.000000000",
          "2023-01-10T00:00:00.000000000",
          "2023-01-17T00:00:00.000000000",
          "2023-01-24T00:00:00.000000000",
          "2023-01-31T00:00:00.000000000",
          "2023-02-07T00:00:00.000000000",
          "2023-02-14T00:00:00.000000000",
          "2023-02-21T00:00:00.000000000",
          "2023-02-28T00:00:00.000000000",
          "2023-03-07T00:00:00.000000000",
          "2023-03-14T00:00:00.000000000",
          "2023-03-21T00:00:00.000000000",
          "2023-03-28T00:00:00.000000000",
          "2023-04-04T00:00:00.000000000",
          "2023-04-11T00:00:00.000000000",
          "2023-04-18T00:00:00.000000000",
          "2023-04-25T00:00:00.000000000",
          "2023-05-02T00:00:00.000000000",
          "2023-05-09T00:00:00.000000000",
          "2023-05-16T00:00:00.000000000",
          "2023-05-23T00:00:00.000000000",
          "2023-05-30T00:00:00.000000000",
          "2023-06-06T00:00:00.000000000",
          "2023-06-13T00:00:00.000000000",
          "2023-06-20T00:00:00.000000000",
          "2023-06-27T00:00:00.000000000",
          "2023-07-03T00:00:00.000000000",
          "2023-07-11T00:00:00.000000000",
          "2023-07-18T00:00:00.000000000",
          "2023-07-25T00:00:00.000000000",
          "2023-08-01T00:00:00.000000000",
          "2023-08-08T00:00:00.000000000",
          "2023-08-15T00:00:00.000000000",
          "2023-08-22T00:00:00.000000000",
          "2023-08-29T00:00:00.000000000",
          "2023-09-05T00:00:00.000000000",
          "2023-09-12T00:00:00.000000000",
          "2023-09-19T00:00:00.000000000",
          "2023-09-26T00:00:00.000000000",
          "2023-10-03T00:00:00.000000000",
          "2023-10-10T00:00:00.000000000",
          "2023-10-17T00:00:00.000000000",
          "2023-10-24T00:00:00.000000000",
          "2023-10-31T00:00:00.000000000",
          "2023-11-07T00:00:00.000000000",
          "2023-11-14T00:00:00.000000000",
          "2023-11-21T00:00:00.000000000",
          "2023-11-28T00:00:00.000000000",
          "2023-12-05T00:00:00.000000000",
          "2023-12-12T00:00:00.000000000",
          "2023-12-19T00:00:00.000000000",
          "2023-12-26T00:00:00.000000000",
          "2024-01-02T00:00:00.000000000",
          "2024-01-09T00:00:00.000000000",
          "2024-01-16T00:00:00.000000000",
          "2024-01-23T00:00:00.000000000",
          "2024-01-30T00:00:00.000000000",
          "2024-02-06T00:00:00.000000000",
          "2024-02-13T00:00:00.000000000",
          "2024-02-20T00:00:00.000000000",
          "2024-02-27T00:00:00.000000000",
          "2024-03-05T00:00:00.000000000",
          "2024-03-12T00:00:00.000000000",
          "2024-03-19T00:00:00.000000000",
          "2024-03-26T00:00:00.000000000",
          "2024-04-02T00:00:00.000000000",
          "2024-04-09T00:00:00.000000000",
          "2024-04-16T00:00:00.000000000",
          "2024-04-23T00:00:00.000000000",
          "2024-04-30T00:00:00.000000000",
          "2024-05-07T00:00:00.000000000",
          "2024-05-14T00:00:00.000000000",
          "2024-05-21T00:00:00.000000000",
          "2024-05-28T00:00:00.000000000",
          "2024-06-04T00:00:00.000000000",
          "2024-06-11T00:00:00.000000000",
          "2024-06-18T00:00:00.000000000",
          "2024-06-25T00:00:00.000000000",
          "2024-07-02T00:00:00.000000000",
          "2024-07-09T00:00:00.000000000",
          "2024-07-16T00:00:00.000000000",
          "2024-07-23T00:00:00.000000000",
          "2024-07-30T00:00:00.000000000",
          "2024-08-06T00:00:00.000000000",
          "2024-08-13T00:00:00.000000000",
          "2024-08-20T00:00:00.000000000",
          "2024-08-27T00:00:00.000000000",
          "2024-09-03T00:00:00.000000000",
          "2024-09-10T00:00:00.000000000",
          "2024-09-17T00:00:00.000000000",
          "2024-09-24T00:00:00.000000000",
          "2024-10-01T00:00:00.000000000",
          "2024-10-08T00:00:00.000000000",
          "2024-10-15T00:00:00.000000000",
          "2024-10-22T00:00:00.000000000",
          "2024-10-29T00:00:00.000000000",
          "2024-11-05T00:00:00.000000000",
          "2024-11-12T00:00:00.000000000",
          "2024-11-19T00:00:00.000000000",
          "2024-11-26T00:00:00.000000000",
          "2024-12-03T00:00:00.000000000",
          "2024-12-10T00:00:00.000000000",
          "2024-12-17T00:00:00.000000000",
          "2024-12-24T00:00:00.000000000",
          "2024-12-31T00:00:00.000000000",
          "2025-01-07T00:00:00.000000000",
          "2025-01-14T00:00:00.000000000",
          "2025-01-21T00:00:00.000000000",
          "2025-01-28T00:00:00.000000000",
          "2025-02-04T00:00:00.000000000",
          "2025-02-11T00:00:00.000000000",
          "2025-02-18T00:00:00.000000000",
          "2025-02-25T00:00:00.000000000",
          "2025-03-04T00:00:00.000000000",
          "2025-03-11T00:00:00.000000000",
          "2025-03-18T00:00:00.000000000",
          "2025-03-25T00:00:00.000000000",
          "2025-04-01T00:00:00.000000000",
          "2025-04-08T00:00:00.000000000",
          "2025-04-15T00:00:00.000000000",
          "2025-04-22T00:00:00.000000000",
          "2025-04-29T00:00:00.000000000",
          "2025-05-06T00:00:00.000000000",
          "2025-05-13T00:00:00.000000000",
          "2025-05-20T00:00:00.000000000",
          "2025-05-27T00:00:00.000000000",
          "2025-06-03T00:00:00.000000000",
          "2025-06-10T00:00:00.000000000",
          "2025-06-17T00:00:00.000000000",
          "2025-06-24T00:00:00.000000000",
          "2025-07-01T00:00:00.000000000",
          "2025-07-08T00:00:00.000000000",
          "2025-07-15T00:00:00.000000000"
         ],
         "xaxis": "x2",
         "y": {
          "bdata": "8+oEAAPfBAD/2AQAbAkFAB6TBAAGswQAcWUFAPkfBQD14AQAC5IEADxNBABuZgQAIfMDAG7MAwBV2gMA484DAEkCBACU0AMAjLQDAIzXAwBaoQMAmlcDAOUuAwBcbAMANdgDAK4RBABeFAQAHAEEAMQQBAABnQMAmqQDADVrAwAeaQMAbl8DAIyFAwC5mwMAUa0DALRXAwDLtwMAC8sDAB+sAwAEzwMAOssDAN20AwB4qAMAhtUDAL64AwDa+AMApBsEAOAkBAC0PgQASBoEABZDBADTwQMAbsMDAAruAwBm7AMAD9YDANmVAwC1SgMAxuQCADusAgDkvwIA86cCAGiOAgBF5AIAisICAPrEAgB7mgIA9ZoCAP/uAgDpCAMAckYDAMVCAwDrMQMAJO4CAEaJAgCyeQIAJcoCAHTpAgCE/QIA3AoDAO/+AgDWkQIANuwCAN02AwDmTQMA1yQDAJArAwD/3AIAz5ECADbJAgDD1AIARfMCACBGAwBZSAMARdEDAMT2AwCrkwMARHIDAGFQAwChFgMA8yMDAKRAAwCbOQMAOQwDAJ/2AgD3WwMAbqACAFLZAgBtQgMAzLUDAFbuAwDULwQAnP4DAODIAwA87gMAJb8DAE/hAwCNqAMAqFMDAAAKAwAj8wIAAK0CAAXOAgAtogIApKwCAOZbAgDXfQIA/WcCAPw4AgBpzQEA63IBABJqAQCm5QEAAy4CAGwnAgCX6wEA5ssBALGVAQBAfAEAugABAHHLAABBWQEA1HABAJwsAQDACQEAb/wAAKJBAQA97QEAkcUBALOtAQC1wQEA0eoBAFD3AQCwFgIAYikCAAdMAgCYVgIA6WcCABlyAgAv9wEAOZwBAF2iAQAxqAEAqoABACskAgCNawIAfsUCAJD6AgDp8AIAxeUCALDTAgDv+wIA5vwCAGa+AgDccwIAZJUCABmuAgDRcQIAn3wCAGZRAgAZfQIAeocCAETzAgBHpgIAPIQCAIkuAgAw2QEAOo4BAIjhAQAWGwIA2OMBAPsPAgBnxAEAWmQBAAkXAQBiuAEAiUcCAGF+AgBIiQIA8F4CALmeAgCUDQMAGBsDAEnfAgB7EgMAZisDACErAwDG4AIAtb4CAAKWAgBPQQIAyncCAGAAAgDmIwIARCkCAD3rAgCCEwMAghMDAH4KAwCSKQMAsxYDAMMUAwCLGAMAsh0DAI8LAwDQHgMAroEDACmcAwD2ngMAxpEDAIy1AwDVwQMAh68DADfjAwBgWQQAsioEAEnDAwCdpAMAABQEALVxBAAtfgQARmMEAIVPBAAyuwQA/s8EAJuTBACkPgQA4l4EAAyFBAB9QAQAYeUDAKObAwB/kwMA4tEDAJj2AwCCNAQAmf8DAE3HAwDvxQMAv+MDAENDBADwlgQAkZEEAKydBABYVwQAghkEAPn9AwA9tgMARJoDAIzvAwDEzwMAYqMDAAsQAwDiFQMAEq0CAPZ9AgDBegIAuXUCAI2AAgBoqAIAAd4CAFncAgDIDwMAvPkCAPwUAwDYGAMAe0ADAA==",
          "dtype": "i4"
         },
         "yaxis": "y2"
        },
        {
         "line": {
          "width": 2
         },
         "name": "Small Traders",
         "type": "scatter",
         "x": [
          "2020-01-07T00:00:00.000000000",
          "2020-01-14T00:00:00.000000000",
          "2020-01-21T00:00:00.000000000",
          "2020-01-28T00:00:00.000000000",
          "2020-02-04T00:00:00.000000000",
          "2020-02-11T00:00:00.000000000",
          "2020-02-18T00:00:00.000000000",
          "2020-02-25T00:00:00.000000000",
          "2020-03-03T00:00:00.000000000",
          "2020-03-10T00:00:00.000000000",
          "2020-03-17T00:00:00.000000000",
          "2020-03-24T00:00:00.000000000",
          "2020-03-31T00:00:00.000000000",
          "2020-04-07T00:00:00.000000000",
          "2020-04-14T00:00:00.000000000",
          "2020-04-21T00:00:00.000000000",
          "2020-04-28T00:00:00.000000000",
          "2020-05-05T00:00:00.000000000",
          "2020-05-12T00:00:00.000000000",
          "2020-05-19T00:00:00.000000000",
          "2020-05-26T00:00:00.000000000",
          "2020-06-02T00:00:00.000000000",
          "2020-06-09T00:00:00.000000000",
          "2020-06-16T00:00:00.000000000",
          "2020-06-23T00:00:00.000000000",
          "2020-06-30T00:00:00.000000000",
          "2020-07-07T00:00:00.000000000",
          "2020-07-14T00:00:00.000000000",
          "2020-07-21T00:00:00.000000000",
          "2020-07-28T00:00:00.000000000",
          "2020-08-04T00:00:00.000000000",
          "2020-08-11T00:00:00.000000000",
          "2020-08-18T00:00:00.000000000",
          "2020-08-25T00:00:00.000000000",
          "2020-09-01T00:00:00.000000000",
          "2020-09-08T00:00:00.000000000",
          "2020-09-15T00:00:00.000000000",
          "2020-09-22T00:00:00.000000000",
          "2020-09-29T00:00:00.000000000",
          "2020-10-06T00:00:00.000000000",
          "2020-10-13T00:00:00.000000000",
          "2020-10-20T00:00:00.000000000",
          "2020-10-27T00:00:00.000000000",
          "2020-11-03T00:00:00.000000000",
          "2020-11-10T00:00:00.000000000",
          "2020-11-17T00:00:00.000000000",
          "2020-11-24T00:00:00.000000000",
          "2020-12-01T00:00:00.000000000",
          "2020-12-08T00:00:00.000000000",
          "2020-12-15T00:00:00.000000000",
          "2020-12-21T00:00:00.000000000",
          "2020-12-29T00:00:00.000000000",
          "2021-01-05T00:00:00.000000000",
          "2021-01-12T00:00:00.000000000",
          "2021-01-19T00:00:00.000000000",
          "2021-01-26T00:00:00.000000000",
          "2021-02-02T00:00:00.000000000",
          "2021-02-09T00:00:00.000000000",
          "2021-02-16T00:00:00.000000000",
          "2021-02-23T00:00:00.000000000",
          "2021-03-02T00:00:00.000000000",
          "2021-03-09T00:00:00.000000000",
          "2021-03-16T00:00:00.000000000",
          "2021-03-23T00:00:00.000000000",
          "2021-03-30T00:00:00.000000000",
          "2021-04-06T00:00:00.000000000",
          "2021-04-13T00:00:00.000000000",
          "2021-04-20T00:00:00.000000000",
          "2021-04-27T00:00:00.000000000",
          "2021-05-04T00:00:00.000000000",
          "2021-05-11T00:00:00.000000000",
          "2021-05-18T00:00:00.000000000",
          "2021-05-25T00:00:00.000000000",
          "2021-06-01T00:00:00.000000000",
          "2021-06-08T00:00:00.000000000",
          "2021-06-15T00:00:00.000000000",
          "2021-06-22T00:00:00.000000000",
          "2021-06-29T00:00:00.000000000",
          "2021-07-06T00:00:00.000000000",
          "2021-07-13T00:00:00.000000000",
          "2021-07-20T00:00:00.000000000",
          "2021-07-27T00:00:00.000000000",
          "2021-08-03T00:00:00.000000000",
          "2021-08-10T00:00:00.000000000",
          "2021-08-17T00:00:00.000000000",
          "2021-08-24T00:00:00.000000000",
          "2021-08-31T00:00:00.000000000",
          "2021-09-07T00:00:00.000000000",
          "2021-09-14T00:00:00.000000000",
          "2021-09-21T00:00:00.000000000",
          "2021-09-28T00:00:00.000000000",
          "2021-10-05T00:00:00.000000000",
          "2021-10-12T00:00:00.000000000",
          "2021-10-19T00:00:00.000000000",
          "2021-10-26T00:00:00.000000000",
          "2021-11-02T00:00:00.000000000",
          "2021-11-09T00:00:00.000000000",
          "2021-11-16T00:00:00.000000000",
          "2021-11-23T00:00:00.000000000",
          "2021-11-30T00:00:00.000000000",
          "2021-12-07T00:00:00.000000000",
          "2021-12-14T00:00:00.000000000",
          "2021-12-21T00:00:00.000000000",
          "2021-12-28T00:00:00.000000000",
          "2022-01-04T00:00:00.000000000",
          "2022-01-11T00:00:00.000000000",
          "2022-01-18T00:00:00.000000000",
          "2022-01-25T00:00:00.000000000",
          "2022-02-01T00:00:00.000000000",
          "2022-02-08T00:00:00.000000000",
          "2022-02-15T00:00:00.000000000",
          "2022-02-22T00:00:00.000000000",
          "2022-03-01T00:00:00.000000000",
          "2022-03-08T00:00:00.000000000",
          "2022-03-15T00:00:00.000000000",
          "2022-03-22T00:00:00.000000000",
          "2022-03-29T00:00:00.000000000",
          "2022-04-05T00:00:00.000000000",
          "2022-04-12T00:00:00.000000000",
          "2022-04-19T00:00:00.000000000",
          "2022-04-26T00:00:00.000000000",
          "2022-05-03T00:00:00.000000000",
          "2022-05-10T00:00:00.000000000",
          "2022-05-17T00:00:00.000000000",
          "2022-05-24T00:00:00.000000000",
          "2022-05-31T00:00:00.000000000",
          "2022-06-07T00:00:00.000000000",
          "2022-06-14T00:00:00.000000000",
          "2022-06-21T00:00:00.000000000",
          "2022-06-28T00:00:00.000000000",
          "2022-07-05T00:00:00.000000000",
          "2022-07-12T00:00:00.000000000",
          "2022-07-19T00:00:00.000000000",
          "2022-07-26T00:00:00.000000000",
          "2022-08-02T00:00:00.000000000",
          "2022-08-09T00:00:00.000000000",
          "2022-08-16T00:00:00.000000000",
          "2022-08-23T00:00:00.000000000",
          "2022-08-30T00:00:00.000000000",
          "2022-09-06T00:00:00.000000000",
          "2022-09-13T00:00:00.000000000",
          "2022-09-20T00:00:00.000000000",
          "2022-09-27T00:00:00.000000000",
          "2022-10-04T00:00:00.000000000",
          "2022-10-11T00:00:00.000000000",
          "2022-10-18T00:00:00.000000000",
          "2022-10-25T00:00:00.000000000",
          "2022-11-01T00:00:00.000000000",
          "2022-11-08T00:00:00.000000000",
          "2022-11-15T00:00:00.000000000",
          "2022-11-22T00:00:00.000000000",
          "2022-11-29T00:00:00.000000000",
          "2022-12-06T00:00:00.000000000",
          "2022-12-13T00:00:00.000000000",
          "2022-12-20T00:00:00.000000000",
          "2022-12-27T00:00:00.000000000",
          "2023-01-03T00:00:00.000000000",
          "2023-01-10T00:00:00.000000000",
          "2023-01-17T00:00:00.000000000",
          "2023-01-24T00:00:00.000000000",
          "2023-01-31T00:00:00.000000000",
          "2023-02-07T00:00:00.000000000",
          "2023-02-14T00:00:00.000000000",
          "2023-02-21T00:00:00.000000000",
          "2023-02-28T00:00:00.000000000",
          "2023-03-07T00:00:00.000000000",
          "2023-03-14T00:00:00.000000000",
          "2023-03-21T00:00:00.000000000",
          "2023-03-28T00:00:00.000000000",
          "2023-04-04T00:00:00.000000000",
          "2023-04-11T00:00:00.000000000",
          "2023-04-18T00:00:00.000000000",
          "2023-04-25T00:00:00.000000000",
          "2023-05-02T00:00:00.000000000",
          "2023-05-09T00:00:00.000000000",
          "2023-05-16T00:00:00.000000000",
          "2023-05-23T00:00:00.000000000",
          "2023-05-30T00:00:00.000000000",
          "2023-06-06T00:00:00.000000000",
          "2023-06-13T00:00:00.000000000",
          "2023-06-20T00:00:00.000000000",
          "2023-06-27T00:00:00.000000000",
          "2023-07-03T00:00:00.000000000",
          "2023-07-11T00:00:00.000000000",
          "2023-07-18T00:00:00.000000000",
          "2023-07-25T00:00:00.000000000",
          "2023-08-01T00:00:00.000000000",
          "2023-08-08T00:00:00.000000000",
          "2023-08-15T00:00:00.000000000",
          "2023-08-22T00:00:00.000000000",
          "2023-08-29T00:00:00.000000000",
          "2023-09-05T00:00:00.000000000",
          "2023-09-12T00:00:00.000000000",
          "2023-09-19T00:00:00.000000000",
          "2023-09-26T00:00:00.000000000",
          "2023-10-03T00:00:00.000000000",
          "2023-10-10T00:00:00.000000000",
          "2023-10-17T00:00:00.000000000",
          "2023-10-24T00:00:00.000000000",
          "2023-10-31T00:00:00.000000000",
          "2023-11-07T00:00:00.000000000",
          "2023-11-14T00:00:00.000000000",
          "2023-11-21T00:00:00.000000000",
          "2023-11-28T00:00:00.000000000",
          "2023-12-05T00:00:00.000000000",
          "2023-12-12T00:00:00.000000000",
          "2023-12-19T00:00:00.000000000",
          "2023-12-26T00:00:00.000000000",
          "2024-01-02T00:00:00.000000000",
          "2024-01-09T00:00:00.000000000",
          "2024-01-16T00:00:00.000000000",
          "2024-01-23T00:00:00.000000000",
          "2024-01-30T00:00:00.000000000",
          "2024-02-06T00:00:00.000000000",
          "2024-02-13T00:00:00.000000000",
          "2024-02-20T00:00:00.000000000",
          "2024-02-27T00:00:00.000000000",
          "2024-03-05T00:00:00.000000000",
          "2024-03-12T00:00:00.000000000",
          "2024-03-19T00:00:00.000000000",
          "2024-03-26T00:00:00.000000000",
          "2024-04-02T00:00:00.000000000",
          "2024-04-09T00:00:00.000000000",
          "2024-04-16T00:00:00.000000000",
          "2024-04-23T00:00:00.000000000",
          "2024-04-30T00:00:00.000000000",
          "2024-05-07T00:00:00.000000000",
          "2024-05-14T00:00:00.000000000",
          "2024-05-21T00:00:00.000000000",
          "2024-05-28T00:00:00.000000000",
          "2024-06-04T00:00:00.000000000",
          "2024-06-11T00:00:00.000000000",
          "2024-06-18T00:00:00.000000000",
          "2024-06-25T00:00:00.000000000",
          "2024-07-02T00:00:00.000000000",
          "2024-07-09T00:00:00.000000000",
          "2024-07-16T00:00:00.000000000",
          "2024-07-23T00:00:00.000000000",
          "2024-07-30T00:00:00.000000000",
          "2024-08-06T00:00:00.000000000",
          "2024-08-13T00:00:00.000000000",
          "2024-08-20T00:00:00.000000000",
          "2024-08-27T00:00:00.000000000",
          "2024-09-03T00:00:00.000000000",
          "2024-09-10T00:00:00.000000000",
          "2024-09-17T00:00:00.000000000",
          "2024-09-24T00:00:00.000000000",
          "2024-10-01T00:00:00.000000000",
          "2024-10-08T00:00:00.000000000",
          "2024-10-15T00:00:00.000000000",
          "2024-10-22T00:00:00.000000000",
          "2024-10-29T00:00:00.000000000",
          "2024-11-05T00:00:00.000000000",
          "2024-11-12T00:00:00.000000000",
          "2024-11-19T00:00:00.000000000",
          "2024-11-26T00:00:00.000000000",
          "2024-12-03T00:00:00.000000000",
          "2024-12-10T00:00:00.000000000",
          "2024-12-17T00:00:00.000000000",
          "2024-12-24T00:00:00.000000000",
          "2024-12-31T00:00:00.000000000",
          "2025-01-07T00:00:00.000000000",
          "2025-01-14T00:00:00.000000000",
          "2025-01-21T00:00:00.000000000",
          "2025-01-28T00:00:00.000000000",
          "2025-02-04T00:00:00.000000000",
          "2025-02-11T00:00:00.000000000",
          "2025-02-18T00:00:00.000000000",
          "2025-02-25T00:00:00.000000000",
          "2025-03-04T00:00:00.000000000",
          "2025-03-11T00:00:00.000000000",
          "2025-03-18T00:00:00.000000000",
          "2025-03-25T00:00:00.000000000",
          "2025-04-01T00:00:00.000000000",
          "2025-04-08T00:00:00.000000000",
          "2025-04-15T00:00:00.000000000",
          "2025-04-22T00:00:00.000000000",
          "2025-04-29T00:00:00.000000000",
          "2025-05-06T00:00:00.000000000",
          "2025-05-13T00:00:00.000000000",
          "2025-05-20T00:00:00.000000000",
          "2025-05-27T00:00:00.000000000",
          "2025-06-03T00:00:00.000000000",
          "2025-06-10T00:00:00.000000000",
          "2025-06-17T00:00:00.000000000",
          "2025-06-24T00:00:00.000000000",
          "2025-07-01T00:00:00.000000000",
          "2025-07-08T00:00:00.000000000",
          "2025-07-15T00:00:00.000000000"
         ],
         "xaxis": "x2",
         "y": {
          "bdata": "/oMAAHh3AACghQAAAngAAIl8AAB5dAAA23wAAEybAAAuegAAZXAAAFFNAAChWwAAFmIAAC1oAAADbQAAJncAALR4AACQewAAeYsAAPKVAAA4jgAA1ZIAAByIAACIgwAAB4oAAOmHAACiiQAAppoAAC+SAABoogAA35IAAPasAADdrAAAX7EAABK2AAAXrgAAsawAAPS4AAAXpgAAyZsAANCrAADorQAA1LoAAF21AACnqgAAJqkAAN+fAAC1gAAAD3sAAMaHAAAnkAAA7pUAAIWiAAAqrAAAfZ8AALqhAAB/nwAAVJ8AAK2cAACcjAAANX8AAM1/AABfcgAAWGwAAFZmAADKYgAACm0AAM97AADOjgAAznkAAA2IAADchAAAg40AAKqGAABbigAAFpkAAEiNAAB+gAAAoXwAAPB1AABAfwAA8nIAAIWIAABjagAAulcAANldAACaXQAASXQAAHtnAAClYQAA+FQAAIBSAAA7VgAA8WQAAAZiAACsYAAA3GIAAG9sAACPggAA538AABZvAABScQAACnYAAPx+AAD3ZQAA+GIAAO1oAACbcwAAEHIAAJhgAACuYgAAzmcAABtuAAAufwAARYsAABuDAAC1bgAAwYEAAA6EAAC4iwAAJnoAAKx/AACJhgAAH3sAAOZtAABLawAAKmAAAKNdAABaXAAA+l4AANVNAADTTAAAm0MAAHQ9AADnKwAAty0AAAExAADBLwAAqS4AAN8nAAAaNQAA6iUAAEknAADjHwAAXCQAABIzAACVLwAArycAAGYiAABnHwAAfzYAAA4kAABqOgAAUDIAAGI1AAAAQgAAhEcAALdVAACRWAAAYVkAAA9PAABXXgAA91sAAO5WAADOSQAA3k8AAAU7AACDYQAApk0AAPpZAAD7XAAApGcAAChoAAABVgAATWgAAP97AACzZgAA0VAAABJYAAD9ZAAAClwAAIFbAAB0VAAA61UAAI9PAAD7XwAAoVUAAPlfAAA6UQAAkkoAAKpDAAAJTwAA0lEAAGlFAABNSgAAFFEAADNKAACdOwAAaEAAAFJLAACjTQAAi1QAAGJIAABMSAAAaVsAAP9fAAB3ZAAAM2AAALVsAACfcQAAh2sAAFtYAADHWAAAR0gAADRVAADNSgAATEEAAIs8AAAfQQAAOD4AAGZKAAAgSAAAk1YAAGNRAACtXQAA+FoAADNsAADeawAAuXAAAC1fAADVbwAA2WcAAEZgAACrYgAA2FoAAP5kAADYXgAAy2wAAJBmAABNdgAAlmIAAKViAADibAAACV8AAE5fAADlYQAA/F4AAMlrAADEZAAAcGYAAFFvAAC6YQAAUmwAAMtxAAAzbQAAplYAAKtnAAAlUwAAmFoAAGtkAADRXQAAt1wAADFaAADgZAAA+V4AAENkAAAoYwAABWsAAGtnAADObAAAoHEAAGRqAACCcAAAA2gAAOx6AAAGdAAACmkAADNrAACmcwAALnUAAIODAAB7ggAAmYAAAKWJAADXkAAA5IoAACmFAAA6igAAxZIAAA==",
          "dtype": "i4"
         },
         "yaxis": "y2"
        },
        {
         "name": "OI",
         "type": "scatter",
         "x": [
          "2020-01-07T00:00:00.000000000",
          "2020-01-14T00:00:00.000000000",
          "2020-01-21T00:00:00.000000000",
          "2020-01-28T00:00:00.000000000",
          "2020-02-04T00:00:00.000000000",
          "2020-02-11T00:00:00.000000000",
          "2020-02-18T00:00:00.000000000",
          "2020-02-25T00:00:00.000000000",
          "2020-03-03T00:00:00.000000000",
          "2020-03-10T00:00:00.000000000",
          "2020-03-17T00:00:00.000000000",
          "2020-03-24T00:00:00.000000000",
          "2020-03-31T00:00:00.000000000",
          "2020-04-07T00:00:00.000000000",
          "2020-04-14T00:00:00.000000000",
          "2020-04-21T00:00:00.000000000",
          "2020-04-28T00:00:00.000000000",
          "2020-05-05T00:00:00.000000000",
          "2020-05-12T00:00:00.000000000",
          "2020-05-19T00:00:00.000000000",
          "2020-05-26T00:00:00.000000000",
          "2020-06-02T00:00:00.000000000",
          "2020-06-09T00:00:00.000000000",
          "2020-06-16T00:00:00.000000000",
          "2020-06-23T00:00:00.000000000",
          "2020-06-30T00:00:00.000000000",
          "2020-07-07T00:00:00.000000000",
          "2020-07-14T00:00:00.000000000",
          "2020-07-21T00:00:00.000000000",
          "2020-07-28T00:00:00.000000000",
          "2020-08-04T00:00:00.000000000",
          "2020-08-11T00:00:00.000000000",
          "2020-08-18T00:00:00.000000000",
          "2020-08-25T00:00:00.000000000",
          "2020-09-01T00:00:00.000000000",
          "2020-09-08T00:00:00.000000000",
          "2020-09-15T00:00:00.000000000",
          "2020-09-22T00:00:00.000000000",
          "2020-09-29T00:00:00.000000000",
          "2020-10-06T00:00:00.000000000",
          "2020-10-13T00:00:00.000000000",
          "2020-10-20T00:00:00.000000000",
          "2020-10-27T00:00:00.000000000",
          "2020-11-03T00:00:00.000000000",
          "2020-11-10T00:00:00.000000000",
          "2020-11-17T00:00:00.000000000",
          "2020-11-24T00:00:00.000000000",
          "2020-12-01T00:00:00.000000000",
          "2020-12-08T00:00:00.000000000",
          "2020-12-15T00:00:00.000000000",
          "2020-12-21T00:00:00.000000000",
          "2020-12-29T00:00:00.000000000",
          "2021-01-05T00:00:00.000000000",
          "2021-01-12T00:00:00.000000000",
          "2021-01-19T00:00:00.000000000",
          "2021-01-26T00:00:00.000000000",
          "2021-02-02T00:00:00.000000000",
          "2021-02-09T00:00:00.000000000",
          "2021-02-16T00:00:00.000000000",
          "2021-02-23T00:00:00.000000000",
          "2021-03-02T00:00:00.000000000",
          "2021-03-09T00:00:00.000000000",
          "2021-03-16T00:00:00.000000000",
          "2021-03-23T00:00:00.000000000",
          "2021-03-30T00:00:00.000000000",
          "2021-04-06T00:00:00.000000000",
          "2021-04-13T00:00:00.000000000",
          "2021-04-20T00:00:00.000000000",
          "2021-04-27T00:00:00.000000000",
          "2021-05-04T00:00:00.000000000",
          "2021-05-11T00:00:00.000000000",
          "2021-05-18T00:00:00.000000000",
          "2021-05-25T00:00:00.000000000",
          "2021-06-01T00:00:00.000000000",
          "2021-06-08T00:00:00.000000000",
          "2021-06-15T00:00:00.000000000",
          "2021-06-22T00:00:00.000000000",
          "2021-06-29T00:00:00.000000000",
          "2021-07-06T00:00:00.000000000",
          "2021-07-13T00:00:00.000000000",
          "2021-07-20T00:00:00.000000000",
          "2021-07-27T00:00:00.000000000",
          "2021-08-03T00:00:00.000000000",
          "2021-08-10T00:00:00.000000000",
          "2021-08-17T00:00:00.000000000",
          "2021-08-24T00:00:00.000000000",
          "2021-08-31T00:00:00.000000000",
          "2021-09-07T00:00:00.000000000",
          "2021-09-14T00:00:00.000000000",
          "2021-09-21T00:00:00.000000000",
          "2021-09-28T00:00:00.000000000",
          "2021-10-05T00:00:00.000000000",
          "2021-10-12T00:00:00.000000000",
          "2021-10-19T00:00:00.000000000",
          "2021-10-26T00:00:00.000000000",
          "2021-11-02T00:00:00.000000000",
          "2021-11-09T00:00:00.000000000",
          "2021-11-16T00:00:00.000000000",
          "2021-11-23T00:00:00.000000000",
          "2021-11-30T00:00:00.000000000",
          "2021-12-07T00:00:00.000000000",
          "2021-12-14T00:00:00.000000000",
          "2021-12-21T00:00:00.000000000",
          "2021-12-28T00:00:00.000000000",
          "2022-01-04T00:00:00.000000000",
          "2022-01-11T00:00:00.000000000",
          "2022-01-18T00:00:00.000000000",
          "2022-01-25T00:00:00.000000000",
          "2022-02-01T00:00:00.000000000",
          "2022-02-08T00:00:00.000000000",
          "2022-02-15T00:00:00.000000000",
          "2022-02-22T00:00:00.000000000",
          "2022-03-01T00:00:00.000000000",
          "2022-03-08T00:00:00.000000000",
          "2022-03-15T00:00:00.000000000",
          "2022-03-22T00:00:00.000000000",
          "2022-03-29T00:00:00.000000000",
          "2022-04-05T00:00:00.000000000",
          "2022-04-12T00:00:00.000000000",
          "2022-04-19T00:00:00.000000000",
          "2022-04-26T00:00:00.000000000",
          "2022-05-03T00:00:00.000000000",
          "2022-05-10T00:00:00.000000000",
          "2022-05-17T00:00:00.000000000",
          "2022-05-24T00:00:00.000000000",
          "2022-05-31T00:00:00.000000000",
          "2022-06-07T00:00:00.000000000",
          "2022-06-14T00:00:00.000000000",
          "2022-06-21T00:00:00.000000000",
          "2022-06-28T00:00:00.000000000",
          "2022-07-05T00:00:00.000000000",
          "2022-07-12T00:00:00.000000000",
          "2022-07-19T00:00:00.000000000",
          "2022-07-26T00:00:00.000000000",
          "2022-08-02T00:00:00.000000000",
          "2022-08-09T00:00:00.000000000",
          "2022-08-16T00:00:00.000000000",
          "2022-08-23T00:00:00.000000000",
          "2022-08-30T00:00:00.000000000",
          "2022-09-06T00:00:00.000000000",
          "2022-09-13T00:00:00.000000000",
          "2022-09-20T00:00:00.000000000",
          "2022-09-27T00:00:00.000000000",
          "2022-10-04T00:00:00.000000000",
          "2022-10-11T00:00:00.000000000",
          "2022-10-18T00:00:00.000000000",
          "2022-10-25T00:00:00.000000000",
          "2022-11-01T00:00:00.000000000",
          "2022-11-08T00:00:00.000000000",
          "2022-11-15T00:00:00.000000000",
          "2022-11-22T00:00:00.000000000",
          "2022-11-29T00:00:00.000000000",
          "2022-12-06T00:00:00.000000000",
          "2022-12-13T00:00:00.000000000",
          "2022-12-20T00:00:00.000000000",
          "2022-12-27T00:00:00.000000000",
          "2023-01-03T00:00:00.000000000",
          "2023-01-10T00:00:00.000000000",
          "2023-01-17T00:00:00.000000000",
          "2023-01-24T00:00:00.000000000",
          "2023-01-31T00:00:00.000000000",
          "2023-02-07T00:00:00.000000000",
          "2023-02-14T00:00:00.000000000",
          "2023-02-21T00:00:00.000000000",
          "2023-02-28T00:00:00.000000000",
          "2023-03-07T00:00:00.000000000",
          "2023-03-14T00:00:00.000000000",
          "2023-03-21T00:00:00.000000000",
          "2023-03-28T00:00:00.000000000",
          "2023-04-04T00:00:00.000000000",
          "2023-04-11T00:00:00.000000000",
          "2023-04-18T00:00:00.000000000",
          "2023-04-25T00:00:00.000000000",
          "2023-05-02T00:00:00.000000000",
          "2023-05-09T00:00:00.000000000",
          "2023-05-16T00:00:00.000000000",
          "2023-05-23T00:00:00.000000000",
          "2023-05-30T00:00:00.000000000",
          "2023-06-06T00:00:00.000000000",
          "2023-06-13T00:00:00.000000000",
          "2023-06-20T00:00:00.000000000",
          "2023-06-27T00:00:00.000000000",
          "2023-07-03T00:00:00.000000000",
          "2023-07-11T00:00:00.000000000",
          "2023-07-18T00:00:00.000000000",
          "2023-07-25T00:00:00.000000000",
          "2023-08-01T00:00:00.000000000",
          "2023-08-08T00:00:00.000000000",
          "2023-08-15T00:00:00.000000000",
          "2023-08-22T00:00:00.000000000",
          "2023-08-29T00:00:00.000000000",
          "2023-09-05T00:00:00.000000000",
          "2023-09-12T00:00:00.000000000",
          "2023-09-19T00:00:00.000000000",
          "2023-09-26T00:00:00.000000000",
          "2023-10-03T00:00:00.000000000",
          "2023-10-10T00:00:00.000000000",
          "2023-10-17T00:00:00.000000000",
          "2023-10-24T00:00:00.000000000",
          "2023-10-31T00:00:00.000000000",
          "2023-11-07T00:00:00.000000000",
          "2023-11-14T00:00:00.000000000",
          "2023-11-21T00:00:00.000000000",
          "2023-11-28T00:00:00.000000000",
          "2023-12-05T00:00:00.000000000",
          "2023-12-12T00:00:00.000000000",
          "2023-12-19T00:00:00.000000000",
          "2023-12-26T00:00:00.000000000",
          "2024-01-02T00:00:00.000000000",
          "2024-01-09T00:00:00.000000000",
          "2024-01-16T00:00:00.000000000",
          "2024-01-23T00:00:00.000000000",
          "2024-01-30T00:00:00.000000000",
          "2024-02-06T00:00:00.000000000",
          "2024-02-13T00:00:00.000000000",
          "2024-02-20T00:00:00.000000000",
          "2024-02-27T00:00:00.000000000",
          "2024-03-05T00:00:00.000000000",
          "2024-03-12T00:00:00.000000000",
          "2024-03-19T00:00:00.000000000",
          "2024-03-26T00:00:00.000000000",
          "2024-04-02T00:00:00.000000000",
          "2024-04-09T00:00:00.000000000",
          "2024-04-16T00:00:00.000000000",
          "2024-04-23T00:00:00.000000000",
          "2024-04-30T00:00:00.000000000",
          "2024-05-07T00:00:00.000000000",
          "2024-05-14T00:00:00.000000000",
          "2024-05-21T00:00:00.000000000",
          "2024-05-28T00:00:00.000000000",
          "2024-06-04T00:00:00.000000000",
          "2024-06-11T00:00:00.000000000",
          "2024-06-18T00:00:00.000000000",
          "2024-06-25T00:00:00.000000000",
          "2024-07-02T00:00:00.000000000",
          "2024-07-09T00:00:00.000000000",
          "2024-07-16T00:00:00.000000000",
          "2024-07-23T00:00:00.000000000",
          "2024-07-30T00:00:00.000000000",
          "2024-08-06T00:00:00.000000000",
          "2024-08-13T00:00:00.000000000",
          "2024-08-20T00:00:00.000000000",
          "2024-08-27T00:00:00.000000000",
          "2024-09-03T00:00:00.000000000",
          "2024-09-10T00:00:00.000000000",
          "2024-09-17T00:00:00.000000000",
          "2024-09-24T00:00:00.000000000",
          "2024-10-01T00:00:00.000000000",
          "2024-10-08T00:00:00.000000000",
          "2024-10-15T00:00:00.000000000",
          "2024-10-22T00:00:00.000000000",
          "2024-10-29T00:00:00.000000000",
          "2024-11-05T00:00:00.000000000",
          "2024-11-12T00:00:00.000000000",
          "2024-11-19T00:00:00.000000000",
          "2024-11-26T00:00:00.000000000",
          "2024-12-03T00:00:00.000000000",
          "2024-12-10T00:00:00.000000000",
          "2024-12-17T00:00:00.000000000",
          "2024-12-24T00:00:00.000000000",
          "2024-12-31T00:00:00.000000000",
          "2025-01-07T00:00:00.000000000",
          "2025-01-14T00:00:00.000000000",
          "2025-01-21T00:00:00.000000000",
          "2025-01-28T00:00:00.000000000",
          "2025-02-04T00:00:00.000000000",
          "2025-02-11T00:00:00.000000000",
          "2025-02-18T00:00:00.000000000",
          "2025-02-25T00:00:00.000000000",
          "2025-03-04T00:00:00.000000000",
          "2025-03-11T00:00:00.000000000",
          "2025-03-18T00:00:00.000000000",
          "2025-03-25T00:00:00.000000000",
          "2025-04-01T00:00:00.000000000",
          "2025-04-08T00:00:00.000000000",
          "2025-04-15T00:00:00.000000000",
          "2025-04-22T00:00:00.000000000",
          "2025-04-29T00:00:00.000000000",
          "2025-05-06T00:00:00.000000000",
          "2025-05-13T00:00:00.000000000",
          "2025-05-20T00:00:00.000000000",
          "2025-05-27T00:00:00.000000000",
          "2025-06-03T00:00:00.000000000",
          "2025-06-10T00:00:00.000000000",
          "2025-06-17T00:00:00.000000000",
          "2025-06-24T00:00:00.000000000",
          "2025-07-01T00:00:00.000000000",
          "2025-07-08T00:00:00.000000000",
          "2025-07-15T00:00:00.000000000"
         ],
         "xaxis": "x3",
         "y": {
          "bdata": "wf0LANMoDADlHAwAE+sKAOz8CQBoCgoANeoKAPUuCwARjwoAfqoJAOXBCAAGWggAJJAHADJTBwDteQcAZoYHAFCkBwBnewcAY5QHAE0PCADO7AcAYUIHAA1CBwBbeAcAhR4IANyRCABovQgAT9oIAAI0CQBlIgkArZIIAIFxCAAKTQgAomEIAHhbCACRgQgAbdUIAIXJCADclAgAI3oIAO1wCAAxlwgABI8IAAZQCAB5WggA3YEIAPV4CAC6NQgAkGIIAN5lCACBjggAfn0IADiuCAASeggAkkIIAC4oCABL7wcAdbsHAOisBwBlVwcAQCAHAA87BwAzRQcAUWgHAHkhBwD5EQcAvQcHALoyBwDZOAcARS0HAAWcBwDa8AcA1MgHAO52BwBSgQcAf1MHADTtBgDw6gYAkxsHALaQBwAYfAcA26EHAB9pBwAwSAcAbWgHAJ+zBwDpvAcAlLsHAPS5BwDdhAcAan0HAM1hBwAeZAcAVmoHAGLHBwDgvgcAkbYIAARZCQDPiggAnB0IAGueBwCdrwcAbqQHAPDDBwC9qwcA1FYIAEQ6CACuuggAA90HAErTBwA1hggAoFQJALBkCQAmvgkAhWwJAAc8CQA5xAgAGo4IAGfQCADixggA2YIIADmNCAA3uAgA7HoIALIWCAC61gcAMooHADCXBwA0ogcAbZUHACKaBwAdRwgA8gEIAFtwBwCBAwcApOsGAEjtBgAi/AYAnQEHAPQbBwA6EwcAkykHAGX5BgBJqwYAI5UGAA2iBgCI9QYATCEHABd0BwBDjgcABtwGAP2dBgDUcAYAMKsGAK2pBgDotgYAcdsGAO9YBwAqgQcA16AHAFoyBwDLtQYAhIAGAPhyBgCKgwYA6v4GADgBBwByKwcAk00HALBFBwCXRQcAzlsHAHk4BwDsiAcAJ+sHAGj2BwBoTwcA69sGAE2oBgACmwYAFa8GAPWWBgA/1gYAYl8HADhbBwAQRAcAV7QGAO+GBgDLnQYAn5AGALbBBgCQsQYAhbsGAD6vBgCkpQYAepQGABOpBgAdtQYAdBIHAKBCBwD7YwcA6mwHAA3CBwA6twcALXAHALMrBwCzVwcAT38HAIyiBwB5eQcAdncHANAbBwD4kAYAMWUGAMxrBgAXNgYAO0YGAEAyBwDZ3wcAByoIAFqvBwBNoQcAfrUHAEnkBwCZ4AcAb+4HAKsVCADI+gcAnxgIADZoBwAA1AYAeaoGALnHBgBe5gYASvAGAOTgBwAW2QgAkrsIAMLLBwCFVQcAELgHAIMhCAAf9gcAoMwHAA3OBwAbNAgAoJ0IAHMiCAB88AcAMEIIAEDBCACM1wgA0oMIAK0tCACorAcAVDYHANgMBwASYAcAix4HAPbvBgBY/wYAc0cHAIMICAD7twgA4c8IADRFCABPEQgAWvgHALPQBwA2dwcALM0HAD4kCAD6zQcAOpwHABzMBgC09wYAxxkHABzlBgA+5wYACroGAADWBgAirQYAxVgGAHddBgB+uwYADqMGAJ6tBgAIwwYAE9gGAA==",
          "dtype": "i4"
         },
         "yaxis": "y3"
        }
       ],
       "layout": {
        "annotations": [
         {
          "font": {
           "size": 16
          },
          "showarrow": false,
          "text": "COT Index",
          "x": 0.5,
          "xanchor": "center",
          "xref": "paper",
          "y": 1,
          "yanchor": "bottom",
          "yref": "paper"
         },
         {
          "font": {
           "size": 16
          },
          "showarrow": false,
          "text": "Net positions",
          "x": 0.5,
          "xanchor": "center",
          "xref": "paper",
          "y": 0.6333333333333333,
          "yanchor": "bottom",
          "yref": "paper"
         },
         {
          "font": {
           "size": 16
          },
          "showarrow": false,
          "text": "OI",
          "x": 0.5,
          "xanchor": "center",
          "xref": "paper",
          "y": 0.26666666666666666,
          "yanchor": "bottom",
          "yref": "paper"
         }
        ],
        "height": 900,
        "hovermode": "x unified",
        "shapes": [
         {
          "fillcolor": "green",
          "layer": "below",
          "line": {
           "width": 0
          },
          "opacity": 0.2,
          "type": "rect",
          "x0": 0,
          "x1": 1,
          "xref": "paper",
          "y0": 80,
          "y1": 100,
          "yref": "y"
         },
         {
          "fillcolor": "red",
          "layer": "below",
          "line": {
           "width": 0
          },
          "opacity": 0.2,
          "type": "rect",
          "x0": 0,
          "x1": 1,
          "xref": "paper",
          "y0": 0,
          "y1": 20,
          "yref": "y"
         }
        ],
        "template": {
         "data": {
          "bar": [
           {
            "error_x": {
             "color": "#f2f5fa"
            },
            "error_y": {
             "color": "#f2f5fa"
            },
            "marker": {
             "line": {
              "color": "rgb(17,17,17)",
              "width": 0.5
             },
             "pattern": {
              "fillmode": "overlay",
              "size": 10,
              "solidity": 0.2
             }
            },
            "type": "bar"
           }
          ],
          "barpolar": [
           {
            "marker": {
             "line": {
              "color": "rgb(17,17,17)",
              "width": 0.5
             },
             "pattern": {
              "fillmode": "overlay",
              "size": 10,
              "solidity": 0.2
             }
            },
            "type": "barpolar"
           }
          ],
          "carpet": [
           {
            "aaxis": {
             "endlinecolor": "#A2B1C6",
             "gridcolor": "#506784",
             "linecolor": "#506784",
             "minorgridcolor": "#506784",
             "startlinecolor": "#A2B1C6"
            },
            "baxis": {
             "endlinecolor": "#A2B1C6",
             "gridcolor": "#506784",
             "linecolor": "#506784",
             "minorgridcolor": "#506784",
             "startlinecolor": "#A2B1C6"
            },
            "type": "carpet"
           }
          ],
          "choropleth": [
           {
            "colorbar": {
             "outlinewidth": 0,
             "ticks": ""
            },
            "type": "choropleth"
           }
          ],
          "contour": [
           {
            "colorbar": {
             "outlinewidth": 0,
             "ticks": ""
            },
            "colorscale": [
             [
              0,
              "#0d0887"
             ],
             [
              0.1111111111111111,
              "#46039f"
             ],
             [
              0.2222222222222222,
              "#7201a8"
             ],
             [
              0.3333333333333333,
              "#9c179e"
             ],
             [
              0.4444444444444444,
              "#bd3786"
             ],
             [
              0.5555555555555556,
              "#d8576b"
             ],
             [
              0.6666666666666666,
              "#ed7953"
             ],
             [
              0.7777777777777778,
              "#fb9f3a"
             ],
             [
              0.8888888888888888,
              "#fdca26"
             ],
             [
              1,
              "#f0f921"
             ]
            ],
            "type": "contour"
           }
          ],
          "contourcarpet": [
           {
            "colorbar": {
             "outlinewidth": 0,
             "ticks": ""
            },
            "type": "contourcarpet"
           }
          ],
          "heatmap": [
           {
            "colorbar": {
             "outlinewidth": 0,
             "ticks": ""
            },
            "colorscale": [
             [
              0,
              "#0d0887"
             ],
             [
              0.1111111111111111,
              "#46039f"
             ],
             [
              0.2222222222222222,
              "#7201a8"
             ],
             [
              0.3333333333333333,
              "#9c179e"
             ],
             [
              0.4444444444444444,
              "#bd3786"
             ],
             [
              0.5555555555555556,
              "#d8576b"
             ],
             [
              0.6666666666666666,
              "#ed7953"
             ],
             [
              0.7777777777777778,
              "#fb9f3a"
             ],
             [
              0.8888888888888888,
              "#fdca26"
             ],
             [
              1,
              "#f0f921"
             ]
            ],
            "type": "heatmap"
           }
          ],
          "histogram": [
           {
            "marker": {
             "pattern": {
              "fillmode": "overlay",
              "size": 10,
              "solidity": 0.2
             }
            },
            "type": "histogram"
           }
          ],
          "histogram2d": [
           {
            "colorbar": {
             "outlinewidth": 0,
             "ticks": ""
            },
            "colorscale": [
             [
              0,
              "#0d0887"
             ],
             [
              0.1111111111111111,
              "#46039f"
             ],
             [
              0.2222222222222222,
              "#7201a8"
             ],
             [
              0.3333333333333333,
              "#9c179e"
             ],
             [
              0.4444444444444444,
              "#bd3786"
             ],
             [
              0.5555555555555556,
              "#d8576b"
             ],
             [
              0.6666666666666666,
              "#ed7953"
             ],
             [
              0.7777777777777778,
              "#fb9f3a"
             ],
             [
              0.8888888888888888,
              "#fdca26"
             ],
             [
              1,
              "#f0f921"
             ]
            ],
            "type": "histogram2d"
           }
          ],
          "histogram2dcontour": [
           {
            "colorbar": {
             "outlinewidth": 0,
             "ticks": ""
            },
            "colorscale": [
             [
              0,
              "#0d0887"
             ],
             [
              0.1111111111111111,
              "#46039f"
             ],
             [
              0.2222222222222222,
              "#7201a8"
             ],
             [
              0.3333333333333333,
              "#9c179e"
             ],
             [
              0.4444444444444444,
              "#bd3786"
             ],
             [
              0.5555555555555556,
              "#d8576b"
             ],
             [
              0.6666666666666666,
              "#ed7953"
             ],
             [
              0.7777777777777778,
              "#fb9f3a"
             ],
             [
              0.8888888888888888,
              "#fdca26"
             ],
             [
              1,
              "#f0f921"
             ]
            ],
            "type": "histogram2dcontour"
           }
          ],
          "mesh3d": [
           {
            "colorbar": {
             "outlinewidth": 0,
             "ticks": ""
            },
            "type": "mesh3d"
           }
          ],
          "parcoords": [
           {
            "line": {
             "colorbar": {
              "outlinewidth": 0,
              "ticks": ""
             }
            },
            "type": "parcoords"
           }
          ],
          "pie": [
           {
            "automargin": true,
            "type": "pie"
           }
          ],
          "scatter": [
           {
            "marker": {
             "line": {
              "color": "#283442"
             }
            },
            "type": "scatter"
           }
          ],
          "scatter3d": [
           {
            "line": {
             "colorbar": {
              "outlinewidth": 0,
              "ticks": ""
             }
            },
            "marker": {
             "colorbar": {
              "outlinewidth": 0,
              "ticks": ""
             }
            },
            "type": "scatter3d"
           }
          ],
          "scattercarpet": [
           {
            "marker": {
             "colorbar": {
              "outlinewidth": 0,
              "ticks": ""
             }
            },
            "type": "scattercarpet"
           }
          ],
          "scattergeo": [
           {
            "marker": {
             "colorbar": {
              "outlinewidth": 0,
              "ticks": ""
             }
            },
            "type": "scattergeo"
           }
          ],
          "scattergl": [
           {
            "marker": {
             "line": {
              "color": "#283442"
             }
            },
            "type": "scattergl"
           }
          ],
          "scattermap": [
           {
            "marker": {
             "colorbar": {
              "outlinewidth": 0,
              "ticks": ""
             }
            },
            "type": "scattermap"
           }
          ],
          "scattermapbox": [
           {
            "marker": {
             "colorbar": {
              "outlinewidth": 0,
              "ticks": ""
             }
            },
            "type": "scattermapbox"
           }
          ],
          "scatterpolar": [
           {
            "marker": {
             "colorbar": {
              "outlinewidth": 0,
              "ticks": ""
             }
            },
            "type": "scatterpolar"
           }
          ],
          "scatterpolargl": [
           {
            "marker": {
             "colorbar": {
              "outlinewidth": 0,
              "ticks": ""
             }
            },
            "type": "scatterpolargl"
           }
          ],
          "scatterternary": [
           {
            "marker": {
             "colorbar": {
              "outlinewidth": 0,
              "ticks": ""
             }
            },
            "type": "scatterternary"
           }
          ],
          "surface": [
           {
            "colorbar": {
             "outlinewidth": 0,
             "ticks": ""
            },
            "colorscale": [
             [
              0,
              "#0d0887"
             ],
             [
              0.1111111111111111,
              "#46039f"
             ],
             [
              0.2222222222222222,
              "#7201a8"
             ],
             [
              0.3333333333333333,
              "#9c179e"
             ],
             [
              0.4444444444444444,
              "#bd3786"
             ],
             [
              0.5555555555555556,
              "#d8576b"
             ],
             [
              0.6666666666666666,
              "#ed7953"
             ],
             [
              0.7777777777777778,
              "#fb9f3a"
             ],
             [
              0.8888888888888888,
              "#fdca26"
             ],
             [
              1,
              "#f0f921"
             ]
            ],
            "type": "surface"
           }
          ],
          "table": [
           {
            "cells": {
             "fill": {
              "color": "#506784"
             },
             "line": {
              "color": "rgb(17,17,17)"
             }
            },
            "header": {
             "fill": {
              "color": "#2a3f5f"
             },
             "line": {
              "color": "rgb(17,17,17)"
             }
            },
            "type": "table"
           }
          ]
         },
         "layout": {
          "annotationdefaults": {
           "arrowcolor": "#f2f5fa",
           "arrowhead": 0,
           "arrowwidth": 1
          },
          "autotypenumbers": "strict",
          "coloraxis": {
           "colorbar": {
            "outlinewidth": 0,
            "ticks": ""
           }
          },
          "colorscale": {
           "diverging": [
            [
             0,
             "#8e0152"
            ],
            [
             0.1,
             "#c51b7d"
            ],
            [
             0.2,
             "#de77ae"
            ],
            [
             0.3,
             "#f1b6da"
            ],
            [
             0.4,
             "#fde0ef"
            ],
            [
             0.5,
             "#f7f7f7"
            ],
            [
             0.6,
             "#e6f5d0"
            ],
            [
             0.7,
             "#b8e186"
            ],
            [
             0.8,
             "#7fbc41"
            ],
            [
             0.9,
             "#4d9221"
            ],
            [
             1,
             "#276419"
            ]
           ],
           "sequential": [
            [
             0,
             "#0d0887"
            ],
            [
             0.1111111111111111,
             "#46039f"
            ],
            [
             0.2222222222222222,
             "#7201a8"
            ],
            [
             0.3333333333333333,
             "#9c179e"
            ],
            [
             0.4444444444444444,
             "#bd3786"
            ],
            [
             0.5555555555555556,
             "#d8576b"
            ],
            [
             0.6666666666666666,
             "#ed7953"
            ],
            [
             0.7777777777777778,
             "#fb9f3a"
            ],
            [
             0.8888888888888888,
             "#fdca26"
            ],
            [
             1,
             "#f0f921"
            ]
           ],
           "sequentialminus": [
            [
             0,
             "#0d0887"
            ],
            [
             0.1111111111111111,
             "#46039f"
            ],
            [
             0.2222222222222222,
             "#7201a8"
            ],
            [
             0.3333333333333333,
             "#9c179e"
            ],
            [
             0.4444444444444444,
             "#bd3786"
            ],
            [
             0.5555555555555556,
             "#d8576b"
            ],
            [
             0.6666666666666666,
             "#ed7953"
            ],
            [
             0.7777777777777778,
             "#fb9f3a"
            ],
            [
             0.8888888888888888,
             "#fdca26"
            ],
            [
             1,
             "#f0f921"
            ]
           ]
          },
          "colorway": [
           "#636efa",
           "#EF553B",
           "#00cc96",
           "#ab63fa",
           "#FFA15A",
           "#19d3f3",
           "#FF6692",
           "#B6E880",
           "#FF97FF",
           "#FECB52"
          ],
          "font": {
           "color": "#f2f5fa"
          },
          "geo": {
           "bgcolor": "rgb(17,17,17)",
           "lakecolor": "rgb(17,17,17)",
           "landcolor": "rgb(17,17,17)",
           "showlakes": true,
           "showland": true,
           "subunitcolor": "#506784"
          },
          "hoverlabel": {
           "align": "left"
          },
          "hovermode": "closest",
          "mapbox": {
           "style": "dark"
          },
          "paper_bgcolor": "rgb(17,17,17)",
          "plot_bgcolor": "rgb(17,17,17)",
          "polar": {
           "angularaxis": {
            "gridcolor": "#506784",
            "linecolor": "#506784",
            "ticks": ""
           },
           "bgcolor": "rgb(17,17,17)",
           "radialaxis": {
            "gridcolor": "#506784",
            "linecolor": "#506784",
            "ticks": ""
           }
          },
          "scene": {
           "xaxis": {
            "backgroundcolor": "rgb(17,17,17)",
            "gridcolor": "#506784",
            "gridwidth": 2,
            "linecolor": "#506784",
            "showbackground": true,
            "ticks": "",
            "zerolinecolor": "#C8D4E3"
           },
           "yaxis": {
            "backgroundcolor": "rgb(17,17,17)",
            "gridcolor": "#506784",
            "gridwidth": 2,
            "linecolor": "#506784",
            "showbackground": true,
            "ticks": "",
            "zerolinecolor": "#C8D4E3"
           },
           "zaxis": {
            "backgroundcolor": "rgb(17,17,17)",
            "gridcolor": "#506784",
            "gridwidth": 2,
            "linecolor": "#506784",
            "showbackground": true,
            "ticks": "",
            "zerolinecolor": "#C8D4E3"
           }
          },
          "shapedefaults": {
           "line": {
            "color": "#f2f5fa"
           }
          },
          "sliderdefaults": {
           "bgcolor": "#C8D4E3",
           "bordercolor": "rgb(17,17,17)",
           "borderwidth": 1,
           "tickwidth": 0
          },
          "ternary": {
           "aaxis": {
            "gridcolor": "#506784",
            "linecolor": "#506784",
            "ticks": ""
           },
           "baxis": {
            "gridcolor": "#506784",
            "linecolor": "#506784",
            "ticks": ""
           },
           "bgcolor": "rgb(17,17,17)",
           "caxis": {
            "gridcolor": "#506784",
            "linecolor": "#506784",
            "ticks": ""
           }
          },
          "title": {
           "x": 0.05
          },
          "updatemenudefaults": {
           "bgcolor": "#506784",
           "borderwidth": 0
          },
          "xaxis": {
           "automargin": true,
           "gridcolor": "#283442",
           "linecolor": "#506784",
           "ticks": "",
           "title": {
            "standoff": 15
           },
           "zerolinecolor": "#283442",
           "zerolinewidth": 2
          },
          "yaxis": {
           "automargin": true,
           "gridcolor": "#283442",
           "linecolor": "#506784",
           "ticks": "",
           "title": {
            "standoff": 15
           },
           "zerolinecolor": "#283442",
           "zerolinewidth": 2
          }
         }
        },
        "title": {
         "text": "Multiple Time Series with Shared X-Axis"
        },
        "width": 1450,
        "xaxis": {
         "anchor": "y",
         "domain": [
          0,
          1
         ],
         "matches": "x3",
         "showticklabels": false
        },
        "xaxis2": {
         "anchor": "y2",
         "domain": [
          0,
          1
         ],
         "matches": "x3",
         "showticklabels": false
        },
        "xaxis3": {
         "anchor": "y3",
         "domain": [
          0,
          1
         ],
         "title": {
          "text": "Date"
         }
        },
        "yaxis": {
         "anchor": "x",
         "domain": [
          0.7333333333333334,
          1
         ],
         "title": {
          "text": "CONTRACT"
         }
        },
        "yaxis2": {
         "anchor": "x2",
         "domain": [
          0.3666666666666667,
          0.6333333333333333
         ],
         "title": {
          "text": "CONTRACT"
         }
        },
        "yaxis3": {
         "anchor": "x3",
         "domain": [
          0,
          0.26666666666666666
         ],
         "title": {
          "text": "CONTRACT"
         }
        }
       }
      }
     },
     "metadata": {},
     "output_type": "display_data"
    }
   ],
   "source": [
    "# Create subplots: 1 column, 3 rows, shared X-axis\n",
    "fig = make_subplots(rows=3, cols=1, shared_xaxes=True, vertical_spacing= 0.1, subplot_titles=('COT Index', 'Net positions', 'OI'))\n",
    "\n",
    "# Add each series to its own subplot\n",
    "fig.add_trace(go.Scatter(x=df.index, y=df['COT_Index'], name='COT Index'), row=1, col=1)\n",
    "for col in ['Commercial_Net_Position', 'Large_Speculators_Net_Position', 'Small_Traders_Net_Position']:\n",
    "    fig.add_trace(go.Scatter(x=df.index, y=df[col], name=col.replace('_Net_Position', '').replace('_', ' ').title(), line=dict(width=2)), row=2, col=1)\n",
    "fig.add_trace(go.Scatter(x=df.index, y=df['OI'], name='OI'), row=3, col=1)\n",
    "\n",
    "fig.add_shape(\n",
    "    type='rect',\n",
    "    xref='paper',  # spans the full width of the plot\n",
    "    yref='y1',  # y-axis of subplot in row 1\n",
    "    x0=0,\n",
    "    x1=1,\n",
    "    y0=80,       # Adjust based on your y-axis range\n",
    "    y1=100,\n",
    "    fillcolor='green',\n",
    "    opacity=0.2,\n",
    "    line_width=0,\n",
    "    layer='below'\n",
    ")\n",
    "\n",
    "fig.add_shape(\n",
    "    type='rect',\n",
    "    xref='paper',  # spans the full width of the plot\n",
    "    yref='y1',  # y-axis of subplot in row 1\n",
    "    x0=0,\n",
    "    x1=1,\n",
    "    y0=0,              # Adjust based on your y-axis range\n",
    "    y1=20,\n",
    "    fillcolor='red',\n",
    "    opacity=0.2,\n",
    "    line_width=0,\n",
    "    layer='below'\n",
    ")\n",
    "\n",
    "\n",
    "# Update layout\n",
    "fig.update_layout(\n",
    "    height=900,\n",
    "    width=1450,\n",
    "    title_text='Multiple Time Series with Shared X-Axis',\n",
    "    template='plotly_dark',\n",
    "    hovermode='x unified',  # or 'x unified' or 'closest',\n",
    ")\n",
    "fig.update_xaxes(title_text='Date', row=3, col=1)  # Only show x-axis label on bottom chart\n",
    "fig.update_yaxes(title_text='CONTRACT')\n",
    "\n",
    "# Save as responsive HTML\n",
    "fig.write_html(\"plots/cot_analysis.html\", auto_open=False, full_html=True, include_plotlyjs='cdn', config={'responsive': True})\n",
    "fig.show()"
   ]
  },
  {
   "cell_type": "markdown",
   "id": "ecf7ea70",
   "metadata": {},
   "source": [
    "## Asset chart"
   ]
  },
  {
   "cell_type": "code",
   "execution_count": 13,
   "id": "bb963f48",
   "metadata": {},
   "outputs": [
    {
     "name": "stderr",
     "output_type": "stream",
     "text": [
      "/tmp/ipykernel_11468/883489983.py:5: FutureWarning:\n",
      "\n",
      "YF.download() has changed argument auto_adjust default to True\n",
      "\n",
      "[*********************100%***********************]  1 of 1 completed\n"
     ]
    },
    {
     "data": {
      "text/html": [
       "<div>\n",
       "<style scoped>\n",
       "    .dataframe tbody tr th:only-of-type {\n",
       "        vertical-align: middle;\n",
       "    }\n",
       "\n",
       "    .dataframe tbody tr th {\n",
       "        vertical-align: top;\n",
       "    }\n",
       "\n",
       "    .dataframe thead th {\n",
       "        text-align: right;\n",
       "    }\n",
       "</style>\n",
       "<table border=\"1\" class=\"dataframe\">\n",
       "  <thead>\n",
       "    <tr style=\"text-align: right;\">\n",
       "      <th></th>\n",
       "      <th>Close</th>\n",
       "      <th>High</th>\n",
       "      <th>Low</th>\n",
       "      <th>Open</th>\n",
       "      <th>Volume</th>\n",
       "    </tr>\n",
       "    <tr>\n",
       "      <th>Date</th>\n",
       "      <th></th>\n",
       "      <th></th>\n",
       "      <th></th>\n",
       "      <th></th>\n",
       "      <th></th>\n",
       "    </tr>\n",
       "  </thead>\n",
       "  <tbody>\n",
       "    <tr>\n",
       "      <th>2020-01-02</th>\n",
       "      <td>1524.500000</td>\n",
       "      <td>1528.699951</td>\n",
       "      <td>1518.000000</td>\n",
       "      <td>1518.099976</td>\n",
       "      <td>214</td>\n",
       "    </tr>\n",
       "    <tr>\n",
       "      <th>2020-01-03</th>\n",
       "      <td>1549.199951</td>\n",
       "      <td>1552.699951</td>\n",
       "      <td>1530.099976</td>\n",
       "      <td>1530.099976</td>\n",
       "      <td>107</td>\n",
       "    </tr>\n",
       "    <tr>\n",
       "      <th>2020-01-06</th>\n",
       "      <td>1566.199951</td>\n",
       "      <td>1580.000000</td>\n",
       "      <td>1560.400024</td>\n",
       "      <td>1580.000000</td>\n",
       "      <td>416</td>\n",
       "    </tr>\n",
       "    <tr>\n",
       "      <th>2020-01-07</th>\n",
       "      <td>1571.800049</td>\n",
       "      <td>1576.300049</td>\n",
       "      <td>1558.300049</td>\n",
       "      <td>1558.300049</td>\n",
       "      <td>47</td>\n",
       "    </tr>\n",
       "    <tr>\n",
       "      <th>2020-01-08</th>\n",
       "      <td>1557.400024</td>\n",
       "      <td>1604.199951</td>\n",
       "      <td>1552.300049</td>\n",
       "      <td>1579.699951</td>\n",
       "      <td>236</td>\n",
       "    </tr>\n",
       "  </tbody>\n",
       "</table>\n",
       "</div>"
      ],
      "text/plain": [
       "                  Close         High          Low         Open  Volume\n",
       "Date                                                                  \n",
       "2020-01-02  1524.500000  1528.699951  1518.000000  1518.099976     214\n",
       "2020-01-03  1549.199951  1552.699951  1530.099976  1530.099976     107\n",
       "2020-01-06  1566.199951  1580.000000  1560.400024  1580.000000     416\n",
       "2020-01-07  1571.800049  1576.300049  1558.300049  1558.300049      47\n",
       "2020-01-08  1557.400024  1604.199951  1552.300049  1579.699951     236"
      ]
     },
     "execution_count": 13,
     "metadata": {},
     "output_type": "execute_result"
    }
   ],
   "source": [
    "import yfinance as yf\n",
    "\n",
    "ASSET_CHART_NAME = 'Gold Futures'\n",
    "\n",
    "asset_price_df = yf.download(\"GC=F\", start=\"2020-01-01\", end=\"2025-07-23\")\n",
    "\n",
    "asset_price_df.columns = asset_price_df.columns.get_level_values(0)\n",
    "asset_price_df.columns.name = None\n",
    "\n",
    "asset_price_df.head()"
   ]
  },
  {
   "cell_type": "code",
   "execution_count": 14,
   "id": "ff24242a",
   "metadata": {},
   "outputs": [
    {
     "data": {
      "application/vnd.plotly.v1+json": {
       "config": {
        "plotlyServerURL": "https://plot.ly"
       },
       "data": [
        {
         "close": {
          "bdata": "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",
          "dtype": "f8"
         },
         "high": {
          "bdata": "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",
          "dtype": "f8"
         },
         "low": {
          "bdata": "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",
          "dtype": "f8"
         },
         "open": {
          "bdata": "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",
          "dtype": "f8"
         },
         "type": "candlestick",
         "x": [
          "2020-01-02T00:00:00.000000000",
          "2020-01-03T00:00:00.000000000",
          "2020-01-06T00:00:00.000000000",
          "2020-01-07T00:00:00.000000000",
          "2020-01-08T00:00:00.000000000",
          "2020-01-09T00:00:00.000000000",
          "2020-01-10T00:00:00.000000000",
          "2020-01-13T00:00:00.000000000",
          "2020-01-14T00:00:00.000000000",
          "2020-01-15T00:00:00.000000000",
          "2020-01-16T00:00:00.000000000",
          "2020-01-17T00:00:00.000000000",
          "2020-01-21T00:00:00.000000000",
          "2020-01-22T00:00:00.000000000",
          "2020-01-23T00:00:00.000000000",
          "2020-01-24T00:00:00.000000000",
          "2020-01-27T00:00:00.000000000",
          "2020-01-28T00:00:00.000000000",
          "2020-01-29T00:00:00.000000000",
          "2020-01-30T00:00:00.000000000",
          "2020-01-31T00:00:00.000000000",
          "2020-02-03T00:00:00.000000000",
          "2020-02-04T00:00:00.000000000",
          "2020-02-05T00:00:00.000000000",
          "2020-02-06T00:00:00.000000000",
          "2020-02-07T00:00:00.000000000",
          "2020-02-10T00:00:00.000000000",
          "2020-02-11T00:00:00.000000000",
          "2020-02-12T00:00:00.000000000",
          "2020-02-13T00:00:00.000000000",
          "2020-02-14T00:00:00.000000000",
          "2020-02-18T00:00:00.000000000",
          "2020-02-19T00:00:00.000000000",
          "2020-02-20T00:00:00.000000000",
          "2020-02-21T00:00:00.000000000",
          "2020-02-24T00:00:00.000000000",
          "2020-02-25T00:00:00.000000000",
          "2020-02-26T00:00:00.000000000",
          "2020-02-27T00:00:00.000000000",
          "2020-02-28T00:00:00.000000000",
          "2020-03-02T00:00:00.000000000",
          "2020-03-03T00:00:00.000000000",
          "2020-03-04T00:00:00.000000000",
          "2020-03-05T00:00:00.000000000",
          "2020-03-06T00:00:00.000000000",
          "2020-03-09T00:00:00.000000000",
          "2020-03-10T00:00:00.000000000",
          "2020-03-11T00:00:00.000000000",
          "2020-03-12T00:00:00.000000000",
          "2020-03-13T00:00:00.000000000",
          "2020-03-16T00:00:00.000000000",
          "2020-03-17T00:00:00.000000000",
          "2020-03-18T00:00:00.000000000",
          "2020-03-19T00:00:00.000000000",
          "2020-03-20T00:00:00.000000000",
          "2020-03-23T00:00:00.000000000",
          "2020-03-24T00:00:00.000000000",
          "2020-03-25T00:00:00.000000000",
          "2020-03-26T00:00:00.000000000",
          "2020-03-27T00:00:00.000000000",
          "2020-03-30T00:00:00.000000000",
          "2020-03-31T00:00:00.000000000",
          "2020-04-01T00:00:00.000000000",
          "2020-04-02T00:00:00.000000000",
          "2020-04-03T00:00:00.000000000",
          "2020-04-06T00:00:00.000000000",
          "2020-04-07T00:00:00.000000000",
          "2020-04-08T00:00:00.000000000",
          "2020-04-09T00:00:00.000000000",
          "2020-04-13T00:00:00.000000000",
          "2020-04-14T00:00:00.000000000",
          "2020-04-15T00:00:00.000000000",
          "2020-04-16T00:00:00.000000000",
          "2020-04-17T00:00:00.000000000",
          "2020-04-20T00:00:00.000000000",
          "2020-04-21T00:00:00.000000000",
          "2020-04-22T00:00:00.000000000",
          "2020-04-23T00:00:00.000000000",
          "2020-04-24T00:00:00.000000000",
          "2020-04-27T00:00:00.000000000",
          "2020-04-28T00:00:00.000000000",
          "2020-04-29T00:00:00.000000000",
          "2020-04-30T00:00:00.000000000",
          "2020-05-01T00:00:00.000000000",
          "2020-05-04T00:00:00.000000000",
          "2020-05-05T00:00:00.000000000",
          "2020-05-06T00:00:00.000000000",
          "2020-05-07T00:00:00.000000000",
          "2020-05-08T00:00:00.000000000",
          "2020-05-11T00:00:00.000000000",
          "2020-05-12T00:00:00.000000000",
          "2020-05-13T00:00:00.000000000",
          "2020-05-14T00:00:00.000000000",
          "2020-05-15T00:00:00.000000000",
          "2020-05-18T00:00:00.000000000",
          "2020-05-19T00:00:00.000000000",
          "2020-05-20T00:00:00.000000000",
          "2020-05-21T00:00:00.000000000",
          "2020-05-22T00:00:00.000000000",
          "2020-05-26T00:00:00.000000000",
          "2020-05-27T00:00:00.000000000",
          "2020-05-28T00:00:00.000000000",
          "2020-05-29T00:00:00.000000000",
          "2020-06-01T00:00:00.000000000",
          "2020-06-02T00:00:00.000000000",
          "2020-06-03T00:00:00.000000000",
          "2020-06-04T00:00:00.000000000",
          "2020-06-05T00:00:00.000000000",
          "2020-06-08T00:00:00.000000000",
          "2020-06-09T00:00:00.000000000",
          "2020-06-10T00:00:00.000000000",
          "2020-06-11T00:00:00.000000000",
          "2020-06-12T00:00:00.000000000",
          "2020-06-15T00:00:00.000000000",
          "2020-06-16T00:00:00.000000000",
          "2020-06-17T00:00:00.000000000",
          "2020-06-18T00:00:00.000000000",
          "2020-06-19T00:00:00.000000000",
          "2020-06-22T00:00:00.000000000",
          "2020-06-23T00:00:00.000000000",
          "2020-06-24T00:00:00.000000000",
          "2020-06-25T00:00:00.000000000",
          "2020-06-26T00:00:00.000000000",
          "2020-06-29T00:00:00.000000000",
          "2020-06-30T00:00:00.000000000",
          "2020-07-01T00:00:00.000000000",
          "2020-07-02T00:00:00.000000000",
          "2020-07-06T00:00:00.000000000",
          "2020-07-07T00:00:00.000000000",
          "2020-07-08T00:00:00.000000000",
          "2020-07-09T00:00:00.000000000",
          "2020-07-10T00:00:00.000000000",
          "2020-07-13T00:00:00.000000000",
          "2020-07-14T00:00:00.000000000",
          "2020-07-15T00:00:00.000000000",
          "2020-07-16T00:00:00.000000000",
          "2020-07-17T00:00:00.000000000",
          "2020-07-20T00:00:00.000000000",
          "2020-07-21T00:00:00.000000000",
          "2020-07-22T00:00:00.000000000",
          "2020-07-23T00:00:00.000000000",
          "2020-07-24T00:00:00.000000000",
          "2020-07-27T00:00:00.000000000",
          "2020-07-28T00:00:00.000000000",
          "2020-07-29T00:00:00.000000000",
          "2020-07-30T00:00:00.000000000",
          "2020-07-31T00:00:00.000000000",
          "2020-08-03T00:00:00.000000000",
          "2020-08-04T00:00:00.000000000",
          "2020-08-05T00:00:00.000000000",
          "2020-08-06T00:00:00.000000000",
          "2020-08-07T00:00:00.000000000",
          "2020-08-10T00:00:00.000000000",
          "2020-08-11T00:00:00.000000000",
          "2020-08-12T00:00:00.000000000",
          "2020-08-13T00:00:00.000000000",
          "2020-08-14T00:00:00.000000000",
          "2020-08-17T00:00:00.000000000",
          "2020-08-18T00:00:00.000000000",
          "2020-08-19T00:00:00.000000000",
          "2020-08-20T00:00:00.000000000",
          "2020-08-21T00:00:00.000000000",
          "2020-08-24T00:00:00.000000000",
          "2020-08-25T00:00:00.000000000",
          "2020-08-26T00:00:00.000000000",
          "2020-08-27T00:00:00.000000000",
          "2020-08-28T00:00:00.000000000",
          "2020-08-31T00:00:00.000000000",
          "2020-09-01T00:00:00.000000000",
          "2020-09-02T00:00:00.000000000",
          "2020-09-03T00:00:00.000000000",
          "2020-09-04T00:00:00.000000000",
          "2020-09-08T00:00:00.000000000",
          "2020-09-09T00:00:00.000000000",
          "2020-09-10T00:00:00.000000000",
          "2020-09-11T00:00:00.000000000",
          "2020-09-14T00:00:00.000000000",
          "2020-09-15T00:00:00.000000000",
          "2020-09-16T00:00:00.000000000",
          "2020-09-17T00:00:00.000000000",
          "2020-09-18T00:00:00.000000000",
          "2020-09-21T00:00:00.000000000",
          "2020-09-22T00:00:00.000000000",
          "2020-09-23T00:00:00.000000000",
          "2020-09-24T00:00:00.000000000",
          "2020-09-25T00:00:00.000000000",
          "2020-09-28T00:00:00.000000000",
          "2020-09-29T00:00:00.000000000",
          "2020-09-30T00:00:00.000000000",
          "2020-10-01T00:00:00.000000000",
          "2020-10-02T00:00:00.000000000",
          "2020-10-05T00:00:00.000000000",
          "2020-10-06T00:00:00.000000000",
          "2020-10-07T00:00:00.000000000",
          "2020-10-08T00:00:00.000000000",
          "2020-10-09T00:00:00.000000000",
          "2020-10-12T00:00:00.000000000",
          "2020-10-13T00:00:00.000000000",
          "2020-10-14T00:00:00.000000000",
          "2020-10-15T00:00:00.000000000",
          "2020-10-16T00:00:00.000000000",
          "2020-10-19T00:00:00.000000000",
          "2020-10-20T00:00:00.000000000",
          "2020-10-21T00:00:00.000000000",
          "2020-10-22T00:00:00.000000000",
          "2020-10-23T00:00:00.000000000",
          "2020-10-26T00:00:00.000000000",
          "2020-10-27T00:00:00.000000000",
          "2020-10-28T00:00:00.000000000",
          "2020-10-29T00:00:00.000000000",
          "2020-10-30T00:00:00.000000000",
          "2020-11-02T00:00:00.000000000",
          "2020-11-03T00:00:00.000000000",
          "2020-11-04T00:00:00.000000000",
          "2020-11-05T00:00:00.000000000",
          "2020-11-06T00:00:00.000000000",
          "2020-11-09T00:00:00.000000000",
          "2020-11-10T00:00:00.000000000",
          "2020-11-11T00:00:00.000000000",
          "2020-11-12T00:00:00.000000000",
          "2020-11-13T00:00:00.000000000",
          "2020-11-16T00:00:00.000000000",
          "2020-11-17T00:00:00.000000000",
          "2020-11-18T00:00:00.000000000",
          "2020-11-19T00:00:00.000000000",
          "2020-11-20T00:00:00.000000000",
          "2020-11-23T00:00:00.000000000",
          "2020-11-24T00:00:00.000000000",
          "2020-11-25T00:00:00.000000000",
          "2020-11-27T00:00:00.000000000",
          "2020-11-30T00:00:00.000000000",
          "2020-12-01T00:00:00.000000000",
          "2020-12-02T00:00:00.000000000",
          "2020-12-03T00:00:00.000000000",
          "2020-12-04T00:00:00.000000000",
          "2020-12-07T00:00:00.000000000",
          "2020-12-08T00:00:00.000000000",
          "2020-12-09T00:00:00.000000000",
          "2020-12-10T00:00:00.000000000",
          "2020-12-11T00:00:00.000000000",
          "2020-12-14T00:00:00.000000000",
          "2020-12-15T00:00:00.000000000",
          "2020-12-16T00:00:00.000000000",
          "2020-12-17T00:00:00.000000000",
          "2020-12-18T00:00:00.000000000",
          "2020-12-21T00:00:00.000000000",
          "2020-12-22T00:00:00.000000000",
          "2020-12-23T00:00:00.000000000",
          "2020-12-24T00:00:00.000000000",
          "2020-12-28T00:00:00.000000000",
          "2020-12-29T00:00:00.000000000",
          "2020-12-30T00:00:00.000000000",
          "2020-12-31T00:00:00.000000000",
          "2021-01-04T00:00:00.000000000",
          "2021-01-05T00:00:00.000000000",
          "2021-01-06T00:00:00.000000000",
          "2021-01-07T00:00:00.000000000",
          "2021-01-08T00:00:00.000000000",
          "2021-01-11T00:00:00.000000000",
          "2021-01-12T00:00:00.000000000",
          "2021-01-13T00:00:00.000000000",
          "2021-01-14T00:00:00.000000000",
          "2021-01-15T00:00:00.000000000",
          "2021-01-19T00:00:00.000000000",
          "2021-01-20T00:00:00.000000000",
          "2021-01-21T00:00:00.000000000",
          "2021-01-22T00:00:00.000000000",
          "2021-01-25T00:00:00.000000000",
          "2021-01-26T00:00:00.000000000",
          "2021-01-27T00:00:00.000000000",
          "2021-01-28T00:00:00.000000000",
          "2021-01-29T00:00:00.000000000",
          "2021-02-01T00:00:00.000000000",
          "2021-02-02T00:00:00.000000000",
          "2021-02-03T00:00:00.000000000",
          "2021-02-04T00:00:00.000000000",
          "2021-02-05T00:00:00.000000000",
          "2021-02-08T00:00:00.000000000",
          "2021-02-09T00:00:00.000000000",
          "2021-02-10T00:00:00.000000000",
          "2021-02-11T00:00:00.000000000",
          "2021-02-12T00:00:00.000000000",
          "2021-02-16T00:00:00.000000000",
          "2021-02-17T00:00:00.000000000",
          "2021-02-18T00:00:00.000000000",
          "2021-02-19T00:00:00.000000000",
          "2021-02-22T00:00:00.000000000",
          "2021-02-23T00:00:00.000000000",
          "2021-02-24T00:00:00.000000000",
          "2021-02-25T00:00:00.000000000",
          "2021-02-26T00:00:00.000000000",
          "2021-03-01T00:00:00.000000000",
          "2021-03-02T00:00:00.000000000",
          "2021-03-03T00:00:00.000000000",
          "2021-03-04T00:00:00.000000000",
          "2021-03-05T00:00:00.000000000",
          "2021-03-08T00:00:00.000000000",
          "2021-03-09T00:00:00.000000000",
          "2021-03-10T00:00:00.000000000",
          "2021-03-11T00:00:00.000000000",
          "2021-03-12T00:00:00.000000000",
          "2021-03-15T00:00:00.000000000",
          "2021-03-16T00:00:00.000000000",
          "2021-03-17T00:00:00.000000000",
          "2021-03-18T00:00:00.000000000",
          "2021-03-19T00:00:00.000000000",
          "2021-03-22T00:00:00.000000000",
          "2021-03-23T00:00:00.000000000",
          "2021-03-24T00:00:00.000000000",
          "2021-03-25T00:00:00.000000000",
          "2021-03-26T00:00:00.000000000",
          "2021-03-29T00:00:00.000000000",
          "2021-03-30T00:00:00.000000000",
          "2021-03-31T00:00:00.000000000",
          "2021-04-01T00:00:00.000000000",
          "2021-04-05T00:00:00.000000000",
          "2021-04-06T00:00:00.000000000",
          "2021-04-07T00:00:00.000000000",
          "2021-04-08T00:00:00.000000000",
          "2021-04-09T00:00:00.000000000",
          "2021-04-12T00:00:00.000000000",
          "2021-04-13T00:00:00.000000000",
          "2021-04-14T00:00:00.000000000",
          "2021-04-15T00:00:00.000000000",
          "2021-04-16T00:00:00.000000000",
          "2021-04-19T00:00:00.000000000",
          "2021-04-20T00:00:00.000000000",
          "2021-04-21T00:00:00.000000000",
          "2021-04-22T00:00:00.000000000",
          "2021-04-23T00:00:00.000000000",
          "2021-04-26T00:00:00.000000000",
          "2021-04-27T00:00:00.000000000",
          "2021-04-28T00:00:00.000000000",
          "2021-04-29T00:00:00.000000000",
          "2021-04-30T00:00:00.000000000",
          "2021-05-03T00:00:00.000000000",
          "2021-05-04T00:00:00.000000000",
          "2021-05-05T00:00:00.000000000",
          "2021-05-06T00:00:00.000000000",
          "2021-05-07T00:00:00.000000000",
          "2021-05-10T00:00:00.000000000",
          "2021-05-11T00:00:00.000000000",
          "2021-05-12T00:00:00.000000000",
          "2021-05-13T00:00:00.000000000",
          "2021-05-14T00:00:00.000000000",
          "2021-05-17T00:00:00.000000000",
          "2021-05-18T00:00:00.000000000",
          "2021-05-19T00:00:00.000000000",
          "2021-05-20T00:00:00.000000000",
          "2021-05-21T00:00:00.000000000",
          "2021-05-24T00:00:00.000000000",
          "2021-05-25T00:00:00.000000000",
          "2021-05-26T00:00:00.000000000",
          "2021-05-27T00:00:00.000000000",
          "2021-05-28T00:00:00.000000000",
          "2021-06-01T00:00:00.000000000",
          "2021-06-02T00:00:00.000000000",
          "2021-06-03T00:00:00.000000000",
          "2021-06-04T00:00:00.000000000",
          "2021-06-07T00:00:00.000000000",
          "2021-06-08T00:00:00.000000000",
          "2021-06-09T00:00:00.000000000",
          "2021-06-10T00:00:00.000000000",
          "2021-06-11T00:00:00.000000000",
          "2021-06-14T00:00:00.000000000",
          "2021-06-15T00:00:00.000000000",
          "2021-06-16T00:00:00.000000000",
          "2021-06-17T00:00:00.000000000",
          "2021-06-18T00:00:00.000000000",
          "2021-06-21T00:00:00.000000000",
          "2021-06-22T00:00:00.000000000",
          "2021-06-23T00:00:00.000000000",
          "2021-06-24T00:00:00.000000000",
          "2021-06-25T00:00:00.000000000",
          "2021-06-28T00:00:00.000000000",
          "2021-06-29T00:00:00.000000000",
          "2021-06-30T00:00:00.000000000",
          "2021-07-01T00:00:00.000000000",
          "2021-07-02T00:00:00.000000000",
          "2021-07-06T00:00:00.000000000",
          "2021-07-07T00:00:00.000000000",
          "2021-07-08T00:00:00.000000000",
          "2021-07-09T00:00:00.000000000",
          "2021-07-12T00:00:00.000000000",
          "2021-07-13T00:00:00.000000000",
          "2021-07-14T00:00:00.000000000",
          "2021-07-15T00:00:00.000000000",
          "2021-07-16T00:00:00.000000000",
          "2021-07-19T00:00:00.000000000",
          "2021-07-20T00:00:00.000000000",
          "2021-07-21T00:00:00.000000000",
          "2021-07-22T00:00:00.000000000",
          "2021-07-23T00:00:00.000000000",
          "2021-07-26T00:00:00.000000000",
          "2021-07-27T00:00:00.000000000",
          "2021-07-28T00:00:00.000000000",
          "2021-07-29T00:00:00.000000000",
          "2021-07-30T00:00:00.000000000",
          "2021-08-02T00:00:00.000000000",
          "2021-08-03T00:00:00.000000000",
          "2021-08-04T00:00:00.000000000",
          "2021-08-05T00:00:00.000000000",
          "2021-08-06T00:00:00.000000000",
          "2021-08-09T00:00:00.000000000",
          "2021-08-10T00:00:00.000000000",
          "2021-08-11T00:00:00.000000000",
          "2021-08-12T00:00:00.000000000",
          "2021-08-13T00:00:00.000000000",
          "2021-08-16T00:00:00.000000000",
          "2021-08-17T00:00:00.000000000",
          "2021-08-18T00:00:00.000000000",
          "2021-08-19T00:00:00.000000000",
          "2021-08-20T00:00:00.000000000",
          "2021-08-23T00:00:00.000000000",
          "2021-08-24T00:00:00.000000000",
          "2021-08-25T00:00:00.000000000",
          "2021-08-26T00:00:00.000000000",
          "2021-08-27T00:00:00.000000000",
          "2021-08-30T00:00:00.000000000",
          "2021-08-31T00:00:00.000000000",
          "2021-09-01T00:00:00.000000000",
          "2021-09-02T00:00:00.000000000",
          "2021-09-03T00:00:00.000000000",
          "2021-09-07T00:00:00.000000000",
          "2021-09-08T00:00:00.000000000",
          "2021-09-09T00:00:00.000000000",
          "2021-09-10T00:00:00.000000000",
          "2021-09-13T00:00:00.000000000",
          "2021-09-14T00:00:00.000000000",
          "2021-09-15T00:00:00.000000000",
          "2021-09-16T00:00:00.000000000",
          "2021-09-17T00:00:00.000000000",
          "2021-09-20T00:00:00.000000000",
          "2021-09-21T00:00:00.000000000",
          "2021-09-22T00:00:00.000000000",
          "2021-09-23T00:00:00.000000000",
          "2021-09-24T00:00:00.000000000",
          "2021-09-27T00:00:00.000000000",
          "2021-09-28T00:00:00.000000000",
          "2021-09-29T00:00:00.000000000",
          "2021-09-30T00:00:00.000000000",
          "2021-10-01T00:00:00.000000000",
          "2021-10-04T00:00:00.000000000",
          "2021-10-05T00:00:00.000000000",
          "2021-10-06T00:00:00.000000000",
          "2021-10-07T00:00:00.000000000",
          "2021-10-08T00:00:00.000000000",
          "2021-10-11T00:00:00.000000000",
          "2021-10-12T00:00:00.000000000",
          "2021-10-13T00:00:00.000000000",
          "2021-10-14T00:00:00.000000000",
          "2021-10-15T00:00:00.000000000",
          "2021-10-18T00:00:00.000000000",
          "2021-10-19T00:00:00.000000000",
          "2021-10-20T00:00:00.000000000",
          "2021-10-21T00:00:00.000000000",
          "2021-10-22T00:00:00.000000000",
          "2021-10-25T00:00:00.000000000",
          "2021-10-26T00:00:00.000000000",
          "2021-10-27T00:00:00.000000000",
          "2021-10-28T00:00:00.000000000",
          "2021-10-29T00:00:00.000000000",
          "2021-11-01T00:00:00.000000000",
          "2021-11-02T00:00:00.000000000",
          "2021-11-03T00:00:00.000000000",
          "2021-11-04T00:00:00.000000000",
          "2021-11-05T00:00:00.000000000",
          "2021-11-08T00:00:00.000000000",
          "2021-11-09T00:00:00.000000000",
          "2021-11-10T00:00:00.000000000",
          "2021-11-11T00:00:00.000000000",
          "2021-11-12T00:00:00.000000000",
          "2021-11-15T00:00:00.000000000",
          "2021-11-16T00:00:00.000000000",
          "2021-11-17T00:00:00.000000000",
          "2021-11-18T00:00:00.000000000",
          "2021-11-19T00:00:00.000000000",
          "2021-11-22T00:00:00.000000000",
          "2021-11-23T00:00:00.000000000",
          "2021-11-24T00:00:00.000000000",
          "2021-11-26T00:00:00.000000000",
          "2021-11-29T00:00:00.000000000",
          "2021-11-30T00:00:00.000000000",
          "2021-12-01T00:00:00.000000000",
          "2021-12-02T00:00:00.000000000",
          "2021-12-03T00:00:00.000000000",
          "2021-12-06T00:00:00.000000000",
          "2021-12-07T00:00:00.000000000",
          "2021-12-08T00:00:00.000000000",
          "2021-12-09T00:00:00.000000000",
          "2021-12-10T00:00:00.000000000",
          "2021-12-13T00:00:00.000000000",
          "2021-12-14T00:00:00.000000000",
          "2021-12-15T00:00:00.000000000",
          "2021-12-16T00:00:00.000000000",
          "2021-12-17T00:00:00.000000000",
          "2021-12-20T00:00:00.000000000",
          "2021-12-21T00:00:00.000000000",
          "2021-12-22T00:00:00.000000000",
          "2021-12-23T00:00:00.000000000",
          "2021-12-27T00:00:00.000000000",
          "2021-12-28T00:00:00.000000000",
          "2021-12-29T00:00:00.000000000",
          "2021-12-30T00:00:00.000000000",
          "2021-12-31T00:00:00.000000000",
          "2022-01-03T00:00:00.000000000",
          "2022-01-04T00:00:00.000000000",
          "2022-01-05T00:00:00.000000000",
          "2022-01-06T00:00:00.000000000",
          "2022-01-07T00:00:00.000000000",
          "2022-01-10T00:00:00.000000000",
          "2022-01-11T00:00:00.000000000",
          "2022-01-12T00:00:00.000000000",
          "2022-01-13T00:00:00.000000000",
          "2022-01-14T00:00:00.000000000",
          "2022-01-18T00:00:00.000000000",
          "2022-01-19T00:00:00.000000000",
          "2022-01-20T00:00:00.000000000",
          "2022-01-21T00:00:00.000000000",
          "2022-01-24T00:00:00.000000000",
          "2022-01-25T00:00:00.000000000",
          "2022-01-26T00:00:00.000000000",
          "2022-01-27T00:00:00.000000000",
          "2022-01-28T00:00:00.000000000",
          "2022-01-31T00:00:00.000000000",
          "2022-02-01T00:00:00.000000000",
          "2022-02-02T00:00:00.000000000",
          "2022-02-03T00:00:00.000000000",
          "2022-02-04T00:00:00.000000000",
          "2022-02-07T00:00:00.000000000",
          "2022-02-08T00:00:00.000000000",
          "2022-02-09T00:00:00.000000000",
          "2022-02-10T00:00:00.000000000",
          "2022-02-11T00:00:00.000000000",
          "2022-02-14T00:00:00.000000000",
          "2022-02-15T00:00:00.000000000",
          "2022-02-16T00:00:00.000000000",
          "2022-02-17T00:00:00.000000000",
          "2022-02-18T00:00:00.000000000",
          "2022-02-22T00:00:00.000000000",
          "2022-02-23T00:00:00.000000000",
          "2022-02-24T00:00:00.000000000",
          "2022-02-25T00:00:00.000000000",
          "2022-02-28T00:00:00.000000000",
          "2022-03-01T00:00:00.000000000",
          "2022-03-02T00:00:00.000000000",
          "2022-03-03T00:00:00.000000000",
          "2022-03-04T00:00:00.000000000",
          "2022-03-07T00:00:00.000000000",
          "2022-03-08T00:00:00.000000000",
          "2022-03-09T00:00:00.000000000",
          "2022-03-10T00:00:00.000000000",
          "2022-03-11T00:00:00.000000000",
          "2022-03-14T00:00:00.000000000",
          "2022-03-15T00:00:00.000000000",
          "2022-03-16T00:00:00.000000000",
          "2022-03-17T00:00:00.000000000",
          "2022-03-18T00:00:00.000000000",
          "2022-03-21T00:00:00.000000000",
          "2022-03-22T00:00:00.000000000",
          "2022-03-23T00:00:00.000000000",
          "2022-03-24T00:00:00.000000000",
          "2022-03-25T00:00:00.000000000",
          "2022-03-28T00:00:00.000000000",
          "2022-03-29T00:00:00.000000000",
          "2022-03-30T00:00:00.000000000",
          "2022-03-31T00:00:00.000000000",
          "2022-04-01T00:00:00.000000000",
          "2022-04-04T00:00:00.000000000",
          "2022-04-05T00:00:00.000000000",
          "2022-04-06T00:00:00.000000000",
          "2022-04-07T00:00:00.000000000",
          "2022-04-08T00:00:00.000000000",
          "2022-04-11T00:00:00.000000000",
          "2022-04-12T00:00:00.000000000",
          "2022-04-13T00:00:00.000000000",
          "2022-04-14T00:00:00.000000000",
          "2022-04-18T00:00:00.000000000",
          "2022-04-19T00:00:00.000000000",
          "2022-04-20T00:00:00.000000000",
          "2022-04-21T00:00:00.000000000",
          "2022-04-22T00:00:00.000000000",
          "2022-04-25T00:00:00.000000000",
          "2022-04-26T00:00:00.000000000",
          "2022-04-27T00:00:00.000000000",
          "2022-04-28T00:00:00.000000000",
          "2022-04-29T00:00:00.000000000",
          "2022-05-02T00:00:00.000000000",
          "2022-05-03T00:00:00.000000000",
          "2022-05-04T00:00:00.000000000",
          "2022-05-05T00:00:00.000000000",
          "2022-05-06T00:00:00.000000000",
          "2022-05-09T00:00:00.000000000",
          "2022-05-10T00:00:00.000000000",
          "2022-05-11T00:00:00.000000000",
          "2022-05-12T00:00:00.000000000",
          "2022-05-13T00:00:00.000000000",
          "2022-05-16T00:00:00.000000000",
          "2022-05-17T00:00:00.000000000",
          "2022-05-18T00:00:00.000000000",
          "2022-05-19T00:00:00.000000000",
          "2022-05-20T00:00:00.000000000",
          "2022-05-23T00:00:00.000000000",
          "2022-05-24T00:00:00.000000000",
          "2022-05-25T00:00:00.000000000",
          "2022-05-26T00:00:00.000000000",
          "2022-05-27T00:00:00.000000000",
          "2022-05-31T00:00:00.000000000",
          "2022-06-01T00:00:00.000000000",
          "2022-06-02T00:00:00.000000000",
          "2022-06-03T00:00:00.000000000",
          "2022-06-06T00:00:00.000000000",
          "2022-06-07T00:00:00.000000000",
          "2022-06-08T00:00:00.000000000",
          "2022-06-09T00:00:00.000000000",
          "2022-06-10T00:00:00.000000000",
          "2022-06-13T00:00:00.000000000",
          "2022-06-14T00:00:00.000000000",
          "2022-06-15T00:00:00.000000000",
          "2022-06-16T00:00:00.000000000",
          "2022-06-17T00:00:00.000000000",
          "2022-06-21T00:00:00.000000000",
          "2022-06-22T00:00:00.000000000",
          "2022-06-23T00:00:00.000000000",
          "2022-06-24T00:00:00.000000000",
          "2022-06-27T00:00:00.000000000",
          "2022-06-28T00:00:00.000000000",
          "2022-06-29T00:00:00.000000000",
          "2022-06-30T00:00:00.000000000",
          "2022-07-01T00:00:00.000000000",
          "2022-07-05T00:00:00.000000000",
          "2022-07-06T00:00:00.000000000",
          "2022-07-07T00:00:00.000000000",
          "2022-07-08T00:00:00.000000000",
          "2022-07-11T00:00:00.000000000",
          "2022-07-12T00:00:00.000000000",
          "2022-07-13T00:00:00.000000000",
          "2022-07-14T00:00:00.000000000",
          "2022-07-15T00:00:00.000000000",
          "2022-07-18T00:00:00.000000000",
          "2022-07-19T00:00:00.000000000",
          "2022-07-20T00:00:00.000000000",
          "2022-07-21T00:00:00.000000000",
          "2022-07-22T00:00:00.000000000",
          "2022-07-25T00:00:00.000000000",
          "2022-07-26T00:00:00.000000000",
          "2022-07-27T00:00:00.000000000",
          "2022-07-28T00:00:00.000000000",
          "2022-07-29T00:00:00.000000000",
          "2022-08-01T00:00:00.000000000",
          "2022-08-02T00:00:00.000000000",
          "2022-08-03T00:00:00.000000000",
          "2022-08-04T00:00:00.000000000",
          "2022-08-05T00:00:00.000000000",
          "2022-08-08T00:00:00.000000000",
          "2022-08-09T00:00:00.000000000",
          "2022-08-10T00:00:00.000000000",
          "2022-08-11T00:00:00.000000000",
          "2022-08-12T00:00:00.000000000",
          "2022-08-15T00:00:00.000000000",
          "2022-08-16T00:00:00.000000000",
          "2022-08-17T00:00:00.000000000",
          "2022-08-18T00:00:00.000000000",
          "2022-08-19T00:00:00.000000000",
          "2022-08-22T00:00:00.000000000",
          "2022-08-23T00:00:00.000000000",
          "2022-08-24T00:00:00.000000000",
          "2022-08-25T00:00:00.000000000",
          "2022-08-26T00:00:00.000000000",
          "2022-08-29T00:00:00.000000000",
          "2022-08-30T00:00:00.000000000",
          "2022-08-31T00:00:00.000000000",
          "2022-09-01T00:00:00.000000000",
          "2022-09-02T00:00:00.000000000",
          "2022-09-06T00:00:00.000000000",
          "2022-09-07T00:00:00.000000000",
          "2022-09-08T00:00:00.000000000",
          "2022-09-09T00:00:00.000000000",
          "2022-09-12T00:00:00.000000000",
          "2022-09-13T00:00:00.000000000",
          "2022-09-14T00:00:00.000000000",
          "2022-09-15T00:00:00.000000000",
          "2022-09-16T00:00:00.000000000",
          "2022-09-19T00:00:00.000000000",
          "2022-09-20T00:00:00.000000000",
          "2022-09-21T00:00:00.000000000",
          "2022-09-22T00:00:00.000000000",
          "2022-09-23T00:00:00.000000000",
          "2022-09-26T00:00:00.000000000",
          "2022-09-27T00:00:00.000000000",
          "2022-09-28T00:00:00.000000000",
          "2022-09-29T00:00:00.000000000",
          "2022-09-30T00:00:00.000000000",
          "2022-10-03T00:00:00.000000000",
          "2022-10-04T00:00:00.000000000",
          "2022-10-05T00:00:00.000000000",
          "2022-10-06T00:00:00.000000000",
          "2022-10-07T00:00:00.000000000",
          "2022-10-10T00:00:00.000000000",
          "2022-10-11T00:00:00.000000000",
          "2022-10-12T00:00:00.000000000",
          "2022-10-13T00:00:00.000000000",
          "2022-10-14T00:00:00.000000000",
          "2022-10-17T00:00:00.000000000",
          "2022-10-18T00:00:00.000000000",
          "2022-10-19T00:00:00.000000000",
          "2022-10-20T00:00:00.000000000",
          "2022-10-21T00:00:00.000000000",
          "2022-10-24T00:00:00.000000000",
          "2022-10-25T00:00:00.000000000",
          "2022-10-26T00:00:00.000000000",
          "2022-10-27T00:00:00.000000000",
          "2022-10-28T00:00:00.000000000",
          "2022-10-31T00:00:00.000000000",
          "2022-11-01T00:00:00.000000000",
          "2022-11-02T00:00:00.000000000",
          "2022-11-03T00:00:00.000000000",
          "2022-11-04T00:00:00.000000000",
          "2022-11-07T00:00:00.000000000",
          "2022-11-08T00:00:00.000000000",
          "2022-11-09T00:00:00.000000000",
          "2022-11-10T00:00:00.000000000",
          "2022-11-11T00:00:00.000000000",
          "2022-11-14T00:00:00.000000000",
          "2022-11-15T00:00:00.000000000",
          "2022-11-16T00:00:00.000000000",
          "2022-11-17T00:00:00.000000000",
          "2022-11-18T00:00:00.000000000",
          "2022-11-21T00:00:00.000000000",
          "2022-11-22T00:00:00.000000000",
          "2022-11-23T00:00:00.000000000",
          "2022-11-25T00:00:00.000000000",
          "2022-11-28T00:00:00.000000000",
          "2022-11-29T00:00:00.000000000",
          "2022-11-30T00:00:00.000000000",
          "2022-12-01T00:00:00.000000000",
          "2022-12-02T00:00:00.000000000",
          "2022-12-05T00:00:00.000000000",
          "2022-12-06T00:00:00.000000000",
          "2022-12-07T00:00:00.000000000",
          "2022-12-08T00:00:00.000000000",
          "2022-12-09T00:00:00.000000000",
          "2022-12-12T00:00:00.000000000",
          "2022-12-13T00:00:00.000000000",
          "2022-12-14T00:00:00.000000000",
          "2022-12-15T00:00:00.000000000",
          "2022-12-16T00:00:00.000000000",
          "2022-12-19T00:00:00.000000000",
          "2022-12-20T00:00:00.000000000",
          "2022-12-21T00:00:00.000000000",
          "2022-12-22T00:00:00.000000000",
          "2022-12-23T00:00:00.000000000",
          "2022-12-27T00:00:00.000000000",
          "2022-12-28T00:00:00.000000000",
          "2022-12-29T00:00:00.000000000",
          "2022-12-30T00:00:00.000000000",
          "2023-01-03T00:00:00.000000000",
          "2023-01-04T00:00:00.000000000",
          "2023-01-05T00:00:00.000000000",
          "2023-01-06T00:00:00.000000000",
          "2023-01-09T00:00:00.000000000",
          "2023-01-10T00:00:00.000000000",
          "2023-01-11T00:00:00.000000000",
          "2023-01-12T00:00:00.000000000",
          "2023-01-13T00:00:00.000000000",
          "2023-01-17T00:00:00.000000000",
          "2023-01-18T00:00:00.000000000",
          "2023-01-19T00:00:00.000000000",
          "2023-01-20T00:00:00.000000000",
          "2023-01-23T00:00:00.000000000",
          "2023-01-24T00:00:00.000000000",
          "2023-01-25T00:00:00.000000000",
          "2023-01-26T00:00:00.000000000",
          "2023-01-27T00:00:00.000000000",
          "2023-01-30T00:00:00.000000000",
          "2023-01-31T00:00:00.000000000",
          "2023-02-01T00:00:00.000000000",
          "2023-02-02T00:00:00.000000000",
          "2023-02-03T00:00:00.000000000",
          "2023-02-06T00:00:00.000000000",
          "2023-02-07T00:00:00.000000000",
          "2023-02-08T00:00:00.000000000",
          "2023-02-09T00:00:00.000000000",
          "2023-02-10T00:00:00.000000000",
          "2023-02-13T00:00:00.000000000",
          "2023-02-14T00:00:00.000000000",
          "2023-02-15T00:00:00.000000000",
          "2023-02-16T00:00:00.000000000",
          "2023-02-17T00:00:00.000000000",
          "2023-02-21T00:00:00.000000000",
          "2023-02-22T00:00:00.000000000",
          "2023-02-23T00:00:00.000000000",
          "2023-02-24T00:00:00.000000000",
          "2023-02-27T00:00:00.000000000",
          "2023-02-28T00:00:00.000000000",
          "2023-03-01T00:00:00.000000000",
          "2023-03-02T00:00:00.000000000",
          "2023-03-03T00:00:00.000000000",
          "2023-03-06T00:00:00.000000000",
          "2023-03-07T00:00:00.000000000",
          "2023-03-08T00:00:00.000000000",
          "2023-03-09T00:00:00.000000000",
          "2023-03-10T00:00:00.000000000",
          "2023-03-13T00:00:00.000000000",
          "2023-03-14T00:00:00.000000000",
          "2023-03-15T00:00:00.000000000",
          "2023-03-16T00:00:00.000000000",
          "2023-03-17T00:00:00.000000000",
          "2023-03-20T00:00:00.000000000",
          "2023-03-21T00:00:00.000000000",
          "2023-03-22T00:00:00.000000000",
          "2023-03-23T00:00:00.000000000",
          "2023-03-24T00:00:00.000000000",
          "2023-03-27T00:00:00.000000000",
          "2023-03-28T00:00:00.000000000",
          "2023-03-29T00:00:00.000000000",
          "2023-03-30T00:00:00.000000000",
          "2023-03-31T00:00:00.000000000",
          "2023-04-03T00:00:00.000000000",
          "2023-04-04T00:00:00.000000000",
          "2023-04-05T00:00:00.000000000",
          "2023-04-06T00:00:00.000000000",
          "2023-04-10T00:00:00.000000000",
          "2023-04-11T00:00:00.000000000",
          "2023-04-12T00:00:00.000000000",
          "2023-04-13T00:00:00.000000000",
          "2023-04-14T00:00:00.000000000",
          "2023-04-17T00:00:00.000000000",
          "2023-04-18T00:00:00.000000000",
          "2023-04-19T00:00:00.000000000",
          "2023-04-20T00:00:00.000000000",
          "2023-04-21T00:00:00.000000000",
          "2023-04-24T00:00:00.000000000",
          "2023-04-25T00:00:00.000000000",
          "2023-04-26T00:00:00.000000000",
          "2023-04-27T00:00:00.000000000",
          "2023-04-28T00:00:00.000000000",
          "2023-05-01T00:00:00.000000000",
          "2023-05-02T00:00:00.000000000",
          "2023-05-03T00:00:00.000000000",
          "2023-05-04T00:00:00.000000000",
          "2023-05-05T00:00:00.000000000",
          "2023-05-08T00:00:00.000000000",
          "2023-05-09T00:00:00.000000000",
          "2023-05-10T00:00:00.000000000",
          "2023-05-11T00:00:00.000000000",
          "2023-05-12T00:00:00.000000000",
          "2023-05-15T00:00:00.000000000",
          "2023-05-16T00:00:00.000000000",
          "2023-05-17T00:00:00.000000000",
          "2023-05-18T00:00:00.000000000",
          "2023-05-19T00:00:00.000000000",
          "2023-05-22T00:00:00.000000000",
          "2023-05-23T00:00:00.000000000",
          "2023-05-24T00:00:00.000000000",
          "2023-05-25T00:00:00.000000000",
          "2023-05-26T00:00:00.000000000",
          "2023-05-30T00:00:00.000000000",
          "2023-05-31T00:00:00.000000000",
          "2023-06-01T00:00:00.000000000",
          "2023-06-02T00:00:00.000000000",
          "2023-06-05T00:00:00.000000000",
          "2023-06-06T00:00:00.000000000",
          "2023-06-07T00:00:00.000000000",
          "2023-06-08T00:00:00.000000000",
          "2023-06-09T00:00:00.000000000",
          "2023-06-12T00:00:00.000000000",
          "2023-06-13T00:00:00.000000000",
          "2023-06-14T00:00:00.000000000",
          "2023-06-15T00:00:00.000000000",
          "2023-06-16T00:00:00.000000000",
          "2023-06-20T00:00:00.000000000",
          "2023-06-21T00:00:00.000000000",
          "2023-06-22T00:00:00.000000000",
          "2023-06-23T00:00:00.000000000",
          "2023-06-26T00:00:00.000000000",
          "2023-06-27T00:00:00.000000000",
          "2023-06-28T00:00:00.000000000",
          "2023-06-29T00:00:00.000000000",
          "2023-06-30T00:00:00.000000000",
          "2023-07-03T00:00:00.000000000",
          "2023-07-05T00:00:00.000000000",
          "2023-07-06T00:00:00.000000000",
          "2023-07-07T00:00:00.000000000",
          "2023-07-10T00:00:00.000000000",
          "2023-07-11T00:00:00.000000000",
          "2023-07-12T00:00:00.000000000",
          "2023-07-13T00:00:00.000000000",
          "2023-07-14T00:00:00.000000000",
          "2023-07-17T00:00:00.000000000",
          "2023-07-18T00:00:00.000000000",
          "2023-07-19T00:00:00.000000000",
          "2023-07-20T00:00:00.000000000",
          "2023-07-21T00:00:00.000000000",
          "2023-07-24T00:00:00.000000000",
          "2023-07-25T00:00:00.000000000",
          "2023-07-26T00:00:00.000000000",
          "2023-07-27T00:00:00.000000000",
          "2023-07-28T00:00:00.000000000",
          "2023-07-31T00:00:00.000000000",
          "2023-08-01T00:00:00.000000000",
          "2023-08-02T00:00:00.000000000",
          "2023-08-03T00:00:00.000000000",
          "2023-08-04T00:00:00.000000000",
          "2023-08-07T00:00:00.000000000",
          "2023-08-08T00:00:00.000000000",
          "2023-08-09T00:00:00.000000000",
          "2023-08-10T00:00:00.000000000",
          "2023-08-11T00:00:00.000000000",
          "2023-08-14T00:00:00.000000000",
          "2023-08-15T00:00:00.000000000",
          "2023-08-16T00:00:00.000000000",
          "2023-08-17T00:00:00.000000000",
          "2023-08-18T00:00:00.000000000",
          "2023-08-21T00:00:00.000000000",
          "2023-08-22T00:00:00.000000000",
          "2023-08-23T00:00:00.000000000",
          "2023-08-24T00:00:00.000000000",
          "2023-08-25T00:00:00.000000000",
          "2023-08-28T00:00:00.000000000",
          "2023-08-29T00:00:00.000000000",
          "2023-08-30T00:00:00.000000000",
          "2023-08-31T00:00:00.000000000",
          "2023-09-01T00:00:00.000000000",
          "2023-09-05T00:00:00.000000000",
          "2023-09-06T00:00:00.000000000",
          "2023-09-07T00:00:00.000000000",
          "2023-09-08T00:00:00.000000000",
          "2023-09-11T00:00:00.000000000",
          "2023-09-12T00:00:00.000000000",
          "2023-09-13T00:00:00.000000000",
          "2023-09-14T00:00:00.000000000",
          "2023-09-15T00:00:00.000000000",
          "2023-09-18T00:00:00.000000000",
          "2023-09-19T00:00:00.000000000",
          "2023-09-20T00:00:00.000000000",
          "2023-09-21T00:00:00.000000000",
          "2023-09-22T00:00:00.000000000",
          "2023-09-25T00:00:00.000000000",
          "2023-09-26T00:00:00.000000000",
          "2023-09-27T00:00:00.000000000",
          "2023-09-28T00:00:00.000000000",
          "2023-09-29T00:00:00.000000000",
          "2023-10-02T00:00:00.000000000",
          "2023-10-03T00:00:00.000000000",
          "2023-10-04T00:00:00.000000000",
          "2023-10-05T00:00:00.000000000",
          "2023-10-06T00:00:00.000000000",
          "2023-10-09T00:00:00.000000000",
          "2023-10-10T00:00:00.000000000",
          "2023-10-11T00:00:00.000000000",
          "2023-10-12T00:00:00.000000000",
          "2023-10-13T00:00:00.000000000",
          "2023-10-16T00:00:00.000000000",
          "2023-10-17T00:00:00.000000000",
          "2023-10-18T00:00:00.000000000",
          "2023-10-19T00:00:00.000000000",
          "2023-10-20T00:00:00.000000000",
          "2023-10-23T00:00:00.000000000",
          "2023-10-24T00:00:00.000000000",
          "2023-10-25T00:00:00.000000000",
          "2023-10-26T00:00:00.000000000",
          "2023-10-27T00:00:00.000000000",
          "2023-10-30T00:00:00.000000000",
          "2023-10-31T00:00:00.000000000",
          "2023-11-01T00:00:00.000000000",
          "2023-11-02T00:00:00.000000000",
          "2023-11-03T00:00:00.000000000",
          "2023-11-06T00:00:00.000000000",
          "2023-11-07T00:00:00.000000000",
          "2023-11-08T00:00:00.000000000",
          "2023-11-09T00:00:00.000000000",
          "2023-11-10T00:00:00.000000000",
          "2023-11-13T00:00:00.000000000",
          "2023-11-14T00:00:00.000000000",
          "2023-11-15T00:00:00.000000000",
          "2023-11-16T00:00:00.000000000",
          "2023-11-17T00:00:00.000000000",
          "2023-11-20T00:00:00.000000000",
          "2023-11-21T00:00:00.000000000",
          "2023-11-22T00:00:00.000000000",
          "2023-11-24T00:00:00.000000000",
          "2023-11-27T00:00:00.000000000",
          "2023-11-28T00:00:00.000000000",
          "2023-11-29T00:00:00.000000000",
          "2023-11-30T00:00:00.000000000",
          "2023-12-01T00:00:00.000000000",
          "2023-12-04T00:00:00.000000000",
          "2023-12-05T00:00:00.000000000",
          "2023-12-06T00:00:00.000000000",
          "2023-12-07T00:00:00.000000000",
          "2023-12-08T00:00:00.000000000",
          "2023-12-11T00:00:00.000000000",
          "2023-12-12T00:00:00.000000000",
          "2023-12-13T00:00:00.000000000",
          "2023-12-14T00:00:00.000000000",
          "2023-12-15T00:00:00.000000000",
          "2023-12-18T00:00:00.000000000",
          "2023-12-19T00:00:00.000000000",
          "2023-12-20T00:00:00.000000000",
          "2023-12-21T00:00:00.000000000",
          "2023-12-22T00:00:00.000000000",
          "2023-12-26T00:00:00.000000000",
          "2023-12-27T00:00:00.000000000",
          "2023-12-28T00:00:00.000000000",
          "2023-12-29T00:00:00.000000000",
          "2024-01-02T00:00:00.000000000",
          "2024-01-03T00:00:00.000000000",
          "2024-01-04T00:00:00.000000000",
          "2024-01-05T00:00:00.000000000",
          "2024-01-08T00:00:00.000000000",
          "2024-01-09T00:00:00.000000000",
          "2024-01-10T00:00:00.000000000",
          "2024-01-11T00:00:00.000000000",
          "2024-01-12T00:00:00.000000000",
          "2024-01-16T00:00:00.000000000",
          "2024-01-17T00:00:00.000000000",
          "2024-01-18T00:00:00.000000000",
          "2024-01-19T00:00:00.000000000",
          "2024-01-22T00:00:00.000000000",
          "2024-01-23T00:00:00.000000000",
          "2024-01-24T00:00:00.000000000",
          "2024-01-25T00:00:00.000000000",
          "2024-01-26T00:00:00.000000000",
          "2024-01-29T00:00:00.000000000",
          "2024-01-30T00:00:00.000000000",
          "2024-01-31T00:00:00.000000000",
          "2024-02-01T00:00:00.000000000",
          "2024-02-02T00:00:00.000000000",
          "2024-02-05T00:00:00.000000000",
          "2024-02-06T00:00:00.000000000",
          "2024-02-07T00:00:00.000000000",
          "2024-02-08T00:00:00.000000000",
          "2024-02-09T00:00:00.000000000",
          "2024-02-12T00:00:00.000000000",
          "2024-02-13T00:00:00.000000000",
          "2024-02-14T00:00:00.000000000",
          "2024-02-15T00:00:00.000000000",
          "2024-02-16T00:00:00.000000000",
          "2024-02-20T00:00:00.000000000",
          "2024-02-21T00:00:00.000000000",
          "2024-02-22T00:00:00.000000000",
          "2024-02-23T00:00:00.000000000",
          "2024-02-26T00:00:00.000000000",
          "2024-02-27T00:00:00.000000000",
          "2024-02-28T00:00:00.000000000",
          "2024-02-29T00:00:00.000000000",
          "2024-03-01T00:00:00.000000000",
          "2024-03-04T00:00:00.000000000",
          "2024-03-05T00:00:00.000000000",
          "2024-03-06T00:00:00.000000000",
          "2024-03-07T00:00:00.000000000",
          "2024-03-08T00:00:00.000000000",
          "2024-03-11T00:00:00.000000000",
          "2024-03-12T00:00:00.000000000",
          "2024-03-13T00:00:00.000000000",
          "2024-03-14T00:00:00.000000000",
          "2024-03-15T00:00:00.000000000",
          "2024-03-18T00:00:00.000000000",
          "2024-03-19T00:00:00.000000000",
          "2024-03-20T00:00:00.000000000",
          "2024-03-21T00:00:00.000000000",
          "2024-03-22T00:00:00.000000000",
          "2024-03-25T00:00:00.000000000",
          "2024-03-26T00:00:00.000000000",
          "2024-03-27T00:00:00.000000000",
          "2024-03-28T00:00:00.000000000",
          "2024-04-01T00:00:00.000000000",
          "2024-04-02T00:00:00.000000000",
          "2024-04-03T00:00:00.000000000",
          "2024-04-04T00:00:00.000000000",
          "2024-04-05T00:00:00.000000000",
          "2024-04-08T00:00:00.000000000",
          "2024-04-09T00:00:00.000000000",
          "2024-04-10T00:00:00.000000000",
          "2024-04-11T00:00:00.000000000",
          "2024-04-12T00:00:00.000000000",
          "2024-04-15T00:00:00.000000000",
          "2024-04-16T00:00:00.000000000",
          "2024-04-17T00:00:00.000000000",
          "2024-04-18T00:00:00.000000000",
          "2024-04-19T00:00:00.000000000",
          "2024-04-22T00:00:00.000000000",
          "2024-04-23T00:00:00.000000000",
          "2024-04-24T00:00:00.000000000",
          "2024-04-25T00:00:00.000000000",
          "2024-04-26T00:00:00.000000000",
          "2024-04-29T00:00:00.000000000",
          "2024-04-30T00:00:00.000000000",
          "2024-05-01T00:00:00.000000000",
          "2024-05-02T00:00:00.000000000",
          "2024-05-03T00:00:00.000000000",
          "2024-05-06T00:00:00.000000000",
          "2024-05-07T00:00:00.000000000",
          "2024-05-08T00:00:00.000000000",
          "2024-05-09T00:00:00.000000000",
          "2024-05-10T00:00:00.000000000",
          "2024-05-13T00:00:00.000000000",
          "2024-05-14T00:00:00.000000000",
          "2024-05-15T00:00:00.000000000",
          "2024-05-16T00:00:00.000000000",
          "2024-05-17T00:00:00.000000000",
          "2024-05-20T00:00:00.000000000",
          "2024-05-21T00:00:00.000000000",
          "2024-05-22T00:00:00.000000000",
          "2024-05-23T00:00:00.000000000",
          "2024-05-24T00:00:00.000000000",
          "2024-05-28T00:00:00.000000000",
          "2024-05-29T00:00:00.000000000",
          "2024-05-30T00:00:00.000000000",
          "2024-05-31T00:00:00.000000000",
          "2024-06-03T00:00:00.000000000",
          "2024-06-04T00:00:00.000000000",
          "2024-06-05T00:00:00.000000000",
          "2024-06-06T00:00:00.000000000",
          "2024-06-07T00:00:00.000000000",
          "2024-06-10T00:00:00.000000000",
          "2024-06-11T00:00:00.000000000",
          "2024-06-12T00:00:00.000000000",
          "2024-06-13T00:00:00.000000000",
          "2024-06-14T00:00:00.000000000",
          "2024-06-17T00:00:00.000000000",
          "2024-06-18T00:00:00.000000000",
          "2024-06-20T00:00:00.000000000",
          "2024-06-21T00:00:00.000000000",
          "2024-06-24T00:00:00.000000000",
          "2024-06-25T00:00:00.000000000",
          "2024-06-26T00:00:00.000000000",
          "2024-06-27T00:00:00.000000000",
          "2024-06-28T00:00:00.000000000",
          "2024-07-01T00:00:00.000000000",
          "2024-07-02T00:00:00.000000000",
          "2024-07-03T00:00:00.000000000",
          "2024-07-05T00:00:00.000000000",
          "2024-07-08T00:00:00.000000000",
          "2024-07-09T00:00:00.000000000",
          "2024-07-10T00:00:00.000000000",
          "2024-07-11T00:00:00.000000000",
          "2024-07-12T00:00:00.000000000",
          "2024-07-15T00:00:00.000000000",
          "2024-07-16T00:00:00.000000000",
          "2024-07-17T00:00:00.000000000",
          "2024-07-18T00:00:00.000000000",
          "2024-07-19T00:00:00.000000000",
          "2024-07-22T00:00:00.000000000",
          "2024-07-23T00:00:00.000000000",
          "2024-07-24T00:00:00.000000000",
          "2024-07-25T00:00:00.000000000",
          "2024-07-26T00:00:00.000000000",
          "2024-07-29T00:00:00.000000000",
          "2024-07-30T00:00:00.000000000",
          "2024-07-31T00:00:00.000000000",
          "2024-08-01T00:00:00.000000000",
          "2024-08-02T00:00:00.000000000",
          "2024-08-05T00:00:00.000000000",
          "2024-08-06T00:00:00.000000000",
          "2024-08-07T00:00:00.000000000",
          "2024-08-08T00:00:00.000000000",
          "2024-08-09T00:00:00.000000000",
          "2024-08-12T00:00:00.000000000",
          "2024-08-13T00:00:00.000000000",
          "2024-08-14T00:00:00.000000000",
          "2024-08-15T00:00:00.000000000",
          "2024-08-16T00:00:00.000000000",
          "2024-08-19T00:00:00.000000000",
          "2024-08-20T00:00:00.000000000",
          "2024-08-21T00:00:00.000000000",
          "2024-08-22T00:00:00.000000000",
          "2024-08-23T00:00:00.000000000",
          "2024-08-26T00:00:00.000000000",
          "2024-08-27T00:00:00.000000000",
          "2024-08-28T00:00:00.000000000",
          "2024-08-29T00:00:00.000000000",
          "2024-08-30T00:00:00.000000000",
          "2024-09-03T00:00:00.000000000",
          "2024-09-04T00:00:00.000000000",
          "2024-09-05T00:00:00.000000000",
          "2024-09-06T00:00:00.000000000",
          "2024-09-09T00:00:00.000000000",
          "2024-09-10T00:00:00.000000000",
          "2024-09-11T00:00:00.000000000",
          "2024-09-12T00:00:00.000000000",
          "2024-09-13T00:00:00.000000000",
          "2024-09-16T00:00:00.000000000",
          "2024-09-17T00:00:00.000000000",
          "2024-09-18T00:00:00.000000000",
          "2024-09-19T00:00:00.000000000",
          "2024-09-20T00:00:00.000000000",
          "2024-09-23T00:00:00.000000000",
          "2024-09-24T00:00:00.000000000",
          "2024-09-25T00:00:00.000000000",
          "2024-09-26T00:00:00.000000000",
          "2024-09-27T00:00:00.000000000",
          "2024-09-30T00:00:00.000000000",
          "2024-10-01T00:00:00.000000000",
          "2024-10-02T00:00:00.000000000",
          "2024-10-03T00:00:00.000000000",
          "2024-10-04T00:00:00.000000000",
          "2024-10-07T00:00:00.000000000",
          "2024-10-08T00:00:00.000000000",
          "2024-10-09T00:00:00.000000000",
          "2024-10-10T00:00:00.000000000",
          "2024-10-11T00:00:00.000000000",
          "2024-10-14T00:00:00.000000000",
          "2024-10-15T00:00:00.000000000",
          "2024-10-16T00:00:00.000000000",
          "2024-10-17T00:00:00.000000000",
          "2024-10-18T00:00:00.000000000",
          "2024-10-21T00:00:00.000000000",
          "2024-10-22T00:00:00.000000000",
          "2024-10-23T00:00:00.000000000",
          "2024-10-24T00:00:00.000000000",
          "2024-10-25T00:00:00.000000000",
          "2024-10-28T00:00:00.000000000",
          "2024-10-29T00:00:00.000000000",
          "2024-10-30T00:00:00.000000000",
          "2024-10-31T00:00:00.000000000",
          "2024-11-01T00:00:00.000000000",
          "2024-11-04T00:00:00.000000000",
          "2024-11-05T00:00:00.000000000",
          "2024-11-06T00:00:00.000000000",
          "2024-11-07T00:00:00.000000000",
          "2024-11-08T00:00:00.000000000",
          "2024-11-11T00:00:00.000000000",
          "2024-11-12T00:00:00.000000000",
          "2024-11-13T00:00:00.000000000",
          "2024-11-14T00:00:00.000000000",
          "2024-11-15T00:00:00.000000000",
          "2024-11-18T00:00:00.000000000",
          "2024-11-19T00:00:00.000000000",
          "2024-11-20T00:00:00.000000000",
          "2024-11-21T00:00:00.000000000",
          "2024-11-22T00:00:00.000000000",
          "2024-11-25T00:00:00.000000000",
          "2024-11-26T00:00:00.000000000",
          "2024-11-27T00:00:00.000000000",
          "2024-11-29T00:00:00.000000000",
          "2024-12-02T00:00:00.000000000",
          "2024-12-03T00:00:00.000000000",
          "2024-12-04T00:00:00.000000000",
          "2024-12-05T00:00:00.000000000",
          "2024-12-06T00:00:00.000000000",
          "2024-12-09T00:00:00.000000000",
          "2024-12-10T00:00:00.000000000",
          "2024-12-11T00:00:00.000000000",
          "2024-12-12T00:00:00.000000000",
          "2024-12-13T00:00:00.000000000",
          "2024-12-16T00:00:00.000000000",
          "2024-12-17T00:00:00.000000000",
          "2024-12-18T00:00:00.000000000",
          "2024-12-19T00:00:00.000000000",
          "2024-12-20T00:00:00.000000000",
          "2024-12-23T00:00:00.000000000",
          "2024-12-24T00:00:00.000000000",
          "2024-12-26T00:00:00.000000000",
          "2024-12-27T00:00:00.000000000",
          "2024-12-30T00:00:00.000000000",
          "2024-12-31T00:00:00.000000000",
          "2025-01-02T00:00:00.000000000",
          "2025-01-03T00:00:00.000000000",
          "2025-01-06T00:00:00.000000000",
          "2025-01-07T00:00:00.000000000",
          "2025-01-08T00:00:00.000000000",
          "2025-01-09T00:00:00.000000000",
          "2025-01-10T00:00:00.000000000",
          "2025-01-13T00:00:00.000000000",
          "2025-01-14T00:00:00.000000000",
          "2025-01-15T00:00:00.000000000",
          "2025-01-16T00:00:00.000000000",
          "2025-01-17T00:00:00.000000000",
          "2025-01-21T00:00:00.000000000",
          "2025-01-22T00:00:00.000000000",
          "2025-01-23T00:00:00.000000000",
          "2025-01-24T00:00:00.000000000",
          "2025-01-27T00:00:00.000000000",
          "2025-01-28T00:00:00.000000000",
          "2025-01-29T00:00:00.000000000",
          "2025-01-30T00:00:00.000000000",
          "2025-01-31T00:00:00.000000000",
          "2025-02-03T00:00:00.000000000",
          "2025-02-04T00:00:00.000000000",
          "2025-02-05T00:00:00.000000000",
          "2025-02-06T00:00:00.000000000",
          "2025-02-07T00:00:00.000000000",
          "2025-02-10T00:00:00.000000000",
          "2025-02-11T00:00:00.000000000",
          "2025-02-12T00:00:00.000000000",
          "2025-02-13T00:00:00.000000000",
          "2025-02-14T00:00:00.000000000",
          "2025-02-18T00:00:00.000000000",
          "2025-02-19T00:00:00.000000000",
          "2025-02-20T00:00:00.000000000",
          "2025-02-21T00:00:00.000000000",
          "2025-02-24T00:00:00.000000000",
          "2025-02-25T00:00:00.000000000",
          "2025-02-26T00:00:00.000000000",
          "2025-02-27T00:00:00.000000000",
          "2025-02-28T00:00:00.000000000",
          "2025-03-03T00:00:00.000000000",
          "2025-03-04T00:00:00.000000000",
          "2025-03-05T00:00:00.000000000",
          "2025-03-06T00:00:00.000000000",
          "2025-03-07T00:00:00.000000000",
          "2025-03-10T00:00:00.000000000",
          "2025-03-11T00:00:00.000000000",
          "2025-03-12T00:00:00.000000000",
          "2025-03-13T00:00:00.000000000",
          "2025-03-14T00:00:00.000000000",
          "2025-03-17T00:00:00.000000000",
          "2025-03-18T00:00:00.000000000",
          "2025-03-19T00:00:00.000000000",
          "2025-03-20T00:00:00.000000000",
          "2025-03-21T00:00:00.000000000",
          "2025-03-24T00:00:00.000000000",
          "2025-03-25T00:00:00.000000000",
          "2025-03-26T00:00:00.000000000",
          "2025-03-27T00:00:00.000000000",
          "2025-03-28T00:00:00.000000000",
          "2025-03-31T00:00:00.000000000",
          "2025-04-01T00:00:00.000000000",
          "2025-04-02T00:00:00.000000000",
          "2025-04-03T00:00:00.000000000",
          "2025-04-04T00:00:00.000000000",
          "2025-04-07T00:00:00.000000000",
          "2025-04-08T00:00:00.000000000",
          "2025-04-09T00:00:00.000000000",
          "2025-04-10T00:00:00.000000000",
          "2025-04-11T00:00:00.000000000",
          "2025-04-14T00:00:00.000000000",
          "2025-04-15T00:00:00.000000000",
          "2025-04-16T00:00:00.000000000",
          "2025-04-17T00:00:00.000000000",
          "2025-04-21T00:00:00.000000000",
          "2025-04-22T00:00:00.000000000",
          "2025-04-23T00:00:00.000000000",
          "2025-04-24T00:00:00.000000000",
          "2025-04-25T00:00:00.000000000",
          "2025-04-28T00:00:00.000000000",
          "2025-04-29T00:00:00.000000000",
          "2025-04-30T00:00:00.000000000",
          "2025-05-01T00:00:00.000000000",
          "2025-05-02T00:00:00.000000000",
          "2025-05-05T00:00:00.000000000",
          "2025-05-06T00:00:00.000000000",
          "2025-05-07T00:00:00.000000000",
          "2025-05-08T00:00:00.000000000",
          "2025-05-09T00:00:00.000000000",
          "2025-05-12T00:00:00.000000000",
          "2025-05-13T00:00:00.000000000",
          "2025-05-14T00:00:00.000000000",
          "2025-05-15T00:00:00.000000000",
          "2025-05-16T00:00:00.000000000",
          "2025-05-19T00:00:00.000000000",
          "2025-05-20T00:00:00.000000000",
          "2025-05-21T00:00:00.000000000",
          "2025-05-22T00:00:00.000000000",
          "2025-05-23T00:00:00.000000000",
          "2025-05-27T00:00:00.000000000",
          "2025-05-28T00:00:00.000000000",
          "2025-05-29T00:00:00.000000000",
          "2025-05-30T00:00:00.000000000",
          "2025-06-02T00:00:00.000000000",
          "2025-06-03T00:00:00.000000000",
          "2025-06-04T00:00:00.000000000",
          "2025-06-05T00:00:00.000000000",
          "2025-06-06T00:00:00.000000000",
          "2025-06-09T00:00:00.000000000",
          "2025-06-10T00:00:00.000000000",
          "2025-06-11T00:00:00.000000000",
          "2025-06-12T00:00:00.000000000",
          "2025-06-13T00:00:00.000000000",
          "2025-06-16T00:00:00.000000000",
          "2025-06-17T00:00:00.000000000",
          "2025-06-18T00:00:00.000000000",
          "2025-06-20T00:00:00.000000000",
          "2025-06-23T00:00:00.000000000",
          "2025-06-24T00:00:00.000000000",
          "2025-06-25T00:00:00.000000000",
          "2025-06-26T00:00:00.000000000",
          "2025-06-27T00:00:00.000000000",
          "2025-06-30T00:00:00.000000000",
          "2025-07-01T00:00:00.000000000",
          "2025-07-02T00:00:00.000000000",
          "2025-07-03T00:00:00.000000000",
          "2025-07-04T00:00:00.000000000",
          "2025-07-07T00:00:00.000000000",
          "2025-07-08T00:00:00.000000000",
          "2025-07-09T00:00:00.000000000",
          "2025-07-10T00:00:00.000000000",
          "2025-07-11T00:00:00.000000000",
          "2025-07-14T00:00:00.000000000",
          "2025-07-15T00:00:00.000000000",
          "2025-07-16T00:00:00.000000000",
          "2025-07-17T00:00:00.000000000",
          "2025-07-18T00:00:00.000000000",
          "2025-07-21T00:00:00.000000000",
          "2025-07-22T00:00:00.000000000"
         ]
        }
       ],
       "layout": {
        "height": 900,
        "template": {
         "data": {
          "bar": [
           {
            "error_x": {
             "color": "#f2f5fa"
            },
            "error_y": {
             "color": "#f2f5fa"
            },
            "marker": {
             "line": {
              "color": "rgb(17,17,17)",
              "width": 0.5
             },
             "pattern": {
              "fillmode": "overlay",
              "size": 10,
              "solidity": 0.2
             }
            },
            "type": "bar"
           }
          ],
          "barpolar": [
           {
            "marker": {
             "line": {
              "color": "rgb(17,17,17)",
              "width": 0.5
             },
             "pattern": {
              "fillmode": "overlay",
              "size": 10,
              "solidity": 0.2
             }
            },
            "type": "barpolar"
           }
          ],
          "carpet": [
           {
            "aaxis": {
             "endlinecolor": "#A2B1C6",
             "gridcolor": "#506784",
             "linecolor": "#506784",
             "minorgridcolor": "#506784",
             "startlinecolor": "#A2B1C6"
            },
            "baxis": {
             "endlinecolor": "#A2B1C6",
             "gridcolor": "#506784",
             "linecolor": "#506784",
             "minorgridcolor": "#506784",
             "startlinecolor": "#A2B1C6"
            },
            "type": "carpet"
           }
          ],
          "choropleth": [
           {
            "colorbar": {
             "outlinewidth": 0,
             "ticks": ""
            },
            "type": "choropleth"
           }
          ],
          "contour": [
           {
            "colorbar": {
             "outlinewidth": 0,
             "ticks": ""
            },
            "colorscale": [
             [
              0,
              "#0d0887"
             ],
             [
              0.1111111111111111,
              "#46039f"
             ],
             [
              0.2222222222222222,
              "#7201a8"
             ],
             [
              0.3333333333333333,
              "#9c179e"
             ],
             [
              0.4444444444444444,
              "#bd3786"
             ],
             [
              0.5555555555555556,
              "#d8576b"
             ],
             [
              0.6666666666666666,
              "#ed7953"
             ],
             [
              0.7777777777777778,
              "#fb9f3a"
             ],
             [
              0.8888888888888888,
              "#fdca26"
             ],
             [
              1,
              "#f0f921"
             ]
            ],
            "type": "contour"
           }
          ],
          "contourcarpet": [
           {
            "colorbar": {
             "outlinewidth": 0,
             "ticks": ""
            },
            "type": "contourcarpet"
           }
          ],
          "heatmap": [
           {
            "colorbar": {
             "outlinewidth": 0,
             "ticks": ""
            },
            "colorscale": [
             [
              0,
              "#0d0887"
             ],
             [
              0.1111111111111111,
              "#46039f"
             ],
             [
              0.2222222222222222,
              "#7201a8"
             ],
             [
              0.3333333333333333,
              "#9c179e"
             ],
             [
              0.4444444444444444,
              "#bd3786"
             ],
             [
              0.5555555555555556,
              "#d8576b"
             ],
             [
              0.6666666666666666,
              "#ed7953"
             ],
             [
              0.7777777777777778,
              "#fb9f3a"
             ],
             [
              0.8888888888888888,
              "#fdca26"
             ],
             [
              1,
              "#f0f921"
             ]
            ],
            "type": "heatmap"
           }
          ],
          "histogram": [
           {
            "marker": {
             "pattern": {
              "fillmode": "overlay",
              "size": 10,
              "solidity": 0.2
             }
            },
            "type": "histogram"
           }
          ],
          "histogram2d": [
           {
            "colorbar": {
             "outlinewidth": 0,
             "ticks": ""
            },
            "colorscale": [
             [
              0,
              "#0d0887"
             ],
             [
              0.1111111111111111,
              "#46039f"
             ],
             [
              0.2222222222222222,
              "#7201a8"
             ],
             [
              0.3333333333333333,
              "#9c179e"
             ],
             [
              0.4444444444444444,
              "#bd3786"
             ],
             [
              0.5555555555555556,
              "#d8576b"
             ],
             [
              0.6666666666666666,
              "#ed7953"
             ],
             [
              0.7777777777777778,
              "#fb9f3a"
             ],
             [
              0.8888888888888888,
              "#fdca26"
             ],
             [
              1,
              "#f0f921"
             ]
            ],
            "type": "histogram2d"
           }
          ],
          "histogram2dcontour": [
           {
            "colorbar": {
             "outlinewidth": 0,
             "ticks": ""
            },
            "colorscale": [
             [
              0,
              "#0d0887"
             ],
             [
              0.1111111111111111,
              "#46039f"
             ],
             [
              0.2222222222222222,
              "#7201a8"
             ],
             [
              0.3333333333333333,
              "#9c179e"
             ],
             [
              0.4444444444444444,
              "#bd3786"
             ],
             [
              0.5555555555555556,
              "#d8576b"
             ],
             [
              0.6666666666666666,
              "#ed7953"
             ],
             [
              0.7777777777777778,
              "#fb9f3a"
             ],
             [
              0.8888888888888888,
              "#fdca26"
             ],
             [
              1,
              "#f0f921"
             ]
            ],
            "type": "histogram2dcontour"
           }
          ],
          "mesh3d": [
           {
            "colorbar": {
             "outlinewidth": 0,
             "ticks": ""
            },
            "type": "mesh3d"
           }
          ],
          "parcoords": [
           {
            "line": {
             "colorbar": {
              "outlinewidth": 0,
              "ticks": ""
             }
            },
            "type": "parcoords"
           }
          ],
          "pie": [
           {
            "automargin": true,
            "type": "pie"
           }
          ],
          "scatter": [
           {
            "marker": {
             "line": {
              "color": "#283442"
             }
            },
            "type": "scatter"
           }
          ],
          "scatter3d": [
           {
            "line": {
             "colorbar": {
              "outlinewidth": 0,
              "ticks": ""
             }
            },
            "marker": {
             "colorbar": {
              "outlinewidth": 0,
              "ticks": ""
             }
            },
            "type": "scatter3d"
           }
          ],
          "scattercarpet": [
           {
            "marker": {
             "colorbar": {
              "outlinewidth": 0,
              "ticks": ""
             }
            },
            "type": "scattercarpet"
           }
          ],
          "scattergeo": [
           {
            "marker": {
             "colorbar": {
              "outlinewidth": 0,
              "ticks": ""
             }
            },
            "type": "scattergeo"
           }
          ],
          "scattergl": [
           {
            "marker": {
             "line": {
              "color": "#283442"
             }
            },
            "type": "scattergl"
           }
          ],
          "scattermap": [
           {
            "marker": {
             "colorbar": {
              "outlinewidth": 0,
              "ticks": ""
             }
            },
            "type": "scattermap"
           }
          ],
          "scattermapbox": [
           {
            "marker": {
             "colorbar": {
              "outlinewidth": 0,
              "ticks": ""
             }
            },
            "type": "scattermapbox"
           }
          ],
          "scatterpolar": [
           {
            "marker": {
             "colorbar": {
              "outlinewidth": 0,
              "ticks": ""
             }
            },
            "type": "scatterpolar"
           }
          ],
          "scatterpolargl": [
           {
            "marker": {
             "colorbar": {
              "outlinewidth": 0,
              "ticks": ""
             }
            },
            "type": "scatterpolargl"
           }
          ],
          "scatterternary": [
           {
            "marker": {
             "colorbar": {
              "outlinewidth": 0,
              "ticks": ""
             }
            },
            "type": "scatterternary"
           }
          ],
          "surface": [
           {
            "colorbar": {
             "outlinewidth": 0,
             "ticks": ""
            },
            "colorscale": [
             [
              0,
              "#0d0887"
             ],
             [
              0.1111111111111111,
              "#46039f"
             ],
             [
              0.2222222222222222,
              "#7201a8"
             ],
             [
              0.3333333333333333,
              "#9c179e"
             ],
             [
              0.4444444444444444,
              "#bd3786"
             ],
             [
              0.5555555555555556,
              "#d8576b"
             ],
             [
              0.6666666666666666,
              "#ed7953"
             ],
             [
              0.7777777777777778,
              "#fb9f3a"
             ],
             [
              0.8888888888888888,
              "#fdca26"
             ],
             [
              1,
              "#f0f921"
             ]
            ],
            "type": "surface"
           }
          ],
          "table": [
           {
            "cells": {
             "fill": {
              "color": "#506784"
             },
             "line": {
              "color": "rgb(17,17,17)"
             }
            },
            "header": {
             "fill": {
              "color": "#2a3f5f"
             },
             "line": {
              "color": "rgb(17,17,17)"
             }
            },
            "type": "table"
           }
          ]
         },
         "layout": {
          "annotationdefaults": {
           "arrowcolor": "#f2f5fa",
           "arrowhead": 0,
           "arrowwidth": 1
          },
          "autotypenumbers": "strict",
          "coloraxis": {
           "colorbar": {
            "outlinewidth": 0,
            "ticks": ""
           }
          },
          "colorscale": {
           "diverging": [
            [
             0,
             "#8e0152"
            ],
            [
             0.1,
             "#c51b7d"
            ],
            [
             0.2,
             "#de77ae"
            ],
            [
             0.3,
             "#f1b6da"
            ],
            [
             0.4,
             "#fde0ef"
            ],
            [
             0.5,
             "#f7f7f7"
            ],
            [
             0.6,
             "#e6f5d0"
            ],
            [
             0.7,
             "#b8e186"
            ],
            [
             0.8,
             "#7fbc41"
            ],
            [
             0.9,
             "#4d9221"
            ],
            [
             1,
             "#276419"
            ]
           ],
           "sequential": [
            [
             0,
             "#0d0887"
            ],
            [
             0.1111111111111111,
             "#46039f"
            ],
            [
             0.2222222222222222,
             "#7201a8"
            ],
            [
             0.3333333333333333,
             "#9c179e"
            ],
            [
             0.4444444444444444,
             "#bd3786"
            ],
            [
             0.5555555555555556,
             "#d8576b"
            ],
            [
             0.6666666666666666,
             "#ed7953"
            ],
            [
             0.7777777777777778,
             "#fb9f3a"
            ],
            [
             0.8888888888888888,
             "#fdca26"
            ],
            [
             1,
             "#f0f921"
            ]
           ],
           "sequentialminus": [
            [
             0,
             "#0d0887"
            ],
            [
             0.1111111111111111,
             "#46039f"
            ],
            [
             0.2222222222222222,
             "#7201a8"
            ],
            [
             0.3333333333333333,
             "#9c179e"
            ],
            [
             0.4444444444444444,
             "#bd3786"
            ],
            [
             0.5555555555555556,
             "#d8576b"
            ],
            [
             0.6666666666666666,
             "#ed7953"
            ],
            [
             0.7777777777777778,
             "#fb9f3a"
            ],
            [
             0.8888888888888888,
             "#fdca26"
            ],
            [
             1,
             "#f0f921"
            ]
           ]
          },
          "colorway": [
           "#636efa",
           "#EF553B",
           "#00cc96",
           "#ab63fa",
           "#FFA15A",
           "#19d3f3",
           "#FF6692",
           "#B6E880",
           "#FF97FF",
           "#FECB52"
          ],
          "font": {
           "color": "#f2f5fa"
          },
          "geo": {
           "bgcolor": "rgb(17,17,17)",
           "lakecolor": "rgb(17,17,17)",
           "landcolor": "rgb(17,17,17)",
           "showlakes": true,
           "showland": true,
           "subunitcolor": "#506784"
          },
          "hoverlabel": {
           "align": "left"
          },
          "hovermode": "closest",
          "mapbox": {
           "style": "dark"
          },
          "paper_bgcolor": "rgb(17,17,17)",
          "plot_bgcolor": "rgb(17,17,17)",
          "polar": {
           "angularaxis": {
            "gridcolor": "#506784",
            "linecolor": "#506784",
            "ticks": ""
           },
           "bgcolor": "rgb(17,17,17)",
           "radialaxis": {
            "gridcolor": "#506784",
            "linecolor": "#506784",
            "ticks": ""
           }
          },
          "scene": {
           "xaxis": {
            "backgroundcolor": "rgb(17,17,17)",
            "gridcolor": "#506784",
            "gridwidth": 2,
            "linecolor": "#506784",
            "showbackground": true,
            "ticks": "",
            "zerolinecolor": "#C8D4E3"
           },
           "yaxis": {
            "backgroundcolor": "rgb(17,17,17)",
            "gridcolor": "#506784",
            "gridwidth": 2,
            "linecolor": "#506784",
            "showbackground": true,
            "ticks": "",
            "zerolinecolor": "#C8D4E3"
           },
           "zaxis": {
            "backgroundcolor": "rgb(17,17,17)",
            "gridcolor": "#506784",
            "gridwidth": 2,
            "linecolor": "#506784",
            "showbackground": true,
            "ticks": "",
            "zerolinecolor": "#C8D4E3"
           }
          },
          "shapedefaults": {
           "line": {
            "color": "#f2f5fa"
           }
          },
          "sliderdefaults": {
           "bgcolor": "#C8D4E3",
           "bordercolor": "rgb(17,17,17)",
           "borderwidth": 1,
           "tickwidth": 0
          },
          "ternary": {
           "aaxis": {
            "gridcolor": "#506784",
            "linecolor": "#506784",
            "ticks": ""
           },
           "baxis": {
            "gridcolor": "#506784",
            "linecolor": "#506784",
            "ticks": ""
           },
           "bgcolor": "rgb(17,17,17)",
           "caxis": {
            "gridcolor": "#506784",
            "linecolor": "#506784",
            "ticks": ""
           }
          },
          "title": {
           "x": 0.05
          },
          "updatemenudefaults": {
           "bgcolor": "#506784",
           "borderwidth": 0
          },
          "xaxis": {
           "automargin": true,
           "gridcolor": "#283442",
           "linecolor": "#506784",
           "ticks": "",
           "title": {
            "standoff": 15
           },
           "zerolinecolor": "#283442",
           "zerolinewidth": 2
          },
          "yaxis": {
           "automargin": true,
           "gridcolor": "#283442",
           "linecolor": "#506784",
           "ticks": "",
           "title": {
            "standoff": 15
           },
           "zerolinecolor": "#283442",
           "zerolinewidth": 2
          }
         }
        },
        "title": {
         "text": "Gold Futures"
        },
        "width": 1500,
        "xaxis": {
         "fixedrange": false,
         "rangeslider": {
          "visible": true
         },
         "title": {
          "text": "Date"
         }
        },
        "yaxis": {
         "fixedrange": false,
         "title": {
          "text": "Price"
         }
        }
       }
      }
     },
     "metadata": {},
     "output_type": "display_data"
    }
   ],
   "source": [
    "fig = go.Figure(data=[go.Candlestick(\n",
    "    x=asset_price_df.index,\n",
    "    open=asset_price_df['Open'],\n",
    "    high=asset_price_df['High'],\n",
    "    low=asset_price_df['Low'],\n",
    "    close=asset_price_df['Close']\n",
    ")])\n",
    "\n",
    "fig.update_layout()\n",
    "\n",
    "# Add zoom and pan tools explicitly\n",
    "fig.update_layout(\n",
    "    title=ASSET_CHART_NAME,\n",
    "    xaxis_title='Date',\n",
    "    yaxis_title='Price',\n",
    "    width=1500,\n",
    "    height=900,\n",
    "    template='plotly_dark',\n",
    "    # dragmode='zoom', \n",
    "    xaxis=dict(fixedrange=False, rangeslider=dict(visible=True)),\n",
    "    yaxis=dict(fixedrange=False),\n",
    ")\n",
    "\n",
    "fig.show()\n"
   ]
  },
  {
   "cell_type": "markdown",
   "id": "492528e7",
   "metadata": {},
   "source": [
    "---"
   ]
  },
  {
   "cell_type": "code",
   "execution_count": 27,
   "id": "012ce7eb",
   "metadata": {},
   "outputs": [
    {
     "data": {
      "application/vnd.plotly.v1+json": {
       "config": {
        "plotlyServerURL": "https://plot.ly"
       },
       "data": [
        {
         "close": {
          "bdata": "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",
          "dtype": "f8"
         },
         "high": {
          "bdata": "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",
          "dtype": "f8"
         },
         "low": {
          "bdata": "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",
          "dtype": "f8"
         },
         "open": {
          "bdata": "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",
          "dtype": "f8"
         },
         "type": "candlestick",
         "x": [
          "2020-01-02T00:00:00.000000000",
          "2020-01-03T00:00:00.000000000",
          "2020-01-06T00:00:00.000000000",
          "2020-01-07T00:00:00.000000000",
          "2020-01-08T00:00:00.000000000",
          "2020-01-09T00:00:00.000000000",
          "2020-01-10T00:00:00.000000000",
          "2020-01-13T00:00:00.000000000",
          "2020-01-14T00:00:00.000000000",
          "2020-01-15T00:00:00.000000000",
          "2020-01-16T00:00:00.000000000",
          "2020-01-17T00:00:00.000000000",
          "2020-01-21T00:00:00.000000000",
          "2020-01-22T00:00:00.000000000",
          "2020-01-23T00:00:00.000000000",
          "2020-01-24T00:00:00.000000000",
          "2020-01-27T00:00:00.000000000",
          "2020-01-28T00:00:00.000000000",
          "2020-01-29T00:00:00.000000000",
          "2020-01-30T00:00:00.000000000",
          "2020-01-31T00:00:00.000000000",
          "2020-02-03T00:00:00.000000000",
          "2020-02-04T00:00:00.000000000",
          "2020-02-05T00:00:00.000000000",
          "2020-02-06T00:00:00.000000000",
          "2020-02-07T00:00:00.000000000",
          "2020-02-10T00:00:00.000000000",
          "2020-02-11T00:00:00.000000000",
          "2020-02-12T00:00:00.000000000",
          "2020-02-13T00:00:00.000000000",
          "2020-02-14T00:00:00.000000000",
          "2020-02-18T00:00:00.000000000",
          "2020-02-19T00:00:00.000000000",
          "2020-02-20T00:00:00.000000000",
          "2020-02-21T00:00:00.000000000",
          "2020-02-24T00:00:00.000000000",
          "2020-02-25T00:00:00.000000000",
          "2020-02-26T00:00:00.000000000",
          "2020-02-27T00:00:00.000000000",
          "2020-02-28T00:00:00.000000000",
          "2020-03-02T00:00:00.000000000",
          "2020-03-03T00:00:00.000000000",
          "2020-03-04T00:00:00.000000000",
          "2020-03-05T00:00:00.000000000",
          "2020-03-06T00:00:00.000000000",
          "2020-03-09T00:00:00.000000000",
          "2020-03-10T00:00:00.000000000",
          "2020-03-11T00:00:00.000000000",
          "2020-03-12T00:00:00.000000000",
          "2020-03-13T00:00:00.000000000",
          "2020-03-16T00:00:00.000000000",
          "2020-03-17T00:00:00.000000000",
          "2020-03-18T00:00:00.000000000",
          "2020-03-19T00:00:00.000000000",
          "2020-03-20T00:00:00.000000000",
          "2020-03-23T00:00:00.000000000",
          "2020-03-24T00:00:00.000000000",
          "2020-03-25T00:00:00.000000000",
          "2020-03-26T00:00:00.000000000",
          "2020-03-27T00:00:00.000000000",
          "2020-03-30T00:00:00.000000000",
          "2020-03-31T00:00:00.000000000",
          "2020-04-01T00:00:00.000000000",
          "2020-04-02T00:00:00.000000000",
          "2020-04-03T00:00:00.000000000",
          "2020-04-06T00:00:00.000000000",
          "2020-04-07T00:00:00.000000000",
          "2020-04-08T00:00:00.000000000",
          "2020-04-09T00:00:00.000000000",
          "2020-04-13T00:00:00.000000000",
          "2020-04-14T00:00:00.000000000",
          "2020-04-15T00:00:00.000000000",
          "2020-04-16T00:00:00.000000000",
          "2020-04-17T00:00:00.000000000",
          "2020-04-20T00:00:00.000000000",
          "2020-04-21T00:00:00.000000000",
          "2020-04-22T00:00:00.000000000",
          "2020-04-23T00:00:00.000000000",
          "2020-04-24T00:00:00.000000000",
          "2020-04-27T00:00:00.000000000",
          "2020-04-28T00:00:00.000000000",
          "2020-04-29T00:00:00.000000000",
          "2020-04-30T00:00:00.000000000",
          "2020-05-01T00:00:00.000000000",
          "2020-05-04T00:00:00.000000000",
          "2020-05-05T00:00:00.000000000",
          "2020-05-06T00:00:00.000000000",
          "2020-05-07T00:00:00.000000000",
          "2020-05-08T00:00:00.000000000",
          "2020-05-11T00:00:00.000000000",
          "2020-05-12T00:00:00.000000000",
          "2020-05-13T00:00:00.000000000",
          "2020-05-14T00:00:00.000000000",
          "2020-05-15T00:00:00.000000000",
          "2020-05-18T00:00:00.000000000",
          "2020-05-19T00:00:00.000000000",
          "2020-05-20T00:00:00.000000000",
          "2020-05-21T00:00:00.000000000",
          "2020-05-22T00:00:00.000000000",
          "2020-05-26T00:00:00.000000000",
          "2020-05-27T00:00:00.000000000",
          "2020-05-28T00:00:00.000000000",
          "2020-05-29T00:00:00.000000000",
          "2020-06-01T00:00:00.000000000",
          "2020-06-02T00:00:00.000000000",
          "2020-06-03T00:00:00.000000000",
          "2020-06-04T00:00:00.000000000",
          "2020-06-05T00:00:00.000000000",
          "2020-06-08T00:00:00.000000000",
          "2020-06-09T00:00:00.000000000",
          "2020-06-10T00:00:00.000000000",
          "2020-06-11T00:00:00.000000000",
          "2020-06-12T00:00:00.000000000",
          "2020-06-15T00:00:00.000000000",
          "2020-06-16T00:00:00.000000000",
          "2020-06-17T00:00:00.000000000",
          "2020-06-18T00:00:00.000000000",
          "2020-06-19T00:00:00.000000000",
          "2020-06-22T00:00:00.000000000",
          "2020-06-23T00:00:00.000000000",
          "2020-06-24T00:00:00.000000000",
          "2020-06-25T00:00:00.000000000",
          "2020-06-26T00:00:00.000000000",
          "2020-06-29T00:00:00.000000000",
          "2020-06-30T00:00:00.000000000",
          "2020-07-01T00:00:00.000000000",
          "2020-07-02T00:00:00.000000000",
          "2020-07-06T00:00:00.000000000",
          "2020-07-07T00:00:00.000000000",
          "2020-07-08T00:00:00.000000000",
          "2020-07-09T00:00:00.000000000",
          "2020-07-10T00:00:00.000000000",
          "2020-07-13T00:00:00.000000000",
          "2020-07-14T00:00:00.000000000",
          "2020-07-15T00:00:00.000000000",
          "2020-07-16T00:00:00.000000000",
          "2020-07-17T00:00:00.000000000",
          "2020-07-20T00:00:00.000000000",
          "2020-07-21T00:00:00.000000000",
          "2020-07-22T00:00:00.000000000",
          "2020-07-23T00:00:00.000000000",
          "2020-07-24T00:00:00.000000000",
          "2020-07-27T00:00:00.000000000",
          "2020-07-28T00:00:00.000000000",
          "2020-07-29T00:00:00.000000000",
          "2020-07-30T00:00:00.000000000",
          "2020-07-31T00:00:00.000000000",
          "2020-08-03T00:00:00.000000000",
          "2020-08-04T00:00:00.000000000",
          "2020-08-05T00:00:00.000000000",
          "2020-08-06T00:00:00.000000000",
          "2020-08-07T00:00:00.000000000",
          "2020-08-10T00:00:00.000000000",
          "2020-08-11T00:00:00.000000000",
          "2020-08-12T00:00:00.000000000",
          "2020-08-13T00:00:00.000000000",
          "2020-08-14T00:00:00.000000000",
          "2020-08-17T00:00:00.000000000",
          "2020-08-18T00:00:00.000000000",
          "2020-08-19T00:00:00.000000000",
          "2020-08-20T00:00:00.000000000",
          "2020-08-21T00:00:00.000000000",
          "2020-08-24T00:00:00.000000000",
          "2020-08-25T00:00:00.000000000",
          "2020-08-26T00:00:00.000000000",
          "2020-08-27T00:00:00.000000000",
          "2020-08-28T00:00:00.000000000",
          "2020-08-31T00:00:00.000000000",
          "2020-09-01T00:00:00.000000000",
          "2020-09-02T00:00:00.000000000",
          "2020-09-03T00:00:00.000000000",
          "2020-09-04T00:00:00.000000000",
          "2020-09-08T00:00:00.000000000",
          "2020-09-09T00:00:00.000000000",
          "2020-09-10T00:00:00.000000000",
          "2020-09-11T00:00:00.000000000",
          "2020-09-14T00:00:00.000000000",
          "2020-09-15T00:00:00.000000000",
          "2020-09-16T00:00:00.000000000",
          "2020-09-17T00:00:00.000000000",
          "2020-09-18T00:00:00.000000000",
          "2020-09-21T00:00:00.000000000",
          "2020-09-22T00:00:00.000000000",
          "2020-09-23T00:00:00.000000000",
          "2020-09-24T00:00:00.000000000",
          "2020-09-25T00:00:00.000000000",
          "2020-09-28T00:00:00.000000000",
          "2020-09-29T00:00:00.000000000",
          "2020-09-30T00:00:00.000000000",
          "2020-10-01T00:00:00.000000000",
          "2020-10-02T00:00:00.000000000",
          "2020-10-05T00:00:00.000000000",
          "2020-10-06T00:00:00.000000000",
          "2020-10-07T00:00:00.000000000",
          "2020-10-08T00:00:00.000000000",
          "2020-10-09T00:00:00.000000000",
          "2020-10-12T00:00:00.000000000",
          "2020-10-13T00:00:00.000000000",
          "2020-10-14T00:00:00.000000000",
          "2020-10-15T00:00:00.000000000",
          "2020-10-16T00:00:00.000000000",
          "2020-10-19T00:00:00.000000000",
          "2020-10-20T00:00:00.000000000",
          "2020-10-21T00:00:00.000000000",
          "2020-10-22T00:00:00.000000000",
          "2020-10-23T00:00:00.000000000",
          "2020-10-26T00:00:00.000000000",
          "2020-10-27T00:00:00.000000000",
          "2020-10-28T00:00:00.000000000",
          "2020-10-29T00:00:00.000000000",
          "2020-10-30T00:00:00.000000000",
          "2020-11-02T00:00:00.000000000",
          "2020-11-03T00:00:00.000000000",
          "2020-11-04T00:00:00.000000000",
          "2020-11-05T00:00:00.000000000",
          "2020-11-06T00:00:00.000000000",
          "2020-11-09T00:00:00.000000000",
          "2020-11-10T00:00:00.000000000",
          "2020-11-11T00:00:00.000000000",
          "2020-11-12T00:00:00.000000000",
          "2020-11-13T00:00:00.000000000",
          "2020-11-16T00:00:00.000000000",
          "2020-11-17T00:00:00.000000000",
          "2020-11-18T00:00:00.000000000",
          "2020-11-19T00:00:00.000000000",
          "2020-11-20T00:00:00.000000000",
          "2020-11-23T00:00:00.000000000",
          "2020-11-24T00:00:00.000000000",
          "2020-11-25T00:00:00.000000000",
          "2020-11-27T00:00:00.000000000",
          "2020-11-30T00:00:00.000000000",
          "2020-12-01T00:00:00.000000000",
          "2020-12-02T00:00:00.000000000",
          "2020-12-03T00:00:00.000000000",
          "2020-12-04T00:00:00.000000000",
          "2020-12-07T00:00:00.000000000",
          "2020-12-08T00:00:00.000000000",
          "2020-12-09T00:00:00.000000000",
          "2020-12-10T00:00:00.000000000",
          "2020-12-11T00:00:00.000000000",
          "2020-12-14T00:00:00.000000000",
          "2020-12-15T00:00:00.000000000",
          "2020-12-16T00:00:00.000000000",
          "2020-12-17T00:00:00.000000000",
          "2020-12-18T00:00:00.000000000",
          "2020-12-21T00:00:00.000000000",
          "2020-12-22T00:00:00.000000000",
          "2020-12-23T00:00:00.000000000",
          "2020-12-24T00:00:00.000000000",
          "2020-12-28T00:00:00.000000000",
          "2020-12-29T00:00:00.000000000",
          "2020-12-30T00:00:00.000000000",
          "2020-12-31T00:00:00.000000000",
          "2021-01-04T00:00:00.000000000",
          "2021-01-05T00:00:00.000000000",
          "2021-01-06T00:00:00.000000000",
          "2021-01-07T00:00:00.000000000",
          "2021-01-08T00:00:00.000000000",
          "2021-01-11T00:00:00.000000000",
          "2021-01-12T00:00:00.000000000",
          "2021-01-13T00:00:00.000000000",
          "2021-01-14T00:00:00.000000000",
          "2021-01-15T00:00:00.000000000",
          "2021-01-19T00:00:00.000000000",
          "2021-01-20T00:00:00.000000000",
          "2021-01-21T00:00:00.000000000",
          "2021-01-22T00:00:00.000000000",
          "2021-01-25T00:00:00.000000000",
          "2021-01-26T00:00:00.000000000",
          "2021-01-27T00:00:00.000000000",
          "2021-01-28T00:00:00.000000000",
          "2021-01-29T00:00:00.000000000",
          "2021-02-01T00:00:00.000000000",
          "2021-02-02T00:00:00.000000000",
          "2021-02-03T00:00:00.000000000",
          "2021-02-04T00:00:00.000000000",
          "2021-02-05T00:00:00.000000000",
          "2021-02-08T00:00:00.000000000",
          "2021-02-09T00:00:00.000000000",
          "2021-02-10T00:00:00.000000000",
          "2021-02-11T00:00:00.000000000",
          "2021-02-12T00:00:00.000000000",
          "2021-02-16T00:00:00.000000000",
          "2021-02-17T00:00:00.000000000",
          "2021-02-18T00:00:00.000000000",
          "2021-02-19T00:00:00.000000000",
          "2021-02-22T00:00:00.000000000",
          "2021-02-23T00:00:00.000000000",
          "2021-02-24T00:00:00.000000000",
          "2021-02-25T00:00:00.000000000",
          "2021-02-26T00:00:00.000000000",
          "2021-03-01T00:00:00.000000000",
          "2021-03-02T00:00:00.000000000",
          "2021-03-03T00:00:00.000000000",
          "2021-03-04T00:00:00.000000000",
          "2021-03-05T00:00:00.000000000",
          "2021-03-08T00:00:00.000000000",
          "2021-03-09T00:00:00.000000000",
          "2021-03-10T00:00:00.000000000",
          "2021-03-11T00:00:00.000000000",
          "2021-03-12T00:00:00.000000000",
          "2021-03-15T00:00:00.000000000",
          "2021-03-16T00:00:00.000000000",
          "2021-03-17T00:00:00.000000000",
          "2021-03-18T00:00:00.000000000",
          "2021-03-19T00:00:00.000000000",
          "2021-03-22T00:00:00.000000000",
          "2021-03-23T00:00:00.000000000",
          "2021-03-24T00:00:00.000000000",
          "2021-03-25T00:00:00.000000000",
          "2021-03-26T00:00:00.000000000",
          "2021-03-29T00:00:00.000000000",
          "2021-03-30T00:00:00.000000000",
          "2021-03-31T00:00:00.000000000",
          "2021-04-01T00:00:00.000000000",
          "2021-04-05T00:00:00.000000000",
          "2021-04-06T00:00:00.000000000",
          "2021-04-07T00:00:00.000000000",
          "2021-04-08T00:00:00.000000000",
          "2021-04-09T00:00:00.000000000",
          "2021-04-12T00:00:00.000000000",
          "2021-04-13T00:00:00.000000000",
          "2021-04-14T00:00:00.000000000",
          "2021-04-15T00:00:00.000000000",
          "2021-04-16T00:00:00.000000000",
          "2021-04-19T00:00:00.000000000",
          "2021-04-20T00:00:00.000000000",
          "2021-04-21T00:00:00.000000000",
          "2021-04-22T00:00:00.000000000",
          "2021-04-23T00:00:00.000000000",
          "2021-04-26T00:00:00.000000000",
          "2021-04-27T00:00:00.000000000",
          "2021-04-28T00:00:00.000000000",
          "2021-04-29T00:00:00.000000000",
          "2021-04-30T00:00:00.000000000",
          "2021-05-03T00:00:00.000000000",
          "2021-05-04T00:00:00.000000000",
          "2021-05-05T00:00:00.000000000",
          "2021-05-06T00:00:00.000000000",
          "2021-05-07T00:00:00.000000000",
          "2021-05-10T00:00:00.000000000",
          "2021-05-11T00:00:00.000000000",
          "2021-05-12T00:00:00.000000000",
          "2021-05-13T00:00:00.000000000",
          "2021-05-14T00:00:00.000000000",
          "2021-05-17T00:00:00.000000000",
          "2021-05-18T00:00:00.000000000",
          "2021-05-19T00:00:00.000000000",
          "2021-05-20T00:00:00.000000000",
          "2021-05-21T00:00:00.000000000",
          "2021-05-24T00:00:00.000000000",
          "2021-05-25T00:00:00.000000000",
          "2021-05-26T00:00:00.000000000",
          "2021-05-27T00:00:00.000000000",
          "2021-05-28T00:00:00.000000000",
          "2021-06-01T00:00:00.000000000",
          "2021-06-02T00:00:00.000000000",
          "2021-06-03T00:00:00.000000000",
          "2021-06-04T00:00:00.000000000",
          "2021-06-07T00:00:00.000000000",
          "2021-06-08T00:00:00.000000000",
          "2021-06-09T00:00:00.000000000",
          "2021-06-10T00:00:00.000000000",
          "2021-06-11T00:00:00.000000000",
          "2021-06-14T00:00:00.000000000",
          "2021-06-15T00:00:00.000000000",
          "2021-06-16T00:00:00.000000000",
          "2021-06-17T00:00:00.000000000",
          "2021-06-18T00:00:00.000000000",
          "2021-06-21T00:00:00.000000000",
          "2021-06-22T00:00:00.000000000",
          "2021-06-23T00:00:00.000000000",
          "2021-06-24T00:00:00.000000000",
          "2021-06-25T00:00:00.000000000",
          "2021-06-28T00:00:00.000000000",
          "2021-06-29T00:00:00.000000000",
          "2021-06-30T00:00:00.000000000",
          "2021-07-01T00:00:00.000000000",
          "2021-07-02T00:00:00.000000000",
          "2021-07-06T00:00:00.000000000",
          "2021-07-07T00:00:00.000000000",
          "2021-07-08T00:00:00.000000000",
          "2021-07-09T00:00:00.000000000",
          "2021-07-12T00:00:00.000000000",
          "2021-07-13T00:00:00.000000000",
          "2021-07-14T00:00:00.000000000",
          "2021-07-15T00:00:00.000000000",
          "2021-07-16T00:00:00.000000000",
          "2021-07-19T00:00:00.000000000",
          "2021-07-20T00:00:00.000000000",
          "2021-07-21T00:00:00.000000000",
          "2021-07-22T00:00:00.000000000",
          "2021-07-23T00:00:00.000000000",
          "2021-07-26T00:00:00.000000000",
          "2021-07-27T00:00:00.000000000",
          "2021-07-28T00:00:00.000000000",
          "2021-07-29T00:00:00.000000000",
          "2021-07-30T00:00:00.000000000",
          "2021-08-02T00:00:00.000000000",
          "2021-08-03T00:00:00.000000000",
          "2021-08-04T00:00:00.000000000",
          "2021-08-05T00:00:00.000000000",
          "2021-08-06T00:00:00.000000000",
          "2021-08-09T00:00:00.000000000",
          "2021-08-10T00:00:00.000000000",
          "2021-08-11T00:00:00.000000000",
          "2021-08-12T00:00:00.000000000",
          "2021-08-13T00:00:00.000000000",
          "2021-08-16T00:00:00.000000000",
          "2021-08-17T00:00:00.000000000",
          "2021-08-18T00:00:00.000000000",
          "2021-08-19T00:00:00.000000000",
          "2021-08-20T00:00:00.000000000",
          "2021-08-23T00:00:00.000000000",
          "2021-08-24T00:00:00.000000000",
          "2021-08-25T00:00:00.000000000",
          "2021-08-26T00:00:00.000000000",
          "2021-08-27T00:00:00.000000000",
          "2021-08-30T00:00:00.000000000",
          "2021-08-31T00:00:00.000000000",
          "2021-09-01T00:00:00.000000000",
          "2021-09-02T00:00:00.000000000",
          "2021-09-03T00:00:00.000000000",
          "2021-09-07T00:00:00.000000000",
          "2021-09-08T00:00:00.000000000",
          "2021-09-09T00:00:00.000000000",
          "2021-09-10T00:00:00.000000000",
          "2021-09-13T00:00:00.000000000",
          "2021-09-14T00:00:00.000000000",
          "2021-09-15T00:00:00.000000000",
          "2021-09-16T00:00:00.000000000",
          "2021-09-17T00:00:00.000000000",
          "2021-09-20T00:00:00.000000000",
          "2021-09-21T00:00:00.000000000",
          "2021-09-22T00:00:00.000000000",
          "2021-09-23T00:00:00.000000000",
          "2021-09-24T00:00:00.000000000",
          "2021-09-27T00:00:00.000000000",
          "2021-09-28T00:00:00.000000000",
          "2021-09-29T00:00:00.000000000",
          "2021-09-30T00:00:00.000000000",
          "2021-10-01T00:00:00.000000000",
          "2021-10-04T00:00:00.000000000",
          "2021-10-05T00:00:00.000000000",
          "2021-10-06T00:00:00.000000000",
          "2021-10-07T00:00:00.000000000",
          "2021-10-08T00:00:00.000000000",
          "2021-10-11T00:00:00.000000000",
          "2021-10-12T00:00:00.000000000",
          "2021-10-13T00:00:00.000000000",
          "2021-10-14T00:00:00.000000000",
          "2021-10-15T00:00:00.000000000",
          "2021-10-18T00:00:00.000000000",
          "2021-10-19T00:00:00.000000000",
          "2021-10-20T00:00:00.000000000",
          "2021-10-21T00:00:00.000000000",
          "2021-10-22T00:00:00.000000000",
          "2021-10-25T00:00:00.000000000",
          "2021-10-26T00:00:00.000000000",
          "2021-10-27T00:00:00.000000000",
          "2021-10-28T00:00:00.000000000",
          "2021-10-29T00:00:00.000000000",
          "2021-11-01T00:00:00.000000000",
          "2021-11-02T00:00:00.000000000",
          "2021-11-03T00:00:00.000000000",
          "2021-11-04T00:00:00.000000000",
          "2021-11-05T00:00:00.000000000",
          "2021-11-08T00:00:00.000000000",
          "2021-11-09T00:00:00.000000000",
          "2021-11-10T00:00:00.000000000",
          "2021-11-11T00:00:00.000000000",
          "2021-11-12T00:00:00.000000000",
          "2021-11-15T00:00:00.000000000",
          "2021-11-16T00:00:00.000000000",
          "2021-11-17T00:00:00.000000000",
          "2021-11-18T00:00:00.000000000",
          "2021-11-19T00:00:00.000000000",
          "2021-11-22T00:00:00.000000000",
          "2021-11-23T00:00:00.000000000",
          "2021-11-24T00:00:00.000000000",
          "2021-11-26T00:00:00.000000000",
          "2021-11-29T00:00:00.000000000",
          "2021-11-30T00:00:00.000000000",
          "2021-12-01T00:00:00.000000000",
          "2021-12-02T00:00:00.000000000",
          "2021-12-03T00:00:00.000000000",
          "2021-12-06T00:00:00.000000000",
          "2021-12-07T00:00:00.000000000",
          "2021-12-08T00:00:00.000000000",
          "2021-12-09T00:00:00.000000000",
          "2021-12-10T00:00:00.000000000",
          "2021-12-13T00:00:00.000000000",
          "2021-12-14T00:00:00.000000000",
          "2021-12-15T00:00:00.000000000",
          "2021-12-16T00:00:00.000000000",
          "2021-12-17T00:00:00.000000000",
          "2021-12-20T00:00:00.000000000",
          "2021-12-21T00:00:00.000000000",
          "2021-12-22T00:00:00.000000000",
          "2021-12-23T00:00:00.000000000",
          "2021-12-27T00:00:00.000000000",
          "2021-12-28T00:00:00.000000000",
          "2021-12-29T00:00:00.000000000",
          "2021-12-30T00:00:00.000000000",
          "2021-12-31T00:00:00.000000000",
          "2022-01-03T00:00:00.000000000",
          "2022-01-04T00:00:00.000000000",
          "2022-01-05T00:00:00.000000000",
          "2022-01-06T00:00:00.000000000",
          "2022-01-07T00:00:00.000000000",
          "2022-01-10T00:00:00.000000000",
          "2022-01-11T00:00:00.000000000",
          "2022-01-12T00:00:00.000000000",
          "2022-01-13T00:00:00.000000000",
          "2022-01-14T00:00:00.000000000",
          "2022-01-18T00:00:00.000000000",
          "2022-01-19T00:00:00.000000000",
          "2022-01-20T00:00:00.000000000",
          "2022-01-21T00:00:00.000000000",
          "2022-01-24T00:00:00.000000000",
          "2022-01-25T00:00:00.000000000",
          "2022-01-26T00:00:00.000000000",
          "2022-01-27T00:00:00.000000000",
          "2022-01-28T00:00:00.000000000",
          "2022-01-31T00:00:00.000000000",
          "2022-02-01T00:00:00.000000000",
          "2022-02-02T00:00:00.000000000",
          "2022-02-03T00:00:00.000000000",
          "2022-02-04T00:00:00.000000000",
          "2022-02-07T00:00:00.000000000",
          "2022-02-08T00:00:00.000000000",
          "2022-02-09T00:00:00.000000000",
          "2022-02-10T00:00:00.000000000",
          "2022-02-11T00:00:00.000000000",
          "2022-02-14T00:00:00.000000000",
          "2022-02-15T00:00:00.000000000",
          "2022-02-16T00:00:00.000000000",
          "2022-02-17T00:00:00.000000000",
          "2022-02-18T00:00:00.000000000",
          "2022-02-22T00:00:00.000000000",
          "2022-02-23T00:00:00.000000000",
          "2022-02-24T00:00:00.000000000",
          "2022-02-25T00:00:00.000000000",
          "2022-02-28T00:00:00.000000000",
          "2022-03-01T00:00:00.000000000",
          "2022-03-02T00:00:00.000000000",
          "2022-03-03T00:00:00.000000000",
          "2022-03-04T00:00:00.000000000",
          "2022-03-07T00:00:00.000000000",
          "2022-03-08T00:00:00.000000000",
          "2022-03-09T00:00:00.000000000",
          "2022-03-10T00:00:00.000000000",
          "2022-03-11T00:00:00.000000000",
          "2022-03-14T00:00:00.000000000",
          "2022-03-15T00:00:00.000000000",
          "2022-03-16T00:00:00.000000000",
          "2022-03-17T00:00:00.000000000",
          "2022-03-18T00:00:00.000000000",
          "2022-03-21T00:00:00.000000000",
          "2022-03-22T00:00:00.000000000",
          "2022-03-23T00:00:00.000000000",
          "2022-03-24T00:00:00.000000000",
          "2022-03-25T00:00:00.000000000",
          "2022-03-28T00:00:00.000000000",
          "2022-03-29T00:00:00.000000000",
          "2022-03-30T00:00:00.000000000",
          "2022-03-31T00:00:00.000000000",
          "2022-04-01T00:00:00.000000000",
          "2022-04-04T00:00:00.000000000",
          "2022-04-05T00:00:00.000000000",
          "2022-04-06T00:00:00.000000000",
          "2022-04-07T00:00:00.000000000",
          "2022-04-08T00:00:00.000000000",
          "2022-04-11T00:00:00.000000000",
          "2022-04-12T00:00:00.000000000",
          "2022-04-13T00:00:00.000000000",
          "2022-04-14T00:00:00.000000000",
          "2022-04-18T00:00:00.000000000",
          "2022-04-19T00:00:00.000000000",
          "2022-04-20T00:00:00.000000000",
          "2022-04-21T00:00:00.000000000",
          "2022-04-22T00:00:00.000000000",
          "2022-04-25T00:00:00.000000000",
          "2022-04-26T00:00:00.000000000",
          "2022-04-27T00:00:00.000000000",
          "2022-04-28T00:00:00.000000000",
          "2022-04-29T00:00:00.000000000",
          "2022-05-02T00:00:00.000000000",
          "2022-05-03T00:00:00.000000000",
          "2022-05-04T00:00:00.000000000",
          "2022-05-05T00:00:00.000000000",
          "2022-05-06T00:00:00.000000000",
          "2022-05-09T00:00:00.000000000",
          "2022-05-10T00:00:00.000000000",
          "2022-05-11T00:00:00.000000000",
          "2022-05-12T00:00:00.000000000",
          "2022-05-13T00:00:00.000000000",
          "2022-05-16T00:00:00.000000000",
          "2022-05-17T00:00:00.000000000",
          "2022-05-18T00:00:00.000000000",
          "2022-05-19T00:00:00.000000000",
          "2022-05-20T00:00:00.000000000",
          "2022-05-23T00:00:00.000000000",
          "2022-05-24T00:00:00.000000000",
          "2022-05-25T00:00:00.000000000",
          "2022-05-26T00:00:00.000000000",
          "2022-05-27T00:00:00.000000000",
          "2022-05-31T00:00:00.000000000",
          "2022-06-01T00:00:00.000000000",
          "2022-06-02T00:00:00.000000000",
          "2022-06-03T00:00:00.000000000",
          "2022-06-06T00:00:00.000000000",
          "2022-06-07T00:00:00.000000000",
          "2022-06-08T00:00:00.000000000",
          "2022-06-09T00:00:00.000000000",
          "2022-06-10T00:00:00.000000000",
          "2022-06-13T00:00:00.000000000",
          "2022-06-14T00:00:00.000000000",
          "2022-06-15T00:00:00.000000000",
          "2022-06-16T00:00:00.000000000",
          "2022-06-17T00:00:00.000000000",
          "2022-06-21T00:00:00.000000000",
          "2022-06-22T00:00:00.000000000",
          "2022-06-23T00:00:00.000000000",
          "2022-06-24T00:00:00.000000000",
          "2022-06-27T00:00:00.000000000",
          "2022-06-28T00:00:00.000000000",
          "2022-06-29T00:00:00.000000000",
          "2022-06-30T00:00:00.000000000",
          "2022-07-01T00:00:00.000000000",
          "2022-07-05T00:00:00.000000000",
          "2022-07-06T00:00:00.000000000",
          "2022-07-07T00:00:00.000000000",
          "2022-07-08T00:00:00.000000000",
          "2022-07-11T00:00:00.000000000",
          "2022-07-12T00:00:00.000000000",
          "2022-07-13T00:00:00.000000000",
          "2022-07-14T00:00:00.000000000",
          "2022-07-15T00:00:00.000000000",
          "2022-07-18T00:00:00.000000000",
          "2022-07-19T00:00:00.000000000",
          "2022-07-20T00:00:00.000000000",
          "2022-07-21T00:00:00.000000000",
          "2022-07-22T00:00:00.000000000",
          "2022-07-25T00:00:00.000000000",
          "2022-07-26T00:00:00.000000000",
          "2022-07-27T00:00:00.000000000",
          "2022-07-28T00:00:00.000000000",
          "2022-07-29T00:00:00.000000000",
          "2022-08-01T00:00:00.000000000",
          "2022-08-02T00:00:00.000000000",
          "2022-08-03T00:00:00.000000000",
          "2022-08-04T00:00:00.000000000",
          "2022-08-05T00:00:00.000000000",
          "2022-08-08T00:00:00.000000000",
          "2022-08-09T00:00:00.000000000",
          "2022-08-10T00:00:00.000000000",
          "2022-08-11T00:00:00.000000000",
          "2022-08-12T00:00:00.000000000",
          "2022-08-15T00:00:00.000000000",
          "2022-08-16T00:00:00.000000000",
          "2022-08-17T00:00:00.000000000",
          "2022-08-18T00:00:00.000000000",
          "2022-08-19T00:00:00.000000000",
          "2022-08-22T00:00:00.000000000",
          "2022-08-23T00:00:00.000000000",
          "2022-08-24T00:00:00.000000000",
          "2022-08-25T00:00:00.000000000",
          "2022-08-26T00:00:00.000000000",
          "2022-08-29T00:00:00.000000000",
          "2022-08-30T00:00:00.000000000",
          "2022-08-31T00:00:00.000000000",
          "2022-09-01T00:00:00.000000000",
          "2022-09-02T00:00:00.000000000",
          "2022-09-06T00:00:00.000000000",
          "2022-09-07T00:00:00.000000000",
          "2022-09-08T00:00:00.000000000",
          "2022-09-09T00:00:00.000000000",
          "2022-09-12T00:00:00.000000000",
          "2022-09-13T00:00:00.000000000",
          "2022-09-14T00:00:00.000000000",
          "2022-09-15T00:00:00.000000000",
          "2022-09-16T00:00:00.000000000",
          "2022-09-19T00:00:00.000000000",
          "2022-09-20T00:00:00.000000000",
          "2022-09-21T00:00:00.000000000",
          "2022-09-22T00:00:00.000000000",
          "2022-09-23T00:00:00.000000000",
          "2022-09-26T00:00:00.000000000",
          "2022-09-27T00:00:00.000000000",
          "2022-09-28T00:00:00.000000000",
          "2022-09-29T00:00:00.000000000",
          "2022-09-30T00:00:00.000000000",
          "2022-10-03T00:00:00.000000000",
          "2022-10-04T00:00:00.000000000",
          "2022-10-05T00:00:00.000000000",
          "2022-10-06T00:00:00.000000000",
          "2022-10-07T00:00:00.000000000",
          "2022-10-10T00:00:00.000000000",
          "2022-10-11T00:00:00.000000000",
          "2022-10-12T00:00:00.000000000",
          "2022-10-13T00:00:00.000000000",
          "2022-10-14T00:00:00.000000000",
          "2022-10-17T00:00:00.000000000",
          "2022-10-18T00:00:00.000000000",
          "2022-10-19T00:00:00.000000000",
          "2022-10-20T00:00:00.000000000",
          "2022-10-21T00:00:00.000000000",
          "2022-10-24T00:00:00.000000000",
          "2022-10-25T00:00:00.000000000",
          "2022-10-26T00:00:00.000000000",
          "2022-10-27T00:00:00.000000000",
          "2022-10-28T00:00:00.000000000",
          "2022-10-31T00:00:00.000000000",
          "2022-11-01T00:00:00.000000000",
          "2022-11-02T00:00:00.000000000",
          "2022-11-03T00:00:00.000000000",
          "2022-11-04T00:00:00.000000000",
          "2022-11-07T00:00:00.000000000",
          "2022-11-08T00:00:00.000000000",
          "2022-11-09T00:00:00.000000000",
          "2022-11-10T00:00:00.000000000",
          "2022-11-11T00:00:00.000000000",
          "2022-11-14T00:00:00.000000000",
          "2022-11-15T00:00:00.000000000",
          "2022-11-16T00:00:00.000000000",
          "2022-11-17T00:00:00.000000000",
          "2022-11-18T00:00:00.000000000",
          "2022-11-21T00:00:00.000000000",
          "2022-11-22T00:00:00.000000000",
          "2022-11-23T00:00:00.000000000",
          "2022-11-25T00:00:00.000000000",
          "2022-11-28T00:00:00.000000000",
          "2022-11-29T00:00:00.000000000",
          "2022-11-30T00:00:00.000000000",
          "2022-12-01T00:00:00.000000000",
          "2022-12-02T00:00:00.000000000",
          "2022-12-05T00:00:00.000000000",
          "2022-12-06T00:00:00.000000000",
          "2022-12-07T00:00:00.000000000",
          "2022-12-08T00:00:00.000000000",
          "2022-12-09T00:00:00.000000000",
          "2022-12-12T00:00:00.000000000",
          "2022-12-13T00:00:00.000000000",
          "2022-12-14T00:00:00.000000000",
          "2022-12-15T00:00:00.000000000",
          "2022-12-16T00:00:00.000000000",
          "2022-12-19T00:00:00.000000000",
          "2022-12-20T00:00:00.000000000",
          "2022-12-21T00:00:00.000000000",
          "2022-12-22T00:00:00.000000000",
          "2022-12-23T00:00:00.000000000",
          "2022-12-27T00:00:00.000000000",
          "2022-12-28T00:00:00.000000000",
          "2022-12-29T00:00:00.000000000",
          "2022-12-30T00:00:00.000000000",
          "2023-01-03T00:00:00.000000000",
          "2023-01-04T00:00:00.000000000",
          "2023-01-05T00:00:00.000000000",
          "2023-01-06T00:00:00.000000000",
          "2023-01-09T00:00:00.000000000",
          "2023-01-10T00:00:00.000000000",
          "2023-01-11T00:00:00.000000000",
          "2023-01-12T00:00:00.000000000",
          "2023-01-13T00:00:00.000000000",
          "2023-01-17T00:00:00.000000000",
          "2023-01-18T00:00:00.000000000",
          "2023-01-19T00:00:00.000000000",
          "2023-01-20T00:00:00.000000000",
          "2023-01-23T00:00:00.000000000",
          "2023-01-24T00:00:00.000000000",
          "2023-01-25T00:00:00.000000000",
          "2023-01-26T00:00:00.000000000",
          "2023-01-27T00:00:00.000000000",
          "2023-01-30T00:00:00.000000000",
          "2023-01-31T00:00:00.000000000",
          "2023-02-01T00:00:00.000000000",
          "2023-02-02T00:00:00.000000000",
          "2023-02-03T00:00:00.000000000",
          "2023-02-06T00:00:00.000000000",
          "2023-02-07T00:00:00.000000000",
          "2023-02-08T00:00:00.000000000",
          "2023-02-09T00:00:00.000000000",
          "2023-02-10T00:00:00.000000000",
          "2023-02-13T00:00:00.000000000",
          "2023-02-14T00:00:00.000000000",
          "2023-02-15T00:00:00.000000000",
          "2023-02-16T00:00:00.000000000",
          "2023-02-17T00:00:00.000000000",
          "2023-02-21T00:00:00.000000000",
          "2023-02-22T00:00:00.000000000",
          "2023-02-23T00:00:00.000000000",
          "2023-02-24T00:00:00.000000000",
          "2023-02-27T00:00:00.000000000",
          "2023-02-28T00:00:00.000000000",
          "2023-03-01T00:00:00.000000000",
          "2023-03-02T00:00:00.000000000",
          "2023-03-03T00:00:00.000000000",
          "2023-03-06T00:00:00.000000000",
          "2023-03-07T00:00:00.000000000",
          "2023-03-08T00:00:00.000000000",
          "2023-03-09T00:00:00.000000000",
          "2023-03-10T00:00:00.000000000",
          "2023-03-13T00:00:00.000000000",
          "2023-03-14T00:00:00.000000000",
          "2023-03-15T00:00:00.000000000",
          "2023-03-16T00:00:00.000000000",
          "2023-03-17T00:00:00.000000000",
          "2023-03-20T00:00:00.000000000",
          "2023-03-21T00:00:00.000000000",
          "2023-03-22T00:00:00.000000000",
          "2023-03-23T00:00:00.000000000",
          "2023-03-24T00:00:00.000000000",
          "2023-03-27T00:00:00.000000000",
          "2023-03-28T00:00:00.000000000",
          "2023-03-29T00:00:00.000000000",
          "2023-03-30T00:00:00.000000000",
          "2023-03-31T00:00:00.000000000",
          "2023-04-03T00:00:00.000000000",
          "2023-04-04T00:00:00.000000000",
          "2023-04-05T00:00:00.000000000",
          "2023-04-06T00:00:00.000000000",
          "2023-04-10T00:00:00.000000000",
          "2023-04-11T00:00:00.000000000",
          "2023-04-12T00:00:00.000000000",
          "2023-04-13T00:00:00.000000000",
          "2023-04-14T00:00:00.000000000",
          "2023-04-17T00:00:00.000000000",
          "2023-04-18T00:00:00.000000000",
          "2023-04-19T00:00:00.000000000",
          "2023-04-20T00:00:00.000000000",
          "2023-04-21T00:00:00.000000000",
          "2023-04-24T00:00:00.000000000",
          "2023-04-25T00:00:00.000000000",
          "2023-04-26T00:00:00.000000000",
          "2023-04-27T00:00:00.000000000",
          "2023-04-28T00:00:00.000000000",
          "2023-05-01T00:00:00.000000000",
          "2023-05-02T00:00:00.000000000",
          "2023-05-03T00:00:00.000000000",
          "2023-05-04T00:00:00.000000000",
          "2023-05-05T00:00:00.000000000",
          "2023-05-08T00:00:00.000000000",
          "2023-05-09T00:00:00.000000000",
          "2023-05-10T00:00:00.000000000",
          "2023-05-11T00:00:00.000000000",
          "2023-05-12T00:00:00.000000000",
          "2023-05-15T00:00:00.000000000",
          "2023-05-16T00:00:00.000000000",
          "2023-05-17T00:00:00.000000000",
          "2023-05-18T00:00:00.000000000",
          "2023-05-19T00:00:00.000000000",
          "2023-05-22T00:00:00.000000000",
          "2023-05-23T00:00:00.000000000",
          "2023-05-24T00:00:00.000000000",
          "2023-05-25T00:00:00.000000000",
          "2023-05-26T00:00:00.000000000",
          "2023-05-30T00:00:00.000000000",
          "2023-05-31T00:00:00.000000000",
          "2023-06-01T00:00:00.000000000",
          "2023-06-02T00:00:00.000000000",
          "2023-06-05T00:00:00.000000000",
          "2023-06-06T00:00:00.000000000",
          "2023-06-07T00:00:00.000000000",
          "2023-06-08T00:00:00.000000000",
          "2023-06-09T00:00:00.000000000",
          "2023-06-12T00:00:00.000000000",
          "2023-06-13T00:00:00.000000000",
          "2023-06-14T00:00:00.000000000",
          "2023-06-15T00:00:00.000000000",
          "2023-06-16T00:00:00.000000000",
          "2023-06-20T00:00:00.000000000",
          "2023-06-21T00:00:00.000000000",
          "2023-06-22T00:00:00.000000000",
          "2023-06-23T00:00:00.000000000",
          "2023-06-26T00:00:00.000000000",
          "2023-06-27T00:00:00.000000000",
          "2023-06-28T00:00:00.000000000",
          "2023-06-29T00:00:00.000000000",
          "2023-06-30T00:00:00.000000000",
          "2023-07-03T00:00:00.000000000",
          "2023-07-05T00:00:00.000000000",
          "2023-07-06T00:00:00.000000000",
          "2023-07-07T00:00:00.000000000",
          "2023-07-10T00:00:00.000000000",
          "2023-07-11T00:00:00.000000000",
          "2023-07-12T00:00:00.000000000",
          "2023-07-13T00:00:00.000000000",
          "2023-07-14T00:00:00.000000000",
          "2023-07-17T00:00:00.000000000",
          "2023-07-18T00:00:00.000000000",
          "2023-07-19T00:00:00.000000000",
          "2023-07-20T00:00:00.000000000",
          "2023-07-21T00:00:00.000000000",
          "2023-07-24T00:00:00.000000000",
          "2023-07-25T00:00:00.000000000",
          "2023-07-26T00:00:00.000000000",
          "2023-07-27T00:00:00.000000000",
          "2023-07-28T00:00:00.000000000",
          "2023-07-31T00:00:00.000000000",
          "2023-08-01T00:00:00.000000000",
          "2023-08-02T00:00:00.000000000",
          "2023-08-03T00:00:00.000000000",
          "2023-08-04T00:00:00.000000000",
          "2023-08-07T00:00:00.000000000",
          "2023-08-08T00:00:00.000000000",
          "2023-08-09T00:00:00.000000000",
          "2023-08-10T00:00:00.000000000",
          "2023-08-11T00:00:00.000000000",
          "2023-08-14T00:00:00.000000000",
          "2023-08-15T00:00:00.000000000",
          "2023-08-16T00:00:00.000000000",
          "2023-08-17T00:00:00.000000000",
          "2023-08-18T00:00:00.000000000",
          "2023-08-21T00:00:00.000000000",
          "2023-08-22T00:00:00.000000000",
          "2023-08-23T00:00:00.000000000",
          "2023-08-24T00:00:00.000000000",
          "2023-08-25T00:00:00.000000000",
          "2023-08-28T00:00:00.000000000",
          "2023-08-29T00:00:00.000000000",
          "2023-08-30T00:00:00.000000000",
          "2023-08-31T00:00:00.000000000",
          "2023-09-01T00:00:00.000000000",
          "2023-09-05T00:00:00.000000000",
          "2023-09-06T00:00:00.000000000",
          "2023-09-07T00:00:00.000000000",
          "2023-09-08T00:00:00.000000000",
          "2023-09-11T00:00:00.000000000",
          "2023-09-12T00:00:00.000000000",
          "2023-09-13T00:00:00.000000000",
          "2023-09-14T00:00:00.000000000",
          "2023-09-15T00:00:00.000000000",
          "2023-09-18T00:00:00.000000000",
          "2023-09-19T00:00:00.000000000",
          "2023-09-20T00:00:00.000000000",
          "2023-09-21T00:00:00.000000000",
          "2023-09-22T00:00:00.000000000",
          "2023-09-25T00:00:00.000000000",
          "2023-09-26T00:00:00.000000000",
          "2023-09-27T00:00:00.000000000",
          "2023-09-28T00:00:00.000000000",
          "2023-09-29T00:00:00.000000000",
          "2023-10-02T00:00:00.000000000",
          "2023-10-03T00:00:00.000000000",
          "2023-10-04T00:00:00.000000000",
          "2023-10-05T00:00:00.000000000",
          "2023-10-06T00:00:00.000000000",
          "2023-10-09T00:00:00.000000000",
          "2023-10-10T00:00:00.000000000",
          "2023-10-11T00:00:00.000000000",
          "2023-10-12T00:00:00.000000000",
          "2023-10-13T00:00:00.000000000",
          "2023-10-16T00:00:00.000000000",
          "2023-10-17T00:00:00.000000000",
          "2023-10-18T00:00:00.000000000",
          "2023-10-19T00:00:00.000000000",
          "2023-10-20T00:00:00.000000000",
          "2023-10-23T00:00:00.000000000",
          "2023-10-24T00:00:00.000000000",
          "2023-10-25T00:00:00.000000000",
          "2023-10-26T00:00:00.000000000",
          "2023-10-27T00:00:00.000000000",
          "2023-10-30T00:00:00.000000000",
          "2023-10-31T00:00:00.000000000",
          "2023-11-01T00:00:00.000000000",
          "2023-11-02T00:00:00.000000000",
          "2023-11-03T00:00:00.000000000",
          "2023-11-06T00:00:00.000000000",
          "2023-11-07T00:00:00.000000000",
          "2023-11-08T00:00:00.000000000",
          "2023-11-09T00:00:00.000000000",
          "2023-11-10T00:00:00.000000000",
          "2023-11-13T00:00:00.000000000",
          "2023-11-14T00:00:00.000000000",
          "2023-11-15T00:00:00.000000000",
          "2023-11-16T00:00:00.000000000",
          "2023-11-17T00:00:00.000000000",
          "2023-11-20T00:00:00.000000000",
          "2023-11-21T00:00:00.000000000",
          "2023-11-22T00:00:00.000000000",
          "2023-11-24T00:00:00.000000000",
          "2023-11-27T00:00:00.000000000",
          "2023-11-28T00:00:00.000000000",
          "2023-11-29T00:00:00.000000000",
          "2023-11-30T00:00:00.000000000",
          "2023-12-01T00:00:00.000000000",
          "2023-12-04T00:00:00.000000000",
          "2023-12-05T00:00:00.000000000",
          "2023-12-06T00:00:00.000000000",
          "2023-12-07T00:00:00.000000000",
          "2023-12-08T00:00:00.000000000",
          "2023-12-11T00:00:00.000000000",
          "2023-12-12T00:00:00.000000000",
          "2023-12-13T00:00:00.000000000",
          "2023-12-14T00:00:00.000000000",
          "2023-12-15T00:00:00.000000000",
          "2023-12-18T00:00:00.000000000",
          "2023-12-19T00:00:00.000000000",
          "2023-12-20T00:00:00.000000000",
          "2023-12-21T00:00:00.000000000",
          "2023-12-22T00:00:00.000000000",
          "2023-12-26T00:00:00.000000000",
          "2023-12-27T00:00:00.000000000",
          "2023-12-28T00:00:00.000000000",
          "2023-12-29T00:00:00.000000000",
          "2024-01-02T00:00:00.000000000",
          "2024-01-03T00:00:00.000000000",
          "2024-01-04T00:00:00.000000000",
          "2024-01-05T00:00:00.000000000",
          "2024-01-08T00:00:00.000000000",
          "2024-01-09T00:00:00.000000000",
          "2024-01-10T00:00:00.000000000",
          "2024-01-11T00:00:00.000000000",
          "2024-01-12T00:00:00.000000000",
          "2024-01-16T00:00:00.000000000",
          "2024-01-17T00:00:00.000000000",
          "2024-01-18T00:00:00.000000000",
          "2024-01-19T00:00:00.000000000",
          "2024-01-22T00:00:00.000000000",
          "2024-01-23T00:00:00.000000000",
          "2024-01-24T00:00:00.000000000",
          "2024-01-25T00:00:00.000000000",
          "2024-01-26T00:00:00.000000000",
          "2024-01-29T00:00:00.000000000",
          "2024-01-30T00:00:00.000000000",
          "2024-01-31T00:00:00.000000000",
          "2024-02-01T00:00:00.000000000",
          "2024-02-02T00:00:00.000000000",
          "2024-02-05T00:00:00.000000000",
          "2024-02-06T00:00:00.000000000",
          "2024-02-07T00:00:00.000000000",
          "2024-02-08T00:00:00.000000000",
          "2024-02-09T00:00:00.000000000",
          "2024-02-12T00:00:00.000000000",
          "2024-02-13T00:00:00.000000000",
          "2024-02-14T00:00:00.000000000",
          "2024-02-15T00:00:00.000000000",
          "2024-02-16T00:00:00.000000000",
          "2024-02-20T00:00:00.000000000",
          "2024-02-21T00:00:00.000000000",
          "2024-02-22T00:00:00.000000000",
          "2024-02-23T00:00:00.000000000",
          "2024-02-26T00:00:00.000000000",
          "2024-02-27T00:00:00.000000000",
          "2024-02-28T00:00:00.000000000",
          "2024-02-29T00:00:00.000000000",
          "2024-03-01T00:00:00.000000000",
          "2024-03-04T00:00:00.000000000",
          "2024-03-05T00:00:00.000000000",
          "2024-03-06T00:00:00.000000000",
          "2024-03-07T00:00:00.000000000",
          "2024-03-08T00:00:00.000000000",
          "2024-03-11T00:00:00.000000000",
          "2024-03-12T00:00:00.000000000",
          "2024-03-13T00:00:00.000000000",
          "2024-03-14T00:00:00.000000000",
          "2024-03-15T00:00:00.000000000",
          "2024-03-18T00:00:00.000000000",
          "2024-03-19T00:00:00.000000000",
          "2024-03-20T00:00:00.000000000",
          "2024-03-21T00:00:00.000000000",
          "2024-03-22T00:00:00.000000000",
          "2024-03-25T00:00:00.000000000",
          "2024-03-26T00:00:00.000000000",
          "2024-03-27T00:00:00.000000000",
          "2024-03-28T00:00:00.000000000",
          "2024-04-01T00:00:00.000000000",
          "2024-04-02T00:00:00.000000000",
          "2024-04-03T00:00:00.000000000",
          "2024-04-04T00:00:00.000000000",
          "2024-04-05T00:00:00.000000000",
          "2024-04-08T00:00:00.000000000",
          "2024-04-09T00:00:00.000000000",
          "2024-04-10T00:00:00.000000000",
          "2024-04-11T00:00:00.000000000",
          "2024-04-12T00:00:00.000000000",
          "2024-04-15T00:00:00.000000000",
          "2024-04-16T00:00:00.000000000",
          "2024-04-17T00:00:00.000000000",
          "2024-04-18T00:00:00.000000000",
          "2024-04-19T00:00:00.000000000",
          "2024-04-22T00:00:00.000000000",
          "2024-04-23T00:00:00.000000000",
          "2024-04-24T00:00:00.000000000",
          "2024-04-25T00:00:00.000000000",
          "2024-04-26T00:00:00.000000000",
          "2024-04-29T00:00:00.000000000",
          "2024-04-30T00:00:00.000000000",
          "2024-05-01T00:00:00.000000000",
          "2024-05-02T00:00:00.000000000",
          "2024-05-03T00:00:00.000000000",
          "2024-05-06T00:00:00.000000000",
          "2024-05-07T00:00:00.000000000",
          "2024-05-08T00:00:00.000000000",
          "2024-05-09T00:00:00.000000000",
          "2024-05-10T00:00:00.000000000",
          "2024-05-13T00:00:00.000000000",
          "2024-05-14T00:00:00.000000000",
          "2024-05-15T00:00:00.000000000",
          "2024-05-16T00:00:00.000000000",
          "2024-05-17T00:00:00.000000000",
          "2024-05-20T00:00:00.000000000",
          "2024-05-21T00:00:00.000000000",
          "2024-05-22T00:00:00.000000000",
          "2024-05-23T00:00:00.000000000",
          "2024-05-24T00:00:00.000000000",
          "2024-05-28T00:00:00.000000000",
          "2024-05-29T00:00:00.000000000",
          "2024-05-30T00:00:00.000000000",
          "2024-05-31T00:00:00.000000000",
          "2024-06-03T00:00:00.000000000",
          "2024-06-04T00:00:00.000000000",
          "2024-06-05T00:00:00.000000000",
          "2024-06-06T00:00:00.000000000",
          "2024-06-07T00:00:00.000000000",
          "2024-06-10T00:00:00.000000000",
          "2024-06-11T00:00:00.000000000",
          "2024-06-12T00:00:00.000000000",
          "2024-06-13T00:00:00.000000000",
          "2024-06-14T00:00:00.000000000",
          "2024-06-17T00:00:00.000000000",
          "2024-06-18T00:00:00.000000000",
          "2024-06-20T00:00:00.000000000",
          "2024-06-21T00:00:00.000000000",
          "2024-06-24T00:00:00.000000000",
          "2024-06-25T00:00:00.000000000",
          "2024-06-26T00:00:00.000000000",
          "2024-06-27T00:00:00.000000000",
          "2024-06-28T00:00:00.000000000",
          "2024-07-01T00:00:00.000000000",
          "2024-07-02T00:00:00.000000000",
          "2024-07-03T00:00:00.000000000",
          "2024-07-05T00:00:00.000000000",
          "2024-07-08T00:00:00.000000000",
          "2024-07-09T00:00:00.000000000",
          "2024-07-10T00:00:00.000000000",
          "2024-07-11T00:00:00.000000000",
          "2024-07-12T00:00:00.000000000",
          "2024-07-15T00:00:00.000000000",
          "2024-07-16T00:00:00.000000000",
          "2024-07-17T00:00:00.000000000",
          "2024-07-18T00:00:00.000000000",
          "2024-07-19T00:00:00.000000000",
          "2024-07-22T00:00:00.000000000",
          "2024-07-23T00:00:00.000000000",
          "2024-07-24T00:00:00.000000000",
          "2024-07-25T00:00:00.000000000",
          "2024-07-26T00:00:00.000000000",
          "2024-07-29T00:00:00.000000000",
          "2024-07-30T00:00:00.000000000",
          "2024-07-31T00:00:00.000000000",
          "2024-08-01T00:00:00.000000000",
          "2024-08-02T00:00:00.000000000",
          "2024-08-05T00:00:00.000000000",
          "2024-08-06T00:00:00.000000000",
          "2024-08-07T00:00:00.000000000",
          "2024-08-08T00:00:00.000000000",
          "2024-08-09T00:00:00.000000000",
          "2024-08-12T00:00:00.000000000",
          "2024-08-13T00:00:00.000000000",
          "2024-08-14T00:00:00.000000000",
          "2024-08-15T00:00:00.000000000",
          "2024-08-16T00:00:00.000000000",
          "2024-08-19T00:00:00.000000000",
          "2024-08-20T00:00:00.000000000",
          "2024-08-21T00:00:00.000000000",
          "2024-08-22T00:00:00.000000000",
          "2024-08-23T00:00:00.000000000",
          "2024-08-26T00:00:00.000000000",
          "2024-08-27T00:00:00.000000000",
          "2024-08-28T00:00:00.000000000",
          "2024-08-29T00:00:00.000000000",
          "2024-08-30T00:00:00.000000000",
          "2024-09-03T00:00:00.000000000",
          "2024-09-04T00:00:00.000000000",
          "2024-09-05T00:00:00.000000000",
          "2024-09-06T00:00:00.000000000",
          "2024-09-09T00:00:00.000000000",
          "2024-09-10T00:00:00.000000000",
          "2024-09-11T00:00:00.000000000",
          "2024-09-12T00:00:00.000000000",
          "2024-09-13T00:00:00.000000000",
          "2024-09-16T00:00:00.000000000",
          "2024-09-17T00:00:00.000000000",
          "2024-09-18T00:00:00.000000000",
          "2024-09-19T00:00:00.000000000",
          "2024-09-20T00:00:00.000000000",
          "2024-09-23T00:00:00.000000000",
          "2024-09-24T00:00:00.000000000",
          "2024-09-25T00:00:00.000000000",
          "2024-09-26T00:00:00.000000000",
          "2024-09-27T00:00:00.000000000",
          "2024-09-30T00:00:00.000000000",
          "2024-10-01T00:00:00.000000000",
          "2024-10-02T00:00:00.000000000",
          "2024-10-03T00:00:00.000000000",
          "2024-10-04T00:00:00.000000000",
          "2024-10-07T00:00:00.000000000",
          "2024-10-08T00:00:00.000000000",
          "2024-10-09T00:00:00.000000000",
          "2024-10-10T00:00:00.000000000",
          "2024-10-11T00:00:00.000000000",
          "2024-10-14T00:00:00.000000000",
          "2024-10-15T00:00:00.000000000",
          "2024-10-16T00:00:00.000000000",
          "2024-10-17T00:00:00.000000000",
          "2024-10-18T00:00:00.000000000",
          "2024-10-21T00:00:00.000000000",
          "2024-10-22T00:00:00.000000000",
          "2024-10-23T00:00:00.000000000",
          "2024-10-24T00:00:00.000000000",
          "2024-10-25T00:00:00.000000000",
          "2024-10-28T00:00:00.000000000",
          "2024-10-29T00:00:00.000000000",
          "2024-10-30T00:00:00.000000000",
          "2024-10-31T00:00:00.000000000",
          "2024-11-01T00:00:00.000000000",
          "2024-11-04T00:00:00.000000000",
          "2024-11-05T00:00:00.000000000",
          "2024-11-06T00:00:00.000000000",
          "2024-11-07T00:00:00.000000000",
          "2024-11-08T00:00:00.000000000",
          "2024-11-11T00:00:00.000000000",
          "2024-11-12T00:00:00.000000000",
          "2024-11-13T00:00:00.000000000",
          "2024-11-14T00:00:00.000000000",
          "2024-11-15T00:00:00.000000000",
          "2024-11-18T00:00:00.000000000",
          "2024-11-19T00:00:00.000000000",
          "2024-11-20T00:00:00.000000000",
          "2024-11-21T00:00:00.000000000",
          "2024-11-22T00:00:00.000000000",
          "2024-11-25T00:00:00.000000000",
          "2024-11-26T00:00:00.000000000",
          "2024-11-27T00:00:00.000000000",
          "2024-11-29T00:00:00.000000000",
          "2024-12-02T00:00:00.000000000",
          "2024-12-03T00:00:00.000000000",
          "2024-12-04T00:00:00.000000000",
          "2024-12-05T00:00:00.000000000",
          "2024-12-06T00:00:00.000000000",
          "2024-12-09T00:00:00.000000000",
          "2024-12-10T00:00:00.000000000",
          "2024-12-11T00:00:00.000000000",
          "2024-12-12T00:00:00.000000000",
          "2024-12-13T00:00:00.000000000",
          "2024-12-16T00:00:00.000000000",
          "2024-12-17T00:00:00.000000000",
          "2024-12-18T00:00:00.000000000",
          "2024-12-19T00:00:00.000000000",
          "2024-12-20T00:00:00.000000000",
          "2024-12-23T00:00:00.000000000",
          "2024-12-24T00:00:00.000000000",
          "2024-12-26T00:00:00.000000000",
          "2024-12-27T00:00:00.000000000",
          "2024-12-30T00:00:00.000000000",
          "2024-12-31T00:00:00.000000000",
          "2025-01-02T00:00:00.000000000",
          "2025-01-03T00:00:00.000000000",
          "2025-01-06T00:00:00.000000000",
          "2025-01-07T00:00:00.000000000",
          "2025-01-08T00:00:00.000000000",
          "2025-01-09T00:00:00.000000000",
          "2025-01-10T00:00:00.000000000",
          "2025-01-13T00:00:00.000000000",
          "2025-01-14T00:00:00.000000000",
          "2025-01-15T00:00:00.000000000",
          "2025-01-16T00:00:00.000000000",
          "2025-01-17T00:00:00.000000000",
          "2025-01-21T00:00:00.000000000",
          "2025-01-22T00:00:00.000000000",
          "2025-01-23T00:00:00.000000000",
          "2025-01-24T00:00:00.000000000",
          "2025-01-27T00:00:00.000000000",
          "2025-01-28T00:00:00.000000000",
          "2025-01-29T00:00:00.000000000",
          "2025-01-30T00:00:00.000000000",
          "2025-01-31T00:00:00.000000000",
          "2025-02-03T00:00:00.000000000",
          "2025-02-04T00:00:00.000000000",
          "2025-02-05T00:00:00.000000000",
          "2025-02-06T00:00:00.000000000",
          "2025-02-07T00:00:00.000000000",
          "2025-02-10T00:00:00.000000000",
          "2025-02-11T00:00:00.000000000",
          "2025-02-12T00:00:00.000000000",
          "2025-02-13T00:00:00.000000000",
          "2025-02-14T00:00:00.000000000",
          "2025-02-18T00:00:00.000000000",
          "2025-02-19T00:00:00.000000000",
          "2025-02-20T00:00:00.000000000",
          "2025-02-21T00:00:00.000000000",
          "2025-02-24T00:00:00.000000000",
          "2025-02-25T00:00:00.000000000",
          "2025-02-26T00:00:00.000000000",
          "2025-02-27T00:00:00.000000000",
          "2025-02-28T00:00:00.000000000",
          "2025-03-03T00:00:00.000000000",
          "2025-03-04T00:00:00.000000000",
          "2025-03-05T00:00:00.000000000",
          "2025-03-06T00:00:00.000000000",
          "2025-03-07T00:00:00.000000000",
          "2025-03-10T00:00:00.000000000",
          "2025-03-11T00:00:00.000000000",
          "2025-03-12T00:00:00.000000000",
          "2025-03-13T00:00:00.000000000",
          "2025-03-14T00:00:00.000000000",
          "2025-03-17T00:00:00.000000000",
          "2025-03-18T00:00:00.000000000",
          "2025-03-19T00:00:00.000000000",
          "2025-03-20T00:00:00.000000000",
          "2025-03-21T00:00:00.000000000",
          "2025-03-24T00:00:00.000000000",
          "2025-03-25T00:00:00.000000000",
          "2025-03-26T00:00:00.000000000",
          "2025-03-27T00:00:00.000000000",
          "2025-03-28T00:00:00.000000000",
          "2025-03-31T00:00:00.000000000",
          "2025-04-01T00:00:00.000000000",
          "2025-04-02T00:00:00.000000000",
          "2025-04-03T00:00:00.000000000",
          "2025-04-04T00:00:00.000000000",
          "2025-04-07T00:00:00.000000000",
          "2025-04-08T00:00:00.000000000",
          "2025-04-09T00:00:00.000000000",
          "2025-04-10T00:00:00.000000000",
          "2025-04-11T00:00:00.000000000",
          "2025-04-14T00:00:00.000000000",
          "2025-04-15T00:00:00.000000000",
          "2025-04-16T00:00:00.000000000",
          "2025-04-17T00:00:00.000000000",
          "2025-04-21T00:00:00.000000000",
          "2025-04-22T00:00:00.000000000",
          "2025-04-23T00:00:00.000000000",
          "2025-04-24T00:00:00.000000000",
          "2025-04-25T00:00:00.000000000",
          "2025-04-28T00:00:00.000000000",
          "2025-04-29T00:00:00.000000000",
          "2025-04-30T00:00:00.000000000",
          "2025-05-01T00:00:00.000000000",
          "2025-05-02T00:00:00.000000000",
          "2025-05-05T00:00:00.000000000",
          "2025-05-06T00:00:00.000000000",
          "2025-05-07T00:00:00.000000000",
          "2025-05-08T00:00:00.000000000",
          "2025-05-09T00:00:00.000000000",
          "2025-05-12T00:00:00.000000000",
          "2025-05-13T00:00:00.000000000",
          "2025-05-14T00:00:00.000000000",
          "2025-05-15T00:00:00.000000000",
          "2025-05-16T00:00:00.000000000",
          "2025-05-19T00:00:00.000000000",
          "2025-05-20T00:00:00.000000000",
          "2025-05-21T00:00:00.000000000",
          "2025-05-22T00:00:00.000000000",
          "2025-05-23T00:00:00.000000000",
          "2025-05-27T00:00:00.000000000",
          "2025-05-28T00:00:00.000000000",
          "2025-05-29T00:00:00.000000000",
          "2025-05-30T00:00:00.000000000",
          "2025-06-02T00:00:00.000000000",
          "2025-06-03T00:00:00.000000000",
          "2025-06-04T00:00:00.000000000",
          "2025-06-05T00:00:00.000000000",
          "2025-06-06T00:00:00.000000000",
          "2025-06-09T00:00:00.000000000",
          "2025-06-10T00:00:00.000000000",
          "2025-06-11T00:00:00.000000000",
          "2025-06-12T00:00:00.000000000",
          "2025-06-13T00:00:00.000000000",
          "2025-06-16T00:00:00.000000000",
          "2025-06-17T00:00:00.000000000",
          "2025-06-18T00:00:00.000000000",
          "2025-06-20T00:00:00.000000000",
          "2025-06-23T00:00:00.000000000",
          "2025-06-24T00:00:00.000000000",
          "2025-06-25T00:00:00.000000000",
          "2025-06-26T00:00:00.000000000",
          "2025-06-27T00:00:00.000000000",
          "2025-06-30T00:00:00.000000000",
          "2025-07-01T00:00:00.000000000",
          "2025-07-02T00:00:00.000000000",
          "2025-07-03T00:00:00.000000000",
          "2025-07-04T00:00:00.000000000",
          "2025-07-07T00:00:00.000000000",
          "2025-07-08T00:00:00.000000000",
          "2025-07-09T00:00:00.000000000",
          "2025-07-10T00:00:00.000000000",
          "2025-07-11T00:00:00.000000000",
          "2025-07-14T00:00:00.000000000",
          "2025-07-15T00:00:00.000000000",
          "2025-07-16T00:00:00.000000000",
          "2025-07-17T00:00:00.000000000",
          "2025-07-18T00:00:00.000000000",
          "2025-07-21T00:00:00.000000000",
          "2025-07-22T00:00:00.000000000"
         ],
         "xaxis": "x",
         "yaxis": "y"
        },
        {
         "name": "COT Index",
         "type": "scatter",
         "x": [
          "2020-01-07T00:00:00.000000000",
          "2020-01-14T00:00:00.000000000",
          "2020-01-21T00:00:00.000000000",
          "2020-01-28T00:00:00.000000000",
          "2020-02-04T00:00:00.000000000",
          "2020-02-11T00:00:00.000000000",
          "2020-02-18T00:00:00.000000000",
          "2020-02-25T00:00:00.000000000",
          "2020-03-03T00:00:00.000000000",
          "2020-03-10T00:00:00.000000000",
          "2020-03-17T00:00:00.000000000",
          "2020-03-24T00:00:00.000000000",
          "2020-03-31T00:00:00.000000000",
          "2020-04-07T00:00:00.000000000",
          "2020-04-14T00:00:00.000000000",
          "2020-04-21T00:00:00.000000000",
          "2020-04-28T00:00:00.000000000",
          "2020-05-05T00:00:00.000000000",
          "2020-05-12T00:00:00.000000000",
          "2020-05-19T00:00:00.000000000",
          "2020-05-26T00:00:00.000000000",
          "2020-06-02T00:00:00.000000000",
          "2020-06-09T00:00:00.000000000",
          "2020-06-16T00:00:00.000000000",
          "2020-06-23T00:00:00.000000000",
          "2020-06-30T00:00:00.000000000",
          "2020-07-07T00:00:00.000000000",
          "2020-07-14T00:00:00.000000000",
          "2020-07-21T00:00:00.000000000",
          "2020-07-28T00:00:00.000000000",
          "2020-08-04T00:00:00.000000000",
          "2020-08-11T00:00:00.000000000",
          "2020-08-18T00:00:00.000000000",
          "2020-08-25T00:00:00.000000000",
          "2020-09-01T00:00:00.000000000",
          "2020-09-08T00:00:00.000000000",
          "2020-09-15T00:00:00.000000000",
          "2020-09-22T00:00:00.000000000",
          "2020-09-29T00:00:00.000000000",
          "2020-10-06T00:00:00.000000000",
          "2020-10-13T00:00:00.000000000",
          "2020-10-20T00:00:00.000000000",
          "2020-10-27T00:00:00.000000000",
          "2020-11-03T00:00:00.000000000",
          "2020-11-10T00:00:00.000000000",
          "2020-11-17T00:00:00.000000000",
          "2020-11-24T00:00:00.000000000",
          "2020-12-01T00:00:00.000000000",
          "2020-12-08T00:00:00.000000000",
          "2020-12-15T00:00:00.000000000",
          "2020-12-21T00:00:00.000000000",
          "2020-12-29T00:00:00.000000000",
          "2021-01-05T00:00:00.000000000",
          "2021-01-12T00:00:00.000000000",
          "2021-01-19T00:00:00.000000000",
          "2021-01-26T00:00:00.000000000",
          "2021-02-02T00:00:00.000000000",
          "2021-02-09T00:00:00.000000000",
          "2021-02-16T00:00:00.000000000",
          "2021-02-23T00:00:00.000000000",
          "2021-03-02T00:00:00.000000000",
          "2021-03-09T00:00:00.000000000",
          "2021-03-16T00:00:00.000000000",
          "2021-03-23T00:00:00.000000000",
          "2021-03-30T00:00:00.000000000",
          "2021-04-06T00:00:00.000000000",
          "2021-04-13T00:00:00.000000000",
          "2021-04-20T00:00:00.000000000",
          "2021-04-27T00:00:00.000000000",
          "2021-05-04T00:00:00.000000000",
          "2021-05-11T00:00:00.000000000",
          "2021-05-18T00:00:00.000000000",
          "2021-05-25T00:00:00.000000000",
          "2021-06-01T00:00:00.000000000",
          "2021-06-08T00:00:00.000000000",
          "2021-06-15T00:00:00.000000000",
          "2021-06-22T00:00:00.000000000",
          "2021-06-29T00:00:00.000000000",
          "2021-07-06T00:00:00.000000000",
          "2021-07-13T00:00:00.000000000",
          "2021-07-20T00:00:00.000000000",
          "2021-07-27T00:00:00.000000000",
          "2021-08-03T00:00:00.000000000",
          "2021-08-10T00:00:00.000000000",
          "2021-08-17T00:00:00.000000000",
          "2021-08-24T00:00:00.000000000",
          "2021-08-31T00:00:00.000000000",
          "2021-09-07T00:00:00.000000000",
          "2021-09-14T00:00:00.000000000",
          "2021-09-21T00:00:00.000000000",
          "2021-09-28T00:00:00.000000000",
          "2021-10-05T00:00:00.000000000",
          "2021-10-12T00:00:00.000000000",
          "2021-10-19T00:00:00.000000000",
          "2021-10-26T00:00:00.000000000",
          "2021-11-02T00:00:00.000000000",
          "2021-11-09T00:00:00.000000000",
          "2021-11-16T00:00:00.000000000",
          "2021-11-23T00:00:00.000000000",
          "2021-11-30T00:00:00.000000000",
          "2021-12-07T00:00:00.000000000",
          "2021-12-14T00:00:00.000000000",
          "2021-12-21T00:00:00.000000000",
          "2021-12-28T00:00:00.000000000",
          "2022-01-04T00:00:00.000000000",
          "2022-01-11T00:00:00.000000000",
          "2022-01-18T00:00:00.000000000",
          "2022-01-25T00:00:00.000000000",
          "2022-02-01T00:00:00.000000000",
          "2022-02-08T00:00:00.000000000",
          "2022-02-15T00:00:00.000000000",
          "2022-02-22T00:00:00.000000000",
          "2022-03-01T00:00:00.000000000",
          "2022-03-08T00:00:00.000000000",
          "2022-03-15T00:00:00.000000000",
          "2022-03-22T00:00:00.000000000",
          "2022-03-29T00:00:00.000000000",
          "2022-04-05T00:00:00.000000000",
          "2022-04-12T00:00:00.000000000",
          "2022-04-19T00:00:00.000000000",
          "2022-04-26T00:00:00.000000000",
          "2022-05-03T00:00:00.000000000",
          "2022-05-10T00:00:00.000000000",
          "2022-05-17T00:00:00.000000000",
          "2022-05-24T00:00:00.000000000",
          "2022-05-31T00:00:00.000000000",
          "2022-06-07T00:00:00.000000000",
          "2022-06-14T00:00:00.000000000",
          "2022-06-21T00:00:00.000000000",
          "2022-06-28T00:00:00.000000000",
          "2022-07-05T00:00:00.000000000",
          "2022-07-12T00:00:00.000000000",
          "2022-07-19T00:00:00.000000000",
          "2022-07-26T00:00:00.000000000",
          "2022-08-02T00:00:00.000000000",
          "2022-08-09T00:00:00.000000000",
          "2022-08-16T00:00:00.000000000",
          "2022-08-23T00:00:00.000000000",
          "2022-08-30T00:00:00.000000000",
          "2022-09-06T00:00:00.000000000",
          "2022-09-13T00:00:00.000000000",
          "2022-09-20T00:00:00.000000000",
          "2022-09-27T00:00:00.000000000",
          "2022-10-04T00:00:00.000000000",
          "2022-10-11T00:00:00.000000000",
          "2022-10-18T00:00:00.000000000",
          "2022-10-25T00:00:00.000000000",
          "2022-11-01T00:00:00.000000000",
          "2022-11-08T00:00:00.000000000",
          "2022-11-15T00:00:00.000000000",
          "2022-11-22T00:00:00.000000000",
          "2022-11-29T00:00:00.000000000",
          "2022-12-06T00:00:00.000000000",
          "2022-12-13T00:00:00.000000000",
          "2022-12-20T00:00:00.000000000",
          "2022-12-27T00:00:00.000000000",
          "2023-01-03T00:00:00.000000000",
          "2023-01-10T00:00:00.000000000",
          "2023-01-17T00:00:00.000000000",
          "2023-01-24T00:00:00.000000000",
          "2023-01-31T00:00:00.000000000",
          "2023-02-07T00:00:00.000000000",
          "2023-02-14T00:00:00.000000000",
          "2023-02-21T00:00:00.000000000",
          "2023-02-28T00:00:00.000000000",
          "2023-03-07T00:00:00.000000000",
          "2023-03-14T00:00:00.000000000",
          "2023-03-21T00:00:00.000000000",
          "2023-03-28T00:00:00.000000000",
          "2023-04-04T00:00:00.000000000",
          "2023-04-11T00:00:00.000000000",
          "2023-04-18T00:00:00.000000000",
          "2023-04-25T00:00:00.000000000",
          "2023-05-02T00:00:00.000000000",
          "2023-05-09T00:00:00.000000000",
          "2023-05-16T00:00:00.000000000",
          "2023-05-23T00:00:00.000000000",
          "2023-05-30T00:00:00.000000000",
          "2023-06-06T00:00:00.000000000",
          "2023-06-13T00:00:00.000000000",
          "2023-06-20T00:00:00.000000000",
          "2023-06-27T00:00:00.000000000",
          "2023-07-03T00:00:00.000000000",
          "2023-07-11T00:00:00.000000000",
          "2023-07-18T00:00:00.000000000",
          "2023-07-25T00:00:00.000000000",
          "2023-08-01T00:00:00.000000000",
          "2023-08-08T00:00:00.000000000",
          "2023-08-15T00:00:00.000000000",
          "2023-08-22T00:00:00.000000000",
          "2023-08-29T00:00:00.000000000",
          "2023-09-05T00:00:00.000000000",
          "2023-09-12T00:00:00.000000000",
          "2023-09-19T00:00:00.000000000",
          "2023-09-26T00:00:00.000000000",
          "2023-10-03T00:00:00.000000000",
          "2023-10-10T00:00:00.000000000",
          "2023-10-17T00:00:00.000000000",
          "2023-10-24T00:00:00.000000000",
          "2023-10-31T00:00:00.000000000",
          "2023-11-07T00:00:00.000000000",
          "2023-11-14T00:00:00.000000000",
          "2023-11-21T00:00:00.000000000",
          "2023-11-28T00:00:00.000000000",
          "2023-12-05T00:00:00.000000000",
          "2023-12-12T00:00:00.000000000",
          "2023-12-19T00:00:00.000000000",
          "2023-12-26T00:00:00.000000000",
          "2024-01-02T00:00:00.000000000",
          "2024-01-09T00:00:00.000000000",
          "2024-01-16T00:00:00.000000000",
          "2024-01-23T00:00:00.000000000",
          "2024-01-30T00:00:00.000000000",
          "2024-02-06T00:00:00.000000000",
          "2024-02-13T00:00:00.000000000",
          "2024-02-20T00:00:00.000000000",
          "2024-02-27T00:00:00.000000000",
          "2024-03-05T00:00:00.000000000",
          "2024-03-12T00:00:00.000000000",
          "2024-03-19T00:00:00.000000000",
          "2024-03-26T00:00:00.000000000",
          "2024-04-02T00:00:00.000000000",
          "2024-04-09T00:00:00.000000000",
          "2024-04-16T00:00:00.000000000",
          "2024-04-23T00:00:00.000000000",
          "2024-04-30T00:00:00.000000000",
          "2024-05-07T00:00:00.000000000",
          "2024-05-14T00:00:00.000000000",
          "2024-05-21T00:00:00.000000000",
          "2024-05-28T00:00:00.000000000",
          "2024-06-04T00:00:00.000000000",
          "2024-06-11T00:00:00.000000000",
          "2024-06-18T00:00:00.000000000",
          "2024-06-25T00:00:00.000000000",
          "2024-07-02T00:00:00.000000000",
          "2024-07-09T00:00:00.000000000",
          "2024-07-16T00:00:00.000000000",
          "2024-07-23T00:00:00.000000000",
          "2024-07-30T00:00:00.000000000",
          "2024-08-06T00:00:00.000000000",
          "2024-08-13T00:00:00.000000000",
          "2024-08-20T00:00:00.000000000",
          "2024-08-27T00:00:00.000000000",
          "2024-09-03T00:00:00.000000000",
          "2024-09-10T00:00:00.000000000",
          "2024-09-17T00:00:00.000000000",
          "2024-09-24T00:00:00.000000000",
          "2024-10-01T00:00:00.000000000",
          "2024-10-08T00:00:00.000000000",
          "2024-10-15T00:00:00.000000000",
          "2024-10-22T00:00:00.000000000",
          "2024-10-29T00:00:00.000000000",
          "2024-11-05T00:00:00.000000000",
          "2024-11-12T00:00:00.000000000",
          "2024-11-19T00:00:00.000000000",
          "2024-11-26T00:00:00.000000000",
          "2024-12-03T00:00:00.000000000",
          "2024-12-10T00:00:00.000000000",
          "2024-12-17T00:00:00.000000000",
          "2024-12-24T00:00:00.000000000",
          "2024-12-31T00:00:00.000000000",
          "2025-01-07T00:00:00.000000000",
          "2025-01-14T00:00:00.000000000",
          "2025-01-21T00:00:00.000000000",
          "2025-01-28T00:00:00.000000000",
          "2025-02-04T00:00:00.000000000",
          "2025-02-11T00:00:00.000000000",
          "2025-02-18T00:00:00.000000000",
          "2025-02-25T00:00:00.000000000",
          "2025-03-04T00:00:00.000000000",
          "2025-03-11T00:00:00.000000000",
          "2025-03-18T00:00:00.000000000",
          "2025-03-25T00:00:00.000000000",
          "2025-04-01T00:00:00.000000000",
          "2025-04-08T00:00:00.000000000",
          "2025-04-15T00:00:00.000000000",
          "2025-04-22T00:00:00.000000000",
          "2025-04-29T00:00:00.000000000",
          "2025-05-06T00:00:00.000000000",
          "2025-05-13T00:00:00.000000000",
          "2025-05-20T00:00:00.000000000",
          "2025-05-27T00:00:00.000000000",
          "2025-06-03T00:00:00.000000000",
          "2025-06-10T00:00:00.000000000",
          "2025-06-17T00:00:00.000000000",
          "2025-06-24T00:00:00.000000000",
          "2025-07-01T00:00:00.000000000",
          "2025-07-08T00:00:00.000000000",
          "2025-07-15T00:00:00.000000000"
         ],
         "xaxis": "x2",
         "y": {
          "bdata": "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",
          "dtype": "f8"
         },
         "yaxis": "y2"
        },
        {
         "line": {
          "width": 2
         },
         "name": "Commercial",
         "type": "scatter",
         "x": [
          "2020-01-07T00:00:00.000000000",
          "2020-01-14T00:00:00.000000000",
          "2020-01-21T00:00:00.000000000",
          "2020-01-28T00:00:00.000000000",
          "2020-02-04T00:00:00.000000000",
          "2020-02-11T00:00:00.000000000",
          "2020-02-18T00:00:00.000000000",
          "2020-02-25T00:00:00.000000000",
          "2020-03-03T00:00:00.000000000",
          "2020-03-10T00:00:00.000000000",
          "2020-03-17T00:00:00.000000000",
          "2020-03-24T00:00:00.000000000",
          "2020-03-31T00:00:00.000000000",
          "2020-04-07T00:00:00.000000000",
          "2020-04-14T00:00:00.000000000",
          "2020-04-21T00:00:00.000000000",
          "2020-04-28T00:00:00.000000000",
          "2020-05-05T00:00:00.000000000",
          "2020-05-12T00:00:00.000000000",
          "2020-05-19T00:00:00.000000000",
          "2020-05-26T00:00:00.000000000",
          "2020-06-02T00:00:00.000000000",
          "2020-06-09T00:00:00.000000000",
          "2020-06-16T00:00:00.000000000",
          "2020-06-23T00:00:00.000000000",
          "2020-06-30T00:00:00.000000000",
          "2020-07-07T00:00:00.000000000",
          "2020-07-14T00:00:00.000000000",
          "2020-07-21T00:00:00.000000000",
          "2020-07-28T00:00:00.000000000",
          "2020-08-04T00:00:00.000000000",
          "2020-08-11T00:00:00.000000000",
          "2020-08-18T00:00:00.000000000",
          "2020-08-25T00:00:00.000000000",
          "2020-09-01T00:00:00.000000000",
          "2020-09-08T00:00:00.000000000",
          "2020-09-15T00:00:00.000000000",
          "2020-09-22T00:00:00.000000000",
          "2020-09-29T00:00:00.000000000",
          "2020-10-06T00:00:00.000000000",
          "2020-10-13T00:00:00.000000000",
          "2020-10-20T00:00:00.000000000",
          "2020-10-27T00:00:00.000000000",
          "2020-11-03T00:00:00.000000000",
          "2020-11-10T00:00:00.000000000",
          "2020-11-17T00:00:00.000000000",
          "2020-11-24T00:00:00.000000000",
          "2020-12-01T00:00:00.000000000",
          "2020-12-08T00:00:00.000000000",
          "2020-12-15T00:00:00.000000000",
          "2020-12-21T00:00:00.000000000",
          "2020-12-29T00:00:00.000000000",
          "2021-01-05T00:00:00.000000000",
          "2021-01-12T00:00:00.000000000",
          "2021-01-19T00:00:00.000000000",
          "2021-01-26T00:00:00.000000000",
          "2021-02-02T00:00:00.000000000",
          "2021-02-09T00:00:00.000000000",
          "2021-02-16T00:00:00.000000000",
          "2021-02-23T00:00:00.000000000",
          "2021-03-02T00:00:00.000000000",
          "2021-03-09T00:00:00.000000000",
          "2021-03-16T00:00:00.000000000",
          "2021-03-23T00:00:00.000000000",
          "2021-03-30T00:00:00.000000000",
          "2021-04-06T00:00:00.000000000",
          "2021-04-13T00:00:00.000000000",
          "2021-04-20T00:00:00.000000000",
          "2021-04-27T00:00:00.000000000",
          "2021-05-04T00:00:00.000000000",
          "2021-05-11T00:00:00.000000000",
          "2021-05-18T00:00:00.000000000",
          "2021-05-25T00:00:00.000000000",
          "2021-06-01T00:00:00.000000000",
          "2021-06-08T00:00:00.000000000",
          "2021-06-15T00:00:00.000000000",
          "2021-06-22T00:00:00.000000000",
          "2021-06-29T00:00:00.000000000",
          "2021-07-06T00:00:00.000000000",
          "2021-07-13T00:00:00.000000000",
          "2021-07-20T00:00:00.000000000",
          "2021-07-27T00:00:00.000000000",
          "2021-08-03T00:00:00.000000000",
          "2021-08-10T00:00:00.000000000",
          "2021-08-17T00:00:00.000000000",
          "2021-08-24T00:00:00.000000000",
          "2021-08-31T00:00:00.000000000",
          "2021-09-07T00:00:00.000000000",
          "2021-09-14T00:00:00.000000000",
          "2021-09-21T00:00:00.000000000",
          "2021-09-28T00:00:00.000000000",
          "2021-10-05T00:00:00.000000000",
          "2021-10-12T00:00:00.000000000",
          "2021-10-19T00:00:00.000000000",
          "2021-10-26T00:00:00.000000000",
          "2021-11-02T00:00:00.000000000",
          "2021-11-09T00:00:00.000000000",
          "2021-11-16T00:00:00.000000000",
          "2021-11-23T00:00:00.000000000",
          "2021-11-30T00:00:00.000000000",
          "2021-12-07T00:00:00.000000000",
          "2021-12-14T00:00:00.000000000",
          "2021-12-21T00:00:00.000000000",
          "2021-12-28T00:00:00.000000000",
          "2022-01-04T00:00:00.000000000",
          "2022-01-11T00:00:00.000000000",
          "2022-01-18T00:00:00.000000000",
          "2022-01-25T00:00:00.000000000",
          "2022-02-01T00:00:00.000000000",
          "2022-02-08T00:00:00.000000000",
          "2022-02-15T00:00:00.000000000",
          "2022-02-22T00:00:00.000000000",
          "2022-03-01T00:00:00.000000000",
          "2022-03-08T00:00:00.000000000",
          "2022-03-15T00:00:00.000000000",
          "2022-03-22T00:00:00.000000000",
          "2022-03-29T00:00:00.000000000",
          "2022-04-05T00:00:00.000000000",
          "2022-04-12T00:00:00.000000000",
          "2022-04-19T00:00:00.000000000",
          "2022-04-26T00:00:00.000000000",
          "2022-05-03T00:00:00.000000000",
          "2022-05-10T00:00:00.000000000",
          "2022-05-17T00:00:00.000000000",
          "2022-05-24T00:00:00.000000000",
          "2022-05-31T00:00:00.000000000",
          "2022-06-07T00:00:00.000000000",
          "2022-06-14T00:00:00.000000000",
          "2022-06-21T00:00:00.000000000",
          "2022-06-28T00:00:00.000000000",
          "2022-07-05T00:00:00.000000000",
          "2022-07-12T00:00:00.000000000",
          "2022-07-19T00:00:00.000000000",
          "2022-07-26T00:00:00.000000000",
          "2022-08-02T00:00:00.000000000",
          "2022-08-09T00:00:00.000000000",
          "2022-08-16T00:00:00.000000000",
          "2022-08-23T00:00:00.000000000",
          "2022-08-30T00:00:00.000000000",
          "2022-09-06T00:00:00.000000000",
          "2022-09-13T00:00:00.000000000",
          "2022-09-20T00:00:00.000000000",
          "2022-09-27T00:00:00.000000000",
          "2022-10-04T00:00:00.000000000",
          "2022-10-11T00:00:00.000000000",
          "2022-10-18T00:00:00.000000000",
          "2022-10-25T00:00:00.000000000",
          "2022-11-01T00:00:00.000000000",
          "2022-11-08T00:00:00.000000000",
          "2022-11-15T00:00:00.000000000",
          "2022-11-22T00:00:00.000000000",
          "2022-11-29T00:00:00.000000000",
          "2022-12-06T00:00:00.000000000",
          "2022-12-13T00:00:00.000000000",
          "2022-12-20T00:00:00.000000000",
          "2022-12-27T00:00:00.000000000",
          "2023-01-03T00:00:00.000000000",
          "2023-01-10T00:00:00.000000000",
          "2023-01-17T00:00:00.000000000",
          "2023-01-24T00:00:00.000000000",
          "2023-01-31T00:00:00.000000000",
          "2023-02-07T00:00:00.000000000",
          "2023-02-14T00:00:00.000000000",
          "2023-02-21T00:00:00.000000000",
          "2023-02-28T00:00:00.000000000",
          "2023-03-07T00:00:00.000000000",
          "2023-03-14T00:00:00.000000000",
          "2023-03-21T00:00:00.000000000",
          "2023-03-28T00:00:00.000000000",
          "2023-04-04T00:00:00.000000000",
          "2023-04-11T00:00:00.000000000",
          "2023-04-18T00:00:00.000000000",
          "2023-04-25T00:00:00.000000000",
          "2023-05-02T00:00:00.000000000",
          "2023-05-09T00:00:00.000000000",
          "2023-05-16T00:00:00.000000000",
          "2023-05-23T00:00:00.000000000",
          "2023-05-30T00:00:00.000000000",
          "2023-06-06T00:00:00.000000000",
          "2023-06-13T00:00:00.000000000",
          "2023-06-20T00:00:00.000000000",
          "2023-06-27T00:00:00.000000000",
          "2023-07-03T00:00:00.000000000",
          "2023-07-11T00:00:00.000000000",
          "2023-07-18T00:00:00.000000000",
          "2023-07-25T00:00:00.000000000",
          "2023-08-01T00:00:00.000000000",
          "2023-08-08T00:00:00.000000000",
          "2023-08-15T00:00:00.000000000",
          "2023-08-22T00:00:00.000000000",
          "2023-08-29T00:00:00.000000000",
          "2023-09-05T00:00:00.000000000",
          "2023-09-12T00:00:00.000000000",
          "2023-09-19T00:00:00.000000000",
          "2023-09-26T00:00:00.000000000",
          "2023-10-03T00:00:00.000000000",
          "2023-10-10T00:00:00.000000000",
          "2023-10-17T00:00:00.000000000",
          "2023-10-24T00:00:00.000000000",
          "2023-10-31T00:00:00.000000000",
          "2023-11-07T00:00:00.000000000",
          "2023-11-14T00:00:00.000000000",
          "2023-11-21T00:00:00.000000000",
          "2023-11-28T00:00:00.000000000",
          "2023-12-05T00:00:00.000000000",
          "2023-12-12T00:00:00.000000000",
          "2023-12-19T00:00:00.000000000",
          "2023-12-26T00:00:00.000000000",
          "2024-01-02T00:00:00.000000000",
          "2024-01-09T00:00:00.000000000",
          "2024-01-16T00:00:00.000000000",
          "2024-01-23T00:00:00.000000000",
          "2024-01-30T00:00:00.000000000",
          "2024-02-06T00:00:00.000000000",
          "2024-02-13T00:00:00.000000000",
          "2024-02-20T00:00:00.000000000",
          "2024-02-27T00:00:00.000000000",
          "2024-03-05T00:00:00.000000000",
          "2024-03-12T00:00:00.000000000",
          "2024-03-19T00:00:00.000000000",
          "2024-03-26T00:00:00.000000000",
          "2024-04-02T00:00:00.000000000",
          "2024-04-09T00:00:00.000000000",
          "2024-04-16T00:00:00.000000000",
          "2024-04-23T00:00:00.000000000",
          "2024-04-30T00:00:00.000000000",
          "2024-05-07T00:00:00.000000000",
          "2024-05-14T00:00:00.000000000",
          "2024-05-21T00:00:00.000000000",
          "2024-05-28T00:00:00.000000000",
          "2024-06-04T00:00:00.000000000",
          "2024-06-11T00:00:00.000000000",
          "2024-06-18T00:00:00.000000000",
          "2024-06-25T00:00:00.000000000",
          "2024-07-02T00:00:00.000000000",
          "2024-07-09T00:00:00.000000000",
          "2024-07-16T00:00:00.000000000",
          "2024-07-23T00:00:00.000000000",
          "2024-07-30T00:00:00.000000000",
          "2024-08-06T00:00:00.000000000",
          "2024-08-13T00:00:00.000000000",
          "2024-08-20T00:00:00.000000000",
          "2024-08-27T00:00:00.000000000",
          "2024-09-03T00:00:00.000000000",
          "2024-09-10T00:00:00.000000000",
          "2024-09-17T00:00:00.000000000",
          "2024-09-24T00:00:00.000000000",
          "2024-10-01T00:00:00.000000000",
          "2024-10-08T00:00:00.000000000",
          "2024-10-15T00:00:00.000000000",
          "2024-10-22T00:00:00.000000000",
          "2024-10-29T00:00:00.000000000",
          "2024-11-05T00:00:00.000000000",
          "2024-11-12T00:00:00.000000000",
          "2024-11-19T00:00:00.000000000",
          "2024-11-26T00:00:00.000000000",
          "2024-12-03T00:00:00.000000000",
          "2024-12-10T00:00:00.000000000",
          "2024-12-17T00:00:00.000000000",
          "2024-12-24T00:00:00.000000000",
          "2024-12-31T00:00:00.000000000",
          "2025-01-07T00:00:00.000000000",
          "2025-01-14T00:00:00.000000000",
          "2025-01-21T00:00:00.000000000",
          "2025-01-28T00:00:00.000000000",
          "2025-02-04T00:00:00.000000000",
          "2025-02-11T00:00:00.000000000",
          "2025-02-18T00:00:00.000000000",
          "2025-02-25T00:00:00.000000000",
          "2025-03-04T00:00:00.000000000",
          "2025-03-11T00:00:00.000000000",
          "2025-03-18T00:00:00.000000000",
          "2025-03-25T00:00:00.000000000",
          "2025-04-01T00:00:00.000000000",
          "2025-04-08T00:00:00.000000000",
          "2025-04-15T00:00:00.000000000",
          "2025-04-22T00:00:00.000000000",
          "2025-04-29T00:00:00.000000000",
          "2025-05-06T00:00:00.000000000",
          "2025-05-13T00:00:00.000000000",
          "2025-05-20T00:00:00.000000000",
          "2025-05-27T00:00:00.000000000",
          "2025-06-03T00:00:00.000000000",
          "2025-06-10T00:00:00.000000000",
          "2025-06-17T00:00:00.000000000",
          "2025-06-24T00:00:00.000000000",
          "2025-07-01T00:00:00.000000000",
          "2025-07-08T00:00:00.000000000",
          "2025-07-15T00:00:00.000000000"
         ],
         "xaxis": "x3",
         "y": {
          "bdata": "D5H6/4Wp+v9hofr/kn76/1nw+v+B2Pr/tB36/7tE+v/dpPr/kP36/3Nl+//xPfv/yar7/2XL+/+ouPv/97n7/wOF+//cs/v/+7/7/4KS+/9u0Pv/kRX8//9I/P8cEPz/xJ37/2lm+/8AYvv/PmT7/w1d+/+XwPv/h8j7/9Xn+/8F6vv/M+/7/2LE+/8wtvv//qX7/1jv+/8eovv/LJn7/xGo+/8Ug/v/8nn7/8aV+//hrPv/VIH7/2On+/9xhvv/TWn7/1pT+/8lMfv/yk/7/2Ua+/8Dkvv/FZ37/zxw+/8bdPv/nYr7/3rN+/+vKPz/BZz8//jT/P+9zfz/tev8/0IL/f/xuPz/bND8/ze//P+31vz/Pev8//SI/P87cvz/Cyz8/5E2/P+6Q/z/xnj8/3Lp/P/QBf3/Orn8/5yg/P88g/z/MoL8/4x4/P/HA/3/ELz8/0pr/P+AVPz/4Gb8//Vs/P9cwfz/ORn9/0rk/P8C1fz/yqf8/9pX/P/7Vvz/38v7/82c+//G6fv/1Q38/4lA/P8NePz/A2b8/2BA/P9uYPz/z5D8/3Sg/P9uMPz/gu38/xbG/P/lWvz/ZuL7/4+j+//+UPv/H3b7/wW0+/8Po/v/Gr/7/6Oa+/+7y/v/MjL8/1R2/P9Uhvz/4df8/xXE/P+I8vz/MvP8/3dG/f/PJf3/CTn9/y95/f/E5f3/ekn+/3pY/v9z7v3/RqT9/5On/f+o5P3/cQX+/3BC/v+mTv7/XNn+/0YN///chv7/0Gr+/1Kg/v+rxv7/4tv+//ib/v9c8/3/8AP+/z8u/v/hA/7/3+L9/07T/f9Qp/3/Go/9/0Je/f/XUP3/tj79/9g+/f96qv3/0Af+/7UG/v8BDv7/eC/+/9Cg/f/wMv3/3Oz8/3ar/P8csvz/l7L8/yjE/P8Qrvz/zZr8/5vF/P9xJf3/yxn9/9X5/P8yKf3/Vyf9/xlT/f9zLv3/myL9/y29/P+++fz/Iyb9/35x/f+W1f3/NCf+/87a/f/hlf3/Vsr9/5yq/f9M8f3/kkr+/8Se/v8BDP7/D3j9/002/f8VKf3/hUz9/+UY/f8gqvz/f4n8/7jA/P8Oifz/Z3T8/ypo/P+brfz/xNX8/6MR/f/qZf3/7z/9/2yq/f9Nkf3/cJX9/zjY/P9fq/z/Rq78/xyr/P9Ojvz/upL8/9qZ/P/Iifz/Vof8/z6I/P9Sdfz/mQ38/6oE/P818fv/YQb8/y7q+/+A2/v/ofX7/8u3+//IR/v/g2j7/yfW+/8W5fv/aon7/6Yr+//xFPv/sT37/y1R+//p4vr/BtH6/5wA+/+YXPv/rjr7/6ML+//JXfv/Ta77/5Ly+/9O//v/eNf7/72h+/9ZePv/z6X7/0jU+/9A3Pv/ir/7/4xi+/8wBPv/dg/7/xH++v+ARfv/eXv7/5ya+//13Pv/HPT7/xCm+/+6v/v/m/T7/wl1/P8Ydvz/5On8/9cW/f+ZEf3/GRX9//D7/P8d1fz/ZqH8/wKa/P9hX/z/YHv8/9tl/P/uXPz/wCz8/w==",
          "dtype": "i4"
         },
         "yaxis": "y3"
        },
        {
         "line": {
          "width": 2
         },
         "name": "Large Speculators",
         "type": "scatter",
         "x": [
          "2020-01-07T00:00:00.000000000",
          "2020-01-14T00:00:00.000000000",
          "2020-01-21T00:00:00.000000000",
          "2020-01-28T00:00:00.000000000",
          "2020-02-04T00:00:00.000000000",
          "2020-02-11T00:00:00.000000000",
          "2020-02-18T00:00:00.000000000",
          "2020-02-25T00:00:00.000000000",
          "2020-03-03T00:00:00.000000000",
          "2020-03-10T00:00:00.000000000",
          "2020-03-17T00:00:00.000000000",
          "2020-03-24T00:00:00.000000000",
          "2020-03-31T00:00:00.000000000",
          "2020-04-07T00:00:00.000000000",
          "2020-04-14T00:00:00.000000000",
          "2020-04-21T00:00:00.000000000",
          "2020-04-28T00:00:00.000000000",
          "2020-05-05T00:00:00.000000000",
          "2020-05-12T00:00:00.000000000",
          "2020-05-19T00:00:00.000000000",
          "2020-05-26T00:00:00.000000000",
          "2020-06-02T00:00:00.000000000",
          "2020-06-09T00:00:00.000000000",
          "2020-06-16T00:00:00.000000000",
          "2020-06-23T00:00:00.000000000",
          "2020-06-30T00:00:00.000000000",
          "2020-07-07T00:00:00.000000000",
          "2020-07-14T00:00:00.000000000",
          "2020-07-21T00:00:00.000000000",
          "2020-07-28T00:00:00.000000000",
          "2020-08-04T00:00:00.000000000",
          "2020-08-11T00:00:00.000000000",
          "2020-08-18T00:00:00.000000000",
          "2020-08-25T00:00:00.000000000",
          "2020-09-01T00:00:00.000000000",
          "2020-09-08T00:00:00.000000000",
          "2020-09-15T00:00:00.000000000",
          "2020-09-22T00:00:00.000000000",
          "2020-09-29T00:00:00.000000000",
          "2020-10-06T00:00:00.000000000",
          "2020-10-13T00:00:00.000000000",
          "2020-10-20T00:00:00.000000000",
          "2020-10-27T00:00:00.000000000",
          "2020-11-03T00:00:00.000000000",
          "2020-11-10T00:00:00.000000000",
          "2020-11-17T00:00:00.000000000",
          "2020-11-24T00:00:00.000000000",
          "2020-12-01T00:00:00.000000000",
          "2020-12-08T00:00:00.000000000",
          "2020-12-15T00:00:00.000000000",
          "2020-12-21T00:00:00.000000000",
          "2020-12-29T00:00:00.000000000",
          "2021-01-05T00:00:00.000000000",
          "2021-01-12T00:00:00.000000000",
          "2021-01-19T00:00:00.000000000",
          "2021-01-26T00:00:00.000000000",
          "2021-02-02T00:00:00.000000000",
          "2021-02-09T00:00:00.000000000",
          "2021-02-16T00:00:00.000000000",
          "2021-02-23T00:00:00.000000000",
          "2021-03-02T00:00:00.000000000",
          "2021-03-09T00:00:00.000000000",
          "2021-03-16T00:00:00.000000000",
          "2021-03-23T00:00:00.000000000",
          "2021-03-30T00:00:00.000000000",
          "2021-04-06T00:00:00.000000000",
          "2021-04-13T00:00:00.000000000",
          "2021-04-20T00:00:00.000000000",
          "2021-04-27T00:00:00.000000000",
          "2021-05-04T00:00:00.000000000",
          "2021-05-11T00:00:00.000000000",
          "2021-05-18T00:00:00.000000000",
          "2021-05-25T00:00:00.000000000",
          "2021-06-01T00:00:00.000000000",
          "2021-06-08T00:00:00.000000000",
          "2021-06-15T00:00:00.000000000",
          "2021-06-22T00:00:00.000000000",
          "2021-06-29T00:00:00.000000000",
          "2021-07-06T00:00:00.000000000",
          "2021-07-13T00:00:00.000000000",
          "2021-07-20T00:00:00.000000000",
          "2021-07-27T00:00:00.000000000",
          "2021-08-03T00:00:00.000000000",
          "2021-08-10T00:00:00.000000000",
          "2021-08-17T00:00:00.000000000",
          "2021-08-24T00:00:00.000000000",
          "2021-08-31T00:00:00.000000000",
          "2021-09-07T00:00:00.000000000",
          "2021-09-14T00:00:00.000000000",
          "2021-09-21T00:00:00.000000000",
          "2021-09-28T00:00:00.000000000",
          "2021-10-05T00:00:00.000000000",
          "2021-10-12T00:00:00.000000000",
          "2021-10-19T00:00:00.000000000",
          "2021-10-26T00:00:00.000000000",
          "2021-11-02T00:00:00.000000000",
          "2021-11-09T00:00:00.000000000",
          "2021-11-16T00:00:00.000000000",
          "2021-11-23T00:00:00.000000000",
          "2021-11-30T00:00:00.000000000",
          "2021-12-07T00:00:00.000000000",
          "2021-12-14T00:00:00.000000000",
          "2021-12-21T00:00:00.000000000",
          "2021-12-28T00:00:00.000000000",
          "2022-01-04T00:00:00.000000000",
          "2022-01-11T00:00:00.000000000",
          "2022-01-18T00:00:00.000000000",
          "2022-01-25T00:00:00.000000000",
          "2022-02-01T00:00:00.000000000",
          "2022-02-08T00:00:00.000000000",
          "2022-02-15T00:00:00.000000000",
          "2022-02-22T00:00:00.000000000",
          "2022-03-01T00:00:00.000000000",
          "2022-03-08T00:00:00.000000000",
          "2022-03-15T00:00:00.000000000",
          "2022-03-22T00:00:00.000000000",
          "2022-03-29T00:00:00.000000000",
          "2022-04-05T00:00:00.000000000",
          "2022-04-12T00:00:00.000000000",
          "2022-04-19T00:00:00.000000000",
          "2022-04-26T00:00:00.000000000",
          "2022-05-03T00:00:00.000000000",
          "2022-05-10T00:00:00.000000000",
          "2022-05-17T00:00:00.000000000",
          "2022-05-24T00:00:00.000000000",
          "2022-05-31T00:00:00.000000000",
          "2022-06-07T00:00:00.000000000",
          "2022-06-14T00:00:00.000000000",
          "2022-06-21T00:00:00.000000000",
          "2022-06-28T00:00:00.000000000",
          "2022-07-05T00:00:00.000000000",
          "2022-07-12T00:00:00.000000000",
          "2022-07-19T00:00:00.000000000",
          "2022-07-26T00:00:00.000000000",
          "2022-08-02T00:00:00.000000000",
          "2022-08-09T00:00:00.000000000",
          "2022-08-16T00:00:00.000000000",
          "2022-08-23T00:00:00.000000000",
          "2022-08-30T00:00:00.000000000",
          "2022-09-06T00:00:00.000000000",
          "2022-09-13T00:00:00.000000000",
          "2022-09-20T00:00:00.000000000",
          "2022-09-27T00:00:00.000000000",
          "2022-10-04T00:00:00.000000000",
          "2022-10-11T00:00:00.000000000",
          "2022-10-18T00:00:00.000000000",
          "2022-10-25T00:00:00.000000000",
          "2022-11-01T00:00:00.000000000",
          "2022-11-08T00:00:00.000000000",
          "2022-11-15T00:00:00.000000000",
          "2022-11-22T00:00:00.000000000",
          "2022-11-29T00:00:00.000000000",
          "2022-12-06T00:00:00.000000000",
          "2022-12-13T00:00:00.000000000",
          "2022-12-20T00:00:00.000000000",
          "2022-12-27T00:00:00.000000000",
          "2023-01-03T00:00:00.000000000",
          "2023-01-10T00:00:00.000000000",
          "2023-01-17T00:00:00.000000000",
          "2023-01-24T00:00:00.000000000",
          "2023-01-31T00:00:00.000000000",
          "2023-02-07T00:00:00.000000000",
          "2023-02-14T00:00:00.000000000",
          "2023-02-21T00:00:00.000000000",
          "2023-02-28T00:00:00.000000000",
          "2023-03-07T00:00:00.000000000",
          "2023-03-14T00:00:00.000000000",
          "2023-03-21T00:00:00.000000000",
          "2023-03-28T00:00:00.000000000",
          "2023-04-04T00:00:00.000000000",
          "2023-04-11T00:00:00.000000000",
          "2023-04-18T00:00:00.000000000",
          "2023-04-25T00:00:00.000000000",
          "2023-05-02T00:00:00.000000000",
          "2023-05-09T00:00:00.000000000",
          "2023-05-16T00:00:00.000000000",
          "2023-05-23T00:00:00.000000000",
          "2023-05-30T00:00:00.000000000",
          "2023-06-06T00:00:00.000000000",
          "2023-06-13T00:00:00.000000000",
          "2023-06-20T00:00:00.000000000",
          "2023-06-27T00:00:00.000000000",
          "2023-07-03T00:00:00.000000000",
          "2023-07-11T00:00:00.000000000",
          "2023-07-18T00:00:00.000000000",
          "2023-07-25T00:00:00.000000000",
          "2023-08-01T00:00:00.000000000",
          "2023-08-08T00:00:00.000000000",
          "2023-08-15T00:00:00.000000000",
          "2023-08-22T00:00:00.000000000",
          "2023-08-29T00:00:00.000000000",
          "2023-09-05T00:00:00.000000000",
          "2023-09-12T00:00:00.000000000",
          "2023-09-19T00:00:00.000000000",
          "2023-09-26T00:00:00.000000000",
          "2023-10-03T00:00:00.000000000",
          "2023-10-10T00:00:00.000000000",
          "2023-10-17T00:00:00.000000000",
          "2023-10-24T00:00:00.000000000",
          "2023-10-31T00:00:00.000000000",
          "2023-11-07T00:00:00.000000000",
          "2023-11-14T00:00:00.000000000",
          "2023-11-21T00:00:00.000000000",
          "2023-11-28T00:00:00.000000000",
          "2023-12-05T00:00:00.000000000",
          "2023-12-12T00:00:00.000000000",
          "2023-12-19T00:00:00.000000000",
          "2023-12-26T00:00:00.000000000",
          "2024-01-02T00:00:00.000000000",
          "2024-01-09T00:00:00.000000000",
          "2024-01-16T00:00:00.000000000",
          "2024-01-23T00:00:00.000000000",
          "2024-01-30T00:00:00.000000000",
          "2024-02-06T00:00:00.000000000",
          "2024-02-13T00:00:00.000000000",
          "2024-02-20T00:00:00.000000000",
          "2024-02-27T00:00:00.000000000",
          "2024-03-05T00:00:00.000000000",
          "2024-03-12T00:00:00.000000000",
          "2024-03-19T00:00:00.000000000",
          "2024-03-26T00:00:00.000000000",
          "2024-04-02T00:00:00.000000000",
          "2024-04-09T00:00:00.000000000",
          "2024-04-16T00:00:00.000000000",
          "2024-04-23T00:00:00.000000000",
          "2024-04-30T00:00:00.000000000",
          "2024-05-07T00:00:00.000000000",
          "2024-05-14T00:00:00.000000000",
          "2024-05-21T00:00:00.000000000",
          "2024-05-28T00:00:00.000000000",
          "2024-06-04T00:00:00.000000000",
          "2024-06-11T00:00:00.000000000",
          "2024-06-18T00:00:00.000000000",
          "2024-06-25T00:00:00.000000000",
          "2024-07-02T00:00:00.000000000",
          "2024-07-09T00:00:00.000000000",
          "2024-07-16T00:00:00.000000000",
          "2024-07-23T00:00:00.000000000",
          "2024-07-30T00:00:00.000000000",
          "2024-08-06T00:00:00.000000000",
          "2024-08-13T00:00:00.000000000",
          "2024-08-20T00:00:00.000000000",
          "2024-08-27T00:00:00.000000000",
          "2024-09-03T00:00:00.000000000",
          "2024-09-10T00:00:00.000000000",
          "2024-09-17T00:00:00.000000000",
          "2024-09-24T00:00:00.000000000",
          "2024-10-01T00:00:00.000000000",
          "2024-10-08T00:00:00.000000000",
          "2024-10-15T00:00:00.000000000",
          "2024-10-22T00:00:00.000000000",
          "2024-10-29T00:00:00.000000000",
          "2024-11-05T00:00:00.000000000",
          "2024-11-12T00:00:00.000000000",
          "2024-11-19T00:00:00.000000000",
          "2024-11-26T00:00:00.000000000",
          "2024-12-03T00:00:00.000000000",
          "2024-12-10T00:00:00.000000000",
          "2024-12-17T00:00:00.000000000",
          "2024-12-24T00:00:00.000000000",
          "2024-12-31T00:00:00.000000000",
          "2025-01-07T00:00:00.000000000",
          "2025-01-14T00:00:00.000000000",
          "2025-01-21T00:00:00.000000000",
          "2025-01-28T00:00:00.000000000",
          "2025-02-04T00:00:00.000000000",
          "2025-02-11T00:00:00.000000000",
          "2025-02-18T00:00:00.000000000",
          "2025-02-25T00:00:00.000000000",
          "2025-03-04T00:00:00.000000000",
          "2025-03-11T00:00:00.000000000",
          "2025-03-18T00:00:00.000000000",
          "2025-03-25T00:00:00.000000000",
          "2025-04-01T00:00:00.000000000",
          "2025-04-08T00:00:00.000000000",
          "2025-04-15T00:00:00.000000000",
          "2025-04-22T00:00:00.000000000",
          "2025-04-29T00:00:00.000000000",
          "2025-05-06T00:00:00.000000000",
          "2025-05-13T00:00:00.000000000",
          "2025-05-20T00:00:00.000000000",
          "2025-05-27T00:00:00.000000000",
          "2025-06-03T00:00:00.000000000",
          "2025-06-10T00:00:00.000000000",
          "2025-06-17T00:00:00.000000000",
          "2025-06-24T00:00:00.000000000",
          "2025-07-01T00:00:00.000000000",
          "2025-07-08T00:00:00.000000000",
          "2025-07-15T00:00:00.000000000"
         ],
         "xaxis": "x3",
         "y": {
          "bdata": "8+oEAAPfBAD/2AQAbAkFAB6TBAAGswQAcWUFAPkfBQD14AQAC5IEADxNBABuZgQAIfMDAG7MAwBV2gMA484DAEkCBACU0AMAjLQDAIzXAwBaoQMAmlcDAOUuAwBcbAMANdgDAK4RBABeFAQAHAEEAMQQBAABnQMAmqQDADVrAwAeaQMAbl8DAIyFAwC5mwMAUa0DALRXAwDLtwMAC8sDAB+sAwAEzwMAOssDAN20AwB4qAMAhtUDAL64AwDa+AMApBsEAOAkBAC0PgQASBoEABZDBADTwQMAbsMDAAruAwBm7AMAD9YDANmVAwC1SgMAxuQCADusAgDkvwIA86cCAGiOAgBF5AIAisICAPrEAgB7mgIA9ZoCAP/uAgDpCAMAckYDAMVCAwDrMQMAJO4CAEaJAgCyeQIAJcoCAHTpAgCE/QIA3AoDAO/+AgDWkQIANuwCAN02AwDmTQMA1yQDAJArAwD/3AIAz5ECADbJAgDD1AIARfMCACBGAwBZSAMARdEDAMT2AwCrkwMARHIDAGFQAwChFgMA8yMDAKRAAwCbOQMAOQwDAJ/2AgD3WwMAbqACAFLZAgBtQgMAzLUDAFbuAwDULwQAnP4DAODIAwA87gMAJb8DAE/hAwCNqAMAqFMDAAAKAwAj8wIAAK0CAAXOAgAtogIApKwCAOZbAgDXfQIA/WcCAPw4AgBpzQEA63IBABJqAQCm5QEAAy4CAGwnAgCX6wEA5ssBALGVAQBAfAEAugABAHHLAABBWQEA1HABAJwsAQDACQEAb/wAAKJBAQA97QEAkcUBALOtAQC1wQEA0eoBAFD3AQCwFgIAYikCAAdMAgCYVgIA6WcCABlyAgAv9wEAOZwBAF2iAQAxqAEAqoABACskAgCNawIAfsUCAJD6AgDp8AIAxeUCALDTAgDv+wIA5vwCAGa+AgDccwIAZJUCABmuAgDRcQIAn3wCAGZRAgAZfQIAeocCAETzAgBHpgIAPIQCAIkuAgAw2QEAOo4BAIjhAQAWGwIA2OMBAPsPAgBnxAEAWmQBAAkXAQBiuAEAiUcCAGF+AgBIiQIA8F4CALmeAgCUDQMAGBsDAEnfAgB7EgMAZisDACErAwDG4AIAtb4CAAKWAgBPQQIAyncCAGAAAgDmIwIARCkCAD3rAgCCEwMAghMDAH4KAwCSKQMAsxYDAMMUAwCLGAMAsh0DAI8LAwDQHgMAroEDACmcAwD2ngMAxpEDAIy1AwDVwQMAh68DADfjAwBgWQQAsioEAEnDAwCdpAMAABQEALVxBAAtfgQARmMEAIVPBAAyuwQA/s8EAJuTBACkPgQA4l4EAAyFBAB9QAQAYeUDAKObAwB/kwMA4tEDAJj2AwCCNAQAmf8DAE3HAwDvxQMAv+MDAENDBADwlgQAkZEEAKydBABYVwQAghkEAPn9AwA9tgMARJoDAIzvAwDEzwMAYqMDAAsQAwDiFQMAEq0CAPZ9AgDBegIAuXUCAI2AAgBoqAIAAd4CAFncAgDIDwMAvPkCAPwUAwDYGAMAe0ADAA==",
          "dtype": "i4"
         },
         "yaxis": "y3"
        },
        {
         "line": {
          "width": 2
         },
         "name": "Small Traders",
         "type": "scatter",
         "x": [
          "2020-01-07T00:00:00.000000000",
          "2020-01-14T00:00:00.000000000",
          "2020-01-21T00:00:00.000000000",
          "2020-01-28T00:00:00.000000000",
          "2020-02-04T00:00:00.000000000",
          "2020-02-11T00:00:00.000000000",
          "2020-02-18T00:00:00.000000000",
          "2020-02-25T00:00:00.000000000",
          "2020-03-03T00:00:00.000000000",
          "2020-03-10T00:00:00.000000000",
          "2020-03-17T00:00:00.000000000",
          "2020-03-24T00:00:00.000000000",
          "2020-03-31T00:00:00.000000000",
          "2020-04-07T00:00:00.000000000",
          "2020-04-14T00:00:00.000000000",
          "2020-04-21T00:00:00.000000000",
          "2020-04-28T00:00:00.000000000",
          "2020-05-05T00:00:00.000000000",
          "2020-05-12T00:00:00.000000000",
          "2020-05-19T00:00:00.000000000",
          "2020-05-26T00:00:00.000000000",
          "2020-06-02T00:00:00.000000000",
          "2020-06-09T00:00:00.000000000",
          "2020-06-16T00:00:00.000000000",
          "2020-06-23T00:00:00.000000000",
          "2020-06-30T00:00:00.000000000",
          "2020-07-07T00:00:00.000000000",
          "2020-07-14T00:00:00.000000000",
          "2020-07-21T00:00:00.000000000",
          "2020-07-28T00:00:00.000000000",
          "2020-08-04T00:00:00.000000000",
          "2020-08-11T00:00:00.000000000",
          "2020-08-18T00:00:00.000000000",
          "2020-08-25T00:00:00.000000000",
          "2020-09-01T00:00:00.000000000",
          "2020-09-08T00:00:00.000000000",
          "2020-09-15T00:00:00.000000000",
          "2020-09-22T00:00:00.000000000",
          "2020-09-29T00:00:00.000000000",
          "2020-10-06T00:00:00.000000000",
          "2020-10-13T00:00:00.000000000",
          "2020-10-20T00:00:00.000000000",
          "2020-10-27T00:00:00.000000000",
          "2020-11-03T00:00:00.000000000",
          "2020-11-10T00:00:00.000000000",
          "2020-11-17T00:00:00.000000000",
          "2020-11-24T00:00:00.000000000",
          "2020-12-01T00:00:00.000000000",
          "2020-12-08T00:00:00.000000000",
          "2020-12-15T00:00:00.000000000",
          "2020-12-21T00:00:00.000000000",
          "2020-12-29T00:00:00.000000000",
          "2021-01-05T00:00:00.000000000",
          "2021-01-12T00:00:00.000000000",
          "2021-01-19T00:00:00.000000000",
          "2021-01-26T00:00:00.000000000",
          "2021-02-02T00:00:00.000000000",
          "2021-02-09T00:00:00.000000000",
          "2021-02-16T00:00:00.000000000",
          "2021-02-23T00:00:00.000000000",
          "2021-03-02T00:00:00.000000000",
          "2021-03-09T00:00:00.000000000",
          "2021-03-16T00:00:00.000000000",
          "2021-03-23T00:00:00.000000000",
          "2021-03-30T00:00:00.000000000",
          "2021-04-06T00:00:00.000000000",
          "2021-04-13T00:00:00.000000000",
          "2021-04-20T00:00:00.000000000",
          "2021-04-27T00:00:00.000000000",
          "2021-05-04T00:00:00.000000000",
          "2021-05-11T00:00:00.000000000",
          "2021-05-18T00:00:00.000000000",
          "2021-05-25T00:00:00.000000000",
          "2021-06-01T00:00:00.000000000",
          "2021-06-08T00:00:00.000000000",
          "2021-06-15T00:00:00.000000000",
          "2021-06-22T00:00:00.000000000",
          "2021-06-29T00:00:00.000000000",
          "2021-07-06T00:00:00.000000000",
          "2021-07-13T00:00:00.000000000",
          "2021-07-20T00:00:00.000000000",
          "2021-07-27T00:00:00.000000000",
          "2021-08-03T00:00:00.000000000",
          "2021-08-10T00:00:00.000000000",
          "2021-08-17T00:00:00.000000000",
          "2021-08-24T00:00:00.000000000",
          "2021-08-31T00:00:00.000000000",
          "2021-09-07T00:00:00.000000000",
          "2021-09-14T00:00:00.000000000",
          "2021-09-21T00:00:00.000000000",
          "2021-09-28T00:00:00.000000000",
          "2021-10-05T00:00:00.000000000",
          "2021-10-12T00:00:00.000000000",
          "2021-10-19T00:00:00.000000000",
          "2021-10-26T00:00:00.000000000",
          "2021-11-02T00:00:00.000000000",
          "2021-11-09T00:00:00.000000000",
          "2021-11-16T00:00:00.000000000",
          "2021-11-23T00:00:00.000000000",
          "2021-11-30T00:00:00.000000000",
          "2021-12-07T00:00:00.000000000",
          "2021-12-14T00:00:00.000000000",
          "2021-12-21T00:00:00.000000000",
          "2021-12-28T00:00:00.000000000",
          "2022-01-04T00:00:00.000000000",
          "2022-01-11T00:00:00.000000000",
          "2022-01-18T00:00:00.000000000",
          "2022-01-25T00:00:00.000000000",
          "2022-02-01T00:00:00.000000000",
          "2022-02-08T00:00:00.000000000",
          "2022-02-15T00:00:00.000000000",
          "2022-02-22T00:00:00.000000000",
          "2022-03-01T00:00:00.000000000",
          "2022-03-08T00:00:00.000000000",
          "2022-03-15T00:00:00.000000000",
          "2022-03-22T00:00:00.000000000",
          "2022-03-29T00:00:00.000000000",
          "2022-04-05T00:00:00.000000000",
          "2022-04-12T00:00:00.000000000",
          "2022-04-19T00:00:00.000000000",
          "2022-04-26T00:00:00.000000000",
          "2022-05-03T00:00:00.000000000",
          "2022-05-10T00:00:00.000000000",
          "2022-05-17T00:00:00.000000000",
          "2022-05-24T00:00:00.000000000",
          "2022-05-31T00:00:00.000000000",
          "2022-06-07T00:00:00.000000000",
          "2022-06-14T00:00:00.000000000",
          "2022-06-21T00:00:00.000000000",
          "2022-06-28T00:00:00.000000000",
          "2022-07-05T00:00:00.000000000",
          "2022-07-12T00:00:00.000000000",
          "2022-07-19T00:00:00.000000000",
          "2022-07-26T00:00:00.000000000",
          "2022-08-02T00:00:00.000000000",
          "2022-08-09T00:00:00.000000000",
          "2022-08-16T00:00:00.000000000",
          "2022-08-23T00:00:00.000000000",
          "2022-08-30T00:00:00.000000000",
          "2022-09-06T00:00:00.000000000",
          "2022-09-13T00:00:00.000000000",
          "2022-09-20T00:00:00.000000000",
          "2022-09-27T00:00:00.000000000",
          "2022-10-04T00:00:00.000000000",
          "2022-10-11T00:00:00.000000000",
          "2022-10-18T00:00:00.000000000",
          "2022-10-25T00:00:00.000000000",
          "2022-11-01T00:00:00.000000000",
          "2022-11-08T00:00:00.000000000",
          "2022-11-15T00:00:00.000000000",
          "2022-11-22T00:00:00.000000000",
          "2022-11-29T00:00:00.000000000",
          "2022-12-06T00:00:00.000000000",
          "2022-12-13T00:00:00.000000000",
          "2022-12-20T00:00:00.000000000",
          "2022-12-27T00:00:00.000000000",
          "2023-01-03T00:00:00.000000000",
          "2023-01-10T00:00:00.000000000",
          "2023-01-17T00:00:00.000000000",
          "2023-01-24T00:00:00.000000000",
          "2023-01-31T00:00:00.000000000",
          "2023-02-07T00:00:00.000000000",
          "2023-02-14T00:00:00.000000000",
          "2023-02-21T00:00:00.000000000",
          "2023-02-28T00:00:00.000000000",
          "2023-03-07T00:00:00.000000000",
          "2023-03-14T00:00:00.000000000",
          "2023-03-21T00:00:00.000000000",
          "2023-03-28T00:00:00.000000000",
          "2023-04-04T00:00:00.000000000",
          "2023-04-11T00:00:00.000000000",
          "2023-04-18T00:00:00.000000000",
          "2023-04-25T00:00:00.000000000",
          "2023-05-02T00:00:00.000000000",
          "2023-05-09T00:00:00.000000000",
          "2023-05-16T00:00:00.000000000",
          "2023-05-23T00:00:00.000000000",
          "2023-05-30T00:00:00.000000000",
          "2023-06-06T00:00:00.000000000",
          "2023-06-13T00:00:00.000000000",
          "2023-06-20T00:00:00.000000000",
          "2023-06-27T00:00:00.000000000",
          "2023-07-03T00:00:00.000000000",
          "2023-07-11T00:00:00.000000000",
          "2023-07-18T00:00:00.000000000",
          "2023-07-25T00:00:00.000000000",
          "2023-08-01T00:00:00.000000000",
          "2023-08-08T00:00:00.000000000",
          "2023-08-15T00:00:00.000000000",
          "2023-08-22T00:00:00.000000000",
          "2023-08-29T00:00:00.000000000",
          "2023-09-05T00:00:00.000000000",
          "2023-09-12T00:00:00.000000000",
          "2023-09-19T00:00:00.000000000",
          "2023-09-26T00:00:00.000000000",
          "2023-10-03T00:00:00.000000000",
          "2023-10-10T00:00:00.000000000",
          "2023-10-17T00:00:00.000000000",
          "2023-10-24T00:00:00.000000000",
          "2023-10-31T00:00:00.000000000",
          "2023-11-07T00:00:00.000000000",
          "2023-11-14T00:00:00.000000000",
          "2023-11-21T00:00:00.000000000",
          "2023-11-28T00:00:00.000000000",
          "2023-12-05T00:00:00.000000000",
          "2023-12-12T00:00:00.000000000",
          "2023-12-19T00:00:00.000000000",
          "2023-12-26T00:00:00.000000000",
          "2024-01-02T00:00:00.000000000",
          "2024-01-09T00:00:00.000000000",
          "2024-01-16T00:00:00.000000000",
          "2024-01-23T00:00:00.000000000",
          "2024-01-30T00:00:00.000000000",
          "2024-02-06T00:00:00.000000000",
          "2024-02-13T00:00:00.000000000",
          "2024-02-20T00:00:00.000000000",
          "2024-02-27T00:00:00.000000000",
          "2024-03-05T00:00:00.000000000",
          "2024-03-12T00:00:00.000000000",
          "2024-03-19T00:00:00.000000000",
          "2024-03-26T00:00:00.000000000",
          "2024-04-02T00:00:00.000000000",
          "2024-04-09T00:00:00.000000000",
          "2024-04-16T00:00:00.000000000",
          "2024-04-23T00:00:00.000000000",
          "2024-04-30T00:00:00.000000000",
          "2024-05-07T00:00:00.000000000",
          "2024-05-14T00:00:00.000000000",
          "2024-05-21T00:00:00.000000000",
          "2024-05-28T00:00:00.000000000",
          "2024-06-04T00:00:00.000000000",
          "2024-06-11T00:00:00.000000000",
          "2024-06-18T00:00:00.000000000",
          "2024-06-25T00:00:00.000000000",
          "2024-07-02T00:00:00.000000000",
          "2024-07-09T00:00:00.000000000",
          "2024-07-16T00:00:00.000000000",
          "2024-07-23T00:00:00.000000000",
          "2024-07-30T00:00:00.000000000",
          "2024-08-06T00:00:00.000000000",
          "2024-08-13T00:00:00.000000000",
          "2024-08-20T00:00:00.000000000",
          "2024-08-27T00:00:00.000000000",
          "2024-09-03T00:00:00.000000000",
          "2024-09-10T00:00:00.000000000",
          "2024-09-17T00:00:00.000000000",
          "2024-09-24T00:00:00.000000000",
          "2024-10-01T00:00:00.000000000",
          "2024-10-08T00:00:00.000000000",
          "2024-10-15T00:00:00.000000000",
          "2024-10-22T00:00:00.000000000",
          "2024-10-29T00:00:00.000000000",
          "2024-11-05T00:00:00.000000000",
          "2024-11-12T00:00:00.000000000",
          "2024-11-19T00:00:00.000000000",
          "2024-11-26T00:00:00.000000000",
          "2024-12-03T00:00:00.000000000",
          "2024-12-10T00:00:00.000000000",
          "2024-12-17T00:00:00.000000000",
          "2024-12-24T00:00:00.000000000",
          "2024-12-31T00:00:00.000000000",
          "2025-01-07T00:00:00.000000000",
          "2025-01-14T00:00:00.000000000",
          "2025-01-21T00:00:00.000000000",
          "2025-01-28T00:00:00.000000000",
          "2025-02-04T00:00:00.000000000",
          "2025-02-11T00:00:00.000000000",
          "2025-02-18T00:00:00.000000000",
          "2025-02-25T00:00:00.000000000",
          "2025-03-04T00:00:00.000000000",
          "2025-03-11T00:00:00.000000000",
          "2025-03-18T00:00:00.000000000",
          "2025-03-25T00:00:00.000000000",
          "2025-04-01T00:00:00.000000000",
          "2025-04-08T00:00:00.000000000",
          "2025-04-15T00:00:00.000000000",
          "2025-04-22T00:00:00.000000000",
          "2025-04-29T00:00:00.000000000",
          "2025-05-06T00:00:00.000000000",
          "2025-05-13T00:00:00.000000000",
          "2025-05-20T00:00:00.000000000",
          "2025-05-27T00:00:00.000000000",
          "2025-06-03T00:00:00.000000000",
          "2025-06-10T00:00:00.000000000",
          "2025-06-17T00:00:00.000000000",
          "2025-06-24T00:00:00.000000000",
          "2025-07-01T00:00:00.000000000",
          "2025-07-08T00:00:00.000000000",
          "2025-07-15T00:00:00.000000000"
         ],
         "xaxis": "x3",
         "y": {
          "bdata": "/oMAAHh3AACghQAAAngAAIl8AAB5dAAA23wAAEybAAAuegAAZXAAAFFNAAChWwAAFmIAAC1oAAADbQAAJncAALR4AACQewAAeYsAAPKVAAA4jgAA1ZIAAByIAACIgwAAB4oAAOmHAACiiQAAppoAAC+SAABoogAA35IAAPasAADdrAAAX7EAABK2AAAXrgAAsawAAPS4AAAXpgAAyZsAANCrAADorQAA1LoAAF21AACnqgAAJqkAAN+fAAC1gAAAD3sAAMaHAAAnkAAA7pUAAIWiAAAqrAAAfZ8AALqhAAB/nwAAVJ8AAK2cAACcjAAANX8AAM1/AABfcgAAWGwAAFZmAADKYgAACm0AAM97AADOjgAAznkAAA2IAADchAAAg40AAKqGAABbigAAFpkAAEiNAAB+gAAAoXwAAPB1AABAfwAA8nIAAIWIAABjagAAulcAANldAACaXQAASXQAAHtnAAClYQAA+FQAAIBSAAA7VgAA8WQAAAZiAACsYAAA3GIAAG9sAACPggAA538AABZvAABScQAACnYAAPx+AAD3ZQAA+GIAAO1oAACbcwAAEHIAAJhgAACuYgAAzmcAABtuAAAufwAARYsAABuDAAC1bgAAwYEAAA6EAAC4iwAAJnoAAKx/AACJhgAAH3sAAOZtAABLawAAKmAAAKNdAABaXAAA+l4AANVNAADTTAAAm0MAAHQ9AADnKwAAty0AAAExAADBLwAAqS4AAN8nAAAaNQAA6iUAAEknAADjHwAAXCQAABIzAACVLwAArycAAGYiAABnHwAAfzYAAA4kAABqOgAAUDIAAGI1AAAAQgAAhEcAALdVAACRWAAAYVkAAA9PAABXXgAA91sAAO5WAADOSQAA3k8AAAU7AACDYQAApk0AAPpZAAD7XAAApGcAAChoAAABVgAATWgAAP97AACzZgAA0VAAABJYAAD9ZAAAClwAAIFbAAB0VAAA61UAAI9PAAD7XwAAoVUAAPlfAAA6UQAAkkoAAKpDAAAJTwAA0lEAAGlFAABNSgAAFFEAADNKAACdOwAAaEAAAFJLAACjTQAAi1QAAGJIAABMSAAAaVsAAP9fAAB3ZAAAM2AAALVsAACfcQAAh2sAAFtYAADHWAAAR0gAADRVAADNSgAATEEAAIs8AAAfQQAAOD4AAGZKAAAgSAAAk1YAAGNRAACtXQAA+FoAADNsAADeawAAuXAAAC1fAADVbwAA2WcAAEZgAACrYgAA2FoAAP5kAADYXgAAy2wAAJBmAABNdgAAlmIAAKViAADibAAACV8AAE5fAADlYQAA/F4AAMlrAADEZAAAcGYAAFFvAAC6YQAAUmwAAMtxAAAzbQAAplYAAKtnAAAlUwAAmFoAAGtkAADRXQAAt1wAADFaAADgZAAA+V4AAENkAAAoYwAABWsAAGtnAADObAAAoHEAAGRqAACCcAAAA2gAAOx6AAAGdAAACmkAADNrAACmcwAALnUAAIODAAB7ggAAmYAAAKWJAADXkAAA5IoAACmFAAA6igAAxZIAAA==",
          "dtype": "i4"
         },
         "yaxis": "y3"
        },
        {
         "name": "OI",
         "type": "scatter",
         "x": [
          "2020-01-07T00:00:00.000000000",
          "2020-01-14T00:00:00.000000000",
          "2020-01-21T00:00:00.000000000",
          "2020-01-28T00:00:00.000000000",
          "2020-02-04T00:00:00.000000000",
          "2020-02-11T00:00:00.000000000",
          "2020-02-18T00:00:00.000000000",
          "2020-02-25T00:00:00.000000000",
          "2020-03-03T00:00:00.000000000",
          "2020-03-10T00:00:00.000000000",
          "2020-03-17T00:00:00.000000000",
          "2020-03-24T00:00:00.000000000",
          "2020-03-31T00:00:00.000000000",
          "2020-04-07T00:00:00.000000000",
          "2020-04-14T00:00:00.000000000",
          "2020-04-21T00:00:00.000000000",
          "2020-04-28T00:00:00.000000000",
          "2020-05-05T00:00:00.000000000",
          "2020-05-12T00:00:00.000000000",
          "2020-05-19T00:00:00.000000000",
          "2020-05-26T00:00:00.000000000",
          "2020-06-02T00:00:00.000000000",
          "2020-06-09T00:00:00.000000000",
          "2020-06-16T00:00:00.000000000",
          "2020-06-23T00:00:00.000000000",
          "2020-06-30T00:00:00.000000000",
          "2020-07-07T00:00:00.000000000",
          "2020-07-14T00:00:00.000000000",
          "2020-07-21T00:00:00.000000000",
          "2020-07-28T00:00:00.000000000",
          "2020-08-04T00:00:00.000000000",
          "2020-08-11T00:00:00.000000000",
          "2020-08-18T00:00:00.000000000",
          "2020-08-25T00:00:00.000000000",
          "2020-09-01T00:00:00.000000000",
          "2020-09-08T00:00:00.000000000",
          "2020-09-15T00:00:00.000000000",
          "2020-09-22T00:00:00.000000000",
          "2020-09-29T00:00:00.000000000",
          "2020-10-06T00:00:00.000000000",
          "2020-10-13T00:00:00.000000000",
          "2020-10-20T00:00:00.000000000",
          "2020-10-27T00:00:00.000000000",
          "2020-11-03T00:00:00.000000000",
          "2020-11-10T00:00:00.000000000",
          "2020-11-17T00:00:00.000000000",
          "2020-11-24T00:00:00.000000000",
          "2020-12-01T00:00:00.000000000",
          "2020-12-08T00:00:00.000000000",
          "2020-12-15T00:00:00.000000000",
          "2020-12-21T00:00:00.000000000",
          "2020-12-29T00:00:00.000000000",
          "2021-01-05T00:00:00.000000000",
          "2021-01-12T00:00:00.000000000",
          "2021-01-19T00:00:00.000000000",
          "2021-01-26T00:00:00.000000000",
          "2021-02-02T00:00:00.000000000",
          "2021-02-09T00:00:00.000000000",
          "2021-02-16T00:00:00.000000000",
          "2021-02-23T00:00:00.000000000",
          "2021-03-02T00:00:00.000000000",
          "2021-03-09T00:00:00.000000000",
          "2021-03-16T00:00:00.000000000",
          "2021-03-23T00:00:00.000000000",
          "2021-03-30T00:00:00.000000000",
          "2021-04-06T00:00:00.000000000",
          "2021-04-13T00:00:00.000000000",
          "2021-04-20T00:00:00.000000000",
          "2021-04-27T00:00:00.000000000",
          "2021-05-04T00:00:00.000000000",
          "2021-05-11T00:00:00.000000000",
          "2021-05-18T00:00:00.000000000",
          "2021-05-25T00:00:00.000000000",
          "2021-06-01T00:00:00.000000000",
          "2021-06-08T00:00:00.000000000",
          "2021-06-15T00:00:00.000000000",
          "2021-06-22T00:00:00.000000000",
          "2021-06-29T00:00:00.000000000",
          "2021-07-06T00:00:00.000000000",
          "2021-07-13T00:00:00.000000000",
          "2021-07-20T00:00:00.000000000",
          "2021-07-27T00:00:00.000000000",
          "2021-08-03T00:00:00.000000000",
          "2021-08-10T00:00:00.000000000",
          "2021-08-17T00:00:00.000000000",
          "2021-08-24T00:00:00.000000000",
          "2021-08-31T00:00:00.000000000",
          "2021-09-07T00:00:00.000000000",
          "2021-09-14T00:00:00.000000000",
          "2021-09-21T00:00:00.000000000",
          "2021-09-28T00:00:00.000000000",
          "2021-10-05T00:00:00.000000000",
          "2021-10-12T00:00:00.000000000",
          "2021-10-19T00:00:00.000000000",
          "2021-10-26T00:00:00.000000000",
          "2021-11-02T00:00:00.000000000",
          "2021-11-09T00:00:00.000000000",
          "2021-11-16T00:00:00.000000000",
          "2021-11-23T00:00:00.000000000",
          "2021-11-30T00:00:00.000000000",
          "2021-12-07T00:00:00.000000000",
          "2021-12-14T00:00:00.000000000",
          "2021-12-21T00:00:00.000000000",
          "2021-12-28T00:00:00.000000000",
          "2022-01-04T00:00:00.000000000",
          "2022-01-11T00:00:00.000000000",
          "2022-01-18T00:00:00.000000000",
          "2022-01-25T00:00:00.000000000",
          "2022-02-01T00:00:00.000000000",
          "2022-02-08T00:00:00.000000000",
          "2022-02-15T00:00:00.000000000",
          "2022-02-22T00:00:00.000000000",
          "2022-03-01T00:00:00.000000000",
          "2022-03-08T00:00:00.000000000",
          "2022-03-15T00:00:00.000000000",
          "2022-03-22T00:00:00.000000000",
          "2022-03-29T00:00:00.000000000",
          "2022-04-05T00:00:00.000000000",
          "2022-04-12T00:00:00.000000000",
          "2022-04-19T00:00:00.000000000",
          "2022-04-26T00:00:00.000000000",
          "2022-05-03T00:00:00.000000000",
          "2022-05-10T00:00:00.000000000",
          "2022-05-17T00:00:00.000000000",
          "2022-05-24T00:00:00.000000000",
          "2022-05-31T00:00:00.000000000",
          "2022-06-07T00:00:00.000000000",
          "2022-06-14T00:00:00.000000000",
          "2022-06-21T00:00:00.000000000",
          "2022-06-28T00:00:00.000000000",
          "2022-07-05T00:00:00.000000000",
          "2022-07-12T00:00:00.000000000",
          "2022-07-19T00:00:00.000000000",
          "2022-07-26T00:00:00.000000000",
          "2022-08-02T00:00:00.000000000",
          "2022-08-09T00:00:00.000000000",
          "2022-08-16T00:00:00.000000000",
          "2022-08-23T00:00:00.000000000",
          "2022-08-30T00:00:00.000000000",
          "2022-09-06T00:00:00.000000000",
          "2022-09-13T00:00:00.000000000",
          "2022-09-20T00:00:00.000000000",
          "2022-09-27T00:00:00.000000000",
          "2022-10-04T00:00:00.000000000",
          "2022-10-11T00:00:00.000000000",
          "2022-10-18T00:00:00.000000000",
          "2022-10-25T00:00:00.000000000",
          "2022-11-01T00:00:00.000000000",
          "2022-11-08T00:00:00.000000000",
          "2022-11-15T00:00:00.000000000",
          "2022-11-22T00:00:00.000000000",
          "2022-11-29T00:00:00.000000000",
          "2022-12-06T00:00:00.000000000",
          "2022-12-13T00:00:00.000000000",
          "2022-12-20T00:00:00.000000000",
          "2022-12-27T00:00:00.000000000",
          "2023-01-03T00:00:00.000000000",
          "2023-01-10T00:00:00.000000000",
          "2023-01-17T00:00:00.000000000",
          "2023-01-24T00:00:00.000000000",
          "2023-01-31T00:00:00.000000000",
          "2023-02-07T00:00:00.000000000",
          "2023-02-14T00:00:00.000000000",
          "2023-02-21T00:00:00.000000000",
          "2023-02-28T00:00:00.000000000",
          "2023-03-07T00:00:00.000000000",
          "2023-03-14T00:00:00.000000000",
          "2023-03-21T00:00:00.000000000",
          "2023-03-28T00:00:00.000000000",
          "2023-04-04T00:00:00.000000000",
          "2023-04-11T00:00:00.000000000",
          "2023-04-18T00:00:00.000000000",
          "2023-04-25T00:00:00.000000000",
          "2023-05-02T00:00:00.000000000",
          "2023-05-09T00:00:00.000000000",
          "2023-05-16T00:00:00.000000000",
          "2023-05-23T00:00:00.000000000",
          "2023-05-30T00:00:00.000000000",
          "2023-06-06T00:00:00.000000000",
          "2023-06-13T00:00:00.000000000",
          "2023-06-20T00:00:00.000000000",
          "2023-06-27T00:00:00.000000000",
          "2023-07-03T00:00:00.000000000",
          "2023-07-11T00:00:00.000000000",
          "2023-07-18T00:00:00.000000000",
          "2023-07-25T00:00:00.000000000",
          "2023-08-01T00:00:00.000000000",
          "2023-08-08T00:00:00.000000000",
          "2023-08-15T00:00:00.000000000",
          "2023-08-22T00:00:00.000000000",
          "2023-08-29T00:00:00.000000000",
          "2023-09-05T00:00:00.000000000",
          "2023-09-12T00:00:00.000000000",
          "2023-09-19T00:00:00.000000000",
          "2023-09-26T00:00:00.000000000",
          "2023-10-03T00:00:00.000000000",
          "2023-10-10T00:00:00.000000000",
          "2023-10-17T00:00:00.000000000",
          "2023-10-24T00:00:00.000000000",
          "2023-10-31T00:00:00.000000000",
          "2023-11-07T00:00:00.000000000",
          "2023-11-14T00:00:00.000000000",
          "2023-11-21T00:00:00.000000000",
          "2023-11-28T00:00:00.000000000",
          "2023-12-05T00:00:00.000000000",
          "2023-12-12T00:00:00.000000000",
          "2023-12-19T00:00:00.000000000",
          "2023-12-26T00:00:00.000000000",
          "2024-01-02T00:00:00.000000000",
          "2024-01-09T00:00:00.000000000",
          "2024-01-16T00:00:00.000000000",
          "2024-01-23T00:00:00.000000000",
          "2024-01-30T00:00:00.000000000",
          "2024-02-06T00:00:00.000000000",
          "2024-02-13T00:00:00.000000000",
          "2024-02-20T00:00:00.000000000",
          "2024-02-27T00:00:00.000000000",
          "2024-03-05T00:00:00.000000000",
          "2024-03-12T00:00:00.000000000",
          "2024-03-19T00:00:00.000000000",
          "2024-03-26T00:00:00.000000000",
          "2024-04-02T00:00:00.000000000",
          "2024-04-09T00:00:00.000000000",
          "2024-04-16T00:00:00.000000000",
          "2024-04-23T00:00:00.000000000",
          "2024-04-30T00:00:00.000000000",
          "2024-05-07T00:00:00.000000000",
          "2024-05-14T00:00:00.000000000",
          "2024-05-21T00:00:00.000000000",
          "2024-05-28T00:00:00.000000000",
          "2024-06-04T00:00:00.000000000",
          "2024-06-11T00:00:00.000000000",
          "2024-06-18T00:00:00.000000000",
          "2024-06-25T00:00:00.000000000",
          "2024-07-02T00:00:00.000000000",
          "2024-07-09T00:00:00.000000000",
          "2024-07-16T00:00:00.000000000",
          "2024-07-23T00:00:00.000000000",
          "2024-07-30T00:00:00.000000000",
          "2024-08-06T00:00:00.000000000",
          "2024-08-13T00:00:00.000000000",
          "2024-08-20T00:00:00.000000000",
          "2024-08-27T00:00:00.000000000",
          "2024-09-03T00:00:00.000000000",
          "2024-09-10T00:00:00.000000000",
          "2024-09-17T00:00:00.000000000",
          "2024-09-24T00:00:00.000000000",
          "2024-10-01T00:00:00.000000000",
          "2024-10-08T00:00:00.000000000",
          "2024-10-15T00:00:00.000000000",
          "2024-10-22T00:00:00.000000000",
          "2024-10-29T00:00:00.000000000",
          "2024-11-05T00:00:00.000000000",
          "2024-11-12T00:00:00.000000000",
          "2024-11-19T00:00:00.000000000",
          "2024-11-26T00:00:00.000000000",
          "2024-12-03T00:00:00.000000000",
          "2024-12-10T00:00:00.000000000",
          "2024-12-17T00:00:00.000000000",
          "2024-12-24T00:00:00.000000000",
          "2024-12-31T00:00:00.000000000",
          "2025-01-07T00:00:00.000000000",
          "2025-01-14T00:00:00.000000000",
          "2025-01-21T00:00:00.000000000",
          "2025-01-28T00:00:00.000000000",
          "2025-02-04T00:00:00.000000000",
          "2025-02-11T00:00:00.000000000",
          "2025-02-18T00:00:00.000000000",
          "2025-02-25T00:00:00.000000000",
          "2025-03-04T00:00:00.000000000",
          "2025-03-11T00:00:00.000000000",
          "2025-03-18T00:00:00.000000000",
          "2025-03-25T00:00:00.000000000",
          "2025-04-01T00:00:00.000000000",
          "2025-04-08T00:00:00.000000000",
          "2025-04-15T00:00:00.000000000",
          "2025-04-22T00:00:00.000000000",
          "2025-04-29T00:00:00.000000000",
          "2025-05-06T00:00:00.000000000",
          "2025-05-13T00:00:00.000000000",
          "2025-05-20T00:00:00.000000000",
          "2025-05-27T00:00:00.000000000",
          "2025-06-03T00:00:00.000000000",
          "2025-06-10T00:00:00.000000000",
          "2025-06-17T00:00:00.000000000",
          "2025-06-24T00:00:00.000000000",
          "2025-07-01T00:00:00.000000000",
          "2025-07-08T00:00:00.000000000",
          "2025-07-15T00:00:00.000000000"
         ],
         "xaxis": "x4",
         "y": {
          "bdata": "wf0LANMoDADlHAwAE+sKAOz8CQBoCgoANeoKAPUuCwARjwoAfqoJAOXBCAAGWggAJJAHADJTBwDteQcAZoYHAFCkBwBnewcAY5QHAE0PCADO7AcAYUIHAA1CBwBbeAcAhR4IANyRCABovQgAT9oIAAI0CQBlIgkArZIIAIFxCAAKTQgAomEIAHhbCACRgQgAbdUIAIXJCADclAgAI3oIAO1wCAAxlwgABI8IAAZQCAB5WggA3YEIAPV4CAC6NQgAkGIIAN5lCACBjggAfn0IADiuCAASeggAkkIIAC4oCABL7wcAdbsHAOisBwBlVwcAQCAHAA87BwAzRQcAUWgHAHkhBwD5EQcAvQcHALoyBwDZOAcARS0HAAWcBwDa8AcA1MgHAO52BwBSgQcAf1MHADTtBgDw6gYAkxsHALaQBwAYfAcA26EHAB9pBwAwSAcAbWgHAJ+zBwDpvAcAlLsHAPS5BwDdhAcAan0HAM1hBwAeZAcAVmoHAGLHBwDgvgcAkbYIAARZCQDPiggAnB0IAGueBwCdrwcAbqQHAPDDBwC9qwcA1FYIAEQ6CACuuggAA90HAErTBwA1hggAoFQJALBkCQAmvgkAhWwJAAc8CQA5xAgAGo4IAGfQCADixggA2YIIADmNCAA3uAgA7HoIALIWCAC61gcAMooHADCXBwA0ogcAbZUHACKaBwAdRwgA8gEIAFtwBwCBAwcApOsGAEjtBgAi/AYAnQEHAPQbBwA6EwcAkykHAGX5BgBJqwYAI5UGAA2iBgCI9QYATCEHABd0BwBDjgcABtwGAP2dBgDUcAYAMKsGAK2pBgDotgYAcdsGAO9YBwAqgQcA16AHAFoyBwDLtQYAhIAGAPhyBgCKgwYA6v4GADgBBwByKwcAk00HALBFBwCXRQcAzlsHAHk4BwDsiAcAJ+sHAGj2BwBoTwcA69sGAE2oBgACmwYAFa8GAPWWBgA/1gYAYl8HADhbBwAQRAcAV7QGAO+GBgDLnQYAn5AGALbBBgCQsQYAhbsGAD6vBgCkpQYAepQGABOpBgAdtQYAdBIHAKBCBwD7YwcA6mwHAA3CBwA6twcALXAHALMrBwCzVwcAT38HAIyiBwB5eQcAdncHANAbBwD4kAYAMWUGAMxrBgAXNgYAO0YGAEAyBwDZ3wcAByoIAFqvBwBNoQcAfrUHAEnkBwCZ4AcAb+4HAKsVCADI+gcAnxgIADZoBwAA1AYAeaoGALnHBgBe5gYASvAGAOTgBwAW2QgAkrsIAMLLBwCFVQcAELgHAIMhCAAf9gcAoMwHAA3OBwAbNAgAoJ0IAHMiCAB88AcAMEIIAEDBCACM1wgA0oMIAK0tCACorAcAVDYHANgMBwASYAcAix4HAPbvBgBY/wYAc0cHAIMICAD7twgA4c8IADRFCABPEQgAWvgHALPQBwA2dwcALM0HAD4kCAD6zQcAOpwHABzMBgC09wYAxxkHABzlBgA+5wYACroGAADWBgAirQYAxVgGAHddBgB+uwYADqMGAJ6tBgAIwwYAE9gGAA==",
          "dtype": "i4"
         },
         "yaxis": "y4"
        }
       ],
       "layout": {
        "annotations": [
         {
          "font": {
           "size": 16
          },
          "showarrow": false,
          "text": "ASSET_CHART_NAME (Daily)",
          "x": 0.5,
          "xanchor": "center",
          "xref": "paper",
          "y": 1,
          "yanchor": "bottom",
          "yref": "paper"
         },
         {
          "font": {
           "size": 16
          },
          "showarrow": false,
          "text": "COT Index",
          "x": 0.5,
          "xanchor": "center",
          "xref": "paper",
          "y": 0.4955,
          "yanchor": "bottom",
          "yref": "paper"
         },
         {
          "font": {
           "size": 16
          },
          "showarrow": false,
          "text": "Net positions",
          "x": 0.5,
          "xanchor": "center",
          "xref": "paper",
          "y": 0.307,
          "yanchor": "bottom",
          "yref": "paper"
         },
         {
          "font": {
           "size": 16
          },
          "showarrow": false,
          "text": "OI",
          "x": 0.5,
          "xanchor": "center",
          "xref": "paper",
          "y": 0.1185,
          "yanchor": "bottom",
          "yref": "paper"
         }
        ],
        "autosize": true,
        "height": 1200,
        "hovermode": "x unified",
        "shapes": [
         {
          "fillcolor": "green",
          "layer": "below",
          "line": {
           "width": 0
          },
          "opacity": 0.2,
          "type": "rect",
          "x0": 0,
          "x1": 1,
          "xref": "paper",
          "y0": 80,
          "y1": 100,
          "yref": "y2"
         },
         {
          "fillcolor": "red",
          "layer": "below",
          "line": {
           "width": 0
          },
          "opacity": 0.2,
          "type": "rect",
          "x0": 0,
          "x1": 1,
          "xref": "paper",
          "y0": 0,
          "y1": 20,
          "yref": "y2"
         }
        ],
        "spikedistance": -1,
        "template": {
         "data": {
          "bar": [
           {
            "error_x": {
             "color": "#f2f5fa"
            },
            "error_y": {
             "color": "#f2f5fa"
            },
            "marker": {
             "line": {
              "color": "rgb(17,17,17)",
              "width": 0.5
             },
             "pattern": {
              "fillmode": "overlay",
              "size": 10,
              "solidity": 0.2
             }
            },
            "type": "bar"
           }
          ],
          "barpolar": [
           {
            "marker": {
             "line": {
              "color": "rgb(17,17,17)",
              "width": 0.5
             },
             "pattern": {
              "fillmode": "overlay",
              "size": 10,
              "solidity": 0.2
             }
            },
            "type": "barpolar"
           }
          ],
          "carpet": [
           {
            "aaxis": {
             "endlinecolor": "#A2B1C6",
             "gridcolor": "#506784",
             "linecolor": "#506784",
             "minorgridcolor": "#506784",
             "startlinecolor": "#A2B1C6"
            },
            "baxis": {
             "endlinecolor": "#A2B1C6",
             "gridcolor": "#506784",
             "linecolor": "#506784",
             "minorgridcolor": "#506784",
             "startlinecolor": "#A2B1C6"
            },
            "type": "carpet"
           }
          ],
          "choropleth": [
           {
            "colorbar": {
             "outlinewidth": 0,
             "ticks": ""
            },
            "type": "choropleth"
           }
          ],
          "contour": [
           {
            "colorbar": {
             "outlinewidth": 0,
             "ticks": ""
            },
            "colorscale": [
             [
              0,
              "#0d0887"
             ],
             [
              0.1111111111111111,
              "#46039f"
             ],
             [
              0.2222222222222222,
              "#7201a8"
             ],
             [
              0.3333333333333333,
              "#9c179e"
             ],
             [
              0.4444444444444444,
              "#bd3786"
             ],
             [
              0.5555555555555556,
              "#d8576b"
             ],
             [
              0.6666666666666666,
              "#ed7953"
             ],
             [
              0.7777777777777778,
              "#fb9f3a"
             ],
             [
              0.8888888888888888,
              "#fdca26"
             ],
             [
              1,
              "#f0f921"
             ]
            ],
            "type": "contour"
           }
          ],
          "contourcarpet": [
           {
            "colorbar": {
             "outlinewidth": 0,
             "ticks": ""
            },
            "type": "contourcarpet"
           }
          ],
          "heatmap": [
           {
            "colorbar": {
             "outlinewidth": 0,
             "ticks": ""
            },
            "colorscale": [
             [
              0,
              "#0d0887"
             ],
             [
              0.1111111111111111,
              "#46039f"
             ],
             [
              0.2222222222222222,
              "#7201a8"
             ],
             [
              0.3333333333333333,
              "#9c179e"
             ],
             [
              0.4444444444444444,
              "#bd3786"
             ],
             [
              0.5555555555555556,
              "#d8576b"
             ],
             [
              0.6666666666666666,
              "#ed7953"
             ],
             [
              0.7777777777777778,
              "#fb9f3a"
             ],
             [
              0.8888888888888888,
              "#fdca26"
             ],
             [
              1,
              "#f0f921"
             ]
            ],
            "type": "heatmap"
           }
          ],
          "histogram": [
           {
            "marker": {
             "pattern": {
              "fillmode": "overlay",
              "size": 10,
              "solidity": 0.2
             }
            },
            "type": "histogram"
           }
          ],
          "histogram2d": [
           {
            "colorbar": {
             "outlinewidth": 0,
             "ticks": ""
            },
            "colorscale": [
             [
              0,
              "#0d0887"
             ],
             [
              0.1111111111111111,
              "#46039f"
             ],
             [
              0.2222222222222222,
              "#7201a8"
             ],
             [
              0.3333333333333333,
              "#9c179e"
             ],
             [
              0.4444444444444444,
              "#bd3786"
             ],
             [
              0.5555555555555556,
              "#d8576b"
             ],
             [
              0.6666666666666666,
              "#ed7953"
             ],
             [
              0.7777777777777778,
              "#fb9f3a"
             ],
             [
              0.8888888888888888,
              "#fdca26"
             ],
             [
              1,
              "#f0f921"
             ]
            ],
            "type": "histogram2d"
           }
          ],
          "histogram2dcontour": [
           {
            "colorbar": {
             "outlinewidth": 0,
             "ticks": ""
            },
            "colorscale": [
             [
              0,
              "#0d0887"
             ],
             [
              0.1111111111111111,
              "#46039f"
             ],
             [
              0.2222222222222222,
              "#7201a8"
             ],
             [
              0.3333333333333333,
              "#9c179e"
             ],
             [
              0.4444444444444444,
              "#bd3786"
             ],
             [
              0.5555555555555556,
              "#d8576b"
             ],
             [
              0.6666666666666666,
              "#ed7953"
             ],
             [
              0.7777777777777778,
              "#fb9f3a"
             ],
             [
              0.8888888888888888,
              "#fdca26"
             ],
             [
              1,
              "#f0f921"
             ]
            ],
            "type": "histogram2dcontour"
           }
          ],
          "mesh3d": [
           {
            "colorbar": {
             "outlinewidth": 0,
             "ticks": ""
            },
            "type": "mesh3d"
           }
          ],
          "parcoords": [
           {
            "line": {
             "colorbar": {
              "outlinewidth": 0,
              "ticks": ""
             }
            },
            "type": "parcoords"
           }
          ],
          "pie": [
           {
            "automargin": true,
            "type": "pie"
           }
          ],
          "scatter": [
           {
            "marker": {
             "line": {
              "color": "#283442"
             }
            },
            "type": "scatter"
           }
          ],
          "scatter3d": [
           {
            "line": {
             "colorbar": {
              "outlinewidth": 0,
              "ticks": ""
             }
            },
            "marker": {
             "colorbar": {
              "outlinewidth": 0,
              "ticks": ""
             }
            },
            "type": "scatter3d"
           }
          ],
          "scattercarpet": [
           {
            "marker": {
             "colorbar": {
              "outlinewidth": 0,
              "ticks": ""
             }
            },
            "type": "scattercarpet"
           }
          ],
          "scattergeo": [
           {
            "marker": {
             "colorbar": {
              "outlinewidth": 0,
              "ticks": ""
             }
            },
            "type": "scattergeo"
           }
          ],
          "scattergl": [
           {
            "marker": {
             "line": {
              "color": "#283442"
             }
            },
            "type": "scattergl"
           }
          ],
          "scattermap": [
           {
            "marker": {
             "colorbar": {
              "outlinewidth": 0,
              "ticks": ""
             }
            },
            "type": "scattermap"
           }
          ],
          "scattermapbox": [
           {
            "marker": {
             "colorbar": {
              "outlinewidth": 0,
              "ticks": ""
             }
            },
            "type": "scattermapbox"
           }
          ],
          "scatterpolar": [
           {
            "marker": {
             "colorbar": {
              "outlinewidth": 0,
              "ticks": ""
             }
            },
            "type": "scatterpolar"
           }
          ],
          "scatterpolargl": [
           {
            "marker": {
             "colorbar": {
              "outlinewidth": 0,
              "ticks": ""
             }
            },
            "type": "scatterpolargl"
           }
          ],
          "scatterternary": [
           {
            "marker": {
             "colorbar": {
              "outlinewidth": 0,
              "ticks": ""
             }
            },
            "type": "scatterternary"
           }
          ],
          "surface": [
           {
            "colorbar": {
             "outlinewidth": 0,
             "ticks": ""
            },
            "colorscale": [
             [
              0,
              "#0d0887"
             ],
             [
              0.1111111111111111,
              "#46039f"
             ],
             [
              0.2222222222222222,
              "#7201a8"
             ],
             [
              0.3333333333333333,
              "#9c179e"
             ],
             [
              0.4444444444444444,
              "#bd3786"
             ],
             [
              0.5555555555555556,
              "#d8576b"
             ],
             [
              0.6666666666666666,
              "#ed7953"
             ],
             [
              0.7777777777777778,
              "#fb9f3a"
             ],
             [
              0.8888888888888888,
              "#fdca26"
             ],
             [
              1,
              "#f0f921"
             ]
            ],
            "type": "surface"
           }
          ],
          "table": [
           {
            "cells": {
             "fill": {
              "color": "#506784"
             },
             "line": {
              "color": "rgb(17,17,17)"
             }
            },
            "header": {
             "fill": {
              "color": "#2a3f5f"
             },
             "line": {
              "color": "rgb(17,17,17)"
             }
            },
            "type": "table"
           }
          ]
         },
         "layout": {
          "annotationdefaults": {
           "arrowcolor": "#f2f5fa",
           "arrowhead": 0,
           "arrowwidth": 1
          },
          "autotypenumbers": "strict",
          "coloraxis": {
           "colorbar": {
            "outlinewidth": 0,
            "ticks": ""
           }
          },
          "colorscale": {
           "diverging": [
            [
             0,
             "#8e0152"
            ],
            [
             0.1,
             "#c51b7d"
            ],
            [
             0.2,
             "#de77ae"
            ],
            [
             0.3,
             "#f1b6da"
            ],
            [
             0.4,
             "#fde0ef"
            ],
            [
             0.5,
             "#f7f7f7"
            ],
            [
             0.6,
             "#e6f5d0"
            ],
            [
             0.7,
             "#b8e186"
            ],
            [
             0.8,
             "#7fbc41"
            ],
            [
             0.9,
             "#4d9221"
            ],
            [
             1,
             "#276419"
            ]
           ],
           "sequential": [
            [
             0,
             "#0d0887"
            ],
            [
             0.1111111111111111,
             "#46039f"
            ],
            [
             0.2222222222222222,
             "#7201a8"
            ],
            [
             0.3333333333333333,
             "#9c179e"
            ],
            [
             0.4444444444444444,
             "#bd3786"
            ],
            [
             0.5555555555555556,
             "#d8576b"
            ],
            [
             0.6666666666666666,
             "#ed7953"
            ],
            [
             0.7777777777777778,
             "#fb9f3a"
            ],
            [
             0.8888888888888888,
             "#fdca26"
            ],
            [
             1,
             "#f0f921"
            ]
           ],
           "sequentialminus": [
            [
             0,
             "#0d0887"
            ],
            [
             0.1111111111111111,
             "#46039f"
            ],
            [
             0.2222222222222222,
             "#7201a8"
            ],
            [
             0.3333333333333333,
             "#9c179e"
            ],
            [
             0.4444444444444444,
             "#bd3786"
            ],
            [
             0.5555555555555556,
             "#d8576b"
            ],
            [
             0.6666666666666666,
             "#ed7953"
            ],
            [
             0.7777777777777778,
             "#fb9f3a"
            ],
            [
             0.8888888888888888,
             "#fdca26"
            ],
            [
             1,
             "#f0f921"
            ]
           ]
          },
          "colorway": [
           "#636efa",
           "#EF553B",
           "#00cc96",
           "#ab63fa",
           "#FFA15A",
           "#19d3f3",
           "#FF6692",
           "#B6E880",
           "#FF97FF",
           "#FECB52"
          ],
          "font": {
           "color": "#f2f5fa"
          },
          "geo": {
           "bgcolor": "rgb(17,17,17)",
           "lakecolor": "rgb(17,17,17)",
           "landcolor": "rgb(17,17,17)",
           "showlakes": true,
           "showland": true,
           "subunitcolor": "#506784"
          },
          "hoverlabel": {
           "align": "left"
          },
          "hovermode": "closest",
          "mapbox": {
           "style": "dark"
          },
          "paper_bgcolor": "rgb(17,17,17)",
          "plot_bgcolor": "rgb(17,17,17)",
          "polar": {
           "angularaxis": {
            "gridcolor": "#506784",
            "linecolor": "#506784",
            "ticks": ""
           },
           "bgcolor": "rgb(17,17,17)",
           "radialaxis": {
            "gridcolor": "#506784",
            "linecolor": "#506784",
            "ticks": ""
           }
          },
          "scene": {
           "xaxis": {
            "backgroundcolor": "rgb(17,17,17)",
            "gridcolor": "#506784",
            "gridwidth": 2,
            "linecolor": "#506784",
            "showbackground": true,
            "ticks": "",
            "zerolinecolor": "#C8D4E3"
           },
           "yaxis": {
            "backgroundcolor": "rgb(17,17,17)",
            "gridcolor": "#506784",
            "gridwidth": 2,
            "linecolor": "#506784",
            "showbackground": true,
            "ticks": "",
            "zerolinecolor": "#C8D4E3"
           },
           "zaxis": {
            "backgroundcolor": "rgb(17,17,17)",
            "gridcolor": "#506784",
            "gridwidth": 2,
            "linecolor": "#506784",
            "showbackground": true,
            "ticks": "",
            "zerolinecolor": "#C8D4E3"
           }
          },
          "shapedefaults": {
           "line": {
            "color": "#f2f5fa"
           }
          },
          "sliderdefaults": {
           "bgcolor": "#C8D4E3",
           "bordercolor": "rgb(17,17,17)",
           "borderwidth": 1,
           "tickwidth": 0
          },
          "ternary": {
           "aaxis": {
            "gridcolor": "#506784",
            "linecolor": "#506784",
            "ticks": ""
           },
           "baxis": {
            "gridcolor": "#506784",
            "linecolor": "#506784",
            "ticks": ""
           },
           "bgcolor": "rgb(17,17,17)",
           "caxis": {
            "gridcolor": "#506784",
            "linecolor": "#506784",
            "ticks": ""
           }
          },
          "title": {
           "x": 0.05
          },
          "updatemenudefaults": {
           "bgcolor": "#506784",
           "borderwidth": 0
          },
          "xaxis": {
           "automargin": true,
           "gridcolor": "#283442",
           "linecolor": "#506784",
           "ticks": "",
           "title": {
            "standoff": 15
           },
           "zerolinecolor": "#283442",
           "zerolinewidth": 2
          },
          "yaxis": {
           "automargin": true,
           "gridcolor": "#283442",
           "linecolor": "#506784",
           "ticks": "",
           "title": {
            "standoff": 15
           },
           "zerolinecolor": "#283442",
           "zerolinewidth": 2
          }
         }
        },
        "title": {
         "text": "COT analysis Gold Futures"
        },
        "width": 1750,
        "xaxis": {
         "anchor": "y",
         "domain": [
          0,
          1
         ],
         "matches": "x4",
         "rangeslider": {
          "visible": false
         },
         "showline": true,
         "showspikes": true,
         "showticklabels": false,
         "spikemode": "across",
         "spikesnap": "cursor"
        },
        "xaxis2": {
         "anchor": "y2",
         "domain": [
          0,
          1
         ],
         "matches": "x4",
         "showspikes": true,
         "showticklabels": false,
         "spikemode": "across",
         "spikesnap": "cursor"
        },
        "xaxis3": {
         "anchor": "y3",
         "domain": [
          0,
          1
         ],
         "matches": "x4",
         "showspikes": true,
         "showticklabels": false,
         "spikemode": "across",
         "spikesnap": "cursor"
        },
        "xaxis4": {
         "anchor": "y4",
         "domain": [
          0,
          1
         ],
         "showspikes": true,
         "spikemode": "across",
         "spikesnap": "cursor",
         "title": {
          "text": "Date"
         }
        },
        "yaxis": {
         "anchor": "x",
         "domain": [
          0.5655,
          1
         ],
         "showspikes": true,
         "spikemode": "across",
         "spikesnap": "cursor",
         "title": {
          "text": "Price"
         }
        },
        "yaxis2": {
         "anchor": "x2",
         "domain": [
          0.377,
          0.4955
         ],
         "showspikes": true,
         "spikemode": "across",
         "spikesnap": "cursor",
         "title": {
          "text": "%"
         }
        },
        "yaxis3": {
         "anchor": "x3",
         "domain": [
          0.1885,
          0.307
         ],
         "showspikes": true,
         "spikemode": "across",
         "spikesnap": "cursor",
         "title": {
          "text": "CONTRACT"
         }
        },
        "yaxis4": {
         "anchor": "x4",
         "domain": [
          0,
          0.1185
         ],
         "showspikes": true,
         "spikemode": "across",
         "spikesnap": "cursor",
         "title": {
          "text": "CONTRACT"
         }
        }
       }
      }
     },
     "metadata": {},
     "output_type": "display_data"
    }
   ],
   "source": [
    "# Create subplots: 1 column, 3 rows, shared X-axis\n",
    "fig = make_subplots(\n",
    "    rows=4,\n",
    "    cols=1,\n",
    "    shared_xaxes=True,\n",
    "    vertical_spacing= 0.07,\n",
    "    row_heights=[0.55, 0.15, 0.15, 0.15],  # Increase height of first subplot\n",
    "    subplot_titles=(f\"ASSET_CHART_NAME (Daily)\", 'COT Index', 'Net positions', 'OI')\n",
    ")\n",
    "\n",
    "# Add each series to its own subplot\n",
    "fig.add_trace(go.Candlestick(\n",
    "    x=asset_price_df.index,\n",
    "    open=asset_price_df['Open'],\n",
    "    high=asset_price_df['High'],\n",
    "    low=asset_price_df['Low'],\n",
    "    close=asset_price_df['Close']\n",
    "), row=1, col=1)\n",
    "fig.add_trace(go.Scatter(x=df.index, y=df['COT_Index'], name='COT Index'), row=2, col=1)\n",
    "\n",
    "for col in ['Commercial_Net_Position', 'Large_Speculators_Net_Position', 'Small_Traders_Net_Position']:\n",
    "    fig.add_trace(go.Scatter(x=df.index, y=df[col], name=col.replace('_Net_Position', '').replace('_', ' ').title(), line=dict(width=2)), row=3, col=1)\n",
    "\n",
    "fig.add_trace(go.Scatter(x=df.index, y=df['OI'], name='OI'), row=4, col=1)\n",
    "\n",
    "fig.add_shape(\n",
    "    type='rect',\n",
    "    xref='paper',  # spans the full width of the plot\n",
    "    yref='y2',     # y-axis of subplot in row 2\n",
    "    x0=0,\n",
    "    x1=1,\n",
    "    y0=80,         # Adjust based on COT Index range\n",
    "    y1=100,\n",
    "    fillcolor='green',\n",
    "    opacity=0.2,\n",
    "    line_width=0,\n",
    "    layer='below'\n",
    ")\n",
    "\n",
    "fig.add_shape(\n",
    "    type='rect',\n",
    "    xref='paper',\n",
    "    yref='y2',\n",
    "    x0=0,\n",
    "    x1=1,\n",
    "    y0=0,\n",
    "    y1=20,\n",
    "    fillcolor='red',\n",
    "    opacity=0.2,\n",
    "    line_width=0,\n",
    "    layer='below'\n",
    ")\n",
    "\n",
    "\n",
    "# Update layout\n",
    "fig.update_layout(\n",
    "    autosize=True,\n",
    "    height=1200,\n",
    "    width=1750,\n",
    "    title_text=f\"COT analysis {ASSET_CHART_NAME}\",\n",
    "    template='plotly_dark',\n",
    "    xaxis_rangeslider_visible=False,\n",
    "    hovermode='x unified',  # or 'x unified' or 'closest',\n",
    "\n",
    "    spikedistance=-1,\n",
    "    xaxis=dict(showspikes=True, spikemode='across', spikesnap='cursor', showline=True),\n",
    "    xaxis2=dict(showspikes=True, spikemode='across', spikesnap='cursor'),\n",
    "    xaxis3=dict(showspikes=True, spikemode='across', spikesnap='cursor'),\n",
    "    xaxis4=dict(showspikes=True, spikemode='across', spikesnap='cursor'),\n",
    "\n",
    "    yaxis=dict(showspikes=True, spikemode='across', spikesnap='cursor'),\n",
    "    yaxis2=dict(showspikes=True, spikemode='across', spikesnap='cursor'),\n",
    "    yaxis3=dict(showspikes=True, spikemode='across', spikesnap='cursor'),\n",
    "    yaxis4=dict(showspikes=True, spikemode='across', spikesnap='cursor'),\n",
    ")\n",
    "\n",
    "# Only show x-axis label on bottom chart\n",
    "fig.update_xaxes(title_text='Date', row=4, col=1)\n",
    "\n",
    "# Optional: Customize y-axis titles per row if needed\n",
    "fig.update_yaxes(title_text='Price', row=1, col=1)\n",
    "fig.update_yaxes(title_text='%', row=2, col=1)\n",
    "fig.update_yaxes(title_text='CONTRACT', row=3, col=1)\n",
    "fig.update_yaxes(title_text='CONTRACT', row=4, col=1)\n",
    "\n",
    "# Save as responsive HTML\n",
    "fig.write_html(f\"plots/{ASSET_CHART_NAME.replace(' ', '_').lower()}_cot_analysis.html\", auto_open=False, full_html=True, include_plotlyjs='cdn', config={'responsive': True})\n",
    "fig.show()"
   ]
  }
 ],
 "metadata": {
  "kernelspec": {
   "display_name": "venv",
   "language": "python",
   "name": "python3"
  },
  "language_info": {
   "codemirror_mode": {
    "name": "ipython",
    "version": 3
   },
   "file_extension": ".py",
   "mimetype": "text/x-python",
   "name": "python",
   "nbconvert_exporter": "python",
   "pygments_lexer": "ipython3",
   "version": "3.10.12"
  }
 },
 "nbformat": 4,
 "nbformat_minor": 5
}
