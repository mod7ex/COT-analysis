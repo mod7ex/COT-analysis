{
 "cells": [
  {
   "cell_type": "markdown",
   "id": "bdbbc855",
   "metadata": {},
   "source": [
    "# Getting COT data"
   ]
  },
  {
   "cell_type": "markdown",
   "id": "02f759f5",
   "metadata": {},
   "source": [
    "### Imports"
   ]
  },
  {
   "cell_type": "code",
   "execution_count": 78,
   "id": "a003575d",
   "metadata": {},
   "outputs": [],
   "source": [
    "import pandas as pd\n",
    "from index import cot_all"
   ]
  },
  {
   "cell_type": "code",
   "execution_count": 79,
   "id": "cf7caf2e",
   "metadata": {},
   "outputs": [],
   "source": [
    "test_df = pd.read_csv "
   ]
  },
  {
   "cell_type": "markdown",
   "id": "095f8d10",
   "metadata": {},
   "source": [
    "### COT from 2017 till now"
   ]
  },
  {
   "cell_type": "code",
   "execution_count": 80,
   "id": "e416a14a",
   "metadata": {},
   "outputs": [
    {
     "name": "stdout",
     "output_type": "stream",
     "text": [
      "used cached file legacy_fut.csv under the directory: /home/mod7ex/cot-py/data\n"
     ]
    }
   ],
   "source": [
    "all_df = cot_all()"
   ]
  },
  {
   "cell_type": "markdown",
   "id": "607ee59f",
   "metadata": {},
   "source": [
    "### All COT data"
   ]
  },
  {
   "cell_type": "code",
   "execution_count": 81,
   "id": "620834c3",
   "metadata": {},
   "outputs": [
    {
     "data": {
      "text/html": [
       "<div>\n",
       "<style scoped>\n",
       "    .dataframe tbody tr th:only-of-type {\n",
       "        vertical-align: middle;\n",
       "    }\n",
       "\n",
       "    .dataframe tbody tr th {\n",
       "        vertical-align: top;\n",
       "    }\n",
       "\n",
       "    .dataframe thead th {\n",
       "        text-align: right;\n",
       "    }\n",
       "</style>\n",
       "<table border=\"1\" class=\"dataframe\">\n",
       "  <thead>\n",
       "    <tr style=\"text-align: right;\">\n",
       "      <th></th>\n",
       "      <th>Market and Exchange Names</th>\n",
       "      <th>As of Date in Form YYMMDD</th>\n",
       "      <th>CFTC Contract Market Code</th>\n",
       "      <th>CFTC Market Code in Initials</th>\n",
       "      <th>CFTC Region Code</th>\n",
       "      <th>CFTC Commodity Code</th>\n",
       "      <th>Open Interest (All)</th>\n",
       "      <th>Noncommercial Positions-Long (All)</th>\n",
       "      <th>Noncommercial Positions-Short (All)</th>\n",
       "      <th>Noncommercial Positions-Spreading (All)</th>\n",
       "      <th>...</th>\n",
       "      <th>Concentration-Gross LT =8 TDR-Long (Other)</th>\n",
       "      <th>Concentration-Gross LT =8 TDR-Short(Other)</th>\n",
       "      <th>Concentration-Net LT =4 TDR-Long (Other)</th>\n",
       "      <th>Concentration-Net LT =4 TDR-Short (Other)</th>\n",
       "      <th>Concentration-Net LT =8 TDR-Long (Other)</th>\n",
       "      <th>Concentration-Net LT =8 TDR-Short (Other)</th>\n",
       "      <th>Contract Units</th>\n",
       "      <th>CFTC Contract Market Code (Quotes)</th>\n",
       "      <th>CFTC Market Code in Initials (Quotes)</th>\n",
       "      <th>CFTC Commodity Code (Quotes)</th>\n",
       "    </tr>\n",
       "    <tr>\n",
       "      <th>Date</th>\n",
       "      <th></th>\n",
       "      <th></th>\n",
       "      <th></th>\n",
       "      <th></th>\n",
       "      <th></th>\n",
       "      <th></th>\n",
       "      <th></th>\n",
       "      <th></th>\n",
       "      <th></th>\n",
       "      <th></th>\n",
       "      <th></th>\n",
       "      <th></th>\n",
       "      <th></th>\n",
       "      <th></th>\n",
       "      <th></th>\n",
       "      <th></th>\n",
       "      <th></th>\n",
       "      <th></th>\n",
       "      <th></th>\n",
       "      <th></th>\n",
       "      <th></th>\n",
       "    </tr>\n",
       "  </thead>\n",
       "  <tbody>\n",
       "    <tr>\n",
       "      <th>1986-01-15</th>\n",
       "      <td>CRUDE OIL, LIGHT 'SWEET' - NEW YORK MERCANTILE...</td>\n",
       "      <td>860115</td>\n",
       "      <td>067651</td>\n",
       "      <td>NYME</td>\n",
       "      <td>1</td>\n",
       "      <td>67</td>\n",
       "      <td>74334</td>\n",
       "      <td>2560</td>\n",
       "      <td>11594</td>\n",
       "      <td>5317</td>\n",
       "      <td>...</td>\n",
       "      <td>0.0</td>\n",
       "      <td>69.8</td>\n",
       "      <td>0.0</td>\n",
       "      <td>69.8</td>\n",
       "      <td>0.0</td>\n",
       "      <td>69.8</td>\n",
       "      <td>(CONTRACTS OF 1,000 BARRELS)</td>\n",
       "      <td>067651</td>\n",
       "      <td>NYME</td>\n",
       "      <td>67</td>\n",
       "    </tr>\n",
       "    <tr>\n",
       "      <th>1986-01-15</th>\n",
       "      <td>CORN - CHICAGO BOARD OF TRADE</td>\n",
       "      <td>860115</td>\n",
       "      <td>002601</td>\n",
       "      <td>CBT</td>\n",
       "      <td>0</td>\n",
       "      <td>2</td>\n",
       "      <td>601935</td>\n",
       "      <td>45615</td>\n",
       "      <td>16565</td>\n",
       "      <td>28015</td>\n",
       "      <td>...</td>\n",
       "      <td>46.7</td>\n",
       "      <td>21.6</td>\n",
       "      <td>35.3</td>\n",
       "      <td>12.2</td>\n",
       "      <td>44.8</td>\n",
       "      <td>18.6</td>\n",
       "      <td>(THOUSAND BUSHELS)</td>\n",
       "      <td>002601</td>\n",
       "      <td>CBT</td>\n",
       "      <td>2</td>\n",
       "    </tr>\n",
       "    <tr>\n",
       "      <th>1986-01-15</th>\n",
       "      <td>LIVE CATTLE - CHICAGO MERCANTILE EXCHANGE</td>\n",
       "      <td>860115</td>\n",
       "      <td>057642</td>\n",
       "      <td>CME</td>\n",
       "      <td>0</td>\n",
       "      <td>57</td>\n",
       "      <td>58475</td>\n",
       "      <td>3475</td>\n",
       "      <td>4915</td>\n",
       "      <td>3842</td>\n",
       "      <td>...</td>\n",
       "      <td>0.0</td>\n",
       "      <td>0.0</td>\n",
       "      <td>0.0</td>\n",
       "      <td>0.0</td>\n",
       "      <td>0.0</td>\n",
       "      <td>0.0</td>\n",
       "      <td>(CONTRACTS OF 40,000 POUNDS)</td>\n",
       "      <td>057642</td>\n",
       "      <td>CME</td>\n",
       "      <td>57</td>\n",
       "    </tr>\n",
       "    <tr>\n",
       "      <th>1986-01-15</th>\n",
       "      <td>SOYBEAN MEAL - CHICAGO BOARD OF TRADE</td>\n",
       "      <td>860115</td>\n",
       "      <td>026603</td>\n",
       "      <td>CBT</td>\n",
       "      <td>0</td>\n",
       "      <td>26</td>\n",
       "      <td>46028</td>\n",
       "      <td>7292</td>\n",
       "      <td>689</td>\n",
       "      <td>1780</td>\n",
       "      <td>...</td>\n",
       "      <td>27.2</td>\n",
       "      <td>47.5</td>\n",
       "      <td>16.6</td>\n",
       "      <td>36.9</td>\n",
       "      <td>16.6</td>\n",
       "      <td>36.9</td>\n",
       "      <td>(CONTRACTS OF 100 TONS)</td>\n",
       "      <td>026603</td>\n",
       "      <td>CBT</td>\n",
       "      <td>26</td>\n",
       "    </tr>\n",
       "    <tr>\n",
       "      <th>1986-01-15</th>\n",
       "      <td>PROPANE GAS - PETROLEUM ASSOC OF N Y COTTON EXCH.</td>\n",
       "      <td>860115</td>\n",
       "      <td>066752</td>\n",
       "      <td>PANY</td>\n",
       "      <td>1</td>\n",
       "      <td>66</td>\n",
       "      <td>303</td>\n",
       "      <td>0</td>\n",
       "      <td>0</td>\n",
       "      <td>0</td>\n",
       "      <td>...</td>\n",
       "      <td>0.0</td>\n",
       "      <td>0.0</td>\n",
       "      <td>0.0</td>\n",
       "      <td>0.0</td>\n",
       "      <td>0.0</td>\n",
       "      <td>0.0</td>\n",
       "      <td>(CONTRACTS OF 42,000 U.S. GALLONS)</td>\n",
       "      <td>066752</td>\n",
       "      <td>PANY</td>\n",
       "      <td>66</td>\n",
       "    </tr>\n",
       "  </tbody>\n",
       "</table>\n",
       "<p>5 rows × 128 columns</p>\n",
       "</div>"
      ],
      "text/plain": [
       "                                    Market and Exchange Names  \\\n",
       "Date                                                            \n",
       "1986-01-15  CRUDE OIL, LIGHT 'SWEET' - NEW YORK MERCANTILE...   \n",
       "1986-01-15                      CORN - CHICAGO BOARD OF TRADE   \n",
       "1986-01-15          LIVE CATTLE - CHICAGO MERCANTILE EXCHANGE   \n",
       "1986-01-15              SOYBEAN MEAL - CHICAGO BOARD OF TRADE   \n",
       "1986-01-15  PROPANE GAS - PETROLEUM ASSOC OF N Y COTTON EXCH.   \n",
       "\n",
       "            As of Date in Form YYMMDD CFTC Contract Market Code  \\\n",
       "Date                                                              \n",
       "1986-01-15                     860115                    067651   \n",
       "1986-01-15                     860115                    002601   \n",
       "1986-01-15                     860115                    057642   \n",
       "1986-01-15                     860115                    026603   \n",
       "1986-01-15                     860115                    066752   \n",
       "\n",
       "           CFTC Market Code in Initials  CFTC Region Code  \\\n",
       "Date                                                        \n",
       "1986-01-15                         NYME                 1   \n",
       "1986-01-15                          CBT                 0   \n",
       "1986-01-15                          CME                 0   \n",
       "1986-01-15                          CBT                 0   \n",
       "1986-01-15                         PANY                 1   \n",
       "\n",
       "            CFTC Commodity Code  Open Interest (All)  \\\n",
       "Date                                                   \n",
       "1986-01-15                   67                74334   \n",
       "1986-01-15                    2               601935   \n",
       "1986-01-15                   57                58475   \n",
       "1986-01-15                   26                46028   \n",
       "1986-01-15                   66                  303   \n",
       "\n",
       "            Noncommercial Positions-Long (All)  \\\n",
       "Date                                             \n",
       "1986-01-15                                2560   \n",
       "1986-01-15                               45615   \n",
       "1986-01-15                                3475   \n",
       "1986-01-15                                7292   \n",
       "1986-01-15                                   0   \n",
       "\n",
       "            Noncommercial Positions-Short (All)  \\\n",
       "Date                                              \n",
       "1986-01-15                                11594   \n",
       "1986-01-15                                16565   \n",
       "1986-01-15                                 4915   \n",
       "1986-01-15                                  689   \n",
       "1986-01-15                                    0   \n",
       "\n",
       "            Noncommercial Positions-Spreading (All)  ...  \\\n",
       "Date                                                 ...   \n",
       "1986-01-15                                     5317  ...   \n",
       "1986-01-15                                    28015  ...   \n",
       "1986-01-15                                     3842  ...   \n",
       "1986-01-15                                     1780  ...   \n",
       "1986-01-15                                        0  ...   \n",
       "\n",
       "            Concentration-Gross LT =8 TDR-Long (Other)  \\\n",
       "Date                                                     \n",
       "1986-01-15                                         0.0   \n",
       "1986-01-15                                        46.7   \n",
       "1986-01-15                                         0.0   \n",
       "1986-01-15                                        27.2   \n",
       "1986-01-15                                         0.0   \n",
       "\n",
       "            Concentration-Gross LT =8 TDR-Short(Other)  \\\n",
       "Date                                                     \n",
       "1986-01-15                                        69.8   \n",
       "1986-01-15                                        21.6   \n",
       "1986-01-15                                         0.0   \n",
       "1986-01-15                                        47.5   \n",
       "1986-01-15                                         0.0   \n",
       "\n",
       "            Concentration-Net LT =4 TDR-Long (Other)  \\\n",
       "Date                                                   \n",
       "1986-01-15                                       0.0   \n",
       "1986-01-15                                      35.3   \n",
       "1986-01-15                                       0.0   \n",
       "1986-01-15                                      16.6   \n",
       "1986-01-15                                       0.0   \n",
       "\n",
       "            Concentration-Net LT =4 TDR-Short (Other)  \\\n",
       "Date                                                    \n",
       "1986-01-15                                       69.8   \n",
       "1986-01-15                                       12.2   \n",
       "1986-01-15                                        0.0   \n",
       "1986-01-15                                       36.9   \n",
       "1986-01-15                                        0.0   \n",
       "\n",
       "            Concentration-Net LT =8 TDR-Long (Other)  \\\n",
       "Date                                                   \n",
       "1986-01-15                                       0.0   \n",
       "1986-01-15                                      44.8   \n",
       "1986-01-15                                       0.0   \n",
       "1986-01-15                                      16.6   \n",
       "1986-01-15                                       0.0   \n",
       "\n",
       "            Concentration-Net LT =8 TDR-Short (Other)  \\\n",
       "Date                                                    \n",
       "1986-01-15                                       69.8   \n",
       "1986-01-15                                       18.6   \n",
       "1986-01-15                                        0.0   \n",
       "1986-01-15                                       36.9   \n",
       "1986-01-15                                        0.0   \n",
       "\n",
       "                                Contract Units  \\\n",
       "Date                                             \n",
       "1986-01-15        (CONTRACTS OF 1,000 BARRELS)   \n",
       "1986-01-15                  (THOUSAND BUSHELS)   \n",
       "1986-01-15        (CONTRACTS OF 40,000 POUNDS)   \n",
       "1986-01-15             (CONTRACTS OF 100 TONS)   \n",
       "1986-01-15  (CONTRACTS OF 42,000 U.S. GALLONS)   \n",
       "\n",
       "            CFTC Contract Market Code (Quotes)  \\\n",
       "Date                                             \n",
       "1986-01-15                              067651   \n",
       "1986-01-15                              002601   \n",
       "1986-01-15                              057642   \n",
       "1986-01-15                              026603   \n",
       "1986-01-15                              066752   \n",
       "\n",
       "            CFTC Market Code in Initials (Quotes)  \\\n",
       "Date                                                \n",
       "1986-01-15                                   NYME   \n",
       "1986-01-15                                    CBT   \n",
       "1986-01-15                                    CME   \n",
       "1986-01-15                                    CBT   \n",
       "1986-01-15                                   PANY   \n",
       "\n",
       "            CFTC Commodity Code (Quotes)  \n",
       "Date                                      \n",
       "1986-01-15                            67  \n",
       "1986-01-15                             2  \n",
       "1986-01-15                            57  \n",
       "1986-01-15                            26  \n",
       "1986-01-15                            66  \n",
       "\n",
       "[5 rows x 128 columns]"
      ]
     },
     "execution_count": 81,
     "metadata": {},
     "output_type": "execute_result"
    }
   ],
   "source": [
    "all_df = all_df.rename(columns={'As of Date in Form YYYY-MM-DD': 'Date'})\n",
    "\n",
    "all_df['Date'] = pd.to_datetime(all_df['Date'])\n",
    "\n",
    "all_df.set_index('Date', inplace=True)\n",
    "\n",
    "all_df.sort_index(inplace=True)\n",
    "\n",
    "all_df.head()"
   ]
  },
  {
   "cell_type": "markdown",
   "id": "ff0fbdac",
   "metadata": {},
   "source": [
    "## Filter the asset"
   ]
  },
  {
   "cell_type": "code",
   "execution_count": null,
   "id": "d209af71",
   "metadata": {},
   "outputs": [],
   "source": [
    "ASSET_CODE = '088691'\n",
    "\n",
    "asset_df = all_df[all_df['CFTC Contract Market Code'] == ASSET_CODE]\n",
    "asset_df = asset_df[asset_df.index > '2020']"
   ]
  },
  {
   "cell_type": "code",
   "execution_count": null,
   "id": "ccc8f55a",
   "metadata": {},
   "outputs": [],
   "source": [
    "# all_df[(all_df['Open Interest (Other)']!= 0) & (all_df['CFTC Contract Market Code'] == ASSET_CODE)]"
   ]
  },
  {
   "cell_type": "markdown",
   "id": "75843a3b",
   "metadata": {},
   "source": [
    "## COT index"
   ]
  },
  {
   "cell_type": "code",
   "execution_count": 85,
   "id": "6e3287ef",
   "metadata": {},
   "outputs": [
    {
     "data": {
      "text/html": [
       "<div>\n",
       "<style scoped>\n",
       "    .dataframe tbody tr th:only-of-type {\n",
       "        vertical-align: middle;\n",
       "    }\n",
       "\n",
       "    .dataframe tbody tr th {\n",
       "        vertical-align: top;\n",
       "    }\n",
       "\n",
       "    .dataframe thead th {\n",
       "        text-align: right;\n",
       "    }\n",
       "</style>\n",
       "<table border=\"1\" class=\"dataframe\">\n",
       "  <thead>\n",
       "    <tr style=\"text-align: right;\">\n",
       "      <th></th>\n",
       "      <th>Long</th>\n",
       "      <th>Short</th>\n",
       "      <th>Net Position</th>\n",
       "    </tr>\n",
       "    <tr>\n",
       "      <th>Date</th>\n",
       "      <th></th>\n",
       "      <th></th>\n",
       "      <th></th>\n",
       "    </tr>\n",
       "  </thead>\n",
       "  <tbody>\n",
       "    <tr>\n",
       "      <th>2020-01-07</th>\n",
       "      <td>202452</td>\n",
       "      <td>558533</td>\n",
       "      <td>-356081</td>\n",
       "    </tr>\n",
       "    <tr>\n",
       "      <th>2020-01-14</th>\n",
       "      <td>221358</td>\n",
       "      <td>571177</td>\n",
       "      <td>-349819</td>\n",
       "    </tr>\n",
       "    <tr>\n",
       "      <th>2020-01-21</th>\n",
       "      <td>212445</td>\n",
       "      <td>564348</td>\n",
       "      <td>-351903</td>\n",
       "    </tr>\n",
       "    <tr>\n",
       "      <th>2020-01-28</th>\n",
       "      <td>192300</td>\n",
       "      <td>553114</td>\n",
       "      <td>-360814</td>\n",
       "    </tr>\n",
       "    <tr>\n",
       "      <th>2020-02-04</th>\n",
       "      <td>176786</td>\n",
       "      <td>508473</td>\n",
       "      <td>-331687</td>\n",
       "    </tr>\n",
       "    <tr>\n",
       "      <th>...</th>\n",
       "      <td>...</td>\n",
       "      <td>...</td>\n",
       "      <td>...</td>\n",
       "    </tr>\n",
       "    <tr>\n",
       "      <th>2025-06-17</th>\n",
       "      <td>71684</td>\n",
       "      <td>309411</td>\n",
       "      <td>-237727</td>\n",
       "    </tr>\n",
       "    <tr>\n",
       "      <th>2025-06-24</th>\n",
       "      <td>73323</td>\n",
       "      <td>303883</td>\n",
       "      <td>-230560</td>\n",
       "    </tr>\n",
       "    <tr>\n",
       "      <th>2025-07-01</th>\n",
       "      <td>68820</td>\n",
       "      <td>304889</td>\n",
       "      <td>-236069</td>\n",
       "    </tr>\n",
       "    <tr>\n",
       "      <th>2025-07-08</th>\n",
       "      <td>71875</td>\n",
       "      <td>310229</td>\n",
       "      <td>-238354</td>\n",
       "    </tr>\n",
       "    <tr>\n",
       "      <th>2025-07-15</th>\n",
       "      <td>75989</td>\n",
       "      <td>326677</td>\n",
       "      <td>-250688</td>\n",
       "    </tr>\n",
       "  </tbody>\n",
       "</table>\n",
       "<p>289 rows × 3 columns</p>\n",
       "</div>"
      ],
      "text/plain": [
       "              Long   Short  Net Position\n",
       "Date                                    \n",
       "2020-01-07  202452  558533       -356081\n",
       "2020-01-14  221358  571177       -349819\n",
       "2020-01-21  212445  564348       -351903\n",
       "2020-01-28  192300  553114       -360814\n",
       "2020-02-04  176786  508473       -331687\n",
       "...            ...     ...           ...\n",
       "2025-06-17   71684  309411       -237727\n",
       "2025-06-24   73323  303883       -230560\n",
       "2025-07-01   68820  304889       -236069\n",
       "2025-07-08   71875  310229       -238354\n",
       "2025-07-15   75989  326677       -250688\n",
       "\n",
       "[289 rows x 3 columns]"
      ]
     },
     "execution_count": 85,
     "metadata": {},
     "output_type": "execute_result"
    }
   ],
   "source": [
    "commercials_df = asset_df[['Commercial Positions-Long (All)', 'Commercial Positions-Short (All)']].copy()\n",
    "\n",
    "commercials_df.columns = ['Long', 'Short']\n",
    "\n",
    "commercials_df['Net Position'] = commercials_df['Long'] - commercials_df['Short']\n",
    "\n",
    "commercials_df"
   ]
  },
  {
   "cell_type": "markdown",
   "id": "940b68cb",
   "metadata": {},
   "source": [
    "## COT Index Formula\n",
    "\n",
    "The Commitments of Traders (COT) Index is calculated as:\n",
    "\n",
    "$$\n",
    "\\text{COT Index} = \\left( \\frac{P_{\\text{current}} - P_{\\min}}{P_{\\max} - P_{\\min}} \\right) \\times 100\n",
    "$$\n",
    "\n",
    "Where:\n",
    "\n",
    "$ P_{\\text{current}} $: Current Net Position <br>\n",
    "$ P_{\\min} $: Lowest Net Position in the past  N  period <br>\n",
    "$ P_{\\max} $: Highest Net Position in the past  N  periods <br>\n",
    "$ N $: Number of periods used in the lookback window\n"
   ]
  },
  {
   "cell_type": "markdown",
   "id": "4474cc75",
   "metadata": {},
   "source": [
    "| Strategy                         | Recommended COT Index Period | Notes                                                           |\n",
    "| -------------------------------- | ---------------------------- | --------------------------------------------------------------- |\n",
    "| **Swing Trading**                | **26 weeks** (6 months)      | Most popular. Balances short-term moves and sentiment extremes. |\n",
    "| **Position Trading / Long-Term** | **52 weeks** (1 year)        | Captures major sentiment extremes and long-term reversals.      |\n",
    "| **Short-Term Trading**           | **13 weeks** (3 months)      | More sensitive to recent changes, but can be noisy.             |\n",
    "| **Contrarian Approach**          | Use 26–52 weeks              | To spot positioning at sentiment extremes (close to 0 or 100).  |\n"
   ]
  },
  {
   "cell_type": "code",
   "execution_count": 86,
   "id": "52e7f441",
   "metadata": {},
   "outputs": [
    {
     "data": {
      "text/html": [
       "<div>\n",
       "<style scoped>\n",
       "    .dataframe tbody tr th:only-of-type {\n",
       "        vertical-align: middle;\n",
       "    }\n",
       "\n",
       "    .dataframe tbody tr th {\n",
       "        vertical-align: top;\n",
       "    }\n",
       "\n",
       "    .dataframe thead th {\n",
       "        text-align: right;\n",
       "    }\n",
       "</style>\n",
       "<table border=\"1\" class=\"dataframe\">\n",
       "  <thead>\n",
       "    <tr style=\"text-align: right;\">\n",
       "      <th></th>\n",
       "      <th>Long</th>\n",
       "      <th>Short</th>\n",
       "      <th>Net Position</th>\n",
       "      <th>Max_Net_Position_Last_N</th>\n",
       "      <th>Min_Net_Position_Last_N</th>\n",
       "      <th>Index</th>\n",
       "    </tr>\n",
       "    <tr>\n",
       "      <th>Date</th>\n",
       "      <th></th>\n",
       "      <th></th>\n",
       "      <th></th>\n",
       "      <th></th>\n",
       "      <th></th>\n",
       "      <th></th>\n",
       "    </tr>\n",
       "  </thead>\n",
       "  <tbody>\n",
       "    <tr>\n",
       "      <th>2020-06-30</th>\n",
       "      <td>116697</td>\n",
       "      <td>418160</td>\n",
       "      <td>-301463</td>\n",
       "      <td>-243457.0</td>\n",
       "      <td>-385612.0</td>\n",
       "      <td>59.195245</td>\n",
       "    </tr>\n",
       "    <tr>\n",
       "      <th>2020-07-07</th>\n",
       "      <td>118424</td>\n",
       "      <td>421016</td>\n",
       "      <td>-302592</td>\n",
       "      <td>-243457.0</td>\n",
       "      <td>-385612.0</td>\n",
       "      <td>58.401041</td>\n",
       "    </tr>\n",
       "    <tr>\n",
       "      <th>2020-07-14</th>\n",
       "      <td>125909</td>\n",
       "      <td>427927</td>\n",
       "      <td>-302018</td>\n",
       "      <td>-243457.0</td>\n",
       "      <td>-385612.0</td>\n",
       "      <td>58.804826</td>\n",
       "    </tr>\n",
       "    <tr>\n",
       "      <th>2020-07-21</th>\n",
       "      <td>129690</td>\n",
       "      <td>433549</td>\n",
       "      <td>-303859</td>\n",
       "      <td>-243457.0</td>\n",
       "      <td>-385612.0</td>\n",
       "      <td>57.509760</td>\n",
       "    </tr>\n",
       "    <tr>\n",
       "      <th>2020-07-28</th>\n",
       "      <td>139803</td>\n",
       "      <td>418180</td>\n",
       "      <td>-278377</td>\n",
       "      <td>-243457.0</td>\n",
       "      <td>-385612.0</td>\n",
       "      <td>75.435264</td>\n",
       "    </tr>\n",
       "    <tr>\n",
       "      <th>...</th>\n",
       "      <td>...</td>\n",
       "      <td>...</td>\n",
       "      <td>...</td>\n",
       "      <td>...</td>\n",
       "      <td>...</td>\n",
       "      <td>...</td>\n",
       "    </tr>\n",
       "    <tr>\n",
       "      <th>2025-06-17</th>\n",
       "      <td>71684</td>\n",
       "      <td>309411</td>\n",
       "      <td>-237727</td>\n",
       "      <td>-190761.0</td>\n",
       "      <td>-328175.0</td>\n",
       "      <td>65.821532</td>\n",
       "    </tr>\n",
       "    <tr>\n",
       "      <th>2025-06-24</th>\n",
       "      <td>73323</td>\n",
       "      <td>303883</td>\n",
       "      <td>-230560</td>\n",
       "      <td>-190761.0</td>\n",
       "      <td>-328175.0</td>\n",
       "      <td>71.037158</td>\n",
       "    </tr>\n",
       "    <tr>\n",
       "      <th>2025-07-01</th>\n",
       "      <td>68820</td>\n",
       "      <td>304889</td>\n",
       "      <td>-236069</td>\n",
       "      <td>-190761.0</td>\n",
       "      <td>-328175.0</td>\n",
       "      <td>67.028105</td>\n",
       "    </tr>\n",
       "    <tr>\n",
       "      <th>2025-07-08</th>\n",
       "      <td>71875</td>\n",
       "      <td>310229</td>\n",
       "      <td>-238354</td>\n",
       "      <td>-190761.0</td>\n",
       "      <td>-328175.0</td>\n",
       "      <td>65.365247</td>\n",
       "    </tr>\n",
       "    <tr>\n",
       "      <th>2025-07-15</th>\n",
       "      <td>75989</td>\n",
       "      <td>326677</td>\n",
       "      <td>-250688</td>\n",
       "      <td>-190761.0</td>\n",
       "      <td>-328175.0</td>\n",
       "      <td>56.389451</td>\n",
       "    </tr>\n",
       "  </tbody>\n",
       "</table>\n",
       "<p>264 rows × 6 columns</p>\n",
       "</div>"
      ],
      "text/plain": [
       "              Long   Short  Net Position  Max_Net_Position_Last_N  \\\n",
       "Date                                                                \n",
       "2020-06-30  116697  418160       -301463                -243457.0   \n",
       "2020-07-07  118424  421016       -302592                -243457.0   \n",
       "2020-07-14  125909  427927       -302018                -243457.0   \n",
       "2020-07-21  129690  433549       -303859                -243457.0   \n",
       "2020-07-28  139803  418180       -278377                -243457.0   \n",
       "...            ...     ...           ...                      ...   \n",
       "2025-06-17   71684  309411       -237727                -190761.0   \n",
       "2025-06-24   73323  303883       -230560                -190761.0   \n",
       "2025-07-01   68820  304889       -236069                -190761.0   \n",
       "2025-07-08   71875  310229       -238354                -190761.0   \n",
       "2025-07-15   75989  326677       -250688                -190761.0   \n",
       "\n",
       "            Min_Net_Position_Last_N      Index  \n",
       "Date                                            \n",
       "2020-06-30                -385612.0  59.195245  \n",
       "2020-07-07                -385612.0  58.401041  \n",
       "2020-07-14                -385612.0  58.804826  \n",
       "2020-07-21                -385612.0  57.509760  \n",
       "2020-07-28                -385612.0  75.435264  \n",
       "...                             ...        ...  \n",
       "2025-06-17                -328175.0  65.821532  \n",
       "2025-06-24                -328175.0  71.037158  \n",
       "2025-07-01                -328175.0  67.028105  \n",
       "2025-07-08                -328175.0  65.365247  \n",
       "2025-07-15                -328175.0  56.389451  \n",
       "\n",
       "[264 rows x 6 columns]"
      ]
     },
     "execution_count": 86,
     "metadata": {},
     "output_type": "execute_result"
    }
   ],
   "source": [
    "window = 26 # Rolling window for the last N weeks\n",
    "\n",
    "commercials_df['Max_Net_Position_Last_N'] = commercials_df['Net Position'].rolling(window=window).max()\n",
    "\n",
    "commercials_df['Min_Net_Position_Last_N'] = commercials_df['Net Position'].rolling(window=window).min()\n",
    "\n",
    "commercials_df.dropna(inplace=True)\n",
    "\n",
    "commercials_df['Index'] = 100 * (commercials_df['Net Position'] - commercials_df['Min_Net_Position_Last_N'])/(commercials_df['Max_Net_Position_Last_N'] - commercials_df['Min_Net_Position_Last_N'])\n",
    "\n",
    "commercials_df"
   ]
  },
  {
   "cell_type": "markdown",
   "id": "0b379280",
   "metadata": {},
   "source": [
    "### Plotting COT index"
   ]
  },
  {
   "cell_type": "code",
   "execution_count": 87,
   "id": "2a890404",
   "metadata": {},
   "outputs": [
    {
     "data": {
      "application/vnd.plotly.v1+json": {
       "config": {
        "plotlyServerURL": "https://plot.ly"
       },
       "data": [
        {
         "hovertemplate": "Date=%{x}<br>Index=%{y}<extra></extra>",
         "legendgroup": "",
         "line": {
          "color": "#636efa",
          "dash": "solid"
         },
         "marker": {
          "symbol": "circle"
         },
         "mode": "lines+markers",
         "name": "",
         "orientation": "v",
         "showlegend": false,
         "type": "scatter",
         "x": [
          "2020-06-30T00:00:00.000000000",
          "2020-07-07T00:00:00.000000000",
          "2020-07-14T00:00:00.000000000",
          "2020-07-21T00:00:00.000000000",
          "2020-07-28T00:00:00.000000000",
          "2020-08-04T00:00:00.000000000",
          "2020-08-11T00:00:00.000000000",
          "2020-08-18T00:00:00.000000000",
          "2020-08-25T00:00:00.000000000",
          "2020-09-01T00:00:00.000000000",
          "2020-09-08T00:00:00.000000000",
          "2020-09-15T00:00:00.000000000",
          "2020-09-22T00:00:00.000000000",
          "2020-09-29T00:00:00.000000000",
          "2020-10-06T00:00:00.000000000",
          "2020-10-13T00:00:00.000000000",
          "2020-10-20T00:00:00.000000000",
          "2020-10-27T00:00:00.000000000",
          "2020-11-03T00:00:00.000000000",
          "2020-11-10T00:00:00.000000000",
          "2020-11-17T00:00:00.000000000",
          "2020-11-24T00:00:00.000000000",
          "2020-12-01T00:00:00.000000000",
          "2020-12-08T00:00:00.000000000",
          "2020-12-15T00:00:00.000000000",
          "2020-12-21T00:00:00.000000000",
          "2020-12-29T00:00:00.000000000",
          "2021-01-05T00:00:00.000000000",
          "2021-01-12T00:00:00.000000000",
          "2021-01-19T00:00:00.000000000",
          "2021-01-26T00:00:00.000000000",
          "2021-02-02T00:00:00.000000000",
          "2021-02-09T00:00:00.000000000",
          "2021-02-16T00:00:00.000000000",
          "2021-02-23T00:00:00.000000000",
          "2021-03-02T00:00:00.000000000",
          "2021-03-09T00:00:00.000000000",
          "2021-03-16T00:00:00.000000000",
          "2021-03-23T00:00:00.000000000",
          "2021-03-30T00:00:00.000000000",
          "2021-04-06T00:00:00.000000000",
          "2021-04-13T00:00:00.000000000",
          "2021-04-20T00:00:00.000000000",
          "2021-04-27T00:00:00.000000000",
          "2021-05-04T00:00:00.000000000",
          "2021-05-11T00:00:00.000000000",
          "2021-05-18T00:00:00.000000000",
          "2021-05-25T00:00:00.000000000",
          "2021-06-01T00:00:00.000000000",
          "2021-06-08T00:00:00.000000000",
          "2021-06-15T00:00:00.000000000",
          "2021-06-22T00:00:00.000000000",
          "2021-06-29T00:00:00.000000000",
          "2021-07-06T00:00:00.000000000",
          "2021-07-13T00:00:00.000000000",
          "2021-07-20T00:00:00.000000000",
          "2021-07-27T00:00:00.000000000",
          "2021-08-03T00:00:00.000000000",
          "2021-08-10T00:00:00.000000000",
          "2021-08-17T00:00:00.000000000",
          "2021-08-24T00:00:00.000000000",
          "2021-08-31T00:00:00.000000000",
          "2021-09-07T00:00:00.000000000",
          "2021-09-14T00:00:00.000000000",
          "2021-09-21T00:00:00.000000000",
          "2021-09-28T00:00:00.000000000",
          "2021-10-05T00:00:00.000000000",
          "2021-10-12T00:00:00.000000000",
          "2021-10-19T00:00:00.000000000",
          "2021-10-26T00:00:00.000000000",
          "2021-11-02T00:00:00.000000000",
          "2021-11-09T00:00:00.000000000",
          "2021-11-16T00:00:00.000000000",
          "2021-11-23T00:00:00.000000000",
          "2021-11-30T00:00:00.000000000",
          "2021-12-07T00:00:00.000000000",
          "2021-12-14T00:00:00.000000000",
          "2021-12-21T00:00:00.000000000",
          "2021-12-28T00:00:00.000000000",
          "2022-01-04T00:00:00.000000000",
          "2022-01-11T00:00:00.000000000",
          "2022-01-18T00:00:00.000000000",
          "2022-01-25T00:00:00.000000000",
          "2022-02-01T00:00:00.000000000",
          "2022-02-08T00:00:00.000000000",
          "2022-02-15T00:00:00.000000000",
          "2022-02-22T00:00:00.000000000",
          "2022-03-01T00:00:00.000000000",
          "2022-03-08T00:00:00.000000000",
          "2022-03-15T00:00:00.000000000",
          "2022-03-22T00:00:00.000000000",
          "2022-03-29T00:00:00.000000000",
          "2022-04-05T00:00:00.000000000",
          "2022-04-12T00:00:00.000000000",
          "2022-04-19T00:00:00.000000000",
          "2022-04-26T00:00:00.000000000",
          "2022-05-03T00:00:00.000000000",
          "2022-05-10T00:00:00.000000000",
          "2022-05-17T00:00:00.000000000",
          "2022-05-24T00:00:00.000000000",
          "2022-05-31T00:00:00.000000000",
          "2022-06-07T00:00:00.000000000",
          "2022-06-14T00:00:00.000000000",
          "2022-06-21T00:00:00.000000000",
          "2022-06-28T00:00:00.000000000",
          "2022-07-05T00:00:00.000000000",
          "2022-07-12T00:00:00.000000000",
          "2022-07-19T00:00:00.000000000",
          "2022-07-26T00:00:00.000000000",
          "2022-08-02T00:00:00.000000000",
          "2022-08-09T00:00:00.000000000",
          "2022-08-16T00:00:00.000000000",
          "2022-08-23T00:00:00.000000000",
          "2022-08-30T00:00:00.000000000",
          "2022-09-06T00:00:00.000000000",
          "2022-09-13T00:00:00.000000000",
          "2022-09-20T00:00:00.000000000",
          "2022-09-27T00:00:00.000000000",
          "2022-10-04T00:00:00.000000000",
          "2022-10-11T00:00:00.000000000",
          "2022-10-18T00:00:00.000000000",
          "2022-10-25T00:00:00.000000000",
          "2022-11-01T00:00:00.000000000",
          "2022-11-08T00:00:00.000000000",
          "2022-11-15T00:00:00.000000000",
          "2022-11-22T00:00:00.000000000",
          "2022-11-29T00:00:00.000000000",
          "2022-12-06T00:00:00.000000000",
          "2022-12-13T00:00:00.000000000",
          "2022-12-20T00:00:00.000000000",
          "2022-12-27T00:00:00.000000000",
          "2023-01-03T00:00:00.000000000",
          "2023-01-10T00:00:00.000000000",
          "2023-01-17T00:00:00.000000000",
          "2023-01-24T00:00:00.000000000",
          "2023-01-31T00:00:00.000000000",
          "2023-02-07T00:00:00.000000000",
          "2023-02-14T00:00:00.000000000",
          "2023-02-21T00:00:00.000000000",
          "2023-02-28T00:00:00.000000000",
          "2023-03-07T00:00:00.000000000",
          "2023-03-14T00:00:00.000000000",
          "2023-03-21T00:00:00.000000000",
          "2023-03-28T00:00:00.000000000",
          "2023-04-04T00:00:00.000000000",
          "2023-04-11T00:00:00.000000000",
          "2023-04-18T00:00:00.000000000",
          "2023-04-25T00:00:00.000000000",
          "2023-05-02T00:00:00.000000000",
          "2023-05-09T00:00:00.000000000",
          "2023-05-16T00:00:00.000000000",
          "2023-05-23T00:00:00.000000000",
          "2023-05-30T00:00:00.000000000",
          "2023-06-06T00:00:00.000000000",
          "2023-06-13T00:00:00.000000000",
          "2023-06-20T00:00:00.000000000",
          "2023-06-27T00:00:00.000000000",
          "2023-07-03T00:00:00.000000000",
          "2023-07-11T00:00:00.000000000",
          "2023-07-18T00:00:00.000000000",
          "2023-07-25T00:00:00.000000000",
          "2023-08-01T00:00:00.000000000",
          "2023-08-08T00:00:00.000000000",
          "2023-08-15T00:00:00.000000000",
          "2023-08-22T00:00:00.000000000",
          "2023-08-29T00:00:00.000000000",
          "2023-09-05T00:00:00.000000000",
          "2023-09-12T00:00:00.000000000",
          "2023-09-19T00:00:00.000000000",
          "2023-09-26T00:00:00.000000000",
          "2023-10-03T00:00:00.000000000",
          "2023-10-10T00:00:00.000000000",
          "2023-10-17T00:00:00.000000000",
          "2023-10-24T00:00:00.000000000",
          "2023-10-31T00:00:00.000000000",
          "2023-11-07T00:00:00.000000000",
          "2023-11-14T00:00:00.000000000",
          "2023-11-21T00:00:00.000000000",
          "2023-11-28T00:00:00.000000000",
          "2023-12-05T00:00:00.000000000",
          "2023-12-12T00:00:00.000000000",
          "2023-12-19T00:00:00.000000000",
          "2023-12-26T00:00:00.000000000",
          "2024-01-02T00:00:00.000000000",
          "2024-01-09T00:00:00.000000000",
          "2024-01-16T00:00:00.000000000",
          "2024-01-23T00:00:00.000000000",
          "2024-01-30T00:00:00.000000000",
          "2024-02-06T00:00:00.000000000",
          "2024-02-13T00:00:00.000000000",
          "2024-02-20T00:00:00.000000000",
          "2024-02-27T00:00:00.000000000",
          "2024-03-05T00:00:00.000000000",
          "2024-03-12T00:00:00.000000000",
          "2024-03-19T00:00:00.000000000",
          "2024-03-26T00:00:00.000000000",
          "2024-04-02T00:00:00.000000000",
          "2024-04-09T00:00:00.000000000",
          "2024-04-16T00:00:00.000000000",
          "2024-04-23T00:00:00.000000000",
          "2024-04-30T00:00:00.000000000",
          "2024-05-07T00:00:00.000000000",
          "2024-05-14T00:00:00.000000000",
          "2024-05-21T00:00:00.000000000",
          "2024-05-28T00:00:00.000000000",
          "2024-06-04T00:00:00.000000000",
          "2024-06-11T00:00:00.000000000",
          "2024-06-18T00:00:00.000000000",
          "2024-06-25T00:00:00.000000000",
          "2024-07-02T00:00:00.000000000",
          "2024-07-09T00:00:00.000000000",
          "2024-07-16T00:00:00.000000000",
          "2024-07-23T00:00:00.000000000",
          "2024-07-30T00:00:00.000000000",
          "2024-08-06T00:00:00.000000000",
          "2024-08-13T00:00:00.000000000",
          "2024-08-20T00:00:00.000000000",
          "2024-08-27T00:00:00.000000000",
          "2024-09-03T00:00:00.000000000",
          "2024-09-10T00:00:00.000000000",
          "2024-09-17T00:00:00.000000000",
          "2024-09-24T00:00:00.000000000",
          "2024-10-01T00:00:00.000000000",
          "2024-10-08T00:00:00.000000000",
          "2024-10-15T00:00:00.000000000",
          "2024-10-22T00:00:00.000000000",
          "2024-10-29T00:00:00.000000000",
          "2024-11-05T00:00:00.000000000",
          "2024-11-12T00:00:00.000000000",
          "2024-11-19T00:00:00.000000000",
          "2024-11-26T00:00:00.000000000",
          "2024-12-03T00:00:00.000000000",
          "2024-12-10T00:00:00.000000000",
          "2024-12-17T00:00:00.000000000",
          "2024-12-24T00:00:00.000000000",
          "2024-12-31T00:00:00.000000000",
          "2025-01-07T00:00:00.000000000",
          "2025-01-14T00:00:00.000000000",
          "2025-01-21T00:00:00.000000000",
          "2025-01-28T00:00:00.000000000",
          "2025-02-04T00:00:00.000000000",
          "2025-02-11T00:00:00.000000000",
          "2025-02-18T00:00:00.000000000",
          "2025-02-25T00:00:00.000000000",
          "2025-03-04T00:00:00.000000000",
          "2025-03-11T00:00:00.000000000",
          "2025-03-18T00:00:00.000000000",
          "2025-03-25T00:00:00.000000000",
          "2025-04-01T00:00:00.000000000",
          "2025-04-08T00:00:00.000000000",
          "2025-04-15T00:00:00.000000000",
          "2025-04-22T00:00:00.000000000",
          "2025-04-29T00:00:00.000000000",
          "2025-05-06T00:00:00.000000000",
          "2025-05-13T00:00:00.000000000",
          "2025-05-20T00:00:00.000000000",
          "2025-05-27T00:00:00.000000000",
          "2025-06-03T00:00:00.000000000",
          "2025-06-10T00:00:00.000000000",
          "2025-06-17T00:00:00.000000000",
          "2025-06-24T00:00:00.000000000",
          "2025-07-01T00:00:00.000000000",
          "2025-07-08T00:00:00.000000000",
          "2025-07-15T00:00:00.000000000"
         ],
         "xaxis": "x",
         "y": {
          "bdata": "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",
          "dtype": "f8"
         },
         "yaxis": "y"
        }
       ],
       "layout": {
        "legend": {
         "tracegroupgap": 0
        },
        "shapes": [
         {
          "fillcolor": "green",
          "layer": "below",
          "line": {
           "width": 0
          },
          "opacity": 0.2,
          "type": "rect",
          "x0": 0,
          "x1": 1,
          "xref": "paper",
          "y0": 80,
          "y1": 100,
          "yref": "y"
         },
         {
          "fillcolor": "red",
          "layer": "below",
          "line": {
           "width": 0
          },
          "opacity": 0.2,
          "type": "rect",
          "x0": 0,
          "x1": 1,
          "xref": "paper",
          "y0": 0,
          "y1": 20,
          "yref": "y"
         }
        ],
        "template": {
         "data": {
          "bar": [
           {
            "error_x": {
             "color": "#f2f5fa"
            },
            "error_y": {
             "color": "#f2f5fa"
            },
            "marker": {
             "line": {
              "color": "rgb(17,17,17)",
              "width": 0.5
             },
             "pattern": {
              "fillmode": "overlay",
              "size": 10,
              "solidity": 0.2
             }
            },
            "type": "bar"
           }
          ],
          "barpolar": [
           {
            "marker": {
             "line": {
              "color": "rgb(17,17,17)",
              "width": 0.5
             },
             "pattern": {
              "fillmode": "overlay",
              "size": 10,
              "solidity": 0.2
             }
            },
            "type": "barpolar"
           }
          ],
          "carpet": [
           {
            "aaxis": {
             "endlinecolor": "#A2B1C6",
             "gridcolor": "#506784",
             "linecolor": "#506784",
             "minorgridcolor": "#506784",
             "startlinecolor": "#A2B1C6"
            },
            "baxis": {
             "endlinecolor": "#A2B1C6",
             "gridcolor": "#506784",
             "linecolor": "#506784",
             "minorgridcolor": "#506784",
             "startlinecolor": "#A2B1C6"
            },
            "type": "carpet"
           }
          ],
          "choropleth": [
           {
            "colorbar": {
             "outlinewidth": 0,
             "ticks": ""
            },
            "type": "choropleth"
           }
          ],
          "contour": [
           {
            "colorbar": {
             "outlinewidth": 0,
             "ticks": ""
            },
            "colorscale": [
             [
              0,
              "#0d0887"
             ],
             [
              0.1111111111111111,
              "#46039f"
             ],
             [
              0.2222222222222222,
              "#7201a8"
             ],
             [
              0.3333333333333333,
              "#9c179e"
             ],
             [
              0.4444444444444444,
              "#bd3786"
             ],
             [
              0.5555555555555556,
              "#d8576b"
             ],
             [
              0.6666666666666666,
              "#ed7953"
             ],
             [
              0.7777777777777778,
              "#fb9f3a"
             ],
             [
              0.8888888888888888,
              "#fdca26"
             ],
             [
              1,
              "#f0f921"
             ]
            ],
            "type": "contour"
           }
          ],
          "contourcarpet": [
           {
            "colorbar": {
             "outlinewidth": 0,
             "ticks": ""
            },
            "type": "contourcarpet"
           }
          ],
          "heatmap": [
           {
            "colorbar": {
             "outlinewidth": 0,
             "ticks": ""
            },
            "colorscale": [
             [
              0,
              "#0d0887"
             ],
             [
              0.1111111111111111,
              "#46039f"
             ],
             [
              0.2222222222222222,
              "#7201a8"
             ],
             [
              0.3333333333333333,
              "#9c179e"
             ],
             [
              0.4444444444444444,
              "#bd3786"
             ],
             [
              0.5555555555555556,
              "#d8576b"
             ],
             [
              0.6666666666666666,
              "#ed7953"
             ],
             [
              0.7777777777777778,
              "#fb9f3a"
             ],
             [
              0.8888888888888888,
              "#fdca26"
             ],
             [
              1,
              "#f0f921"
             ]
            ],
            "type": "heatmap"
           }
          ],
          "histogram": [
           {
            "marker": {
             "pattern": {
              "fillmode": "overlay",
              "size": 10,
              "solidity": 0.2
             }
            },
            "type": "histogram"
           }
          ],
          "histogram2d": [
           {
            "colorbar": {
             "outlinewidth": 0,
             "ticks": ""
            },
            "colorscale": [
             [
              0,
              "#0d0887"
             ],
             [
              0.1111111111111111,
              "#46039f"
             ],
             [
              0.2222222222222222,
              "#7201a8"
             ],
             [
              0.3333333333333333,
              "#9c179e"
             ],
             [
              0.4444444444444444,
              "#bd3786"
             ],
             [
              0.5555555555555556,
              "#d8576b"
             ],
             [
              0.6666666666666666,
              "#ed7953"
             ],
             [
              0.7777777777777778,
              "#fb9f3a"
             ],
             [
              0.8888888888888888,
              "#fdca26"
             ],
             [
              1,
              "#f0f921"
             ]
            ],
            "type": "histogram2d"
           }
          ],
          "histogram2dcontour": [
           {
            "colorbar": {
             "outlinewidth": 0,
             "ticks": ""
            },
            "colorscale": [
             [
              0,
              "#0d0887"
             ],
             [
              0.1111111111111111,
              "#46039f"
             ],
             [
              0.2222222222222222,
              "#7201a8"
             ],
             [
              0.3333333333333333,
              "#9c179e"
             ],
             [
              0.4444444444444444,
              "#bd3786"
             ],
             [
              0.5555555555555556,
              "#d8576b"
             ],
             [
              0.6666666666666666,
              "#ed7953"
             ],
             [
              0.7777777777777778,
              "#fb9f3a"
             ],
             [
              0.8888888888888888,
              "#fdca26"
             ],
             [
              1,
              "#f0f921"
             ]
            ],
            "type": "histogram2dcontour"
           }
          ],
          "mesh3d": [
           {
            "colorbar": {
             "outlinewidth": 0,
             "ticks": ""
            },
            "type": "mesh3d"
           }
          ],
          "parcoords": [
           {
            "line": {
             "colorbar": {
              "outlinewidth": 0,
              "ticks": ""
             }
            },
            "type": "parcoords"
           }
          ],
          "pie": [
           {
            "automargin": true,
            "type": "pie"
           }
          ],
          "scatter": [
           {
            "marker": {
             "line": {
              "color": "#283442"
             }
            },
            "type": "scatter"
           }
          ],
          "scatter3d": [
           {
            "line": {
             "colorbar": {
              "outlinewidth": 0,
              "ticks": ""
             }
            },
            "marker": {
             "colorbar": {
              "outlinewidth": 0,
              "ticks": ""
             }
            },
            "type": "scatter3d"
           }
          ],
          "scattercarpet": [
           {
            "marker": {
             "colorbar": {
              "outlinewidth": 0,
              "ticks": ""
             }
            },
            "type": "scattercarpet"
           }
          ],
          "scattergeo": [
           {
            "marker": {
             "colorbar": {
              "outlinewidth": 0,
              "ticks": ""
             }
            },
            "type": "scattergeo"
           }
          ],
          "scattergl": [
           {
            "marker": {
             "line": {
              "color": "#283442"
             }
            },
            "type": "scattergl"
           }
          ],
          "scattermap": [
           {
            "marker": {
             "colorbar": {
              "outlinewidth": 0,
              "ticks": ""
             }
            },
            "type": "scattermap"
           }
          ],
          "scattermapbox": [
           {
            "marker": {
             "colorbar": {
              "outlinewidth": 0,
              "ticks": ""
             }
            },
            "type": "scattermapbox"
           }
          ],
          "scatterpolar": [
           {
            "marker": {
             "colorbar": {
              "outlinewidth": 0,
              "ticks": ""
             }
            },
            "type": "scatterpolar"
           }
          ],
          "scatterpolargl": [
           {
            "marker": {
             "colorbar": {
              "outlinewidth": 0,
              "ticks": ""
             }
            },
            "type": "scatterpolargl"
           }
          ],
          "scatterternary": [
           {
            "marker": {
             "colorbar": {
              "outlinewidth": 0,
              "ticks": ""
             }
            },
            "type": "scatterternary"
           }
          ],
          "surface": [
           {
            "colorbar": {
             "outlinewidth": 0,
             "ticks": ""
            },
            "colorscale": [
             [
              0,
              "#0d0887"
             ],
             [
              0.1111111111111111,
              "#46039f"
             ],
             [
              0.2222222222222222,
              "#7201a8"
             ],
             [
              0.3333333333333333,
              "#9c179e"
             ],
             [
              0.4444444444444444,
              "#bd3786"
             ],
             [
              0.5555555555555556,
              "#d8576b"
             ],
             [
              0.6666666666666666,
              "#ed7953"
             ],
             [
              0.7777777777777778,
              "#fb9f3a"
             ],
             [
              0.8888888888888888,
              "#fdca26"
             ],
             [
              1,
              "#f0f921"
             ]
            ],
            "type": "surface"
           }
          ],
          "table": [
           {
            "cells": {
             "fill": {
              "color": "#506784"
             },
             "line": {
              "color": "rgb(17,17,17)"
             }
            },
            "header": {
             "fill": {
              "color": "#2a3f5f"
             },
             "line": {
              "color": "rgb(17,17,17)"
             }
            },
            "type": "table"
           }
          ]
         },
         "layout": {
          "annotationdefaults": {
           "arrowcolor": "#f2f5fa",
           "arrowhead": 0,
           "arrowwidth": 1
          },
          "autotypenumbers": "strict",
          "coloraxis": {
           "colorbar": {
            "outlinewidth": 0,
            "ticks": ""
           }
          },
          "colorscale": {
           "diverging": [
            [
             0,
             "#8e0152"
            ],
            [
             0.1,
             "#c51b7d"
            ],
            [
             0.2,
             "#de77ae"
            ],
            [
             0.3,
             "#f1b6da"
            ],
            [
             0.4,
             "#fde0ef"
            ],
            [
             0.5,
             "#f7f7f7"
            ],
            [
             0.6,
             "#e6f5d0"
            ],
            [
             0.7,
             "#b8e186"
            ],
            [
             0.8,
             "#7fbc41"
            ],
            [
             0.9,
             "#4d9221"
            ],
            [
             1,
             "#276419"
            ]
           ],
           "sequential": [
            [
             0,
             "#0d0887"
            ],
            [
             0.1111111111111111,
             "#46039f"
            ],
            [
             0.2222222222222222,
             "#7201a8"
            ],
            [
             0.3333333333333333,
             "#9c179e"
            ],
            [
             0.4444444444444444,
             "#bd3786"
            ],
            [
             0.5555555555555556,
             "#d8576b"
            ],
            [
             0.6666666666666666,
             "#ed7953"
            ],
            [
             0.7777777777777778,
             "#fb9f3a"
            ],
            [
             0.8888888888888888,
             "#fdca26"
            ],
            [
             1,
             "#f0f921"
            ]
           ],
           "sequentialminus": [
            [
             0,
             "#0d0887"
            ],
            [
             0.1111111111111111,
             "#46039f"
            ],
            [
             0.2222222222222222,
             "#7201a8"
            ],
            [
             0.3333333333333333,
             "#9c179e"
            ],
            [
             0.4444444444444444,
             "#bd3786"
            ],
            [
             0.5555555555555556,
             "#d8576b"
            ],
            [
             0.6666666666666666,
             "#ed7953"
            ],
            [
             0.7777777777777778,
             "#fb9f3a"
            ],
            [
             0.8888888888888888,
             "#fdca26"
            ],
            [
             1,
             "#f0f921"
            ]
           ]
          },
          "colorway": [
           "#636efa",
           "#EF553B",
           "#00cc96",
           "#ab63fa",
           "#FFA15A",
           "#19d3f3",
           "#FF6692",
           "#B6E880",
           "#FF97FF",
           "#FECB52"
          ],
          "font": {
           "color": "#f2f5fa"
          },
          "geo": {
           "bgcolor": "rgb(17,17,17)",
           "lakecolor": "rgb(17,17,17)",
           "landcolor": "rgb(17,17,17)",
           "showlakes": true,
           "showland": true,
           "subunitcolor": "#506784"
          },
          "hoverlabel": {
           "align": "left"
          },
          "hovermode": "closest",
          "mapbox": {
           "style": "dark"
          },
          "paper_bgcolor": "rgb(17,17,17)",
          "plot_bgcolor": "rgb(17,17,17)",
          "polar": {
           "angularaxis": {
            "gridcolor": "#506784",
            "linecolor": "#506784",
            "ticks": ""
           },
           "bgcolor": "rgb(17,17,17)",
           "radialaxis": {
            "gridcolor": "#506784",
            "linecolor": "#506784",
            "ticks": ""
           }
          },
          "scene": {
           "xaxis": {
            "backgroundcolor": "rgb(17,17,17)",
            "gridcolor": "#506784",
            "gridwidth": 2,
            "linecolor": "#506784",
            "showbackground": true,
            "ticks": "",
            "zerolinecolor": "#C8D4E3"
           },
           "yaxis": {
            "backgroundcolor": "rgb(17,17,17)",
            "gridcolor": "#506784",
            "gridwidth": 2,
            "linecolor": "#506784",
            "showbackground": true,
            "ticks": "",
            "zerolinecolor": "#C8D4E3"
           },
           "zaxis": {
            "backgroundcolor": "rgb(17,17,17)",
            "gridcolor": "#506784",
            "gridwidth": 2,
            "linecolor": "#506784",
            "showbackground": true,
            "ticks": "",
            "zerolinecolor": "#C8D4E3"
           }
          },
          "shapedefaults": {
           "line": {
            "color": "#f2f5fa"
           }
          },
          "sliderdefaults": {
           "bgcolor": "#C8D4E3",
           "bordercolor": "rgb(17,17,17)",
           "borderwidth": 1,
           "tickwidth": 0
          },
          "ternary": {
           "aaxis": {
            "gridcolor": "#506784",
            "linecolor": "#506784",
            "ticks": ""
           },
           "baxis": {
            "gridcolor": "#506784",
            "linecolor": "#506784",
            "ticks": ""
           },
           "bgcolor": "rgb(17,17,17)",
           "caxis": {
            "gridcolor": "#506784",
            "linecolor": "#506784",
            "ticks": ""
           }
          },
          "title": {
           "x": 0.05
          },
          "updatemenudefaults": {
           "bgcolor": "#506784",
           "borderwidth": 0
          },
          "xaxis": {
           "automargin": true,
           "gridcolor": "#283442",
           "linecolor": "#506784",
           "ticks": "",
           "title": {
            "standoff": 15
           },
           "zerolinecolor": "#283442",
           "zerolinewidth": 2
          },
          "yaxis": {
           "automargin": true,
           "gridcolor": "#283442",
           "linecolor": "#506784",
           "ticks": "",
           "title": {
            "standoff": 15
           },
           "zerolinecolor": "#283442",
           "zerolinewidth": 2
          }
         }
        },
        "title": {
         "text": "COT index"
        },
        "xaxis": {
         "anchor": "y",
         "domain": [
          0,
          1
         ],
         "title": {
          "text": "Date"
         }
        },
        "yaxis": {
         "anchor": "x",
         "domain": [
          0,
          1
         ],
         "title": {
          "text": "Index"
         }
        }
       }
      }
     },
     "metadata": {},
     "output_type": "display_data"
    }
   ],
   "source": [
    "import plotly.express as px\n",
    "\n",
    "fig = px.line(commercials_df.reset_index(), x='Date', y='Index', title='COT index', markers=True, template='plotly_dark')\n",
    "\n",
    "# Add green shaded area (e.g. for high index range)\n",
    "fig.add_shape(\n",
    "    type='rect',\n",
    "    xref='paper',  # entire x-axis\n",
    "    yref='y',\n",
    "    x0=0,\n",
    "    x1=1,\n",
    "    y0=80,\n",
    "    y1=100,\n",
    "    fillcolor='green',\n",
    "    opacity=0.2,\n",
    "    line_width=0,\n",
    "    layer='below'\n",
    ")\n",
    "\n",
    "# Add red shaded area (e.g. for low index range)\n",
    "fig.add_shape(\n",
    "    type='rect',\n",
    "    xref='paper',\n",
    "    yref='y',\n",
    "    x0=0,\n",
    "    x1=1,\n",
    "    y0=0,\n",
    "    y1=20,\n",
    "    fillcolor='red',\n",
    "    opacity=0.2,\n",
    "    line_width=0,\n",
    "    layer='below'\n",
    ")\n",
    "\n",
    "fig.write_html(\"plots/commercials_index.html\")\n",
    "fig.show()\n"
   ]
  },
  {
   "cell_type": "markdown",
   "id": "f29edcf2",
   "metadata": {},
   "source": [
    "## Open Interest"
   ]
  },
  {
   "cell_type": "code",
   "execution_count": 88,
   "id": "a7d8f66e",
   "metadata": {},
   "outputs": [
    {
     "data": {
      "text/html": [
       "<div>\n",
       "<style scoped>\n",
       "    .dataframe tbody tr th:only-of-type {\n",
       "        vertical-align: middle;\n",
       "    }\n",
       "\n",
       "    .dataframe tbody tr th {\n",
       "        vertical-align: top;\n",
       "    }\n",
       "\n",
       "    .dataframe thead th {\n",
       "        text-align: right;\n",
       "    }\n",
       "</style>\n",
       "<table border=\"1\" class=\"dataframe\">\n",
       "  <thead>\n",
       "    <tr style=\"text-align: right;\">\n",
       "      <th></th>\n",
       "      <th>OI</th>\n",
       "    </tr>\n",
       "    <tr>\n",
       "      <th>Date</th>\n",
       "      <th></th>\n",
       "    </tr>\n",
       "  </thead>\n",
       "  <tbody>\n",
       "    <tr>\n",
       "      <th>2020-01-07</th>\n",
       "      <td>785857</td>\n",
       "    </tr>\n",
       "    <tr>\n",
       "      <th>2020-01-14</th>\n",
       "      <td>796883</td>\n",
       "    </tr>\n",
       "    <tr>\n",
       "      <th>2020-01-21</th>\n",
       "      <td>793829</td>\n",
       "    </tr>\n",
       "    <tr>\n",
       "      <th>2020-01-28</th>\n",
       "      <td>715539</td>\n",
       "    </tr>\n",
       "    <tr>\n",
       "      <th>2020-02-04</th>\n",
       "      <td>654572</td>\n",
       "    </tr>\n",
       "    <tr>\n",
       "      <th>...</th>\n",
       "      <td>...</td>\n",
       "    </tr>\n",
       "    <tr>\n",
       "      <th>2025-06-17</th>\n",
       "      <td>441214</td>\n",
       "    </tr>\n",
       "    <tr>\n",
       "      <th>2025-06-24</th>\n",
       "      <td>434958</td>\n",
       "    </tr>\n",
       "    <tr>\n",
       "      <th>2025-07-01</th>\n",
       "      <td>437662</td>\n",
       "    </tr>\n",
       "    <tr>\n",
       "      <th>2025-07-08</th>\n",
       "      <td>443144</td>\n",
       "    </tr>\n",
       "    <tr>\n",
       "      <th>2025-07-15</th>\n",
       "      <td>448531</td>\n",
       "    </tr>\n",
       "  </tbody>\n",
       "</table>\n",
       "<p>289 rows × 1 columns</p>\n",
       "</div>"
      ],
      "text/plain": [
       "                OI\n",
       "Date              \n",
       "2020-01-07  785857\n",
       "2020-01-14  796883\n",
       "2020-01-21  793829\n",
       "2020-01-28  715539\n",
       "2020-02-04  654572\n",
       "...            ...\n",
       "2025-06-17  441214\n",
       "2025-06-24  434958\n",
       "2025-07-01  437662\n",
       "2025-07-08  443144\n",
       "2025-07-15  448531\n",
       "\n",
       "[289 rows x 1 columns]"
      ]
     },
     "execution_count": 88,
     "metadata": {},
     "output_type": "execute_result"
    }
   ],
   "source": [
    "oi_df = asset_df[['Open Interest (All)']].copy()\n",
    "\n",
    "oi_df.columns = ['OI']\n",
    "\n",
    "oi_df"
   ]
  },
  {
   "cell_type": "markdown",
   "id": "eff0dff2",
   "metadata": {},
   "source": [
    "### plotting"
   ]
  },
  {
   "cell_type": "code",
   "execution_count": 89,
   "id": "04457523",
   "metadata": {},
   "outputs": [
    {
     "data": {
      "application/vnd.plotly.v1+json": {
       "config": {
        "plotlyServerURL": "https://plot.ly"
       },
       "data": [
        {
         "hovertemplate": "Date=%{x}<br>OI=%{y}<extra></extra>",
         "legendgroup": "",
         "line": {
          "color": "#636efa",
          "dash": "solid"
         },
         "marker": {
          "symbol": "circle"
         },
         "mode": "lines+markers",
         "name": "",
         "orientation": "v",
         "showlegend": false,
         "type": "scatter",
         "x": [
          "2020-01-07T00:00:00.000000000",
          "2020-01-14T00:00:00.000000000",
          "2020-01-21T00:00:00.000000000",
          "2020-01-28T00:00:00.000000000",
          "2020-02-04T00:00:00.000000000",
          "2020-02-11T00:00:00.000000000",
          "2020-02-18T00:00:00.000000000",
          "2020-02-25T00:00:00.000000000",
          "2020-03-03T00:00:00.000000000",
          "2020-03-10T00:00:00.000000000",
          "2020-03-17T00:00:00.000000000",
          "2020-03-24T00:00:00.000000000",
          "2020-03-31T00:00:00.000000000",
          "2020-04-07T00:00:00.000000000",
          "2020-04-14T00:00:00.000000000",
          "2020-04-21T00:00:00.000000000",
          "2020-04-28T00:00:00.000000000",
          "2020-05-05T00:00:00.000000000",
          "2020-05-12T00:00:00.000000000",
          "2020-05-19T00:00:00.000000000",
          "2020-05-26T00:00:00.000000000",
          "2020-06-02T00:00:00.000000000",
          "2020-06-09T00:00:00.000000000",
          "2020-06-16T00:00:00.000000000",
          "2020-06-23T00:00:00.000000000",
          "2020-06-30T00:00:00.000000000",
          "2020-07-07T00:00:00.000000000",
          "2020-07-14T00:00:00.000000000",
          "2020-07-21T00:00:00.000000000",
          "2020-07-28T00:00:00.000000000",
          "2020-08-04T00:00:00.000000000",
          "2020-08-11T00:00:00.000000000",
          "2020-08-18T00:00:00.000000000",
          "2020-08-25T00:00:00.000000000",
          "2020-09-01T00:00:00.000000000",
          "2020-09-08T00:00:00.000000000",
          "2020-09-15T00:00:00.000000000",
          "2020-09-22T00:00:00.000000000",
          "2020-09-29T00:00:00.000000000",
          "2020-10-06T00:00:00.000000000",
          "2020-10-13T00:00:00.000000000",
          "2020-10-20T00:00:00.000000000",
          "2020-10-27T00:00:00.000000000",
          "2020-11-03T00:00:00.000000000",
          "2020-11-10T00:00:00.000000000",
          "2020-11-17T00:00:00.000000000",
          "2020-11-24T00:00:00.000000000",
          "2020-12-01T00:00:00.000000000",
          "2020-12-08T00:00:00.000000000",
          "2020-12-15T00:00:00.000000000",
          "2020-12-21T00:00:00.000000000",
          "2020-12-29T00:00:00.000000000",
          "2021-01-05T00:00:00.000000000",
          "2021-01-12T00:00:00.000000000",
          "2021-01-19T00:00:00.000000000",
          "2021-01-26T00:00:00.000000000",
          "2021-02-02T00:00:00.000000000",
          "2021-02-09T00:00:00.000000000",
          "2021-02-16T00:00:00.000000000",
          "2021-02-23T00:00:00.000000000",
          "2021-03-02T00:00:00.000000000",
          "2021-03-09T00:00:00.000000000",
          "2021-03-16T00:00:00.000000000",
          "2021-03-23T00:00:00.000000000",
          "2021-03-30T00:00:00.000000000",
          "2021-04-06T00:00:00.000000000",
          "2021-04-13T00:00:00.000000000",
          "2021-04-20T00:00:00.000000000",
          "2021-04-27T00:00:00.000000000",
          "2021-05-04T00:00:00.000000000",
          "2021-05-11T00:00:00.000000000",
          "2021-05-18T00:00:00.000000000",
          "2021-05-25T00:00:00.000000000",
          "2021-06-01T00:00:00.000000000",
          "2021-06-08T00:00:00.000000000",
          "2021-06-15T00:00:00.000000000",
          "2021-06-22T00:00:00.000000000",
          "2021-06-29T00:00:00.000000000",
          "2021-07-06T00:00:00.000000000",
          "2021-07-13T00:00:00.000000000",
          "2021-07-20T00:00:00.000000000",
          "2021-07-27T00:00:00.000000000",
          "2021-08-03T00:00:00.000000000",
          "2021-08-10T00:00:00.000000000",
          "2021-08-17T00:00:00.000000000",
          "2021-08-24T00:00:00.000000000",
          "2021-08-31T00:00:00.000000000",
          "2021-09-07T00:00:00.000000000",
          "2021-09-14T00:00:00.000000000",
          "2021-09-21T00:00:00.000000000",
          "2021-09-28T00:00:00.000000000",
          "2021-10-05T00:00:00.000000000",
          "2021-10-12T00:00:00.000000000",
          "2021-10-19T00:00:00.000000000",
          "2021-10-26T00:00:00.000000000",
          "2021-11-02T00:00:00.000000000",
          "2021-11-09T00:00:00.000000000",
          "2021-11-16T00:00:00.000000000",
          "2021-11-23T00:00:00.000000000",
          "2021-11-30T00:00:00.000000000",
          "2021-12-07T00:00:00.000000000",
          "2021-12-14T00:00:00.000000000",
          "2021-12-21T00:00:00.000000000",
          "2021-12-28T00:00:00.000000000",
          "2022-01-04T00:00:00.000000000",
          "2022-01-11T00:00:00.000000000",
          "2022-01-18T00:00:00.000000000",
          "2022-01-25T00:00:00.000000000",
          "2022-02-01T00:00:00.000000000",
          "2022-02-08T00:00:00.000000000",
          "2022-02-15T00:00:00.000000000",
          "2022-02-22T00:00:00.000000000",
          "2022-03-01T00:00:00.000000000",
          "2022-03-08T00:00:00.000000000",
          "2022-03-15T00:00:00.000000000",
          "2022-03-22T00:00:00.000000000",
          "2022-03-29T00:00:00.000000000",
          "2022-04-05T00:00:00.000000000",
          "2022-04-12T00:00:00.000000000",
          "2022-04-19T00:00:00.000000000",
          "2022-04-26T00:00:00.000000000",
          "2022-05-03T00:00:00.000000000",
          "2022-05-10T00:00:00.000000000",
          "2022-05-17T00:00:00.000000000",
          "2022-05-24T00:00:00.000000000",
          "2022-05-31T00:00:00.000000000",
          "2022-06-07T00:00:00.000000000",
          "2022-06-14T00:00:00.000000000",
          "2022-06-21T00:00:00.000000000",
          "2022-06-28T00:00:00.000000000",
          "2022-07-05T00:00:00.000000000",
          "2022-07-12T00:00:00.000000000",
          "2022-07-19T00:00:00.000000000",
          "2022-07-26T00:00:00.000000000",
          "2022-08-02T00:00:00.000000000",
          "2022-08-09T00:00:00.000000000",
          "2022-08-16T00:00:00.000000000",
          "2022-08-23T00:00:00.000000000",
          "2022-08-30T00:00:00.000000000",
          "2022-09-06T00:00:00.000000000",
          "2022-09-13T00:00:00.000000000",
          "2022-09-20T00:00:00.000000000",
          "2022-09-27T00:00:00.000000000",
          "2022-10-04T00:00:00.000000000",
          "2022-10-11T00:00:00.000000000",
          "2022-10-18T00:00:00.000000000",
          "2022-10-25T00:00:00.000000000",
          "2022-11-01T00:00:00.000000000",
          "2022-11-08T00:00:00.000000000",
          "2022-11-15T00:00:00.000000000",
          "2022-11-22T00:00:00.000000000",
          "2022-11-29T00:00:00.000000000",
          "2022-12-06T00:00:00.000000000",
          "2022-12-13T00:00:00.000000000",
          "2022-12-20T00:00:00.000000000",
          "2022-12-27T00:00:00.000000000",
          "2023-01-03T00:00:00.000000000",
          "2023-01-10T00:00:00.000000000",
          "2023-01-17T00:00:00.000000000",
          "2023-01-24T00:00:00.000000000",
          "2023-01-31T00:00:00.000000000",
          "2023-02-07T00:00:00.000000000",
          "2023-02-14T00:00:00.000000000",
          "2023-02-21T00:00:00.000000000",
          "2023-02-28T00:00:00.000000000",
          "2023-03-07T00:00:00.000000000",
          "2023-03-14T00:00:00.000000000",
          "2023-03-21T00:00:00.000000000",
          "2023-03-28T00:00:00.000000000",
          "2023-04-04T00:00:00.000000000",
          "2023-04-11T00:00:00.000000000",
          "2023-04-18T00:00:00.000000000",
          "2023-04-25T00:00:00.000000000",
          "2023-05-02T00:00:00.000000000",
          "2023-05-09T00:00:00.000000000",
          "2023-05-16T00:00:00.000000000",
          "2023-05-23T00:00:00.000000000",
          "2023-05-30T00:00:00.000000000",
          "2023-06-06T00:00:00.000000000",
          "2023-06-13T00:00:00.000000000",
          "2023-06-20T00:00:00.000000000",
          "2023-06-27T00:00:00.000000000",
          "2023-07-03T00:00:00.000000000",
          "2023-07-11T00:00:00.000000000",
          "2023-07-18T00:00:00.000000000",
          "2023-07-25T00:00:00.000000000",
          "2023-08-01T00:00:00.000000000",
          "2023-08-08T00:00:00.000000000",
          "2023-08-15T00:00:00.000000000",
          "2023-08-22T00:00:00.000000000",
          "2023-08-29T00:00:00.000000000",
          "2023-09-05T00:00:00.000000000",
          "2023-09-12T00:00:00.000000000",
          "2023-09-19T00:00:00.000000000",
          "2023-09-26T00:00:00.000000000",
          "2023-10-03T00:00:00.000000000",
          "2023-10-10T00:00:00.000000000",
          "2023-10-17T00:00:00.000000000",
          "2023-10-24T00:00:00.000000000",
          "2023-10-31T00:00:00.000000000",
          "2023-11-07T00:00:00.000000000",
          "2023-11-14T00:00:00.000000000",
          "2023-11-21T00:00:00.000000000",
          "2023-11-28T00:00:00.000000000",
          "2023-12-05T00:00:00.000000000",
          "2023-12-12T00:00:00.000000000",
          "2023-12-19T00:00:00.000000000",
          "2023-12-26T00:00:00.000000000",
          "2024-01-02T00:00:00.000000000",
          "2024-01-09T00:00:00.000000000",
          "2024-01-16T00:00:00.000000000",
          "2024-01-23T00:00:00.000000000",
          "2024-01-30T00:00:00.000000000",
          "2024-02-06T00:00:00.000000000",
          "2024-02-13T00:00:00.000000000",
          "2024-02-20T00:00:00.000000000",
          "2024-02-27T00:00:00.000000000",
          "2024-03-05T00:00:00.000000000",
          "2024-03-12T00:00:00.000000000",
          "2024-03-19T00:00:00.000000000",
          "2024-03-26T00:00:00.000000000",
          "2024-04-02T00:00:00.000000000",
          "2024-04-09T00:00:00.000000000",
          "2024-04-16T00:00:00.000000000",
          "2024-04-23T00:00:00.000000000",
          "2024-04-30T00:00:00.000000000",
          "2024-05-07T00:00:00.000000000",
          "2024-05-14T00:00:00.000000000",
          "2024-05-21T00:00:00.000000000",
          "2024-05-28T00:00:00.000000000",
          "2024-06-04T00:00:00.000000000",
          "2024-06-11T00:00:00.000000000",
          "2024-06-18T00:00:00.000000000",
          "2024-06-25T00:00:00.000000000",
          "2024-07-02T00:00:00.000000000",
          "2024-07-09T00:00:00.000000000",
          "2024-07-16T00:00:00.000000000",
          "2024-07-23T00:00:00.000000000",
          "2024-07-30T00:00:00.000000000",
          "2024-08-06T00:00:00.000000000",
          "2024-08-13T00:00:00.000000000",
          "2024-08-20T00:00:00.000000000",
          "2024-08-27T00:00:00.000000000",
          "2024-09-03T00:00:00.000000000",
          "2024-09-10T00:00:00.000000000",
          "2024-09-17T00:00:00.000000000",
          "2024-09-24T00:00:00.000000000",
          "2024-10-01T00:00:00.000000000",
          "2024-10-08T00:00:00.000000000",
          "2024-10-15T00:00:00.000000000",
          "2024-10-22T00:00:00.000000000",
          "2024-10-29T00:00:00.000000000",
          "2024-11-05T00:00:00.000000000",
          "2024-11-12T00:00:00.000000000",
          "2024-11-19T00:00:00.000000000",
          "2024-11-26T00:00:00.000000000",
          "2024-12-03T00:00:00.000000000",
          "2024-12-10T00:00:00.000000000",
          "2024-12-17T00:00:00.000000000",
          "2024-12-24T00:00:00.000000000",
          "2024-12-31T00:00:00.000000000",
          "2025-01-07T00:00:00.000000000",
          "2025-01-14T00:00:00.000000000",
          "2025-01-21T00:00:00.000000000",
          "2025-01-28T00:00:00.000000000",
          "2025-02-04T00:00:00.000000000",
          "2025-02-11T00:00:00.000000000",
          "2025-02-18T00:00:00.000000000",
          "2025-02-25T00:00:00.000000000",
          "2025-03-04T00:00:00.000000000",
          "2025-03-11T00:00:00.000000000",
          "2025-03-18T00:00:00.000000000",
          "2025-03-25T00:00:00.000000000",
          "2025-04-01T00:00:00.000000000",
          "2025-04-08T00:00:00.000000000",
          "2025-04-15T00:00:00.000000000",
          "2025-04-22T00:00:00.000000000",
          "2025-04-29T00:00:00.000000000",
          "2025-05-06T00:00:00.000000000",
          "2025-05-13T00:00:00.000000000",
          "2025-05-20T00:00:00.000000000",
          "2025-05-27T00:00:00.000000000",
          "2025-06-03T00:00:00.000000000",
          "2025-06-10T00:00:00.000000000",
          "2025-06-17T00:00:00.000000000",
          "2025-06-24T00:00:00.000000000",
          "2025-07-01T00:00:00.000000000",
          "2025-07-08T00:00:00.000000000",
          "2025-07-15T00:00:00.000000000"
         ],
         "xaxis": "x",
         "y": {
          "bdata": "wf0LANMoDADlHAwAE+sKAOz8CQBoCgoANeoKAPUuCwARjwoAfqoJAOXBCAAGWggAJJAHADJTBwDteQcAZoYHAFCkBwBnewcAY5QHAE0PCADO7AcAYUIHAA1CBwBbeAcAhR4IANyRCABovQgAT9oIAAI0CQBlIgkArZIIAIFxCAAKTQgAomEIAHhbCACRgQgAbdUIAIXJCADclAgAI3oIAO1wCAAxlwgABI8IAAZQCAB5WggA3YEIAPV4CAC6NQgAkGIIAN5lCACBjggAfn0IADiuCAASeggAkkIIAC4oCABL7wcAdbsHAOisBwBlVwcAQCAHAA87BwAzRQcAUWgHAHkhBwD5EQcAvQcHALoyBwDZOAcARS0HAAWcBwDa8AcA1MgHAO52BwBSgQcAf1MHADTtBgDw6gYAkxsHALaQBwAYfAcA26EHAB9pBwAwSAcAbWgHAJ+zBwDpvAcAlLsHAPS5BwDdhAcAan0HAM1hBwAeZAcAVmoHAGLHBwDgvgcAkbYIAARZCQDPiggAnB0IAGueBwCdrwcAbqQHAPDDBwC9qwcA1FYIAEQ6CACuuggAA90HAErTBwA1hggAoFQJALBkCQAmvgkAhWwJAAc8CQA5xAgAGo4IAGfQCADixggA2YIIADmNCAA3uAgA7HoIALIWCAC61gcAMooHADCXBwA0ogcAbZUHACKaBwAdRwgA8gEIAFtwBwCBAwcApOsGAEjtBgAi/AYAnQEHAPQbBwA6EwcAkykHAGX5BgBJqwYAI5UGAA2iBgCI9QYATCEHABd0BwBDjgcABtwGAP2dBgDUcAYAMKsGAK2pBgDotgYAcdsGAO9YBwAqgQcA16AHAFoyBwDLtQYAhIAGAPhyBgCKgwYA6v4GADgBBwByKwcAk00HALBFBwCXRQcAzlsHAHk4BwDsiAcAJ+sHAGj2BwBoTwcA69sGAE2oBgACmwYAFa8GAPWWBgA/1gYAYl8HADhbBwAQRAcAV7QGAO+GBgDLnQYAn5AGALbBBgCQsQYAhbsGAD6vBgCkpQYAepQGABOpBgAdtQYAdBIHAKBCBwD7YwcA6mwHAA3CBwA6twcALXAHALMrBwCzVwcAT38HAIyiBwB5eQcAdncHANAbBwD4kAYAMWUGAMxrBgAXNgYAO0YGAEAyBwDZ3wcAByoIAFqvBwBNoQcAfrUHAEnkBwCZ4AcAb+4HAKsVCADI+gcAnxgIADZoBwAA1AYAeaoGALnHBgBe5gYASvAGAOTgBwAW2QgAkrsIAMLLBwCFVQcAELgHAIMhCAAf9gcAoMwHAA3OBwAbNAgAoJ0IAHMiCAB88AcAMEIIAEDBCACM1wgA0oMIAK0tCACorAcAVDYHANgMBwASYAcAix4HAPbvBgBY/wYAc0cHAIMICAD7twgA4c8IADRFCABPEQgAWvgHALPQBwA2dwcALM0HAD4kCAD6zQcAOpwHABzMBgC09wYAxxkHABzlBgA+5wYACroGAADWBgAirQYAxVgGAHddBgB+uwYADqMGAJ6tBgAIwwYAE9gGAA==",
          "dtype": "i4"
         },
         "yaxis": "y"
        }
       ],
       "layout": {
        "legend": {
         "tracegroupgap": 0
        },
        "template": {
         "data": {
          "bar": [
           {
            "error_x": {
             "color": "#f2f5fa"
            },
            "error_y": {
             "color": "#f2f5fa"
            },
            "marker": {
             "line": {
              "color": "rgb(17,17,17)",
              "width": 0.5
             },
             "pattern": {
              "fillmode": "overlay",
              "size": 10,
              "solidity": 0.2
             }
            },
            "type": "bar"
           }
          ],
          "barpolar": [
           {
            "marker": {
             "line": {
              "color": "rgb(17,17,17)",
              "width": 0.5
             },
             "pattern": {
              "fillmode": "overlay",
              "size": 10,
              "solidity": 0.2
             }
            },
            "type": "barpolar"
           }
          ],
          "carpet": [
           {
            "aaxis": {
             "endlinecolor": "#A2B1C6",
             "gridcolor": "#506784",
             "linecolor": "#506784",
             "minorgridcolor": "#506784",
             "startlinecolor": "#A2B1C6"
            },
            "baxis": {
             "endlinecolor": "#A2B1C6",
             "gridcolor": "#506784",
             "linecolor": "#506784",
             "minorgridcolor": "#506784",
             "startlinecolor": "#A2B1C6"
            },
            "type": "carpet"
           }
          ],
          "choropleth": [
           {
            "colorbar": {
             "outlinewidth": 0,
             "ticks": ""
            },
            "type": "choropleth"
           }
          ],
          "contour": [
           {
            "colorbar": {
             "outlinewidth": 0,
             "ticks": ""
            },
            "colorscale": [
             [
              0,
              "#0d0887"
             ],
             [
              0.1111111111111111,
              "#46039f"
             ],
             [
              0.2222222222222222,
              "#7201a8"
             ],
             [
              0.3333333333333333,
              "#9c179e"
             ],
             [
              0.4444444444444444,
              "#bd3786"
             ],
             [
              0.5555555555555556,
              "#d8576b"
             ],
             [
              0.6666666666666666,
              "#ed7953"
             ],
             [
              0.7777777777777778,
              "#fb9f3a"
             ],
             [
              0.8888888888888888,
              "#fdca26"
             ],
             [
              1,
              "#f0f921"
             ]
            ],
            "type": "contour"
           }
          ],
          "contourcarpet": [
           {
            "colorbar": {
             "outlinewidth": 0,
             "ticks": ""
            },
            "type": "contourcarpet"
           }
          ],
          "heatmap": [
           {
            "colorbar": {
             "outlinewidth": 0,
             "ticks": ""
            },
            "colorscale": [
             [
              0,
              "#0d0887"
             ],
             [
              0.1111111111111111,
              "#46039f"
             ],
             [
              0.2222222222222222,
              "#7201a8"
             ],
             [
              0.3333333333333333,
              "#9c179e"
             ],
             [
              0.4444444444444444,
              "#bd3786"
             ],
             [
              0.5555555555555556,
              "#d8576b"
             ],
             [
              0.6666666666666666,
              "#ed7953"
             ],
             [
              0.7777777777777778,
              "#fb9f3a"
             ],
             [
              0.8888888888888888,
              "#fdca26"
             ],
             [
              1,
              "#f0f921"
             ]
            ],
            "type": "heatmap"
           }
          ],
          "histogram": [
           {
            "marker": {
             "pattern": {
              "fillmode": "overlay",
              "size": 10,
              "solidity": 0.2
             }
            },
            "type": "histogram"
           }
          ],
          "histogram2d": [
           {
            "colorbar": {
             "outlinewidth": 0,
             "ticks": ""
            },
            "colorscale": [
             [
              0,
              "#0d0887"
             ],
             [
              0.1111111111111111,
              "#46039f"
             ],
             [
              0.2222222222222222,
              "#7201a8"
             ],
             [
              0.3333333333333333,
              "#9c179e"
             ],
             [
              0.4444444444444444,
              "#bd3786"
             ],
             [
              0.5555555555555556,
              "#d8576b"
             ],
             [
              0.6666666666666666,
              "#ed7953"
             ],
             [
              0.7777777777777778,
              "#fb9f3a"
             ],
             [
              0.8888888888888888,
              "#fdca26"
             ],
             [
              1,
              "#f0f921"
             ]
            ],
            "type": "histogram2d"
           }
          ],
          "histogram2dcontour": [
           {
            "colorbar": {
             "outlinewidth": 0,
             "ticks": ""
            },
            "colorscale": [
             [
              0,
              "#0d0887"
             ],
             [
              0.1111111111111111,
              "#46039f"
             ],
             [
              0.2222222222222222,
              "#7201a8"
             ],
             [
              0.3333333333333333,
              "#9c179e"
             ],
             [
              0.4444444444444444,
              "#bd3786"
             ],
             [
              0.5555555555555556,
              "#d8576b"
             ],
             [
              0.6666666666666666,
              "#ed7953"
             ],
             [
              0.7777777777777778,
              "#fb9f3a"
             ],
             [
              0.8888888888888888,
              "#fdca26"
             ],
             [
              1,
              "#f0f921"
             ]
            ],
            "type": "histogram2dcontour"
           }
          ],
          "mesh3d": [
           {
            "colorbar": {
             "outlinewidth": 0,
             "ticks": ""
            },
            "type": "mesh3d"
           }
          ],
          "parcoords": [
           {
            "line": {
             "colorbar": {
              "outlinewidth": 0,
              "ticks": ""
             }
            },
            "type": "parcoords"
           }
          ],
          "pie": [
           {
            "automargin": true,
            "type": "pie"
           }
          ],
          "scatter": [
           {
            "marker": {
             "line": {
              "color": "#283442"
             }
            },
            "type": "scatter"
           }
          ],
          "scatter3d": [
           {
            "line": {
             "colorbar": {
              "outlinewidth": 0,
              "ticks": ""
             }
            },
            "marker": {
             "colorbar": {
              "outlinewidth": 0,
              "ticks": ""
             }
            },
            "type": "scatter3d"
           }
          ],
          "scattercarpet": [
           {
            "marker": {
             "colorbar": {
              "outlinewidth": 0,
              "ticks": ""
             }
            },
            "type": "scattercarpet"
           }
          ],
          "scattergeo": [
           {
            "marker": {
             "colorbar": {
              "outlinewidth": 0,
              "ticks": ""
             }
            },
            "type": "scattergeo"
           }
          ],
          "scattergl": [
           {
            "marker": {
             "line": {
              "color": "#283442"
             }
            },
            "type": "scattergl"
           }
          ],
          "scattermap": [
           {
            "marker": {
             "colorbar": {
              "outlinewidth": 0,
              "ticks": ""
             }
            },
            "type": "scattermap"
           }
          ],
          "scattermapbox": [
           {
            "marker": {
             "colorbar": {
              "outlinewidth": 0,
              "ticks": ""
             }
            },
            "type": "scattermapbox"
           }
          ],
          "scatterpolar": [
           {
            "marker": {
             "colorbar": {
              "outlinewidth": 0,
              "ticks": ""
             }
            },
            "type": "scatterpolar"
           }
          ],
          "scatterpolargl": [
           {
            "marker": {
             "colorbar": {
              "outlinewidth": 0,
              "ticks": ""
             }
            },
            "type": "scatterpolargl"
           }
          ],
          "scatterternary": [
           {
            "marker": {
             "colorbar": {
              "outlinewidth": 0,
              "ticks": ""
             }
            },
            "type": "scatterternary"
           }
          ],
          "surface": [
           {
            "colorbar": {
             "outlinewidth": 0,
             "ticks": ""
            },
            "colorscale": [
             [
              0,
              "#0d0887"
             ],
             [
              0.1111111111111111,
              "#46039f"
             ],
             [
              0.2222222222222222,
              "#7201a8"
             ],
             [
              0.3333333333333333,
              "#9c179e"
             ],
             [
              0.4444444444444444,
              "#bd3786"
             ],
             [
              0.5555555555555556,
              "#d8576b"
             ],
             [
              0.6666666666666666,
              "#ed7953"
             ],
             [
              0.7777777777777778,
              "#fb9f3a"
             ],
             [
              0.8888888888888888,
              "#fdca26"
             ],
             [
              1,
              "#f0f921"
             ]
            ],
            "type": "surface"
           }
          ],
          "table": [
           {
            "cells": {
             "fill": {
              "color": "#506784"
             },
             "line": {
              "color": "rgb(17,17,17)"
             }
            },
            "header": {
             "fill": {
              "color": "#2a3f5f"
             },
             "line": {
              "color": "rgb(17,17,17)"
             }
            },
            "type": "table"
           }
          ]
         },
         "layout": {
          "annotationdefaults": {
           "arrowcolor": "#f2f5fa",
           "arrowhead": 0,
           "arrowwidth": 1
          },
          "autotypenumbers": "strict",
          "coloraxis": {
           "colorbar": {
            "outlinewidth": 0,
            "ticks": ""
           }
          },
          "colorscale": {
           "diverging": [
            [
             0,
             "#8e0152"
            ],
            [
             0.1,
             "#c51b7d"
            ],
            [
             0.2,
             "#de77ae"
            ],
            [
             0.3,
             "#f1b6da"
            ],
            [
             0.4,
             "#fde0ef"
            ],
            [
             0.5,
             "#f7f7f7"
            ],
            [
             0.6,
             "#e6f5d0"
            ],
            [
             0.7,
             "#b8e186"
            ],
            [
             0.8,
             "#7fbc41"
            ],
            [
             0.9,
             "#4d9221"
            ],
            [
             1,
             "#276419"
            ]
           ],
           "sequential": [
            [
             0,
             "#0d0887"
            ],
            [
             0.1111111111111111,
             "#46039f"
            ],
            [
             0.2222222222222222,
             "#7201a8"
            ],
            [
             0.3333333333333333,
             "#9c179e"
            ],
            [
             0.4444444444444444,
             "#bd3786"
            ],
            [
             0.5555555555555556,
             "#d8576b"
            ],
            [
             0.6666666666666666,
             "#ed7953"
            ],
            [
             0.7777777777777778,
             "#fb9f3a"
            ],
            [
             0.8888888888888888,
             "#fdca26"
            ],
            [
             1,
             "#f0f921"
            ]
           ],
           "sequentialminus": [
            [
             0,
             "#0d0887"
            ],
            [
             0.1111111111111111,
             "#46039f"
            ],
            [
             0.2222222222222222,
             "#7201a8"
            ],
            [
             0.3333333333333333,
             "#9c179e"
            ],
            [
             0.4444444444444444,
             "#bd3786"
            ],
            [
             0.5555555555555556,
             "#d8576b"
            ],
            [
             0.6666666666666666,
             "#ed7953"
            ],
            [
             0.7777777777777778,
             "#fb9f3a"
            ],
            [
             0.8888888888888888,
             "#fdca26"
            ],
            [
             1,
             "#f0f921"
            ]
           ]
          },
          "colorway": [
           "#636efa",
           "#EF553B",
           "#00cc96",
           "#ab63fa",
           "#FFA15A",
           "#19d3f3",
           "#FF6692",
           "#B6E880",
           "#FF97FF",
           "#FECB52"
          ],
          "font": {
           "color": "#f2f5fa"
          },
          "geo": {
           "bgcolor": "rgb(17,17,17)",
           "lakecolor": "rgb(17,17,17)",
           "landcolor": "rgb(17,17,17)",
           "showlakes": true,
           "showland": true,
           "subunitcolor": "#506784"
          },
          "hoverlabel": {
           "align": "left"
          },
          "hovermode": "closest",
          "mapbox": {
           "style": "dark"
          },
          "paper_bgcolor": "rgb(17,17,17)",
          "plot_bgcolor": "rgb(17,17,17)",
          "polar": {
           "angularaxis": {
            "gridcolor": "#506784",
            "linecolor": "#506784",
            "ticks": ""
           },
           "bgcolor": "rgb(17,17,17)",
           "radialaxis": {
            "gridcolor": "#506784",
            "linecolor": "#506784",
            "ticks": ""
           }
          },
          "scene": {
           "xaxis": {
            "backgroundcolor": "rgb(17,17,17)",
            "gridcolor": "#506784",
            "gridwidth": 2,
            "linecolor": "#506784",
            "showbackground": true,
            "ticks": "",
            "zerolinecolor": "#C8D4E3"
           },
           "yaxis": {
            "backgroundcolor": "rgb(17,17,17)",
            "gridcolor": "#506784",
            "gridwidth": 2,
            "linecolor": "#506784",
            "showbackground": true,
            "ticks": "",
            "zerolinecolor": "#C8D4E3"
           },
           "zaxis": {
            "backgroundcolor": "rgb(17,17,17)",
            "gridcolor": "#506784",
            "gridwidth": 2,
            "linecolor": "#506784",
            "showbackground": true,
            "ticks": "",
            "zerolinecolor": "#C8D4E3"
           }
          },
          "shapedefaults": {
           "line": {
            "color": "#f2f5fa"
           }
          },
          "sliderdefaults": {
           "bgcolor": "#C8D4E3",
           "bordercolor": "rgb(17,17,17)",
           "borderwidth": 1,
           "tickwidth": 0
          },
          "ternary": {
           "aaxis": {
            "gridcolor": "#506784",
            "linecolor": "#506784",
            "ticks": ""
           },
           "baxis": {
            "gridcolor": "#506784",
            "linecolor": "#506784",
            "ticks": ""
           },
           "bgcolor": "rgb(17,17,17)",
           "caxis": {
            "gridcolor": "#506784",
            "linecolor": "#506784",
            "ticks": ""
           }
          },
          "title": {
           "x": 0.05
          },
          "updatemenudefaults": {
           "bgcolor": "#506784",
           "borderwidth": 0
          },
          "xaxis": {
           "automargin": true,
           "gridcolor": "#283442",
           "linecolor": "#506784",
           "ticks": "",
           "title": {
            "standoff": 15
           },
           "zerolinecolor": "#283442",
           "zerolinewidth": 2
          },
          "yaxis": {
           "automargin": true,
           "gridcolor": "#283442",
           "linecolor": "#506784",
           "ticks": "",
           "title": {
            "standoff": 15
           },
           "zerolinecolor": "#283442",
           "zerolinewidth": 2
          }
         }
        },
        "title": {
         "text": "Open Interest"
        },
        "xaxis": {
         "anchor": "y",
         "domain": [
          0,
          1
         ],
         "title": {
          "text": "Date"
         }
        },
        "yaxis": {
         "anchor": "x",
         "domain": [
          0,
          1
         ],
         "title": {
          "text": "OI"
         }
        }
       }
      }
     },
     "metadata": {},
     "output_type": "display_data"
    }
   ],
   "source": [
    "import plotly.express as px\n",
    "\n",
    "fig = px.line(oi_df.reset_index(), x='Date', y='OI', title='Open Interest', markers=True, template='plotly_dark')\n",
    "\n",
    "\n",
    "fig.write_html(\"plots/open_interest.html\")\n",
    "fig.show()"
   ]
  },
  {
   "cell_type": "markdown",
   "id": "7152355b",
   "metadata": {},
   "source": [
    "## Net positions"
   ]
  },
  {
   "cell_type": "markdown",
   "id": "74636d30",
   "metadata": {},
   "source": [
    "> Commercial (Long) = Producer/Merchant/Processor/User(Long) + Swap Dealers(Long) + Swap Dealers(Spreading)\n",
    "\n",
    "> Commercial (Short) = Producer/Merchant/Processor/User(Short) + Swap Dealers(Short) + Swap Dealers(Spreading)\n",
    "\n",
    "> Non-Commercial (Long) = Managed Money(Long) + Other Reportables(Long) \n",
    "\n",
    "> Non-Commercial (Short) = Managed Money(Short) + Other Reportables(Short) \n",
    "\n",
    "> Non-Commercial (Spreading) = Managed Money(Spreading) + Other Reportables(Spreading) "
   ]
  },
  {
   "cell_type": "code",
   "execution_count": 90,
   "id": "247ca7f7",
   "metadata": {},
   "outputs": [
    {
     "data": {
      "text/html": [
       "<div>\n",
       "<style scoped>\n",
       "    .dataframe tbody tr th:only-of-type {\n",
       "        vertical-align: middle;\n",
       "    }\n",
       "\n",
       "    .dataframe tbody tr th {\n",
       "        vertical-align: top;\n",
       "    }\n",
       "\n",
       "    .dataframe thead th {\n",
       "        text-align: right;\n",
       "    }\n",
       "</style>\n",
       "<table border=\"1\" class=\"dataframe\">\n",
       "  <thead>\n",
       "    <tr style=\"text-align: right;\">\n",
       "      <th></th>\n",
       "      <th>Commercials</th>\n",
       "      <th>Large speculators</th>\n",
       "      <th>Small Traders</th>\n",
       "    </tr>\n",
       "    <tr>\n",
       "      <th>Date</th>\n",
       "      <th></th>\n",
       "      <th></th>\n",
       "      <th></th>\n",
       "    </tr>\n",
       "  </thead>\n",
       "  <tbody>\n",
       "    <tr>\n",
       "      <th>2020-06-30</th>\n",
       "      <td>-301463</td>\n",
       "      <td>266670</td>\n",
       "      <td>34793</td>\n",
       "    </tr>\n",
       "    <tr>\n",
       "      <th>2020-07-07</th>\n",
       "      <td>-302592</td>\n",
       "      <td>267358</td>\n",
       "      <td>35234</td>\n",
       "    </tr>\n",
       "    <tr>\n",
       "      <th>2020-07-14</th>\n",
       "      <td>-302018</td>\n",
       "      <td>262428</td>\n",
       "      <td>39590</td>\n",
       "    </tr>\n",
       "    <tr>\n",
       "      <th>2020-07-21</th>\n",
       "      <td>-303859</td>\n",
       "      <td>266436</td>\n",
       "      <td>37423</td>\n",
       "    </tr>\n",
       "    <tr>\n",
       "      <th>2020-07-28</th>\n",
       "      <td>-278377</td>\n",
       "      <td>236801</td>\n",
       "      <td>41576</td>\n",
       "    </tr>\n",
       "    <tr>\n",
       "      <th>...</th>\n",
       "      <td>...</td>\n",
       "      <td>...</td>\n",
       "      <td>...</td>\n",
       "    </tr>\n",
       "    <tr>\n",
       "      <th>2025-06-17</th>\n",
       "      <td>-237727</td>\n",
       "      <td>200648</td>\n",
       "      <td>37079</td>\n",
       "    </tr>\n",
       "    <tr>\n",
       "      <th>2025-06-24</th>\n",
       "      <td>-230560</td>\n",
       "      <td>195004</td>\n",
       "      <td>35556</td>\n",
       "    </tr>\n",
       "    <tr>\n",
       "      <th>2025-07-01</th>\n",
       "      <td>-236069</td>\n",
       "      <td>201980</td>\n",
       "      <td>34089</td>\n",
       "    </tr>\n",
       "    <tr>\n",
       "      <th>2025-07-08</th>\n",
       "      <td>-238354</td>\n",
       "      <td>202968</td>\n",
       "      <td>35386</td>\n",
       "    </tr>\n",
       "    <tr>\n",
       "      <th>2025-07-15</th>\n",
       "      <td>-250688</td>\n",
       "      <td>213115</td>\n",
       "      <td>37573</td>\n",
       "    </tr>\n",
       "  </tbody>\n",
       "</table>\n",
       "<p>264 rows × 3 columns</p>\n",
       "</div>"
      ],
      "text/plain": [
       "            Commercials  Large speculators  Small Traders\n",
       "Date                                                     \n",
       "2020-06-30      -301463             266670          34793\n",
       "2020-07-07      -302592             267358          35234\n",
       "2020-07-14      -302018             262428          39590\n",
       "2020-07-21      -303859             266436          37423\n",
       "2020-07-28      -278377             236801          41576\n",
       "...                 ...                ...            ...\n",
       "2025-06-17      -237727             200648          37079\n",
       "2025-06-24      -230560             195004          35556\n",
       "2025-07-01      -236069             201980          34089\n",
       "2025-07-08      -238354             202968          35386\n",
       "2025-07-15      -250688             213115          37573\n",
       "\n",
       "[264 rows x 3 columns]"
      ]
     },
     "execution_count": 90,
     "metadata": {},
     "output_type": "execute_result"
    }
   ],
   "source": [
    "net_positions_df = pd.DataFrame()\n",
    "\n",
    "net_positions_df['Commercials'] = commercials_df['Net Position']\n",
    "net_positions_df['Large speculators'] = asset_df['Noncommercial Positions-Long (All)'] - asset_df['Noncommercial Positions-Short (All)']\n",
    "net_positions_df['Small Traders'] = asset_df['Nonreportable Positions-Long (All)'] - asset_df['Nonreportable Positions-Short (All)']\n",
    "\n",
    "net_positions_df"
   ]
  },
  {
   "cell_type": "markdown",
   "id": "93045a2e",
   "metadata": {},
   "source": [
    "### Plotting"
   ]
  },
  {
   "cell_type": "code",
   "execution_count": 91,
   "id": "a6c2bf67",
   "metadata": {},
   "outputs": [
    {
     "data": {
      "application/vnd.plotly.v1+json": {
       "config": {
        "plotlyServerURL": "https://plot.ly"
       },
       "data": [
        {
         "mode": "lines",
         "name": "Commercials",
         "type": "scatter",
         "x": [
          "2020-06-30T00:00:00.000000000",
          "2020-07-07T00:00:00.000000000",
          "2020-07-14T00:00:00.000000000",
          "2020-07-21T00:00:00.000000000",
          "2020-07-28T00:00:00.000000000",
          "2020-08-04T00:00:00.000000000",
          "2020-08-11T00:00:00.000000000",
          "2020-08-18T00:00:00.000000000",
          "2020-08-25T00:00:00.000000000",
          "2020-09-01T00:00:00.000000000",
          "2020-09-08T00:00:00.000000000",
          "2020-09-15T00:00:00.000000000",
          "2020-09-22T00:00:00.000000000",
          "2020-09-29T00:00:00.000000000",
          "2020-10-06T00:00:00.000000000",
          "2020-10-13T00:00:00.000000000",
          "2020-10-20T00:00:00.000000000",
          "2020-10-27T00:00:00.000000000",
          "2020-11-03T00:00:00.000000000",
          "2020-11-10T00:00:00.000000000",
          "2020-11-17T00:00:00.000000000",
          "2020-11-24T00:00:00.000000000",
          "2020-12-01T00:00:00.000000000",
          "2020-12-08T00:00:00.000000000",
          "2020-12-15T00:00:00.000000000",
          "2020-12-21T00:00:00.000000000",
          "2020-12-29T00:00:00.000000000",
          "2021-01-05T00:00:00.000000000",
          "2021-01-12T00:00:00.000000000",
          "2021-01-19T00:00:00.000000000",
          "2021-01-26T00:00:00.000000000",
          "2021-02-02T00:00:00.000000000",
          "2021-02-09T00:00:00.000000000",
          "2021-02-16T00:00:00.000000000",
          "2021-02-23T00:00:00.000000000",
          "2021-03-02T00:00:00.000000000",
          "2021-03-09T00:00:00.000000000",
          "2021-03-16T00:00:00.000000000",
          "2021-03-23T00:00:00.000000000",
          "2021-03-30T00:00:00.000000000",
          "2021-04-06T00:00:00.000000000",
          "2021-04-13T00:00:00.000000000",
          "2021-04-20T00:00:00.000000000",
          "2021-04-27T00:00:00.000000000",
          "2021-05-04T00:00:00.000000000",
          "2021-05-11T00:00:00.000000000",
          "2021-05-18T00:00:00.000000000",
          "2021-05-25T00:00:00.000000000",
          "2021-06-01T00:00:00.000000000",
          "2021-06-08T00:00:00.000000000",
          "2021-06-15T00:00:00.000000000",
          "2021-06-22T00:00:00.000000000",
          "2021-06-29T00:00:00.000000000",
          "2021-07-06T00:00:00.000000000",
          "2021-07-13T00:00:00.000000000",
          "2021-07-20T00:00:00.000000000",
          "2021-07-27T00:00:00.000000000",
          "2021-08-03T00:00:00.000000000",
          "2021-08-10T00:00:00.000000000",
          "2021-08-17T00:00:00.000000000",
          "2021-08-24T00:00:00.000000000",
          "2021-08-31T00:00:00.000000000",
          "2021-09-07T00:00:00.000000000",
          "2021-09-14T00:00:00.000000000",
          "2021-09-21T00:00:00.000000000",
          "2021-09-28T00:00:00.000000000",
          "2021-10-05T00:00:00.000000000",
          "2021-10-12T00:00:00.000000000",
          "2021-10-19T00:00:00.000000000",
          "2021-10-26T00:00:00.000000000",
          "2021-11-02T00:00:00.000000000",
          "2021-11-09T00:00:00.000000000",
          "2021-11-16T00:00:00.000000000",
          "2021-11-23T00:00:00.000000000",
          "2021-11-30T00:00:00.000000000",
          "2021-12-07T00:00:00.000000000",
          "2021-12-14T00:00:00.000000000",
          "2021-12-21T00:00:00.000000000",
          "2021-12-28T00:00:00.000000000",
          "2022-01-04T00:00:00.000000000",
          "2022-01-11T00:00:00.000000000",
          "2022-01-18T00:00:00.000000000",
          "2022-01-25T00:00:00.000000000",
          "2022-02-01T00:00:00.000000000",
          "2022-02-08T00:00:00.000000000",
          "2022-02-15T00:00:00.000000000",
          "2022-02-22T00:00:00.000000000",
          "2022-03-01T00:00:00.000000000",
          "2022-03-08T00:00:00.000000000",
          "2022-03-15T00:00:00.000000000",
          "2022-03-22T00:00:00.000000000",
          "2022-03-29T00:00:00.000000000",
          "2022-04-05T00:00:00.000000000",
          "2022-04-12T00:00:00.000000000",
          "2022-04-19T00:00:00.000000000",
          "2022-04-26T00:00:00.000000000",
          "2022-05-03T00:00:00.000000000",
          "2022-05-10T00:00:00.000000000",
          "2022-05-17T00:00:00.000000000",
          "2022-05-24T00:00:00.000000000",
          "2022-05-31T00:00:00.000000000",
          "2022-06-07T00:00:00.000000000",
          "2022-06-14T00:00:00.000000000",
          "2022-06-21T00:00:00.000000000",
          "2022-06-28T00:00:00.000000000",
          "2022-07-05T00:00:00.000000000",
          "2022-07-12T00:00:00.000000000",
          "2022-07-19T00:00:00.000000000",
          "2022-07-26T00:00:00.000000000",
          "2022-08-02T00:00:00.000000000",
          "2022-08-09T00:00:00.000000000",
          "2022-08-16T00:00:00.000000000",
          "2022-08-23T00:00:00.000000000",
          "2022-08-30T00:00:00.000000000",
          "2022-09-06T00:00:00.000000000",
          "2022-09-13T00:00:00.000000000",
          "2022-09-20T00:00:00.000000000",
          "2022-09-27T00:00:00.000000000",
          "2022-10-04T00:00:00.000000000",
          "2022-10-11T00:00:00.000000000",
          "2022-10-18T00:00:00.000000000",
          "2022-10-25T00:00:00.000000000",
          "2022-11-01T00:00:00.000000000",
          "2022-11-08T00:00:00.000000000",
          "2022-11-15T00:00:00.000000000",
          "2022-11-22T00:00:00.000000000",
          "2022-11-29T00:00:00.000000000",
          "2022-12-06T00:00:00.000000000",
          "2022-12-13T00:00:00.000000000",
          "2022-12-20T00:00:00.000000000",
          "2022-12-27T00:00:00.000000000",
          "2023-01-03T00:00:00.000000000",
          "2023-01-10T00:00:00.000000000",
          "2023-01-17T00:00:00.000000000",
          "2023-01-24T00:00:00.000000000",
          "2023-01-31T00:00:00.000000000",
          "2023-02-07T00:00:00.000000000",
          "2023-02-14T00:00:00.000000000",
          "2023-02-21T00:00:00.000000000",
          "2023-02-28T00:00:00.000000000",
          "2023-03-07T00:00:00.000000000",
          "2023-03-14T00:00:00.000000000",
          "2023-03-21T00:00:00.000000000",
          "2023-03-28T00:00:00.000000000",
          "2023-04-04T00:00:00.000000000",
          "2023-04-11T00:00:00.000000000",
          "2023-04-18T00:00:00.000000000",
          "2023-04-25T00:00:00.000000000",
          "2023-05-02T00:00:00.000000000",
          "2023-05-09T00:00:00.000000000",
          "2023-05-16T00:00:00.000000000",
          "2023-05-23T00:00:00.000000000",
          "2023-05-30T00:00:00.000000000",
          "2023-06-06T00:00:00.000000000",
          "2023-06-13T00:00:00.000000000",
          "2023-06-20T00:00:00.000000000",
          "2023-06-27T00:00:00.000000000",
          "2023-07-03T00:00:00.000000000",
          "2023-07-11T00:00:00.000000000",
          "2023-07-18T00:00:00.000000000",
          "2023-07-25T00:00:00.000000000",
          "2023-08-01T00:00:00.000000000",
          "2023-08-08T00:00:00.000000000",
          "2023-08-15T00:00:00.000000000",
          "2023-08-22T00:00:00.000000000",
          "2023-08-29T00:00:00.000000000",
          "2023-09-05T00:00:00.000000000",
          "2023-09-12T00:00:00.000000000",
          "2023-09-19T00:00:00.000000000",
          "2023-09-26T00:00:00.000000000",
          "2023-10-03T00:00:00.000000000",
          "2023-10-10T00:00:00.000000000",
          "2023-10-17T00:00:00.000000000",
          "2023-10-24T00:00:00.000000000",
          "2023-10-31T00:00:00.000000000",
          "2023-11-07T00:00:00.000000000",
          "2023-11-14T00:00:00.000000000",
          "2023-11-21T00:00:00.000000000",
          "2023-11-28T00:00:00.000000000",
          "2023-12-05T00:00:00.000000000",
          "2023-12-12T00:00:00.000000000",
          "2023-12-19T00:00:00.000000000",
          "2023-12-26T00:00:00.000000000",
          "2024-01-02T00:00:00.000000000",
          "2024-01-09T00:00:00.000000000",
          "2024-01-16T00:00:00.000000000",
          "2024-01-23T00:00:00.000000000",
          "2024-01-30T00:00:00.000000000",
          "2024-02-06T00:00:00.000000000",
          "2024-02-13T00:00:00.000000000",
          "2024-02-20T00:00:00.000000000",
          "2024-02-27T00:00:00.000000000",
          "2024-03-05T00:00:00.000000000",
          "2024-03-12T00:00:00.000000000",
          "2024-03-19T00:00:00.000000000",
          "2024-03-26T00:00:00.000000000",
          "2024-04-02T00:00:00.000000000",
          "2024-04-09T00:00:00.000000000",
          "2024-04-16T00:00:00.000000000",
          "2024-04-23T00:00:00.000000000",
          "2024-04-30T00:00:00.000000000",
          "2024-05-07T00:00:00.000000000",
          "2024-05-14T00:00:00.000000000",
          "2024-05-21T00:00:00.000000000",
          "2024-05-28T00:00:00.000000000",
          "2024-06-04T00:00:00.000000000",
          "2024-06-11T00:00:00.000000000",
          "2024-06-18T00:00:00.000000000",
          "2024-06-25T00:00:00.000000000",
          "2024-07-02T00:00:00.000000000",
          "2024-07-09T00:00:00.000000000",
          "2024-07-16T00:00:00.000000000",
          "2024-07-23T00:00:00.000000000",
          "2024-07-30T00:00:00.000000000",
          "2024-08-06T00:00:00.000000000",
          "2024-08-13T00:00:00.000000000",
          "2024-08-20T00:00:00.000000000",
          "2024-08-27T00:00:00.000000000",
          "2024-09-03T00:00:00.000000000",
          "2024-09-10T00:00:00.000000000",
          "2024-09-17T00:00:00.000000000",
          "2024-09-24T00:00:00.000000000",
          "2024-10-01T00:00:00.000000000",
          "2024-10-08T00:00:00.000000000",
          "2024-10-15T00:00:00.000000000",
          "2024-10-22T00:00:00.000000000",
          "2024-10-29T00:00:00.000000000",
          "2024-11-05T00:00:00.000000000",
          "2024-11-12T00:00:00.000000000",
          "2024-11-19T00:00:00.000000000",
          "2024-11-26T00:00:00.000000000",
          "2024-12-03T00:00:00.000000000",
          "2024-12-10T00:00:00.000000000",
          "2024-12-17T00:00:00.000000000",
          "2024-12-24T00:00:00.000000000",
          "2024-12-31T00:00:00.000000000",
          "2025-01-07T00:00:00.000000000",
          "2025-01-14T00:00:00.000000000",
          "2025-01-21T00:00:00.000000000",
          "2025-01-28T00:00:00.000000000",
          "2025-02-04T00:00:00.000000000",
          "2025-02-11T00:00:00.000000000",
          "2025-02-18T00:00:00.000000000",
          "2025-02-25T00:00:00.000000000",
          "2025-03-04T00:00:00.000000000",
          "2025-03-11T00:00:00.000000000",
          "2025-03-18T00:00:00.000000000",
          "2025-03-25T00:00:00.000000000",
          "2025-04-01T00:00:00.000000000",
          "2025-04-08T00:00:00.000000000",
          "2025-04-15T00:00:00.000000000",
          "2025-04-22T00:00:00.000000000",
          "2025-04-29T00:00:00.000000000",
          "2025-05-06T00:00:00.000000000",
          "2025-05-13T00:00:00.000000000",
          "2025-05-20T00:00:00.000000000",
          "2025-05-27T00:00:00.000000000",
          "2025-06-03T00:00:00.000000000",
          "2025-06-10T00:00:00.000000000",
          "2025-06-17T00:00:00.000000000",
          "2025-06-24T00:00:00.000000000",
          "2025-07-01T00:00:00.000000000",
          "2025-07-08T00:00:00.000000000",
          "2025-07-15T00:00:00.000000000"
         ],
         "y": {
          "bdata": "aWb7/wBi+/8+ZPv/DV37/5fA+/+HyPv/1ef7/wXq+/8z7/v/YsT7/zC2+//+pfv/WO/7/x6i+/8smfv/Eaj7/xSD+//yefv/xpX7/+Gs+/9Ugfv/Y6f7/3GG+/9Nafv/WlP7/yUx+//KT/v/ZRr7/wOS+/8Vnfv/PHD7/xt0+/+divv/es37/68o/P8FnPz/+NP8/73N/P+16/z/Qgv9//G4/P9s0Pz/N7/8/7fW/P896/z/9Ij8/zty/P8LLPz/kTb8/7pD/P/GePz/cun8/9AF/f86ufz/nKD8/zyD/P8ygvz/jHj8/8cD/f8QvPz/Smv8/4BU/P/gZvz/9Wz8/1zB/P85Gf3/SuT8/wLV/P/Kp/z/2lf8//tW/P/fy/v/zZz7/8bp+//VDfz/iUD8/w14/P8DZvz/YED8/25g/P/PkPz/dKD8/24w/P+C7fz/Fsb8/+Va/P9m4vv/j6P7//5Q+/8fdvv/BbT7/w+j+/8av/v/o5r7/7vL+/8yMvz/VHb8/1SG/P/h1/z/FcT8/4jy/P8y8/z/d0b9/88l/f8JOf3/L3n9/8Tl/f96Sf7/elj+/3Pu/f9GpP3/k6f9/6jk/f9xBf7/cEL+/6ZO/v9c2f7/Rg3//9yG/v/Qav7/UqD+/6vG/v/i2/7/+Jv+/1zz/f/wA/7/Py7+/+ED/v/f4v3/TtP9/1Cn/f8aj/3/Ql79/9dQ/f+2Pv3/2D79/3qq/f/QB/7/tQb+/wEO/v94L/7/0KD9//Ay/f/c7Pz/dqv8/xyy/P+Xsvz/KMT8/xCu/P/Nmvz/m8X8/3El/f/LGf3/1fn8/zIp/f9XJ/3/GVP9/3Mu/f+bIv3/Lb38/775/P8jJv3/fnH9/5bV/f80J/7/ztr9/+GV/f9Wyv3/nKr9/0zx/f+SSv7/xJ7+/wEM/v8PeP3/TTb9/xUp/f+FTP3/5Rj9/yCq/P9/ifz/uMD8/w6J/P9ndPz/Kmj8/5ut/P/E1fz/oxH9/+pl/f/vP/3/bKr9/02R/f9wlf3/ONj8/1+r/P9Grvz/HKv8/06O/P+6kvz/2pn8/8iJ/P9Wh/z/Poj8/1J1/P+ZDfz/qgT8/zXx+/9hBvz/Lur7/4Db+/+h9fv/y7f7/8hH+/+DaPv/J9b7/xbl+/9qifv/piv7//EU+/+xPfv/LVH7/+ni+v8G0fr/nAD7/5hc+/+uOvv/owv7/8ld+/9Nrvv/kvL7/07/+/941/v/vaH7/1l4+//Ppfv/SNT7/0Dc+/+Kv/v/jGL7/zAE+/92D/v/Ef76/4BF+/95e/v/nJr7//Xc+/8c9Pv/EKb7/7q/+/+b9Pv/CXX8/xh2/P/k6fz/1xb9/5kR/f8ZFf3/8Pv8/x3V/P9mofz/Apr8/2Ff/P9ge/z/22X8/+5c/P/ALPz/",
          "dtype": "i4"
         }
        },
        {
         "mode": "lines",
         "name": "Large speculators",
         "type": "scatter",
         "x": [
          "2020-06-30T00:00:00.000000000",
          "2020-07-07T00:00:00.000000000",
          "2020-07-14T00:00:00.000000000",
          "2020-07-21T00:00:00.000000000",
          "2020-07-28T00:00:00.000000000",
          "2020-08-04T00:00:00.000000000",
          "2020-08-11T00:00:00.000000000",
          "2020-08-18T00:00:00.000000000",
          "2020-08-25T00:00:00.000000000",
          "2020-09-01T00:00:00.000000000",
          "2020-09-08T00:00:00.000000000",
          "2020-09-15T00:00:00.000000000",
          "2020-09-22T00:00:00.000000000",
          "2020-09-29T00:00:00.000000000",
          "2020-10-06T00:00:00.000000000",
          "2020-10-13T00:00:00.000000000",
          "2020-10-20T00:00:00.000000000",
          "2020-10-27T00:00:00.000000000",
          "2020-11-03T00:00:00.000000000",
          "2020-11-10T00:00:00.000000000",
          "2020-11-17T00:00:00.000000000",
          "2020-11-24T00:00:00.000000000",
          "2020-12-01T00:00:00.000000000",
          "2020-12-08T00:00:00.000000000",
          "2020-12-15T00:00:00.000000000",
          "2020-12-21T00:00:00.000000000",
          "2020-12-29T00:00:00.000000000",
          "2021-01-05T00:00:00.000000000",
          "2021-01-12T00:00:00.000000000",
          "2021-01-19T00:00:00.000000000",
          "2021-01-26T00:00:00.000000000",
          "2021-02-02T00:00:00.000000000",
          "2021-02-09T00:00:00.000000000",
          "2021-02-16T00:00:00.000000000",
          "2021-02-23T00:00:00.000000000",
          "2021-03-02T00:00:00.000000000",
          "2021-03-09T00:00:00.000000000",
          "2021-03-16T00:00:00.000000000",
          "2021-03-23T00:00:00.000000000",
          "2021-03-30T00:00:00.000000000",
          "2021-04-06T00:00:00.000000000",
          "2021-04-13T00:00:00.000000000",
          "2021-04-20T00:00:00.000000000",
          "2021-04-27T00:00:00.000000000",
          "2021-05-04T00:00:00.000000000",
          "2021-05-11T00:00:00.000000000",
          "2021-05-18T00:00:00.000000000",
          "2021-05-25T00:00:00.000000000",
          "2021-06-01T00:00:00.000000000",
          "2021-06-08T00:00:00.000000000",
          "2021-06-15T00:00:00.000000000",
          "2021-06-22T00:00:00.000000000",
          "2021-06-29T00:00:00.000000000",
          "2021-07-06T00:00:00.000000000",
          "2021-07-13T00:00:00.000000000",
          "2021-07-20T00:00:00.000000000",
          "2021-07-27T00:00:00.000000000",
          "2021-08-03T00:00:00.000000000",
          "2021-08-10T00:00:00.000000000",
          "2021-08-17T00:00:00.000000000",
          "2021-08-24T00:00:00.000000000",
          "2021-08-31T00:00:00.000000000",
          "2021-09-07T00:00:00.000000000",
          "2021-09-14T00:00:00.000000000",
          "2021-09-21T00:00:00.000000000",
          "2021-09-28T00:00:00.000000000",
          "2021-10-05T00:00:00.000000000",
          "2021-10-12T00:00:00.000000000",
          "2021-10-19T00:00:00.000000000",
          "2021-10-26T00:00:00.000000000",
          "2021-11-02T00:00:00.000000000",
          "2021-11-09T00:00:00.000000000",
          "2021-11-16T00:00:00.000000000",
          "2021-11-23T00:00:00.000000000",
          "2021-11-30T00:00:00.000000000",
          "2021-12-07T00:00:00.000000000",
          "2021-12-14T00:00:00.000000000",
          "2021-12-21T00:00:00.000000000",
          "2021-12-28T00:00:00.000000000",
          "2022-01-04T00:00:00.000000000",
          "2022-01-11T00:00:00.000000000",
          "2022-01-18T00:00:00.000000000",
          "2022-01-25T00:00:00.000000000",
          "2022-02-01T00:00:00.000000000",
          "2022-02-08T00:00:00.000000000",
          "2022-02-15T00:00:00.000000000",
          "2022-02-22T00:00:00.000000000",
          "2022-03-01T00:00:00.000000000",
          "2022-03-08T00:00:00.000000000",
          "2022-03-15T00:00:00.000000000",
          "2022-03-22T00:00:00.000000000",
          "2022-03-29T00:00:00.000000000",
          "2022-04-05T00:00:00.000000000",
          "2022-04-12T00:00:00.000000000",
          "2022-04-19T00:00:00.000000000",
          "2022-04-26T00:00:00.000000000",
          "2022-05-03T00:00:00.000000000",
          "2022-05-10T00:00:00.000000000",
          "2022-05-17T00:00:00.000000000",
          "2022-05-24T00:00:00.000000000",
          "2022-05-31T00:00:00.000000000",
          "2022-06-07T00:00:00.000000000",
          "2022-06-14T00:00:00.000000000",
          "2022-06-21T00:00:00.000000000",
          "2022-06-28T00:00:00.000000000",
          "2022-07-05T00:00:00.000000000",
          "2022-07-12T00:00:00.000000000",
          "2022-07-19T00:00:00.000000000",
          "2022-07-26T00:00:00.000000000",
          "2022-08-02T00:00:00.000000000",
          "2022-08-09T00:00:00.000000000",
          "2022-08-16T00:00:00.000000000",
          "2022-08-23T00:00:00.000000000",
          "2022-08-30T00:00:00.000000000",
          "2022-09-06T00:00:00.000000000",
          "2022-09-13T00:00:00.000000000",
          "2022-09-20T00:00:00.000000000",
          "2022-09-27T00:00:00.000000000",
          "2022-10-04T00:00:00.000000000",
          "2022-10-11T00:00:00.000000000",
          "2022-10-18T00:00:00.000000000",
          "2022-10-25T00:00:00.000000000",
          "2022-11-01T00:00:00.000000000",
          "2022-11-08T00:00:00.000000000",
          "2022-11-15T00:00:00.000000000",
          "2022-11-22T00:00:00.000000000",
          "2022-11-29T00:00:00.000000000",
          "2022-12-06T00:00:00.000000000",
          "2022-12-13T00:00:00.000000000",
          "2022-12-20T00:00:00.000000000",
          "2022-12-27T00:00:00.000000000",
          "2023-01-03T00:00:00.000000000",
          "2023-01-10T00:00:00.000000000",
          "2023-01-17T00:00:00.000000000",
          "2023-01-24T00:00:00.000000000",
          "2023-01-31T00:00:00.000000000",
          "2023-02-07T00:00:00.000000000",
          "2023-02-14T00:00:00.000000000",
          "2023-02-21T00:00:00.000000000",
          "2023-02-28T00:00:00.000000000",
          "2023-03-07T00:00:00.000000000",
          "2023-03-14T00:00:00.000000000",
          "2023-03-21T00:00:00.000000000",
          "2023-03-28T00:00:00.000000000",
          "2023-04-04T00:00:00.000000000",
          "2023-04-11T00:00:00.000000000",
          "2023-04-18T00:00:00.000000000",
          "2023-04-25T00:00:00.000000000",
          "2023-05-02T00:00:00.000000000",
          "2023-05-09T00:00:00.000000000",
          "2023-05-16T00:00:00.000000000",
          "2023-05-23T00:00:00.000000000",
          "2023-05-30T00:00:00.000000000",
          "2023-06-06T00:00:00.000000000",
          "2023-06-13T00:00:00.000000000",
          "2023-06-20T00:00:00.000000000",
          "2023-06-27T00:00:00.000000000",
          "2023-07-03T00:00:00.000000000",
          "2023-07-11T00:00:00.000000000",
          "2023-07-18T00:00:00.000000000",
          "2023-07-25T00:00:00.000000000",
          "2023-08-01T00:00:00.000000000",
          "2023-08-08T00:00:00.000000000",
          "2023-08-15T00:00:00.000000000",
          "2023-08-22T00:00:00.000000000",
          "2023-08-29T00:00:00.000000000",
          "2023-09-05T00:00:00.000000000",
          "2023-09-12T00:00:00.000000000",
          "2023-09-19T00:00:00.000000000",
          "2023-09-26T00:00:00.000000000",
          "2023-10-03T00:00:00.000000000",
          "2023-10-10T00:00:00.000000000",
          "2023-10-17T00:00:00.000000000",
          "2023-10-24T00:00:00.000000000",
          "2023-10-31T00:00:00.000000000",
          "2023-11-07T00:00:00.000000000",
          "2023-11-14T00:00:00.000000000",
          "2023-11-21T00:00:00.000000000",
          "2023-11-28T00:00:00.000000000",
          "2023-12-05T00:00:00.000000000",
          "2023-12-12T00:00:00.000000000",
          "2023-12-19T00:00:00.000000000",
          "2023-12-26T00:00:00.000000000",
          "2024-01-02T00:00:00.000000000",
          "2024-01-09T00:00:00.000000000",
          "2024-01-16T00:00:00.000000000",
          "2024-01-23T00:00:00.000000000",
          "2024-01-30T00:00:00.000000000",
          "2024-02-06T00:00:00.000000000",
          "2024-02-13T00:00:00.000000000",
          "2024-02-20T00:00:00.000000000",
          "2024-02-27T00:00:00.000000000",
          "2024-03-05T00:00:00.000000000",
          "2024-03-12T00:00:00.000000000",
          "2024-03-19T00:00:00.000000000",
          "2024-03-26T00:00:00.000000000",
          "2024-04-02T00:00:00.000000000",
          "2024-04-09T00:00:00.000000000",
          "2024-04-16T00:00:00.000000000",
          "2024-04-23T00:00:00.000000000",
          "2024-04-30T00:00:00.000000000",
          "2024-05-07T00:00:00.000000000",
          "2024-05-14T00:00:00.000000000",
          "2024-05-21T00:00:00.000000000",
          "2024-05-28T00:00:00.000000000",
          "2024-06-04T00:00:00.000000000",
          "2024-06-11T00:00:00.000000000",
          "2024-06-18T00:00:00.000000000",
          "2024-06-25T00:00:00.000000000",
          "2024-07-02T00:00:00.000000000",
          "2024-07-09T00:00:00.000000000",
          "2024-07-16T00:00:00.000000000",
          "2024-07-23T00:00:00.000000000",
          "2024-07-30T00:00:00.000000000",
          "2024-08-06T00:00:00.000000000",
          "2024-08-13T00:00:00.000000000",
          "2024-08-20T00:00:00.000000000",
          "2024-08-27T00:00:00.000000000",
          "2024-09-03T00:00:00.000000000",
          "2024-09-10T00:00:00.000000000",
          "2024-09-17T00:00:00.000000000",
          "2024-09-24T00:00:00.000000000",
          "2024-10-01T00:00:00.000000000",
          "2024-10-08T00:00:00.000000000",
          "2024-10-15T00:00:00.000000000",
          "2024-10-22T00:00:00.000000000",
          "2024-10-29T00:00:00.000000000",
          "2024-11-05T00:00:00.000000000",
          "2024-11-12T00:00:00.000000000",
          "2024-11-19T00:00:00.000000000",
          "2024-11-26T00:00:00.000000000",
          "2024-12-03T00:00:00.000000000",
          "2024-12-10T00:00:00.000000000",
          "2024-12-17T00:00:00.000000000",
          "2024-12-24T00:00:00.000000000",
          "2024-12-31T00:00:00.000000000",
          "2025-01-07T00:00:00.000000000",
          "2025-01-14T00:00:00.000000000",
          "2025-01-21T00:00:00.000000000",
          "2025-01-28T00:00:00.000000000",
          "2025-02-04T00:00:00.000000000",
          "2025-02-11T00:00:00.000000000",
          "2025-02-18T00:00:00.000000000",
          "2025-02-25T00:00:00.000000000",
          "2025-03-04T00:00:00.000000000",
          "2025-03-11T00:00:00.000000000",
          "2025-03-18T00:00:00.000000000",
          "2025-03-25T00:00:00.000000000",
          "2025-04-01T00:00:00.000000000",
          "2025-04-08T00:00:00.000000000",
          "2025-04-15T00:00:00.000000000",
          "2025-04-22T00:00:00.000000000",
          "2025-04-29T00:00:00.000000000",
          "2025-05-06T00:00:00.000000000",
          "2025-05-13T00:00:00.000000000",
          "2025-05-20T00:00:00.000000000",
          "2025-05-27T00:00:00.000000000",
          "2025-06-03T00:00:00.000000000",
          "2025-06-10T00:00:00.000000000",
          "2025-06-17T00:00:00.000000000",
          "2025-06-24T00:00:00.000000000",
          "2025-07-01T00:00:00.000000000",
          "2025-07-08T00:00:00.000000000",
          "2025-07-15T00:00:00.000000000"
         ],
         "y": {
          "bdata": "rhEEAF4UBAAcAQQAxBAEAAGdAwCapAMANWsDAB5pAwBuXwMAjIUDALmbAwBRrQMAtFcDAMu3AwALywMAH6wDAATPAwA6ywMA3bQDAHioAwCG1QMAvrgDANr4AwCkGwQA4CQEALQ+BABIGgQAFkMEANPBAwBuwwMACu4DAGbsAwAP1gMA2ZUDALVKAwDG5AIAO6wCAOS/AgDzpwIAaI4CAEXkAgCKwgIA+sQCAHuaAgD1mgIA/+4CAOkIAwByRgMAxUIDAOsxAwAk7gIARokCALJ5AgAlygIAdOkCAIT9AgDcCgMA7/4CANaRAgA27AIA3TYDAOZNAwDXJAMAkCsDAP/cAgDPkQIANskCAMPUAgBF8wIAIEYDAFlIAwBF0QMAxPYDAKuTAwBEcgMAYVADAKEWAwDzIwMApEADAJs5AwA5DAMAn/YCAPdbAwBuoAIAUtkCAG1CAwDMtQMAVu4DANQvBACc/gMA4MgDADzuAwAlvwMAT+EDAI2oAwCoUwMAAAoDACPzAgAArQIABc4CAC2iAgCkrAIA5lsCANd9AgD9ZwIA/DgCAGnNAQDrcgEAEmoBAKblAQADLgIAbCcCAJfrAQDmywEAsZUBAEB8AQC6AAEAccsAAEFZAQDUcAEAnCwBAMAJAQBv/AAAokEBAD3tAQCRxQEAs60BALXBAQDR6gEAUPcBALAWAgBiKQIAB0wCAJhWAgDpZwIAGXICAC/3AQA5nAEAXaIBADGoAQCqgAEAKyQCAI1rAgB+xQIAkPoCAOnwAgDF5QIAsNMCAO/7AgDm/AIAZr4CANxzAgBklQIAGa4CANFxAgCffAIAZlECABl9AgB6hwIARPMCAEemAgA8hAIAiS4CADDZAQA6jgEAiOEBABYbAgDY4wEA+w8CAGfEAQBaZAEACRcBAGK4AQCJRwIAYX4CAEiJAgDwXgIAuZ4CAJQNAwAYGwMASd8CAHsSAwBmKwMAISsDAMbgAgC1vgIAApYCAE9BAgDKdwIAYAACAOYjAgBEKQIAPesCAIITAwCCEwMAfgoDAJIpAwCzFgMAwxQDAIsYAwCyHQMAjwsDANAeAwCugQMAKZwDAPaeAwDGkQMAjLUDANXBAwCHrwMAN+MDAGBZBACyKgQAScMDAJ2kAwAAFAQAtXEEAC1+BABGYwQAhU8EADK7BAD+zwQAm5MEAKQ+BADiXgQADIUEAH1ABABh5QMAo5sDAH+TAwDi0QMAmPYDAII0BACZ/wMATccDAO/FAwC/4wMAQ0MEAPCWBACRkQQArJ0EAFhXBACCGQQA+f0DAD22AwBEmgMAjO8DAMTPAwBiowMACxADAOIVAwASrQIA9n0CAMF6AgC5dQIAjYACAGioAgAB3gIAWdwCAMgPAwC8+QIA/BQDANgYAwB7QAMA",
          "dtype": "i4"
         }
        },
        {
         "mode": "lines",
         "name": "Small Traders",
         "type": "scatter",
         "x": [
          "2020-06-30T00:00:00.000000000",
          "2020-07-07T00:00:00.000000000",
          "2020-07-14T00:00:00.000000000",
          "2020-07-21T00:00:00.000000000",
          "2020-07-28T00:00:00.000000000",
          "2020-08-04T00:00:00.000000000",
          "2020-08-11T00:00:00.000000000",
          "2020-08-18T00:00:00.000000000",
          "2020-08-25T00:00:00.000000000",
          "2020-09-01T00:00:00.000000000",
          "2020-09-08T00:00:00.000000000",
          "2020-09-15T00:00:00.000000000",
          "2020-09-22T00:00:00.000000000",
          "2020-09-29T00:00:00.000000000",
          "2020-10-06T00:00:00.000000000",
          "2020-10-13T00:00:00.000000000",
          "2020-10-20T00:00:00.000000000",
          "2020-10-27T00:00:00.000000000",
          "2020-11-03T00:00:00.000000000",
          "2020-11-10T00:00:00.000000000",
          "2020-11-17T00:00:00.000000000",
          "2020-11-24T00:00:00.000000000",
          "2020-12-01T00:00:00.000000000",
          "2020-12-08T00:00:00.000000000",
          "2020-12-15T00:00:00.000000000",
          "2020-12-21T00:00:00.000000000",
          "2020-12-29T00:00:00.000000000",
          "2021-01-05T00:00:00.000000000",
          "2021-01-12T00:00:00.000000000",
          "2021-01-19T00:00:00.000000000",
          "2021-01-26T00:00:00.000000000",
          "2021-02-02T00:00:00.000000000",
          "2021-02-09T00:00:00.000000000",
          "2021-02-16T00:00:00.000000000",
          "2021-02-23T00:00:00.000000000",
          "2021-03-02T00:00:00.000000000",
          "2021-03-09T00:00:00.000000000",
          "2021-03-16T00:00:00.000000000",
          "2021-03-23T00:00:00.000000000",
          "2021-03-30T00:00:00.000000000",
          "2021-04-06T00:00:00.000000000",
          "2021-04-13T00:00:00.000000000",
          "2021-04-20T00:00:00.000000000",
          "2021-04-27T00:00:00.000000000",
          "2021-05-04T00:00:00.000000000",
          "2021-05-11T00:00:00.000000000",
          "2021-05-18T00:00:00.000000000",
          "2021-05-25T00:00:00.000000000",
          "2021-06-01T00:00:00.000000000",
          "2021-06-08T00:00:00.000000000",
          "2021-06-15T00:00:00.000000000",
          "2021-06-22T00:00:00.000000000",
          "2021-06-29T00:00:00.000000000",
          "2021-07-06T00:00:00.000000000",
          "2021-07-13T00:00:00.000000000",
          "2021-07-20T00:00:00.000000000",
          "2021-07-27T00:00:00.000000000",
          "2021-08-03T00:00:00.000000000",
          "2021-08-10T00:00:00.000000000",
          "2021-08-17T00:00:00.000000000",
          "2021-08-24T00:00:00.000000000",
          "2021-08-31T00:00:00.000000000",
          "2021-09-07T00:00:00.000000000",
          "2021-09-14T00:00:00.000000000",
          "2021-09-21T00:00:00.000000000",
          "2021-09-28T00:00:00.000000000",
          "2021-10-05T00:00:00.000000000",
          "2021-10-12T00:00:00.000000000",
          "2021-10-19T00:00:00.000000000",
          "2021-10-26T00:00:00.000000000",
          "2021-11-02T00:00:00.000000000",
          "2021-11-09T00:00:00.000000000",
          "2021-11-16T00:00:00.000000000",
          "2021-11-23T00:00:00.000000000",
          "2021-11-30T00:00:00.000000000",
          "2021-12-07T00:00:00.000000000",
          "2021-12-14T00:00:00.000000000",
          "2021-12-21T00:00:00.000000000",
          "2021-12-28T00:00:00.000000000",
          "2022-01-04T00:00:00.000000000",
          "2022-01-11T00:00:00.000000000",
          "2022-01-18T00:00:00.000000000",
          "2022-01-25T00:00:00.000000000",
          "2022-02-01T00:00:00.000000000",
          "2022-02-08T00:00:00.000000000",
          "2022-02-15T00:00:00.000000000",
          "2022-02-22T00:00:00.000000000",
          "2022-03-01T00:00:00.000000000",
          "2022-03-08T00:00:00.000000000",
          "2022-03-15T00:00:00.000000000",
          "2022-03-22T00:00:00.000000000",
          "2022-03-29T00:00:00.000000000",
          "2022-04-05T00:00:00.000000000",
          "2022-04-12T00:00:00.000000000",
          "2022-04-19T00:00:00.000000000",
          "2022-04-26T00:00:00.000000000",
          "2022-05-03T00:00:00.000000000",
          "2022-05-10T00:00:00.000000000",
          "2022-05-17T00:00:00.000000000",
          "2022-05-24T00:00:00.000000000",
          "2022-05-31T00:00:00.000000000",
          "2022-06-07T00:00:00.000000000",
          "2022-06-14T00:00:00.000000000",
          "2022-06-21T00:00:00.000000000",
          "2022-06-28T00:00:00.000000000",
          "2022-07-05T00:00:00.000000000",
          "2022-07-12T00:00:00.000000000",
          "2022-07-19T00:00:00.000000000",
          "2022-07-26T00:00:00.000000000",
          "2022-08-02T00:00:00.000000000",
          "2022-08-09T00:00:00.000000000",
          "2022-08-16T00:00:00.000000000",
          "2022-08-23T00:00:00.000000000",
          "2022-08-30T00:00:00.000000000",
          "2022-09-06T00:00:00.000000000",
          "2022-09-13T00:00:00.000000000",
          "2022-09-20T00:00:00.000000000",
          "2022-09-27T00:00:00.000000000",
          "2022-10-04T00:00:00.000000000",
          "2022-10-11T00:00:00.000000000",
          "2022-10-18T00:00:00.000000000",
          "2022-10-25T00:00:00.000000000",
          "2022-11-01T00:00:00.000000000",
          "2022-11-08T00:00:00.000000000",
          "2022-11-15T00:00:00.000000000",
          "2022-11-22T00:00:00.000000000",
          "2022-11-29T00:00:00.000000000",
          "2022-12-06T00:00:00.000000000",
          "2022-12-13T00:00:00.000000000",
          "2022-12-20T00:00:00.000000000",
          "2022-12-27T00:00:00.000000000",
          "2023-01-03T00:00:00.000000000",
          "2023-01-10T00:00:00.000000000",
          "2023-01-17T00:00:00.000000000",
          "2023-01-24T00:00:00.000000000",
          "2023-01-31T00:00:00.000000000",
          "2023-02-07T00:00:00.000000000",
          "2023-02-14T00:00:00.000000000",
          "2023-02-21T00:00:00.000000000",
          "2023-02-28T00:00:00.000000000",
          "2023-03-07T00:00:00.000000000",
          "2023-03-14T00:00:00.000000000",
          "2023-03-21T00:00:00.000000000",
          "2023-03-28T00:00:00.000000000",
          "2023-04-04T00:00:00.000000000",
          "2023-04-11T00:00:00.000000000",
          "2023-04-18T00:00:00.000000000",
          "2023-04-25T00:00:00.000000000",
          "2023-05-02T00:00:00.000000000",
          "2023-05-09T00:00:00.000000000",
          "2023-05-16T00:00:00.000000000",
          "2023-05-23T00:00:00.000000000",
          "2023-05-30T00:00:00.000000000",
          "2023-06-06T00:00:00.000000000",
          "2023-06-13T00:00:00.000000000",
          "2023-06-20T00:00:00.000000000",
          "2023-06-27T00:00:00.000000000",
          "2023-07-03T00:00:00.000000000",
          "2023-07-11T00:00:00.000000000",
          "2023-07-18T00:00:00.000000000",
          "2023-07-25T00:00:00.000000000",
          "2023-08-01T00:00:00.000000000",
          "2023-08-08T00:00:00.000000000",
          "2023-08-15T00:00:00.000000000",
          "2023-08-22T00:00:00.000000000",
          "2023-08-29T00:00:00.000000000",
          "2023-09-05T00:00:00.000000000",
          "2023-09-12T00:00:00.000000000",
          "2023-09-19T00:00:00.000000000",
          "2023-09-26T00:00:00.000000000",
          "2023-10-03T00:00:00.000000000",
          "2023-10-10T00:00:00.000000000",
          "2023-10-17T00:00:00.000000000",
          "2023-10-24T00:00:00.000000000",
          "2023-10-31T00:00:00.000000000",
          "2023-11-07T00:00:00.000000000",
          "2023-11-14T00:00:00.000000000",
          "2023-11-21T00:00:00.000000000",
          "2023-11-28T00:00:00.000000000",
          "2023-12-05T00:00:00.000000000",
          "2023-12-12T00:00:00.000000000",
          "2023-12-19T00:00:00.000000000",
          "2023-12-26T00:00:00.000000000",
          "2024-01-02T00:00:00.000000000",
          "2024-01-09T00:00:00.000000000",
          "2024-01-16T00:00:00.000000000",
          "2024-01-23T00:00:00.000000000",
          "2024-01-30T00:00:00.000000000",
          "2024-02-06T00:00:00.000000000",
          "2024-02-13T00:00:00.000000000",
          "2024-02-20T00:00:00.000000000",
          "2024-02-27T00:00:00.000000000",
          "2024-03-05T00:00:00.000000000",
          "2024-03-12T00:00:00.000000000",
          "2024-03-19T00:00:00.000000000",
          "2024-03-26T00:00:00.000000000",
          "2024-04-02T00:00:00.000000000",
          "2024-04-09T00:00:00.000000000",
          "2024-04-16T00:00:00.000000000",
          "2024-04-23T00:00:00.000000000",
          "2024-04-30T00:00:00.000000000",
          "2024-05-07T00:00:00.000000000",
          "2024-05-14T00:00:00.000000000",
          "2024-05-21T00:00:00.000000000",
          "2024-05-28T00:00:00.000000000",
          "2024-06-04T00:00:00.000000000",
          "2024-06-11T00:00:00.000000000",
          "2024-06-18T00:00:00.000000000",
          "2024-06-25T00:00:00.000000000",
          "2024-07-02T00:00:00.000000000",
          "2024-07-09T00:00:00.000000000",
          "2024-07-16T00:00:00.000000000",
          "2024-07-23T00:00:00.000000000",
          "2024-07-30T00:00:00.000000000",
          "2024-08-06T00:00:00.000000000",
          "2024-08-13T00:00:00.000000000",
          "2024-08-20T00:00:00.000000000",
          "2024-08-27T00:00:00.000000000",
          "2024-09-03T00:00:00.000000000",
          "2024-09-10T00:00:00.000000000",
          "2024-09-17T00:00:00.000000000",
          "2024-09-24T00:00:00.000000000",
          "2024-10-01T00:00:00.000000000",
          "2024-10-08T00:00:00.000000000",
          "2024-10-15T00:00:00.000000000",
          "2024-10-22T00:00:00.000000000",
          "2024-10-29T00:00:00.000000000",
          "2024-11-05T00:00:00.000000000",
          "2024-11-12T00:00:00.000000000",
          "2024-11-19T00:00:00.000000000",
          "2024-11-26T00:00:00.000000000",
          "2024-12-03T00:00:00.000000000",
          "2024-12-10T00:00:00.000000000",
          "2024-12-17T00:00:00.000000000",
          "2024-12-24T00:00:00.000000000",
          "2024-12-31T00:00:00.000000000",
          "2025-01-07T00:00:00.000000000",
          "2025-01-14T00:00:00.000000000",
          "2025-01-21T00:00:00.000000000",
          "2025-01-28T00:00:00.000000000",
          "2025-02-04T00:00:00.000000000",
          "2025-02-11T00:00:00.000000000",
          "2025-02-18T00:00:00.000000000",
          "2025-02-25T00:00:00.000000000",
          "2025-03-04T00:00:00.000000000",
          "2025-03-11T00:00:00.000000000",
          "2025-03-18T00:00:00.000000000",
          "2025-03-25T00:00:00.000000000",
          "2025-04-01T00:00:00.000000000",
          "2025-04-08T00:00:00.000000000",
          "2025-04-15T00:00:00.000000000",
          "2025-04-22T00:00:00.000000000",
          "2025-04-29T00:00:00.000000000",
          "2025-05-06T00:00:00.000000000",
          "2025-05-13T00:00:00.000000000",
          "2025-05-20T00:00:00.000000000",
          "2025-05-27T00:00:00.000000000",
          "2025-06-03T00:00:00.000000000",
          "2025-06-10T00:00:00.000000000",
          "2025-06-17T00:00:00.000000000",
          "2025-06-24T00:00:00.000000000",
          "2025-07-01T00:00:00.000000000",
          "2025-07-08T00:00:00.000000000",
          "2025-07-15T00:00:00.000000000"
         ],
         "y": {
          "bdata": "6YcAAKKJAACmmgAAL5IAAGiiAADfkgAA9qwAAN2sAABfsQAAErYAABeuAACxrAAA9LgAABemAADJmwAA0KsAAOitAADUugAAXbUAAKeqAAAmqQAA358AALWAAAAPewAAxocAACeQAADulQAAhaIAACqsAAB9nwAAuqEAAH+fAABUnwAArZwAAJyMAAA1fwAAzX8AAF9yAABYbAAAVmYAAMpiAAAKbQAAz3sAAM6OAADOeQAADYgAANyEAACDjQAAqoYAAFuKAAAWmQAASI0AAH6AAAChfAAA8HUAAEB/AADycgAAhYgAAGNqAAC6VwAA2V0AAJpdAABJdAAAe2cAAKVhAAD4VAAAgFIAADtWAADxZAAABmIAAKxgAADcYgAAb2wAAI+CAADnfwAAFm8AAFJxAAAKdgAA/H4AAPdlAAD4YgAA7WgAAJtzAAAQcgAAmGAAAK5iAADOZwAAG24AAC5/AABFiwAAG4MAALVuAADBgQAADoQAALiLAAAmegAArH8AAImGAAAfewAA5m0AAEtrAAAqYAAAo10AAFpcAAD6XgAA1U0AANNMAACbQwAAdD0AAOcrAAC3LQAAATEAAMEvAACpLgAA3ycAABo1AADqJQAASScAAOMfAABcJAAAEjMAAJUvAACvJwAAZiIAAGcfAAB/NgAADiQAAGo6AABQMgAAYjUAAABCAACERwAAt1UAAJFYAABhWQAAD08AAFdeAAD3WwAA7lYAAM5JAADeTwAABTsAAINhAACmTQAA+lkAAPtcAACkZwAAKGgAAAFWAABNaAAA/3sAALNmAADRUAAAElgAAP1kAAAKXAAAgVsAAHRUAADrVQAAj08AAPtfAAChVQAA+V8AADpRAACSSgAAqkMAAAlPAADSUQAAaUUAAE1KAAAUUQAAM0oAAJ07AABoQAAAUksAAKNNAACLVAAAYkgAAExIAABpWwAA/18AAHdkAAAzYAAAtWwAAJ9xAACHawAAW1gAAMdYAABHSAAANFUAAM1KAABMQQAAizwAAB9BAAA4PgAAZkoAACBIAACTVgAAY1EAAK1dAAD4WgAAM2wAAN5rAAC5cAAALV8AANVvAADZZwAARmAAAKtiAADYWgAA/mQAANheAADLbAAAkGYAAE12AACWYgAApWIAAOJsAAAJXwAATl8AAOVhAAD8XgAAyWsAAMRkAABwZgAAUW8AALphAABSbAAAy3EAADNtAACmVgAAq2cAACVTAACYWgAAa2QAANFdAAC3XAAAMVoAAOBkAAD5XgAAQ2QAAChjAAAFawAAa2cAAM5sAACgcQAAZGoAAIJwAAADaAAA7HoAAAZ0AAAKaQAAM2sAAKZzAAAudQAAg4MAAHuCAACZgAAApYkAANeQAADkigAAKYUAADqKAADFkgAA",
          "dtype": "i4"
         }
        }
       ],
       "layout": {
        "height": 600,
        "template": {
         "data": {
          "bar": [
           {
            "error_x": {
             "color": "#f2f5fa"
            },
            "error_y": {
             "color": "#f2f5fa"
            },
            "marker": {
             "line": {
              "color": "rgb(17,17,17)",
              "width": 0.5
             },
             "pattern": {
              "fillmode": "overlay",
              "size": 10,
              "solidity": 0.2
             }
            },
            "type": "bar"
           }
          ],
          "barpolar": [
           {
            "marker": {
             "line": {
              "color": "rgb(17,17,17)",
              "width": 0.5
             },
             "pattern": {
              "fillmode": "overlay",
              "size": 10,
              "solidity": 0.2
             }
            },
            "type": "barpolar"
           }
          ],
          "carpet": [
           {
            "aaxis": {
             "endlinecolor": "#A2B1C6",
             "gridcolor": "#506784",
             "linecolor": "#506784",
             "minorgridcolor": "#506784",
             "startlinecolor": "#A2B1C6"
            },
            "baxis": {
             "endlinecolor": "#A2B1C6",
             "gridcolor": "#506784",
             "linecolor": "#506784",
             "minorgridcolor": "#506784",
             "startlinecolor": "#A2B1C6"
            },
            "type": "carpet"
           }
          ],
          "choropleth": [
           {
            "colorbar": {
             "outlinewidth": 0,
             "ticks": ""
            },
            "type": "choropleth"
           }
          ],
          "contour": [
           {
            "colorbar": {
             "outlinewidth": 0,
             "ticks": ""
            },
            "colorscale": [
             [
              0,
              "#0d0887"
             ],
             [
              0.1111111111111111,
              "#46039f"
             ],
             [
              0.2222222222222222,
              "#7201a8"
             ],
             [
              0.3333333333333333,
              "#9c179e"
             ],
             [
              0.4444444444444444,
              "#bd3786"
             ],
             [
              0.5555555555555556,
              "#d8576b"
             ],
             [
              0.6666666666666666,
              "#ed7953"
             ],
             [
              0.7777777777777778,
              "#fb9f3a"
             ],
             [
              0.8888888888888888,
              "#fdca26"
             ],
             [
              1,
              "#f0f921"
             ]
            ],
            "type": "contour"
           }
          ],
          "contourcarpet": [
           {
            "colorbar": {
             "outlinewidth": 0,
             "ticks": ""
            },
            "type": "contourcarpet"
           }
          ],
          "heatmap": [
           {
            "colorbar": {
             "outlinewidth": 0,
             "ticks": ""
            },
            "colorscale": [
             [
              0,
              "#0d0887"
             ],
             [
              0.1111111111111111,
              "#46039f"
             ],
             [
              0.2222222222222222,
              "#7201a8"
             ],
             [
              0.3333333333333333,
              "#9c179e"
             ],
             [
              0.4444444444444444,
              "#bd3786"
             ],
             [
              0.5555555555555556,
              "#d8576b"
             ],
             [
              0.6666666666666666,
              "#ed7953"
             ],
             [
              0.7777777777777778,
              "#fb9f3a"
             ],
             [
              0.8888888888888888,
              "#fdca26"
             ],
             [
              1,
              "#f0f921"
             ]
            ],
            "type": "heatmap"
           }
          ],
          "histogram": [
           {
            "marker": {
             "pattern": {
              "fillmode": "overlay",
              "size": 10,
              "solidity": 0.2
             }
            },
            "type": "histogram"
           }
          ],
          "histogram2d": [
           {
            "colorbar": {
             "outlinewidth": 0,
             "ticks": ""
            },
            "colorscale": [
             [
              0,
              "#0d0887"
             ],
             [
              0.1111111111111111,
              "#46039f"
             ],
             [
              0.2222222222222222,
              "#7201a8"
             ],
             [
              0.3333333333333333,
              "#9c179e"
             ],
             [
              0.4444444444444444,
              "#bd3786"
             ],
             [
              0.5555555555555556,
              "#d8576b"
             ],
             [
              0.6666666666666666,
              "#ed7953"
             ],
             [
              0.7777777777777778,
              "#fb9f3a"
             ],
             [
              0.8888888888888888,
              "#fdca26"
             ],
             [
              1,
              "#f0f921"
             ]
            ],
            "type": "histogram2d"
           }
          ],
          "histogram2dcontour": [
           {
            "colorbar": {
             "outlinewidth": 0,
             "ticks": ""
            },
            "colorscale": [
             [
              0,
              "#0d0887"
             ],
             [
              0.1111111111111111,
              "#46039f"
             ],
             [
              0.2222222222222222,
              "#7201a8"
             ],
             [
              0.3333333333333333,
              "#9c179e"
             ],
             [
              0.4444444444444444,
              "#bd3786"
             ],
             [
              0.5555555555555556,
              "#d8576b"
             ],
             [
              0.6666666666666666,
              "#ed7953"
             ],
             [
              0.7777777777777778,
              "#fb9f3a"
             ],
             [
              0.8888888888888888,
              "#fdca26"
             ],
             [
              1,
              "#f0f921"
             ]
            ],
            "type": "histogram2dcontour"
           }
          ],
          "mesh3d": [
           {
            "colorbar": {
             "outlinewidth": 0,
             "ticks": ""
            },
            "type": "mesh3d"
           }
          ],
          "parcoords": [
           {
            "line": {
             "colorbar": {
              "outlinewidth": 0,
              "ticks": ""
             }
            },
            "type": "parcoords"
           }
          ],
          "pie": [
           {
            "automargin": true,
            "type": "pie"
           }
          ],
          "scatter": [
           {
            "marker": {
             "line": {
              "color": "#283442"
             }
            },
            "type": "scatter"
           }
          ],
          "scatter3d": [
           {
            "line": {
             "colorbar": {
              "outlinewidth": 0,
              "ticks": ""
             }
            },
            "marker": {
             "colorbar": {
              "outlinewidth": 0,
              "ticks": ""
             }
            },
            "type": "scatter3d"
           }
          ],
          "scattercarpet": [
           {
            "marker": {
             "colorbar": {
              "outlinewidth": 0,
              "ticks": ""
             }
            },
            "type": "scattercarpet"
           }
          ],
          "scattergeo": [
           {
            "marker": {
             "colorbar": {
              "outlinewidth": 0,
              "ticks": ""
             }
            },
            "type": "scattergeo"
           }
          ],
          "scattergl": [
           {
            "marker": {
             "line": {
              "color": "#283442"
             }
            },
            "type": "scattergl"
           }
          ],
          "scattermap": [
           {
            "marker": {
             "colorbar": {
              "outlinewidth": 0,
              "ticks": ""
             }
            },
            "type": "scattermap"
           }
          ],
          "scattermapbox": [
           {
            "marker": {
             "colorbar": {
              "outlinewidth": 0,
              "ticks": ""
             }
            },
            "type": "scattermapbox"
           }
          ],
          "scatterpolar": [
           {
            "marker": {
             "colorbar": {
              "outlinewidth": 0,
              "ticks": ""
             }
            },
            "type": "scatterpolar"
           }
          ],
          "scatterpolargl": [
           {
            "marker": {
             "colorbar": {
              "outlinewidth": 0,
              "ticks": ""
             }
            },
            "type": "scatterpolargl"
           }
          ],
          "scatterternary": [
           {
            "marker": {
             "colorbar": {
              "outlinewidth": 0,
              "ticks": ""
             }
            },
            "type": "scatterternary"
           }
          ],
          "surface": [
           {
            "colorbar": {
             "outlinewidth": 0,
             "ticks": ""
            },
            "colorscale": [
             [
              0,
              "#0d0887"
             ],
             [
              0.1111111111111111,
              "#46039f"
             ],
             [
              0.2222222222222222,
              "#7201a8"
             ],
             [
              0.3333333333333333,
              "#9c179e"
             ],
             [
              0.4444444444444444,
              "#bd3786"
             ],
             [
              0.5555555555555556,
              "#d8576b"
             ],
             [
              0.6666666666666666,
              "#ed7953"
             ],
             [
              0.7777777777777778,
              "#fb9f3a"
             ],
             [
              0.8888888888888888,
              "#fdca26"
             ],
             [
              1,
              "#f0f921"
             ]
            ],
            "type": "surface"
           }
          ],
          "table": [
           {
            "cells": {
             "fill": {
              "color": "#506784"
             },
             "line": {
              "color": "rgb(17,17,17)"
             }
            },
            "header": {
             "fill": {
              "color": "#2a3f5f"
             },
             "line": {
              "color": "rgb(17,17,17)"
             }
            },
            "type": "table"
           }
          ]
         },
         "layout": {
          "annotationdefaults": {
           "arrowcolor": "#f2f5fa",
           "arrowhead": 0,
           "arrowwidth": 1
          },
          "autotypenumbers": "strict",
          "coloraxis": {
           "colorbar": {
            "outlinewidth": 0,
            "ticks": ""
           }
          },
          "colorscale": {
           "diverging": [
            [
             0,
             "#8e0152"
            ],
            [
             0.1,
             "#c51b7d"
            ],
            [
             0.2,
             "#de77ae"
            ],
            [
             0.3,
             "#f1b6da"
            ],
            [
             0.4,
             "#fde0ef"
            ],
            [
             0.5,
             "#f7f7f7"
            ],
            [
             0.6,
             "#e6f5d0"
            ],
            [
             0.7,
             "#b8e186"
            ],
            [
             0.8,
             "#7fbc41"
            ],
            [
             0.9,
             "#4d9221"
            ],
            [
             1,
             "#276419"
            ]
           ],
           "sequential": [
            [
             0,
             "#0d0887"
            ],
            [
             0.1111111111111111,
             "#46039f"
            ],
            [
             0.2222222222222222,
             "#7201a8"
            ],
            [
             0.3333333333333333,
             "#9c179e"
            ],
            [
             0.4444444444444444,
             "#bd3786"
            ],
            [
             0.5555555555555556,
             "#d8576b"
            ],
            [
             0.6666666666666666,
             "#ed7953"
            ],
            [
             0.7777777777777778,
             "#fb9f3a"
            ],
            [
             0.8888888888888888,
             "#fdca26"
            ],
            [
             1,
             "#f0f921"
            ]
           ],
           "sequentialminus": [
            [
             0,
             "#0d0887"
            ],
            [
             0.1111111111111111,
             "#46039f"
            ],
            [
             0.2222222222222222,
             "#7201a8"
            ],
            [
             0.3333333333333333,
             "#9c179e"
            ],
            [
             0.4444444444444444,
             "#bd3786"
            ],
            [
             0.5555555555555556,
             "#d8576b"
            ],
            [
             0.6666666666666666,
             "#ed7953"
            ],
            [
             0.7777777777777778,
             "#fb9f3a"
            ],
            [
             0.8888888888888888,
             "#fdca26"
            ],
            [
             1,
             "#f0f921"
            ]
           ]
          },
          "colorway": [
           "#636efa",
           "#EF553B",
           "#00cc96",
           "#ab63fa",
           "#FFA15A",
           "#19d3f3",
           "#FF6692",
           "#B6E880",
           "#FF97FF",
           "#FECB52"
          ],
          "font": {
           "color": "#f2f5fa"
          },
          "geo": {
           "bgcolor": "rgb(17,17,17)",
           "lakecolor": "rgb(17,17,17)",
           "landcolor": "rgb(17,17,17)",
           "showlakes": true,
           "showland": true,
           "subunitcolor": "#506784"
          },
          "hoverlabel": {
           "align": "left"
          },
          "hovermode": "closest",
          "mapbox": {
           "style": "dark"
          },
          "paper_bgcolor": "rgb(17,17,17)",
          "plot_bgcolor": "rgb(17,17,17)",
          "polar": {
           "angularaxis": {
            "gridcolor": "#506784",
            "linecolor": "#506784",
            "ticks": ""
           },
           "bgcolor": "rgb(17,17,17)",
           "radialaxis": {
            "gridcolor": "#506784",
            "linecolor": "#506784",
            "ticks": ""
           }
          },
          "scene": {
           "xaxis": {
            "backgroundcolor": "rgb(17,17,17)",
            "gridcolor": "#506784",
            "gridwidth": 2,
            "linecolor": "#506784",
            "showbackground": true,
            "ticks": "",
            "zerolinecolor": "#C8D4E3"
           },
           "yaxis": {
            "backgroundcolor": "rgb(17,17,17)",
            "gridcolor": "#506784",
            "gridwidth": 2,
            "linecolor": "#506784",
            "showbackground": true,
            "ticks": "",
            "zerolinecolor": "#C8D4E3"
           },
           "zaxis": {
            "backgroundcolor": "rgb(17,17,17)",
            "gridcolor": "#506784",
            "gridwidth": 2,
            "linecolor": "#506784",
            "showbackground": true,
            "ticks": "",
            "zerolinecolor": "#C8D4E3"
           }
          },
          "shapedefaults": {
           "line": {
            "color": "#f2f5fa"
           }
          },
          "sliderdefaults": {
           "bgcolor": "#C8D4E3",
           "bordercolor": "rgb(17,17,17)",
           "borderwidth": 1,
           "tickwidth": 0
          },
          "ternary": {
           "aaxis": {
            "gridcolor": "#506784",
            "linecolor": "#506784",
            "ticks": ""
           },
           "baxis": {
            "gridcolor": "#506784",
            "linecolor": "#506784",
            "ticks": ""
           },
           "bgcolor": "rgb(17,17,17)",
           "caxis": {
            "gridcolor": "#506784",
            "linecolor": "#506784",
            "ticks": ""
           }
          },
          "title": {
           "x": 0.05
          },
          "updatemenudefaults": {
           "bgcolor": "#506784",
           "borderwidth": 0
          },
          "xaxis": {
           "automargin": true,
           "gridcolor": "#283442",
           "linecolor": "#506784",
           "ticks": "",
           "title": {
            "standoff": 15
           },
           "zerolinecolor": "#283442",
           "zerolinewidth": 2
          },
          "yaxis": {
           "automargin": true,
           "gridcolor": "#283442",
           "linecolor": "#506784",
           "ticks": "",
           "title": {
            "standoff": 15
           },
           "zerolinecolor": "#283442",
           "zerolinewidth": 2
          }
         }
        },
        "title": {
         "text": "Net positions"
        },
        "width": 1500,
        "xaxis": {
         "title": {
          "text": "Date"
         }
        },
        "yaxis": {
         "title": {
          "text": "Contratcs"
         }
        }
       }
      }
     },
     "metadata": {},
     "output_type": "display_data"
    }
   ],
   "source": [
    "import plotly.graph_objects as go\n",
    "\n",
    "fig = go.Figure()\n",
    "\n",
    "for col in net_positions_df.columns:\n",
    "    fig.add_trace(go.Scatter(x=net_positions_df.index, y=net_positions_df[col], mode='lines', name=col))\n",
    "\n",
    "fig.update_layout(\n",
    "        title='Net positions',\n",
    "        xaxis_title='Date',\n",
    "        yaxis_title='Contratcs',\n",
    "        template='plotly_dark',\n",
    "        height=600,\n",
    "        width=1500,\n",
    "    )\n",
    "\n",
    "fig.write_html(\"plots/net_positions.html\")\n",
    "fig.show()"
   ]
  },
  {
   "cell_type": "markdown",
   "id": "962e6a11",
   "metadata": {},
   "source": [
    "## Plotting all charts\n"
   ]
  },
  {
   "cell_type": "code",
   "execution_count": 92,
   "id": "00aabca4",
   "metadata": {},
   "outputs": [
    {
     "data": {
      "application/vnd.plotly.v1+json": {
       "config": {
        "plotlyServerURL": "https://plot.ly"
       },
       "data": [
        {
         "name": "COT Index",
         "type": "scatter",
         "x": [
          "2020-01-07T00:00:00.000000000",
          "2020-01-14T00:00:00.000000000",
          "2020-01-21T00:00:00.000000000",
          "2020-01-28T00:00:00.000000000",
          "2020-02-04T00:00:00.000000000",
          "2020-02-11T00:00:00.000000000",
          "2020-02-18T00:00:00.000000000",
          "2020-02-25T00:00:00.000000000",
          "2020-03-03T00:00:00.000000000",
          "2020-03-10T00:00:00.000000000",
          "2020-03-17T00:00:00.000000000",
          "2020-03-24T00:00:00.000000000",
          "2020-03-31T00:00:00.000000000",
          "2020-04-07T00:00:00.000000000",
          "2020-04-14T00:00:00.000000000",
          "2020-04-21T00:00:00.000000000",
          "2020-04-28T00:00:00.000000000",
          "2020-05-05T00:00:00.000000000",
          "2020-05-12T00:00:00.000000000",
          "2020-05-19T00:00:00.000000000",
          "2020-05-26T00:00:00.000000000",
          "2020-06-02T00:00:00.000000000",
          "2020-06-09T00:00:00.000000000",
          "2020-06-16T00:00:00.000000000",
          "2020-06-23T00:00:00.000000000",
          "2020-06-30T00:00:00.000000000",
          "2020-07-07T00:00:00.000000000",
          "2020-07-14T00:00:00.000000000",
          "2020-07-21T00:00:00.000000000",
          "2020-07-28T00:00:00.000000000",
          "2020-08-04T00:00:00.000000000",
          "2020-08-11T00:00:00.000000000",
          "2020-08-18T00:00:00.000000000",
          "2020-08-25T00:00:00.000000000",
          "2020-09-01T00:00:00.000000000",
          "2020-09-08T00:00:00.000000000",
          "2020-09-15T00:00:00.000000000",
          "2020-09-22T00:00:00.000000000",
          "2020-09-29T00:00:00.000000000",
          "2020-10-06T00:00:00.000000000",
          "2020-10-13T00:00:00.000000000",
          "2020-10-20T00:00:00.000000000",
          "2020-10-27T00:00:00.000000000",
          "2020-11-03T00:00:00.000000000",
          "2020-11-10T00:00:00.000000000",
          "2020-11-17T00:00:00.000000000",
          "2020-11-24T00:00:00.000000000",
          "2020-12-01T00:00:00.000000000",
          "2020-12-08T00:00:00.000000000",
          "2020-12-15T00:00:00.000000000",
          "2020-12-21T00:00:00.000000000",
          "2020-12-29T00:00:00.000000000",
          "2021-01-05T00:00:00.000000000",
          "2021-01-12T00:00:00.000000000",
          "2021-01-19T00:00:00.000000000",
          "2021-01-26T00:00:00.000000000",
          "2021-02-02T00:00:00.000000000",
          "2021-02-09T00:00:00.000000000",
          "2021-02-16T00:00:00.000000000",
          "2021-02-23T00:00:00.000000000",
          "2021-03-02T00:00:00.000000000",
          "2021-03-09T00:00:00.000000000",
          "2021-03-16T00:00:00.000000000",
          "2021-03-23T00:00:00.000000000",
          "2021-03-30T00:00:00.000000000",
          "2021-04-06T00:00:00.000000000",
          "2021-04-13T00:00:00.000000000",
          "2021-04-20T00:00:00.000000000",
          "2021-04-27T00:00:00.000000000",
          "2021-05-04T00:00:00.000000000",
          "2021-05-11T00:00:00.000000000",
          "2021-05-18T00:00:00.000000000",
          "2021-05-25T00:00:00.000000000",
          "2021-06-01T00:00:00.000000000",
          "2021-06-08T00:00:00.000000000",
          "2021-06-15T00:00:00.000000000",
          "2021-06-22T00:00:00.000000000",
          "2021-06-29T00:00:00.000000000",
          "2021-07-06T00:00:00.000000000",
          "2021-07-13T00:00:00.000000000",
          "2021-07-20T00:00:00.000000000",
          "2021-07-27T00:00:00.000000000",
          "2021-08-03T00:00:00.000000000",
          "2021-08-10T00:00:00.000000000",
          "2021-08-17T00:00:00.000000000",
          "2021-08-24T00:00:00.000000000",
          "2021-08-31T00:00:00.000000000",
          "2021-09-07T00:00:00.000000000",
          "2021-09-14T00:00:00.000000000",
          "2021-09-21T00:00:00.000000000",
          "2021-09-28T00:00:00.000000000",
          "2021-10-05T00:00:00.000000000",
          "2021-10-12T00:00:00.000000000",
          "2021-10-19T00:00:00.000000000",
          "2021-10-26T00:00:00.000000000",
          "2021-11-02T00:00:00.000000000",
          "2021-11-09T00:00:00.000000000",
          "2021-11-16T00:00:00.000000000",
          "2021-11-23T00:00:00.000000000",
          "2021-11-30T00:00:00.000000000",
          "2021-12-07T00:00:00.000000000",
          "2021-12-14T00:00:00.000000000",
          "2021-12-21T00:00:00.000000000",
          "2021-12-28T00:00:00.000000000",
          "2022-01-04T00:00:00.000000000",
          "2022-01-11T00:00:00.000000000",
          "2022-01-18T00:00:00.000000000",
          "2022-01-25T00:00:00.000000000",
          "2022-02-01T00:00:00.000000000",
          "2022-02-08T00:00:00.000000000",
          "2022-02-15T00:00:00.000000000",
          "2022-02-22T00:00:00.000000000",
          "2022-03-01T00:00:00.000000000",
          "2022-03-08T00:00:00.000000000",
          "2022-03-15T00:00:00.000000000",
          "2022-03-22T00:00:00.000000000",
          "2022-03-29T00:00:00.000000000",
          "2022-04-05T00:00:00.000000000",
          "2022-04-12T00:00:00.000000000",
          "2022-04-19T00:00:00.000000000",
          "2022-04-26T00:00:00.000000000",
          "2022-05-03T00:00:00.000000000",
          "2022-05-10T00:00:00.000000000",
          "2022-05-17T00:00:00.000000000",
          "2022-05-24T00:00:00.000000000",
          "2022-05-31T00:00:00.000000000",
          "2022-06-07T00:00:00.000000000",
          "2022-06-14T00:00:00.000000000",
          "2022-06-21T00:00:00.000000000",
          "2022-06-28T00:00:00.000000000",
          "2022-07-05T00:00:00.000000000",
          "2022-07-12T00:00:00.000000000",
          "2022-07-19T00:00:00.000000000",
          "2022-07-26T00:00:00.000000000",
          "2022-08-02T00:00:00.000000000",
          "2022-08-09T00:00:00.000000000",
          "2022-08-16T00:00:00.000000000",
          "2022-08-23T00:00:00.000000000",
          "2022-08-30T00:00:00.000000000",
          "2022-09-06T00:00:00.000000000",
          "2022-09-13T00:00:00.000000000",
          "2022-09-20T00:00:00.000000000",
          "2022-09-27T00:00:00.000000000",
          "2022-10-04T00:00:00.000000000",
          "2022-10-11T00:00:00.000000000",
          "2022-10-18T00:00:00.000000000",
          "2022-10-25T00:00:00.000000000",
          "2022-11-01T00:00:00.000000000",
          "2022-11-08T00:00:00.000000000",
          "2022-11-15T00:00:00.000000000",
          "2022-11-22T00:00:00.000000000",
          "2022-11-29T00:00:00.000000000",
          "2022-12-06T00:00:00.000000000",
          "2022-12-13T00:00:00.000000000",
          "2022-12-20T00:00:00.000000000",
          "2022-12-27T00:00:00.000000000",
          "2023-01-03T00:00:00.000000000",
          "2023-01-10T00:00:00.000000000",
          "2023-01-17T00:00:00.000000000",
          "2023-01-24T00:00:00.000000000",
          "2023-01-31T00:00:00.000000000",
          "2023-02-07T00:00:00.000000000",
          "2023-02-14T00:00:00.000000000",
          "2023-02-21T00:00:00.000000000",
          "2023-02-28T00:00:00.000000000",
          "2023-03-07T00:00:00.000000000",
          "2023-03-14T00:00:00.000000000",
          "2023-03-21T00:00:00.000000000",
          "2023-03-28T00:00:00.000000000",
          "2023-04-04T00:00:00.000000000",
          "2023-04-11T00:00:00.000000000",
          "2023-04-18T00:00:00.000000000",
          "2023-04-25T00:00:00.000000000",
          "2023-05-02T00:00:00.000000000",
          "2023-05-09T00:00:00.000000000",
          "2023-05-16T00:00:00.000000000",
          "2023-05-23T00:00:00.000000000",
          "2023-05-30T00:00:00.000000000",
          "2023-06-06T00:00:00.000000000",
          "2023-06-13T00:00:00.000000000",
          "2023-06-20T00:00:00.000000000",
          "2023-06-27T00:00:00.000000000",
          "2023-07-03T00:00:00.000000000",
          "2023-07-11T00:00:00.000000000",
          "2023-07-18T00:00:00.000000000",
          "2023-07-25T00:00:00.000000000",
          "2023-08-01T00:00:00.000000000",
          "2023-08-08T00:00:00.000000000",
          "2023-08-15T00:00:00.000000000",
          "2023-08-22T00:00:00.000000000",
          "2023-08-29T00:00:00.000000000",
          "2023-09-05T00:00:00.000000000",
          "2023-09-12T00:00:00.000000000",
          "2023-09-19T00:00:00.000000000",
          "2023-09-26T00:00:00.000000000",
          "2023-10-03T00:00:00.000000000",
          "2023-10-10T00:00:00.000000000",
          "2023-10-17T00:00:00.000000000",
          "2023-10-24T00:00:00.000000000",
          "2023-10-31T00:00:00.000000000",
          "2023-11-07T00:00:00.000000000",
          "2023-11-14T00:00:00.000000000",
          "2023-11-21T00:00:00.000000000",
          "2023-11-28T00:00:00.000000000",
          "2023-12-05T00:00:00.000000000",
          "2023-12-12T00:00:00.000000000",
          "2023-12-19T00:00:00.000000000",
          "2023-12-26T00:00:00.000000000",
          "2024-01-02T00:00:00.000000000",
          "2024-01-09T00:00:00.000000000",
          "2024-01-16T00:00:00.000000000",
          "2024-01-23T00:00:00.000000000",
          "2024-01-30T00:00:00.000000000",
          "2024-02-06T00:00:00.000000000",
          "2024-02-13T00:00:00.000000000",
          "2024-02-20T00:00:00.000000000",
          "2024-02-27T00:00:00.000000000",
          "2024-03-05T00:00:00.000000000",
          "2024-03-12T00:00:00.000000000",
          "2024-03-19T00:00:00.000000000",
          "2024-03-26T00:00:00.000000000",
          "2024-04-02T00:00:00.000000000",
          "2024-04-09T00:00:00.000000000",
          "2024-04-16T00:00:00.000000000",
          "2024-04-23T00:00:00.000000000",
          "2024-04-30T00:00:00.000000000",
          "2024-05-07T00:00:00.000000000",
          "2024-05-14T00:00:00.000000000",
          "2024-05-21T00:00:00.000000000",
          "2024-05-28T00:00:00.000000000",
          "2024-06-04T00:00:00.000000000",
          "2024-06-11T00:00:00.000000000",
          "2024-06-18T00:00:00.000000000",
          "2024-06-25T00:00:00.000000000",
          "2024-07-02T00:00:00.000000000",
          "2024-07-09T00:00:00.000000000",
          "2024-07-16T00:00:00.000000000",
          "2024-07-23T00:00:00.000000000",
          "2024-07-30T00:00:00.000000000",
          "2024-08-06T00:00:00.000000000",
          "2024-08-13T00:00:00.000000000",
          "2024-08-20T00:00:00.000000000",
          "2024-08-27T00:00:00.000000000",
          "2024-09-03T00:00:00.000000000",
          "2024-09-10T00:00:00.000000000",
          "2024-09-17T00:00:00.000000000",
          "2024-09-24T00:00:00.000000000",
          "2024-10-01T00:00:00.000000000",
          "2024-10-08T00:00:00.000000000",
          "2024-10-15T00:00:00.000000000",
          "2024-10-22T00:00:00.000000000",
          "2024-10-29T00:00:00.000000000",
          "2024-11-05T00:00:00.000000000",
          "2024-11-12T00:00:00.000000000",
          "2024-11-19T00:00:00.000000000",
          "2024-11-26T00:00:00.000000000",
          "2024-12-03T00:00:00.000000000",
          "2024-12-10T00:00:00.000000000",
          "2024-12-17T00:00:00.000000000",
          "2024-12-24T00:00:00.000000000",
          "2024-12-31T00:00:00.000000000",
          "2025-01-07T00:00:00.000000000",
          "2025-01-14T00:00:00.000000000",
          "2025-01-21T00:00:00.000000000",
          "2025-01-28T00:00:00.000000000",
          "2025-02-04T00:00:00.000000000",
          "2025-02-11T00:00:00.000000000",
          "2025-02-18T00:00:00.000000000",
          "2025-02-25T00:00:00.000000000",
          "2025-03-04T00:00:00.000000000",
          "2025-03-11T00:00:00.000000000",
          "2025-03-18T00:00:00.000000000",
          "2025-03-25T00:00:00.000000000",
          "2025-04-01T00:00:00.000000000",
          "2025-04-08T00:00:00.000000000",
          "2025-04-15T00:00:00.000000000",
          "2025-04-22T00:00:00.000000000",
          "2025-04-29T00:00:00.000000000",
          "2025-05-06T00:00:00.000000000",
          "2025-05-13T00:00:00.000000000",
          "2025-05-20T00:00:00.000000000",
          "2025-05-27T00:00:00.000000000",
          "2025-06-03T00:00:00.000000000",
          "2025-06-10T00:00:00.000000000",
          "2025-06-17T00:00:00.000000000",
          "2025-06-24T00:00:00.000000000",
          "2025-07-01T00:00:00.000000000",
          "2025-07-08T00:00:00.000000000",
          "2025-07-15T00:00:00.000000000"
         ],
         "xaxis": "x",
         "y": {
          "bdata": "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",
          "dtype": "f8"
         },
         "yaxis": "y"
        },
        {
         "name": "Commercials",
         "type": "scatter",
         "x": [
          "2020-01-07T00:00:00.000000000",
          "2020-01-14T00:00:00.000000000",
          "2020-01-21T00:00:00.000000000",
          "2020-01-28T00:00:00.000000000",
          "2020-02-04T00:00:00.000000000",
          "2020-02-11T00:00:00.000000000",
          "2020-02-18T00:00:00.000000000",
          "2020-02-25T00:00:00.000000000",
          "2020-03-03T00:00:00.000000000",
          "2020-03-10T00:00:00.000000000",
          "2020-03-17T00:00:00.000000000",
          "2020-03-24T00:00:00.000000000",
          "2020-03-31T00:00:00.000000000",
          "2020-04-07T00:00:00.000000000",
          "2020-04-14T00:00:00.000000000",
          "2020-04-21T00:00:00.000000000",
          "2020-04-28T00:00:00.000000000",
          "2020-05-05T00:00:00.000000000",
          "2020-05-12T00:00:00.000000000",
          "2020-05-19T00:00:00.000000000",
          "2020-05-26T00:00:00.000000000",
          "2020-06-02T00:00:00.000000000",
          "2020-06-09T00:00:00.000000000",
          "2020-06-16T00:00:00.000000000",
          "2020-06-23T00:00:00.000000000",
          "2020-06-30T00:00:00.000000000",
          "2020-07-07T00:00:00.000000000",
          "2020-07-14T00:00:00.000000000",
          "2020-07-21T00:00:00.000000000",
          "2020-07-28T00:00:00.000000000",
          "2020-08-04T00:00:00.000000000",
          "2020-08-11T00:00:00.000000000",
          "2020-08-18T00:00:00.000000000",
          "2020-08-25T00:00:00.000000000",
          "2020-09-01T00:00:00.000000000",
          "2020-09-08T00:00:00.000000000",
          "2020-09-15T00:00:00.000000000",
          "2020-09-22T00:00:00.000000000",
          "2020-09-29T00:00:00.000000000",
          "2020-10-06T00:00:00.000000000",
          "2020-10-13T00:00:00.000000000",
          "2020-10-20T00:00:00.000000000",
          "2020-10-27T00:00:00.000000000",
          "2020-11-03T00:00:00.000000000",
          "2020-11-10T00:00:00.000000000",
          "2020-11-17T00:00:00.000000000",
          "2020-11-24T00:00:00.000000000",
          "2020-12-01T00:00:00.000000000",
          "2020-12-08T00:00:00.000000000",
          "2020-12-15T00:00:00.000000000",
          "2020-12-21T00:00:00.000000000",
          "2020-12-29T00:00:00.000000000",
          "2021-01-05T00:00:00.000000000",
          "2021-01-12T00:00:00.000000000",
          "2021-01-19T00:00:00.000000000",
          "2021-01-26T00:00:00.000000000",
          "2021-02-02T00:00:00.000000000",
          "2021-02-09T00:00:00.000000000",
          "2021-02-16T00:00:00.000000000",
          "2021-02-23T00:00:00.000000000",
          "2021-03-02T00:00:00.000000000",
          "2021-03-09T00:00:00.000000000",
          "2021-03-16T00:00:00.000000000",
          "2021-03-23T00:00:00.000000000",
          "2021-03-30T00:00:00.000000000",
          "2021-04-06T00:00:00.000000000",
          "2021-04-13T00:00:00.000000000",
          "2021-04-20T00:00:00.000000000",
          "2021-04-27T00:00:00.000000000",
          "2021-05-04T00:00:00.000000000",
          "2021-05-11T00:00:00.000000000",
          "2021-05-18T00:00:00.000000000",
          "2021-05-25T00:00:00.000000000",
          "2021-06-01T00:00:00.000000000",
          "2021-06-08T00:00:00.000000000",
          "2021-06-15T00:00:00.000000000",
          "2021-06-22T00:00:00.000000000",
          "2021-06-29T00:00:00.000000000",
          "2021-07-06T00:00:00.000000000",
          "2021-07-13T00:00:00.000000000",
          "2021-07-20T00:00:00.000000000",
          "2021-07-27T00:00:00.000000000",
          "2021-08-03T00:00:00.000000000",
          "2021-08-10T00:00:00.000000000",
          "2021-08-17T00:00:00.000000000",
          "2021-08-24T00:00:00.000000000",
          "2021-08-31T00:00:00.000000000",
          "2021-09-07T00:00:00.000000000",
          "2021-09-14T00:00:00.000000000",
          "2021-09-21T00:00:00.000000000",
          "2021-09-28T00:00:00.000000000",
          "2021-10-05T00:00:00.000000000",
          "2021-10-12T00:00:00.000000000",
          "2021-10-19T00:00:00.000000000",
          "2021-10-26T00:00:00.000000000",
          "2021-11-02T00:00:00.000000000",
          "2021-11-09T00:00:00.000000000",
          "2021-11-16T00:00:00.000000000",
          "2021-11-23T00:00:00.000000000",
          "2021-11-30T00:00:00.000000000",
          "2021-12-07T00:00:00.000000000",
          "2021-12-14T00:00:00.000000000",
          "2021-12-21T00:00:00.000000000",
          "2021-12-28T00:00:00.000000000",
          "2022-01-04T00:00:00.000000000",
          "2022-01-11T00:00:00.000000000",
          "2022-01-18T00:00:00.000000000",
          "2022-01-25T00:00:00.000000000",
          "2022-02-01T00:00:00.000000000",
          "2022-02-08T00:00:00.000000000",
          "2022-02-15T00:00:00.000000000",
          "2022-02-22T00:00:00.000000000",
          "2022-03-01T00:00:00.000000000",
          "2022-03-08T00:00:00.000000000",
          "2022-03-15T00:00:00.000000000",
          "2022-03-22T00:00:00.000000000",
          "2022-03-29T00:00:00.000000000",
          "2022-04-05T00:00:00.000000000",
          "2022-04-12T00:00:00.000000000",
          "2022-04-19T00:00:00.000000000",
          "2022-04-26T00:00:00.000000000",
          "2022-05-03T00:00:00.000000000",
          "2022-05-10T00:00:00.000000000",
          "2022-05-17T00:00:00.000000000",
          "2022-05-24T00:00:00.000000000",
          "2022-05-31T00:00:00.000000000",
          "2022-06-07T00:00:00.000000000",
          "2022-06-14T00:00:00.000000000",
          "2022-06-21T00:00:00.000000000",
          "2022-06-28T00:00:00.000000000",
          "2022-07-05T00:00:00.000000000",
          "2022-07-12T00:00:00.000000000",
          "2022-07-19T00:00:00.000000000",
          "2022-07-26T00:00:00.000000000",
          "2022-08-02T00:00:00.000000000",
          "2022-08-09T00:00:00.000000000",
          "2022-08-16T00:00:00.000000000",
          "2022-08-23T00:00:00.000000000",
          "2022-08-30T00:00:00.000000000",
          "2022-09-06T00:00:00.000000000",
          "2022-09-13T00:00:00.000000000",
          "2022-09-20T00:00:00.000000000",
          "2022-09-27T00:00:00.000000000",
          "2022-10-04T00:00:00.000000000",
          "2022-10-11T00:00:00.000000000",
          "2022-10-18T00:00:00.000000000",
          "2022-10-25T00:00:00.000000000",
          "2022-11-01T00:00:00.000000000",
          "2022-11-08T00:00:00.000000000",
          "2022-11-15T00:00:00.000000000",
          "2022-11-22T00:00:00.000000000",
          "2022-11-29T00:00:00.000000000",
          "2022-12-06T00:00:00.000000000",
          "2022-12-13T00:00:00.000000000",
          "2022-12-20T00:00:00.000000000",
          "2022-12-27T00:00:00.000000000",
          "2023-01-03T00:00:00.000000000",
          "2023-01-10T00:00:00.000000000",
          "2023-01-17T00:00:00.000000000",
          "2023-01-24T00:00:00.000000000",
          "2023-01-31T00:00:00.000000000",
          "2023-02-07T00:00:00.000000000",
          "2023-02-14T00:00:00.000000000",
          "2023-02-21T00:00:00.000000000",
          "2023-02-28T00:00:00.000000000",
          "2023-03-07T00:00:00.000000000",
          "2023-03-14T00:00:00.000000000",
          "2023-03-21T00:00:00.000000000",
          "2023-03-28T00:00:00.000000000",
          "2023-04-04T00:00:00.000000000",
          "2023-04-11T00:00:00.000000000",
          "2023-04-18T00:00:00.000000000",
          "2023-04-25T00:00:00.000000000",
          "2023-05-02T00:00:00.000000000",
          "2023-05-09T00:00:00.000000000",
          "2023-05-16T00:00:00.000000000",
          "2023-05-23T00:00:00.000000000",
          "2023-05-30T00:00:00.000000000",
          "2023-06-06T00:00:00.000000000",
          "2023-06-13T00:00:00.000000000",
          "2023-06-20T00:00:00.000000000",
          "2023-06-27T00:00:00.000000000",
          "2023-07-03T00:00:00.000000000",
          "2023-07-11T00:00:00.000000000",
          "2023-07-18T00:00:00.000000000",
          "2023-07-25T00:00:00.000000000",
          "2023-08-01T00:00:00.000000000",
          "2023-08-08T00:00:00.000000000",
          "2023-08-15T00:00:00.000000000",
          "2023-08-22T00:00:00.000000000",
          "2023-08-29T00:00:00.000000000",
          "2023-09-05T00:00:00.000000000",
          "2023-09-12T00:00:00.000000000",
          "2023-09-19T00:00:00.000000000",
          "2023-09-26T00:00:00.000000000",
          "2023-10-03T00:00:00.000000000",
          "2023-10-10T00:00:00.000000000",
          "2023-10-17T00:00:00.000000000",
          "2023-10-24T00:00:00.000000000",
          "2023-10-31T00:00:00.000000000",
          "2023-11-07T00:00:00.000000000",
          "2023-11-14T00:00:00.000000000",
          "2023-11-21T00:00:00.000000000",
          "2023-11-28T00:00:00.000000000",
          "2023-12-05T00:00:00.000000000",
          "2023-12-12T00:00:00.000000000",
          "2023-12-19T00:00:00.000000000",
          "2023-12-26T00:00:00.000000000",
          "2024-01-02T00:00:00.000000000",
          "2024-01-09T00:00:00.000000000",
          "2024-01-16T00:00:00.000000000",
          "2024-01-23T00:00:00.000000000",
          "2024-01-30T00:00:00.000000000",
          "2024-02-06T00:00:00.000000000",
          "2024-02-13T00:00:00.000000000",
          "2024-02-20T00:00:00.000000000",
          "2024-02-27T00:00:00.000000000",
          "2024-03-05T00:00:00.000000000",
          "2024-03-12T00:00:00.000000000",
          "2024-03-19T00:00:00.000000000",
          "2024-03-26T00:00:00.000000000",
          "2024-04-02T00:00:00.000000000",
          "2024-04-09T00:00:00.000000000",
          "2024-04-16T00:00:00.000000000",
          "2024-04-23T00:00:00.000000000",
          "2024-04-30T00:00:00.000000000",
          "2024-05-07T00:00:00.000000000",
          "2024-05-14T00:00:00.000000000",
          "2024-05-21T00:00:00.000000000",
          "2024-05-28T00:00:00.000000000",
          "2024-06-04T00:00:00.000000000",
          "2024-06-11T00:00:00.000000000",
          "2024-06-18T00:00:00.000000000",
          "2024-06-25T00:00:00.000000000",
          "2024-07-02T00:00:00.000000000",
          "2024-07-09T00:00:00.000000000",
          "2024-07-16T00:00:00.000000000",
          "2024-07-23T00:00:00.000000000",
          "2024-07-30T00:00:00.000000000",
          "2024-08-06T00:00:00.000000000",
          "2024-08-13T00:00:00.000000000",
          "2024-08-20T00:00:00.000000000",
          "2024-08-27T00:00:00.000000000",
          "2024-09-03T00:00:00.000000000",
          "2024-09-10T00:00:00.000000000",
          "2024-09-17T00:00:00.000000000",
          "2024-09-24T00:00:00.000000000",
          "2024-10-01T00:00:00.000000000",
          "2024-10-08T00:00:00.000000000",
          "2024-10-15T00:00:00.000000000",
          "2024-10-22T00:00:00.000000000",
          "2024-10-29T00:00:00.000000000",
          "2024-11-05T00:00:00.000000000",
          "2024-11-12T00:00:00.000000000",
          "2024-11-19T00:00:00.000000000",
          "2024-11-26T00:00:00.000000000",
          "2024-12-03T00:00:00.000000000",
          "2024-12-10T00:00:00.000000000",
          "2024-12-17T00:00:00.000000000",
          "2024-12-24T00:00:00.000000000",
          "2024-12-31T00:00:00.000000000",
          "2025-01-07T00:00:00.000000000",
          "2025-01-14T00:00:00.000000000",
          "2025-01-21T00:00:00.000000000",
          "2025-01-28T00:00:00.000000000",
          "2025-02-04T00:00:00.000000000",
          "2025-02-11T00:00:00.000000000",
          "2025-02-18T00:00:00.000000000",
          "2025-02-25T00:00:00.000000000",
          "2025-03-04T00:00:00.000000000",
          "2025-03-11T00:00:00.000000000",
          "2025-03-18T00:00:00.000000000",
          "2025-03-25T00:00:00.000000000",
          "2025-04-01T00:00:00.000000000",
          "2025-04-08T00:00:00.000000000",
          "2025-04-15T00:00:00.000000000",
          "2025-04-22T00:00:00.000000000",
          "2025-04-29T00:00:00.000000000",
          "2025-05-06T00:00:00.000000000",
          "2025-05-13T00:00:00.000000000",
          "2025-05-20T00:00:00.000000000",
          "2025-05-27T00:00:00.000000000",
          "2025-06-03T00:00:00.000000000",
          "2025-06-10T00:00:00.000000000",
          "2025-06-17T00:00:00.000000000",
          "2025-06-24T00:00:00.000000000",
          "2025-07-01T00:00:00.000000000",
          "2025-07-08T00:00:00.000000000",
          "2025-07-15T00:00:00.000000000"
         ],
         "xaxis": "x2",
         "y": {
          "bdata": "aWb7/wBi+/8+ZPv/DV37/5fA+/+HyPv/1ef7/wXq+/8z7/v/YsT7/zC2+//+pfv/WO/7/x6i+/8smfv/Eaj7/xSD+//yefv/xpX7/+Gs+/9Ugfv/Y6f7/3GG+/9Nafv/WlP7/yUx+//KT/v/ZRr7/wOS+/8Vnfv/PHD7/xt0+/+divv/es37/68o/P8FnPz/+NP8/73N/P+16/z/Qgv9//G4/P9s0Pz/N7/8/7fW/P896/z/9Ij8/zty/P8LLPz/kTb8/7pD/P/GePz/cun8/9AF/f86ufz/nKD8/zyD/P8ygvz/jHj8/8cD/f8QvPz/Smv8/4BU/P/gZvz/9Wz8/1zB/P85Gf3/SuT8/wLV/P/Kp/z/2lf8//tW/P/fy/v/zZz7/8bp+//VDfz/iUD8/w14/P8DZvz/YED8/25g/P/PkPz/dKD8/24w/P+C7fz/Fsb8/+Va/P9m4vv/j6P7//5Q+/8fdvv/BbT7/w+j+/8av/v/o5r7/7vL+/8yMvz/VHb8/1SG/P/h1/z/FcT8/4jy/P8y8/z/d0b9/88l/f8JOf3/L3n9/8Tl/f96Sf7/elj+/3Pu/f9GpP3/k6f9/6jk/f9xBf7/cEL+/6ZO/v9c2f7/Rg3//9yG/v/Qav7/UqD+/6vG/v/i2/7/+Jv+/1zz/f/wA/7/Py7+/+ED/v/f4v3/TtP9/1Cn/f8aj/3/Ql79/9dQ/f+2Pv3/2D79/3qq/f/QB/7/tQb+/wEO/v94L/7/0KD9//Ay/f/c7Pz/dqv8/xyy/P+Xsvz/KMT8/xCu/P/Nmvz/m8X8/3El/f/LGf3/1fn8/zIp/f9XJ/3/GVP9/3Mu/f+bIv3/Lb38/775/P8jJv3/fnH9/5bV/f80J/7/ztr9/+GV/f9Wyv3/nKr9/0zx/f+SSv7/xJ7+/wEM/v8PeP3/TTb9/xUp/f+FTP3/5Rj9/yCq/P9/ifz/uMD8/w6J/P9ndPz/Kmj8/5ut/P/E1fz/oxH9/+pl/f/vP/3/bKr9/02R/f9wlf3/ONj8/1+r/P9Grvz/HKv8/06O/P+6kvz/2pn8/8iJ/P9Wh/z/Poj8/1J1/P+ZDfz/qgT8/zXx+/9hBvz/Lur7/4Db+/+h9fv/y7f7/8hH+/+DaPv/J9b7/xbl+/9qifv/piv7//EU+/+xPfv/LVH7/+ni+v8G0fr/nAD7/5hc+/+uOvv/owv7/8ld+/9Nrvv/kvL7/07/+/941/v/vaH7/1l4+//Ppfv/SNT7/0Dc+/+Kv/v/jGL7/zAE+/92D/v/Ef76/4BF+/95e/v/nJr7//Xc+/8c9Pv/EKb7/7q/+/+b9Pv/CXX8/xh2/P/k6fz/1xb9/5kR/f8ZFf3/8Pv8/x3V/P9mofz/Apr8/2Ff/P9ge/z/22X8/+5c/P/ALPz/",
          "dtype": "i4"
         },
         "yaxis": "y2"
        },
        {
         "name": "Large speculators",
         "type": "scatter",
         "x": [
          "2020-01-07T00:00:00.000000000",
          "2020-01-14T00:00:00.000000000",
          "2020-01-21T00:00:00.000000000",
          "2020-01-28T00:00:00.000000000",
          "2020-02-04T00:00:00.000000000",
          "2020-02-11T00:00:00.000000000",
          "2020-02-18T00:00:00.000000000",
          "2020-02-25T00:00:00.000000000",
          "2020-03-03T00:00:00.000000000",
          "2020-03-10T00:00:00.000000000",
          "2020-03-17T00:00:00.000000000",
          "2020-03-24T00:00:00.000000000",
          "2020-03-31T00:00:00.000000000",
          "2020-04-07T00:00:00.000000000",
          "2020-04-14T00:00:00.000000000",
          "2020-04-21T00:00:00.000000000",
          "2020-04-28T00:00:00.000000000",
          "2020-05-05T00:00:00.000000000",
          "2020-05-12T00:00:00.000000000",
          "2020-05-19T00:00:00.000000000",
          "2020-05-26T00:00:00.000000000",
          "2020-06-02T00:00:00.000000000",
          "2020-06-09T00:00:00.000000000",
          "2020-06-16T00:00:00.000000000",
          "2020-06-23T00:00:00.000000000",
          "2020-06-30T00:00:00.000000000",
          "2020-07-07T00:00:00.000000000",
          "2020-07-14T00:00:00.000000000",
          "2020-07-21T00:00:00.000000000",
          "2020-07-28T00:00:00.000000000",
          "2020-08-04T00:00:00.000000000",
          "2020-08-11T00:00:00.000000000",
          "2020-08-18T00:00:00.000000000",
          "2020-08-25T00:00:00.000000000",
          "2020-09-01T00:00:00.000000000",
          "2020-09-08T00:00:00.000000000",
          "2020-09-15T00:00:00.000000000",
          "2020-09-22T00:00:00.000000000",
          "2020-09-29T00:00:00.000000000",
          "2020-10-06T00:00:00.000000000",
          "2020-10-13T00:00:00.000000000",
          "2020-10-20T00:00:00.000000000",
          "2020-10-27T00:00:00.000000000",
          "2020-11-03T00:00:00.000000000",
          "2020-11-10T00:00:00.000000000",
          "2020-11-17T00:00:00.000000000",
          "2020-11-24T00:00:00.000000000",
          "2020-12-01T00:00:00.000000000",
          "2020-12-08T00:00:00.000000000",
          "2020-12-15T00:00:00.000000000",
          "2020-12-21T00:00:00.000000000",
          "2020-12-29T00:00:00.000000000",
          "2021-01-05T00:00:00.000000000",
          "2021-01-12T00:00:00.000000000",
          "2021-01-19T00:00:00.000000000",
          "2021-01-26T00:00:00.000000000",
          "2021-02-02T00:00:00.000000000",
          "2021-02-09T00:00:00.000000000",
          "2021-02-16T00:00:00.000000000",
          "2021-02-23T00:00:00.000000000",
          "2021-03-02T00:00:00.000000000",
          "2021-03-09T00:00:00.000000000",
          "2021-03-16T00:00:00.000000000",
          "2021-03-23T00:00:00.000000000",
          "2021-03-30T00:00:00.000000000",
          "2021-04-06T00:00:00.000000000",
          "2021-04-13T00:00:00.000000000",
          "2021-04-20T00:00:00.000000000",
          "2021-04-27T00:00:00.000000000",
          "2021-05-04T00:00:00.000000000",
          "2021-05-11T00:00:00.000000000",
          "2021-05-18T00:00:00.000000000",
          "2021-05-25T00:00:00.000000000",
          "2021-06-01T00:00:00.000000000",
          "2021-06-08T00:00:00.000000000",
          "2021-06-15T00:00:00.000000000",
          "2021-06-22T00:00:00.000000000",
          "2021-06-29T00:00:00.000000000",
          "2021-07-06T00:00:00.000000000",
          "2021-07-13T00:00:00.000000000",
          "2021-07-20T00:00:00.000000000",
          "2021-07-27T00:00:00.000000000",
          "2021-08-03T00:00:00.000000000",
          "2021-08-10T00:00:00.000000000",
          "2021-08-17T00:00:00.000000000",
          "2021-08-24T00:00:00.000000000",
          "2021-08-31T00:00:00.000000000",
          "2021-09-07T00:00:00.000000000",
          "2021-09-14T00:00:00.000000000",
          "2021-09-21T00:00:00.000000000",
          "2021-09-28T00:00:00.000000000",
          "2021-10-05T00:00:00.000000000",
          "2021-10-12T00:00:00.000000000",
          "2021-10-19T00:00:00.000000000",
          "2021-10-26T00:00:00.000000000",
          "2021-11-02T00:00:00.000000000",
          "2021-11-09T00:00:00.000000000",
          "2021-11-16T00:00:00.000000000",
          "2021-11-23T00:00:00.000000000",
          "2021-11-30T00:00:00.000000000",
          "2021-12-07T00:00:00.000000000",
          "2021-12-14T00:00:00.000000000",
          "2021-12-21T00:00:00.000000000",
          "2021-12-28T00:00:00.000000000",
          "2022-01-04T00:00:00.000000000",
          "2022-01-11T00:00:00.000000000",
          "2022-01-18T00:00:00.000000000",
          "2022-01-25T00:00:00.000000000",
          "2022-02-01T00:00:00.000000000",
          "2022-02-08T00:00:00.000000000",
          "2022-02-15T00:00:00.000000000",
          "2022-02-22T00:00:00.000000000",
          "2022-03-01T00:00:00.000000000",
          "2022-03-08T00:00:00.000000000",
          "2022-03-15T00:00:00.000000000",
          "2022-03-22T00:00:00.000000000",
          "2022-03-29T00:00:00.000000000",
          "2022-04-05T00:00:00.000000000",
          "2022-04-12T00:00:00.000000000",
          "2022-04-19T00:00:00.000000000",
          "2022-04-26T00:00:00.000000000",
          "2022-05-03T00:00:00.000000000",
          "2022-05-10T00:00:00.000000000",
          "2022-05-17T00:00:00.000000000",
          "2022-05-24T00:00:00.000000000",
          "2022-05-31T00:00:00.000000000",
          "2022-06-07T00:00:00.000000000",
          "2022-06-14T00:00:00.000000000",
          "2022-06-21T00:00:00.000000000",
          "2022-06-28T00:00:00.000000000",
          "2022-07-05T00:00:00.000000000",
          "2022-07-12T00:00:00.000000000",
          "2022-07-19T00:00:00.000000000",
          "2022-07-26T00:00:00.000000000",
          "2022-08-02T00:00:00.000000000",
          "2022-08-09T00:00:00.000000000",
          "2022-08-16T00:00:00.000000000",
          "2022-08-23T00:00:00.000000000",
          "2022-08-30T00:00:00.000000000",
          "2022-09-06T00:00:00.000000000",
          "2022-09-13T00:00:00.000000000",
          "2022-09-20T00:00:00.000000000",
          "2022-09-27T00:00:00.000000000",
          "2022-10-04T00:00:00.000000000",
          "2022-10-11T00:00:00.000000000",
          "2022-10-18T00:00:00.000000000",
          "2022-10-25T00:00:00.000000000",
          "2022-11-01T00:00:00.000000000",
          "2022-11-08T00:00:00.000000000",
          "2022-11-15T00:00:00.000000000",
          "2022-11-22T00:00:00.000000000",
          "2022-11-29T00:00:00.000000000",
          "2022-12-06T00:00:00.000000000",
          "2022-12-13T00:00:00.000000000",
          "2022-12-20T00:00:00.000000000",
          "2022-12-27T00:00:00.000000000",
          "2023-01-03T00:00:00.000000000",
          "2023-01-10T00:00:00.000000000",
          "2023-01-17T00:00:00.000000000",
          "2023-01-24T00:00:00.000000000",
          "2023-01-31T00:00:00.000000000",
          "2023-02-07T00:00:00.000000000",
          "2023-02-14T00:00:00.000000000",
          "2023-02-21T00:00:00.000000000",
          "2023-02-28T00:00:00.000000000",
          "2023-03-07T00:00:00.000000000",
          "2023-03-14T00:00:00.000000000",
          "2023-03-21T00:00:00.000000000",
          "2023-03-28T00:00:00.000000000",
          "2023-04-04T00:00:00.000000000",
          "2023-04-11T00:00:00.000000000",
          "2023-04-18T00:00:00.000000000",
          "2023-04-25T00:00:00.000000000",
          "2023-05-02T00:00:00.000000000",
          "2023-05-09T00:00:00.000000000",
          "2023-05-16T00:00:00.000000000",
          "2023-05-23T00:00:00.000000000",
          "2023-05-30T00:00:00.000000000",
          "2023-06-06T00:00:00.000000000",
          "2023-06-13T00:00:00.000000000",
          "2023-06-20T00:00:00.000000000",
          "2023-06-27T00:00:00.000000000",
          "2023-07-03T00:00:00.000000000",
          "2023-07-11T00:00:00.000000000",
          "2023-07-18T00:00:00.000000000",
          "2023-07-25T00:00:00.000000000",
          "2023-08-01T00:00:00.000000000",
          "2023-08-08T00:00:00.000000000",
          "2023-08-15T00:00:00.000000000",
          "2023-08-22T00:00:00.000000000",
          "2023-08-29T00:00:00.000000000",
          "2023-09-05T00:00:00.000000000",
          "2023-09-12T00:00:00.000000000",
          "2023-09-19T00:00:00.000000000",
          "2023-09-26T00:00:00.000000000",
          "2023-10-03T00:00:00.000000000",
          "2023-10-10T00:00:00.000000000",
          "2023-10-17T00:00:00.000000000",
          "2023-10-24T00:00:00.000000000",
          "2023-10-31T00:00:00.000000000",
          "2023-11-07T00:00:00.000000000",
          "2023-11-14T00:00:00.000000000",
          "2023-11-21T00:00:00.000000000",
          "2023-11-28T00:00:00.000000000",
          "2023-12-05T00:00:00.000000000",
          "2023-12-12T00:00:00.000000000",
          "2023-12-19T00:00:00.000000000",
          "2023-12-26T00:00:00.000000000",
          "2024-01-02T00:00:00.000000000",
          "2024-01-09T00:00:00.000000000",
          "2024-01-16T00:00:00.000000000",
          "2024-01-23T00:00:00.000000000",
          "2024-01-30T00:00:00.000000000",
          "2024-02-06T00:00:00.000000000",
          "2024-02-13T00:00:00.000000000",
          "2024-02-20T00:00:00.000000000",
          "2024-02-27T00:00:00.000000000",
          "2024-03-05T00:00:00.000000000",
          "2024-03-12T00:00:00.000000000",
          "2024-03-19T00:00:00.000000000",
          "2024-03-26T00:00:00.000000000",
          "2024-04-02T00:00:00.000000000",
          "2024-04-09T00:00:00.000000000",
          "2024-04-16T00:00:00.000000000",
          "2024-04-23T00:00:00.000000000",
          "2024-04-30T00:00:00.000000000",
          "2024-05-07T00:00:00.000000000",
          "2024-05-14T00:00:00.000000000",
          "2024-05-21T00:00:00.000000000",
          "2024-05-28T00:00:00.000000000",
          "2024-06-04T00:00:00.000000000",
          "2024-06-11T00:00:00.000000000",
          "2024-06-18T00:00:00.000000000",
          "2024-06-25T00:00:00.000000000",
          "2024-07-02T00:00:00.000000000",
          "2024-07-09T00:00:00.000000000",
          "2024-07-16T00:00:00.000000000",
          "2024-07-23T00:00:00.000000000",
          "2024-07-30T00:00:00.000000000",
          "2024-08-06T00:00:00.000000000",
          "2024-08-13T00:00:00.000000000",
          "2024-08-20T00:00:00.000000000",
          "2024-08-27T00:00:00.000000000",
          "2024-09-03T00:00:00.000000000",
          "2024-09-10T00:00:00.000000000",
          "2024-09-17T00:00:00.000000000",
          "2024-09-24T00:00:00.000000000",
          "2024-10-01T00:00:00.000000000",
          "2024-10-08T00:00:00.000000000",
          "2024-10-15T00:00:00.000000000",
          "2024-10-22T00:00:00.000000000",
          "2024-10-29T00:00:00.000000000",
          "2024-11-05T00:00:00.000000000",
          "2024-11-12T00:00:00.000000000",
          "2024-11-19T00:00:00.000000000",
          "2024-11-26T00:00:00.000000000",
          "2024-12-03T00:00:00.000000000",
          "2024-12-10T00:00:00.000000000",
          "2024-12-17T00:00:00.000000000",
          "2024-12-24T00:00:00.000000000",
          "2024-12-31T00:00:00.000000000",
          "2025-01-07T00:00:00.000000000",
          "2025-01-14T00:00:00.000000000",
          "2025-01-21T00:00:00.000000000",
          "2025-01-28T00:00:00.000000000",
          "2025-02-04T00:00:00.000000000",
          "2025-02-11T00:00:00.000000000",
          "2025-02-18T00:00:00.000000000",
          "2025-02-25T00:00:00.000000000",
          "2025-03-04T00:00:00.000000000",
          "2025-03-11T00:00:00.000000000",
          "2025-03-18T00:00:00.000000000",
          "2025-03-25T00:00:00.000000000",
          "2025-04-01T00:00:00.000000000",
          "2025-04-08T00:00:00.000000000",
          "2025-04-15T00:00:00.000000000",
          "2025-04-22T00:00:00.000000000",
          "2025-04-29T00:00:00.000000000",
          "2025-05-06T00:00:00.000000000",
          "2025-05-13T00:00:00.000000000",
          "2025-05-20T00:00:00.000000000",
          "2025-05-27T00:00:00.000000000",
          "2025-06-03T00:00:00.000000000",
          "2025-06-10T00:00:00.000000000",
          "2025-06-17T00:00:00.000000000",
          "2025-06-24T00:00:00.000000000",
          "2025-07-01T00:00:00.000000000",
          "2025-07-08T00:00:00.000000000",
          "2025-07-15T00:00:00.000000000"
         ],
         "xaxis": "x2",
         "y": {
          "bdata": "rhEEAF4UBAAcAQQAxBAEAAGdAwCapAMANWsDAB5pAwBuXwMAjIUDALmbAwBRrQMAtFcDAMu3AwALywMAH6wDAATPAwA6ywMA3bQDAHioAwCG1QMAvrgDANr4AwCkGwQA4CQEALQ+BABIGgQAFkMEANPBAwBuwwMACu4DAGbsAwAP1gMA2ZUDALVKAwDG5AIAO6wCAOS/AgDzpwIAaI4CAEXkAgCKwgIA+sQCAHuaAgD1mgIA/+4CAOkIAwByRgMAxUIDAOsxAwAk7gIARokCALJ5AgAlygIAdOkCAIT9AgDcCgMA7/4CANaRAgA27AIA3TYDAOZNAwDXJAMAkCsDAP/cAgDPkQIANskCAMPUAgBF8wIAIEYDAFlIAwBF0QMAxPYDAKuTAwBEcgMAYVADAKEWAwDzIwMApEADAJs5AwA5DAMAn/YCAPdbAwBuoAIAUtkCAG1CAwDMtQMAVu4DANQvBACc/gMA4MgDADzuAwAlvwMAT+EDAI2oAwCoUwMAAAoDACPzAgAArQIABc4CAC2iAgCkrAIA5lsCANd9AgD9ZwIA/DgCAGnNAQDrcgEAEmoBAKblAQADLgIAbCcCAJfrAQDmywEAsZUBAEB8AQC6AAEAccsAAEFZAQDUcAEAnCwBAMAJAQBv/AAAokEBAD3tAQCRxQEAs60BALXBAQDR6gEAUPcBALAWAgBiKQIAB0wCAJhWAgDpZwIAGXICAC/3AQA5nAEAXaIBADGoAQCqgAEAKyQCAI1rAgB+xQIAkPoCAOnwAgDF5QIAsNMCAO/7AgDm/AIAZr4CANxzAgBklQIAGa4CANFxAgCffAIAZlECABl9AgB6hwIARPMCAEemAgA8hAIAiS4CADDZAQA6jgEAiOEBABYbAgDY4wEA+w8CAGfEAQBaZAEACRcBAGK4AQCJRwIAYX4CAEiJAgDwXgIAuZ4CAJQNAwAYGwMASd8CAHsSAwBmKwMAISsDAMbgAgC1vgIAApYCAE9BAgDKdwIAYAACAOYjAgBEKQIAPesCAIITAwCCEwMAfgoDAJIpAwCzFgMAwxQDAIsYAwCyHQMAjwsDANAeAwCugQMAKZwDAPaeAwDGkQMAjLUDANXBAwCHrwMAN+MDAGBZBACyKgQAScMDAJ2kAwAAFAQAtXEEAC1+BABGYwQAhU8EADK7BAD+zwQAm5MEAKQ+BADiXgQADIUEAH1ABABh5QMAo5sDAH+TAwDi0QMAmPYDAII0BACZ/wMATccDAO/FAwC/4wMAQ0MEAPCWBACRkQQArJ0EAFhXBACCGQQA+f0DAD22AwBEmgMAjO8DAMTPAwBiowMACxADAOIVAwASrQIA9n0CAMF6AgC5dQIAjYACAGioAgAB3gIAWdwCAMgPAwC8+QIA/BQDANgYAwB7QAMA",
          "dtype": "i4"
         },
         "yaxis": "y2"
        },
        {
         "name": "Small Traders",
         "type": "scatter",
         "x": [
          "2020-01-07T00:00:00.000000000",
          "2020-01-14T00:00:00.000000000",
          "2020-01-21T00:00:00.000000000",
          "2020-01-28T00:00:00.000000000",
          "2020-02-04T00:00:00.000000000",
          "2020-02-11T00:00:00.000000000",
          "2020-02-18T00:00:00.000000000",
          "2020-02-25T00:00:00.000000000",
          "2020-03-03T00:00:00.000000000",
          "2020-03-10T00:00:00.000000000",
          "2020-03-17T00:00:00.000000000",
          "2020-03-24T00:00:00.000000000",
          "2020-03-31T00:00:00.000000000",
          "2020-04-07T00:00:00.000000000",
          "2020-04-14T00:00:00.000000000",
          "2020-04-21T00:00:00.000000000",
          "2020-04-28T00:00:00.000000000",
          "2020-05-05T00:00:00.000000000",
          "2020-05-12T00:00:00.000000000",
          "2020-05-19T00:00:00.000000000",
          "2020-05-26T00:00:00.000000000",
          "2020-06-02T00:00:00.000000000",
          "2020-06-09T00:00:00.000000000",
          "2020-06-16T00:00:00.000000000",
          "2020-06-23T00:00:00.000000000",
          "2020-06-30T00:00:00.000000000",
          "2020-07-07T00:00:00.000000000",
          "2020-07-14T00:00:00.000000000",
          "2020-07-21T00:00:00.000000000",
          "2020-07-28T00:00:00.000000000",
          "2020-08-04T00:00:00.000000000",
          "2020-08-11T00:00:00.000000000",
          "2020-08-18T00:00:00.000000000",
          "2020-08-25T00:00:00.000000000",
          "2020-09-01T00:00:00.000000000",
          "2020-09-08T00:00:00.000000000",
          "2020-09-15T00:00:00.000000000",
          "2020-09-22T00:00:00.000000000",
          "2020-09-29T00:00:00.000000000",
          "2020-10-06T00:00:00.000000000",
          "2020-10-13T00:00:00.000000000",
          "2020-10-20T00:00:00.000000000",
          "2020-10-27T00:00:00.000000000",
          "2020-11-03T00:00:00.000000000",
          "2020-11-10T00:00:00.000000000",
          "2020-11-17T00:00:00.000000000",
          "2020-11-24T00:00:00.000000000",
          "2020-12-01T00:00:00.000000000",
          "2020-12-08T00:00:00.000000000",
          "2020-12-15T00:00:00.000000000",
          "2020-12-21T00:00:00.000000000",
          "2020-12-29T00:00:00.000000000",
          "2021-01-05T00:00:00.000000000",
          "2021-01-12T00:00:00.000000000",
          "2021-01-19T00:00:00.000000000",
          "2021-01-26T00:00:00.000000000",
          "2021-02-02T00:00:00.000000000",
          "2021-02-09T00:00:00.000000000",
          "2021-02-16T00:00:00.000000000",
          "2021-02-23T00:00:00.000000000",
          "2021-03-02T00:00:00.000000000",
          "2021-03-09T00:00:00.000000000",
          "2021-03-16T00:00:00.000000000",
          "2021-03-23T00:00:00.000000000",
          "2021-03-30T00:00:00.000000000",
          "2021-04-06T00:00:00.000000000",
          "2021-04-13T00:00:00.000000000",
          "2021-04-20T00:00:00.000000000",
          "2021-04-27T00:00:00.000000000",
          "2021-05-04T00:00:00.000000000",
          "2021-05-11T00:00:00.000000000",
          "2021-05-18T00:00:00.000000000",
          "2021-05-25T00:00:00.000000000",
          "2021-06-01T00:00:00.000000000",
          "2021-06-08T00:00:00.000000000",
          "2021-06-15T00:00:00.000000000",
          "2021-06-22T00:00:00.000000000",
          "2021-06-29T00:00:00.000000000",
          "2021-07-06T00:00:00.000000000",
          "2021-07-13T00:00:00.000000000",
          "2021-07-20T00:00:00.000000000",
          "2021-07-27T00:00:00.000000000",
          "2021-08-03T00:00:00.000000000",
          "2021-08-10T00:00:00.000000000",
          "2021-08-17T00:00:00.000000000",
          "2021-08-24T00:00:00.000000000",
          "2021-08-31T00:00:00.000000000",
          "2021-09-07T00:00:00.000000000",
          "2021-09-14T00:00:00.000000000",
          "2021-09-21T00:00:00.000000000",
          "2021-09-28T00:00:00.000000000",
          "2021-10-05T00:00:00.000000000",
          "2021-10-12T00:00:00.000000000",
          "2021-10-19T00:00:00.000000000",
          "2021-10-26T00:00:00.000000000",
          "2021-11-02T00:00:00.000000000",
          "2021-11-09T00:00:00.000000000",
          "2021-11-16T00:00:00.000000000",
          "2021-11-23T00:00:00.000000000",
          "2021-11-30T00:00:00.000000000",
          "2021-12-07T00:00:00.000000000",
          "2021-12-14T00:00:00.000000000",
          "2021-12-21T00:00:00.000000000",
          "2021-12-28T00:00:00.000000000",
          "2022-01-04T00:00:00.000000000",
          "2022-01-11T00:00:00.000000000",
          "2022-01-18T00:00:00.000000000",
          "2022-01-25T00:00:00.000000000",
          "2022-02-01T00:00:00.000000000",
          "2022-02-08T00:00:00.000000000",
          "2022-02-15T00:00:00.000000000",
          "2022-02-22T00:00:00.000000000",
          "2022-03-01T00:00:00.000000000",
          "2022-03-08T00:00:00.000000000",
          "2022-03-15T00:00:00.000000000",
          "2022-03-22T00:00:00.000000000",
          "2022-03-29T00:00:00.000000000",
          "2022-04-05T00:00:00.000000000",
          "2022-04-12T00:00:00.000000000",
          "2022-04-19T00:00:00.000000000",
          "2022-04-26T00:00:00.000000000",
          "2022-05-03T00:00:00.000000000",
          "2022-05-10T00:00:00.000000000",
          "2022-05-17T00:00:00.000000000",
          "2022-05-24T00:00:00.000000000",
          "2022-05-31T00:00:00.000000000",
          "2022-06-07T00:00:00.000000000",
          "2022-06-14T00:00:00.000000000",
          "2022-06-21T00:00:00.000000000",
          "2022-06-28T00:00:00.000000000",
          "2022-07-05T00:00:00.000000000",
          "2022-07-12T00:00:00.000000000",
          "2022-07-19T00:00:00.000000000",
          "2022-07-26T00:00:00.000000000",
          "2022-08-02T00:00:00.000000000",
          "2022-08-09T00:00:00.000000000",
          "2022-08-16T00:00:00.000000000",
          "2022-08-23T00:00:00.000000000",
          "2022-08-30T00:00:00.000000000",
          "2022-09-06T00:00:00.000000000",
          "2022-09-13T00:00:00.000000000",
          "2022-09-20T00:00:00.000000000",
          "2022-09-27T00:00:00.000000000",
          "2022-10-04T00:00:00.000000000",
          "2022-10-11T00:00:00.000000000",
          "2022-10-18T00:00:00.000000000",
          "2022-10-25T00:00:00.000000000",
          "2022-11-01T00:00:00.000000000",
          "2022-11-08T00:00:00.000000000",
          "2022-11-15T00:00:00.000000000",
          "2022-11-22T00:00:00.000000000",
          "2022-11-29T00:00:00.000000000",
          "2022-12-06T00:00:00.000000000",
          "2022-12-13T00:00:00.000000000",
          "2022-12-20T00:00:00.000000000",
          "2022-12-27T00:00:00.000000000",
          "2023-01-03T00:00:00.000000000",
          "2023-01-10T00:00:00.000000000",
          "2023-01-17T00:00:00.000000000",
          "2023-01-24T00:00:00.000000000",
          "2023-01-31T00:00:00.000000000",
          "2023-02-07T00:00:00.000000000",
          "2023-02-14T00:00:00.000000000",
          "2023-02-21T00:00:00.000000000",
          "2023-02-28T00:00:00.000000000",
          "2023-03-07T00:00:00.000000000",
          "2023-03-14T00:00:00.000000000",
          "2023-03-21T00:00:00.000000000",
          "2023-03-28T00:00:00.000000000",
          "2023-04-04T00:00:00.000000000",
          "2023-04-11T00:00:00.000000000",
          "2023-04-18T00:00:00.000000000",
          "2023-04-25T00:00:00.000000000",
          "2023-05-02T00:00:00.000000000",
          "2023-05-09T00:00:00.000000000",
          "2023-05-16T00:00:00.000000000",
          "2023-05-23T00:00:00.000000000",
          "2023-05-30T00:00:00.000000000",
          "2023-06-06T00:00:00.000000000",
          "2023-06-13T00:00:00.000000000",
          "2023-06-20T00:00:00.000000000",
          "2023-06-27T00:00:00.000000000",
          "2023-07-03T00:00:00.000000000",
          "2023-07-11T00:00:00.000000000",
          "2023-07-18T00:00:00.000000000",
          "2023-07-25T00:00:00.000000000",
          "2023-08-01T00:00:00.000000000",
          "2023-08-08T00:00:00.000000000",
          "2023-08-15T00:00:00.000000000",
          "2023-08-22T00:00:00.000000000",
          "2023-08-29T00:00:00.000000000",
          "2023-09-05T00:00:00.000000000",
          "2023-09-12T00:00:00.000000000",
          "2023-09-19T00:00:00.000000000",
          "2023-09-26T00:00:00.000000000",
          "2023-10-03T00:00:00.000000000",
          "2023-10-10T00:00:00.000000000",
          "2023-10-17T00:00:00.000000000",
          "2023-10-24T00:00:00.000000000",
          "2023-10-31T00:00:00.000000000",
          "2023-11-07T00:00:00.000000000",
          "2023-11-14T00:00:00.000000000",
          "2023-11-21T00:00:00.000000000",
          "2023-11-28T00:00:00.000000000",
          "2023-12-05T00:00:00.000000000",
          "2023-12-12T00:00:00.000000000",
          "2023-12-19T00:00:00.000000000",
          "2023-12-26T00:00:00.000000000",
          "2024-01-02T00:00:00.000000000",
          "2024-01-09T00:00:00.000000000",
          "2024-01-16T00:00:00.000000000",
          "2024-01-23T00:00:00.000000000",
          "2024-01-30T00:00:00.000000000",
          "2024-02-06T00:00:00.000000000",
          "2024-02-13T00:00:00.000000000",
          "2024-02-20T00:00:00.000000000",
          "2024-02-27T00:00:00.000000000",
          "2024-03-05T00:00:00.000000000",
          "2024-03-12T00:00:00.000000000",
          "2024-03-19T00:00:00.000000000",
          "2024-03-26T00:00:00.000000000",
          "2024-04-02T00:00:00.000000000",
          "2024-04-09T00:00:00.000000000",
          "2024-04-16T00:00:00.000000000",
          "2024-04-23T00:00:00.000000000",
          "2024-04-30T00:00:00.000000000",
          "2024-05-07T00:00:00.000000000",
          "2024-05-14T00:00:00.000000000",
          "2024-05-21T00:00:00.000000000",
          "2024-05-28T00:00:00.000000000",
          "2024-06-04T00:00:00.000000000",
          "2024-06-11T00:00:00.000000000",
          "2024-06-18T00:00:00.000000000",
          "2024-06-25T00:00:00.000000000",
          "2024-07-02T00:00:00.000000000",
          "2024-07-09T00:00:00.000000000",
          "2024-07-16T00:00:00.000000000",
          "2024-07-23T00:00:00.000000000",
          "2024-07-30T00:00:00.000000000",
          "2024-08-06T00:00:00.000000000",
          "2024-08-13T00:00:00.000000000",
          "2024-08-20T00:00:00.000000000",
          "2024-08-27T00:00:00.000000000",
          "2024-09-03T00:00:00.000000000",
          "2024-09-10T00:00:00.000000000",
          "2024-09-17T00:00:00.000000000",
          "2024-09-24T00:00:00.000000000",
          "2024-10-01T00:00:00.000000000",
          "2024-10-08T00:00:00.000000000",
          "2024-10-15T00:00:00.000000000",
          "2024-10-22T00:00:00.000000000",
          "2024-10-29T00:00:00.000000000",
          "2024-11-05T00:00:00.000000000",
          "2024-11-12T00:00:00.000000000",
          "2024-11-19T00:00:00.000000000",
          "2024-11-26T00:00:00.000000000",
          "2024-12-03T00:00:00.000000000",
          "2024-12-10T00:00:00.000000000",
          "2024-12-17T00:00:00.000000000",
          "2024-12-24T00:00:00.000000000",
          "2024-12-31T00:00:00.000000000",
          "2025-01-07T00:00:00.000000000",
          "2025-01-14T00:00:00.000000000",
          "2025-01-21T00:00:00.000000000",
          "2025-01-28T00:00:00.000000000",
          "2025-02-04T00:00:00.000000000",
          "2025-02-11T00:00:00.000000000",
          "2025-02-18T00:00:00.000000000",
          "2025-02-25T00:00:00.000000000",
          "2025-03-04T00:00:00.000000000",
          "2025-03-11T00:00:00.000000000",
          "2025-03-18T00:00:00.000000000",
          "2025-03-25T00:00:00.000000000",
          "2025-04-01T00:00:00.000000000",
          "2025-04-08T00:00:00.000000000",
          "2025-04-15T00:00:00.000000000",
          "2025-04-22T00:00:00.000000000",
          "2025-04-29T00:00:00.000000000",
          "2025-05-06T00:00:00.000000000",
          "2025-05-13T00:00:00.000000000",
          "2025-05-20T00:00:00.000000000",
          "2025-05-27T00:00:00.000000000",
          "2025-06-03T00:00:00.000000000",
          "2025-06-10T00:00:00.000000000",
          "2025-06-17T00:00:00.000000000",
          "2025-06-24T00:00:00.000000000",
          "2025-07-01T00:00:00.000000000",
          "2025-07-08T00:00:00.000000000",
          "2025-07-15T00:00:00.000000000"
         ],
         "xaxis": "x2",
         "y": {
          "bdata": "6YcAAKKJAACmmgAAL5IAAGiiAADfkgAA9qwAAN2sAABfsQAAErYAABeuAACxrAAA9LgAABemAADJmwAA0KsAAOitAADUugAAXbUAAKeqAAAmqQAA358AALWAAAAPewAAxocAACeQAADulQAAhaIAACqsAAB9nwAAuqEAAH+fAABUnwAArZwAAJyMAAA1fwAAzX8AAF9yAABYbAAAVmYAAMpiAAAKbQAAz3sAAM6OAADOeQAADYgAANyEAACDjQAAqoYAAFuKAAAWmQAASI0AAH6AAAChfAAA8HUAAEB/AADycgAAhYgAAGNqAAC6VwAA2V0AAJpdAABJdAAAe2cAAKVhAAD4VAAAgFIAADtWAADxZAAABmIAAKxgAADcYgAAb2wAAI+CAADnfwAAFm8AAFJxAAAKdgAA/H4AAPdlAAD4YgAA7WgAAJtzAAAQcgAAmGAAAK5iAADOZwAAG24AAC5/AABFiwAAG4MAALVuAADBgQAADoQAALiLAAAmegAArH8AAImGAAAfewAA5m0AAEtrAAAqYAAAo10AAFpcAAD6XgAA1U0AANNMAACbQwAAdD0AAOcrAAC3LQAAATEAAMEvAACpLgAA3ycAABo1AADqJQAASScAAOMfAABcJAAAEjMAAJUvAACvJwAAZiIAAGcfAAB/NgAADiQAAGo6AABQMgAAYjUAAABCAACERwAAt1UAAJFYAABhWQAAD08AAFdeAAD3WwAA7lYAAM5JAADeTwAABTsAAINhAACmTQAA+lkAAPtcAACkZwAAKGgAAAFWAABNaAAA/3sAALNmAADRUAAAElgAAP1kAAAKXAAAgVsAAHRUAADrVQAAj08AAPtfAAChVQAA+V8AADpRAACSSgAAqkMAAAlPAADSUQAAaUUAAE1KAAAUUQAAM0oAAJ07AABoQAAAUksAAKNNAACLVAAAYkgAAExIAABpWwAA/18AAHdkAAAzYAAAtWwAAJ9xAACHawAAW1gAAMdYAABHSAAANFUAAM1KAABMQQAAizwAAB9BAAA4PgAAZkoAACBIAACTVgAAY1EAAK1dAAD4WgAAM2wAAN5rAAC5cAAALV8AANVvAADZZwAARmAAAKtiAADYWgAA/mQAANheAADLbAAAkGYAAE12AACWYgAApWIAAOJsAAAJXwAATl8AAOVhAAD8XgAAyWsAAMRkAABwZgAAUW8AALphAABSbAAAy3EAADNtAACmVgAAq2cAACVTAACYWgAAa2QAANFdAAC3XAAAMVoAAOBkAAD5XgAAQ2QAAChjAAAFawAAa2cAAM5sAACgcQAAZGoAAIJwAAADaAAA7HoAAAZ0AAAKaQAAM2sAAKZzAAAudQAAg4MAAHuCAACZgAAApYkAANeQAADkigAAKYUAADqKAADFkgAA",
          "dtype": "i4"
         },
         "yaxis": "y2"
        },
        {
         "name": "OI",
         "type": "scatter",
         "x": [
          "2020-01-07T00:00:00.000000000",
          "2020-01-14T00:00:00.000000000",
          "2020-01-21T00:00:00.000000000",
          "2020-01-28T00:00:00.000000000",
          "2020-02-04T00:00:00.000000000",
          "2020-02-11T00:00:00.000000000",
          "2020-02-18T00:00:00.000000000",
          "2020-02-25T00:00:00.000000000",
          "2020-03-03T00:00:00.000000000",
          "2020-03-10T00:00:00.000000000",
          "2020-03-17T00:00:00.000000000",
          "2020-03-24T00:00:00.000000000",
          "2020-03-31T00:00:00.000000000",
          "2020-04-07T00:00:00.000000000",
          "2020-04-14T00:00:00.000000000",
          "2020-04-21T00:00:00.000000000",
          "2020-04-28T00:00:00.000000000",
          "2020-05-05T00:00:00.000000000",
          "2020-05-12T00:00:00.000000000",
          "2020-05-19T00:00:00.000000000",
          "2020-05-26T00:00:00.000000000",
          "2020-06-02T00:00:00.000000000",
          "2020-06-09T00:00:00.000000000",
          "2020-06-16T00:00:00.000000000",
          "2020-06-23T00:00:00.000000000",
          "2020-06-30T00:00:00.000000000",
          "2020-07-07T00:00:00.000000000",
          "2020-07-14T00:00:00.000000000",
          "2020-07-21T00:00:00.000000000",
          "2020-07-28T00:00:00.000000000",
          "2020-08-04T00:00:00.000000000",
          "2020-08-11T00:00:00.000000000",
          "2020-08-18T00:00:00.000000000",
          "2020-08-25T00:00:00.000000000",
          "2020-09-01T00:00:00.000000000",
          "2020-09-08T00:00:00.000000000",
          "2020-09-15T00:00:00.000000000",
          "2020-09-22T00:00:00.000000000",
          "2020-09-29T00:00:00.000000000",
          "2020-10-06T00:00:00.000000000",
          "2020-10-13T00:00:00.000000000",
          "2020-10-20T00:00:00.000000000",
          "2020-10-27T00:00:00.000000000",
          "2020-11-03T00:00:00.000000000",
          "2020-11-10T00:00:00.000000000",
          "2020-11-17T00:00:00.000000000",
          "2020-11-24T00:00:00.000000000",
          "2020-12-01T00:00:00.000000000",
          "2020-12-08T00:00:00.000000000",
          "2020-12-15T00:00:00.000000000",
          "2020-12-21T00:00:00.000000000",
          "2020-12-29T00:00:00.000000000",
          "2021-01-05T00:00:00.000000000",
          "2021-01-12T00:00:00.000000000",
          "2021-01-19T00:00:00.000000000",
          "2021-01-26T00:00:00.000000000",
          "2021-02-02T00:00:00.000000000",
          "2021-02-09T00:00:00.000000000",
          "2021-02-16T00:00:00.000000000",
          "2021-02-23T00:00:00.000000000",
          "2021-03-02T00:00:00.000000000",
          "2021-03-09T00:00:00.000000000",
          "2021-03-16T00:00:00.000000000",
          "2021-03-23T00:00:00.000000000",
          "2021-03-30T00:00:00.000000000",
          "2021-04-06T00:00:00.000000000",
          "2021-04-13T00:00:00.000000000",
          "2021-04-20T00:00:00.000000000",
          "2021-04-27T00:00:00.000000000",
          "2021-05-04T00:00:00.000000000",
          "2021-05-11T00:00:00.000000000",
          "2021-05-18T00:00:00.000000000",
          "2021-05-25T00:00:00.000000000",
          "2021-06-01T00:00:00.000000000",
          "2021-06-08T00:00:00.000000000",
          "2021-06-15T00:00:00.000000000",
          "2021-06-22T00:00:00.000000000",
          "2021-06-29T00:00:00.000000000",
          "2021-07-06T00:00:00.000000000",
          "2021-07-13T00:00:00.000000000",
          "2021-07-20T00:00:00.000000000",
          "2021-07-27T00:00:00.000000000",
          "2021-08-03T00:00:00.000000000",
          "2021-08-10T00:00:00.000000000",
          "2021-08-17T00:00:00.000000000",
          "2021-08-24T00:00:00.000000000",
          "2021-08-31T00:00:00.000000000",
          "2021-09-07T00:00:00.000000000",
          "2021-09-14T00:00:00.000000000",
          "2021-09-21T00:00:00.000000000",
          "2021-09-28T00:00:00.000000000",
          "2021-10-05T00:00:00.000000000",
          "2021-10-12T00:00:00.000000000",
          "2021-10-19T00:00:00.000000000",
          "2021-10-26T00:00:00.000000000",
          "2021-11-02T00:00:00.000000000",
          "2021-11-09T00:00:00.000000000",
          "2021-11-16T00:00:00.000000000",
          "2021-11-23T00:00:00.000000000",
          "2021-11-30T00:00:00.000000000",
          "2021-12-07T00:00:00.000000000",
          "2021-12-14T00:00:00.000000000",
          "2021-12-21T00:00:00.000000000",
          "2021-12-28T00:00:00.000000000",
          "2022-01-04T00:00:00.000000000",
          "2022-01-11T00:00:00.000000000",
          "2022-01-18T00:00:00.000000000",
          "2022-01-25T00:00:00.000000000",
          "2022-02-01T00:00:00.000000000",
          "2022-02-08T00:00:00.000000000",
          "2022-02-15T00:00:00.000000000",
          "2022-02-22T00:00:00.000000000",
          "2022-03-01T00:00:00.000000000",
          "2022-03-08T00:00:00.000000000",
          "2022-03-15T00:00:00.000000000",
          "2022-03-22T00:00:00.000000000",
          "2022-03-29T00:00:00.000000000",
          "2022-04-05T00:00:00.000000000",
          "2022-04-12T00:00:00.000000000",
          "2022-04-19T00:00:00.000000000",
          "2022-04-26T00:00:00.000000000",
          "2022-05-03T00:00:00.000000000",
          "2022-05-10T00:00:00.000000000",
          "2022-05-17T00:00:00.000000000",
          "2022-05-24T00:00:00.000000000",
          "2022-05-31T00:00:00.000000000",
          "2022-06-07T00:00:00.000000000",
          "2022-06-14T00:00:00.000000000",
          "2022-06-21T00:00:00.000000000",
          "2022-06-28T00:00:00.000000000",
          "2022-07-05T00:00:00.000000000",
          "2022-07-12T00:00:00.000000000",
          "2022-07-19T00:00:00.000000000",
          "2022-07-26T00:00:00.000000000",
          "2022-08-02T00:00:00.000000000",
          "2022-08-09T00:00:00.000000000",
          "2022-08-16T00:00:00.000000000",
          "2022-08-23T00:00:00.000000000",
          "2022-08-30T00:00:00.000000000",
          "2022-09-06T00:00:00.000000000",
          "2022-09-13T00:00:00.000000000",
          "2022-09-20T00:00:00.000000000",
          "2022-09-27T00:00:00.000000000",
          "2022-10-04T00:00:00.000000000",
          "2022-10-11T00:00:00.000000000",
          "2022-10-18T00:00:00.000000000",
          "2022-10-25T00:00:00.000000000",
          "2022-11-01T00:00:00.000000000",
          "2022-11-08T00:00:00.000000000",
          "2022-11-15T00:00:00.000000000",
          "2022-11-22T00:00:00.000000000",
          "2022-11-29T00:00:00.000000000",
          "2022-12-06T00:00:00.000000000",
          "2022-12-13T00:00:00.000000000",
          "2022-12-20T00:00:00.000000000",
          "2022-12-27T00:00:00.000000000",
          "2023-01-03T00:00:00.000000000",
          "2023-01-10T00:00:00.000000000",
          "2023-01-17T00:00:00.000000000",
          "2023-01-24T00:00:00.000000000",
          "2023-01-31T00:00:00.000000000",
          "2023-02-07T00:00:00.000000000",
          "2023-02-14T00:00:00.000000000",
          "2023-02-21T00:00:00.000000000",
          "2023-02-28T00:00:00.000000000",
          "2023-03-07T00:00:00.000000000",
          "2023-03-14T00:00:00.000000000",
          "2023-03-21T00:00:00.000000000",
          "2023-03-28T00:00:00.000000000",
          "2023-04-04T00:00:00.000000000",
          "2023-04-11T00:00:00.000000000",
          "2023-04-18T00:00:00.000000000",
          "2023-04-25T00:00:00.000000000",
          "2023-05-02T00:00:00.000000000",
          "2023-05-09T00:00:00.000000000",
          "2023-05-16T00:00:00.000000000",
          "2023-05-23T00:00:00.000000000",
          "2023-05-30T00:00:00.000000000",
          "2023-06-06T00:00:00.000000000",
          "2023-06-13T00:00:00.000000000",
          "2023-06-20T00:00:00.000000000",
          "2023-06-27T00:00:00.000000000",
          "2023-07-03T00:00:00.000000000",
          "2023-07-11T00:00:00.000000000",
          "2023-07-18T00:00:00.000000000",
          "2023-07-25T00:00:00.000000000",
          "2023-08-01T00:00:00.000000000",
          "2023-08-08T00:00:00.000000000",
          "2023-08-15T00:00:00.000000000",
          "2023-08-22T00:00:00.000000000",
          "2023-08-29T00:00:00.000000000",
          "2023-09-05T00:00:00.000000000",
          "2023-09-12T00:00:00.000000000",
          "2023-09-19T00:00:00.000000000",
          "2023-09-26T00:00:00.000000000",
          "2023-10-03T00:00:00.000000000",
          "2023-10-10T00:00:00.000000000",
          "2023-10-17T00:00:00.000000000",
          "2023-10-24T00:00:00.000000000",
          "2023-10-31T00:00:00.000000000",
          "2023-11-07T00:00:00.000000000",
          "2023-11-14T00:00:00.000000000",
          "2023-11-21T00:00:00.000000000",
          "2023-11-28T00:00:00.000000000",
          "2023-12-05T00:00:00.000000000",
          "2023-12-12T00:00:00.000000000",
          "2023-12-19T00:00:00.000000000",
          "2023-12-26T00:00:00.000000000",
          "2024-01-02T00:00:00.000000000",
          "2024-01-09T00:00:00.000000000",
          "2024-01-16T00:00:00.000000000",
          "2024-01-23T00:00:00.000000000",
          "2024-01-30T00:00:00.000000000",
          "2024-02-06T00:00:00.000000000",
          "2024-02-13T00:00:00.000000000",
          "2024-02-20T00:00:00.000000000",
          "2024-02-27T00:00:00.000000000",
          "2024-03-05T00:00:00.000000000",
          "2024-03-12T00:00:00.000000000",
          "2024-03-19T00:00:00.000000000",
          "2024-03-26T00:00:00.000000000",
          "2024-04-02T00:00:00.000000000",
          "2024-04-09T00:00:00.000000000",
          "2024-04-16T00:00:00.000000000",
          "2024-04-23T00:00:00.000000000",
          "2024-04-30T00:00:00.000000000",
          "2024-05-07T00:00:00.000000000",
          "2024-05-14T00:00:00.000000000",
          "2024-05-21T00:00:00.000000000",
          "2024-05-28T00:00:00.000000000",
          "2024-06-04T00:00:00.000000000",
          "2024-06-11T00:00:00.000000000",
          "2024-06-18T00:00:00.000000000",
          "2024-06-25T00:00:00.000000000",
          "2024-07-02T00:00:00.000000000",
          "2024-07-09T00:00:00.000000000",
          "2024-07-16T00:00:00.000000000",
          "2024-07-23T00:00:00.000000000",
          "2024-07-30T00:00:00.000000000",
          "2024-08-06T00:00:00.000000000",
          "2024-08-13T00:00:00.000000000",
          "2024-08-20T00:00:00.000000000",
          "2024-08-27T00:00:00.000000000",
          "2024-09-03T00:00:00.000000000",
          "2024-09-10T00:00:00.000000000",
          "2024-09-17T00:00:00.000000000",
          "2024-09-24T00:00:00.000000000",
          "2024-10-01T00:00:00.000000000",
          "2024-10-08T00:00:00.000000000",
          "2024-10-15T00:00:00.000000000",
          "2024-10-22T00:00:00.000000000",
          "2024-10-29T00:00:00.000000000",
          "2024-11-05T00:00:00.000000000",
          "2024-11-12T00:00:00.000000000",
          "2024-11-19T00:00:00.000000000",
          "2024-11-26T00:00:00.000000000",
          "2024-12-03T00:00:00.000000000",
          "2024-12-10T00:00:00.000000000",
          "2024-12-17T00:00:00.000000000",
          "2024-12-24T00:00:00.000000000",
          "2024-12-31T00:00:00.000000000",
          "2025-01-07T00:00:00.000000000",
          "2025-01-14T00:00:00.000000000",
          "2025-01-21T00:00:00.000000000",
          "2025-01-28T00:00:00.000000000",
          "2025-02-04T00:00:00.000000000",
          "2025-02-11T00:00:00.000000000",
          "2025-02-18T00:00:00.000000000",
          "2025-02-25T00:00:00.000000000",
          "2025-03-04T00:00:00.000000000",
          "2025-03-11T00:00:00.000000000",
          "2025-03-18T00:00:00.000000000",
          "2025-03-25T00:00:00.000000000",
          "2025-04-01T00:00:00.000000000",
          "2025-04-08T00:00:00.000000000",
          "2025-04-15T00:00:00.000000000",
          "2025-04-22T00:00:00.000000000",
          "2025-04-29T00:00:00.000000000",
          "2025-05-06T00:00:00.000000000",
          "2025-05-13T00:00:00.000000000",
          "2025-05-20T00:00:00.000000000",
          "2025-05-27T00:00:00.000000000",
          "2025-06-03T00:00:00.000000000",
          "2025-06-10T00:00:00.000000000",
          "2025-06-17T00:00:00.000000000",
          "2025-06-24T00:00:00.000000000",
          "2025-07-01T00:00:00.000000000",
          "2025-07-08T00:00:00.000000000",
          "2025-07-15T00:00:00.000000000"
         ],
         "xaxis": "x3",
         "y": {
          "bdata": "wf0LANMoDADlHAwAE+sKAOz8CQBoCgoANeoKAPUuCwARjwoAfqoJAOXBCAAGWggAJJAHADJTBwDteQcAZoYHAFCkBwBnewcAY5QHAE0PCADO7AcAYUIHAA1CBwBbeAcAhR4IANyRCABovQgAT9oIAAI0CQBlIgkArZIIAIFxCAAKTQgAomEIAHhbCACRgQgAbdUIAIXJCADclAgAI3oIAO1wCAAxlwgABI8IAAZQCAB5WggA3YEIAPV4CAC6NQgAkGIIAN5lCACBjggAfn0IADiuCAASeggAkkIIAC4oCABL7wcAdbsHAOisBwBlVwcAQCAHAA87BwAzRQcAUWgHAHkhBwD5EQcAvQcHALoyBwDZOAcARS0HAAWcBwDa8AcA1MgHAO52BwBSgQcAf1MHADTtBgDw6gYAkxsHALaQBwAYfAcA26EHAB9pBwAwSAcAbWgHAJ+zBwDpvAcAlLsHAPS5BwDdhAcAan0HAM1hBwAeZAcAVmoHAGLHBwDgvgcAkbYIAARZCQDPiggAnB0IAGueBwCdrwcAbqQHAPDDBwC9qwcA1FYIAEQ6CACuuggAA90HAErTBwA1hggAoFQJALBkCQAmvgkAhWwJAAc8CQA5xAgAGo4IAGfQCADixggA2YIIADmNCAA3uAgA7HoIALIWCAC61gcAMooHADCXBwA0ogcAbZUHACKaBwAdRwgA8gEIAFtwBwCBAwcApOsGAEjtBgAi/AYAnQEHAPQbBwA6EwcAkykHAGX5BgBJqwYAI5UGAA2iBgCI9QYATCEHABd0BwBDjgcABtwGAP2dBgDUcAYAMKsGAK2pBgDotgYAcdsGAO9YBwAqgQcA16AHAFoyBwDLtQYAhIAGAPhyBgCKgwYA6v4GADgBBwByKwcAk00HALBFBwCXRQcAzlsHAHk4BwDsiAcAJ+sHAGj2BwBoTwcA69sGAE2oBgACmwYAFa8GAPWWBgA/1gYAYl8HADhbBwAQRAcAV7QGAO+GBgDLnQYAn5AGALbBBgCQsQYAhbsGAD6vBgCkpQYAepQGABOpBgAdtQYAdBIHAKBCBwD7YwcA6mwHAA3CBwA6twcALXAHALMrBwCzVwcAT38HAIyiBwB5eQcAdncHANAbBwD4kAYAMWUGAMxrBgAXNgYAO0YGAEAyBwDZ3wcAByoIAFqvBwBNoQcAfrUHAEnkBwCZ4AcAb+4HAKsVCADI+gcAnxgIADZoBwAA1AYAeaoGALnHBgBe5gYASvAGAOTgBwAW2QgAkrsIAMLLBwCFVQcAELgHAIMhCAAf9gcAoMwHAA3OBwAbNAgAoJ0IAHMiCAB88AcAMEIIAEDBCACM1wgA0oMIAK0tCACorAcAVDYHANgMBwASYAcAix4HAPbvBgBY/wYAc0cHAIMICAD7twgA4c8IADRFCABPEQgAWvgHALPQBwA2dwcALM0HAD4kCAD6zQcAOpwHABzMBgC09wYAxxkHABzlBgA+5wYACroGAADWBgAirQYAxVgGAHddBgB+uwYADqMGAJ6tBgAIwwYAE9gGAA==",
          "dtype": "i4"
         },
         "yaxis": "y3"
        }
       ],
       "layout": {
        "annotations": [
         {
          "font": {
           "size": 16
          },
          "showarrow": false,
          "text": "COT Index",
          "x": 0.5,
          "xanchor": "center",
          "xref": "paper",
          "y": 1,
          "yanchor": "bottom",
          "yref": "paper"
         },
         {
          "font": {
           "size": 16
          },
          "showarrow": false,
          "text": "Net positions",
          "x": 0.5,
          "xanchor": "center",
          "xref": "paper",
          "y": 0.6333333333333333,
          "yanchor": "bottom",
          "yref": "paper"
         },
         {
          "font": {
           "size": 16
          },
          "showarrow": false,
          "text": "OI",
          "x": 0.5,
          "xanchor": "center",
          "xref": "paper",
          "y": 0.26666666666666666,
          "yanchor": "bottom",
          "yref": "paper"
         }
        ],
        "height": 900,
        "hovermode": "x unified",
        "shapes": [
         {
          "fillcolor": "green",
          "layer": "below",
          "line": {
           "width": 0
          },
          "opacity": 0.2,
          "type": "rect",
          "x0": 0,
          "x1": 1,
          "xref": "paper",
          "y0": 80,
          "y1": 100,
          "yref": "y"
         },
         {
          "fillcolor": "red",
          "layer": "below",
          "line": {
           "width": 0
          },
          "opacity": 0.2,
          "type": "rect",
          "x0": 0,
          "x1": 1,
          "xref": "paper",
          "y0": 0,
          "y1": 20,
          "yref": "y"
         }
        ],
        "template": {
         "data": {
          "bar": [
           {
            "error_x": {
             "color": "#f2f5fa"
            },
            "error_y": {
             "color": "#f2f5fa"
            },
            "marker": {
             "line": {
              "color": "rgb(17,17,17)",
              "width": 0.5
             },
             "pattern": {
              "fillmode": "overlay",
              "size": 10,
              "solidity": 0.2
             }
            },
            "type": "bar"
           }
          ],
          "barpolar": [
           {
            "marker": {
             "line": {
              "color": "rgb(17,17,17)",
              "width": 0.5
             },
             "pattern": {
              "fillmode": "overlay",
              "size": 10,
              "solidity": 0.2
             }
            },
            "type": "barpolar"
           }
          ],
          "carpet": [
           {
            "aaxis": {
             "endlinecolor": "#A2B1C6",
             "gridcolor": "#506784",
             "linecolor": "#506784",
             "minorgridcolor": "#506784",
             "startlinecolor": "#A2B1C6"
            },
            "baxis": {
             "endlinecolor": "#A2B1C6",
             "gridcolor": "#506784",
             "linecolor": "#506784",
             "minorgridcolor": "#506784",
             "startlinecolor": "#A2B1C6"
            },
            "type": "carpet"
           }
          ],
          "choropleth": [
           {
            "colorbar": {
             "outlinewidth": 0,
             "ticks": ""
            },
            "type": "choropleth"
           }
          ],
          "contour": [
           {
            "colorbar": {
             "outlinewidth": 0,
             "ticks": ""
            },
            "colorscale": [
             [
              0,
              "#0d0887"
             ],
             [
              0.1111111111111111,
              "#46039f"
             ],
             [
              0.2222222222222222,
              "#7201a8"
             ],
             [
              0.3333333333333333,
              "#9c179e"
             ],
             [
              0.4444444444444444,
              "#bd3786"
             ],
             [
              0.5555555555555556,
              "#d8576b"
             ],
             [
              0.6666666666666666,
              "#ed7953"
             ],
             [
              0.7777777777777778,
              "#fb9f3a"
             ],
             [
              0.8888888888888888,
              "#fdca26"
             ],
             [
              1,
              "#f0f921"
             ]
            ],
            "type": "contour"
           }
          ],
          "contourcarpet": [
           {
            "colorbar": {
             "outlinewidth": 0,
             "ticks": ""
            },
            "type": "contourcarpet"
           }
          ],
          "heatmap": [
           {
            "colorbar": {
             "outlinewidth": 0,
             "ticks": ""
            },
            "colorscale": [
             [
              0,
              "#0d0887"
             ],
             [
              0.1111111111111111,
              "#46039f"
             ],
             [
              0.2222222222222222,
              "#7201a8"
             ],
             [
              0.3333333333333333,
              "#9c179e"
             ],
             [
              0.4444444444444444,
              "#bd3786"
             ],
             [
              0.5555555555555556,
              "#d8576b"
             ],
             [
              0.6666666666666666,
              "#ed7953"
             ],
             [
              0.7777777777777778,
              "#fb9f3a"
             ],
             [
              0.8888888888888888,
              "#fdca26"
             ],
             [
              1,
              "#f0f921"
             ]
            ],
            "type": "heatmap"
           }
          ],
          "histogram": [
           {
            "marker": {
             "pattern": {
              "fillmode": "overlay",
              "size": 10,
              "solidity": 0.2
             }
            },
            "type": "histogram"
           }
          ],
          "histogram2d": [
           {
            "colorbar": {
             "outlinewidth": 0,
             "ticks": ""
            },
            "colorscale": [
             [
              0,
              "#0d0887"
             ],
             [
              0.1111111111111111,
              "#46039f"
             ],
             [
              0.2222222222222222,
              "#7201a8"
             ],
             [
              0.3333333333333333,
              "#9c179e"
             ],
             [
              0.4444444444444444,
              "#bd3786"
             ],
             [
              0.5555555555555556,
              "#d8576b"
             ],
             [
              0.6666666666666666,
              "#ed7953"
             ],
             [
              0.7777777777777778,
              "#fb9f3a"
             ],
             [
              0.8888888888888888,
              "#fdca26"
             ],
             [
              1,
              "#f0f921"
             ]
            ],
            "type": "histogram2d"
           }
          ],
          "histogram2dcontour": [
           {
            "colorbar": {
             "outlinewidth": 0,
             "ticks": ""
            },
            "colorscale": [
             [
              0,
              "#0d0887"
             ],
             [
              0.1111111111111111,
              "#46039f"
             ],
             [
              0.2222222222222222,
              "#7201a8"
             ],
             [
              0.3333333333333333,
              "#9c179e"
             ],
             [
              0.4444444444444444,
              "#bd3786"
             ],
             [
              0.5555555555555556,
              "#d8576b"
             ],
             [
              0.6666666666666666,
              "#ed7953"
             ],
             [
              0.7777777777777778,
              "#fb9f3a"
             ],
             [
              0.8888888888888888,
              "#fdca26"
             ],
             [
              1,
              "#f0f921"
             ]
            ],
            "type": "histogram2dcontour"
           }
          ],
          "mesh3d": [
           {
            "colorbar": {
             "outlinewidth": 0,
             "ticks": ""
            },
            "type": "mesh3d"
           }
          ],
          "parcoords": [
           {
            "line": {
             "colorbar": {
              "outlinewidth": 0,
              "ticks": ""
             }
            },
            "type": "parcoords"
           }
          ],
          "pie": [
           {
            "automargin": true,
            "type": "pie"
           }
          ],
          "scatter": [
           {
            "marker": {
             "line": {
              "color": "#283442"
             }
            },
            "type": "scatter"
           }
          ],
          "scatter3d": [
           {
            "line": {
             "colorbar": {
              "outlinewidth": 0,
              "ticks": ""
             }
            },
            "marker": {
             "colorbar": {
              "outlinewidth": 0,
              "ticks": ""
             }
            },
            "type": "scatter3d"
           }
          ],
          "scattercarpet": [
           {
            "marker": {
             "colorbar": {
              "outlinewidth": 0,
              "ticks": ""
             }
            },
            "type": "scattercarpet"
           }
          ],
          "scattergeo": [
           {
            "marker": {
             "colorbar": {
              "outlinewidth": 0,
              "ticks": ""
             }
            },
            "type": "scattergeo"
           }
          ],
          "scattergl": [
           {
            "marker": {
             "line": {
              "color": "#283442"
             }
            },
            "type": "scattergl"
           }
          ],
          "scattermap": [
           {
            "marker": {
             "colorbar": {
              "outlinewidth": 0,
              "ticks": ""
             }
            },
            "type": "scattermap"
           }
          ],
          "scattermapbox": [
           {
            "marker": {
             "colorbar": {
              "outlinewidth": 0,
              "ticks": ""
             }
            },
            "type": "scattermapbox"
           }
          ],
          "scatterpolar": [
           {
            "marker": {
             "colorbar": {
              "outlinewidth": 0,
              "ticks": ""
             }
            },
            "type": "scatterpolar"
           }
          ],
          "scatterpolargl": [
           {
            "marker": {
             "colorbar": {
              "outlinewidth": 0,
              "ticks": ""
             }
            },
            "type": "scatterpolargl"
           }
          ],
          "scatterternary": [
           {
            "marker": {
             "colorbar": {
              "outlinewidth": 0,
              "ticks": ""
             }
            },
            "type": "scatterternary"
           }
          ],
          "surface": [
           {
            "colorbar": {
             "outlinewidth": 0,
             "ticks": ""
            },
            "colorscale": [
             [
              0,
              "#0d0887"
             ],
             [
              0.1111111111111111,
              "#46039f"
             ],
             [
              0.2222222222222222,
              "#7201a8"
             ],
             [
              0.3333333333333333,
              "#9c179e"
             ],
             [
              0.4444444444444444,
              "#bd3786"
             ],
             [
              0.5555555555555556,
              "#d8576b"
             ],
             [
              0.6666666666666666,
              "#ed7953"
             ],
             [
              0.7777777777777778,
              "#fb9f3a"
             ],
             [
              0.8888888888888888,
              "#fdca26"
             ],
             [
              1,
              "#f0f921"
             ]
            ],
            "type": "surface"
           }
          ],
          "table": [
           {
            "cells": {
             "fill": {
              "color": "#506784"
             },
             "line": {
              "color": "rgb(17,17,17)"
             }
            },
            "header": {
             "fill": {
              "color": "#2a3f5f"
             },
             "line": {
              "color": "rgb(17,17,17)"
             }
            },
            "type": "table"
           }
          ]
         },
         "layout": {
          "annotationdefaults": {
           "arrowcolor": "#f2f5fa",
           "arrowhead": 0,
           "arrowwidth": 1
          },
          "autotypenumbers": "strict",
          "coloraxis": {
           "colorbar": {
            "outlinewidth": 0,
            "ticks": ""
           }
          },
          "colorscale": {
           "diverging": [
            [
             0,
             "#8e0152"
            ],
            [
             0.1,
             "#c51b7d"
            ],
            [
             0.2,
             "#de77ae"
            ],
            [
             0.3,
             "#f1b6da"
            ],
            [
             0.4,
             "#fde0ef"
            ],
            [
             0.5,
             "#f7f7f7"
            ],
            [
             0.6,
             "#e6f5d0"
            ],
            [
             0.7,
             "#b8e186"
            ],
            [
             0.8,
             "#7fbc41"
            ],
            [
             0.9,
             "#4d9221"
            ],
            [
             1,
             "#276419"
            ]
           ],
           "sequential": [
            [
             0,
             "#0d0887"
            ],
            [
             0.1111111111111111,
             "#46039f"
            ],
            [
             0.2222222222222222,
             "#7201a8"
            ],
            [
             0.3333333333333333,
             "#9c179e"
            ],
            [
             0.4444444444444444,
             "#bd3786"
            ],
            [
             0.5555555555555556,
             "#d8576b"
            ],
            [
             0.6666666666666666,
             "#ed7953"
            ],
            [
             0.7777777777777778,
             "#fb9f3a"
            ],
            [
             0.8888888888888888,
             "#fdca26"
            ],
            [
             1,
             "#f0f921"
            ]
           ],
           "sequentialminus": [
            [
             0,
             "#0d0887"
            ],
            [
             0.1111111111111111,
             "#46039f"
            ],
            [
             0.2222222222222222,
             "#7201a8"
            ],
            [
             0.3333333333333333,
             "#9c179e"
            ],
            [
             0.4444444444444444,
             "#bd3786"
            ],
            [
             0.5555555555555556,
             "#d8576b"
            ],
            [
             0.6666666666666666,
             "#ed7953"
            ],
            [
             0.7777777777777778,
             "#fb9f3a"
            ],
            [
             0.8888888888888888,
             "#fdca26"
            ],
            [
             1,
             "#f0f921"
            ]
           ]
          },
          "colorway": [
           "#636efa",
           "#EF553B",
           "#00cc96",
           "#ab63fa",
           "#FFA15A",
           "#19d3f3",
           "#FF6692",
           "#B6E880",
           "#FF97FF",
           "#FECB52"
          ],
          "font": {
           "color": "#f2f5fa"
          },
          "geo": {
           "bgcolor": "rgb(17,17,17)",
           "lakecolor": "rgb(17,17,17)",
           "landcolor": "rgb(17,17,17)",
           "showlakes": true,
           "showland": true,
           "subunitcolor": "#506784"
          },
          "hoverlabel": {
           "align": "left"
          },
          "hovermode": "closest",
          "mapbox": {
           "style": "dark"
          },
          "paper_bgcolor": "rgb(17,17,17)",
          "plot_bgcolor": "rgb(17,17,17)",
          "polar": {
           "angularaxis": {
            "gridcolor": "#506784",
            "linecolor": "#506784",
            "ticks": ""
           },
           "bgcolor": "rgb(17,17,17)",
           "radialaxis": {
            "gridcolor": "#506784",
            "linecolor": "#506784",
            "ticks": ""
           }
          },
          "scene": {
           "xaxis": {
            "backgroundcolor": "rgb(17,17,17)",
            "gridcolor": "#506784",
            "gridwidth": 2,
            "linecolor": "#506784",
            "showbackground": true,
            "ticks": "",
            "zerolinecolor": "#C8D4E3"
           },
           "yaxis": {
            "backgroundcolor": "rgb(17,17,17)",
            "gridcolor": "#506784",
            "gridwidth": 2,
            "linecolor": "#506784",
            "showbackground": true,
            "ticks": "",
            "zerolinecolor": "#C8D4E3"
           },
           "zaxis": {
            "backgroundcolor": "rgb(17,17,17)",
            "gridcolor": "#506784",
            "gridwidth": 2,
            "linecolor": "#506784",
            "showbackground": true,
            "ticks": "",
            "zerolinecolor": "#C8D4E3"
           }
          },
          "shapedefaults": {
           "line": {
            "color": "#f2f5fa"
           }
          },
          "sliderdefaults": {
           "bgcolor": "#C8D4E3",
           "bordercolor": "rgb(17,17,17)",
           "borderwidth": 1,
           "tickwidth": 0
          },
          "ternary": {
           "aaxis": {
            "gridcolor": "#506784",
            "linecolor": "#506784",
            "ticks": ""
           },
           "baxis": {
            "gridcolor": "#506784",
            "linecolor": "#506784",
            "ticks": ""
           },
           "bgcolor": "rgb(17,17,17)",
           "caxis": {
            "gridcolor": "#506784",
            "linecolor": "#506784",
            "ticks": ""
           }
          },
          "title": {
           "x": 0.05
          },
          "updatemenudefaults": {
           "bgcolor": "#506784",
           "borderwidth": 0
          },
          "xaxis": {
           "automargin": true,
           "gridcolor": "#283442",
           "linecolor": "#506784",
           "ticks": "",
           "title": {
            "standoff": 15
           },
           "zerolinecolor": "#283442",
           "zerolinewidth": 2
          },
          "yaxis": {
           "automargin": true,
           "gridcolor": "#283442",
           "linecolor": "#506784",
           "ticks": "",
           "title": {
            "standoff": 15
           },
           "zerolinecolor": "#283442",
           "zerolinewidth": 2
          }
         }
        },
        "title": {
         "text": "Multiple Time Series with Shared X-Axis"
        },
        "width": 1450,
        "xaxis": {
         "anchor": "y",
         "domain": [
          0,
          1
         ],
         "matches": "x3",
         "showticklabels": false
        },
        "xaxis2": {
         "anchor": "y2",
         "domain": [
          0,
          1
         ],
         "matches": "x3",
         "showticklabels": false
        },
        "xaxis3": {
         "anchor": "y3",
         "domain": [
          0,
          1
         ],
         "title": {
          "text": "Date"
         }
        },
        "yaxis": {
         "anchor": "x",
         "domain": [
          0.7333333333333334,
          1
         ],
         "title": {
          "text": "CONTRACT"
         }
        },
        "yaxis2": {
         "anchor": "x2",
         "domain": [
          0.3666666666666667,
          0.6333333333333333
         ],
         "title": {
          "text": "CONTRACT"
         }
        },
        "yaxis3": {
         "anchor": "x3",
         "domain": [
          0,
          0.26666666666666666
         ],
         "title": {
          "text": "CONTRACT"
         }
        }
       }
      }
     },
     "metadata": {},
     "output_type": "display_data"
    }
   ],
   "source": [
    "import plotly.graph_objects as go\n",
    "from plotly.subplots import make_subplots\n",
    "\n",
    "# Create subplots: 1 column, 3 rows, shared X-axis\n",
    "fig = make_subplots(rows=3, cols=1, shared_xaxes=True, vertical_spacing= 0.1, subplot_titles=('COT Index', 'Net positions', 'OI'))\n",
    "\n",
    "# Add each series to its own subplot\n",
    "fig.add_trace(go.Scatter(x=asset_df.index, y=commercials_df['Index'], name='COT Index'), row=1, col=1)\n",
    "for col in net_positions_df.columns:\n",
    "    fig.add_trace(go.Scatter(x=asset_df.index, y=net_positions_df[col], name=col), row=2, col=1)\n",
    "fig.add_trace(go.Scatter(x=asset_df.index, y=oi_df['OI'], name='OI'), row=3, col=1)\n",
    "\n",
    "fig.add_shape(\n",
    "    type='rect',\n",
    "    xref='paper',  # spans the full width of the plot\n",
    "    yref='y1',  # y-axis of subplot in row 1\n",
    "    x0=0,\n",
    "    x1=1,\n",
    "    y0=80,              # Adjust based on your y-axis range\n",
    "    y1=100,\n",
    "    fillcolor='green',\n",
    "    opacity=0.2,\n",
    "    line_width=0,\n",
    "    layer='below'\n",
    ")\n",
    "\n",
    "fig.add_shape(\n",
    "    type='rect',\n",
    "    xref='paper',  # spans the full width of the plot\n",
    "    yref='y1',  # y-axis of subplot in row 1\n",
    "    x0=0,\n",
    "    x1=1,\n",
    "    y0=0,              # Adjust based on your y-axis range\n",
    "    y1=20,\n",
    "    fillcolor='red',\n",
    "    opacity=0.2,\n",
    "    line_width=0,\n",
    "    layer='below'\n",
    ")\n",
    "\n",
    "\n",
    "# Update layout\n",
    "fig.update_layout(\n",
    "    height=900,\n",
    "    width=1450,\n",
    "    title_text='Multiple Time Series with Shared X-Axis',\n",
    "    template='plotly_dark',\n",
    "    hovermode='x unified',  # or 'x unified' or 'closest'\n",
    ")\n",
    "fig.update_xaxes(title_text='Date', row=3, col=1)  # Only show x-axis label on bottom chart\n",
    "fig.update_yaxes(title_text='CONTRACT')\n",
    "\n",
    "# Save as responsive HTML\n",
    "fig.write_html(\"plots/cot_analysis.html\", auto_open=False, full_html=True, include_plotlyjs='cdn', config={'responsive': True})\n",
    "fig.show()"
   ]
  }
 ],
 "metadata": {
  "kernelspec": {
   "display_name": "venv",
   "language": "python",
   "name": "python3"
  },
  "language_info": {
   "codemirror_mode": {
    "name": "ipython",
    "version": 3
   },
   "file_extension": ".py",
   "mimetype": "text/x-python",
   "name": "python",
   "nbconvert_exporter": "python",
   "pygments_lexer": "ipython3",
   "version": "3.10.12"
  }
 },
 "nbformat": 4,
 "nbformat_minor": 5
}
