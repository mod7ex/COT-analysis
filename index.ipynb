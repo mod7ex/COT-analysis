{
 "cells": [
  {
   "cell_type": "code",
   "execution_count": null,
   "id": "a003575d",
   "metadata": {},
   "outputs": [],
   "source": [
    "import pandas as pd\n",
    "from index import cot_all"
   ]
  },
  {
   "cell_type": "code",
   "execution_count": null,
   "id": "e416a14a",
   "metadata": {},
   "outputs": [],
   "source": [
    "df = cot_all()"
   ]
  },
  {
   "cell_type": "markdown",
   "id": "b76602fe",
   "metadata": {},
   "source": [
    "> pick the asset you want"
   ]
  },
  {
   "cell_type": "code",
   "execution_count": null,
   "id": "51675da5",
   "metadata": {},
   "outputs": [],
   "source": [
    "ASSET_CODE = '088691'\n",
    "\n",
    "# df[(df['Open Interest (Other)']!= 0) & (df['CFTC Contract Market Code'] == ASSET_CODE)]\n",
    "\n",
    "df = df[df['CFTC Contract Market Code'] == ASSET_CODE]"
   ]
  },
  {
   "cell_type": "code",
   "execution_count": null,
   "id": "620834c3",
   "metadata": {},
   "outputs": [],
   "source": [
    "df = df.rename(columns={'As of Date in Form YYYY-MM-DD': 'Date'})\n",
    "\n",
    "df['Date'] = pd.to_datetime(df['Date'])\n",
    "\n",
    "df.set_index('Date', inplace=True)\n",
    "\n",
    "df.sort_index(inplace=True)\n",
    "\n",
    "df.head()"
   ]
  },
  {
   "cell_type": "markdown",
   "id": "80de0677",
   "metadata": {},
   "source": [
    "## Net Positions"
   ]
  },
  {
   "cell_type": "markdown",
   "id": "53c63bb3",
   "metadata": {},
   "source": [
    "---\n",
    "\n",
    "> Commercial (Long) = Producer/Merchant/Processor/User(Long) + Swap Dealers(Long) + Swap Dealers(Spreading)\n",
    "\n",
    "> Commercial (Short) = Producer/Merchant/Processor/User(Short) + Swap Dealers(Short) + Swap Dealers(Spreading)\n",
    "\n",
    "> Non-Commercial (Long) = Managed Money(Long) + Other Reportables(Long) \n",
    "\n",
    "> Non-Commercial (Short) = Managed Money(Short) + Other Reportables(Short) \n",
    "\n",
    "> Non-Commercial (Spreading) = Managed Money(Spreading) + Other Reportables(Spreading) "
   ]
  },
  {
   "cell_type": "code",
   "execution_count": null,
   "id": "6e3287ef",
   "metadata": {},
   "outputs": [],
   "source": [
    "df['Commercial_Net_Position'] = df['Commercial Positions-Long (All)'] - df['Commercial Positions-Short (All)']\n",
    "df['Large_Speculators_Net_Position'] = df['Noncommercial Positions-Long (All)'] - df['Noncommercial Positions-Short (All)']\n",
    "df['Small_Traders_Net_Position'] = df['Nonreportable Positions-Long (All)'] - df['Nonreportable Positions-Short (All)']\n",
    "\n",
    "df[['Commercial_Net_Position', 'Large_Speculators_Net_Position', 'Small_Traders_Net_Position']].head()"
   ]
  },
  {
   "cell_type": "markdown",
   "id": "3618a300",
   "metadata": {},
   "source": [
    "## COT Index"
   ]
  },
  {
   "cell_type": "markdown",
   "id": "940b68cb",
   "metadata": {},
   "source": [
    "The Commitments of Traders (COT) Index is calculated as:\n",
    "\n",
    "$$\n",
    "\\text{COT Index} = \\left( \\frac{P_{\\text{current}} - P_{\\min}}{P_{\\max} - P_{\\min}} \\right) \\times 100\n",
    "$$\n",
    "\n",
    "Where:\n",
    "\n",
    "$ P_{\\text{current}} $: Current Net Position <br>\n",
    "$ P_{\\min} $: Lowest Net Position in the past  N  period <br>\n",
    "$ P_{\\max} $: Highest Net Position in the past  N  periods <br>\n",
    "$ N $: Number of periods used in the lookback window\n",
    "\n",
    "\n",
    "| Strategy                         | Recommended COT Index Period (N) | Notes                                                           |\n",
    "| -------------------------------- | -------------------------------- | --------------------------------------------------------------- |\n",
    "| **Swing Trading**                | **26 weeks** (6 months)          | Most popular. Balances short-term moves and sentiment extremes. |\n",
    "| **Position Trading / Long-Term** | **52 weeks** (1 year)            | Captures major sentiment extremes and long-term reversals.      |\n",
    "| **Short-Term Trading**           | **13 weeks** (3 months)          | More sensitive to recent changes, but can be noisy.             |\n",
    "| **Contrarian Approach**          | Use 26–52 weeks                  | To spot positioning at sentiment extremes (close to 0 or 100).  |"
   ]
  },
  {
   "cell_type": "code",
   "execution_count": null,
   "id": "52e7f441",
   "metadata": {},
   "outputs": [],
   "source": [
    "window = 26 # Rolling window for the last N weeks\n",
    "\n",
    "df['Max_Net_Position_Last_N'] = df['Commercial_Net_Position'].rolling(window=window).max()\n",
    "\n",
    "df['Min_Net_Position_Last_N'] = df['Commercial_Net_Position'].rolling(window=window).min()\n",
    "\n",
    "# df.dropna(inplace=True)\n",
    "\n",
    "df['COT_Index'] = 100 * (df['Commercial_Net_Position'] - df['Min_Net_Position_Last_N'])/(df['Max_Net_Position_Last_N'] - df['Min_Net_Position_Last_N'])\n",
    "\n",
    "df[['Commercial_Net_Position', 'Large_Speculators_Net_Position', 'Small_Traders_Net_Position', 'COT_Index']].tail()"
   ]
  },
  {
   "cell_type": "markdown",
   "id": "d31be841",
   "metadata": {},
   "source": [
    "## Filter by time"
   ]
  },
  {
   "cell_type": "code",
   "execution_count": null,
   "id": "4bddd284",
   "metadata": {},
   "outputs": [],
   "source": [
    "df = df[['Commercial_Net_Position', 'Large_Speculators_Net_Position', 'Small_Traders_Net_Position', 'COT_Index', 'Open Interest (All)']]\n",
    "df = df.rename(columns={'Open Interest (All)': 'OI'})\n",
    "df = df[df.index > '2020']\n",
    "\n",
    "df.head()"
   ]
  },
  {
   "cell_type": "markdown",
   "id": "d117c587",
   "metadata": {},
   "source": [
    "## Plotting"
   ]
  },
  {
   "cell_type": "markdown",
   "id": "0b379280",
   "metadata": {},
   "source": [
    "### COT index"
   ]
  },
  {
   "cell_type": "code",
   "execution_count": null,
   "id": "2a890404",
   "metadata": {},
   "outputs": [],
   "source": [
    "import plotly.express as px\n",
    "\n",
    "fig = px.line(df.reset_index(), x='Date', y='COT_Index', title='COT index', markers=True, template='plotly_dark')\n",
    "\n",
    "# Add green shaded area (e.g. for high index range)\n",
    "fig.add_shape(\n",
    "    type='rect',\n",
    "    xref='paper',  # entire x-axis\n",
    "    yref='y',\n",
    "    x0=0,\n",
    "    x1=1,\n",
    "    y0=80,\n",
    "    y1=100,\n",
    "    fillcolor='green',\n",
    "    opacity=0.2,\n",
    "    line_width=0,\n",
    "    layer='below'\n",
    ")\n",
    "\n",
    "# Add red shaded area (e.g. for low index range)\n",
    "fig.add_shape(\n",
    "    type='rect',\n",
    "    xref='paper',\n",
    "    yref='y',\n",
    "    x0=0,\n",
    "    x1=1,\n",
    "    y0=0,\n",
    "    y1=20,\n",
    "    fillcolor='red',\n",
    "    opacity=0.2,\n",
    "    line_width=0,\n",
    "    layer='below'\n",
    ")\n",
    "\n",
    "fig.write_html(\"plots/cot_index.html\")\n",
    "\n",
    "fig.show()\n"
   ]
  },
  {
   "cell_type": "markdown",
   "id": "ad5b7225",
   "metadata": {},
   "source": [
    "### Open Interest"
   ]
  },
  {
   "cell_type": "code",
   "execution_count": null,
   "id": "04457523",
   "metadata": {},
   "outputs": [],
   "source": [
    "import plotly.express as px\n",
    "\n",
    "fig = px.line(df.reset_index(), x='Date', y='OI', title='Open Interest', markers=True, template='plotly_dark')\n",
    "\n",
    "fig.write_html(\"plots/open_interest.html\")\n",
    "\n",
    "fig.show()"
   ]
  },
  {
   "cell_type": "markdown",
   "id": "93045a2e",
   "metadata": {},
   "source": [
    "### Net positions"
   ]
  },
  {
   "cell_type": "code",
   "execution_count": null,
   "id": "a6c2bf67",
   "metadata": {},
   "outputs": [],
   "source": [
    "import plotly.graph_objects as go\n",
    "\n",
    "fig = go.Figure()\n",
    "\n",
    "for col in ['Commercial_Net_Position', 'Large_Speculators_Net_Position', 'Small_Traders_Net_Position']:\n",
    "    fig.add_trace(go.Scatter(x=df.index, y=df[col], mode='lines', name=col.replace('_Net_Position', '').replace('_', ' ').title(), line=dict(width=2)))\n",
    "\n",
    "fig.update_layout(\n",
    "        title='Net positions',\n",
    "        xaxis_title='Date',\n",
    "        yaxis_title='Contratcs',\n",
    "        template='plotly_dark',\n",
    "        height=600,\n",
    "        width=1500,\n",
    "    )\n",
    "\n",
    "fig.write_html(\"plots/net_positions.html\")\n",
    "fig.show()"
   ]
  },
  {
   "cell_type": "markdown",
   "id": "962e6a11",
   "metadata": {},
   "source": [
    "### Plotting all charts\n"
   ]
  },
  {
   "cell_type": "code",
   "execution_count": null,
   "id": "00aabca4",
   "metadata": {},
   "outputs": [],
   "source": [
    "import plotly.graph_objects as go\n",
    "from plotly.subplots import make_subplots\n",
    "\n",
    "# Create subplots: 1 column, 3 rows, shared X-axis\n",
    "fig = make_subplots(rows=3, cols=1, shared_xaxes=True, vertical_spacing= 0.1, subplot_titles=('COT Index', 'Net positions', 'OI'))\n",
    "\n",
    "# Add each series to its own subplot\n",
    "fig.add_trace(go.Scatter(x=df.index, y=df['COT_Index'], name='COT Index'), row=1, col=1)\n",
    "for col in ['Commercial_Net_Position', 'Large_Speculators_Net_Position', 'Small_Traders_Net_Position']:\n",
    "    fig.add_trace(go.Scatter(x=df.index, y=df[col], name=col.replace('_Net_Position', '').replace('_', ' ').title(), line=dict(width=2)), row=2, col=1)\n",
    "fig.add_trace(go.Scatter(x=df.index, y=df['OI'], name='OI'), row=3, col=1)\n",
    "\n",
    "fig.add_shape(\n",
    "    type='rect',\n",
    "    xref='paper',  # spans the full width of the plot\n",
    "    yref='y1',  # y-axis of subplot in row 1\n",
    "    x0=0,\n",
    "    x1=1,\n",
    "    y0=80,       # Adjust based on your y-axis range\n",
    "    y1=100,\n",
    "    fillcolor='green',\n",
    "    opacity=0.2,\n",
    "    line_width=0,\n",
    "    layer='below'\n",
    ")\n",
    "\n",
    "fig.add_shape(\n",
    "    type='rect',\n",
    "    xref='paper',  # spans the full width of the plot\n",
    "    yref='y1',  # y-axis of subplot in row 1\n",
    "    x0=0,\n",
    "    x1=1,\n",
    "    y0=0,              # Adjust based on your y-axis range\n",
    "    y1=20,\n",
    "    fillcolor='red',\n",
    "    opacity=0.2,\n",
    "    line_width=0,\n",
    "    layer='below'\n",
    ")\n",
    "\n",
    "\n",
    "# Update layout\n",
    "fig.update_layout(\n",
    "    height=900,\n",
    "    width=1450,\n",
    "    title_text='Multiple Time Series with Shared X-Axis',\n",
    "    template='plotly_dark',\n",
    "    hovermode='x unified',  # or 'x unified' or 'closest'\n",
    ")\n",
    "fig.update_xaxes(title_text='Date', row=3, col=1)  # Only show x-axis label on bottom chart\n",
    "fig.update_yaxes(title_text='CONTRACT')\n",
    "\n",
    "# Save as responsive HTML\n",
    "fig.write_html(\"plots/cot_analysis.html\", auto_open=False, full_html=True, include_plotlyjs='cdn', config={'responsive': True})\n",
    "fig.show()"
   ]
  }
 ],
 "metadata": {
  "kernelspec": {
   "display_name": "venv",
   "language": "python",
   "name": "python3"
  },
  "language_info": {
   "codemirror_mode": {
    "name": "ipython",
    "version": 3
   },
   "file_extension": ".py",
   "mimetype": "text/x-python",
   "name": "python",
   "nbconvert_exporter": "python",
   "pygments_lexer": "ipython3",
   "version": "3.10.12"
  }
 },
 "nbformat": 4,
 "nbformat_minor": 5
}
